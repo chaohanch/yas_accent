{
 "cells": [
  {
   "cell_type": "raw",
   "id": "3f225655-edbb-43ad-8b56-02e5ec968471",
   "metadata": {
    "jp-MarkdownHeadingCollapsed": true
   },
   "source": [
    "---\n",
    "title: \"Yas preprocessing pipeline\"\n",
    "\n",
    "date: today\n",
    "\n",
    "format:\n",
    "  html:\n",
    "    toc: true\n",
    "    #toc-depth: 3\n",
    "    toc-expand: true\n",
    "    smooth-scroll: true\n",
    "    # code-fold: true\n",
    "    # code-tools: toggle\n",
    "    number-sections: true\n",
    "    comments: \n",
    "      hypothesis:\n",
    "        theme: clean\n",
    "        openSidebar: false\n",
    "\n",
    "execute:\n",
    "  output: false  # hide output\n",
    "---"
   ]
  },
  {
   "cell_type": "markdown",
   "id": "9c3afc3e-0f6b-4f99-9f3f-e960dde23f15",
   "metadata": {},
   "source": [
    "# Libraries"
   ]
  },
  {
   "cell_type": "code",
   "execution_count": 1,
   "id": "1ed4a8be-77b5-48f4-9b5d-c12d80fa7d12",
   "metadata": {
    "tags": []
   },
   "outputs": [],
   "source": [
    "import os\n",
    "import mne\n",
    "import numpy as np\n",
    "import matplotlib.pyplot as plt\n",
    "import pickle\n",
    "import pandas as pd\n",
    "\n",
    "\n",
    "from scipy import signal\n",
    "from scipy.io import wavfile\n",
    "\n",
    "# from pybv import write_brainvision\n",
    "from pyprep.prep_pipeline import PrepPipeline\n",
    "from mne_icalabel import label_components\n",
    "\n",
    "# set working directory\n",
    "work_dir = '/Users/chaohan/Library/CloudStorage/OneDrive-UniversityofToronto/Projects/Yas accent/'"
   ]
  },
  {
   "cell_type": "markdown",
   "id": "80da15c4-f9e2-435d-87f4-68350e406dc0",
   "metadata": {},
   "source": [
    "# Trigger lag fix"
   ]
  },
  {
   "cell_type": "markdown",
   "id": "d44b4930-b435-4f35-aecd-f7b1ae27878a",
   "metadata": {},
   "source": [
    "## parameters"
   ]
  },
  {
   "cell_type": "code",
   "execution_count": 13,
   "id": "15b31d0f-0241-4db3-9d35-dfdd2046e946",
   "metadata": {
    "tags": []
   },
   "outputs": [],
   "source": [
    "# directory\n",
    "input_dir = work_dir + 'data_raw/'\n",
    "output_dir = work_dir + 'data_preprocessed/1_trigger_lag_fixed/'\n",
    "# create a folder if the folder doesn't exist\n",
    "os.makedirs(output_dir, exist_ok=True)\n",
    "\n",
    "# create a dictionary for blocks and markers\n",
    "block_dict = {\n",
    "    'ChEn':1000, # standard: chinese; deviant: english\n",
    "    'EnCh':2000, # standard: english; deviant: chinese\n",
    "    'InEn':3000, # standard: indian; deviant: english\n",
    "    'EnIn':4000, # standard: english, deviant: indian\n",
    "}\n",
    "\n",
    "\n",
    "# exclude participants with missing data\n",
    "exclude_ppts = [\n",
    "    '140', # no data\n",
    "    '197', # no data\n",
    "    \n",
    "    '135', # incomplete data\n",
    "    '179', # incomplete data\n",
    "    '182', # incomplete data\n",
    "\n",
    "    '141', # wrong experiment was run\n",
    "\n",
    "    '261', # no StimTrak recording\n",
    "\n",
    "    '115', # unknown\n",
    "]\n",
    "\n",
    "# trigger searching window (actual trigger time based on audio - trigger time in the data)\n",
    "t_left = -0.01\n",
    "t_right = 0.05"
   ]
  },
  {
   "cell_type": "code",
   "execution_count": 14,
   "id": "a26f775a-0c43-4a5b-a286-450a4737f815",
   "metadata": {
    "scrolled": true,
    "tags": []
   },
   "outputs": [],
   "source": [
    "#######################################################\n",
    "#### create a dictionary for trigger codes and descriptions ####\n",
    "df = pd.read_csv(\"mapping.txt\", delimiter='\\t')\n",
    "mapping = dict(zip(df['code'], df['description']))\n",
    "#######################################################\n",
    "\n",
    "#### create a trigger dictionary for each stim's standard version and deviant version ####\n",
    "\n",
    "# intialize a dictionary for triggers\n",
    "trigger_dict = {}\n",
    "\n",
    "# read in trigger_codes file\n",
    "with open('trigger_codes.txt','r') as tf:\n",
    "    for line in tf:\n",
    "        # read in the current line\n",
    "        line = line.replace('\\n','')\n",
    "        # separate fileNames and triggerMarker\n",
    "        label, marker = line.split('\\t')\n",
    "        # convert trigger markers to integer\n",
    "        marker = int(marker)\n",
    "        # create label for stims used as standards\n",
    "        trigger_dict[marker] = label + '-s'\n",
    "        # add 100 for deviant marker\n",
    "        marker_deviant = marker + 100\n",
    "        # create label for stims used as deviants\n",
    "        trigger_dict[marker_deviant] = label + '-d'\n",
    "\n",
    "\n",
    "\n",
    "#### trigger correction for each file ####\n",
    "\n",
    "# initialize a dictionary to save bad stims\n",
    "all_bad_stim_dict = {}\n",
    "\n",
    "# read in eeg data files\n",
    "all_files = os.listdir(input_dir)\n",
    "\n",
    "#### for each file, create an all_block dictionary to store each block and the indices of trials of that block  ####\n",
    "for file in all_files:\n",
    "    if file.endswith(\".vhdr\") and (file.split('.')[0]+ '_corr.fif' not in os.listdir(output_dir)):\n",
    "\n",
    "        # exclude bad data\n",
    "        if (file.split('.')[0].split('_')[1] not in exclude_ppts):\n",
    "            continue\n",
    "            \n",
    "        # read in vhdr files\n",
    "        raw = mne.io.read_raw_brainvision(input_dir + file, preload = True)\n",
    "\n",
    "        # extract sampling rate\n",
    "        eeg_sfreq = raw.info['sfreq']\n",
    "        \n",
    "        # If the aux channel is not named 'StimTrak', change the channel name to 'StimTrak'\n",
    "        if raw.info['ch_names'][31] != 'StimTrak':\n",
    "            # change the channel name\n",
    "            raw.rename_channels({raw.info['ch_names'][31]: 'StimTrak'})\n",
    "            # specify the audio channel\n",
    "            raw.set_channel_types({'StimTrak':'misc'})\n",
    "\n",
    "        ##########################################################################################\n",
    "        #### get trigger code, audio data, create a trigger dictionary for each stim's standard version and deviant version ####\n",
    "\n",
    "        # initialize dictionaries\n",
    "        audio = {}\n",
    "        lengths = {}\n",
    "        \n",
    "        # del trigger_dict[99999]\n",
    "        for marker,label in trigger_dict.items():\n",
    "            # extract file name\n",
    "            file_name = label[:7]\n",
    "            # if not already in audio dictionary, get the info of the audio file\n",
    "            if file_name not in audio:\n",
    "                # get sample rate and data of the audio file\n",
    "                sampleRate, data = wavfile.read(work_dir + 'experiment_program/stimuli/{}.wav'.format(file_name))\n",
    "                # calculate sound file length\n",
    "                lengths[file_name] = len(data)/sampleRate\n",
    "                # reduce the sampling rate of the audio file by the factor of int(sampleRate/eeg_freq)\n",
    "                data_downsampled = signal.decimate(data,int(sampleRate/eeg_sfreq), ftype='fir')\n",
    "                # add info the audio dictionary\n",
    "                audio[file_name] = data_downsampled\n",
    "\n",
    "        #### making events ####\n",
    "        # for each stimulus, mark the block info\n",
    "        events_from_annot, event_dict = mne.events_from_annotations(raw, verbose='WARNING')\n",
    "        # remove useless markers (New Segment: 99999, pause: 222, and continue: 223)\n",
    "        events_from_annot = events_from_annot[events_from_annot[:, 2] < 200]\n",
    "                \n",
    "        # initialize the train for each standards+deviant sequence\n",
    "        train = np.array([]).astype(int)\n",
    "        \n",
    "        all_block = {}\n",
    "        isStandard = True # whether the standard in a train has been noted\n",
    "            \n",
    "        # loop over each trigger\n",
    "        for i in range(events_from_annot.shape[0]):\n",
    "                \n",
    "            # add the current token to the train\n",
    "            train = np.append(train,i)\n",
    "\n",
    "            # trigger code\n",
    "            trigger_marker = events_from_annot[i,2]\n",
    "            \n",
    "            # if the trigger code is smaller than 100 and the standard note is true\n",
    "            if (trigger_marker<100) & isStandard:\n",
    "                # save the standard stim category\n",
    "                block = trigger_dict[trigger_marker][:2]\n",
    "                # toggle standard note\n",
    "                standard = False\n",
    "\n",
    "            # if the trigger value is over 100\n",
    "            elif trigger_marker>100:\n",
    "                # append the deviant stim category \n",
    "                block = block + trigger_dict[trigger_marker][:2]\n",
    "\n",
    "                # if the block is not present in all block\n",
    "                if block not in all_block:\n",
    "                    # add the new block and the token idx\n",
    "                    all_block[block] = train[2:] # [2:] to exclude the first 2 standards\n",
    "                else:\n",
    "                    # add the token idx to the existing block\n",
    "                    all_block[block] = np.concatenate([ all_block[block], train[2:] ], axis=None)\n",
    "\n",
    "                # reset train\n",
    "                train = np.array([]).astype(int)\n",
    "\n",
    "                # toggle standard note\n",
    "                isStandard = True\n",
    "        \n",
    "        # loop over each block and its trigger index\n",
    "        for k,v in all_block.items(): \n",
    "            # recode the trigger value to reflect block and stim category\n",
    "            events_from_annot[tuple(v),2] += block_dict[k]\n",
    "\n",
    "        # exclude the first 2 standards\n",
    "        events_from_annot = events_from_annot[events_from_annot[:,2]>1000]\n",
    "        ##########################################################################################\n",
    "        \n",
    "        ########################################################\n",
    "        #### calculate cross correction to detect the delay ####\n",
    "        \n",
    "        # initialize delay list\n",
    "        delays = np.array([])\n",
    "        # initialize bad stim list\n",
    "        bad_stim = []\n",
    "        corr_results = []\n",
    "        \n",
    "        # loop over each event\n",
    "        for i in range(events_from_annot.shape[0]):\n",
    "\n",
    "            # get current event info [time, duration, annotation]\n",
    "            event = events_from_annot[i]\n",
    "            # get the onset latency (s) of the event\n",
    "            time = event[0]/eeg_sfreq\n",
    "            # get the file name of the event\n",
    "            name = trigger_dict[event[2]%100].split('-')[0]\n",
    "            # get the data from the sound channel\n",
    "            audio_eeg = raw.get_data(\n",
    "                picks = ['StimTrak'],\n",
    "                tmin = time + t_left,\n",
    "                tmax = time + lengths[name] + t_right,\n",
    "            )[0]\n",
    "            # actual stimulus\n",
    "            audio_stim = audio[name]\n",
    "            \n",
    "            # Z-score normalization (subtract mean, divide by std)\n",
    "            audio_eeg = (audio_eeg - np.mean(audio_eeg)) / np.std(audio_eeg)\n",
    "            audio_stim = (audio_stim - np.mean(audio_stim)) / np.std(audio_stim)\n",
    "\n",
    "            # cross-correlation\n",
    "            corr = signal.correlate(audio_eeg, audio_stim, mode='full')\n",
    "            # Normalize cross-correlation\n",
    "            corr = corr / (np.linalg.norm(audio_eeg) * np.linalg.norm(audio_stim))\n",
    "            # Find peak correlation value\n",
    "            max_corr = np.max(corr)    \n",
    "            \n",
    "            # if the maximum correction (sum of products) is less than a threshold (empirical, but 0.5 is good for most cases)\n",
    "            if max_corr < 0.5:\n",
    "                # mark the stim bad\n",
    "                bad_stim.append(i)\n",
    "            \n",
    "            # append the maximum correlation\n",
    "            corr_results.append(max_corr)\n",
    "            \n",
    "            # the lags for cross-correlation\n",
    "            lags = signal.correlation_lags(\n",
    "                audio_eeg.size,\n",
    "                audio_stim.size,\n",
    "                mode=\"full\")\n",
    "            # get the lag of the maximum cross-correlation\n",
    "            lag = lags[np.argmax(corr)] + t_left*eeg_sfreq\n",
    "            \n",
    "            # save the lag for non-starting events\n",
    "            delays = np.append(delays, lag)\n",
    "        ########################################################\n",
    "\n",
    "        ##################################################################################################\n",
    "        #### plot the wave from the stim track and the eeg channel of the token with the minimum corr ####\n",
    "        \n",
    "        min_corr = np.argmin(corr_results)\n",
    "        # get current event info [time, duration, annotation]\n",
    "        event = events_from_annot[min_corr]\n",
    "        # get the onset latency (s) of the event\n",
    "        time = event[0]/eeg_sfreq\n",
    "        # get the file name of the event\n",
    "        name = trigger_dict[event[2]%100].split('-')[0]\n",
    "        # get the data from the sound channel\n",
    "        audio_eeg = raw.get_data(\n",
    "            picks = ['StimTrak'],\n",
    "            tmin = time + t_left,\n",
    "            tmax = time + lengths[name] + t_right,\n",
    "        )[0]\n",
    "        # actual stimulus\n",
    "        audio_stim = audio[name]\n",
    "        # Z-score normalization (subtract mean, divide by std)\n",
    "        audio_eeg = (audio_eeg - np.mean(audio_eeg)) / np.std(audio_eeg)\n",
    "        audio_stim = (audio_stim - np.mean(audio_stim)) / np.std(audio_stim)\n",
    "        # plot\n",
    "        fig, ax = plt.subplots()\n",
    "        ax.plot(audio_eeg, label = 'StimTrak', alpha = 0.6)\n",
    "        ax.plot(audio_stim, label = 'wave', alpha = 0.6)\n",
    "        ax.set_title(file)\n",
    "        ax.legend()\n",
    "        fig.savefig(output_dir + file.split('.')[0] + \"_minCor.png\", dpi=300, bbox_inches='tight')\n",
    "        ##################################################################################################\n",
    "\n",
    "                \n",
    "        ####################################################\n",
    "        #### correct for trigger lag and save log files ####\n",
    "\n",
    "        # add number of bad stim info\n",
    "        all_bad_stim_dict[file] = len(bad_stim)\n",
    "\n",
    "        # remove items associated with bad stims from the event list\n",
    "        events_from_annot = np.delete(events_from_annot, bad_stim, 0)\n",
    "        \n",
    "        # remove items associated with bad stims from the delay list\n",
    "        delays = np.delete(delays, bad_stim, 0)\n",
    "\n",
    "        # add delay back to the onset latency of each event\n",
    "        events_from_annot[:,0] = events_from_annot[:,0] + delays\n",
    "\n",
    "        # # convert individual event marker to conditions\n",
    "        # events_from_annot[:,2] = events_from_annot[:,2] - events_from_annot[:,2]%100\n",
    "\n",
    "        # create annotations\n",
    "        annot_from_events = mne.annotations_from_events(\n",
    "            events = events_from_annot,\n",
    "            event_desc = mapping,\n",
    "            sfreq = raw.info['sfreq']\n",
    "        )\n",
    "\n",
    "        # set annotations\n",
    "        raw.set_annotations(annot_from_events)\n",
    "        \n",
    "        # drop the audio channel in data\n",
    "        raw.drop_channels(['StimTrak'])\n",
    "        \n",
    "        # save as a file-into-file data\n",
    "        raw.save(output_dir + file.split('.')[0]+ '_corr.fif')\n",
    "        \n",
    "        # save lag data\n",
    "        np.savetxt(output_dir + file.replace('.vhdr', '_delays.txt'), delays, fmt='%i')\n",
    "        ####################################################\n",
    "        \n",
    "\n",
    "# save the number of bad stims of all participant\n",
    "with open(output_dir + 'bad_stim.txt', 'a') as f:\n",
    "    for key, value in all_bad_stim_dict.items():\n",
    "        if value > 0:\n",
    "            f.write(key + '\\t' + str(value) + '\\n')"
   ]
  },
  {
   "cell_type": "markdown",
   "id": "9435cefa-b87c-44fc-9731-d04d999a8289",
   "metadata": {},
   "source": [
    "# Bad channel correction\n",
    "- filtering\n",
    "- resampling\n",
    "- remove line noise\n",
    "- bad channel detection & repairing\n",
    "- add back reference channel TP9"
   ]
  },
  {
   "cell_type": "markdown",
   "id": "40e7b725-437e-493f-a129-544f55f0022d",
   "metadata": {},
   "source": [
    "## parameters"
   ]
  },
  {
   "cell_type": "code",
   "execution_count": 4,
   "id": "3aed6423-2751-426d-8b57-b7ff76cbb3d1",
   "metadata": {},
   "outputs": [],
   "source": [
    "# set directory\n",
    "input_dir = work_dir + 'data_preprocessed/1_trigger_lag_fixed/'\n",
    "output_dir = work_dir + 'data_preprocessed/2_bad_channel_corrected/'\n",
    "# create a folder if the folder doesn't exist\n",
    "os.makedirs(output_dir, exist_ok=True)\n",
    "\n",
    "# filter cutoff frequencies (low/high)\n",
    "f_low = 1\n",
    "f_high = 100\n",
    "\n",
    "# resampling frequency\n",
    "f_res = 250\n",
    "\n",
    "# line frequency\n",
    "line_freq = 60\n",
    "\n",
    "# preprocessing parameters\n",
    "prep_params = {\n",
    "    \"ref_chs\": 'eeg',\n",
    "    \"reref_chs\": 'eeg', # average re-reference\n",
    "    \"line_freqs\": np.arange(line_freq, f_res/2, line_freq),\n",
    "}\n",
    "\n",
    "# create a montage file for the pipeline\n",
    "montage = mne.channels.make_standard_montage(\"standard_1020\")\n",
    "\n",
    "# interpolation method\n",
    "# method=dict(eeg=\"spline\")"
   ]
  },
  {
   "cell_type": "code",
   "execution_count": 5,
   "id": "592cc8fc-dc28-4884-96dc-23c9a7d90ba2",
   "metadata": {
    "scrolled": true
   },
   "outputs": [],
   "source": [
    "#####################################################\n",
    "#### Preprocessing (filtering, resampling, bad channel detection/interpoloation, re-reference) ####\n",
    "#####################################################\n",
    "\n",
    "# get all file namesin the folder\n",
    "all_input = os.listdir(input_dir)\n",
    "all_output = os.listdir(output_dir)\n",
    "\n",
    "\n",
    "for file in all_input:\n",
    "    if file.endswith(\"corr.fif\") & (file.split('.')[0]+ '_prep.fif' not in all_output):\n",
    "        \n",
    "        # read in file\n",
    "        raw = mne.io.read_raw_fif(input_dir + file, preload=True)\n",
    "        \n",
    "        # set channel type\n",
    "        raw.set_channel_types({'Fp1':'eog', 'Fp2':'eog'})\n",
    "\n",
    "        # filter\n",
    "        raw.filter(l_freq = f_low, h_freq = f_high)\n",
    "        \n",
    "        #### cut off the beginning and ending part ####\n",
    "        \n",
    "        # get the onset of the first and the last event ####\n",
    "        events_from_annot, event_dict = mne.events_from_annotations(raw, verbose='WARNING')\n",
    "\n",
    "        # define the beginning time (in seconds)\n",
    "        crop_start = events_from_annot[0][0]/raw.info['sfreq'] - 10\n",
    "\n",
    "        # define the ending time (in seconds)\n",
    "        crop_end = events_from_annot[-1][0]/raw.info['sfreq'] + 10\n",
    "\n",
    "        # crop the data\n",
    "        raw.crop(\n",
    "            tmin=max(crop_start, raw.times[0]), \n",
    "            tmax=min(crop_end, raw.times[-1])\n",
    "        )\n",
    "        \n",
    "        # resample\n",
    "        raw.resample(sfreq = f_res)\n",
    "\n",
    "        # read in channel location info\n",
    "        raw.set_montage(montage)\n",
    "        \n",
    "        ####  Use PrePipeline to preprocess ####\n",
    "        '''\n",
    "        1. detect and interpolate bad channels\n",
    "        2. remove line noise\n",
    "        3. re-reference\n",
    "        '''\n",
    "        \n",
    "        # apply pyprep\n",
    "        prep = PrepPipeline(raw, prep_params, montage, random_state=42)\n",
    "        prep.fit()\n",
    "\n",
    "        \n",
    "        # export a txt file for the interpolated channel info\n",
    "        with open(output_dir + 'bad_channel.txt', 'a+') as f:\n",
    "            _ =f.write(\n",
    "                file + ':\\n' +\n",
    "                \"- Bad channels original: {}\".format(prep.noisy_channels_original[\"bad_all\"]) + '\\n' +\n",
    "                \"- Bad channels after robust average reference: {}\".format(prep.interpolated_channels) + '\\n' +\n",
    "                \"- Bad channels after interpolation: {}\".format(prep.still_noisy_channels) + '\\n'\n",
    "            )\n",
    "\n",
    "        # save the pypred preprocessed data into the raw data structure\n",
    "        raw = prep.raw\n",
    "\n",
    "        # add back the reference channel\n",
    "        raw = mne.add_reference_channels(raw,'TP9')\n",
    "\n",
    "        # add the channel loc info (for the newly added reference channel)\n",
    "        raw.set_montage(montage)\n",
    "        \n",
    "        # save\n",
    "        raw.save(output_dir + file.split('.')[0]+ '_prep.fif')"
   ]
  },
  {
   "cell_type": "markdown",
   "id": "ea6796f1-968d-42cf-93d4-6c848fbf9bc2",
   "metadata": {},
   "source": [
    "# ICA bad trial correction"
   ]
  },
  {
   "cell_type": "markdown",
   "id": "2855a017-475b-4357-9af7-8a3bfbed7c98",
   "metadata": {},
   "source": [
    "## parameters"
   ]
  },
  {
   "cell_type": "code",
   "execution_count": 6,
   "id": "1ad8dbf2-a71d-47f5-b770-b879d877fd3a",
   "metadata": {},
   "outputs": [],
   "source": [
    "# directory\n",
    "input_dir = work_dir + 'data_preprocessed/2_bad_channel_corrected/'\n",
    "output_dir = work_dir + 'data_preprocessed/3_ica/'\n",
    "\n",
    "# create a folder if the folder doesn't exist\n",
    "os.makedirs(output_dir, exist_ok=True)\n",
    "\n",
    "# run ica on epoched data or continuous data\n",
    "# ica_input_type = 'epoch'\n",
    "ica_input_type = 'continuous'\n",
    "\n",
    "# up to which IC you want to consider\n",
    "ic_upto = 15\n",
    "# ic_upto = 99\n",
    "\n",
    "# Epoch window: \n",
    "erp_t_start = -0.2; erp_t_end = 0.8 # ERP: -100 ~ 700 ms\n",
    "baseline = (-0.2, 0)"
   ]
  },
  {
   "cell_type": "code",
   "execution_count": 7,
   "id": "43694acb-a561-4ec3-ba14-461b9f1b6220",
   "metadata": {
    "scrolled": true
   },
   "outputs": [
    {
     "name": "stdout",
     "output_type": "stream",
     "text": [
      "Opening raw data file /Users/chaohan/Library/CloudStorage/OneDrive-UniversityofToronto/Projects/Yas accent/data_preprocessed/2_bad_channel_corrected/Yas_258_corr_prep.fif...\n"
     ]
    },
    {
     "name": "stderr",
     "output_type": "stream",
     "text": [
      "/var/folders/j8/8nyf6njj5nzfjcv6s23y3nn40000gn/T/ipykernel_65641/2083397926.py:11: RuntimeWarning: This filename (/Users/chaohan/Library/CloudStorage/OneDrive-UniversityofToronto/Projects/Yas accent/data_preprocessed/2_bad_channel_corrected/Yas_258_corr_prep.fif) does not conform to MNE naming conventions. All raw files should end with raw.fif, raw_sss.fif, raw_tsss.fif, _meg.fif, _eeg.fif, _ieeg.fif, raw.fif.gz, raw_sss.fif.gz, raw_tsss.fif.gz, _meg.fif.gz, _eeg.fif.gz or _ieeg.fif.gz\n",
      "  raw = mne.io.read_raw_fif(input_dir + file, preload=True)\n"
     ]
    },
    {
     "name": "stdout",
     "output_type": "stream",
     "text": [
      "    Range : 23135 ... 918784 =     92.540 ...  3675.136 secs\n",
      "Ready.\n",
      "Reading 0 ... 895649  =      0.000 ...  3582.596 secs...\n",
      "Filtering raw data in 1 contiguous segment\n",
      "Setting up band-pass filter from 1 - 1e+02 Hz\n",
      "\n",
      "FIR filter parameters\n",
      "---------------------\n",
      "Designing a one-pass, zero-phase, non-causal bandpass filter:\n",
      "- Windowed time-domain design (firwin) method\n",
      "- Hamming window with 0.0194 passband ripple and 53 dB stopband attenuation\n",
      "- Lower passband edge: 1.00\n",
      "- Lower transition bandwidth: 1.00 Hz (-6 dB cutoff frequency: 0.50 Hz)\n",
      "- Upper passband edge: 100.00 Hz\n",
      "- Upper transition bandwidth: 25.00 Hz (-6 dB cutoff frequency: 112.50 Hz)\n",
      "- Filter length: 825 samples (3.300 s)\n",
      "\n",
      "EEG channel type selected for re-referencing\n",
      "Applying average reference.\n",
      "Applying a custom ('EEG',) reference.\n"
     ]
    },
    {
     "name": "stderr",
     "output_type": "stream",
     "text": [
      "[Parallel(n_jobs=1)]: Done  17 tasks      | elapsed:    0.2s\n"
     ]
    },
    {
     "name": "stdout",
     "output_type": "stream",
     "text": [
      "Fitting ICA to data using 30 channels (please be patient, this may take a while)\n",
      "Selecting by non-zero PCA components: 23 components\n",
      "Computing Extended Infomax ICA\n",
      "Fitting ICA took 140.7s.\n",
      "Writing ICA solution to /Users/chaohan/Library/CloudStorage/OneDrive-UniversityofToronto/Projects/Yas accent/data_preprocessed/3_ica/Yas_258_corr_prep_icaSolution.fif...\n",
      "Applying ICA to Raw instance\n",
      "    Transforming to ICA space (23 components)\n",
      "    Zeroing out 6 ICA components\n",
      "    Projecting back using 30 PCA components\n"
     ]
    },
    {
     "name": "stderr",
     "output_type": "stream",
     "text": [
      "/var/folders/j8/8nyf6njj5nzfjcv6s23y3nn40000gn/T/ipykernel_65641/2083397926.py:54: RuntimeWarning: This filename (/Users/chaohan/Library/CloudStorage/OneDrive-UniversityofToronto/Projects/Yas accent/data_preprocessed/3_ica/Yas_258_corr_prep_icaSolution.fif) does not conform to MNE naming conventions. All ICA files should end with -ica.fif, -ica.fif.gz, _ica.fif or _ica.fif.gz\n",
      "  ica.save(output_dir + file.split('.')[0]+ '_icaSolution.fif', overwrite=True)\n"
     ]
    },
    {
     "name": "stdout",
     "output_type": "stream",
     "text": [
      "Writing /Users/chaohan/Library/CloudStorage/OneDrive-UniversityofToronto/Projects/Yas accent/data_preprocessed/3_ica/Yas_258_corr_prep_ica.fif\n"
     ]
    },
    {
     "name": "stderr",
     "output_type": "stream",
     "text": [
      "/var/folders/j8/8nyf6njj5nzfjcv6s23y3nn40000gn/T/ipykernel_65641/2083397926.py:74: RuntimeWarning: This filename (/Users/chaohan/Library/CloudStorage/OneDrive-UniversityofToronto/Projects/Yas accent/data_preprocessed/3_ica/Yas_258_corr_prep_ica.fif) does not conform to MNE naming conventions. All raw files should end with raw.fif, raw_sss.fif, raw_tsss.fif, _meg.fif, _eeg.fif, _ieeg.fif, raw.fif.gz, raw_sss.fif.gz, raw_tsss.fif.gz, _meg.fif.gz, _eeg.fif.gz or _ieeg.fif.gz\n",
      "  raw.save(output_dir + file.split('.')[0]+ '_ica.fif')\n"
     ]
    },
    {
     "name": "stdout",
     "output_type": "stream",
     "text": [
      "Closing /Users/chaohan/Library/CloudStorage/OneDrive-UniversityofToronto/Projects/Yas accent/data_preprocessed/3_ica/Yas_258_corr_prep_ica.fif\n",
      "[done]\n",
      "Opening raw data file /Users/chaohan/Library/CloudStorage/OneDrive-UniversityofToronto/Projects/Yas accent/data_preprocessed/2_bad_channel_corrected/Yas_265_corr_prep.fif...\n",
      "    Range : 0 ... 838511 =      0.000 ...  3354.044 secs\n",
      "Ready.\n",
      "Reading 0 ... 838511  =      0.000 ...  3354.044 secs...\n"
     ]
    },
    {
     "name": "stderr",
     "output_type": "stream",
     "text": [
      "/var/folders/j8/8nyf6njj5nzfjcv6s23y3nn40000gn/T/ipykernel_65641/2083397926.py:11: RuntimeWarning: This filename (/Users/chaohan/Library/CloudStorage/OneDrive-UniversityofToronto/Projects/Yas accent/data_preprocessed/2_bad_channel_corrected/Yas_265_corr_prep.fif) does not conform to MNE naming conventions. All raw files should end with raw.fif, raw_sss.fif, raw_tsss.fif, _meg.fif, _eeg.fif, _ieeg.fif, raw.fif.gz, raw_sss.fif.gz, raw_tsss.fif.gz, _meg.fif.gz, _eeg.fif.gz or _ieeg.fif.gz\n",
      "  raw = mne.io.read_raw_fif(input_dir + file, preload=True)\n"
     ]
    },
    {
     "name": "stdout",
     "output_type": "stream",
     "text": [
      "Filtering raw data in 1 contiguous segment\n",
      "Setting up band-pass filter from 1 - 1e+02 Hz\n",
      "\n",
      "FIR filter parameters\n",
      "---------------------\n",
      "Designing a one-pass, zero-phase, non-causal bandpass filter:\n",
      "- Windowed time-domain design (firwin) method\n",
      "- Hamming window with 0.0194 passband ripple and 53 dB stopband attenuation\n",
      "- Lower passband edge: 1.00\n",
      "- Lower transition bandwidth: 1.00 Hz (-6 dB cutoff frequency: 0.50 Hz)\n",
      "- Upper passband edge: 100.00 Hz\n",
      "- Upper transition bandwidth: 25.00 Hz (-6 dB cutoff frequency: 112.50 Hz)\n",
      "- Filter length: 825 samples (3.300 s)\n",
      "\n",
      "EEG channel type selected for re-referencing\n",
      "Applying average reference.\n",
      "Applying a custom ('EEG',) reference.\n"
     ]
    },
    {
     "name": "stderr",
     "output_type": "stream",
     "text": [
      "[Parallel(n_jobs=1)]: Done  17 tasks      | elapsed:    0.2s\n"
     ]
    },
    {
     "name": "stdout",
     "output_type": "stream",
     "text": [
      "Fitting ICA to data using 30 channels (please be patient, this may take a while)\n",
      "Selecting by non-zero PCA components: 24 components\n",
      "Computing Extended Infomax ICA\n",
      "Fitting ICA took 316.1s.\n",
      "Writing ICA solution to /Users/chaohan/Library/CloudStorage/OneDrive-UniversityofToronto/Projects/Yas accent/data_preprocessed/3_ica/Yas_265_corr_prep_icaSolution.fif...\n",
      "Applying ICA to Raw instance\n",
      "    Transforming to ICA space (24 components)\n",
      "    Zeroing out 8 ICA components\n",
      "    Projecting back using 30 PCA components\n"
     ]
    },
    {
     "name": "stderr",
     "output_type": "stream",
     "text": [
      "/var/folders/j8/8nyf6njj5nzfjcv6s23y3nn40000gn/T/ipykernel_65641/2083397926.py:54: RuntimeWarning: This filename (/Users/chaohan/Library/CloudStorage/OneDrive-UniversityofToronto/Projects/Yas accent/data_preprocessed/3_ica/Yas_265_corr_prep_icaSolution.fif) does not conform to MNE naming conventions. All ICA files should end with -ica.fif, -ica.fif.gz, _ica.fif or _ica.fif.gz\n",
      "  ica.save(output_dir + file.split('.')[0]+ '_icaSolution.fif', overwrite=True)\n"
     ]
    },
    {
     "name": "stdout",
     "output_type": "stream",
     "text": [
      "Writing /Users/chaohan/Library/CloudStorage/OneDrive-UniversityofToronto/Projects/Yas accent/data_preprocessed/3_ica/Yas_265_corr_prep_ica.fif\n"
     ]
    },
    {
     "name": "stderr",
     "output_type": "stream",
     "text": [
      "/var/folders/j8/8nyf6njj5nzfjcv6s23y3nn40000gn/T/ipykernel_65641/2083397926.py:74: RuntimeWarning: This filename (/Users/chaohan/Library/CloudStorage/OneDrive-UniversityofToronto/Projects/Yas accent/data_preprocessed/3_ica/Yas_265_corr_prep_ica.fif) does not conform to MNE naming conventions. All raw files should end with raw.fif, raw_sss.fif, raw_tsss.fif, _meg.fif, _eeg.fif, _ieeg.fif, raw.fif.gz, raw_sss.fif.gz, raw_tsss.fif.gz, _meg.fif.gz, _eeg.fif.gz or _ieeg.fif.gz\n",
      "  raw.save(output_dir + file.split('.')[0]+ '_ica.fif')\n"
     ]
    },
    {
     "name": "stdout",
     "output_type": "stream",
     "text": [
      "Closing /Users/chaohan/Library/CloudStorage/OneDrive-UniversityofToronto/Projects/Yas accent/data_preprocessed/3_ica/Yas_265_corr_prep_ica.fif\n",
      "[done]\n",
      "Opening raw data file /Users/chaohan/Library/CloudStorage/OneDrive-UniversityofToronto/Projects/Yas accent/data_preprocessed/2_bad_channel_corrected/Yas_262_corr_prep.fif...\n"
     ]
    },
    {
     "name": "stderr",
     "output_type": "stream",
     "text": [
      "/var/folders/j8/8nyf6njj5nzfjcv6s23y3nn40000gn/T/ipykernel_65641/2083397926.py:11: RuntimeWarning: This filename (/Users/chaohan/Library/CloudStorage/OneDrive-UniversityofToronto/Projects/Yas accent/data_preprocessed/2_bad_channel_corrected/Yas_262_corr_prep.fif) does not conform to MNE naming conventions. All raw files should end with raw.fif, raw_sss.fif, raw_tsss.fif, _meg.fif, _eeg.fif, _ieeg.fif, raw.fif.gz, raw_sss.fif.gz, raw_tsss.fif.gz, _meg.fif.gz, _eeg.fif.gz or _ieeg.fif.gz\n",
      "  raw = mne.io.read_raw_fif(input_dir + file, preload=True)\n"
     ]
    },
    {
     "name": "stdout",
     "output_type": "stream",
     "text": [
      "    Range : 61567 ... 1109732 =    246.268 ...  4438.928 secs\n",
      "Ready.\n",
      "Reading 0 ... 1048165  =      0.000 ...  4192.660 secs...\n",
      "Filtering raw data in 1 contiguous segment\n",
      "Setting up band-pass filter from 1 - 1e+02 Hz\n",
      "\n",
      "FIR filter parameters\n",
      "---------------------\n",
      "Designing a one-pass, zero-phase, non-causal bandpass filter:\n",
      "- Windowed time-domain design (firwin) method\n",
      "- Hamming window with 0.0194 passband ripple and 53 dB stopband attenuation\n",
      "- Lower passband edge: 1.00\n",
      "- Lower transition bandwidth: 1.00 Hz (-6 dB cutoff frequency: 0.50 Hz)\n",
      "- Upper passband edge: 100.00 Hz\n",
      "- Upper transition bandwidth: 25.00 Hz (-6 dB cutoff frequency: 112.50 Hz)\n",
      "- Filter length: 825 samples (3.300 s)\n",
      "\n"
     ]
    },
    {
     "name": "stderr",
     "output_type": "stream",
     "text": [
      "[Parallel(n_jobs=1)]: Done  17 tasks      | elapsed:    0.3s\n"
     ]
    },
    {
     "name": "stdout",
     "output_type": "stream",
     "text": [
      "EEG channel type selected for re-referencing\n",
      "Applying average reference.\n",
      "Applying a custom ('EEG',) reference.\n",
      "Fitting ICA to data using 30 channels (please be patient, this may take a while)\n",
      "Selecting by non-zero PCA components: 25 components\n",
      "Computing Extended Infomax ICA\n",
      "Fitting ICA took 699.2s.\n",
      "Writing ICA solution to /Users/chaohan/Library/CloudStorage/OneDrive-UniversityofToronto/Projects/Yas accent/data_preprocessed/3_ica/Yas_262_corr_prep_icaSolution.fif...\n",
      "Applying ICA to Raw instance\n",
      "    Transforming to ICA space (25 components)\n",
      "    Zeroing out 7 ICA components\n",
      "    Projecting back using 30 PCA components\n"
     ]
    },
    {
     "name": "stderr",
     "output_type": "stream",
     "text": [
      "/var/folders/j8/8nyf6njj5nzfjcv6s23y3nn40000gn/T/ipykernel_65641/2083397926.py:54: RuntimeWarning: This filename (/Users/chaohan/Library/CloudStorage/OneDrive-UniversityofToronto/Projects/Yas accent/data_preprocessed/3_ica/Yas_262_corr_prep_icaSolution.fif) does not conform to MNE naming conventions. All ICA files should end with -ica.fif, -ica.fif.gz, _ica.fif or _ica.fif.gz\n",
      "  ica.save(output_dir + file.split('.')[0]+ '_icaSolution.fif', overwrite=True)\n"
     ]
    },
    {
     "name": "stdout",
     "output_type": "stream",
     "text": [
      "Writing /Users/chaohan/Library/CloudStorage/OneDrive-UniversityofToronto/Projects/Yas accent/data_preprocessed/3_ica/Yas_262_corr_prep_ica.fif\n"
     ]
    },
    {
     "name": "stderr",
     "output_type": "stream",
     "text": [
      "/var/folders/j8/8nyf6njj5nzfjcv6s23y3nn40000gn/T/ipykernel_65641/2083397926.py:74: RuntimeWarning: This filename (/Users/chaohan/Library/CloudStorage/OneDrive-UniversityofToronto/Projects/Yas accent/data_preprocessed/3_ica/Yas_262_corr_prep_ica.fif) does not conform to MNE naming conventions. All raw files should end with raw.fif, raw_sss.fif, raw_tsss.fif, _meg.fif, _eeg.fif, _ieeg.fif, raw.fif.gz, raw_sss.fif.gz, raw_tsss.fif.gz, _meg.fif.gz, _eeg.fif.gz or _ieeg.fif.gz\n",
      "  raw.save(output_dir + file.split('.')[0]+ '_ica.fif')\n"
     ]
    },
    {
     "name": "stdout",
     "output_type": "stream",
     "text": [
      "Closing /Users/chaohan/Library/CloudStorage/OneDrive-UniversityofToronto/Projects/Yas accent/data_preprocessed/3_ica/Yas_262_corr_prep_ica.fif\n",
      "[done]\n",
      "Opening raw data file /Users/chaohan/Library/CloudStorage/OneDrive-UniversityofToronto/Projects/Yas accent/data_preprocessed/2_bad_channel_corrected/Yas_267_corr_prep.fif...\n"
     ]
    },
    {
     "name": "stderr",
     "output_type": "stream",
     "text": [
      "/var/folders/j8/8nyf6njj5nzfjcv6s23y3nn40000gn/T/ipykernel_65641/2083397926.py:11: RuntimeWarning: This filename (/Users/chaohan/Library/CloudStorage/OneDrive-UniversityofToronto/Projects/Yas accent/data_preprocessed/2_bad_channel_corrected/Yas_267_corr_prep.fif) does not conform to MNE naming conventions. All raw files should end with raw.fif, raw_sss.fif, raw_tsss.fif, _meg.fif, _eeg.fif, _ieeg.fif, raw.fif.gz, raw_sss.fif.gz, raw_tsss.fif.gz, _meg.fif.gz, _eeg.fif.gz or _ieeg.fif.gz\n",
      "  raw = mne.io.read_raw_fif(input_dir + file, preload=True)\n"
     ]
    },
    {
     "name": "stdout",
     "output_type": "stream",
     "text": [
      "    Range : 524 ... 867040 =      2.096 ...  3468.160 secs\n",
      "Ready.\n",
      "Reading 0 ... 866516  =      0.000 ...  3466.064 secs...\n",
      "Filtering raw data in 1 contiguous segment\n",
      "Setting up band-pass filter from 1 - 1e+02 Hz\n",
      "\n",
      "FIR filter parameters\n",
      "---------------------\n",
      "Designing a one-pass, zero-phase, non-causal bandpass filter:\n",
      "- Windowed time-domain design (firwin) method\n",
      "- Hamming window with 0.0194 passband ripple and 53 dB stopband attenuation\n",
      "- Lower passband edge: 1.00\n",
      "- Lower transition bandwidth: 1.00 Hz (-6 dB cutoff frequency: 0.50 Hz)\n",
      "- Upper passband edge: 100.00 Hz\n",
      "- Upper transition bandwidth: 25.00 Hz (-6 dB cutoff frequency: 112.50 Hz)\n",
      "- Filter length: 825 samples (3.300 s)\n",
      "\n",
      "EEG channel type selected for re-referencing\n",
      "Applying average reference.\n",
      "Applying a custom ('EEG',) reference.\n"
     ]
    },
    {
     "name": "stderr",
     "output_type": "stream",
     "text": [
      "[Parallel(n_jobs=1)]: Done  17 tasks      | elapsed:    0.3s\n"
     ]
    },
    {
     "name": "stdout",
     "output_type": "stream",
     "text": [
      "Fitting ICA to data using 30 channels (please be patient, this may take a while)\n",
      "Selecting by non-zero PCA components: 25 components\n",
      "Computing Extended Infomax ICA\n",
      "Fitting ICA took 414.0s.\n",
      "Writing ICA solution to /Users/chaohan/Library/CloudStorage/OneDrive-UniversityofToronto/Projects/Yas accent/data_preprocessed/3_ica/Yas_267_corr_prep_icaSolution.fif...\n",
      "Applying ICA to Raw instance\n",
      "    Transforming to ICA space (25 components)\n",
      "    Zeroing out 8 ICA components\n",
      "    Projecting back using 30 PCA components\n"
     ]
    },
    {
     "name": "stderr",
     "output_type": "stream",
     "text": [
      "/var/folders/j8/8nyf6njj5nzfjcv6s23y3nn40000gn/T/ipykernel_65641/2083397926.py:54: RuntimeWarning: This filename (/Users/chaohan/Library/CloudStorage/OneDrive-UniversityofToronto/Projects/Yas accent/data_preprocessed/3_ica/Yas_267_corr_prep_icaSolution.fif) does not conform to MNE naming conventions. All ICA files should end with -ica.fif, -ica.fif.gz, _ica.fif or _ica.fif.gz\n",
      "  ica.save(output_dir + file.split('.')[0]+ '_icaSolution.fif', overwrite=True)\n"
     ]
    },
    {
     "name": "stdout",
     "output_type": "stream",
     "text": [
      "Writing /Users/chaohan/Library/CloudStorage/OneDrive-UniversityofToronto/Projects/Yas accent/data_preprocessed/3_ica/Yas_267_corr_prep_ica.fif\n"
     ]
    },
    {
     "name": "stderr",
     "output_type": "stream",
     "text": [
      "/var/folders/j8/8nyf6njj5nzfjcv6s23y3nn40000gn/T/ipykernel_65641/2083397926.py:74: RuntimeWarning: This filename (/Users/chaohan/Library/CloudStorage/OneDrive-UniversityofToronto/Projects/Yas accent/data_preprocessed/3_ica/Yas_267_corr_prep_ica.fif) does not conform to MNE naming conventions. All raw files should end with raw.fif, raw_sss.fif, raw_tsss.fif, _meg.fif, _eeg.fif, _ieeg.fif, raw.fif.gz, raw_sss.fif.gz, raw_tsss.fif.gz, _meg.fif.gz, _eeg.fif.gz or _ieeg.fif.gz\n",
      "  raw.save(output_dir + file.split('.')[0]+ '_ica.fif')\n"
     ]
    },
    {
     "name": "stdout",
     "output_type": "stream",
     "text": [
      "Closing /Users/chaohan/Library/CloudStorage/OneDrive-UniversityofToronto/Projects/Yas accent/data_preprocessed/3_ica/Yas_267_corr_prep_ica.fif\n",
      "[done]\n",
      "Opening raw data file /Users/chaohan/Library/CloudStorage/OneDrive-UniversityofToronto/Projects/Yas accent/data_preprocessed/2_bad_channel_corrected/Yas_263_corr_prep.fif...\n"
     ]
    },
    {
     "name": "stderr",
     "output_type": "stream",
     "text": [
      "/var/folders/j8/8nyf6njj5nzfjcv6s23y3nn40000gn/T/ipykernel_65641/2083397926.py:11: RuntimeWarning: This filename (/Users/chaohan/Library/CloudStorage/OneDrive-UniversityofToronto/Projects/Yas accent/data_preprocessed/2_bad_channel_corrected/Yas_263_corr_prep.fif) does not conform to MNE naming conventions. All raw files should end with raw.fif, raw_sss.fif, raw_tsss.fif, _meg.fif, _eeg.fif, _ieeg.fif, raw.fif.gz, raw_sss.fif.gz, raw_tsss.fif.gz, _meg.fif.gz, _eeg.fif.gz or _ieeg.fif.gz\n",
      "  raw = mne.io.read_raw_fif(input_dir + file, preload=True)\n"
     ]
    },
    {
     "name": "stdout",
     "output_type": "stream",
     "text": [
      "    Range : 509 ... 897022 =      2.036 ...  3588.088 secs\n",
      "Ready.\n",
      "Reading 0 ... 896513  =      0.000 ...  3586.052 secs...\n",
      "Filtering raw data in 1 contiguous segment\n",
      "Setting up band-pass filter from 1 - 1e+02 Hz\n",
      "\n",
      "FIR filter parameters\n",
      "---------------------\n",
      "Designing a one-pass, zero-phase, non-causal bandpass filter:\n",
      "- Windowed time-domain design (firwin) method\n",
      "- Hamming window with 0.0194 passband ripple and 53 dB stopband attenuation\n",
      "- Lower passband edge: 1.00\n",
      "- Lower transition bandwidth: 1.00 Hz (-6 dB cutoff frequency: 0.50 Hz)\n",
      "- Upper passband edge: 100.00 Hz\n",
      "- Upper transition bandwidth: 25.00 Hz (-6 dB cutoff frequency: 112.50 Hz)\n",
      "- Filter length: 825 samples (3.300 s)\n",
      "\n"
     ]
    },
    {
     "name": "stderr",
     "output_type": "stream",
     "text": [
      "[Parallel(n_jobs=1)]: Done  17 tasks      | elapsed:    0.3s\n"
     ]
    },
    {
     "name": "stdout",
     "output_type": "stream",
     "text": [
      "EEG channel type selected for re-referencing\n",
      "Applying average reference.\n",
      "Applying a custom ('EEG',) reference.\n",
      "Fitting ICA to data using 30 channels (please be patient, this may take a while)\n",
      "Selecting by non-zero PCA components: 28 components\n",
      "Computing Extended Infomax ICA\n",
      "Fitting ICA took 432.8s.\n",
      "Writing ICA solution to /Users/chaohan/Library/CloudStorage/OneDrive-UniversityofToronto/Projects/Yas accent/data_preprocessed/3_ica/Yas_263_corr_prep_icaSolution.fif...\n",
      "Applying ICA to Raw instance\n",
      "    Transforming to ICA space (28 components)\n",
      "    Zeroing out 4 ICA components\n",
      "    Projecting back using 30 PCA components\n"
     ]
    },
    {
     "name": "stderr",
     "output_type": "stream",
     "text": [
      "/var/folders/j8/8nyf6njj5nzfjcv6s23y3nn40000gn/T/ipykernel_65641/2083397926.py:54: RuntimeWarning: This filename (/Users/chaohan/Library/CloudStorage/OneDrive-UniversityofToronto/Projects/Yas accent/data_preprocessed/3_ica/Yas_263_corr_prep_icaSolution.fif) does not conform to MNE naming conventions. All ICA files should end with -ica.fif, -ica.fif.gz, _ica.fif or _ica.fif.gz\n",
      "  ica.save(output_dir + file.split('.')[0]+ '_icaSolution.fif', overwrite=True)\n"
     ]
    },
    {
     "name": "stdout",
     "output_type": "stream",
     "text": [
      "Writing /Users/chaohan/Library/CloudStorage/OneDrive-UniversityofToronto/Projects/Yas accent/data_preprocessed/3_ica/Yas_263_corr_prep_ica.fif\n"
     ]
    },
    {
     "name": "stderr",
     "output_type": "stream",
     "text": [
      "/var/folders/j8/8nyf6njj5nzfjcv6s23y3nn40000gn/T/ipykernel_65641/2083397926.py:74: RuntimeWarning: This filename (/Users/chaohan/Library/CloudStorage/OneDrive-UniversityofToronto/Projects/Yas accent/data_preprocessed/3_ica/Yas_263_corr_prep_ica.fif) does not conform to MNE naming conventions. All raw files should end with raw.fif, raw_sss.fif, raw_tsss.fif, _meg.fif, _eeg.fif, _ieeg.fif, raw.fif.gz, raw_sss.fif.gz, raw_tsss.fif.gz, _meg.fif.gz, _eeg.fif.gz or _ieeg.fif.gz\n",
      "  raw.save(output_dir + file.split('.')[0]+ '_ica.fif')\n"
     ]
    },
    {
     "name": "stdout",
     "output_type": "stream",
     "text": [
      "Closing /Users/chaohan/Library/CloudStorage/OneDrive-UniversityofToronto/Projects/Yas accent/data_preprocessed/3_ica/Yas_263_corr_prep_ica.fif\n",
      "[done]\n",
      "Opening raw data file /Users/chaohan/Library/CloudStorage/OneDrive-UniversityofToronto/Projects/Yas accent/data_preprocessed/2_bad_channel_corrected/Yas_264_corr_prep.fif...\n",
      "    Range : 550 ... 846337 =      2.200 ...  3385.348 secs\n",
      "Ready.\n",
      "Reading 0 ... 845787  =      0.000 ...  3383.148 secs...\n"
     ]
    },
    {
     "name": "stderr",
     "output_type": "stream",
     "text": [
      "/var/folders/j8/8nyf6njj5nzfjcv6s23y3nn40000gn/T/ipykernel_65641/2083397926.py:11: RuntimeWarning: This filename (/Users/chaohan/Library/CloudStorage/OneDrive-UniversityofToronto/Projects/Yas accent/data_preprocessed/2_bad_channel_corrected/Yas_264_corr_prep.fif) does not conform to MNE naming conventions. All raw files should end with raw.fif, raw_sss.fif, raw_tsss.fif, _meg.fif, _eeg.fif, _ieeg.fif, raw.fif.gz, raw_sss.fif.gz, raw_tsss.fif.gz, _meg.fif.gz, _eeg.fif.gz or _ieeg.fif.gz\n",
      "  raw = mne.io.read_raw_fif(input_dir + file, preload=True)\n"
     ]
    },
    {
     "name": "stdout",
     "output_type": "stream",
     "text": [
      "Filtering raw data in 1 contiguous segment\n",
      "Setting up band-pass filter from 1 - 1e+02 Hz\n",
      "\n",
      "FIR filter parameters\n",
      "---------------------\n",
      "Designing a one-pass, zero-phase, non-causal bandpass filter:\n",
      "- Windowed time-domain design (firwin) method\n",
      "- Hamming window with 0.0194 passband ripple and 53 dB stopband attenuation\n",
      "- Lower passband edge: 1.00\n",
      "- Lower transition bandwidth: 1.00 Hz (-6 dB cutoff frequency: 0.50 Hz)\n",
      "- Upper passband edge: 100.00 Hz\n",
      "- Upper transition bandwidth: 25.00 Hz (-6 dB cutoff frequency: 112.50 Hz)\n",
      "- Filter length: 825 samples (3.300 s)\n",
      "\n",
      "EEG channel type selected for re-referencing\n",
      "Applying average reference.\n",
      "Applying a custom ('EEG',) reference.\n"
     ]
    },
    {
     "name": "stderr",
     "output_type": "stream",
     "text": [
      "[Parallel(n_jobs=1)]: Done  17 tasks      | elapsed:    0.3s\n"
     ]
    },
    {
     "name": "stdout",
     "output_type": "stream",
     "text": [
      "Fitting ICA to data using 29 channels (please be patient, this may take a while)\n",
      "Selecting by non-zero PCA components: 26 components\n",
      "Computing Extended Infomax ICA\n",
      "Fitting ICA took 491.3s.\n",
      "Writing ICA solution to /Users/chaohan/Library/CloudStorage/OneDrive-UniversityofToronto/Projects/Yas accent/data_preprocessed/3_ica/Yas_264_corr_prep_icaSolution.fif...\n",
      "Applying ICA to Raw instance\n",
      "    Transforming to ICA space (26 components)\n",
      "    Zeroing out 6 ICA components\n",
      "    Projecting back using 29 PCA components\n"
     ]
    },
    {
     "name": "stderr",
     "output_type": "stream",
     "text": [
      "/var/folders/j8/8nyf6njj5nzfjcv6s23y3nn40000gn/T/ipykernel_65641/2083397926.py:54: RuntimeWarning: This filename (/Users/chaohan/Library/CloudStorage/OneDrive-UniversityofToronto/Projects/Yas accent/data_preprocessed/3_ica/Yas_264_corr_prep_icaSolution.fif) does not conform to MNE naming conventions. All ICA files should end with -ica.fif, -ica.fif.gz, _ica.fif or _ica.fif.gz\n",
      "  ica.save(output_dir + file.split('.')[0]+ '_icaSolution.fif', overwrite=True)\n"
     ]
    },
    {
     "name": "stdout",
     "output_type": "stream",
     "text": [
      "Writing /Users/chaohan/Library/CloudStorage/OneDrive-UniversityofToronto/Projects/Yas accent/data_preprocessed/3_ica/Yas_264_corr_prep_ica.fif\n"
     ]
    },
    {
     "name": "stderr",
     "output_type": "stream",
     "text": [
      "/var/folders/j8/8nyf6njj5nzfjcv6s23y3nn40000gn/T/ipykernel_65641/2083397926.py:74: RuntimeWarning: This filename (/Users/chaohan/Library/CloudStorage/OneDrive-UniversityofToronto/Projects/Yas accent/data_preprocessed/3_ica/Yas_264_corr_prep_ica.fif) does not conform to MNE naming conventions. All raw files should end with raw.fif, raw_sss.fif, raw_tsss.fif, _meg.fif, _eeg.fif, _ieeg.fif, raw.fif.gz, raw_sss.fif.gz, raw_tsss.fif.gz, _meg.fif.gz, _eeg.fif.gz or _ieeg.fif.gz\n",
      "  raw.save(output_dir + file.split('.')[0]+ '_ica.fif')\n"
     ]
    },
    {
     "name": "stdout",
     "output_type": "stream",
     "text": [
      "Closing /Users/chaohan/Library/CloudStorage/OneDrive-UniversityofToronto/Projects/Yas accent/data_preprocessed/3_ica/Yas_264_corr_prep_ica.fif\n",
      "[done]\n",
      "Opening raw data file /Users/chaohan/Library/CloudStorage/OneDrive-UniversityofToronto/Projects/Yas accent/data_preprocessed/2_bad_channel_corrected/Yas_260_corr_prep.fif...\n",
      "    Range : 683 ... 869409 =      2.732 ...  3477.636 secs\n",
      "Ready.\n"
     ]
    },
    {
     "name": "stderr",
     "output_type": "stream",
     "text": [
      "/var/folders/j8/8nyf6njj5nzfjcv6s23y3nn40000gn/T/ipykernel_65641/2083397926.py:11: RuntimeWarning: This filename (/Users/chaohan/Library/CloudStorage/OneDrive-UniversityofToronto/Projects/Yas accent/data_preprocessed/2_bad_channel_corrected/Yas_260_corr_prep.fif) does not conform to MNE naming conventions. All raw files should end with raw.fif, raw_sss.fif, raw_tsss.fif, _meg.fif, _eeg.fif, _ieeg.fif, raw.fif.gz, raw_sss.fif.gz, raw_tsss.fif.gz, _meg.fif.gz, _eeg.fif.gz or _ieeg.fif.gz\n",
      "  raw = mne.io.read_raw_fif(input_dir + file, preload=True)\n"
     ]
    },
    {
     "name": "stdout",
     "output_type": "stream",
     "text": [
      "Reading 0 ... 868726  =      0.000 ...  3474.904 secs...\n",
      "Filtering raw data in 1 contiguous segment\n",
      "Setting up band-pass filter from 1 - 1e+02 Hz\n",
      "\n",
      "FIR filter parameters\n",
      "---------------------\n",
      "Designing a one-pass, zero-phase, non-causal bandpass filter:\n",
      "- Windowed time-domain design (firwin) method\n",
      "- Hamming window with 0.0194 passband ripple and 53 dB stopband attenuation\n",
      "- Lower passband edge: 1.00\n",
      "- Lower transition bandwidth: 1.00 Hz (-6 dB cutoff frequency: 0.50 Hz)\n",
      "- Upper passband edge: 100.00 Hz\n",
      "- Upper transition bandwidth: 25.00 Hz (-6 dB cutoff frequency: 112.50 Hz)\n",
      "- Filter length: 825 samples (3.300 s)\n",
      "\n"
     ]
    },
    {
     "name": "stderr",
     "output_type": "stream",
     "text": [
      "[Parallel(n_jobs=1)]: Done  17 tasks      | elapsed:    0.5s\n"
     ]
    },
    {
     "name": "stdout",
     "output_type": "stream",
     "text": [
      "EEG channel type selected for re-referencing\n",
      "Applying average reference.\n",
      "Applying a custom ('EEG',) reference.\n",
      "Fitting ICA to data using 30 channels (please be patient, this may take a while)\n",
      "Selecting by non-zero PCA components: 22 components\n",
      "Computing Extended Infomax ICA\n",
      "Fitting ICA took 123.1s.\n",
      "Writing ICA solution to /Users/chaohan/Library/CloudStorage/OneDrive-UniversityofToronto/Projects/Yas accent/data_preprocessed/3_ica/Yas_260_corr_prep_icaSolution.fif...\n",
      "Applying ICA to Raw instance\n",
      "    Transforming to ICA space (22 components)\n",
      "    Zeroing out 5 ICA components\n",
      "    Projecting back using 30 PCA components\n"
     ]
    },
    {
     "name": "stderr",
     "output_type": "stream",
     "text": [
      "/var/folders/j8/8nyf6njj5nzfjcv6s23y3nn40000gn/T/ipykernel_65641/2083397926.py:54: RuntimeWarning: This filename (/Users/chaohan/Library/CloudStorage/OneDrive-UniversityofToronto/Projects/Yas accent/data_preprocessed/3_ica/Yas_260_corr_prep_icaSolution.fif) does not conform to MNE naming conventions. All ICA files should end with -ica.fif, -ica.fif.gz, _ica.fif or _ica.fif.gz\n",
      "  ica.save(output_dir + file.split('.')[0]+ '_icaSolution.fif', overwrite=True)\n"
     ]
    },
    {
     "name": "stdout",
     "output_type": "stream",
     "text": [
      "Writing /Users/chaohan/Library/CloudStorage/OneDrive-UniversityofToronto/Projects/Yas accent/data_preprocessed/3_ica/Yas_260_corr_prep_ica.fif\n"
     ]
    },
    {
     "name": "stderr",
     "output_type": "stream",
     "text": [
      "/var/folders/j8/8nyf6njj5nzfjcv6s23y3nn40000gn/T/ipykernel_65641/2083397926.py:74: RuntimeWarning: This filename (/Users/chaohan/Library/CloudStorage/OneDrive-UniversityofToronto/Projects/Yas accent/data_preprocessed/3_ica/Yas_260_corr_prep_ica.fif) does not conform to MNE naming conventions. All raw files should end with raw.fif, raw_sss.fif, raw_tsss.fif, _meg.fif, _eeg.fif, _ieeg.fif, raw.fif.gz, raw_sss.fif.gz, raw_tsss.fif.gz, _meg.fif.gz, _eeg.fif.gz or _ieeg.fif.gz\n",
      "  raw.save(output_dir + file.split('.')[0]+ '_ica.fif')\n"
     ]
    },
    {
     "name": "stdout",
     "output_type": "stream",
     "text": [
      "Closing /Users/chaohan/Library/CloudStorage/OneDrive-UniversityofToronto/Projects/Yas accent/data_preprocessed/3_ica/Yas_260_corr_prep_ica.fif\n",
      "[done]\n",
      "Opening raw data file /Users/chaohan/Library/CloudStorage/OneDrive-UniversityofToronto/Projects/Yas accent/data_preprocessed/2_bad_channel_corrected/Yas_259_corr_prep.fif...\n",
      "    Range : 138741 ... 888705 =    554.964 ...  3554.820 secs\n",
      "Ready.\n",
      "Reading 0 ... 749964  =      0.000 ...  2999.856 secs...\n"
     ]
    },
    {
     "name": "stderr",
     "output_type": "stream",
     "text": [
      "/var/folders/j8/8nyf6njj5nzfjcv6s23y3nn40000gn/T/ipykernel_65641/2083397926.py:11: RuntimeWarning: This filename (/Users/chaohan/Library/CloudStorage/OneDrive-UniversityofToronto/Projects/Yas accent/data_preprocessed/2_bad_channel_corrected/Yas_259_corr_prep.fif) does not conform to MNE naming conventions. All raw files should end with raw.fif, raw_sss.fif, raw_tsss.fif, _meg.fif, _eeg.fif, _ieeg.fif, raw.fif.gz, raw_sss.fif.gz, raw_tsss.fif.gz, _meg.fif.gz, _eeg.fif.gz or _ieeg.fif.gz\n",
      "  raw = mne.io.read_raw_fif(input_dir + file, preload=True)\n"
     ]
    },
    {
     "name": "stdout",
     "output_type": "stream",
     "text": [
      "Filtering raw data in 1 contiguous segment\n",
      "Setting up band-pass filter from 1 - 1e+02 Hz\n",
      "\n",
      "FIR filter parameters\n",
      "---------------------\n",
      "Designing a one-pass, zero-phase, non-causal bandpass filter:\n",
      "- Windowed time-domain design (firwin) method\n",
      "- Hamming window with 0.0194 passband ripple and 53 dB stopband attenuation\n",
      "- Lower passband edge: 1.00\n",
      "- Lower transition bandwidth: 1.00 Hz (-6 dB cutoff frequency: 0.50 Hz)\n",
      "- Upper passband edge: 100.00 Hz\n",
      "- Upper transition bandwidth: 25.00 Hz (-6 dB cutoff frequency: 112.50 Hz)\n",
      "- Filter length: 825 samples (3.300 s)\n",
      "\n",
      "EEG channel type selected for re-referencing\n",
      "Applying average reference.\n",
      "Applying a custom ('EEG',) reference.\n"
     ]
    },
    {
     "name": "stderr",
     "output_type": "stream",
     "text": [
      "[Parallel(n_jobs=1)]: Done  17 tasks      | elapsed:    0.3s\n"
     ]
    },
    {
     "name": "stdout",
     "output_type": "stream",
     "text": [
      "Fitting ICA to data using 30 channels (please be patient, this may take a while)\n",
      "Selecting by non-zero PCA components: 27 components\n",
      "Computing Extended Infomax ICA\n",
      "Fitting ICA took 389.5s.\n",
      "Writing ICA solution to /Users/chaohan/Library/CloudStorage/OneDrive-UniversityofToronto/Projects/Yas accent/data_preprocessed/3_ica/Yas_259_corr_prep_icaSolution.fif...\n",
      "Applying ICA to Raw instance\n",
      "    Transforming to ICA space (27 components)\n",
      "    Zeroing out 4 ICA components\n",
      "    Projecting back using 30 PCA components\n",
      "Writing /Users/chaohan/Library/CloudStorage/OneDrive-UniversityofToronto/Projects/Yas accent/data_preprocessed/3_ica/Yas_259_corr_prep_ica.fif\n"
     ]
    },
    {
     "name": "stderr",
     "output_type": "stream",
     "text": [
      "/var/folders/j8/8nyf6njj5nzfjcv6s23y3nn40000gn/T/ipykernel_65641/2083397926.py:54: RuntimeWarning: This filename (/Users/chaohan/Library/CloudStorage/OneDrive-UniversityofToronto/Projects/Yas accent/data_preprocessed/3_ica/Yas_259_corr_prep_icaSolution.fif) does not conform to MNE naming conventions. All ICA files should end with -ica.fif, -ica.fif.gz, _ica.fif or _ica.fif.gz\n",
      "  ica.save(output_dir + file.split('.')[0]+ '_icaSolution.fif', overwrite=True)\n",
      "/var/folders/j8/8nyf6njj5nzfjcv6s23y3nn40000gn/T/ipykernel_65641/2083397926.py:74: RuntimeWarning: This filename (/Users/chaohan/Library/CloudStorage/OneDrive-UniversityofToronto/Projects/Yas accent/data_preprocessed/3_ica/Yas_259_corr_prep_ica.fif) does not conform to MNE naming conventions. All raw files should end with raw.fif, raw_sss.fif, raw_tsss.fif, _meg.fif, _eeg.fif, _ieeg.fif, raw.fif.gz, raw_sss.fif.gz, raw_tsss.fif.gz, _meg.fif.gz, _eeg.fif.gz or _ieeg.fif.gz\n",
      "  raw.save(output_dir + file.split('.')[0]+ '_ica.fif')\n"
     ]
    },
    {
     "name": "stdout",
     "output_type": "stream",
     "text": [
      "Closing /Users/chaohan/Library/CloudStorage/OneDrive-UniversityofToronto/Projects/Yas accent/data_preprocessed/3_ica/Yas_259_corr_prep_ica.fif\n",
      "[done]\n"
     ]
    }
   ],
   "source": [
    "# get all file names in the folder\n",
    "all_input = os.listdir(input_dir)\n",
    "all_output = os.listdir(output_dir)\n",
    "\n",
    "\n",
    "# for each file\n",
    "for file in all_input:\n",
    "    if file.endswith(\"prep.fif\") and (file.split('.')[0]+ '_ica.fif' not in all_output): \n",
    "    \n",
    "        # read in file\n",
    "        raw = mne.io.read_raw_fif(input_dir + file, preload=True)\n",
    "        \n",
    "        # make a filtered file copy ICA. It works better on signals with 1 Hz high-pass filtered and 100 Hz low-pass filtered\n",
    "        raw_filt = raw.copy().filter(l_freq = 1, h_freq = 100)\n",
    "    \n",
    "        # apply a common average referencing, to comply with the ICLabel requirements\n",
    "        raw_filt.set_eeg_reference(\"average\")\n",
    "\n",
    "        # initialize ica components enough components to explain 0.999999 of the variance by default\n",
    "        ica = mne.preprocessing.ICA(\n",
    "            max_iter='auto', # n-1\n",
    "            # use ‘extended infomax’ method for fitting the ICA, to comply with the ICLabel requirements\n",
    "            method = 'infomax', \n",
    "            fit_params = dict(extended=True),\n",
    "            random_state = 42,\n",
    "        )\n",
    "\n",
    "        # run ica on epochs or continuous\n",
    "        if ica_input_type==\"epoch\":\n",
    "            # get event info for segmentation\n",
    "            events_from_annot, event_dict = mne.events_from_annotations(raw_filt, verbose='WARNING')\n",
    "            # segmentation for ERP\n",
    "            epochs = mne.Epochs(\n",
    "                raw_filt,\n",
    "                events = events_from_annot, event_id = event_dict,\n",
    "                tmin = erp_t_start, tmax = erp_t_end,\n",
    "                # apply baseline correction\n",
    "                baseline = None,\n",
    "                # remove epochs that meet the rejection criteria\n",
    "                reject = None,\n",
    "                preload = True,\n",
    "            )\n",
    "            # set ica_input\n",
    "            ica_input = epochs\n",
    "        else:\n",
    "            ica_input = raw_filt\n",
    "            \n",
    "        #### get ica solution ####\n",
    "        ica.fit(ica_input, picks = ['eeg'])\n",
    "        #### ICLabel ####\n",
    "        ic_labels = label_components(ica_input, ica, method=\"iclabel\")\n",
    "        \n",
    "        # save ica solutions\n",
    "        ica.save(output_dir + file.split('.')[0]+ '_icaSolution.fif', overwrite=True)\n",
    "\n",
    "        # save\n",
    "        with open(output_dir + file.split('.')[0]+ '_icLabels.pickle', 'wb') as f:\n",
    "            pickle.dump(ic_labels, f)\n",
    "\n",
    "        #### auto select brain AND other ####\n",
    "        labels = ic_labels[\"labels\"]\n",
    "        exclude_idx = [\n",
    "            idx for idx, label in enumerate(labels) if idx<ic_upto and label not in [\"brain\", \"other\"]\n",
    "        ]\n",
    "        \n",
    "        # ica.apply() changes the Raw object in-place\n",
    "        ica.apply(raw, exclude=exclude_idx)\n",
    "\n",
    "        # record the bad ICs in bad_ICs.txt\n",
    "        with open(output_dir + '/bad_ICs.txt', 'a+') as f:\n",
    "            _ = f.write(file + '\\t' + str(exclude_idx) + '\\n')\n",
    "        \n",
    "        # save data after ICA\n",
    "        raw.save(output_dir + file.split('.')[0]+ '_ica.fif')"
   ]
  },
  {
   "cell_type": "markdown",
   "id": "6de23a93-4aeb-4710-8a2b-200258c26991",
   "metadata": {},
   "source": [
    "# ERP Segmentation\n",
    "segmenting continuous EEG into epochs\n",
    "- re-reference\n",
    "- segmentation"
   ]
  },
  {
   "cell_type": "markdown",
   "id": "358d8702-8942-4336-a0ba-eae9d49e1340",
   "metadata": {},
   "source": [
    "## parameters"
   ]
  },
  {
   "cell_type": "code",
   "execution_count": 8,
   "id": "06f953df-d1f8-4cdc-8da8-a3ab5e83324e",
   "metadata": {},
   "outputs": [],
   "source": [
    "# directory\n",
    "input_dir = work_dir + 'data_preprocessed/3_ica/'\n",
    "output_dir = work_dir + 'data_preprocessed/4_erp_epochs/'\n",
    "# create a folder if the folder doesn't exist\n",
    "os.makedirs(output_dir, exist_ok=True)\n",
    "\n",
    "\n",
    "# Epoch window: \n",
    "erp_t_start = -0.2; erp_t_end = 0.8 # ERP: -100 ~ 700 ms\n",
    "baseline = (-0.2, 0)\n",
    "\n",
    "\n",
    "# criteria to reject epoch\n",
    "# reject_criteria = dict(eeg = 100e-6)       # 100 µV\n",
    "# reject_criteria = dict(eeg = 150e-6)       # 150 µV\n",
    "reject_criteria = dict(eeg = 200e-6)       # 200 µV"
   ]
  },
  {
   "cell_type": "code",
   "execution_count": 9,
   "id": "ed3bd5ac-3ed5-41b7-a073-73c0a9be65a9",
   "metadata": {
    "scrolled": true
   },
   "outputs": [
    {
     "name": "stdout",
     "output_type": "stream",
     "text": [
      "Opening raw data file /Users/chaohan/Library/CloudStorage/OneDrive-UniversityofToronto/Projects/Yas accent/data_preprocessed/3_ica/Yas_258_corr_prep_ica.fif...\n"
     ]
    },
    {
     "name": "stderr",
     "output_type": "stream",
     "text": [
      "/var/folders/j8/8nyf6njj5nzfjcv6s23y3nn40000gn/T/ipykernel_65641/2338549203.py:15: RuntimeWarning: This filename (/Users/chaohan/Library/CloudStorage/OneDrive-UniversityofToronto/Projects/Yas accent/data_preprocessed/3_ica/Yas_258_corr_prep_ica.fif) does not conform to MNE naming conventions. All raw files should end with raw.fif, raw_sss.fif, raw_tsss.fif, _meg.fif, _eeg.fif, _ieeg.fif, raw.fif.gz, raw_sss.fif.gz, raw_tsss.fif.gz, _meg.fif.gz, _eeg.fif.gz or _ieeg.fif.gz\n",
      "  raw = mne.io.read_raw_fif(input_dir + file, preload = True)\n"
     ]
    },
    {
     "name": "stdout",
     "output_type": "stream",
     "text": [
      "    Range : 23135 ... 918784 =     92.540 ...  3675.136 secs\n",
      "Ready.\n",
      "Reading 0 ... 895649  =      0.000 ...  3582.596 secs...\n",
      "EEG channel type selected for re-referencing\n",
      "Applying a custom ('EEG',) reference.\n",
      "Not setting metadata\n",
      "1714 matching events found\n",
      "Applying baseline correction (mode: mean)\n",
      "0 projection items activated\n",
      "Using data from preloaded Raw for 1714 events and 251 original time points ...\n",
      "    Rejecting  epoch based on EEG : ['O2']\n",
      "    Rejecting  epoch based on EEG : ['CP5']\n",
      "    Rejecting  epoch based on EEG : ['O2']\n",
      "    Rejecting  epoch based on EEG : ['FC5', 'C3', 'T7', 'CP5', 'P4', 'CP6', 'C4', 'T8', 'FT10', 'FC6', 'F4', 'F8']\n",
      "    Rejecting  epoch based on EEG : ['FC5', 'CP6', 'C4', 'T8', 'FT10', 'FC6', 'F8']\n",
      "    Rejecting  epoch based on EEG : ['CP6', 'C4', 'FT10', 'F4', 'F8']\n",
      "    Rejecting  epoch based on EEG : ['F3', 'FC5', 'C3', 'T7', 'CP5', 'CP6', 'C4', 'T8', 'FT10', 'FC6', 'F8']\n",
      "    Rejecting  epoch based on EEG : ['CP6', 'C4', 'FT10', 'FC6', 'F4', 'F8']\n",
      "    Rejecting  epoch based on EEG : ['P7', 'O1', 'Oz', 'O2', 'CP6']\n",
      "    Rejecting  epoch based on EEG : ['CP6', 'C4', 'FT10', 'F8']\n",
      "    Rejecting  epoch based on EEG : ['CP6', 'C4', 'FT10', 'F8']\n",
      "    Rejecting  epoch based on EEG : ['CP6']\n",
      "12 bad epochs dropped\n",
      "Opening raw data file /Users/chaohan/Library/CloudStorage/OneDrive-UniversityofToronto/Projects/Yas accent/data_preprocessed/3_ica/Yas_259_corr_prep_ica.fif...\n",
      "    Range : 138741 ... 888705 =    554.964 ...  3554.820 secs\n",
      "Ready.\n",
      "Reading 0 ... 749964  =      0.000 ...  2999.856 secs...\n"
     ]
    },
    {
     "name": "stderr",
     "output_type": "stream",
     "text": [
      "/var/folders/j8/8nyf6njj5nzfjcv6s23y3nn40000gn/T/ipykernel_65641/2338549203.py:15: RuntimeWarning: This filename (/Users/chaohan/Library/CloudStorage/OneDrive-UniversityofToronto/Projects/Yas accent/data_preprocessed/3_ica/Yas_259_corr_prep_ica.fif) does not conform to MNE naming conventions. All raw files should end with raw.fif, raw_sss.fif, raw_tsss.fif, _meg.fif, _eeg.fif, _ieeg.fif, raw.fif.gz, raw_sss.fif.gz, raw_tsss.fif.gz, _meg.fif.gz, _eeg.fif.gz or _ieeg.fif.gz\n",
      "  raw = mne.io.read_raw_fif(input_dir + file, preload = True)\n"
     ]
    },
    {
     "name": "stdout",
     "output_type": "stream",
     "text": [
      "EEG channel type selected for re-referencing\n",
      "Applying a custom ('EEG',) reference.\n",
      "Not setting metadata\n",
      "1373 matching events found\n",
      "Applying baseline correction (mode: mean)\n",
      "0 projection items activated\n",
      "Using data from preloaded Raw for 1373 events and 251 original time points ...\n",
      "    Rejecting  epoch based on EEG : ['CP6']\n",
      "1 bad epochs dropped\n",
      "Opening raw data file /Users/chaohan/Library/CloudStorage/OneDrive-UniversityofToronto/Projects/Yas accent/data_preprocessed/3_ica/Yas_263_corr_prep_ica.fif...\n",
      "    Range : 509 ... 897022 =      2.036 ...  3588.088 secs\n",
      "Ready.\n"
     ]
    },
    {
     "name": "stderr",
     "output_type": "stream",
     "text": [
      "/var/folders/j8/8nyf6njj5nzfjcv6s23y3nn40000gn/T/ipykernel_65641/2338549203.py:15: RuntimeWarning: This filename (/Users/chaohan/Library/CloudStorage/OneDrive-UniversityofToronto/Projects/Yas accent/data_preprocessed/3_ica/Yas_263_corr_prep_ica.fif) does not conform to MNE naming conventions. All raw files should end with raw.fif, raw_sss.fif, raw_tsss.fif, _meg.fif, _eeg.fif, _ieeg.fif, raw.fif.gz, raw_sss.fif.gz, raw_tsss.fif.gz, _meg.fif.gz, _eeg.fif.gz or _ieeg.fif.gz\n",
      "  raw = mne.io.read_raw_fif(input_dir + file, preload = True)\n"
     ]
    },
    {
     "name": "stdout",
     "output_type": "stream",
     "text": [
      "Reading 0 ... 896513  =      0.000 ...  3586.052 secs...\n",
      "EEG channel type selected for re-referencing\n",
      "Applying a custom ('EEG',) reference.\n",
      "Not setting metadata\n",
      "1699 matching events found\n",
      "Applying baseline correction (mode: mean)\n",
      "0 projection items activated\n",
      "Using data from preloaded Raw for 1699 events and 251 original time points ...\n",
      "0 bad epochs dropped\n",
      "Opening raw data file /Users/chaohan/Library/CloudStorage/OneDrive-UniversityofToronto/Projects/Yas accent/data_preprocessed/3_ica/Yas_262_corr_prep_ica.fif...\n"
     ]
    },
    {
     "name": "stderr",
     "output_type": "stream",
     "text": [
      "/var/folders/j8/8nyf6njj5nzfjcv6s23y3nn40000gn/T/ipykernel_65641/2338549203.py:15: RuntimeWarning: This filename (/Users/chaohan/Library/CloudStorage/OneDrive-UniversityofToronto/Projects/Yas accent/data_preprocessed/3_ica/Yas_262_corr_prep_ica.fif) does not conform to MNE naming conventions. All raw files should end with raw.fif, raw_sss.fif, raw_tsss.fif, _meg.fif, _eeg.fif, _ieeg.fif, raw.fif.gz, raw_sss.fif.gz, raw_tsss.fif.gz, _meg.fif.gz, _eeg.fif.gz or _ieeg.fif.gz\n",
      "  raw = mne.io.read_raw_fif(input_dir + file, preload = True)\n"
     ]
    },
    {
     "name": "stdout",
     "output_type": "stream",
     "text": [
      "    Range : 61567 ... 1109732 =    246.268 ...  4438.928 secs\n",
      "Ready.\n",
      "Reading 0 ... 1048165  =      0.000 ...  4192.660 secs...\n",
      "EEG channel type selected for re-referencing\n",
      "Applying a custom ('EEG',) reference.\n",
      "Not setting metadata\n",
      "1664 matching events found\n",
      "Applying baseline correction (mode: mean)\n",
      "0 projection items activated\n",
      "Using data from preloaded Raw for 1664 events and 251 original time points ...\n",
      "    Rejecting  epoch based on EEG : ['CP5', 'P7']\n",
      "    Rejecting  epoch based on EEG : ['FT10']\n",
      "2 bad epochs dropped\n",
      "Opening raw data file /Users/chaohan/Library/CloudStorage/OneDrive-UniversityofToronto/Projects/Yas accent/data_preprocessed/3_ica/Yas_267_corr_prep_ica.fif...\n"
     ]
    },
    {
     "name": "stderr",
     "output_type": "stream",
     "text": [
      "/var/folders/j8/8nyf6njj5nzfjcv6s23y3nn40000gn/T/ipykernel_65641/2338549203.py:15: RuntimeWarning: This filename (/Users/chaohan/Library/CloudStorage/OneDrive-UniversityofToronto/Projects/Yas accent/data_preprocessed/3_ica/Yas_267_corr_prep_ica.fif) does not conform to MNE naming conventions. All raw files should end with raw.fif, raw_sss.fif, raw_tsss.fif, _meg.fif, _eeg.fif, _ieeg.fif, raw.fif.gz, raw_sss.fif.gz, raw_tsss.fif.gz, _meg.fif.gz, _eeg.fif.gz or _ieeg.fif.gz\n",
      "  raw = mne.io.read_raw_fif(input_dir + file, preload = True)\n"
     ]
    },
    {
     "name": "stdout",
     "output_type": "stream",
     "text": [
      "    Range : 524 ... 867040 =      2.096 ...  3468.160 secs\n",
      "Ready.\n",
      "Reading 0 ... 866516  =      0.000 ...  3466.064 secs...\n",
      "EEG channel type selected for re-referencing\n",
      "Applying a custom ('EEG',) reference.\n",
      "Not setting metadata\n",
      "1656 matching events found\n",
      "Applying baseline correction (mode: mean)\n",
      "0 projection items activated\n",
      "Using data from preloaded Raw for 1656 events and 251 original time points ...\n",
      "    Rejecting  epoch based on EEG : ['P7']\n",
      "1 bad epochs dropped\n",
      "Opening raw data file /Users/chaohan/Library/CloudStorage/OneDrive-UniversityofToronto/Projects/Yas accent/data_preprocessed/3_ica/Yas_264_corr_prep_ica.fif...\n",
      "    Range : 550 ... 846337 =      2.200 ...  3385.348 secs\n",
      "Ready.\n",
      "Reading 0 ... 845787  =      0.000 ...  3383.148 secs...\n"
     ]
    },
    {
     "name": "stderr",
     "output_type": "stream",
     "text": [
      "/var/folders/j8/8nyf6njj5nzfjcv6s23y3nn40000gn/T/ipykernel_65641/2338549203.py:15: RuntimeWarning: This filename (/Users/chaohan/Library/CloudStorage/OneDrive-UniversityofToronto/Projects/Yas accent/data_preprocessed/3_ica/Yas_264_corr_prep_ica.fif) does not conform to MNE naming conventions. All raw files should end with raw.fif, raw_sss.fif, raw_tsss.fif, _meg.fif, _eeg.fif, _ieeg.fif, raw.fif.gz, raw_sss.fif.gz, raw_tsss.fif.gz, _meg.fif.gz, _eeg.fif.gz or _ieeg.fif.gz\n",
      "  raw = mne.io.read_raw_fif(input_dir + file, preload = True)\n"
     ]
    },
    {
     "name": "stdout",
     "output_type": "stream",
     "text": [
      "EEG channel type selected for re-referencing\n",
      "Applying a custom ('EEG',) reference.\n",
      "Not setting metadata\n",
      "1668 matching events found\n",
      "Applying baseline correction (mode: mean)\n",
      "0 projection items activated\n",
      "Using data from preloaded Raw for 1668 events and 251 original time points ...\n",
      "    Rejecting  epoch based on EEG : ['Fz', 'FC1']\n",
      "1 bad epochs dropped\n",
      "Opening raw data file /Users/chaohan/Library/CloudStorage/OneDrive-UniversityofToronto/Projects/Yas accent/data_preprocessed/3_ica/Yas_260_corr_prep_ica.fif...\n",
      "    Range : 683 ... 869409 =      2.732 ...  3477.636 secs\n",
      "Ready.\n",
      "Reading 0 ... 868726  =      0.000 ...  3474.904 secs...\n"
     ]
    },
    {
     "name": "stderr",
     "output_type": "stream",
     "text": [
      "/var/folders/j8/8nyf6njj5nzfjcv6s23y3nn40000gn/T/ipykernel_65641/2338549203.py:15: RuntimeWarning: This filename (/Users/chaohan/Library/CloudStorage/OneDrive-UniversityofToronto/Projects/Yas accent/data_preprocessed/3_ica/Yas_260_corr_prep_ica.fif) does not conform to MNE naming conventions. All raw files should end with raw.fif, raw_sss.fif, raw_tsss.fif, _meg.fif, _eeg.fif, _ieeg.fif, raw.fif.gz, raw_sss.fif.gz, raw_tsss.fif.gz, _meg.fif.gz, _eeg.fif.gz or _ieeg.fif.gz\n",
      "  raw = mne.io.read_raw_fif(input_dir + file, preload = True)\n"
     ]
    },
    {
     "name": "stdout",
     "output_type": "stream",
     "text": [
      "EEG channel type selected for re-referencing\n",
      "Applying a custom ('EEG',) reference.\n",
      "Not setting metadata\n",
      "1657 matching events found\n",
      "Applying baseline correction (mode: mean)\n",
      "0 projection items activated\n",
      "Using data from preloaded Raw for 1657 events and 251 original time points ...\n",
      "0 bad epochs dropped\n",
      "Opening raw data file /Users/chaohan/Library/CloudStorage/OneDrive-UniversityofToronto/Projects/Yas accent/data_preprocessed/3_ica/Yas_265_corr_prep_ica.fif...\n",
      "    Range : 0 ... 838511 =      0.000 ...  3354.044 secs\n",
      "Ready.\n",
      "Reading 0 ... 838511  =      0.000 ...  3354.044 secs...\n"
     ]
    },
    {
     "name": "stderr",
     "output_type": "stream",
     "text": [
      "/var/folders/j8/8nyf6njj5nzfjcv6s23y3nn40000gn/T/ipykernel_65641/2338549203.py:15: RuntimeWarning: This filename (/Users/chaohan/Library/CloudStorage/OneDrive-UniversityofToronto/Projects/Yas accent/data_preprocessed/3_ica/Yas_265_corr_prep_ica.fif) does not conform to MNE naming conventions. All raw files should end with raw.fif, raw_sss.fif, raw_tsss.fif, _meg.fif, _eeg.fif, _ieeg.fif, raw.fif.gz, raw_sss.fif.gz, raw_tsss.fif.gz, _meg.fif.gz, _eeg.fif.gz or _ieeg.fif.gz\n",
      "  raw = mne.io.read_raw_fif(input_dir + file, preload = True)\n"
     ]
    },
    {
     "name": "stdout",
     "output_type": "stream",
     "text": [
      "EEG channel type selected for re-referencing\n",
      "Applying a custom ('EEG',) reference.\n",
      "Not setting metadata\n",
      "1657 matching events found\n",
      "Applying baseline correction (mode: mean)\n",
      "0 projection items activated\n",
      "Using data from preloaded Raw for 1657 events and 251 original time points ...\n",
      "    Rejecting  epoch based on EEG : ['CP6', 'C4', 'FT10']\n",
      "    Rejecting  epoch based on EEG : ['C4']\n",
      "    Rejecting  epoch based on EEG : ['P7']\n",
      "    Rejecting  epoch based on EEG : ['CP6', 'C4', 'FT10']\n",
      "    Rejecting  epoch based on EEG : ['C4']\n",
      "    Rejecting  epoch based on EEG : ['C4']\n",
      "    Rejecting  epoch based on EEG : ['CP6', 'C4', 'FT10']\n",
      "    Rejecting  epoch based on EEG : ['C4']\n",
      "    Rejecting  epoch based on EEG : ['O1']\n",
      "    Rejecting  epoch based on EEG : ['C4']\n",
      "    Rejecting  epoch based on EEG : ['CP6', 'C4']\n",
      "    Rejecting  epoch based on EEG : ['C4']\n",
      "    Rejecting  epoch based on EEG : ['FT9', 'T7']\n",
      "    Rejecting  epoch based on EEG : ['C4']\n",
      "    Rejecting  epoch based on EEG : ['CP6', 'C4']\n",
      "    Rejecting  epoch based on EEG : ['T7', 'CP5', 'P7', 'O1', 'P8']\n",
      "    Rejecting  epoch based on EEG : ['P7', 'O1', 'Oz']\n",
      "    Rejecting  epoch based on EEG : ['P7']\n",
      "    Rejecting  epoch based on EEG : ['Fz', 'F3', 'F7', 'T7', 'CP5', 'P3', 'P7', 'O1', 'Oz', 'P8', 'FC6', 'FC2', 'F4', 'F8']\n",
      "    Rejecting  epoch based on EEG : ['P7']\n",
      "    Rejecting  epoch based on EEG : ['O1']\n",
      "    Rejecting  epoch based on EEG : ['CP6', 'C4', 'FT10', 'F8']\n",
      "    Rejecting  epoch based on EEG : ['Pz', 'P7', 'Oz', 'O2', 'P8']\n",
      "    Rejecting  epoch based on EEG : ['FT9']\n",
      "    Rejecting  epoch based on EEG : ['P7']\n",
      "    Rejecting  epoch based on EEG : ['FT9', 'T7']\n",
      "    Rejecting  epoch based on EEG : ['C4']\n",
      "    Rejecting  epoch based on EEG : ['FT9', 'T7']\n",
      "    Rejecting  epoch based on EEG : ['FT9', 'T7']\n",
      "    Rejecting  epoch based on EEG : ['C4', 'F8']\n",
      "    Rejecting  epoch based on EEG : ['C4']\n",
      "    Rejecting  epoch based on EEG : ['O1']\n",
      "    Rejecting  epoch based on EEG : ['C4']\n",
      "    Rejecting  epoch based on EEG : ['C4']\n",
      "    Rejecting  epoch based on EEG : ['P7']\n",
      "    Rejecting  epoch based on EEG : ['O1']\n",
      "    Rejecting  epoch based on EEG : ['P7', 'P8']\n",
      "    Rejecting  epoch based on EEG : ['P8']\n",
      "    Rejecting  epoch based on EEG : ['C4']\n",
      "    Rejecting  epoch based on EEG : ['C4']\n",
      "    Rejecting  epoch based on EEG : ['P7']\n",
      "    Rejecting  epoch based on EEG : ['P7', 'O1', 'Oz']\n",
      "    Rejecting  epoch based on EEG : ['C4', 'FT10']\n",
      "    Rejecting  epoch based on EEG : ['FT9', 'P7', 'O1']\n",
      "    Rejecting  epoch based on EEG : ['FT9', 'FC1', 'T7']\n",
      "    Rejecting  epoch based on EEG : ['P7', 'P8']\n",
      "    Rejecting  epoch based on EEG : ['Fz', 'F3', 'F7', 'FC5', 'T7', 'CP5', 'P3', 'P7', 'O1', 'Oz', 'O2', 'P8', 'CP6', 'FT10', 'FC6', 'F4', 'F8']\n",
      "    Rejecting  epoch based on EEG : ['P7', 'O1', 'P8']\n",
      "    Rejecting  epoch based on EEG : ['CP6', 'C4', 'FT10', 'F8']\n",
      "    Rejecting  epoch based on EEG : ['C4']\n",
      "    Rejecting  epoch based on EEG : ['O1']\n",
      "    Rejecting  epoch based on EEG : ['C4']\n",
      "    Rejecting  epoch based on EEG : ['P8']\n",
      "    Rejecting  epoch based on EEG : ['O1']\n",
      "    Rejecting  epoch based on EEG : ['FT9', 'FC1', 'C3', 'T7', 'P7', 'O1', 'C4', 'F4', 'F8']\n",
      "    Rejecting  epoch based on EEG : ['CP6', 'C4', 'F8']\n",
      "    Rejecting  epoch based on EEG : ['C4']\n",
      "57 bad epochs dropped\n"
     ]
    }
   ],
   "source": [
    "# initialize a list for subjects with too many bad trials\n",
    "too_many_bad_trial_subjects = []\n",
    "\n",
    "# get file names\n",
    "all_input = os.listdir(input_dir)\n",
    "all_output = os.listdir(output_dir)\n",
    "\n",
    "\n",
    "#### re-reference, and epoch ####\n",
    "for file in all_input:\n",
    "    \n",
    "    if file.endswith(\"ica.fif\") and (file.split('.')[0] + '_epo.fif' not in all_output):\n",
    "        \n",
    "        # read in data\n",
    "        raw = mne.io.read_raw_fif(input_dir + file, preload = True)\n",
    "        \n",
    "        # average-mastoids re-reference\n",
    "        raw.set_eeg_reference(ref_channels = ['TP9', 'TP10'])\n",
    "        \n",
    "        #### this is for source calculation ####\n",
    "        # filter the data, optional\n",
    "        # raw = raw.filter(l_freq=None, h_freq=30) \n",
    "\n",
    "        # sphere = mne.make_sphere_model('auto', 'auto', raw.info)\n",
    "        # src = mne.setup_volume_source_space(sphere=sphere, exclude=30., pos=15.)\n",
    "        # forward = mne.make_forward_solution(raw.info, trans=None, src=src, bem=sphere)\n",
    "        # raw = raw.set_eeg_reference('REST', forward=forward)\n",
    "        ########################################\n",
    "\n",
    "        # pick EEG channels\n",
    "        # picks = mne.pick_types(raw.info, eeg = True)\n",
    "        \n",
    "        # get event info for segmentation\n",
    "        events_from_annot, event_dict = mne.events_from_annotations(raw, verbose='WARNING')\n",
    "        \n",
    "        # segmentation for ERP\n",
    "        epochs = mne.Epochs(\n",
    "            raw,\n",
    "            events = events_from_annot, event_id = event_dict,\n",
    "            tmin = erp_t_start, tmax = erp_t_end,\n",
    "            # apply baseline correction\n",
    "            baseline = baseline,\n",
    "            # remove epochs that meet the rejection criteria\n",
    "            reject = reject_criteria,\n",
    "            preload = True,\n",
    "        )\n",
    "\n",
    "        # remove 0 trial events, record info, and check if a subject is bad\n",
    "        for k, v in event_dict.items():\n",
    "\n",
    "            # good trial count\n",
    "            trial_count = len(epochs[k])\n",
    "\n",
    "            # remove 0 trial event\n",
    "            if trial_count==0:\n",
    "                del epochs.event_id[k]\n",
    "\n",
    "            # good trial rate\n",
    "            goodTrial_rate = round( trial_count/sum(events_from_annot[:,2]==v), 2 )\n",
    "            \n",
    "            # record epoch summary\n",
    "            with open(output_dir + 'epoch_summary.txt', 'a+') as f:\n",
    "                _ =f.write(file.split('_')[1] + '\\t' + k + '\\t' + str(trial_count) + '\\t' + str(goodTrial_rate) + '\\n')\n",
    "                \n",
    "            # mark a participant bad if any condition has fewer than 1/2 trials\n",
    "            if ( goodTrial_rate < 0.5 ):\n",
    "                # mark the subject file as bad\n",
    "                if file.split('_')[1] not in too_many_bad_trial_subjects:\n",
    "                    too_many_bad_trial_subjects.append(file.split('_')[1])\n",
    "\n",
    "        # save single participant file\n",
    "        epochs.save(output_dir + file.split('.')[0] + '_epo.fif',\n",
    "                   overwrite=True)\n",
    "\n",
    "\n",
    "# export the record of bad subjects for ERP\n",
    "with open(output_dir + 'too_many_bad_trial_subjects.txt', 'w') as file:\n",
    "    # Write each item in the list to the file\n",
    "    for item in too_many_bad_trial_subjects:\n",
    "        file.write(item + '\\n')"
   ]
  },
  {
   "cell_type": "markdown",
   "id": "1cc170fc-a627-4936-82df-3384c08360d9",
   "metadata": {},
   "source": [
    "# ERP average"
   ]
  },
  {
   "cell_type": "markdown",
   "id": "974fe00c-b1f3-44ae-b5cd-2e02ba483770",
   "metadata": {},
   "source": [
    "## parameters"
   ]
  },
  {
   "cell_type": "code",
   "execution_count": 10,
   "id": "086bed6f-65cd-452f-bc56-1d1e300c3498",
   "metadata": {},
   "outputs": [],
   "source": [
    "# directory\n",
    "input_dir = work_dir + 'data_preprocessed/4_erp_epochs/'\n",
    "output_dir = work_dir + 'data_preprocessed/5_averaged/'\n",
    "# create a folder if the folder doesn't exist\n",
    "os.makedirs(output_dir, exist_ok=True)"
   ]
  },
  {
   "cell_type": "code",
   "execution_count": 11,
   "id": "5bd6be7e-a61f-4f8b-a900-6efa59a1d48f",
   "metadata": {
    "scrolled": true
   },
   "outputs": [
    {
     "name": "stdout",
     "output_type": "stream",
     "text": [
      "Reading /Users/chaohan/Library/CloudStorage/OneDrive-UniversityofToronto/Projects/Yas accent/data_preprocessed/4_epochs/Yas_152_corr_prep_ica_epo.fif ...\n",
      "    Found the data of interest:\n",
      "        t =    -200.00 ...     800.00 ms\n",
      "        0 CTF compensation matrices available\n",
      "Not setting metadata\n",
      "1675 matching events found\n",
      "No baseline correction applied\n",
      "0 projection items activated\n",
      "Reading /Users/chaohan/Library/CloudStorage/OneDrive-UniversityofToronto/Projects/Yas accent/data_preprocessed/4_epochs/Yas_200_corr_prep_ica_epo.fif ...\n",
      "    Found the data of interest:\n",
      "        t =    -200.00 ...     800.00 ms\n",
      "        0 CTF compensation matrices available\n",
      "Not setting metadata\n",
      "1426 matching events found\n",
      "No baseline correction applied\n",
      "0 projection items activated\n",
      "Reading /Users/chaohan/Library/CloudStorage/OneDrive-UniversityofToronto/Projects/Yas accent/data_preprocessed/4_epochs/Yas_216_corr_prep_ica_epo.fif ...\n",
      "    Found the data of interest:\n",
      "        t =    -200.00 ...     800.00 ms\n",
      "        0 CTF compensation matrices available\n",
      "Not setting metadata\n",
      "1680 matching events found\n",
      "No baseline correction applied\n",
      "0 projection items activated\n",
      "Reading /Users/chaohan/Library/CloudStorage/OneDrive-UniversityofToronto/Projects/Yas accent/data_preprocessed/4_epochs/Yas_144_corr_prep_ica_epo.fif ...\n",
      "    Found the data of interest:\n",
      "        t =    -200.00 ...     800.00 ms\n",
      "        0 CTF compensation matrices available\n",
      "Not setting metadata\n",
      "1770 matching events found\n",
      "No baseline correction applied\n",
      "0 projection items activated\n",
      "Reading /Users/chaohan/Library/CloudStorage/OneDrive-UniversityofToronto/Projects/Yas accent/data_preprocessed/4_epochs/Yas_168_corr_prep_ica_epo.fif ...\n",
      "    Found the data of interest:\n",
      "        t =    -200.00 ...     800.00 ms\n",
      "        0 CTF compensation matrices available\n",
      "Not setting metadata\n",
      "1653 matching events found\n",
      "No baseline correction applied\n",
      "0 projection items activated\n",
      "Reading /Users/chaohan/Library/CloudStorage/OneDrive-UniversityofToronto/Projects/Yas accent/data_preprocessed/4_epochs/Yas_106_corr_prep_ica_epo.fif ...\n",
      "    Found the data of interest:\n",
      "        t =    -200.00 ...     800.00 ms\n",
      "        0 CTF compensation matrices available\n",
      "Not setting metadata\n",
      "1659 matching events found\n",
      "No baseline correction applied\n",
      "0 projection items activated\n",
      "Reading /Users/chaohan/Library/CloudStorage/OneDrive-UniversityofToronto/Projects/Yas accent/data_preprocessed/4_epochs/Yas_254_corr_prep_ica_epo.fif ...\n",
      "    Found the data of interest:\n",
      "        t =    -200.00 ...     800.00 ms\n",
      "        0 CTF compensation matrices available\n",
      "Not setting metadata\n",
      "1604 matching events found\n",
      "No baseline correction applied\n",
      "0 projection items activated\n",
      "Reading /Users/chaohan/Library/CloudStorage/OneDrive-UniversityofToronto/Projects/Yas accent/data_preprocessed/4_epochs/Yas_242_corr_prep_ica_epo.fif ...\n",
      "    Found the data of interest:\n",
      "        t =    -200.00 ...     800.00 ms\n",
      "        0 CTF compensation matrices available\n",
      "Not setting metadata\n",
      "1675 matching events found\n",
      "No baseline correction applied\n",
      "0 projection items activated\n",
      "Reading /Users/chaohan/Library/CloudStorage/OneDrive-UniversityofToronto/Projects/Yas accent/data_preprocessed/4_epochs/Yas_110_corr_prep_ica_epo.fif ...\n",
      "    Found the data of interest:\n",
      "        t =    -200.00 ...     800.00 ms\n",
      "        0 CTF compensation matrices available\n",
      "Not setting metadata\n",
      "1732 matching events found\n",
      "No baseline correction applied\n",
      "0 projection items activated\n",
      "Reading /Users/chaohan/Library/CloudStorage/OneDrive-UniversityofToronto/Projects/Yas accent/data_preprocessed/4_epochs/Yas_122_corr_prep_ica_epo.fif ...\n",
      "    Found the data of interest:\n",
      "        t =    -200.00 ...     800.00 ms\n",
      "        0 CTF compensation matrices available\n",
      "Not setting metadata\n",
      "1474 matching events found\n",
      "No baseline correction applied\n",
      "0 projection items activated\n",
      "Reading /Users/chaohan/Library/CloudStorage/OneDrive-UniversityofToronto/Projects/Yas accent/data_preprocessed/4_epochs/Yas_194_corr_prep_ica_epo.fif ...\n",
      "    Found the data of interest:\n",
      "        t =    -200.00 ...     800.00 ms\n",
      "        0 CTF compensation matrices available\n",
      "Not setting metadata\n",
      "1637 matching events found\n",
      "No baseline correction applied\n",
      "0 projection items activated\n",
      "Reading /Users/chaohan/Library/CloudStorage/OneDrive-UniversityofToronto/Projects/Yas accent/data_preprocessed/4_epochs/Yas_208_corr_prep_ica_epo.fif ...\n",
      "    Found the data of interest:\n",
      "        t =    -200.00 ...     800.00 ms\n",
      "        0 CTF compensation matrices available\n",
      "Not setting metadata\n",
      "1689 matching events found\n",
      "No baseline correction applied\n",
      "0 projection items activated\n",
      "Reading /Users/chaohan/Library/CloudStorage/OneDrive-UniversityofToronto/Projects/Yas accent/data_preprocessed/4_epochs/Yas_182_corr_prep_ica_epo.fif ...\n",
      "    Found the data of interest:\n",
      "        t =    -200.00 ...     800.00 ms\n",
      "        0 CTF compensation matrices available\n",
      "Not setting metadata\n",
      "389 matching events found\n",
      "No baseline correction applied\n",
      "0 projection items activated\n",
      "Reading /Users/chaohan/Library/CloudStorage/OneDrive-UniversityofToronto/Projects/Yas accent/data_preprocessed/4_epochs/Yas_134_corr_prep_ica_epo.fif ...\n",
      "    Found the data of interest:\n",
      "        t =    -200.00 ...     800.00 ms\n",
      "        0 CTF compensation matrices available\n",
      "Not setting metadata\n",
      "1708 matching events found\n",
      "No baseline correction applied\n",
      "0 projection items activated\n",
      "Reading /Users/chaohan/Library/CloudStorage/OneDrive-UniversityofToronto/Projects/Yas accent/data_preprocessed/4_epochs/Yas_118_corr_prep_ica_epo.fif ...\n",
      "    Found the data of interest:\n",
      "        t =    -200.00 ...     800.00 ms\n",
      "        0 CTF compensation matrices available\n",
      "Not setting metadata\n",
      "1643 matching events found\n",
      "No baseline correction applied\n",
      "0 projection items activated\n",
      "Reading /Users/chaohan/Library/CloudStorage/OneDrive-UniversityofToronto/Projects/Yas accent/data_preprocessed/4_epochs/Yas_176_corr_prep_ica_epo.fif ...\n",
      "    Found the data of interest:\n",
      "        t =    -200.00 ...     800.00 ms\n",
      "        0 CTF compensation matrices available\n",
      "Not setting metadata\n",
      "1700 matching events found\n",
      "No baseline correction applied\n",
      "0 projection items activated\n",
      "Reading /Users/chaohan/Library/CloudStorage/OneDrive-UniversityofToronto/Projects/Yas accent/data_preprocessed/4_epochs/Yas_224_corr_prep_ica_epo.fif ...\n",
      "    Found the data of interest:\n",
      "        t =    -200.00 ...     800.00 ms\n",
      "        0 CTF compensation matrices available\n",
      "Not setting metadata\n",
      "1680 matching events found\n",
      "No baseline correction applied\n",
      "0 projection items activated\n",
      "Reading /Users/chaohan/Library/CloudStorage/OneDrive-UniversityofToronto/Projects/Yas accent/data_preprocessed/4_epochs/Yas_232_corr_prep_ica_epo.fif ...\n",
      "    Found the data of interest:\n",
      "        t =    -200.00 ...     800.00 ms\n",
      "        0 CTF compensation matrices available\n",
      "Not setting metadata\n",
      "1710 matching events found\n",
      "No baseline correction applied\n",
      "0 projection items activated\n",
      "Reading /Users/chaohan/Library/CloudStorage/OneDrive-UniversityofToronto/Projects/Yas accent/data_preprocessed/4_epochs/Yas_256_corr_prep_ica_epo.fif ...\n",
      "    Found the data of interest:\n",
      "        t =    -200.00 ...     800.00 ms\n",
      "        0 CTF compensation matrices available\n",
      "Not setting metadata\n",
      "1711 matching events found\n",
      "No baseline correction applied\n",
      "0 projection items activated\n",
      "Reading /Users/chaohan/Library/CloudStorage/OneDrive-UniversityofToronto/Projects/Yas accent/data_preprocessed/4_epochs/Yas_238_corr_prep_ica_epo.fif ...\n",
      "    Found the data of interest:\n",
      "        t =    -200.00 ...     800.00 ms\n",
      "        0 CTF compensation matrices available\n",
      "Not setting metadata\n",
      "1639 matching events found\n",
      "No baseline correction applied\n",
      "0 projection items activated\n",
      "Reading /Users/chaohan/Library/CloudStorage/OneDrive-UniversityofToronto/Projects/Yas accent/data_preprocessed/4_epochs/Yas_104_corr_prep_ica_epo.fif ...\n",
      "    Found the data of interest:\n",
      "        t =    -200.00 ...     800.00 ms\n",
      "        0 CTF compensation matrices available\n",
      "Not setting metadata\n",
      "1705 matching events found\n",
      "No baseline correction applied\n",
      "0 projection items activated\n",
      "Reading /Users/chaohan/Library/CloudStorage/OneDrive-UniversityofToronto/Projects/Yas accent/data_preprocessed/4_epochs/Yas_112_corr_prep_ica_epo.fif ...\n",
      "    Found the data of interest:\n",
      "        t =    -200.00 ...     800.00 ms\n",
      "        0 CTF compensation matrices available\n",
      "Not setting metadata\n",
      "1598 matching events found\n",
      "No baseline correction applied\n",
      "0 projection items activated\n",
      "Reading /Users/chaohan/Library/CloudStorage/OneDrive-UniversityofToronto/Projects/Yas accent/data_preprocessed/4_epochs/Yas_240_corr_prep_ica_epo.fif ...\n",
      "    Found the data of interest:\n",
      "        t =    -200.00 ...     800.00 ms\n",
      "        0 CTF compensation matrices available\n",
      "Not setting metadata\n",
      "1699 matching events found\n",
      "No baseline correction applied\n",
      "0 projection items activated\n",
      "Reading /Users/chaohan/Library/CloudStorage/OneDrive-UniversityofToronto/Projects/Yas accent/data_preprocessed/4_epochs/Yas_188_corr_prep_ica_epo.fif ...\n",
      "    Found the data of interest:\n",
      "        t =    -200.00 ...     800.00 ms\n",
      "        0 CTF compensation matrices available\n",
      "Not setting metadata\n",
      "1691 matching events found\n",
      "No baseline correction applied\n",
      "0 projection items activated\n",
      "Reading /Users/chaohan/Library/CloudStorage/OneDrive-UniversityofToronto/Projects/Yas accent/data_preprocessed/4_epochs/Yas_202_corr_prep_ica_epo.fif ...\n",
      "    Found the data of interest:\n",
      "        t =    -200.00 ...     800.00 ms\n",
      "        0 CTF compensation matrices available\n",
      "Not setting metadata\n",
      "1639 matching events found\n",
      "No baseline correction applied\n",
      "0 projection items activated\n",
      "Reading /Users/chaohan/Library/CloudStorage/OneDrive-UniversityofToronto/Projects/Yas accent/data_preprocessed/4_epochs/Yas_150_corr_prep_ica_epo.fif ...\n",
      "    Found the data of interest:\n",
      "        t =    -200.00 ...     800.00 ms\n",
      "        0 CTF compensation matrices available\n",
      "Not setting metadata\n",
      "1682 matching events found\n",
      "No baseline correction applied\n",
      "0 projection items activated\n",
      "Reading /Users/chaohan/Library/CloudStorage/OneDrive-UniversityofToronto/Projects/Yas accent/data_preprocessed/4_epochs/Yas_146_corr_prep_ica_epo.fif ...\n",
      "    Found the data of interest:\n",
      "        t =    -200.00 ...     800.00 ms\n",
      "        0 CTF compensation matrices available\n",
      "Not setting metadata\n",
      "1721 matching events found\n",
      "No baseline correction applied\n",
      "0 projection items activated\n",
      "Reading /Users/chaohan/Library/CloudStorage/OneDrive-UniversityofToronto/Projects/Yas accent/data_preprocessed/4_epochs/Yas_128_corr_prep_ica_epo.fif ...\n",
      "    Found the data of interest:\n",
      "        t =    -200.00 ...     800.00 ms\n",
      "        0 CTF compensation matrices available\n",
      "Not setting metadata\n",
      "1683 matching events found\n",
      "No baseline correction applied\n",
      "0 projection items activated\n",
      "Reading /Users/chaohan/Library/CloudStorage/OneDrive-UniversityofToronto/Projects/Yas accent/data_preprocessed/4_epochs/Yas_214_corr_prep_ica_epo.fif ...\n",
      "    Found the data of interest:\n",
      "        t =    -200.00 ...     800.00 ms\n",
      "        0 CTF compensation matrices available\n",
      "Not setting metadata\n",
      "1750 matching events found\n",
      "No baseline correction applied\n",
      "0 projection items activated\n",
      "Reading /Users/chaohan/Library/CloudStorage/OneDrive-UniversityofToronto/Projects/Yas accent/data_preprocessed/4_epochs/Yas_226_corr_prep_ica_epo.fif ...\n",
      "    Found the data of interest:\n",
      "        t =    -200.00 ...     800.00 ms\n",
      "        0 CTF compensation matrices available\n",
      "Not setting metadata\n",
      "1716 matching events found\n",
      "No baseline correction applied\n",
      "0 projection items activated\n",
      "Reading /Users/chaohan/Library/CloudStorage/OneDrive-UniversityofToronto/Projects/Yas accent/data_preprocessed/4_epochs/Yas_248_corr_prep_ica_epo.fif ...\n",
      "    Found the data of interest:\n",
      "        t =    -200.00 ...     800.00 ms\n",
      "        0 CTF compensation matrices available\n",
      "Not setting metadata\n",
      "1720 matching events found\n",
      "No baseline correction applied\n",
      "0 projection items activated\n",
      "Reading /Users/chaohan/Library/CloudStorage/OneDrive-UniversityofToronto/Projects/Yas accent/data_preprocessed/4_epochs/Yas_174_corr_prep_ica_epo.fif ...\n",
      "    Found the data of interest:\n",
      "        t =    -200.00 ...     800.00 ms\n",
      "        0 CTF compensation matrices available\n",
      "Not setting metadata\n",
      "1645 matching events found\n",
      "No baseline correction applied\n",
      "0 projection items activated\n",
      "Reading /Users/chaohan/Library/CloudStorage/OneDrive-UniversityofToronto/Projects/Yas accent/data_preprocessed/4_epochs/Yas_162_corr_prep_ica_epo.fif ...\n",
      "    Found the data of interest:\n",
      "        t =    -200.00 ...     800.00 ms\n",
      "        0 CTF compensation matrices available\n",
      "Not setting metadata\n",
      "1645 matching events found\n",
      "No baseline correction applied\n",
      "0 projection items activated\n",
      "Reading /Users/chaohan/Library/CloudStorage/OneDrive-UniversityofToronto/Projects/Yas accent/data_preprocessed/4_epochs/Yas_230_corr_prep_ica_epo.fif ...\n",
      "    Found the data of interest:\n",
      "        t =    -200.00 ...     800.00 ms\n",
      "        0 CTF compensation matrices available\n",
      "Not setting metadata\n",
      "1689 matching events found\n",
      "No baseline correction applied\n",
      "0 projection items activated\n",
      "Reading /Users/chaohan/Library/CloudStorage/OneDrive-UniversityofToronto/Projects/Yas accent/data_preprocessed/4_epochs/Yas_196_corr_prep_ica_epo.fif ...\n",
      "    Found the data of interest:\n",
      "        t =    -200.00 ...     800.00 ms\n",
      "        0 CTF compensation matrices available\n",
      "Not setting metadata\n",
      "1665 matching events found\n",
      "No baseline correction applied\n",
      "0 projection items activated\n",
      "Reading /Users/chaohan/Library/CloudStorage/OneDrive-UniversityofToronto/Projects/Yas accent/data_preprocessed/4_epochs/Yas_120_corr_prep_ica_epo.fif ...\n",
      "    Found the data of interest:\n",
      "        t =    -200.00 ...     800.00 ms\n",
      "        0 CTF compensation matrices available\n",
      "Not setting metadata\n",
      "1724 matching events found\n",
      "No baseline correction applied\n",
      "0 projection items activated\n",
      "Reading /Users/chaohan/Library/CloudStorage/OneDrive-UniversityofToronto/Projects/Yas accent/data_preprocessed/4_epochs/Yas_136_corr_prep_ica_epo.fif ...\n",
      "    Found the data of interest:\n",
      "        t =    -200.00 ...     800.00 ms\n",
      "        0 CTF compensation matrices available\n",
      "Not setting metadata\n",
      "1640 matching events found\n",
      "No baseline correction applied\n",
      "0 projection items activated\n",
      "Reading /Users/chaohan/Library/CloudStorage/OneDrive-UniversityofToronto/Projects/Yas accent/data_preprocessed/4_epochs/Yas_158_corr_prep_ica_epo.fif ...\n",
      "    Found the data of interest:\n",
      "        t =    -200.00 ...     800.00 ms\n",
      "        0 CTF compensation matrices available\n",
      "Not setting metadata\n",
      "1645 matching events found\n",
      "No baseline correction applied\n",
      "0 projection items activated\n",
      "Reading /Users/chaohan/Library/CloudStorage/OneDrive-UniversityofToronto/Projects/Yas accent/data_preprocessed/4_epochs/Yas_264_corr_prep_ica_epo.fif ...\n",
      "    Found the data of interest:\n",
      "        t =    -200.00 ...     800.00 ms\n",
      "        0 CTF compensation matrices available\n",
      "Not setting metadata\n",
      "1667 matching events found\n",
      "No baseline correction applied\n",
      "0 projection items activated\n",
      "Reading /Users/chaohan/Library/CloudStorage/OneDrive-UniversityofToronto/Projects/Yas accent/data_preprocessed/4_epochs/Yas_126_corr_prep_ica_epo.fif ...\n",
      "    Found the data of interest:\n",
      "        t =    -200.00 ...     800.00 ms\n",
      "        0 CTF compensation matrices available\n",
      "Not setting metadata\n",
      "1686 matching events found\n",
      "No baseline correction applied\n",
      "0 projection items activated\n",
      "Reading /Users/chaohan/Library/CloudStorage/OneDrive-UniversityofToronto/Projects/Yas accent/data_preprocessed/4_epochs/Yas_148_corr_prep_ica_epo.fif ...\n",
      "    Found the data of interest:\n",
      "        t =    -200.00 ...     800.00 ms\n",
      "        0 CTF compensation matrices available\n",
      "Not setting metadata\n",
      "1727 matching events found\n",
      "No baseline correction applied\n",
      "0 projection items activated\n",
      "Reading /Users/chaohan/Library/CloudStorage/OneDrive-UniversityofToronto/Projects/Yas accent/data_preprocessed/4_epochs/Yas_130_corr_prep_ica_epo.fif ...\n",
      "    Found the data of interest:\n",
      "        t =    -200.00 ...     800.00 ms\n",
      "        0 CTF compensation matrices available\n",
      "Not setting metadata\n",
      "1645 matching events found\n",
      "No baseline correction applied\n",
      "0 projection items activated\n",
      "Reading /Users/chaohan/Library/CloudStorage/OneDrive-UniversityofToronto/Projects/Yas accent/data_preprocessed/4_epochs/Yas_262_corr_prep_ica_epo.fif ...\n",
      "    Found the data of interest:\n",
      "        t =    -200.00 ...     800.00 ms\n",
      "        0 CTF compensation matrices available\n",
      "Not setting metadata\n",
      "1662 matching events found\n",
      "No baseline correction applied\n",
      "0 projection items activated\n",
      "Reading /Users/chaohan/Library/CloudStorage/OneDrive-UniversityofToronto/Projects/Yas accent/data_preprocessed/4_epochs/Yas_186_corr_prep_ica_epo.fif ...\n",
      "    Found the data of interest:\n",
      "        t =    -200.00 ...     800.00 ms\n",
      "        0 CTF compensation matrices available\n",
      "Not setting metadata\n",
      "1648 matching events found\n",
      "No baseline correction applied\n",
      "0 projection items activated\n",
      "Reading /Users/chaohan/Library/CloudStorage/OneDrive-UniversityofToronto/Projects/Yas accent/data_preprocessed/4_epochs/Yas_220_corr_prep_ica_epo.fif ...\n",
      "    Found the data of interest:\n",
      "        t =    -200.00 ...     800.00 ms\n",
      "        0 CTF compensation matrices available\n",
      "Not setting metadata\n",
      "1686 matching events found\n",
      "No baseline correction applied\n",
      "0 projection items activated\n",
      "Reading /Users/chaohan/Library/CloudStorage/OneDrive-UniversityofToronto/Projects/Yas accent/data_preprocessed/4_epochs/Yas_172_corr_prep_ica_epo.fif ...\n",
      "    Found the data of interest:\n",
      "        t =    -200.00 ...     800.00 ms\n",
      "        0 CTF compensation matrices available\n",
      "Not setting metadata\n",
      "1652 matching events found\n",
      "No baseline correction applied\n",
      "0 projection items activated\n",
      "Reading /Users/chaohan/Library/CloudStorage/OneDrive-UniversityofToronto/Projects/Yas accent/data_preprocessed/4_epochs/Yas_164_corr_prep_ica_epo.fif ...\n",
      "    Found the data of interest:\n",
      "        t =    -200.00 ...     800.00 ms\n",
      "        0 CTF compensation matrices available\n",
      "Not setting metadata\n",
      "1682 matching events found\n",
      "No baseline correction applied\n",
      "0 projection items activated\n",
      "Reading /Users/chaohan/Library/CloudStorage/OneDrive-UniversityofToronto/Projects/Yas accent/data_preprocessed/4_epochs/Yas_236_corr_prep_ica_epo.fif ...\n",
      "    Found the data of interest:\n",
      "        t =    -200.00 ...     800.00 ms\n",
      "        0 CTF compensation matrices available\n",
      "Not setting metadata\n",
      "1637 matching events found\n",
      "No baseline correction applied\n",
      "0 projection items activated\n",
      "Reading /Users/chaohan/Library/CloudStorage/OneDrive-UniversityofToronto/Projects/Yas accent/data_preprocessed/4_epochs/Yas_258_corr_prep_ica_epo.fif ...\n",
      "    Found the data of interest:\n",
      "        t =    -200.00 ...     800.00 ms\n",
      "        0 CTF compensation matrices available\n",
      "Not setting metadata\n",
      "1702 matching events found\n",
      "No baseline correction applied\n",
      "0 projection items activated\n",
      "Reading /Users/chaohan/Library/CloudStorage/OneDrive-UniversityofToronto/Projects/Yas accent/data_preprocessed/4_epochs/Yas_204_corr_prep_ica_epo.fif ...\n",
      "    Found the data of interest:\n",
      "        t =    -200.00 ...     800.00 ms\n",
      "        0 CTF compensation matrices available\n",
      "Not setting metadata\n",
      "1646 matching events found\n",
      "No baseline correction applied\n",
      "0 projection items activated\n",
      "Reading /Users/chaohan/Library/CloudStorage/OneDrive-UniversityofToronto/Projects/Yas accent/data_preprocessed/4_epochs/Yas_156_corr_prep_ica_epo.fif ...\n",
      "    Found the data of interest:\n",
      "        t =    -200.00 ...     800.00 ms\n",
      "        0 CTF compensation matrices available\n",
      "Not setting metadata\n",
      "1671 matching events found\n",
      "No baseline correction applied\n",
      "0 projection items activated\n",
      "Reading /Users/chaohan/Library/CloudStorage/OneDrive-UniversityofToronto/Projects/Yas accent/data_preprocessed/4_epochs/Yas_138_corr_prep_ica_epo.fif ...\n",
      "    Found the data of interest:\n",
      "        t =    -200.00 ...     800.00 ms\n",
      "        0 CTF compensation matrices available\n",
      "Not setting metadata\n",
      "1682 matching events found\n",
      "No baseline correction applied\n",
      "0 projection items activated\n",
      "Reading /Users/chaohan/Library/CloudStorage/OneDrive-UniversityofToronto/Projects/Yas accent/data_preprocessed/4_epochs/Yas_198_corr_prep_ica_epo.fif ...\n",
      "    Found the data of interest:\n",
      "        t =    -200.00 ...     800.00 ms\n",
      "        0 CTF compensation matrices available\n",
      "Not setting metadata\n",
      "1622 matching events found\n",
      "No baseline correction applied\n",
      "0 projection items activated\n",
      "Reading /Users/chaohan/Library/CloudStorage/OneDrive-UniversityofToronto/Projects/Yas accent/data_preprocessed/4_epochs/Yas_212_corr_prep_ica_epo.fif ...\n",
      "    Found the data of interest:\n",
      "        t =    -200.00 ...     800.00 ms\n",
      "        0 CTF compensation matrices available\n",
      "Not setting metadata\n",
      "1671 matching events found\n",
      "No baseline correction applied\n",
      "0 projection items activated\n",
      "Reading /Users/chaohan/Library/CloudStorage/OneDrive-UniversityofToronto/Projects/Yas accent/data_preprocessed/4_epochs/Yas_250_corr_prep_ica_epo.fif ...\n",
      "    Found the data of interest:\n",
      "        t =    -200.00 ...     800.00 ms\n",
      "        0 CTF compensation matrices available\n",
      "Not setting metadata\n",
      "1680 matching events found\n",
      "No baseline correction applied\n",
      "0 projection items activated\n",
      "Reading /Users/chaohan/Library/CloudStorage/OneDrive-UniversityofToronto/Projects/Yas accent/data_preprocessed/4_epochs/Yas_102_corr_prep_ica_epo.fif ...\n",
      "    Found the data of interest:\n",
      "        t =    -200.00 ...     800.00 ms\n",
      "        0 CTF compensation matrices available\n",
      "Not setting metadata\n",
      "1633 matching events found\n",
      "No baseline correction applied\n",
      "0 projection items activated\n",
      "Reading /Users/chaohan/Library/CloudStorage/OneDrive-UniversityofToronto/Projects/Yas accent/data_preprocessed/4_epochs/Yas_114_corr_prep_ica_epo.fif ...\n",
      "    Found the data of interest:\n",
      "        t =    -200.00 ...     800.00 ms\n",
      "        0 CTF compensation matrices available\n",
      "Not setting metadata\n",
      "1722 matching events found\n",
      "No baseline correction applied\n",
      "0 projection items activated\n",
      "Reading /Users/chaohan/Library/CloudStorage/OneDrive-UniversityofToronto/Projects/Yas accent/data_preprocessed/4_epochs/Yas_246_corr_prep_ica_epo.fif ...\n",
      "    Found the data of interest:\n",
      "        t =    -200.00 ...     800.00 ms\n",
      "        0 CTF compensation matrices available\n",
      "Not setting metadata\n",
      "1638 matching events found\n",
      "No baseline correction applied\n",
      "0 projection items activated\n",
      "Reading /Users/chaohan/Library/CloudStorage/OneDrive-UniversityofToronto/Projects/Yas accent/data_preprocessed/4_epochs/Yas_228_corr_prep_ica_epo.fif ...\n",
      "    Found the data of interest:\n",
      "        t =    -200.00 ...     800.00 ms\n",
      "        0 CTF compensation matrices available\n",
      "Not setting metadata\n",
      "1708 matching events found\n",
      "No baseline correction applied\n",
      "0 projection items activated\n",
      "Reading /Users/chaohan/Library/CloudStorage/OneDrive-UniversityofToronto/Projects/Yas accent/data_preprocessed/4_epochs/Yas_170_corr_prep_ica_epo.fif ...\n",
      "    Found the data of interest:\n",
      "        t =    -200.00 ...     800.00 ms\n",
      "        0 CTF compensation matrices available\n",
      "Not setting metadata\n",
      "1719 matching events found\n",
      "No baseline correction applied\n",
      "0 projection items activated\n",
      "Reading /Users/chaohan/Library/CloudStorage/OneDrive-UniversityofToronto/Projects/Yas accent/data_preprocessed/4_epochs/Yas_222_corr_prep_ica_epo.fif ...\n",
      "    Found the data of interest:\n",
      "        t =    -200.00 ...     800.00 ms\n",
      "        0 CTF compensation matrices available\n",
      "Not setting metadata\n",
      "1707 matching events found\n",
      "No baseline correction applied\n",
      "0 projection items activated\n",
      "Reading /Users/chaohan/Library/CloudStorage/OneDrive-UniversityofToronto/Projects/Yas accent/data_preprocessed/4_epochs/Yas_234_corr_prep_ica_epo.fif ...\n",
      "    Found the data of interest:\n",
      "        t =    -200.00 ...     800.00 ms\n",
      "        0 CTF compensation matrices available\n",
      "Not setting metadata\n",
      "1625 matching events found\n",
      "No baseline correction applied\n",
      "0 projection items activated\n",
      "Reading /Users/chaohan/Library/CloudStorage/OneDrive-UniversityofToronto/Projects/Yas accent/data_preprocessed/4_epochs/Yas_108_corr_prep_ica_epo.fif ...\n",
      "    Found the data of interest:\n",
      "        t =    -200.00 ...     800.00 ms\n",
      "        0 CTF compensation matrices available\n",
      "Not setting metadata\n",
      "1657 matching events found\n",
      "No baseline correction applied\n",
      "0 projection items activated\n",
      "Reading /Users/chaohan/Library/CloudStorage/OneDrive-UniversityofToronto/Projects/Yas accent/data_preprocessed/4_epochs/Yas_166_corr_prep_ica_epo.fif ...\n",
      "    Found the data of interest:\n",
      "        t =    -200.00 ...     800.00 ms\n",
      "        0 CTF compensation matrices available\n",
      "Not setting metadata\n",
      "1674 matching events found\n",
      "No baseline correction applied\n",
      "0 projection items activated\n",
      "Reading /Users/chaohan/Library/CloudStorage/OneDrive-UniversityofToronto/Projects/Yas accent/data_preprocessed/4_epochs/Yas_124_corr_prep_ica_epo.fif ...\n",
      "    Found the data of interest:\n",
      "        t =    -200.00 ...     800.00 ms\n",
      "        0 CTF compensation matrices available\n",
      "Not setting metadata\n",
      "1629 matching events found\n",
      "No baseline correction applied\n",
      "0 projection items activated\n",
      "Reading /Users/chaohan/Library/CloudStorage/OneDrive-UniversityofToronto/Projects/Yas accent/data_preprocessed/4_epochs/Yas_218_corr_prep_ica_epo.fif ...\n",
      "    Found the data of interest:\n",
      "        t =    -200.00 ...     800.00 ms\n",
      "        0 CTF compensation matrices available\n",
      "Not setting metadata\n",
      "1674 matching events found\n",
      "No baseline correction applied\n",
      "0 projection items activated\n",
      "Reading /Users/chaohan/Library/CloudStorage/OneDrive-UniversityofToronto/Projects/Yas accent/data_preprocessed/4_epochs/Yas_192_corr_prep_ica_epo.fif ...\n",
      "    Found the data of interest:\n",
      "        t =    -200.00 ...     800.00 ms\n",
      "        0 CTF compensation matrices available\n",
      "Not setting metadata\n",
      "1658 matching events found\n",
      "No baseline correction applied\n",
      "0 projection items activated\n",
      "Reading /Users/chaohan/Library/CloudStorage/OneDrive-UniversityofToronto/Projects/Yas accent/data_preprocessed/4_epochs/Yas_184_corr_prep_ica_epo.fif ...\n",
      "    Found the data of interest:\n",
      "        t =    -200.00 ...     800.00 ms\n",
      "        0 CTF compensation matrices available\n",
      "Not setting metadata\n",
      "1643 matching events found\n",
      "No baseline correction applied\n",
      "0 projection items activated\n",
      "Reading /Users/chaohan/Library/CloudStorage/OneDrive-UniversityofToronto/Projects/Yas accent/data_preprocessed/4_epochs/Yas_260_corr_prep_ica_epo.fif ...\n",
      "    Found the data of interest:\n",
      "        t =    -200.00 ...     800.00 ms\n",
      "        0 CTF compensation matrices available\n",
      "Not setting metadata\n",
      "1657 matching events found\n",
      "No baseline correction applied\n",
      "0 projection items activated\n",
      "Reading /Users/chaohan/Library/CloudStorage/OneDrive-UniversityofToronto/Projects/Yas accent/data_preprocessed/4_epochs/Yas_132_corr_prep_ica_epo.fif ...\n",
      "    Found the data of interest:\n",
      "        t =    -200.00 ...     800.00 ms\n",
      "        0 CTF compensation matrices available\n",
      "Not setting metadata\n",
      "1617 matching events found\n",
      "No baseline correction applied\n",
      "0 projection items activated\n",
      "Reading /Users/chaohan/Library/CloudStorage/OneDrive-UniversityofToronto/Projects/Yas accent/data_preprocessed/4_epochs/Yas_100_corr_prep_ica_epo.fif ...\n",
      "    Found the data of interest:\n",
      "        t =    -200.00 ...     800.00 ms\n",
      "        0 CTF compensation matrices available\n",
      "Not setting metadata\n",
      "1653 matching events found\n",
      "No baseline correction applied\n",
      "0 projection items activated\n",
      "Reading /Users/chaohan/Library/CloudStorage/OneDrive-UniversityofToronto/Projects/Yas accent/data_preprocessed/4_epochs/Yas_252_corr_prep_ica_epo.fif ...\n",
      "    Found the data of interest:\n",
      "        t =    -200.00 ...     800.00 ms\n",
      "        0 CTF compensation matrices available\n",
      "Not setting metadata\n",
      "1616 matching events found\n",
      "No baseline correction applied\n",
      "0 projection items activated\n",
      "Reading /Users/chaohan/Library/CloudStorage/OneDrive-UniversityofToronto/Projects/Yas accent/data_preprocessed/4_epochs/Yas_244_corr_prep_ica_epo.fif ...\n",
      "    Found the data of interest:\n",
      "        t =    -200.00 ...     800.00 ms\n",
      "        0 CTF compensation matrices available\n",
      "Not setting metadata\n",
      "1666 matching events found\n",
      "No baseline correction applied\n",
      "0 projection items activated\n",
      "Reading /Users/chaohan/Library/CloudStorage/OneDrive-UniversityofToronto/Projects/Yas accent/data_preprocessed/4_epochs/Yas_178_corr_prep_ica_epo.fif ...\n",
      "    Found the data of interest:\n",
      "        t =    -200.00 ...     800.00 ms\n",
      "        0 CTF compensation matrices available\n",
      "Not setting metadata\n",
      "1646 matching events found\n",
      "No baseline correction applied\n",
      "0 projection items activated\n",
      "Reading /Users/chaohan/Library/CloudStorage/OneDrive-UniversityofToronto/Projects/Yas accent/data_preprocessed/4_epochs/Yas_116_corr_prep_ica_epo.fif ...\n",
      "    Found the data of interest:\n",
      "        t =    -200.00 ...     800.00 ms\n",
      "        0 CTF compensation matrices available\n",
      "Not setting metadata\n",
      "1596 matching events found\n",
      "No baseline correction applied\n",
      "0 projection items activated\n",
      "Reading /Users/chaohan/Library/CloudStorage/OneDrive-UniversityofToronto/Projects/Yas accent/data_preprocessed/4_epochs/Yas_206_corr_prep_ica_epo.fif ...\n",
      "    Found the data of interest:\n",
      "        t =    -200.00 ...     800.00 ms\n",
      "        0 CTF compensation matrices available\n",
      "Not setting metadata\n",
      "1679 matching events found\n",
      "No baseline correction applied\n",
      "0 projection items activated\n",
      "Reading /Users/chaohan/Library/CloudStorage/OneDrive-UniversityofToronto/Projects/Yas accent/data_preprocessed/4_epochs/Yas_210_corr_prep_ica_epo.fif ...\n",
      "    Found the data of interest:\n",
      "        t =    -200.00 ...     800.00 ms\n",
      "        0 CTF compensation matrices available\n",
      "Not setting metadata\n",
      "1621 matching events found\n",
      "No baseline correction applied\n",
      "0 projection items activated\n",
      "Reading /Users/chaohan/Library/CloudStorage/OneDrive-UniversityofToronto/Projects/Yas accent/data_preprocessed/4_epochs/Yas_267_corr_prep_ica_epo.fif ...\n",
      "    Found the data of interest:\n",
      "        t =    -200.00 ...     800.00 ms\n",
      "        0 CTF compensation matrices available\n",
      "Not setting metadata\n",
      "1655 matching events found\n",
      "No baseline correction applied\n",
      "0 projection items activated\n",
      "Reading /Users/chaohan/Library/CloudStorage/OneDrive-UniversityofToronto/Projects/Yas accent/data_preprocessed/4_epochs/Yas_183_corr_prep_ica_epo.fif ...\n",
      "    Found the data of interest:\n",
      "        t =    -200.00 ...     800.00 ms\n",
      "        0 CTF compensation matrices available\n",
      "Not setting metadata\n",
      "1599 matching events found\n",
      "No baseline correction applied\n",
      "0 projection items activated\n",
      "Reading /Users/chaohan/Library/CloudStorage/OneDrive-UniversityofToronto/Projects/Yas accent/data_preprocessed/4_epochs/Yas_209_corr_prep_ica_epo.fif ...\n",
      "    Found the data of interest:\n",
      "        t =    -200.00 ...     800.00 ms\n",
      "        0 CTF compensation matrices available\n",
      "Not setting metadata\n",
      "1714 matching events found\n",
      "No baseline correction applied\n",
      "0 projection items activated\n",
      "Reading /Users/chaohan/Library/CloudStorage/OneDrive-UniversityofToronto/Projects/Yas accent/data_preprocessed/4_epochs/Yas_135_corr_prep_ica_epo.fif ...\n",
      "    Found the data of interest:\n",
      "        t =    -200.00 ...     800.00 ms\n",
      "        0 CTF compensation matrices available\n",
      "Not setting metadata\n",
      "496 matching events found\n",
      "No baseline correction applied\n",
      "0 projection items activated\n",
      "Reading /Users/chaohan/Library/CloudStorage/OneDrive-UniversityofToronto/Projects/Yas accent/data_preprocessed/4_epochs/Yas_123_corr_prep_ica_epo.fif ...\n",
      "    Found the data of interest:\n",
      "        t =    -200.00 ...     800.00 ms\n",
      "        0 CTF compensation matrices available\n",
      "Not setting metadata\n",
      "1725 matching events found\n",
      "No baseline correction applied\n",
      "0 projection items activated\n",
      "Reading /Users/chaohan/Library/CloudStorage/OneDrive-UniversityofToronto/Projects/Yas accent/data_preprocessed/4_epochs/Yas_195_corr_prep_ica_epo.fif ...\n",
      "    Found the data of interest:\n",
      "        t =    -200.00 ...     800.00 ms\n",
      "        0 CTF compensation matrices available\n",
      "Not setting metadata\n",
      "1633 matching events found\n",
      "No baseline correction applied\n",
      "0 projection items activated\n",
      "Reading /Users/chaohan/Library/CloudStorage/OneDrive-UniversityofToronto/Projects/Yas accent/data_preprocessed/4_epochs/Yas_233_corr_prep_ica_epo.fif ...\n",
      "    Found the data of interest:\n",
      "        t =    -200.00 ...     800.00 ms\n",
      "        0 CTF compensation matrices available\n",
      "Not setting metadata\n",
      "1662 matching events found\n",
      "No baseline correction applied\n",
      "0 projection items activated\n",
      "Reading /Users/chaohan/Library/CloudStorage/OneDrive-UniversityofToronto/Projects/Yas accent/data_preprocessed/4_epochs/Yas_161_corr_prep_ica_epo.fif ...\n",
      "    Found the data of interest:\n",
      "        t =    -200.00 ...     800.00 ms\n",
      "        0 CTF compensation matrices available\n",
      "Not setting metadata\n",
      "1645 matching events found\n",
      "No baseline correction applied\n",
      "0 projection items activated\n",
      "Reading /Users/chaohan/Library/CloudStorage/OneDrive-UniversityofToronto/Projects/Yas accent/data_preprocessed/4_epochs/Yas_177_corr_prep_ica_epo.fif ...\n",
      "    Found the data of interest:\n",
      "        t =    -200.00 ...     800.00 ms\n",
      "        0 CTF compensation matrices available\n",
      "Not setting metadata\n",
      "1737 matching events found\n",
      "No baseline correction applied\n",
      "0 projection items activated\n",
      "Reading /Users/chaohan/Library/CloudStorage/OneDrive-UniversityofToronto/Projects/Yas accent/data_preprocessed/4_epochs/Yas_119_corr_prep_ica_epo.fif ...\n",
      "    Found the data of interest:\n",
      "        t =    -200.00 ...     800.00 ms\n",
      "        0 CTF compensation matrices available\n",
      "Not setting metadata\n",
      "1670 matching events found\n",
      "No baseline correction applied\n",
      "0 projection items activated\n",
      "Reading /Users/chaohan/Library/CloudStorage/OneDrive-UniversityofToronto/Projects/Yas accent/data_preprocessed/4_epochs/Yas_225_corr_prep_ica_epo.fif ...\n",
      "    Found the data of interest:\n",
      "        t =    -200.00 ...     800.00 ms\n",
      "        0 CTF compensation matrices available\n",
      "Not setting metadata\n",
      "1634 matching events found\n",
      "No baseline correction applied\n",
      "0 projection items activated\n",
      "Reading /Users/chaohan/Library/CloudStorage/OneDrive-UniversityofToronto/Projects/Yas accent/data_preprocessed/4_epochs/Yas_217_corr_prep_ica_epo.fif ...\n",
      "    Found the data of interest:\n",
      "        t =    -200.00 ...     800.00 ms\n",
      "        0 CTF compensation matrices available\n",
      "Not setting metadata\n",
      "1717 matching events found\n",
      "No baseline correction applied\n",
      "0 projection items activated\n",
      "Reading /Users/chaohan/Library/CloudStorage/OneDrive-UniversityofToronto/Projects/Yas accent/data_preprocessed/4_epochs/Yas_145_corr_prep_ica_epo.fif ...\n",
      "    Found the data of interest:\n",
      "        t =    -200.00 ...     800.00 ms\n",
      "        0 CTF compensation matrices available\n",
      "Not setting metadata\n",
      "1634 matching events found\n",
      "No baseline correction applied\n",
      "0 projection items activated\n",
      "Reading /Users/chaohan/Library/CloudStorage/OneDrive-UniversityofToronto/Projects/Yas accent/data_preprocessed/4_epochs/Yas_153_corr_prep_ica_epo.fif ...\n",
      "    Found the data of interest:\n",
      "        t =    -200.00 ...     800.00 ms\n",
      "        0 CTF compensation matrices available\n",
      "Not setting metadata\n",
      "1587 matching events found\n",
      "No baseline correction applied\n",
      "0 projection items activated\n",
      "Reading /Users/chaohan/Library/CloudStorage/OneDrive-UniversityofToronto/Projects/Yas accent/data_preprocessed/4_epochs/Yas_201_corr_prep_ica_epo.fif ...\n",
      "    Found the data of interest:\n",
      "        t =    -200.00 ...     800.00 ms\n",
      "        0 CTF compensation matrices available\n",
      "Not setting metadata\n",
      "1666 matching events found\n",
      "No baseline correction applied\n",
      "0 projection items activated\n",
      "Reading /Users/chaohan/Library/CloudStorage/OneDrive-UniversityofToronto/Projects/Yas accent/data_preprocessed/4_epochs/Yas_243_corr_prep_ica_epo.fif ...\n",
      "    Found the data of interest:\n",
      "        t =    -200.00 ...     800.00 ms\n",
      "        0 CTF compensation matrices available\n",
      "Not setting metadata\n",
      "1652 matching events found\n",
      "No baseline correction applied\n",
      "0 projection items activated\n",
      "Reading /Users/chaohan/Library/CloudStorage/OneDrive-UniversityofToronto/Projects/Yas accent/data_preprocessed/4_epochs/Yas_107_corr_prep_ica_epo.fif ...\n",
      "    Found the data of interest:\n",
      "        t =    -200.00 ...     800.00 ms\n",
      "        0 CTF compensation matrices available\n",
      "Not setting metadata\n",
      "1682 matching events found\n",
      "No baseline correction applied\n",
      "0 projection items activated\n",
      "Reading /Users/chaohan/Library/CloudStorage/OneDrive-UniversityofToronto/Projects/Yas accent/data_preprocessed/4_epochs/Yas_169_corr_prep_ica_epo.fif ...\n",
      "    Found the data of interest:\n",
      "        t =    -200.00 ...     800.00 ms\n",
      "        0 CTF compensation matrices available\n",
      "Not setting metadata\n",
      "1684 matching events found\n",
      "No baseline correction applied\n",
      "0 projection items activated\n",
      "Reading /Users/chaohan/Library/CloudStorage/OneDrive-UniversityofToronto/Projects/Yas accent/data_preprocessed/4_epochs/Yas_255_corr_prep_ica_epo.fif ...\n",
      "    Found the data of interest:\n",
      "        t =    -200.00 ...     800.00 ms\n",
      "        0 CTF compensation matrices available\n",
      "Not setting metadata\n",
      "1696 matching events found\n",
      "No baseline correction applied\n",
      "0 projection items activated\n",
      "Reading /Users/chaohan/Library/CloudStorage/OneDrive-UniversityofToronto/Projects/Yas accent/data_preprocessed/4_epochs/Yas_163_corr_prep_ica_epo.fif ...\n",
      "    Found the data of interest:\n",
      "        t =    -200.00 ...     800.00 ms\n",
      "        0 CTF compensation matrices available\n",
      "Not setting metadata\n",
      "1659 matching events found\n",
      "No baseline correction applied\n",
      "0 projection items activated\n",
      "Reading /Users/chaohan/Library/CloudStorage/OneDrive-UniversityofToronto/Projects/Yas accent/data_preprocessed/4_epochs/Yas_231_corr_prep_ica_epo.fif ...\n",
      "    Found the data of interest:\n",
      "        t =    -200.00 ...     800.00 ms\n",
      "        0 CTF compensation matrices available\n",
      "Not setting metadata\n",
      "1660 matching events found\n",
      "No baseline correction applied\n",
      "0 projection items activated\n",
      "Reading /Users/chaohan/Library/CloudStorage/OneDrive-UniversityofToronto/Projects/Yas accent/data_preprocessed/4_epochs/Yas_249_corr_prep_ica_epo.fif ...\n",
      "    Found the data of interest:\n",
      "        t =    -200.00 ...     800.00 ms\n",
      "        0 CTF compensation matrices available\n",
      "Not setting metadata\n",
      "1676 matching events found\n",
      "No baseline correction applied\n",
      "0 projection items activated\n",
      "Reading /Users/chaohan/Library/CloudStorage/OneDrive-UniversityofToronto/Projects/Yas accent/data_preprocessed/4_epochs/Yas_227_corr_prep_ica_epo.fif ...\n",
      "    Found the data of interest:\n",
      "        t =    -200.00 ...     800.00 ms\n",
      "        0 CTF compensation matrices available\n",
      "Not setting metadata\n",
      "1596 matching events found\n",
      "No baseline correction applied\n",
      "0 projection items activated\n",
      "Reading /Users/chaohan/Library/CloudStorage/OneDrive-UniversityofToronto/Projects/Yas accent/data_preprocessed/4_epochs/Yas_175_corr_prep_ica_epo.fif ...\n",
      "    Found the data of interest:\n",
      "        t =    -200.00 ...     800.00 ms\n",
      "        0 CTF compensation matrices available\n",
      "Not setting metadata\n",
      "1723 matching events found\n",
      "No baseline correction applied\n",
      "0 projection items activated\n",
      "Reading /Users/chaohan/Library/CloudStorage/OneDrive-UniversityofToronto/Projects/Yas accent/data_preprocessed/4_epochs/Yas_137_corr_prep_ica_epo.fif ...\n",
      "    Found the data of interest:\n",
      "        t =    -200.00 ...     800.00 ms\n",
      "        0 CTF compensation matrices available\n",
      "Not setting metadata\n",
      "1689 matching events found\n",
      "No baseline correction applied\n",
      "0 projection items activated\n",
      "Reading /Users/chaohan/Library/CloudStorage/OneDrive-UniversityofToronto/Projects/Yas accent/data_preprocessed/4_epochs/Yas_181_corr_prep_ica_epo.fif ...\n",
      "    Found the data of interest:\n",
      "        t =    -200.00 ...     800.00 ms\n",
      "        0 CTF compensation matrices available\n",
      "Not setting metadata\n",
      "1650 matching events found\n",
      "No baseline correction applied\n",
      "0 projection items activated\n",
      "Reading /Users/chaohan/Library/CloudStorage/OneDrive-UniversityofToronto/Projects/Yas accent/data_preprocessed/4_epochs/Yas_265_corr_prep_ica_epo.fif ...\n",
      "    Found the data of interest:\n",
      "        t =    -200.00 ...     800.00 ms\n",
      "        0 CTF compensation matrices available\n",
      "Not setting metadata\n",
      "1600 matching events found\n",
      "No baseline correction applied\n",
      "0 projection items activated\n",
      "Reading /Users/chaohan/Library/CloudStorage/OneDrive-UniversityofToronto/Projects/Yas accent/data_preprocessed/4_epochs/Yas_121_corr_prep_ica_epo.fif ...\n",
      "    Found the data of interest:\n",
      "        t =    -200.00 ...     800.00 ms\n",
      "        0 CTF compensation matrices available\n",
      "Not setting metadata\n",
      "1651 matching events found\n",
      "No baseline correction applied\n",
      "0 projection items activated\n",
      "Reading /Users/chaohan/Library/CloudStorage/OneDrive-UniversityofToronto/Projects/Yas accent/data_preprocessed/4_epochs/Yas_113_corr_prep_ica_epo.fif ...\n",
      "    Found the data of interest:\n",
      "        t =    -200.00 ...     800.00 ms\n",
      "        0 CTF compensation matrices available\n",
      "Not setting metadata\n",
      "1659 matching events found\n",
      "No baseline correction applied\n",
      "0 projection items activated\n",
      "Reading /Users/chaohan/Library/CloudStorage/OneDrive-UniversityofToronto/Projects/Yas accent/data_preprocessed/4_epochs/Yas_241_corr_prep_ica_epo.fif ...\n",
      "    Found the data of interest:\n",
      "        t =    -200.00 ...     800.00 ms\n",
      "        0 CTF compensation matrices available\n",
      "Not setting metadata\n",
      "1697 matching events found\n",
      "No baseline correction applied\n",
      "0 projection items activated\n",
      "Reading /Users/chaohan/Library/CloudStorage/OneDrive-UniversityofToronto/Projects/Yas accent/data_preprocessed/4_epochs/Yas_239_corr_prep_ica_epo.fif ...\n",
      "    Found the data of interest:\n",
      "        t =    -200.00 ...     800.00 ms\n",
      "        0 CTF compensation matrices available\n",
      "Not setting metadata\n",
      "1690 matching events found\n",
      "No baseline correction applied\n",
      "0 projection items activated\n",
      "Reading /Users/chaohan/Library/CloudStorage/OneDrive-UniversityofToronto/Projects/Yas accent/data_preprocessed/4_epochs/Yas_257_corr_prep_ica_epo.fif ...\n",
      "    Found the data of interest:\n",
      "        t =    -200.00 ...     800.00 ms\n",
      "        0 CTF compensation matrices available\n",
      "Not setting metadata\n",
      "1595 matching events found\n",
      "No baseline correction applied\n",
      "0 projection items activated\n",
      "Reading /Users/chaohan/Library/CloudStorage/OneDrive-UniversityofToronto/Projects/Yas accent/data_preprocessed/4_epochs/Yas_105_corr_prep_ica_epo.fif ...\n",
      "    Found the data of interest:\n",
      "        t =    -200.00 ...     800.00 ms\n",
      "        0 CTF compensation matrices available\n",
      "Not setting metadata\n",
      "1677 matching events found\n",
      "No baseline correction applied\n",
      "0 projection items activated\n",
      "Reading /Users/chaohan/Library/CloudStorage/OneDrive-UniversityofToronto/Projects/Yas accent/data_preprocessed/4_epochs/Yas_147_corr_prep_ica_epo.fif ...\n",
      "    Found the data of interest:\n",
      "        t =    -200.00 ...     800.00 ms\n",
      "        0 CTF compensation matrices available\n",
      "Not setting metadata\n",
      "1628 matching events found\n",
      "No baseline correction applied\n",
      "0 projection items activated\n",
      "Reading /Users/chaohan/Library/CloudStorage/OneDrive-UniversityofToronto/Projects/Yas accent/data_preprocessed/4_epochs/Yas_215_corr_prep_ica_epo.fif ...\n",
      "    Found the data of interest:\n",
      "        t =    -200.00 ...     800.00 ms\n",
      "        0 CTF compensation matrices available\n",
      "Not setting metadata\n",
      "1640 matching events found\n",
      "No baseline correction applied\n",
      "0 projection items activated\n",
      "Reading /Users/chaohan/Library/CloudStorage/OneDrive-UniversityofToronto/Projects/Yas accent/data_preprocessed/4_epochs/Yas_203_corr_prep_ica_epo.fif ...\n",
      "    Found the data of interest:\n",
      "        t =    -200.00 ...     800.00 ms\n",
      "        0 CTF compensation matrices available\n",
      "Not setting metadata\n",
      "1656 matching events found\n",
      "No baseline correction applied\n",
      "0 projection items activated\n",
      "Reading /Users/chaohan/Library/CloudStorage/OneDrive-UniversityofToronto/Projects/Yas accent/data_preprocessed/4_epochs/Yas_189_corr_prep_ica_epo.fif ...\n",
      "    Found the data of interest:\n",
      "        t =    -200.00 ...     800.00 ms\n",
      "        0 CTF compensation matrices available\n",
      "Not setting metadata\n",
      "1670 matching events found\n",
      "No baseline correction applied\n",
      "0 projection items activated\n",
      "Reading /Users/chaohan/Library/CloudStorage/OneDrive-UniversityofToronto/Projects/Yas accent/data_preprocessed/4_epochs/Yas_151_corr_prep_ica_epo.fif ...\n",
      "    Found the data of interest:\n",
      "        t =    -200.00 ...     800.00 ms\n",
      "        0 CTF compensation matrices available\n",
      "Not setting metadata\n",
      "1582 matching events found\n",
      "No baseline correction applied\n",
      "0 projection items activated\n",
      "Reading /Users/chaohan/Library/CloudStorage/OneDrive-UniversityofToronto/Projects/Yas accent/data_preprocessed/4_epochs/Yas_213_corr_prep_ica_epo.fif ...\n",
      "    Found the data of interest:\n",
      "        t =    -200.00 ...     800.00 ms\n",
      "        0 CTF compensation matrices available\n",
      "Not setting metadata\n",
      "1597 matching events found\n",
      "No baseline correction applied\n",
      "0 projection items activated\n",
      "Reading /Users/chaohan/Library/CloudStorage/OneDrive-UniversityofToronto/Projects/Yas accent/data_preprocessed/4_epochs/Yas_199_corr_prep_ica_epo.fif ...\n",
      "    Found the data of interest:\n",
      "        t =    -200.00 ...     800.00 ms\n",
      "        0 CTF compensation matrices available\n",
      "Not setting metadata\n",
      "1686 matching events found\n",
      "No baseline correction applied\n",
      "0 projection items activated\n",
      "Reading /Users/chaohan/Library/CloudStorage/OneDrive-UniversityofToronto/Projects/Yas accent/data_preprocessed/4_epochs/Yas_205_corr_prep_ica_epo.fif ...\n",
      "    Found the data of interest:\n",
      "        t =    -200.00 ...     800.00 ms\n",
      "        0 CTF compensation matrices available\n",
      "Not setting metadata\n",
      "1607 matching events found\n",
      "No baseline correction applied\n",
      "0 projection items activated\n",
      "Reading /Users/chaohan/Library/CloudStorage/OneDrive-UniversityofToronto/Projects/Yas accent/data_preprocessed/4_epochs/Yas_139_corr_prep_ica_epo.fif ...\n",
      "    Found the data of interest:\n",
      "        t =    -200.00 ...     800.00 ms\n",
      "        0 CTF compensation matrices available\n",
      "Not setting metadata\n",
      "1711 matching events found\n",
      "No baseline correction applied\n",
      "0 projection items activated\n",
      "Reading /Users/chaohan/Library/CloudStorage/OneDrive-UniversityofToronto/Projects/Yas accent/data_preprocessed/4_epochs/Yas_157_corr_prep_ica_epo.fif ...\n",
      "    Found the data of interest:\n",
      "        t =    -200.00 ...     800.00 ms\n",
      "        0 CTF compensation matrices available\n",
      "Not setting metadata\n",
      "1644 matching events found\n",
      "No baseline correction applied\n",
      "0 projection items activated\n",
      "Reading /Users/chaohan/Library/CloudStorage/OneDrive-UniversityofToronto/Projects/Yas accent/data_preprocessed/4_epochs/Yas_229_corr_prep_ica_epo.fif ...\n",
      "    Found the data of interest:\n",
      "        t =    -200.00 ...     800.00 ms\n",
      "        0 CTF compensation matrices available\n",
      "Not setting metadata\n",
      "1709 matching events found\n",
      "No baseline correction applied\n",
      "0 projection items activated\n",
      "Reading /Users/chaohan/Library/CloudStorage/OneDrive-UniversityofToronto/Projects/Yas accent/data_preprocessed/4_epochs/Yas_247_corr_prep_ica_epo.fif ...\n",
      "    Found the data of interest:\n",
      "        t =    -200.00 ...     800.00 ms\n",
      "        0 CTF compensation matrices available\n",
      "Not setting metadata\n",
      "1645 matching events found\n",
      "No baseline correction applied\n",
      "0 projection items activated\n",
      "Reading /Users/chaohan/Library/CloudStorage/OneDrive-UniversityofToronto/Projects/Yas accent/data_preprocessed/4_epochs/Yas_251_corr_prep_ica_epo.fif ...\n",
      "    Found the data of interest:\n",
      "        t =    -200.00 ...     800.00 ms\n",
      "        0 CTF compensation matrices available\n",
      "Not setting metadata\n",
      "1653 matching events found\n",
      "No baseline correction applied\n",
      "0 projection items activated\n",
      "Reading /Users/chaohan/Library/CloudStorage/OneDrive-UniversityofToronto/Projects/Yas accent/data_preprocessed/4_epochs/Yas_103_corr_prep_ica_epo.fif ...\n",
      "    Found the data of interest:\n",
      "        t =    -200.00 ...     800.00 ms\n",
      "        0 CTF compensation matrices available\n",
      "Not setting metadata\n",
      "1704 matching events found\n",
      "No baseline correction applied\n",
      "0 projection items activated\n",
      "Reading /Users/chaohan/Library/CloudStorage/OneDrive-UniversityofToronto/Projects/Yas accent/data_preprocessed/4_epochs/Yas_131_corr_prep_ica_epo.fif ...\n",
      "    Found the data of interest:\n",
      "        t =    -200.00 ...     800.00 ms\n",
      "        0 CTF compensation matrices available\n",
      "Not setting metadata\n",
      "1632 matching events found\n",
      "No baseline correction applied\n",
      "0 projection items activated\n",
      "Reading /Users/chaohan/Library/CloudStorage/OneDrive-UniversityofToronto/Projects/Yas accent/data_preprocessed/4_epochs/Yas_263_corr_prep_ica_epo.fif ...\n",
      "    Found the data of interest:\n",
      "        t =    -200.00 ...     800.00 ms\n",
      "        0 CTF compensation matrices available\n",
      "Not setting metadata\n",
      "1699 matching events found\n",
      "No baseline correction applied\n",
      "0 projection items activated\n",
      "Reading /Users/chaohan/Library/CloudStorage/OneDrive-UniversityofToronto/Projects/Yas accent/data_preprocessed/4_epochs/Yas_187_corr_prep_ica_epo.fif ...\n",
      "    Found the data of interest:\n",
      "        t =    -200.00 ...     800.00 ms\n",
      "        0 CTF compensation matrices available\n",
      "Not setting metadata\n",
      "1589 matching events found\n",
      "No baseline correction applied\n",
      "0 projection items activated\n",
      "Reading /Users/chaohan/Library/CloudStorage/OneDrive-UniversityofToronto/Projects/Yas accent/data_preprocessed/4_epochs/Yas_191_corr_prep_ica_epo.fif ...\n",
      "    Found the data of interest:\n",
      "        t =    -200.00 ...     800.00 ms\n",
      "        0 CTF compensation matrices available\n",
      "Not setting metadata\n",
      "1633 matching events found\n",
      "No baseline correction applied\n",
      "0 projection items activated\n",
      "Reading /Users/chaohan/Library/CloudStorage/OneDrive-UniversityofToronto/Projects/Yas accent/data_preprocessed/4_epochs/Yas_149_corr_prep_ica_epo.fif ...\n",
      "    Found the data of interest:\n",
      "        t =    -200.00 ...     800.00 ms\n",
      "        0 CTF compensation matrices available\n",
      "Not setting metadata\n",
      "1706 matching events found\n",
      "No baseline correction applied\n",
      "0 projection items activated\n",
      "Reading /Users/chaohan/Library/CloudStorage/OneDrive-UniversityofToronto/Projects/Yas accent/data_preprocessed/4_epochs/Yas_127_corr_prep_ica_epo.fif ...\n",
      "    Found the data of interest:\n",
      "        t =    -200.00 ...     800.00 ms\n",
      "        0 CTF compensation matrices available\n",
      "Not setting metadata\n",
      "1667 matching events found\n",
      "No baseline correction applied\n",
      "0 projection items activated\n",
      "Reading /Users/chaohan/Library/CloudStorage/OneDrive-UniversityofToronto/Projects/Yas accent/data_preprocessed/4_epochs/Yas_165_corr_prep_ica_epo.fif ...\n",
      "    Found the data of interest:\n",
      "        t =    -200.00 ...     800.00 ms\n",
      "        0 CTF compensation matrices available\n",
      "Not setting metadata\n",
      "1687 matching events found\n",
      "No baseline correction applied\n",
      "0 projection items activated\n",
      "Reading /Users/chaohan/Library/CloudStorage/OneDrive-UniversityofToronto/Projects/Yas accent/data_preprocessed/4_epochs/Yas_259_corr_prep_ica_epo.fif ...\n",
      "    Found the data of interest:\n",
      "        t =    -200.00 ...     800.00 ms\n",
      "        0 CTF compensation matrices available\n",
      "Not setting metadata\n",
      "1372 matching events found\n",
      "No baseline correction applied\n",
      "0 projection items activated\n",
      "Reading /Users/chaohan/Library/CloudStorage/OneDrive-UniversityofToronto/Projects/Yas accent/data_preprocessed/4_epochs/Yas_237_corr_prep_ica_epo.fif ...\n",
      "    Found the data of interest:\n",
      "        t =    -200.00 ...     800.00 ms\n",
      "        0 CTF compensation matrices available\n",
      "Not setting metadata\n",
      "1694 matching events found\n",
      "No baseline correction applied\n",
      "0 projection items activated\n",
      "Reading /Users/chaohan/Library/CloudStorage/OneDrive-UniversityofToronto/Projects/Yas accent/data_preprocessed/4_epochs/Yas_221_corr_prep_ica_epo.fif ...\n",
      "    Found the data of interest:\n",
      "        t =    -200.00 ...     800.00 ms\n",
      "        0 CTF compensation matrices available\n",
      "Not setting metadata\n",
      "1718 matching events found\n",
      "No baseline correction applied\n",
      "0 projection items activated\n",
      "Reading /Users/chaohan/Library/CloudStorage/OneDrive-UniversityofToronto/Projects/Yas accent/data_preprocessed/4_epochs/Yas_173_corr_prep_ica_epo.fif ...\n",
      "    Found the data of interest:\n",
      "        t =    -200.00 ...     800.00 ms\n",
      "        0 CTF compensation matrices available\n",
      "Not setting metadata\n",
      "1681 matching events found\n",
      "No baseline correction applied\n",
      "0 projection items activated\n",
      "Reading /Users/chaohan/Library/CloudStorage/OneDrive-UniversityofToronto/Projects/Yas accent/data_preprocessed/4_epochs/Yas_245_corr_prep_ica_epo.fif ...\n",
      "    Found the data of interest:\n",
      "        t =    -200.00 ...     800.00 ms\n",
      "        0 CTF compensation matrices available\n",
      "Not setting metadata\n",
      "1624 matching events found\n",
      "No baseline correction applied\n",
      "0 projection items activated\n",
      "Reading /Users/chaohan/Library/CloudStorage/OneDrive-UniversityofToronto/Projects/Yas accent/data_preprocessed/4_epochs/Yas_117_corr_prep_ica_epo.fif ...\n",
      "    Found the data of interest:\n",
      "        t =    -200.00 ...     800.00 ms\n",
      "        0 CTF compensation matrices available\n",
      "Not setting metadata\n",
      "1691 matching events found\n",
      "No baseline correction applied\n",
      "0 projection items activated\n",
      "Reading /Users/chaohan/Library/CloudStorage/OneDrive-UniversityofToronto/Projects/Yas accent/data_preprocessed/4_epochs/Yas_179_corr_prep_ica_epo.fif ...\n",
      "    Found the data of interest:\n",
      "        t =    -200.00 ...     800.00 ms\n",
      "        0 CTF compensation matrices available\n",
      "Not setting metadata\n",
      "103 matching events found\n",
      "No baseline correction applied\n",
      "0 projection items activated\n",
      "Reading /Users/chaohan/Library/CloudStorage/OneDrive-UniversityofToronto/Projects/Yas accent/data_preprocessed/4_epochs/Yas_101_corr_prep_ica_epo.fif ...\n",
      "    Found the data of interest:\n",
      "        t =    -200.00 ...     800.00 ms\n",
      "        0 CTF compensation matrices available\n",
      "Not setting metadata\n",
      "1651 matching events found\n",
      "No baseline correction applied\n",
      "0 projection items activated\n",
      "Reading /Users/chaohan/Library/CloudStorage/OneDrive-UniversityofToronto/Projects/Yas accent/data_preprocessed/4_epochs/Yas_253_corr_prep_ica_epo.fif ...\n",
      "    Found the data of interest:\n",
      "        t =    -200.00 ...     800.00 ms\n",
      "        0 CTF compensation matrices available\n",
      "Not setting metadata\n",
      "1659 matching events found\n",
      "No baseline correction applied\n",
      "0 projection items activated\n",
      "Reading /Users/chaohan/Library/CloudStorage/OneDrive-UniversityofToronto/Projects/Yas accent/data_preprocessed/4_epochs/Yas_211_corr_prep_ica_epo.fif ...\n",
      "    Found the data of interest:\n",
      "        t =    -200.00 ...     800.00 ms\n",
      "        0 CTF compensation matrices available\n",
      "Not setting metadata\n",
      "1712 matching events found\n",
      "No baseline correction applied\n",
      "0 projection items activated\n",
      "Reading /Users/chaohan/Library/CloudStorage/OneDrive-UniversityofToronto/Projects/Yas accent/data_preprocessed/4_epochs/Yas_143_corr_prep_ica_epo.fif ...\n",
      "    Found the data of interest:\n",
      "        t =    -200.00 ...     800.00 ms\n",
      "        0 CTF compensation matrices available\n",
      "Not setting metadata\n",
      "1664 matching events found\n",
      "No baseline correction applied\n",
      "0 projection items activated\n",
      "Reading /Users/chaohan/Library/CloudStorage/OneDrive-UniversityofToronto/Projects/Yas accent/data_preprocessed/4_epochs/Yas_155_corr_prep_ica_epo.fif ...\n",
      "    Found the data of interest:\n",
      "        t =    -200.00 ...     800.00 ms\n",
      "        0 CTF compensation matrices available\n",
      "Not setting metadata\n",
      "1710 matching events found\n",
      "No baseline correction applied\n",
      "0 projection items activated\n",
      "Reading /Users/chaohan/Library/CloudStorage/OneDrive-UniversityofToronto/Projects/Yas accent/data_preprocessed/4_epochs/Yas_207_corr_prep_ica_epo.fif ...\n",
      "    Found the data of interest:\n",
      "        t =    -200.00 ...     800.00 ms\n",
      "        0 CTF compensation matrices available\n",
      "Not setting metadata\n",
      "1657 matching events found\n",
      "No baseline correction applied\n",
      "0 projection items activated\n",
      "Reading /Users/chaohan/Library/CloudStorage/OneDrive-UniversityofToronto/Projects/Yas accent/data_preprocessed/4_epochs/Yas_235_corr_prep_ica_epo.fif ...\n",
      "    Found the data of interest:\n",
      "        t =    -200.00 ...     800.00 ms\n",
      "        0 CTF compensation matrices available\n",
      "Not setting metadata\n",
      "1650 matching events found\n",
      "No baseline correction applied\n",
      "0 projection items activated\n",
      "Reading /Users/chaohan/Library/CloudStorage/OneDrive-UniversityofToronto/Projects/Yas accent/data_preprocessed/4_epochs/Yas_167_corr_prep_ica_epo.fif ...\n",
      "    Found the data of interest:\n",
      "        t =    -200.00 ...     800.00 ms\n",
      "        0 CTF compensation matrices available\n",
      "Not setting metadata\n",
      "1733 matching events found\n",
      "No baseline correction applied\n",
      "0 projection items activated\n",
      "Reading /Users/chaohan/Library/CloudStorage/OneDrive-UniversityofToronto/Projects/Yas accent/data_preprocessed/4_epochs/Yas_109_corr_prep_ica_epo.fif ...\n",
      "    Found the data of interest:\n",
      "        t =    -200.00 ...     800.00 ms\n",
      "        0 CTF compensation matrices available\n",
      "Not setting metadata\n",
      "1602 matching events found\n",
      "No baseline correction applied\n",
      "0 projection items activated\n",
      "Reading /Users/chaohan/Library/CloudStorage/OneDrive-UniversityofToronto/Projects/Yas accent/data_preprocessed/4_epochs/Yas_171_corr_prep_ica_epo.fif ...\n",
      "    Found the data of interest:\n",
      "        t =    -200.00 ...     800.00 ms\n",
      "        0 CTF compensation matrices available\n",
      "Not setting metadata\n",
      "1652 matching events found\n",
      "No baseline correction applied\n",
      "0 projection items activated\n",
      "Reading /Users/chaohan/Library/CloudStorage/OneDrive-UniversityofToronto/Projects/Yas accent/data_preprocessed/4_epochs/Yas_223_corr_prep_ica_epo.fif ...\n",
      "    Found the data of interest:\n",
      "        t =    -200.00 ...     800.00 ms\n",
      "        0 CTF compensation matrices available\n",
      "Not setting metadata\n",
      "1679 matching events found\n",
      "No baseline correction applied\n",
      "0 projection items activated\n",
      "Reading /Users/chaohan/Library/CloudStorage/OneDrive-UniversityofToronto/Projects/Yas accent/data_preprocessed/4_epochs/Yas_185_corr_prep_ica_epo.fif ...\n",
      "    Found the data of interest:\n",
      "        t =    -200.00 ...     800.00 ms\n",
      "        0 CTF compensation matrices available\n",
      "Not setting metadata\n",
      "1680 matching events found\n",
      "No baseline correction applied\n",
      "0 projection items activated\n",
      "Reading /Users/chaohan/Library/CloudStorage/OneDrive-UniversityofToronto/Projects/Yas accent/data_preprocessed/4_epochs/Yas_133_corr_prep_ica_epo.fif ...\n",
      "    Found the data of interest:\n",
      "        t =    -200.00 ...     800.00 ms\n",
      "        0 CTF compensation matrices available\n",
      "Not setting metadata\n",
      "1633 matching events found\n",
      "No baseline correction applied\n",
      "0 projection items activated\n",
      "Reading /Users/chaohan/Library/CloudStorage/OneDrive-UniversityofToronto/Projects/Yas accent/data_preprocessed/4_epochs/Yas_125_corr_prep_ica_epo.fif ...\n",
      "    Found the data of interest:\n",
      "        t =    -200.00 ...     800.00 ms\n",
      "        0 CTF compensation matrices available\n",
      "Not setting metadata\n",
      "1655 matching events found\n",
      "No baseline correction applied\n",
      "0 projection items activated\n",
      "Reading /Users/chaohan/Library/CloudStorage/OneDrive-UniversityofToronto/Projects/Yas accent/data_preprocessed/4_epochs/Yas_219_corr_prep_ica_epo.fif ...\n",
      "    Found the data of interest:\n",
      "        t =    -200.00 ...     800.00 ms\n",
      "        0 CTF compensation matrices available\n",
      "Not setting metadata\n",
      "1665 matching events found\n",
      "No baseline correction applied\n",
      "0 projection items activated\n"
     ]
    }
   ],
   "source": [
    "#### get ERP ####\n",
    "\n",
    "# get file names\n",
    "all_input = os.listdir(input_dir)\n",
    "all_output = os.listdir(output_dir)\n",
    "\n",
    "# initialize a dictionary to store ERPs\n",
    "all_evokeds = {}\n",
    "\n",
    "# for each file\n",
    "for file in all_input:\n",
    "    \n",
    "    if file.endswith(\"_epo.fif\"):\n",
    "        \n",
    "        # extract subject number\n",
    "        ppt = file.split('_')[1]\n",
    "\n",
    "        # initialize dictionary for single-subject ERP\n",
    "        all_evokeds[ppt] = {}\n",
    "        \n",
    "        # read in data\n",
    "        epochs = mne.read_epochs(input_dir + file, preload = True)\n",
    "\n",
    "        # average | get ERP for each condition\n",
    "        evoked = epochs.average(by_event_type=True)\n",
    "\n",
    "        # initialize dictionary for single-participant ERP\n",
    "        all_evokeds[ppt] = {}\n",
    "\n",
    "        # add key for each condition for analysis\n",
    "        for cond in evoked:\n",
    "            # append the evoked data to the dictioncary of evoked data\n",
    "            all_evokeds[ppt][cond.comment] = cond\n",
    "\n",
    "        # reduce memory usage\n",
    "        del epochs\n",
    "\n",
    "\n",
    "# Saving the ERP data:\n",
    "with open(output_dir + '/all_evokeds.pkl', 'wb') as f:\n",
    "    pickle.dump(all_evokeds, f)\n",
    "del all_evokeds"
   ]
  },
  {
   "cell_type": "markdown",
   "id": "f118043b-9fca-4b2b-9b60-b3b756921399",
   "metadata": {},
   "source": [
    "# ERSP\n",
    "segmenting continuous EEG into epochs for ERSP analysis\n",
    "- re-reference\n",
    "- segmentation"
   ]
  },
  {
   "cell_type": "markdown",
   "id": "da39502d-b080-4b0a-b187-2c60a8f32c3c",
   "metadata": {},
   "source": [
    "## parameters"
   ]
  },
  {
   "cell_type": "code",
   "execution_count": 123,
   "id": "212d8c6a-00e7-43c8-9f1d-011222373f11",
   "metadata": {},
   "outputs": [],
   "source": [
    "# directory\n",
    "input_dir = work_dir + 'data_preprocessed/3_ica/'\n",
    "output_dir = work_dir + 'data_preprocessed/4_ersp/'\n",
    "# create a folder if the folder doesn't exist\n",
    "os.makedirs(output_dir, exist_ok=True)\n",
    "\n",
    "\n",
    "# Epoch window: \n",
    "epoch_t_start = -1; epoch_t_end = 2\n",
    "\n",
    "# baseline\n",
    "epoch_baseline = None\n",
    "tfr_baseline = (-0.45, -0.3)\n",
    "\n",
    "# criteria to reject epoch\n",
    "# reject_criteria = dict(eeg = 100e-6)       # 100 µV\n",
    "# reject_criteria = dict(eeg = 150e-6)       # 150 µV\n",
    "reject_criteria = dict(eeg = 200e-6)       # 200 µV\n",
    "\n",
    "\n",
    "tfr_method = 'morlet'\n",
    "\n",
    "# frequencies\n",
    "freq_start = 3\n",
    "freq_end = 30\n",
    "n_freq = 28\n",
    "freqs = np.linspace(start=freq_start, stop=freq_end, num=n_freq)\n",
    "\n",
    "# cycles\n",
    "cycl_start = 3\n",
    "cycl_step = 0.8\n",
    "n_cycl = n_freq\n",
    "n_cycles = np.linspace(start=cycl_start, stop=cycl_start+cycl_step*(n_cycl-1), num=n_cycl)\n",
    "\n",
    "condition_list = ['ChEn-stan', 'ChEn-devi', 'EnCh-stan', 'EnCh-devi']"
   ]
  },
  {
   "cell_type": "code",
   "execution_count": 124,
   "id": "c229872f-ad71-486f-ab85-fcbfae46310e",
   "metadata": {
    "scrolled": true
   },
   "outputs": [
    {
     "name": "stdout",
     "output_type": "stream",
     "text": [
      "Opening raw data file /Users/chaohan/Library/CloudStorage/OneDrive-UniversityofToronto/Projects/Yas accent/data_preprocessed/3_ica/Yas_191_corr_prep_ica.fif...\n"
     ]
    },
    {
     "name": "stderr",
     "output_type": "stream",
     "text": [
      "/var/folders/j8/8nyf6njj5nzfjcv6s23y3nn40000gn/T/ipykernel_37645/644758328.py:15: RuntimeWarning: This filename (/Users/chaohan/Library/CloudStorage/OneDrive-UniversityofToronto/Projects/Yas accent/data_preprocessed/3_ica/Yas_191_corr_prep_ica.fif) does not conform to MNE naming conventions. All raw files should end with raw.fif, raw_sss.fif, raw_tsss.fif, _meg.fif, _eeg.fif, _ieeg.fif, raw.fif.gz, raw_sss.fif.gz, raw_tsss.fif.gz, _meg.fif.gz, _eeg.fif.gz or _ieeg.fif.gz\n",
      "  raw = mne.io.read_raw_fif(input_dir + file, preload = True)\n"
     ]
    },
    {
     "name": "stdout",
     "output_type": "stream",
     "text": [
      "    Range : 4661 ... 845786 =     18.644 ...  3383.144 secs\n",
      "Ready.\n",
      "Reading 0 ... 841125  =      0.000 ...  3364.500 secs...\n",
      "EEG channel type selected for re-referencing\n",
      "Applying a custom ('EEG',) reference.\n",
      "Not setting metadata\n",
      "1648 matching events found\n",
      "No baseline correction applied\n",
      "0 projection items activated\n",
      "Using data from preloaded Raw for 1648 events and 751 original time points ...\n",
      "    Rejecting  epoch based on EEG : ['FC6', 'F4']\n",
      "    Rejecting  epoch based on EEG : ['FC6', 'F4']\n",
      "    Rejecting  epoch based on EEG : ['F4']\n",
      "    Rejecting  epoch based on EEG : ['F7', 'T7', 'FC6', 'F4']\n",
      "    Rejecting  epoch based on EEG : ['FC6']\n",
      "    Rejecting  epoch based on EEG : ['CP6', 'C4', 'FT10', 'FC6', 'FC2', 'F4', 'F8']\n",
      "    Rejecting  epoch based on EEG : ['CP6', 'C4', 'FT10', 'FC6', 'FC2', 'F4', 'F8']\n",
      "    Rejecting  epoch based on EEG : ['F4']\n",
      "    Rejecting  epoch based on EEG : ['C4', 'FC6', 'F4', 'F8']\n",
      "    Rejecting  epoch based on EEG : ['C4', 'FC6']\n",
      "    Rejecting  epoch based on EEG : ['C4', 'FC6']\n",
      "    Rejecting  epoch based on EEG : ['F4', 'F8']\n",
      "    Rejecting  epoch based on EEG : ['F7', 'T7', 'CP5', 'CP6', 'C4', 'T8', 'FT10', 'FC6', 'FC2', 'F4', 'F8']\n",
      "    Rejecting  epoch based on EEG : ['F7', 'T7', 'CP6', 'C4', 'T8', 'FT10', 'FC6', 'FC2', 'F4', 'F8']\n",
      "    Rejecting  epoch based on EEG : ['F7']\n",
      "    Rejecting  epoch based on EEG : ['FC6', 'F4', 'F8']\n",
      "    Rejecting  epoch based on EEG : ['F7']\n",
      "    Rejecting  epoch based on EEG : ['F7']\n",
      "    Rejecting  epoch based on EEG : ['FC6', 'F4']\n",
      "    Rejecting  epoch based on EEG : ['FC6', 'F4', 'F8']\n",
      "    Rejecting  epoch based on EEG : ['FC6', 'F4', 'F8']\n",
      "    Rejecting  epoch based on EEG : ['T7', 'CP5', 'P7']\n",
      "    Rejecting  epoch based on EEG : ['T7', 'CP5', 'P7']\n",
      "    Rejecting  epoch based on EEG : ['FC2']\n",
      "    Rejecting  epoch based on EEG : ['FC2']\n",
      "    Rejecting  epoch based on EEG : ['FC2']\n",
      "    Rejecting  epoch based on EEG : ['F7', 'T7']\n",
      "    Rejecting  epoch based on EEG : ['F7', 'T7']\n",
      "    Rejecting  epoch based on EEG : ['FC2']\n",
      "    Rejecting  epoch based on EEG : ['FC2']\n",
      "    Rejecting  epoch based on EEG : ['CP6', 'C4', 'T8', 'FT10', 'FC6', 'FC2', 'F4', 'F8']\n",
      "    Rejecting  epoch based on EEG : ['CP6', 'C4', 'T8', 'FT10', 'FC6', 'FC2', 'F4', 'F8']\n",
      "    Rejecting  epoch based on EEG : ['FC6']\n",
      "    Rejecting  epoch based on EEG : ['F7']\n",
      "    Rejecting  epoch based on EEG : ['FC2']\n",
      "    Rejecting  epoch based on EEG : ['FC2']\n",
      "    Rejecting  epoch based on EEG : ['F7', 'FC2']\n",
      "    Rejecting  epoch based on EEG : ['F7']\n",
      "    Rejecting  epoch based on EEG : ['FC2']\n",
      "    Rejecting  epoch based on EEG : ['F7', 'C3', 'T7', 'CP5', 'C4', 'FT10', 'FC6', 'FC2', 'F4', 'F8']\n",
      "    Rejecting  epoch based on EEG : ['Fz', 'F7', 'C3', 'T7', 'CP5', 'CP6', 'C4', 'T8', 'FT10', 'FC6', 'FC2', 'F4', 'F8']\n",
      "    Rejecting  epoch based on EEG : ['F7', 'T7', 'CP6', 'C4', 'T8', 'FT10', 'FC6', 'FC2', 'F4', 'F8']\n",
      "    Rejecting  epoch based on EEG : ['CP6', 'C4', 'FC6', 'F4', 'F8']\n",
      "    Rejecting  epoch based on EEG : ['FC2']\n",
      "    Rejecting  epoch based on EEG : ['FC2']\n",
      "    Rejecting  epoch based on EEG : ['FC2']\n",
      "    Rejecting  epoch based on EEG : ['FC6', 'F4']\n",
      "    Rejecting  epoch based on EEG : ['FC6', 'F4']\n",
      "48 bad epochs dropped\n"
     ]
    },
    {
     "name": "stderr",
     "output_type": "stream",
     "text": [
      "[Parallel(n_jobs=1)]: Done  17 tasks      | elapsed:    1.8s\n",
      "[Parallel(n_jobs=1)]: Done  17 tasks      | elapsed:    0.4s\n",
      "[Parallel(n_jobs=1)]: Done  17 tasks      | elapsed:    1.6s\n",
      "[Parallel(n_jobs=1)]: Done  17 tasks      | elapsed:    0.4s\n"
     ]
    },
    {
     "name": "stdout",
     "output_type": "stream",
     "text": [
      "Opening raw data file /Users/chaohan/Library/CloudStorage/OneDrive-UniversityofToronto/Projects/Yas accent/data_preprocessed/3_ica/Yas_258_corr_prep_ica.fif...\n"
     ]
    },
    {
     "name": "stderr",
     "output_type": "stream",
     "text": [
      "/var/folders/j8/8nyf6njj5nzfjcv6s23y3nn40000gn/T/ipykernel_37645/644758328.py:15: RuntimeWarning: This filename (/Users/chaohan/Library/CloudStorage/OneDrive-UniversityofToronto/Projects/Yas accent/data_preprocessed/3_ica/Yas_258_corr_prep_ica.fif) does not conform to MNE naming conventions. All raw files should end with raw.fif, raw_sss.fif, raw_tsss.fif, _meg.fif, _eeg.fif, _ieeg.fif, raw.fif.gz, raw_sss.fif.gz, raw_tsss.fif.gz, _meg.fif.gz, _eeg.fif.gz or _ieeg.fif.gz\n",
      "  raw = mne.io.read_raw_fif(input_dir + file, preload = True)\n"
     ]
    },
    {
     "name": "stdout",
     "output_type": "stream",
     "text": [
      "    Range : 23135 ... 918784 =     92.540 ...  3675.136 secs\n",
      "Ready.\n",
      "Reading 0 ... 895649  =      0.000 ...  3582.596 secs...\n",
      "EEG channel type selected for re-referencing\n",
      "Applying a custom ('EEG',) reference.\n",
      "Not setting metadata\n",
      "1714 matching events found\n",
      "No baseline correction applied\n",
      "0 projection items activated\n",
      "Using data from preloaded Raw for 1714 events and 751 original time points ...\n",
      "    Rejecting  epoch based on EEG : ['O2']\n",
      "    Rejecting  epoch based on EEG : ['CP5']\n",
      "    Rejecting  epoch based on EEG : ['CP5', 'O2']\n",
      "    Rejecting  epoch based on EEG : ['O2']\n",
      "    Rejecting  epoch based on EEG : ['Fz', 'F3', 'FT9', 'FC5', 'FC1', 'C3', 'T7', 'CP5', 'P4', 'CP6', 'CP2', 'C4', 'T8', 'FT10', 'FC6', 'FC2', 'F4', 'F8']\n",
      "    Rejecting  epoch based on EEG : ['C4']\n",
      "    Rejecting  epoch based on EEG : ['FC5', 'C3', 'T7', 'CP5', 'P4', 'CP6', 'C4', 'T8', 'FT10', 'FC6', 'F4', 'F8']\n",
      "    Rejecting  epoch based on EEG : ['FC5', 'C3', 'T7', 'CP5', 'P4', 'CP6', 'C4', 'T8', 'FT10', 'FC6', 'F4', 'F8']\n",
      "    Rejecting  epoch based on EEG : ['O1']\n",
      "    Rejecting  epoch based on EEG : ['O1']\n",
      "    Rejecting  epoch based on EEG : ['FC5', 'CP6', 'C4', 'T8', 'FT10', 'FC6', 'F8']\n",
      "    Rejecting  epoch based on EEG : ['FC5', 'CP6', 'C4', 'T8', 'FT10', 'FC6', 'F8']\n",
      "    Rejecting  epoch based on EEG : ['CP6', 'C4', 'FT10', 'F4', 'F8']\n",
      "    Rejecting  epoch based on EEG : ['CP6', 'C4', 'FT10', 'F4', 'F8']\n",
      "    Rejecting  epoch based on EEG : ['F3', 'FC5', 'C3', 'T7', 'CP5', 'CP6', 'C4', 'T8', 'FT10', 'FC6', 'F8']\n",
      "    Rejecting  epoch based on EEG : ['F3', 'FC5', 'C3', 'T7', 'CP5', 'CP6', 'C4', 'FT10', 'F8']\n",
      "    Rejecting  epoch based on EEG : ['FC5', 'C3', 'CP5', 'CP6', 'FT10']\n",
      "    Rejecting  epoch based on EEG : ['CP6', 'C4', 'T8', 'FT10', 'FC6', 'F4', 'F8']\n",
      "    Rejecting  epoch based on EEG : ['CP6', 'C4', 'T8', 'FT10', 'FC6', 'F4', 'F8']\n",
      "    Rejecting  epoch based on EEG : ['P7', 'O1', 'Oz', 'O2', 'CP6']\n",
      "    Rejecting  epoch based on EEG : ['CP6', 'C4', 'FT10', 'F8']\n",
      "    Rejecting  epoch based on EEG : ['CP6', 'C4', 'FT10', 'F8']\n",
      "    Rejecting  epoch based on EEG : ['CP6', 'C4', 'FT10', 'F8']\n",
      "    Rejecting  epoch based on EEG : ['CP6', 'C4', 'FT10', 'F8']\n",
      "    Rejecting  epoch based on EEG : ['O2']\n",
      "    Rejecting  epoch based on EEG : ['CP6', 'C4', 'FT10', 'FC6', 'FC2', 'F4', 'F8']\n",
      "26 bad epochs dropped\n"
     ]
    },
    {
     "name": "stderr",
     "output_type": "stream",
     "text": [
      "[Parallel(n_jobs=1)]: Done  17 tasks      | elapsed:    1.9s\n",
      "[Parallel(n_jobs=1)]: Done  17 tasks      | elapsed:    0.4s\n",
      "[Parallel(n_jobs=1)]: Done  17 tasks      | elapsed:    2.1s\n",
      "[Parallel(n_jobs=1)]: Done  17 tasks      | elapsed:    0.4s\n"
     ]
    },
    {
     "name": "stdout",
     "output_type": "stream",
     "text": [
      "Opening raw data file /Users/chaohan/Library/CloudStorage/OneDrive-UniversityofToronto/Projects/Yas accent/data_preprocessed/3_ica/Yas_216_corr_prep_ica.fif...\n",
      "    Range : 2382 ... 853394 =      9.528 ...  3413.576 secs\n",
      "Ready.\n",
      "Reading 0 ... 851012  =      0.000 ...  3404.048 secs...\n"
     ]
    },
    {
     "name": "stderr",
     "output_type": "stream",
     "text": [
      "/var/folders/j8/8nyf6njj5nzfjcv6s23y3nn40000gn/T/ipykernel_37645/644758328.py:15: RuntimeWarning: This filename (/Users/chaohan/Library/CloudStorage/OneDrive-UniversityofToronto/Projects/Yas accent/data_preprocessed/3_ica/Yas_216_corr_prep_ica.fif) does not conform to MNE naming conventions. All raw files should end with raw.fif, raw_sss.fif, raw_tsss.fif, _meg.fif, _eeg.fif, _ieeg.fif, raw.fif.gz, raw_sss.fif.gz, raw_tsss.fif.gz, _meg.fif.gz, _eeg.fif.gz or _ieeg.fif.gz\n",
      "  raw = mne.io.read_raw_fif(input_dir + file, preload = True)\n"
     ]
    },
    {
     "name": "stdout",
     "output_type": "stream",
     "text": [
      "EEG channel type selected for re-referencing\n",
      "Applying a custom ('EEG',) reference.\n",
      "Not setting metadata\n",
      "1683 matching events found\n",
      "No baseline correction applied\n",
      "0 projection items activated\n",
      "Using data from preloaded Raw for 1683 events and 751 original time points ...\n",
      "    Rejecting  epoch based on EEG : ['C3']\n",
      "    Rejecting  epoch based on EEG : ['C3']\n",
      "    Rejecting  epoch based on EEG : ['C3']\n",
      "    Rejecting  epoch based on EEG : ['O2']\n",
      "    Rejecting  epoch based on EEG : ['O2']\n",
      "    Rejecting  epoch based on EEG : ['O1']\n",
      "    Rejecting  epoch based on EEG : ['O1']\n",
      "    Rejecting  epoch based on EEG : ['O1']\n",
      "8 bad epochs dropped\n"
     ]
    },
    {
     "name": "stderr",
     "output_type": "stream",
     "text": [
      "[Parallel(n_jobs=1)]: Done  17 tasks      | elapsed:    1.9s\n",
      "[Parallel(n_jobs=1)]: Done  17 tasks      | elapsed:    0.4s\n",
      "[Parallel(n_jobs=1)]: Done  17 tasks      | elapsed:    1.9s\n",
      "[Parallel(n_jobs=1)]: Done  17 tasks      | elapsed:    0.4s\n"
     ]
    },
    {
     "name": "stdout",
     "output_type": "stream",
     "text": [
      "Opening raw data file /Users/chaohan/Library/CloudStorage/OneDrive-UniversityofToronto/Projects/Yas accent/data_preprocessed/3_ica/Yas_127_corr_prep_ica.fif...\n",
      "    Range : 17248 ... 891721 =     68.992 ...  3566.884 secs\n",
      "Ready.\n",
      "Reading 0 ... 874473  =      0.000 ...  3497.892 secs...\n"
     ]
    },
    {
     "name": "stderr",
     "output_type": "stream",
     "text": [
      "/var/folders/j8/8nyf6njj5nzfjcv6s23y3nn40000gn/T/ipykernel_37645/644758328.py:15: RuntimeWarning: This filename (/Users/chaohan/Library/CloudStorage/OneDrive-UniversityofToronto/Projects/Yas accent/data_preprocessed/3_ica/Yas_127_corr_prep_ica.fif) does not conform to MNE naming conventions. All raw files should end with raw.fif, raw_sss.fif, raw_tsss.fif, _meg.fif, _eeg.fif, _ieeg.fif, raw.fif.gz, raw_sss.fif.gz, raw_tsss.fif.gz, _meg.fif.gz, _eeg.fif.gz or _ieeg.fif.gz\n",
      "  raw = mne.io.read_raw_fif(input_dir + file, preload = True)\n"
     ]
    },
    {
     "name": "stdout",
     "output_type": "stream",
     "text": [
      "EEG channel type selected for re-referencing\n",
      "Applying a custom ('EEG',) reference.\n",
      "Not setting metadata\n",
      "1670 matching events found\n",
      "No baseline correction applied\n",
      "0 projection items activated\n",
      "Using data from preloaded Raw for 1670 events and 751 original time points ...\n",
      "    Rejecting  epoch based on EEG : ['FC6', 'F4', 'F8']\n",
      "    Rejecting  epoch based on EEG : ['FT10']\n",
      "    Rejecting  epoch based on EEG : ['F7', 'FT9', 'C3', 'CP5', 'CP1', 'P3', 'C4', 'FT10', 'FC2', 'F4', 'F8']\n",
      "    Rejecting  epoch based on EEG : ['F7', 'FT9', 'C3', 'CP5', 'CP1', 'P3', 'C4', 'FT10', 'FC2', 'F4', 'F8']\n",
      "4 bad epochs dropped\n"
     ]
    },
    {
     "name": "stderr",
     "output_type": "stream",
     "text": [
      "[Parallel(n_jobs=1)]: Done  17 tasks      | elapsed:    1.9s\n",
      "[Parallel(n_jobs=1)]: Done  17 tasks      | elapsed:    0.4s\n",
      "[Parallel(n_jobs=1)]: Done  17 tasks      | elapsed:    1.9s\n",
      "[Parallel(n_jobs=1)]: Done  17 tasks      | elapsed:    0.4s\n"
     ]
    },
    {
     "name": "stdout",
     "output_type": "stream",
     "text": [
      "Opening raw data file /Users/chaohan/Library/CloudStorage/OneDrive-UniversityofToronto/Projects/Yas accent/data_preprocessed/3_ica/Yas_169_corr_prep_ica.fif...\n"
     ]
    },
    {
     "name": "stderr",
     "output_type": "stream",
     "text": [
      "/var/folders/j8/8nyf6njj5nzfjcv6s23y3nn40000gn/T/ipykernel_37645/644758328.py:15: RuntimeWarning: This filename (/Users/chaohan/Library/CloudStorage/OneDrive-UniversityofToronto/Projects/Yas accent/data_preprocessed/3_ica/Yas_169_corr_prep_ica.fif) does not conform to MNE naming conventions. All raw files should end with raw.fif, raw_sss.fif, raw_tsss.fif, _meg.fif, _eeg.fif, _ieeg.fif, raw.fif.gz, raw_sss.fif.gz, raw_tsss.fif.gz, _meg.fif.gz, _eeg.fif.gz or _ieeg.fif.gz\n",
      "  raw = mne.io.read_raw_fif(input_dir + file, preload = True)\n"
     ]
    },
    {
     "name": "stdout",
     "output_type": "stream",
     "text": [
      "    Range : 5964 ... 860519 =     23.856 ...  3442.076 secs\n",
      "Ready.\n",
      "Reading 0 ... 854555  =      0.000 ...  3418.220 secs...\n",
      "EEG channel type selected for re-referencing\n",
      "Applying a custom ('EEG',) reference.\n",
      "Not setting metadata\n",
      "1696 matching events found\n",
      "No baseline correction applied\n",
      "0 projection items activated\n",
      "Using data from preloaded Raw for 1696 events and 751 original time points ...\n",
      "    Rejecting  epoch based on EEG : ['T8']\n",
      "    Rejecting  epoch based on EEG : ['T8']\n",
      "    Rejecting  epoch based on EEG : ['T8']\n",
      "    Rejecting  epoch based on EEG : ['Fz', 'F3', 'F7', 'FC5', 'FC1', 'C3', 'T7', 'CP5', 'CP1', 'Pz', 'P3', 'P7', 'O1', 'Oz', 'O2', 'P4', 'P8', 'TP10', 'CP6', 'CP2', 'Cz', 'C4', 'T8', 'FC6', 'FC2', 'F4', 'F8', 'TP9']\n",
      "    Rejecting  epoch based on EEG : ['Fz', 'F3', 'F7', 'FC5', 'FC1', 'C3', 'T7', 'CP5', 'CP1', 'Pz', 'P3', 'P7', 'O1', 'Oz', 'O2', 'P4', 'P8', 'TP10', 'CP6', 'CP2', 'Cz', 'C4', 'T8', 'FC6', 'FC2', 'F4', 'F8', 'TP9']\n",
      "    Rejecting  epoch based on EEG : ['T8']\n",
      "    Rejecting  epoch based on EEG : ['CP6', 'T8']\n",
      "    Rejecting  epoch based on EEG : ['CP6', 'T8']\n",
      "    Rejecting  epoch based on EEG : ['CP5']\n",
      "    Rejecting  epoch based on EEG : ['T8']\n",
      "    Rejecting  epoch based on EEG : ['T8']\n",
      "    Rejecting  epoch based on EEG : ['T8']\n",
      "    Rejecting  epoch based on EEG : ['Fz', 'F3', 'F7', 'FC5', 'FC1', 'C3', 'T7', 'CP5', 'CP1', 'Pz', 'P3', 'P7', 'O1', 'Oz', 'O2', 'P4', 'P8', 'TP10', 'CP6', 'CP2', 'Cz', 'C4', 'T8', 'FC6', 'FC2', 'F4', 'F8', 'TP9']\n",
      "    Rejecting  epoch based on EEG : ['Fz', 'F3', 'F7', 'FC5', 'FC1', 'C3', 'T7', 'CP5', 'CP1', 'Pz', 'P3', 'P7', 'O1', 'Oz', 'O2', 'P4', 'P8', 'TP10', 'CP6', 'CP2', 'Cz', 'C4', 'T8', 'FC6', 'FC2', 'F4', 'F8', 'TP9']\n",
      "    Rejecting  epoch based on EEG : ['Fz', 'F3', 'F7', 'FC5', 'FC1', 'C3', 'T7', 'CP5', 'CP1', 'Pz', 'P3', 'P7', 'O1', 'Oz', 'O2', 'P4', 'P8', 'TP10', 'CP6', 'CP2', 'Cz', 'C4', 'T8', 'FC6', 'FC2', 'F4', 'TP9']\n",
      "    Rejecting  epoch based on EEG : ['T8']\n",
      "    Rejecting  epoch based on EEG : ['T8']\n",
      "    Rejecting  epoch based on EEG : ['T8']\n",
      "    Rejecting  epoch based on EEG : ['Pz']\n",
      "    Rejecting  epoch based on EEG : ['Pz']\n",
      "    Rejecting  epoch based on EEG : ['Pz']\n",
      "    Rejecting  epoch based on EEG : ['T8']\n",
      "    Rejecting  epoch based on EEG : ['T8']\n",
      "    Rejecting  epoch based on EEG : ['Pz']\n",
      "    Rejecting  epoch based on EEG : ['CP5', 'T8']\n",
      "    Rejecting  epoch based on EEG : ['CP5', 'T8']\n",
      "26 bad epochs dropped\n"
     ]
    },
    {
     "name": "stderr",
     "output_type": "stream",
     "text": [
      "[Parallel(n_jobs=1)]: Done  17 tasks      | elapsed:    2.0s\n",
      "[Parallel(n_jobs=1)]: Done  17 tasks      | elapsed:    0.4s\n",
      "[Parallel(n_jobs=1)]: Done  17 tasks      | elapsed:    1.8s\n",
      "[Parallel(n_jobs=1)]: Done  17 tasks      | elapsed:    0.4s\n"
     ]
    },
    {
     "name": "stdout",
     "output_type": "stream",
     "text": [
      "Opening raw data file /Users/chaohan/Library/CloudStorage/OneDrive-UniversityofToronto/Projects/Yas accent/data_preprocessed/3_ica/Yas_222_corr_prep_ica.fif...\n",
      "    Range : 830 ... 859211 =      3.320 ...  3436.844 secs\n",
      "Ready.\n",
      "Reading 0 ... 858381  =      0.000 ...  3433.524 secs...\n"
     ]
    },
    {
     "name": "stderr",
     "output_type": "stream",
     "text": [
      "/var/folders/j8/8nyf6njj5nzfjcv6s23y3nn40000gn/T/ipykernel_37645/644758328.py:15: RuntimeWarning: This filename (/Users/chaohan/Library/CloudStorage/OneDrive-UniversityofToronto/Projects/Yas accent/data_preprocessed/3_ica/Yas_222_corr_prep_ica.fif) does not conform to MNE naming conventions. All raw files should end with raw.fif, raw_sss.fif, raw_tsss.fif, _meg.fif, _eeg.fif, _ieeg.fif, raw.fif.gz, raw_sss.fif.gz, raw_tsss.fif.gz, _meg.fif.gz, _eeg.fif.gz or _ieeg.fif.gz\n",
      "  raw = mne.io.read_raw_fif(input_dir + file, preload = True)\n"
     ]
    },
    {
     "name": "stdout",
     "output_type": "stream",
     "text": [
      "EEG channel type selected for re-referencing\n",
      "Applying a custom ('EEG',) reference.\n",
      "Not setting metadata\n",
      "1710 matching events found\n",
      "No baseline correction applied\n",
      "0 projection items activated\n",
      "Using data from preloaded Raw for 1710 events and 751 original time points ...\n",
      "    Rejecting  epoch based on EEG : ['Fz', 'F3', 'F7', 'FT9', 'FC5', 'FC1', 'C3', 'T7', 'CP5', 'CP1', 'Pz', 'P3', 'P7', 'O1', 'Oz', 'O2', 'P4', 'P8', 'TP10', 'CP6', 'CP2', 'Cz', 'C4', 'T8', 'FT10', 'FC6', 'FC2', 'F4', 'F8', 'TP9']\n",
      "    Rejecting  epoch based on EEG : ['Fz', 'F3', 'F7', 'FT9', 'FC5', 'FC1', 'C3', 'T7', 'CP5', 'CP1', 'Pz', 'P3', 'P7', 'O1', 'Oz', 'O2', 'P4', 'P8', 'TP10', 'CP6', 'CP2', 'Cz', 'C4', 'T8', 'FT10', 'FC6', 'FC2', 'F4', 'F8', 'TP9']\n",
      "    Rejecting  epoch based on EEG : ['FT10']\n",
      "    Rejecting  epoch based on EEG : ['FT10']\n",
      "    Rejecting  epoch based on EEG : ['CP5']\n",
      "    Rejecting  epoch based on EEG : ['CP5']\n",
      "    Rejecting  epoch based on EEG : ['FT10']\n",
      "7 bad epochs dropped\n"
     ]
    },
    {
     "name": "stderr",
     "output_type": "stream",
     "text": [
      "[Parallel(n_jobs=1)]: Done  17 tasks      | elapsed:    1.9s\n",
      "[Parallel(n_jobs=1)]: Done  17 tasks      | elapsed:    0.3s\n",
      "[Parallel(n_jobs=1)]: Done  17 tasks      | elapsed:    1.9s\n",
      "[Parallel(n_jobs=1)]: Done  17 tasks      | elapsed:    0.4s\n"
     ]
    },
    {
     "name": "stdout",
     "output_type": "stream",
     "text": [
      "Opening raw data file /Users/chaohan/Library/CloudStorage/OneDrive-UniversityofToronto/Projects/Yas accent/data_preprocessed/3_ica/Yas_175_corr_prep_ica.fif...\n",
      "    Range : 1051 ... 886046 =      4.204 ...  3544.184 secs\n",
      "Ready.\n",
      "Reading 0 ... 884995  =      0.000 ...  3539.980 secs...\n"
     ]
    },
    {
     "name": "stderr",
     "output_type": "stream",
     "text": [
      "/var/folders/j8/8nyf6njj5nzfjcv6s23y3nn40000gn/T/ipykernel_37645/644758328.py:15: RuntimeWarning: This filename (/Users/chaohan/Library/CloudStorage/OneDrive-UniversityofToronto/Projects/Yas accent/data_preprocessed/3_ica/Yas_175_corr_prep_ica.fif) does not conform to MNE naming conventions. All raw files should end with raw.fif, raw_sss.fif, raw_tsss.fif, _meg.fif, _eeg.fif, _ieeg.fif, raw.fif.gz, raw_sss.fif.gz, raw_tsss.fif.gz, _meg.fif.gz, _eeg.fif.gz or _ieeg.fif.gz\n",
      "  raw = mne.io.read_raw_fif(input_dir + file, preload = True)\n"
     ]
    },
    {
     "name": "stdout",
     "output_type": "stream",
     "text": [
      "EEG channel type selected for re-referencing\n",
      "Applying a custom ('EEG',) reference.\n",
      "Not setting metadata\n",
      "1724 matching events found\n",
      "No baseline correction applied\n",
      "0 projection items activated\n",
      "Using data from preloaded Raw for 1724 events and 751 original time points ...\n",
      "    Rejecting  epoch based on EEG : ['O1']\n",
      "    Rejecting  epoch based on EEG : ['P7']\n",
      "    Rejecting  epoch based on EEG : ['P7']\n",
      "    Rejecting  epoch based on EEG : ['C3', 'CP5']\n",
      "    Rejecting  epoch based on EEG : ['F3']\n",
      "5 bad epochs dropped\n"
     ]
    },
    {
     "name": "stderr",
     "output_type": "stream",
     "text": [
      "[Parallel(n_jobs=1)]: Done  17 tasks      | elapsed:    2.1s\n",
      "[Parallel(n_jobs=1)]: Done  17 tasks      | elapsed:    0.4s\n",
      "[Parallel(n_jobs=1)]: Done  17 tasks      | elapsed:    1.9s\n",
      "[Parallel(n_jobs=1)]: Done  17 tasks      | elapsed:    0.4s\n"
     ]
    },
    {
     "name": "stdout",
     "output_type": "stream",
     "text": [
      "Opening raw data file /Users/chaohan/Library/CloudStorage/OneDrive-UniversityofToronto/Projects/Yas accent/data_preprocessed/3_ica/Yas_244_corr_prep_ica.fif...\n",
      "    Range : 0 ... 858022 =      0.000 ...  3432.088 secs\n",
      "Ready.\n",
      "Reading 0 ... 858022  =      0.000 ...  3432.088 secs...\n"
     ]
    },
    {
     "name": "stderr",
     "output_type": "stream",
     "text": [
      "/var/folders/j8/8nyf6njj5nzfjcv6s23y3nn40000gn/T/ipykernel_37645/644758328.py:15: RuntimeWarning: This filename (/Users/chaohan/Library/CloudStorage/OneDrive-UniversityofToronto/Projects/Yas accent/data_preprocessed/3_ica/Yas_244_corr_prep_ica.fif) does not conform to MNE naming conventions. All raw files should end with raw.fif, raw_sss.fif, raw_tsss.fif, _meg.fif, _eeg.fif, _ieeg.fif, raw.fif.gz, raw_sss.fif.gz, raw_tsss.fif.gz, _meg.fif.gz, _eeg.fif.gz or _ieeg.fif.gz\n",
      "  raw = mne.io.read_raw_fif(input_dir + file, preload = True)\n"
     ]
    },
    {
     "name": "stdout",
     "output_type": "stream",
     "text": [
      "EEG channel type selected for re-referencing\n",
      "Applying a custom ('EEG',) reference.\n",
      "Not setting metadata\n",
      "1677 matching events found\n",
      "No baseline correction applied\n",
      "0 projection items activated\n",
      "Using data from preloaded Raw for 1677 events and 751 original time points ...\n",
      "    Rejecting  epoch based on EEG : ['F7', 'FT9', 'T7', 'CP6', 'C4', 'FT10', 'FC6']\n",
      "    Rejecting  epoch based on EEG : ['F7', 'FT9', 'T7', 'CP6', 'C4', 'FT10', 'FC6']\n",
      "    Rejecting  epoch based on EEG : ['CP5']\n",
      "    Rejecting  epoch based on EEG : ['CP5']\n",
      "    Rejecting  epoch based on EEG : ['F3', 'F7', 'FT9', 'FC5', 'FC1', 'C3', 'T7', 'CP5', 'CP1', 'Pz', 'P3', 'P7', 'O1', 'Oz', 'O2', 'P4', 'P8', 'TP10', 'CP6', 'CP2', 'Cz', 'C4', 'FC6', 'FC2', 'F4', 'TP9']\n",
      "    Rejecting  epoch based on EEG : ['C3', 'T7', 'CP5', 'CP1', 'P3', 'P7', 'O1', 'Oz', 'O2', 'P4', 'CP6', 'C4']\n",
      "    Rejecting  epoch based on EEG : ['CP5']\n",
      "    Rejecting  epoch based on EEG : ['CP5']\n",
      "    Rejecting  epoch based on EEG : ['FC5', 'C3', 'CP5']\n",
      "    Rejecting  epoch based on EEG : ['FC5', 'C3', 'CP5']\n",
      "    Rejecting  epoch based on EEG : ['FT9']\n",
      "    Rejecting  epoch based on EEG : ['FT9', 'T7']\n",
      "    Rejecting  epoch based on EEG : ['CP5', 'FT10']\n",
      "    Rejecting  epoch based on EEG : ['CP5', 'FT10']\n",
      "    Rejecting  epoch based on EEG : ['Fz', 'Cz']\n",
      "    Rejecting  epoch based on EEG : ['Fz', 'Cz']\n",
      "    Rejecting  epoch based on EEG : ['FT10']\n",
      "    Rejecting  epoch based on EEG : ['FT10']\n",
      "    Rejecting  epoch based on EEG : ['C3', 'CP5']\n",
      "    Rejecting  epoch based on EEG : ['FT9', 'T7']\n",
      "    Rejecting  epoch based on EEG : ['FT9', 'T7']\n",
      "    Rejecting  epoch based on EEG : ['CP5']\n",
      "    Rejecting  epoch based on EEG : ['CP5']\n",
      "    Rejecting  epoch based on EEG : ['O1']\n",
      "24 bad epochs dropped\n"
     ]
    },
    {
     "name": "stderr",
     "output_type": "stream",
     "text": [
      "[Parallel(n_jobs=1)]: Done  17 tasks      | elapsed:    2.0s\n",
      "[Parallel(n_jobs=1)]: Done  17 tasks      | elapsed:    0.4s\n",
      "[Parallel(n_jobs=1)]: Done  17 tasks      | elapsed:    2.1s\n",
      "[Parallel(n_jobs=1)]: Done  17 tasks      | elapsed:    0.4s\n"
     ]
    },
    {
     "name": "stdout",
     "output_type": "stream",
     "text": [
      "Opening raw data file /Users/chaohan/Library/CloudStorage/OneDrive-UniversityofToronto/Projects/Yas accent/data_preprocessed/3_ica/Yas_113_corr_prep_ica.fif...\n",
      "    Range : 9364 ... 858087 =     37.456 ...  3432.348 secs\n",
      "Ready.\n",
      "Reading 0 ... 848723  =      0.000 ...  3394.892 secs...\n"
     ]
    },
    {
     "name": "stderr",
     "output_type": "stream",
     "text": [
      "/var/folders/j8/8nyf6njj5nzfjcv6s23y3nn40000gn/T/ipykernel_37645/644758328.py:15: RuntimeWarning: This filename (/Users/chaohan/Library/CloudStorage/OneDrive-UniversityofToronto/Projects/Yas accent/data_preprocessed/3_ica/Yas_113_corr_prep_ica.fif) does not conform to MNE naming conventions. All raw files should end with raw.fif, raw_sss.fif, raw_tsss.fif, _meg.fif, _eeg.fif, _ieeg.fif, raw.fif.gz, raw_sss.fif.gz, raw_tsss.fif.gz, _meg.fif.gz, _eeg.fif.gz or _ieeg.fif.gz\n",
      "  raw = mne.io.read_raw_fif(input_dir + file, preload = True)\n"
     ]
    },
    {
     "name": "stdout",
     "output_type": "stream",
     "text": [
      "EEG channel type selected for re-referencing\n",
      "Applying a custom ('EEG',) reference.\n",
      "Not setting metadata\n",
      "1670 matching events found\n",
      "No baseline correction applied\n",
      "0 projection items activated\n",
      "Using data from preloaded Raw for 1670 events and 751 original time points ...\n",
      "    Rejecting  epoch based on EEG : ['FC5']\n",
      "    Rejecting  epoch based on EEG : ['FC5']\n",
      "    Rejecting  epoch based on EEG : ['FC5']\n",
      "    Rejecting  epoch based on EEG : ['FC5']\n",
      "    Rejecting  epoch based on EEG : ['FC5']\n",
      "    Rejecting  epoch based on EEG : ['FC6']\n",
      "    Rejecting  epoch based on EEG : ['FC6']\n",
      "    Rejecting  epoch based on EEG : ['FC6']\n",
      "    Rejecting  epoch based on EEG : ['FC6']\n",
      "    Rejecting  epoch based on EEG : ['O1']\n",
      "    Rejecting  epoch based on EEG : ['O1']\n",
      "    Rejecting  epoch based on EEG : ['FC5', 'CP5']\n",
      "    Rejecting  epoch based on EEG : ['F3', 'F7', 'FC5', 'C3', 'T7', 'FC6']\n",
      "    Rejecting  epoch based on EEG : ['F3', 'F7', 'FC5', 'C3', 'T7', 'FC6']\n",
      "    Rejecting  epoch based on EEG : ['FC5']\n",
      "    Rejecting  epoch based on EEG : ['FC5']\n",
      "    Rejecting  epoch based on EEG : ['CP6', 'T8']\n",
      "    Rejecting  epoch based on EEG : ['CP6', 'T8']\n",
      "    Rejecting  epoch based on EEG : ['F3', 'F7', 'FC5', 'C3', 'T7', 'CP5']\n",
      "    Rejecting  epoch based on EEG : ['FC5']\n",
      "    Rejecting  epoch based on EEG : ['FC5', 'FC6']\n",
      "    Rejecting  epoch based on EEG : ['FC5', 'FC6']\n",
      "    Rejecting  epoch based on EEG : ['F7', 'FC5', 'CP5', 'FC6']\n",
      "    Rejecting  epoch based on EEG : ['FC6']\n",
      "    Rejecting  epoch based on EEG : ['FC5']\n",
      "    Rejecting  epoch based on EEG : ['FC5']\n",
      "    Rejecting  epoch based on EEG : ['F4', 'F8']\n",
      "    Rejecting  epoch based on EEG : ['F4', 'F8']\n",
      "    Rejecting  epoch based on EEG : ['FC6', 'F4', 'F8']\n",
      "    Rejecting  epoch based on EEG : ['FC5']\n",
      "    Rejecting  epoch based on EEG : ['FC5']\n",
      "    Rejecting  epoch based on EEG : ['CP5']\n",
      "    Rejecting  epoch based on EEG : ['F3', 'F7', 'FC5', 'C3', 'T7', 'CP5', 'FC6']\n",
      "33 bad epochs dropped\n"
     ]
    },
    {
     "name": "stderr",
     "output_type": "stream",
     "text": [
      "[Parallel(n_jobs=1)]: Done  17 tasks      | elapsed:    1.9s\n",
      "[Parallel(n_jobs=1)]: Done  17 tasks      | elapsed:    0.4s\n",
      "[Parallel(n_jobs=1)]: Done  17 tasks      | elapsed:    1.8s\n",
      "[Parallel(n_jobs=1)]: Done  17 tasks      | elapsed:    0.4s\n"
     ]
    },
    {
     "name": "stdout",
     "output_type": "stream",
     "text": [
      "Opening raw data file /Users/chaohan/Library/CloudStorage/OneDrive-UniversityofToronto/Projects/Yas accent/data_preprocessed/3_ica/Yas_213_corr_prep_ica.fif...\n",
      "    Range : 0 ... 856599 =      0.000 ...  3426.396 secs\n",
      "Ready.\n",
      "Reading 0 ... 856599  =      0.000 ...  3426.396 secs...\n"
     ]
    },
    {
     "name": "stderr",
     "output_type": "stream",
     "text": [
      "/var/folders/j8/8nyf6njj5nzfjcv6s23y3nn40000gn/T/ipykernel_37645/644758328.py:15: RuntimeWarning: This filename (/Users/chaohan/Library/CloudStorage/OneDrive-UniversityofToronto/Projects/Yas accent/data_preprocessed/3_ica/Yas_213_corr_prep_ica.fif) does not conform to MNE naming conventions. All raw files should end with raw.fif, raw_sss.fif, raw_tsss.fif, _meg.fif, _eeg.fif, _ieeg.fif, raw.fif.gz, raw_sss.fif.gz, raw_tsss.fif.gz, _meg.fif.gz, _eeg.fif.gz or _ieeg.fif.gz\n",
      "  raw = mne.io.read_raw_fif(input_dir + file, preload = True)\n"
     ]
    },
    {
     "name": "stdout",
     "output_type": "stream",
     "text": [
      "EEG channel type selected for re-referencing\n",
      "Applying a custom ('EEG',) reference.\n",
      "Not setting metadata\n",
      "1630 matching events found\n",
      "No baseline correction applied\n",
      "0 projection items activated\n",
      "Using data from preloaded Raw for 1630 events and 751 original time points ...\n",
      "    Rejecting  epoch based on EEG : ['FT9', 'F8']\n",
      "    Rejecting  epoch based on EEG : ['F7', 'FT9', 'T7', 'F8']\n",
      "    Rejecting  epoch based on EEG : ['FT9']\n",
      "    Rejecting  epoch based on EEG : ['FT9']\n",
      "    Rejecting  epoch based on EEG : ['Fz', 'F7', 'FT9', 'T7', 'FC6', 'F8']\n",
      "    Rejecting  epoch based on EEG : ['F8']\n",
      "    Rejecting  epoch based on EEG : ['F7', 'FT9', 'T7', 'FT10', 'F8']\n",
      "    Rejecting  epoch based on EEG : ['F7', 'FT9', 'F8']\n",
      "    Rejecting  epoch based on EEG : ['F7', 'FT9', 'T7', 'FT10', 'F8']\n",
      "    Rejecting  epoch based on EEG : ['F7', 'FT9', 'FT10', 'F8']\n",
      "    Rejecting  epoch based on EEG : ['FT9']\n",
      "    Rejecting  epoch based on EEG : ['FT9']\n",
      "    Rejecting  epoch based on EEG : ['FT9']\n",
      "    Rejecting  epoch based on EEG : ['FT9']\n",
      "    Rejecting  epoch based on EEG : ['FT9', 'F8']\n",
      "    Rejecting  epoch based on EEG : ['F8']\n",
      "    Rejecting  epoch based on EEG : ['F8']\n",
      "    Rejecting  epoch based on EEG : ['FT9']\n",
      "    Rejecting  epoch based on EEG : ['Fz', 'F7', 'FT9', 'FC1', 'C3', 'FT10', 'F8']\n",
      "    Rejecting  epoch based on EEG : ['Fz', 'F7', 'FT9', 'FC1', 'C3', 'FT10', 'F8']\n",
      "    Rejecting  epoch based on EEG : ['F7', 'FT9', 'T7', 'F8']\n",
      "    Rejecting  epoch based on EEG : ['F7', 'FT9', 'T7', 'F8']\n",
      "    Rejecting  epoch based on EEG : ['F7', 'FT9', 'T7', 'F8']\n",
      "    Rejecting  epoch based on EEG : ['F7', 'FT9', 'T7', 'F8']\n",
      "    Rejecting  epoch based on EEG : ['FT9', 'F8']\n",
      "    Rejecting  epoch based on EEG : ['F8']\n",
      "    Rejecting  epoch based on EEG : ['F7', 'FT9', 'T7', 'F8']\n",
      "    Rejecting  epoch based on EEG : ['F7', 'FT9', 'T7', 'F8']\n",
      "    Rejecting  epoch based on EEG : ['F7', 'FT9', 'F8']\n",
      "    Rejecting  epoch based on EEG : ['F7', 'FT9', 'F8']\n",
      "    Rejecting  epoch based on EEG : ['FT9']\n",
      "    Rejecting  epoch based on EEG : ['FT9']\n",
      "    Rejecting  epoch based on EEG : ['F7', 'FT9']\n",
      "    Rejecting  epoch based on EEG : ['F7', 'FT9']\n",
      "    Rejecting  epoch based on EEG : ['F7', 'FT9']\n",
      "    Rejecting  epoch based on EEG : ['F7', 'FT9']\n",
      "    Rejecting  epoch based on EEG : ['F7', 'FT9']\n",
      "    Rejecting  epoch based on EEG : ['F7', 'FT9', 'F8']\n",
      "    Rejecting  epoch based on EEG : ['F7', 'FT9']\n",
      "    Rejecting  epoch based on EEG : ['F7', 'FT9']\n",
      "    Rejecting  epoch based on EEG : ['F7']\n",
      "    Rejecting  epoch based on EEG : ['F7', 'FT9', 'F8']\n",
      "    Rejecting  epoch based on EEG : ['F7', 'FT9']\n",
      "    Rejecting  epoch based on EEG : ['F7', 'FT9']\n",
      "    Rejecting  epoch based on EEG : ['F7', 'FT9']\n",
      "    Rejecting  epoch based on EEG : ['F7', 'FT9']\n",
      "    Rejecting  epoch based on EEG : ['F7', 'FT9']\n",
      "    Rejecting  epoch based on EEG : ['F7', 'FT9']\n",
      "    Rejecting  epoch based on EEG : ['F7', 'FT9']\n",
      "    Rejecting  epoch based on EEG : ['F7', 'FT9']\n",
      "    Rejecting  epoch based on EEG : ['F7', 'FT9']\n",
      "    Rejecting  epoch based on EEG : ['FT9']\n",
      "    Rejecting  epoch based on EEG : ['F7', 'FT9']\n",
      "    Rejecting  epoch based on EEG : ['F7', 'FT9', 'T7', 'Pz', 'P3', 'F8']\n",
      "    Rejecting  epoch based on EEG : ['F7', 'FT9']\n",
      "    Rejecting  epoch based on EEG : ['F7', 'FT9', 'CP1', 'Pz', 'CP2', 'Cz', 'FC6', 'F8']\n",
      "    Rejecting  epoch based on EEG : ['F7', 'FT9', 'CP1', 'Pz', 'P4', 'CP2', 'Cz', 'FT10', 'FC6', 'F4', 'F8']\n",
      "    Rejecting  epoch based on EEG : ['F7']\n",
      "    Rejecting  epoch based on EEG : ['F7']\n",
      "    Rejecting  epoch based on EEG : ['F7', 'FT9', 'CP1', 'Pz', 'P4', 'CP2', 'Cz', 'FC6', 'F8']\n",
      "    Rejecting  epoch based on EEG : ['F7', 'FT9', 'CP1', 'Pz', 'P4', 'CP2', 'Cz', 'FC6', 'F8']\n",
      "    Rejecting  epoch based on EEG : ['F7', 'FT9']\n",
      "    Rejecting  epoch based on EEG : ['Fz', 'F7', 'FT9']\n",
      "    Rejecting  epoch based on EEG : ['Fz', 'F7', 'FT9']\n",
      "    Rejecting  epoch based on EEG : ['F7', 'FT9']\n",
      "    Rejecting  epoch based on EEG : ['F7', 'FT9', 'FC6', 'F8']\n",
      "    Rejecting  epoch based on EEG : ['F7', 'FT9', 'F8']\n",
      "    Rejecting  epoch based on EEG : ['F7', 'FT9', 'F8']\n",
      "    Rejecting  epoch based on EEG : ['F7', 'FT9', 'T7', 'F8']\n",
      "    Rejecting  epoch based on EEG : ['F7', 'FT9', 'T7', 'F8']\n",
      "    Rejecting  epoch based on EEG : ['FT9']\n",
      "    Rejecting  epoch based on EEG : ['F7', 'FT9']\n",
      "    Rejecting  epoch based on EEG : ['F7', 'FT9']\n",
      "    Rejecting  epoch based on EEG : ['F7', 'FT9']\n",
      "    Rejecting  epoch based on EEG : ['F7', 'FT9', 'FC6', 'F4', 'F8']\n",
      "    Rejecting  epoch based on EEG : ['F7', 'FT9', 'F8']\n",
      "    Rejecting  epoch based on EEG : ['F7', 'FT9']\n",
      "    Rejecting  epoch based on EEG : ['F7', 'FT9', 'T7']\n",
      "    Rejecting  epoch based on EEG : ['F7', 'FT9']\n",
      "    Rejecting  epoch based on EEG : ['F7', 'FT9', 'FC5', 'T7', 'F8']\n",
      "    Rejecting  epoch based on EEG : ['F7', 'FT9', 'FC5', 'C3', 'T7']\n",
      "    Rejecting  epoch based on EEG : ['F7']\n",
      "    Rejecting  epoch based on EEG : ['F7', 'FT9']\n",
      "    Rejecting  epoch based on EEG : ['F7', 'FT9']\n",
      "    Rejecting  epoch based on EEG : ['F7', 'FT9', 'F8']\n",
      "    Rejecting  epoch based on EEG : ['F7', 'FT9', 'F8']\n",
      "    Rejecting  epoch based on EEG : ['F8']\n",
      "87 bad epochs dropped\n"
     ]
    },
    {
     "name": "stderr",
     "output_type": "stream",
     "text": [
      "[Parallel(n_jobs=1)]: Done  17 tasks      | elapsed:    1.6s\n",
      "[Parallel(n_jobs=1)]: Done  17 tasks      | elapsed:    0.4s\n",
      "[Parallel(n_jobs=1)]: Done  17 tasks      | elapsed:    1.5s\n",
      "[Parallel(n_jobs=1)]: Done  17 tasks      | elapsed:    0.3s\n"
     ]
    },
    {
     "name": "stdout",
     "output_type": "stream",
     "text": [
      "Opening raw data file /Users/chaohan/Library/CloudStorage/OneDrive-UniversityofToronto/Projects/Yas accent/data_preprocessed/3_ica/Yas_144_corr_prep_ica.fif...\n",
      "    Range : 6473 ... 895159 =     25.892 ...  3580.636 secs\n",
      "Ready.\n",
      "Reading 0 ... 888686  =      0.000 ...  3554.744 secs...\n"
     ]
    },
    {
     "name": "stderr",
     "output_type": "stream",
     "text": [
      "/var/folders/j8/8nyf6njj5nzfjcv6s23y3nn40000gn/T/ipykernel_37645/644758328.py:15: RuntimeWarning: This filename (/Users/chaohan/Library/CloudStorage/OneDrive-UniversityofToronto/Projects/Yas accent/data_preprocessed/3_ica/Yas_144_corr_prep_ica.fif) does not conform to MNE naming conventions. All raw files should end with raw.fif, raw_sss.fif, raw_tsss.fif, _meg.fif, _eeg.fif, _ieeg.fif, raw.fif.gz, raw_sss.fif.gz, raw_tsss.fif.gz, _meg.fif.gz, _eeg.fif.gz or _ieeg.fif.gz\n",
      "  raw = mne.io.read_raw_fif(input_dir + file, preload = True)\n"
     ]
    },
    {
     "name": "stdout",
     "output_type": "stream",
     "text": [
      "EEG channel type selected for re-referencing\n",
      "Applying a custom ('EEG',) reference.\n",
      "Not setting metadata\n",
      "1776 matching events found\n",
      "No baseline correction applied\n",
      "0 projection items activated\n",
      "Using data from preloaded Raw for 1776 events and 751 original time points ...\n",
      "    Rejecting  epoch based on EEG : ['FT9']\n",
      "    Rejecting  epoch based on EEG : ['F7', 'C3']\n",
      "    Rejecting  epoch based on EEG : ['Fz', 'F3', 'F7', 'FT9', 'FC5', 'FC1', 'C3', 'T7', 'CP5', 'CP1', 'Pz', 'P3', 'P7', 'O1', 'Oz', 'O2', 'P4', 'P8', 'TP10', 'CP6', 'CP2', 'Cz', 'C4', 'T8', 'FT10', 'FC6', 'FC2', 'F4', 'F8', 'TP9']\n",
      "    Rejecting  epoch based on EEG : ['Fz', 'F3', 'F7', 'FT9', 'FC5', 'FC1', 'C3', 'T7', 'CP5', 'CP1', 'Pz', 'P3', 'P7', 'O1', 'Oz', 'O2', 'P4', 'P8', 'TP10', 'CP6', 'CP2', 'Cz', 'C4', 'T8', 'FT10', 'FC6', 'FC2', 'F4', 'F8', 'TP9']\n",
      "    Rejecting  epoch based on EEG : ['F7', 'FT9']\n",
      "    Rejecting  epoch based on EEG : ['Fz', 'F3', 'F7', 'FT9', 'FC5', 'FC1', 'C3', 'T7', 'CP5', 'CP1', 'Pz', 'P3', 'P7', 'O1', 'Oz', 'O2', 'P4', 'P8', 'TP10', 'CP6', 'CP2', 'Cz', 'C4', 'T8', 'FT10', 'FC6', 'FC2', 'F4', 'F8', 'TP9']\n",
      "    Rejecting  epoch based on EEG : ['FT9']\n",
      "    Rejecting  epoch based on EEG : ['F7', 'FT9', 'P8']\n",
      "    Rejecting  epoch based on EEG : ['F7', 'FT9', 'F8']\n",
      "    Rejecting  epoch based on EEG : ['F7', 'FT9', 'F8']\n",
      "    Rejecting  epoch based on EEG : ['FT9']\n",
      "    Rejecting  epoch based on EEG : ['Fz', 'F3', 'F7', 'FT9', 'FC2', 'F4', 'F8']\n",
      "    Rejecting  epoch based on EEG : ['Fz', 'F3', 'F7', 'FT9', 'FC5', 'FC1', 'T7', 'P4', 'FC2', 'F4', 'F8']\n",
      "    Rejecting  epoch based on EEG : ['F7', 'FT9']\n",
      "    Rejecting  epoch based on EEG : ['F7', 'FT9', 'F8']\n",
      "    Rejecting  epoch based on EEG : ['Fz', 'F3', 'F7', 'FT9', 'FC5', 'FC1', 'C3', 'T7', 'CP5', 'CP1', 'Pz', 'P3', 'O1', 'Oz', 'O2', 'P4', 'P8', 'CP6', 'CP2', 'Cz', 'C4', 'FC2', 'F4', 'F8']\n",
      "    Rejecting  epoch based on EEG : ['C3', 'CP5']\n",
      "    Rejecting  epoch based on EEG : ['FT9']\n",
      "    Rejecting  epoch based on EEG : ['F7', 'FT9']\n",
      "    Rejecting  epoch based on EEG : ['FT9']\n",
      "    Rejecting  epoch based on EEG : ['FT9']\n",
      "    Rejecting  epoch based on EEG : ['F7']\n",
      "22 bad epochs dropped\n"
     ]
    },
    {
     "name": "stderr",
     "output_type": "stream",
     "text": [
      "[Parallel(n_jobs=1)]: Done  17 tasks      | elapsed:    1.8s\n",
      "[Parallel(n_jobs=1)]: Done  17 tasks      | elapsed:    0.4s\n",
      "[Parallel(n_jobs=1)]: Done  17 tasks      | elapsed:    1.9s\n",
      "[Parallel(n_jobs=1)]: Done  17 tasks      | elapsed:    0.4s\n"
     ]
    },
    {
     "name": "stdout",
     "output_type": "stream",
     "text": [
      "Opening raw data file /Users/chaohan/Library/CloudStorage/OneDrive-UniversityofToronto/Projects/Yas accent/data_preprocessed/3_ica/Yas_194_corr_prep_ica.fif...\n",
      "    Range : 734 ... 876739 =      2.936 ...  3506.956 secs\n",
      "Ready.\n",
      "Reading 0 ... 876005  =      0.000 ...  3504.020 secs...\n"
     ]
    },
    {
     "name": "stderr",
     "output_type": "stream",
     "text": [
      "/var/folders/j8/8nyf6njj5nzfjcv6s23y3nn40000gn/T/ipykernel_37645/644758328.py:15: RuntimeWarning: This filename (/Users/chaohan/Library/CloudStorage/OneDrive-UniversityofToronto/Projects/Yas accent/data_preprocessed/3_ica/Yas_194_corr_prep_ica.fif) does not conform to MNE naming conventions. All raw files should end with raw.fif, raw_sss.fif, raw_tsss.fif, _meg.fif, _eeg.fif, _ieeg.fif, raw.fif.gz, raw_sss.fif.gz, raw_tsss.fif.gz, _meg.fif.gz, _eeg.fif.gz or _ieeg.fif.gz\n",
      "  raw = mne.io.read_raw_fif(input_dir + file, preload = True)\n"
     ]
    },
    {
     "name": "stdout",
     "output_type": "stream",
     "text": [
      "EEG channel type selected for re-referencing\n",
      "Applying a custom ('EEG',) reference.\n",
      "Not setting metadata\n",
      "1642 matching events found\n",
      "No baseline correction applied\n",
      "0 projection items activated\n",
      "Using data from preloaded Raw for 1642 events and 751 original time points ...\n",
      "    Rejecting  epoch based on EEG : ['CP5', 'P7', 'T8']\n",
      "    Rejecting  epoch based on EEG : ['P7']\n",
      "    Rejecting  epoch based on EEG : ['CP6', 'C4']\n",
      "    Rejecting  epoch based on EEG : ['CP6', 'C4']\n",
      "    Rejecting  epoch based on EEG : ['C3', 'CP5']\n",
      "    Rejecting  epoch based on EEG : ['C3', 'CP5', 'CP6', 'C4']\n",
      "    Rejecting  epoch based on EEG : ['CP6', 'C4']\n",
      "    Rejecting  epoch based on EEG : ['CP6', 'C4', 'T8']\n",
      "    Rejecting  epoch based on EEG : ['P4', 'CP6', 'CP2', 'C4', 'T8', 'FT10', 'FC2', 'F4']\n",
      "    Rejecting  epoch based on EEG : ['P4', 'CP6', 'CP2', 'C4', 'T8', 'FT10', 'FC2', 'F4']\n",
      "10 bad epochs dropped\n"
     ]
    },
    {
     "name": "stderr",
     "output_type": "stream",
     "text": [
      "[Parallel(n_jobs=1)]: Done  17 tasks      | elapsed:    1.8s\n",
      "[Parallel(n_jobs=1)]: Done  17 tasks      | elapsed:    0.4s\n",
      "[Parallel(n_jobs=1)]: Done  17 tasks      | elapsed:    1.7s\n",
      "[Parallel(n_jobs=1)]: Done  17 tasks      | elapsed:    0.4s\n"
     ]
    },
    {
     "name": "stdout",
     "output_type": "stream",
     "text": [
      "Opening raw data file /Users/chaohan/Library/CloudStorage/OneDrive-UniversityofToronto/Projects/Yas accent/data_preprocessed/3_ica/Yas_122_corr_prep_ica.fif...\n",
      "    Range : 2064 ... 855283 =      8.256 ...  3421.132 secs\n",
      "Ready.\n",
      "Reading 0 ... 853219  =      0.000 ...  3412.876 secs...\n"
     ]
    },
    {
     "name": "stderr",
     "output_type": "stream",
     "text": [
      "/var/folders/j8/8nyf6njj5nzfjcv6s23y3nn40000gn/T/ipykernel_37645/644758328.py:15: RuntimeWarning: This filename (/Users/chaohan/Library/CloudStorage/OneDrive-UniversityofToronto/Projects/Yas accent/data_preprocessed/3_ica/Yas_122_corr_prep_ica.fif) does not conform to MNE naming conventions. All raw files should end with raw.fif, raw_sss.fif, raw_tsss.fif, _meg.fif, _eeg.fif, _ieeg.fif, raw.fif.gz, raw_sss.fif.gz, raw_tsss.fif.gz, _meg.fif.gz, _eeg.fif.gz or _ieeg.fif.gz\n",
      "  raw = mne.io.read_raw_fif(input_dir + file, preload = True)\n"
     ]
    },
    {
     "name": "stdout",
     "output_type": "stream",
     "text": [
      "EEG channel type selected for re-referencing\n",
      "Applying a custom ('EEG',) reference.\n",
      "Not setting metadata\n",
      "1692 matching events found\n",
      "No baseline correction applied\n",
      "0 projection items activated\n",
      "Using data from preloaded Raw for 1692 events and 751 original time points ...\n",
      "    Rejecting  epoch based on EEG : ['Fz', 'FC1', 'CP1', 'Pz', 'P3', 'CP2', 'Cz']\n",
      "    Rejecting  epoch based on EEG : ['Fz', 'FC1', 'CP1', 'CP2', 'F8']\n",
      "    Rejecting  epoch based on EEG : ['Fz', 'FC1', 'CP1', 'CP2', 'F8']\n",
      "    Rejecting  epoch based on EEG : ['Fz', 'FC1', 'CP1', 'CP2', 'Cz']\n",
      "    Rejecting  epoch based on EEG : ['Fz', 'FC1', 'C3', 'T7', 'CP1', 'Pz', 'P3', 'P7', 'P4', 'CP6', 'CP2', 'Cz']\n",
      "    Rejecting  epoch based on EEG : ['P7']\n",
      "    Rejecting  epoch based on EEG : ['Fz', 'FC1', 'C3', 'T7', 'CP1', 'Pz', 'P3', 'P7', 'CP6', 'CP2', 'Cz', 'FT10', 'F8']\n",
      "    Rejecting  epoch based on EEG : ['Fz', 'FC1', 'C3', 'T7', 'CP1', 'Pz', 'P3', 'P7', 'CP6', 'CP2', 'Cz', 'FT10', 'F8']\n",
      "    Rejecting  epoch based on EEG : ['Fz', 'FC1', 'C3', 'T7', 'CP1', 'Pz', 'P3', 'P7', 'P4', 'CP2', 'Cz', 'FT10', 'F8']\n",
      "    Rejecting  epoch based on EEG : ['Fz', 'FC1', 'C3', 'T7', 'CP1', 'Pz', 'P3', 'CP2', 'Cz', 'F8']\n",
      "    Rejecting  epoch based on EEG : ['Fz', 'FC1', 'C3', 'T7', 'CP1', 'Pz', 'P3', 'CP2', 'Cz', 'F8']\n",
      "    Rejecting  epoch based on EEG : ['FC1', 'CP1', 'Pz', 'O2', 'CP2', 'Cz', 'FT10', 'F8']\n",
      "    Rejecting  epoch based on EEG : ['Pz', 'O2', 'FT10', 'F8']\n",
      "    Rejecting  epoch based on EEG : ['T7', 'CP1', 'P7', 'CP2', 'Cz', 'F8']\n",
      "    Rejecting  epoch based on EEG : ['T7', 'CP1', 'P7', 'CP2', 'Cz', 'F8']\n",
      "    Rejecting  epoch based on EEG : ['Fz', 'FC1', 'T7', 'CP1', 'Pz', 'CP2', 'Cz', 'FT10', 'F8']\n",
      "    Rejecting  epoch based on EEG : ['Fz', 'FC1', 'T7', 'CP1', 'CP2', 'Cz', 'FT10', 'F8']\n",
      "    Rejecting  epoch based on EEG : ['Fz', 'F3', 'FC1', 'C3', 'T7', 'CP1', 'Pz', 'P3', 'P7', 'O1', 'P4', 'CP6', 'CP2', 'Cz', 'FT10', 'FC2', 'F8']\n",
      "    Rejecting  epoch based on EEG : ['Fz', 'CP1', 'P7', 'CP2', 'Cz', 'F8']\n",
      "    Rejecting  epoch based on EEG : ['Fz', 'FC1', 'C3', 'CP1', 'Pz', 'P3', 'CP2', 'Cz', 'F8']\n",
      "    Rejecting  epoch based on EEG : ['Fz', 'FC1', 'C3', 'CP1', 'Pz', 'P3', 'CP2', 'Cz', 'FT10', 'F8']\n",
      "    Rejecting  epoch based on EEG : ['FT10', 'F8']\n",
      "    Rejecting  epoch based on EEG : ['Fz', 'F3', 'FC1', 'C3', 'T7', 'CP1', 'Pz', 'P3', 'P7', 'P4', 'CP6', 'CP2', 'Cz', 'FT10', 'F8']\n",
      "    Rejecting  epoch based on EEG : ['Fz', 'F3', 'FC1', 'C3', 'T7', 'CP1', 'Pz', 'P3', 'P7', 'O1', 'P4', 'CP6', 'CP2', 'Cz', 'FT10', 'FC6', 'FC2', 'F8']\n",
      "    Rejecting  epoch based on EEG : ['Fz', 'F3', 'FC1', 'C3', 'T7', 'CP1', 'Pz', 'P3', 'P7', 'O1', 'P4', 'CP6', 'CP2', 'Cz', 'FT10', 'FC6', 'FC2', 'F8']\n",
      "    Rejecting  epoch based on EEG : ['Fz', 'F3', 'FC1', 'C3', 'T7', 'CP1', 'Pz', 'P3', 'P7', 'O1', 'P4', 'CP6', 'CP2', 'Cz', 'FT10', 'FC2', 'F8']\n",
      "    Rejecting  epoch based on EEG : ['Fz', 'F3', 'FC1', 'C3', 'T7', 'CP1', 'Pz', 'P3', 'P7', 'O1', 'P4', 'CP6', 'CP2', 'Cz', 'FT10', 'FC2', 'F8']\n",
      "    Rejecting  epoch based on EEG : ['Fz', 'F3', 'FC1', 'C3', 'CP1', 'Pz', 'P3', 'O1', 'P4', 'CP6', 'CP2', 'Cz', 'FT10', 'FC2', 'F8']\n",
      "    Rejecting  epoch based on EEG : ['Fz', 'FC1', 'CP1', 'CP2', 'Cz']\n",
      "    Rejecting  epoch based on EEG : ['Fz', 'F3', 'FC1', 'C3', 'T7', 'CP1', 'Pz', 'P3', 'P7', 'O1', 'Oz', 'O2', 'P4', 'P8', 'CP6', 'CP2', 'Cz', 'C4', 'FT10', 'FC6', 'FC2', 'F8']\n",
      "    Rejecting  epoch based on EEG : ['Fz', 'F3', 'FC1', 'C3', 'T7', 'CP1', 'Pz', 'P3', 'P7', 'O1', 'Oz', 'O2', 'P4', 'P8', 'CP6', 'CP2', 'Cz', 'C4', 'FT10', 'FC6', 'FC2', 'F8']\n",
      "    Rejecting  epoch based on EEG : ['Fz', 'F3', 'FC1', 'C3', 'T7', 'CP1', 'Pz', 'P3', 'P7', 'O1', 'Oz', 'P4', 'P8', 'CP6', 'CP2', 'Cz', 'FT10', 'FC6', 'FC2', 'F8']\n",
      "    Rejecting  epoch based on EEG : ['Fz', 'FC1', 'C3', 'CP1', 'Pz', 'P3', 'CP2', 'Cz', 'FT10', 'F8']\n",
      "    Rejecting  epoch based on EEG : ['Fz', 'F3', 'F7', 'FC1', 'C3', 'T7', 'CP1', 'Pz', 'P3', 'P7', 'O1', 'Oz', 'O2', 'P4', 'P8', 'CP6', 'CP2', 'Cz', 'C4', 'FT10', 'FC6', 'FC2', 'F8']\n",
      "    Rejecting  epoch based on EEG : ['Fz', 'F3', 'F7', 'FC1', 'C3', 'T7', 'CP1', 'Pz', 'P3', 'P7', 'O1', 'Oz', 'O2', 'P4', 'P8', 'CP6', 'CP2', 'Cz', 'C4', 'FT10', 'FC6', 'FC2', 'F8']\n",
      "    Rejecting  epoch based on EEG : ['Fz', 'FC1', 'C3', 'T7', 'CP1', 'Pz', 'P3', 'P7', 'O1', 'CP2', 'Cz', 'FT10', 'FC2', 'F8']\n",
      "    Rejecting  epoch based on EEG : ['Fz', 'FC1', 'C3', 'T7', 'CP1', 'Pz', 'P3', 'P7', 'O1', 'CP2', 'Cz', 'FT10', 'FC2', 'F8']\n",
      "    Rejecting  epoch based on EEG : ['Fz', 'T7', 'CP1', 'CP2', 'Cz', 'FT10', 'F8']\n",
      "    Rejecting  epoch based on EEG : ['FT10']\n",
      "    Rejecting  epoch based on EEG : ['Fz', 'F3', 'FC1', 'C3', 'CP1', 'Pz', 'P3', 'CP2', 'Cz', 'FC2']\n",
      "    Rejecting  epoch based on EEG : ['Fz', 'F3', 'FC1', 'C3', 'CP1', 'Pz', 'P3', 'CP2', 'Cz', 'FT10', 'FC2', 'F8']\n",
      "    Rejecting  epoch based on EEG : ['Fz', 'F3', 'FC1', 'C3', 'T7', 'CP1', 'Pz', 'P3', 'O1', 'P4', 'CP6', 'CP2', 'Cz', 'FT10', 'FC2', 'F8']\n",
      "    Rejecting  epoch based on EEG : ['Fz', 'F3', 'FC1', 'C3', 'T7', 'CP1', 'Pz', 'P3', 'O1', 'Oz', 'O2', 'P4', 'P8', 'CP6', 'CP2', 'Cz', 'FT10', 'FC2', 'F8']\n",
      "    Rejecting  epoch based on EEG : ['Fz', 'FC1', 'C3', 'CP1', 'Pz', 'P3', 'O1', 'CP2', 'Cz', 'FT10', 'F8']\n",
      "    Rejecting  epoch based on EEG : ['Fz', 'F3', 'FC1', 'C3', 'T7', 'CP1', 'Pz', 'P3', 'P7', 'O1', 'Oz', 'P4', 'CP6', 'CP2', 'Cz', 'FT10', 'FC2', 'F8']\n",
      "    Rejecting  epoch based on EEG : ['P7']\n",
      "    Rejecting  epoch based on EEG : ['P7']\n",
      "    Rejecting  epoch based on EEG : ['Fz', 'F7', 'FC1', 'C3', 'T7', 'CP1', 'Pz', 'P3', 'P7', 'P4', 'CP6', 'CP2', 'Cz', 'FT10', 'FC2', 'F8']\n",
      "    Rejecting  epoch based on EEG : ['Fz', 'F7', 'FC1', 'C3', 'T7', 'CP1', 'Pz', 'P3', 'P7', 'P4', 'CP6', 'CP2', 'Cz', 'FT10', 'FC2', 'F8']\n",
      "    Rejecting  epoch based on EEG : ['Fz', 'FC1', 'CP1', 'CP2', 'Cz']\n",
      "    Rejecting  epoch based on EEG : ['Fz', 'FC1', 'T7', 'CP1', 'P7', 'CP2', 'Cz']\n",
      "    Rejecting  epoch based on EEG : ['Fz', 'FC1', 'CP1', 'P7', 'CP2', 'Cz']\n",
      "    Rejecting  epoch based on EEG : ['Fz', 'FC1', 'CP1', 'P7', 'CP2', 'Cz']\n",
      "    Rejecting  epoch based on EEG : ['Fz', 'FC1', 'CP1', 'Pz', 'P3', 'P7', 'CP6', 'CP2', 'Cz']\n",
      "    Rejecting  epoch based on EEG : ['P7']\n",
      "    Rejecting  epoch based on EEG : ['P7']\n",
      "    Rejecting  epoch based on EEG : ['P7']\n",
      "    Rejecting  epoch based on EEG : ['P7']\n",
      "    Rejecting  epoch based on EEG : ['Fz', 'FC1', 'C3', 'T7', 'CP1', 'Pz', 'P3', 'P7', 'P4', 'CP6', 'CP2', 'Cz', 'FT10', 'FC2', 'F8']\n",
      "    Rejecting  epoch based on EEG : ['Fz', 'FC1', 'C3', 'T7', 'CP1', 'Pz', 'P3', 'P7', 'Oz', 'P4', 'CP6', 'CP2', 'Cz', 'FT10', 'FC2', 'F8']\n",
      "    Rejecting  epoch based on EEG : ['P7', 'FT10', 'F8']\n",
      "    Rejecting  epoch based on EEG : ['Fz', 'FC1', 'C3', 'CP1', 'Pz', 'P3', 'CP2', 'Cz', 'FT10', 'FC2', 'F8']\n",
      "    Rejecting  epoch based on EEG : ['Fz', 'FC1', 'C3', 'CP1', 'Pz', 'P3', 'CP2', 'Cz', 'FT10', 'FC2', 'F8']\n",
      "    Rejecting  epoch based on EEG : ['FT10', 'F8']\n",
      "    Rejecting  epoch based on EEG : ['Fz', 'FC1', 'T7', 'CP1', 'Pz', 'P3', 'P7', 'P4', 'CP2', 'Cz', 'FT10', 'F8']\n",
      "    Rejecting  epoch based on EEG : ['T7', 'P3', 'CP2', 'F8']\n",
      "    Rejecting  epoch based on EEG : ['T7', 'P3', 'CP2', 'F8']\n",
      "    Rejecting  epoch based on EEG : ['Fz', 'F3', 'F7', 'FC5', 'FC1', 'C3', 'T7', 'CP5', 'CP1', 'Pz', 'P3', 'P7', 'O1', 'P4', 'P8', 'CP6', 'CP2', 'Cz', 'C4', 'T8', 'FT10', 'FC6', 'FC2', 'F4', 'F8']\n",
      "    Rejecting  epoch based on EEG : ['Fz', 'F3', 'F7', 'FC5', 'FC1', 'C3', 'T7', 'CP5', 'CP1', 'Pz', 'P3', 'P7', 'O1', 'P4', 'P8', 'CP6', 'CP2', 'Cz', 'C4', 'T8', 'FT10', 'FC6', 'FC2', 'F4', 'F8']\n",
      "    Rejecting  epoch based on EEG : ['Fz', 'FC1', 'T7', 'CP1', 'Pz', 'P3', 'P7', 'P4', 'CP2', 'Cz']\n",
      "    Rejecting  epoch based on EEG : ['Fz', 'FC1', 'T7', 'CP1', 'Pz', 'P3', 'P7', 'P4', 'CP2', 'Cz', 'FT10']\n",
      "    Rejecting  epoch based on EEG : ['Fz', 'FC1', 'C3', 'T7', 'CP1', 'Pz', 'P3', 'P7', 'P4', 'CP2', 'Cz', 'F8']\n",
      "    Rejecting  epoch based on EEG : ['Fz', 'FC1', 'C3', 'T7', 'CP1', 'Pz', 'P3', 'P7', 'P4', 'CP2', 'Cz', 'FT10', 'F8']\n",
      "    Rejecting  epoch based on EEG : ['T7', 'Pz', 'FT10', 'F8']\n",
      "    Rejecting  epoch based on EEG : ['Fz', 'FC1', 'CP1', 'Pz', 'CP2', 'Cz', 'FT10']\n",
      "    Rejecting  epoch based on EEG : ['Fz', 'FC1', 'T7', 'CP1', 'Pz', 'P3', 'P7', 'P4', 'CP2', 'Cz', 'FT10', 'F8']\n",
      "    Rejecting  epoch based on EEG : ['Fz', 'FC1', 'T7', 'CP1', 'Pz', 'P3', 'P7', 'P4', 'CP2', 'Cz', 'FT10', 'F8']\n",
      "    Rejecting  epoch based on EEG : ['Fz', 'F3', 'FC1', 'C3', 'T7', 'CP1', 'Pz', 'P3', 'P7', 'O1', 'O2', 'P4', 'CP6', 'CP2', 'Cz', 'FT10', 'F8']\n",
      "    Rejecting  epoch based on EEG : ['Fz', 'FC1', 'T7', 'CP1', 'Pz', 'P3', 'P7', 'CP2', 'Cz']\n",
      "    Rejecting  epoch based on EEG : ['Fz', 'FC1', 'T7', 'CP1', 'Pz', 'P3', 'P7', 'CP2', 'Cz', 'F8']\n",
      "    Rejecting  epoch based on EEG : ['Fz', 'FC1', 'CP1', 'P7', 'CP2', 'Cz']\n",
      "    Rejecting  epoch based on EEG : ['Fz', 'F3', 'FC1', 'C3', 'T7', 'CP1', 'Pz', 'P3', 'P7', 'Oz', 'O2', 'P4', 'P8', 'CP6', 'CP2', 'Cz', 'C4', 'FT10', 'FC6', 'FC2', 'F4', 'F8']\n",
      "    Rejecting  epoch based on EEG : ['P7', 'Cz', 'FT10', 'F8']\n",
      "    Rejecting  epoch based on EEG : ['Fz', 'F3', 'FC1', 'C3', 'T7', 'CP1', 'Pz', 'P3', 'P7', 'O1', 'Oz', 'O2', 'P4', 'P8', 'CP6', 'CP2', 'Cz', 'C4', 'FT10', 'FC6', 'FC2', 'F8']\n",
      "    Rejecting  epoch based on EEG : ['Fz', 'F3', 'F7', 'FC1', 'C3', 'T7', 'CP1', 'Pz', 'P3', 'P7', 'O1', 'Oz', 'O2', 'P4', 'P8', 'CP6', 'CP2', 'Cz', 'C4', 'FT10', 'FC6', 'FC2', 'F8']\n",
      "    Rejecting  epoch based on EEG : ['O2']\n",
      "    Rejecting  epoch based on EEG : ['Fz', 'F3', 'FC1', 'C3', 'T7', 'CP1', 'Pz', 'P3', 'P7', 'O1', 'Oz', 'P4', 'P8', 'CP2', 'Cz', 'C4', 'FT10', 'FC6', 'FC2', 'F8']\n",
      "    Rejecting  epoch based on EEG : ['Fz', 'F3', 'FC1', 'C3', 'T7', 'CP1', 'Pz', 'P3', 'P7', 'O1', 'Oz', 'P4', 'P8', 'CP2', 'Cz', 'C4', 'FT10', 'FC6', 'FC2', 'F8']\n",
      "    Rejecting  epoch based on EEG : ['T7', 'FT10', 'FC2', 'F8']\n",
      "    Rejecting  epoch based on EEG : ['FC1', 'FT10', 'F8']\n",
      "    Rejecting  epoch based on EEG : ['Fz', 'F3', 'FC1', 'C3', 'T7', 'CP1', 'Pz', 'P3', 'P7', 'O1', 'Oz', 'O2', 'P4', 'P8', 'CP6', 'CP2', 'Cz', 'C4', 'FT10', 'FC6', 'FC2', 'F4', 'F8']\n",
      "    Rejecting  epoch based on EEG : ['Fz', 'F3', 'F7', 'FC1', 'C3', 'T7', 'CP1', 'Pz', 'P3', 'P7', 'O1', 'Oz', 'O2', 'P4', 'P8', 'CP6', 'CP2', 'Cz', 'C4', 'FT10', 'FC6', 'FC2', 'F4', 'F8']\n",
      "    Rejecting  epoch based on EEG : ['Fz', 'F3', 'FC1', 'C3', 'CP1', 'Pz', 'P3', 'O1', 'Oz', 'O2', 'P4', 'P8', 'CP6', 'CP2', 'Cz', 'C4', 'FT10', 'FC2', 'F8']\n",
      "    Rejecting  epoch based on EEG : ['Fz', 'F3', 'F7', 'FC1', 'C3', 'T7', 'CP1', 'Pz', 'P3', 'P7', 'O1', 'Oz', 'O2', 'P4', 'P8', 'TP10', 'CP6', 'CP2', 'Cz', 'C4', 'FT10', 'FC6', 'FC2', 'F4', 'F8', 'TP9']\n",
      "    Rejecting  epoch based on EEG : ['Fz', 'F3', 'F7', 'FC1', 'C3', 'T7', 'CP1', 'Pz', 'P3', 'P7', 'O1', 'Oz', 'O2', 'P4', 'P8', 'TP10', 'CP6', 'CP2', 'Cz', 'C4', 'FT10', 'FC6', 'FC2', 'F4', 'F8', 'TP9']\n",
      "    Rejecting  epoch based on EEG : ['FC1', 'FT10', 'F8']\n",
      "    Rejecting  epoch based on EEG : ['Fz', 'F3', 'FC1', 'C3', 'CP1', 'Pz', 'P3', 'P7', 'O1', 'Oz', 'O2', 'P4', 'P8', 'CP6', 'CP2', 'Cz', 'C4', 'FT10', 'FC6', 'FC2', 'F4', 'F8']\n",
      "    Rejecting  epoch based on EEG : ['Fz', 'F3', 'FC1', 'C3', 'CP1', 'Pz', 'P3', 'P7', 'O1', 'Oz', 'O2', 'P4', 'P8', 'CP6', 'CP2', 'Cz', 'C4', 'FT10', 'FC6', 'FC2', 'F4', 'F8']\n",
      "    Rejecting  epoch based on EEG : ['FT10', 'FC2', 'F8']\n",
      "    Rejecting  epoch based on EEG : ['Fz', 'FC1', 'T7', 'CP1', 'P3', 'P7', 'CP2', 'Cz', 'FT10']\n",
      "    Rejecting  epoch based on EEG : ['Fz', 'FC1', 'C3', 'T7', 'CP1', 'Pz', 'P3', 'P7', 'P4', 'CP2', 'Cz', 'FT10']\n",
      "    Rejecting  epoch based on EEG : ['Fz', 'F3', 'F7', 'FC1', 'C3', 'T7', 'CP5', 'CP1', 'Pz', 'P3', 'P7', 'O1', 'Oz', 'O2', 'P4', 'P8', 'CP6', 'CP2', 'Cz', 'C4', 'FT10', 'FC6', 'FC2', 'F4', 'F8']\n",
      "    Rejecting  epoch based on EEG : ['Fz', 'F3', 'F7', 'FC1', 'C3', 'T7', 'CP5', 'CP1', 'Pz', 'P3', 'P7', 'O1', 'Oz', 'O2', 'P4', 'P8', 'CP6', 'CP2', 'Cz', 'C4', 'FT10', 'FC6', 'FC2', 'F4', 'F8']\n",
      "    Rejecting  epoch based on EEG : ['FC1', 'Pz', 'P3', 'FT10', 'FC2', 'F8']\n",
      "    Rejecting  epoch based on EEG : ['Fz', 'FC1', 'CP1', 'CP2', 'Cz']\n",
      "    Rejecting  epoch based on EEG : ['Fz', 'F3', 'FC1', 'C3', 'T7', 'CP1', 'Pz', 'P3', 'P7', 'O1', 'Oz', 'O2', 'P4', 'P8', 'CP6', 'CP2', 'Cz', 'C4', 'FT10', 'FC6', 'FC2', 'F8']\n",
      "    Rejecting  epoch based on EEG : ['Fz', 'F3', 'FC1', 'C3', 'T7', 'CP1', 'Pz', 'P3', 'P7', 'O1', 'Oz', 'P4', 'P8', 'CP2', 'Cz', 'C4', 'FT10', 'FC6', 'FC2', 'F8']\n",
      "    Rejecting  epoch based on EEG : ['Fz', 'F3', 'FC1', 'C3', 'T7', 'CP1', 'Pz', 'P3', 'P7', 'O1', 'Oz', 'P4', 'P8', 'CP2', 'Cz', 'C4', 'FT10', 'FC6', 'FC2', 'F8']\n",
      "    Rejecting  epoch based on EEG : ['FC1', 'FT10']\n",
      "    Rejecting  epoch based on EEG : ['FC1', 'FT10', 'FC2']\n",
      "    Rejecting  epoch based on EEG : ['Fz', 'F3', 'FC1', 'C3', 'T7', 'CP1', 'Pz', 'P3', 'P7', 'O1', 'Oz', 'O2', 'P4', 'P8', 'CP6', 'CP2', 'Cz', 'C4', 'FT10', 'FC2', 'F8']\n",
      "    Rejecting  epoch based on EEG : ['Fz', 'F3', 'FC1', 'C3', 'T7', 'CP1', 'Pz', 'P3', 'P7', 'O1', 'Oz', 'O2', 'P4', 'P8', 'CP6', 'CP2', 'Cz', 'C4', 'FT10', 'FC2', 'F8']\n",
      "    Rejecting  epoch based on EEG : ['FT10']\n",
      "    Rejecting  epoch based on EEG : ['Fz', 'T7', 'CP2', 'Cz', 'FT10']\n",
      "    Rejecting  epoch based on EEG : ['Fz', 'F3', 'FC1', 'C3', 'T7', 'CP1', 'Pz', 'P3', 'P7', 'O1', 'Oz', 'O2', 'P4', 'P8', 'CP6', 'CP2', 'Cz', 'C4', 'FT10', 'FC2', 'F8']\n",
      "    Rejecting  epoch based on EEG : ['Fz', 'F3', 'FC1', 'C3', 'T7', 'CP1', 'Pz', 'P3', 'P7', 'O1', 'Oz', 'O2', 'P4', 'P8', 'CP6', 'CP2', 'Cz', 'C4', 'FT10', 'FC2', 'F8']\n",
      "    Rejecting  epoch based on EEG : ['Oz', 'FT10', 'F8']\n",
      "    Rejecting  epoch based on EEG : ['Fz', 'FC1', 'T7', 'CP1', 'Pz', 'P3', 'P7', 'Oz', 'CP2', 'Cz', 'FT10', 'F8']\n",
      "    Rejecting  epoch based on EEG : ['Fz', 'FC1', 'C3', 'T7', 'CP1', 'Pz', 'P3', 'P7', 'Oz', 'CP2', 'Cz', 'FT10', 'F8']\n",
      "    Rejecting  epoch based on EEG : ['P7']\n",
      "    Rejecting  epoch based on EEG : ['P7']\n",
      "    Rejecting  epoch based on EEG : ['T7', 'P7']\n",
      "    Rejecting  epoch based on EEG : ['Fz', 'FC1', 'C3', 'T7', 'CP1', 'Pz', 'P3', 'P7', 'O2', 'P4', 'P8', 'CP2', 'Cz', 'C4', 'FT10', 'FC2', 'F8']\n",
      "    Rejecting  epoch based on EEG : ['Fz', 'FC1', 'C3', 'T7', 'CP1', 'Pz', 'P3', 'O2', 'P4', 'P8', 'CP2', 'Cz', 'C4', 'FT10', 'FC2', 'F8']\n",
      "    Rejecting  epoch based on EEG : ['FT10']\n",
      "    Rejecting  epoch based on EEG : ['Fz', 'F3', 'FC1', 'C3', 'T7', 'CP1', 'Pz', 'P3', 'P7', 'O1', 'Oz', 'O2', 'P4', 'P8', 'CP6', 'CP2', 'Cz', 'FT10', 'FC2', 'F8']\n",
      "    Rejecting  epoch based on EEG : ['Fz', 'FC1', 'C3', 'T7', 'CP1', 'Pz', 'P3', 'P7', 'Oz', 'O2', 'P4', 'P8', 'CP2', 'Cz', 'FT10', 'FC2', 'F8']\n",
      "    Rejecting  epoch based on EEG : ['Fz', 'F3', 'FC1', 'C3', 'CP1', 'Pz', 'P3', 'CP2', 'Cz', 'FT10', 'F8']\n",
      "    Rejecting  epoch based on EEG : ['Fz', 'F3', 'FC1', 'C3', 'CP1', 'Pz', 'P3', 'P7', 'O1', 'Oz', 'P4', 'CP2', 'Cz', 'FT10', 'F8']\n",
      "    Rejecting  epoch based on EEG : ['Fz', 'FC1', 'CP1', 'P7', 'Oz', 'CP2', 'Cz', 'FT10', 'F8']\n",
      "    Rejecting  epoch based on EEG : ['Fz', 'FC1', 'CP1', 'Pz', 'P3', 'P7', 'CP2', 'Cz']\n",
      "    Rejecting  epoch based on EEG : ['Cz']\n",
      "    Rejecting  epoch based on EEG : ['Cz']\n",
      "    Rejecting  epoch based on EEG : ['Fz', 'F3', 'FC1', 'C3', 'CP1', 'Pz', 'P3', 'P7', 'Oz', 'P4', 'CP2', 'Cz', 'FT10', 'FC2', 'F8']\n",
      "    Rejecting  epoch based on EEG : ['Fz', 'FC1', 'C3', 'CP1', 'Pz', 'P3', 'P7', 'Oz', 'P4', 'CP2', 'Cz', 'FT10', 'FC2', 'F8']\n",
      "    Rejecting  epoch based on EEG : ['Fz', 'FC1', 'CP1', 'Pz', 'P3', 'P7', 'CP2', 'Cz']\n",
      "    Rejecting  epoch based on EEG : ['Fz', 'FC1', 'CP1', 'Pz', 'P3', 'P7', 'CP2', 'Cz']\n",
      "    Rejecting  epoch based on EEG : ['Fz', 'FC1', 'CP1', 'CP2', 'Cz']\n",
      "    Rejecting  epoch based on EEG : ['Fz', 'FC1', 'CP1', 'CP2']\n",
      "    Rejecting  epoch based on EEG : ['Fz', 'FC1', 'Cz']\n",
      "    Rejecting  epoch based on EEG : ['Fz', 'FC1', 'Cz']\n",
      "    Rejecting  epoch based on EEG : ['Fz', 'FC1', 'CP1', 'CP2', 'Cz']\n",
      "    Rejecting  epoch based on EEG : ['Fz', 'F3', 'FC1', 'C3', 'CP1', 'Pz', 'P3', 'P7', 'P8', 'CP2', 'Cz', 'FT10', 'FC6', 'F8']\n",
      "    Rejecting  epoch based on EEG : ['CP1', 'Cz', 'FT10', 'F8']\n",
      "    Rejecting  epoch based on EEG : ['Fz', 'Cz']\n",
      "    Rejecting  epoch based on EEG : ['Fz', 'FC1', 'T7', 'CP1', 'Pz', 'P3', 'P7', 'P4', 'CP2', 'Cz', 'F8']\n",
      "    Rejecting  epoch based on EEG : ['Fz', 'F3', 'FC1', 'C3', 'T7', 'CP1', 'Pz', 'P3', 'P7', 'O1', 'Oz', 'P4', 'CP6', 'CP2', 'Cz', 'FT10', 'FC2', 'F8']\n",
      "    Rejecting  epoch based on EEG : ['Fz', 'F3', 'FC1', 'C3', 'T7', 'CP1', 'Pz', 'P3', 'P7', 'O1', 'Oz', 'P4', 'CP6', 'CP2', 'Cz', 'FT10', 'FC2', 'F8']\n",
      "    Rejecting  epoch based on EEG : ['Fz', 'F3', 'FC1', 'C3', 'CP1', 'Pz', 'P3', 'P7', 'O1', 'Oz', 'P4', 'CP6', 'CP2', 'Cz', 'FT10', 'FC6', 'FC2', 'F8']\n",
      "    Rejecting  epoch based on EEG : ['Fz', 'F3', 'FC1', 'C3', 'CP1', 'Pz', 'P3', 'P7', 'O1', 'Oz', 'P4', 'CP6', 'CP2', 'Cz', 'FT10', 'FC6', 'FC2', 'F8']\n",
      "    Rejecting  epoch based on EEG : ['Fz', 'FC1', 'CP1', 'Pz', 'P3', 'P7', 'CP2', 'Cz']\n",
      "    Rejecting  epoch based on EEG : ['Fz', 'F3', 'FC1', 'C3', 'T7', 'CP1', 'Pz', 'P3', 'P7', 'Oz', 'P8', 'CP2', 'Cz', 'FT10', 'F8']\n",
      "    Rejecting  epoch based on EEG : ['Fz', 'F3', 'FC1', 'C3', 'T7', 'CP1', 'Pz', 'P3', 'P7', 'Oz', 'P8', 'CP2', 'Cz', 'FT10', 'F8']\n",
      "    Rejecting  epoch based on EEG : ['Fz', 'FC1', 'C3', 'CP1', 'Pz', 'P3', 'P7', 'O1', 'Oz', 'CP2', 'Cz', 'FT10', 'F8']\n",
      "    Rejecting  epoch based on EEG : ['Oz']\n",
      "    Rejecting  epoch based on EEG : ['P7', 'Oz']\n",
      "    Rejecting  epoch based on EEG : ['P7', 'Oz']\n",
      "    Rejecting  epoch based on EEG : ['Fz', 'FC1', 'P7', 'Oz', 'CP2', 'Cz', 'FT10', 'F8']\n",
      "    Rejecting  epoch based on EEG : ['T7', 'P7']\n",
      "    Rejecting  epoch based on EEG : ['Fz', 'FC1', 'C3', 'T7', 'CP1', 'Pz', 'P3', 'P7', 'Oz', 'O2', 'P8', 'CP2', 'Cz', 'FT10', 'F8']\n",
      "    Rejecting  epoch based on EEG : ['Fz', 'P7', 'CP2', 'Cz']\n",
      "    Rejecting  epoch based on EEG : ['Fz', 'FC1', 'T7', 'CP1', 'P7', 'Oz', 'CP2', 'Cz', 'FT10']\n",
      "    Rejecting  epoch based on EEG : ['P7', 'Oz', 'FT10']\n",
      "    Rejecting  epoch based on EEG : ['Fz', 'P7', 'FT10', 'F8']\n",
      "    Rejecting  epoch based on EEG : ['Fz', 'FC1', 'T7', 'CP1', 'P7', 'CP2', 'Cz', 'FT10', 'FC2', 'F8']\n",
      "    Rejecting  epoch based on EEG : ['Fz', 'FC1', 'C3', 'T7', 'CP1', 'Pz', 'P3', 'P7', 'O1', 'Oz', 'O2', 'P4', 'P8', 'CP2', 'Cz', 'C4', 'FT10', 'FC6', 'FC2', 'F4', 'F8']\n",
      "    Rejecting  epoch based on EEG : ['Fz', 'FC1', 'C3', 'T7', 'CP1', 'Pz', 'P3', 'P7', 'O1', 'Oz', 'O2', 'P4', 'P8', 'CP2', 'Cz', 'C4', 'FT10', 'FC6', 'FC2', 'F4', 'F8']\n",
      "    Rejecting  epoch based on EEG : ['Fz', 'F3', 'F7', 'FC1', 'C3', 'T7', 'CP1', 'Pz', 'P3', 'P7', 'O1', 'Oz', 'O2', 'P4', 'P8', 'CP6', 'CP2', 'Cz', 'C4', 'FT10', 'FC6', 'FC2', 'F8']\n",
      "    Rejecting  epoch based on EEG : ['Fz', 'F3', 'F7', 'FC1', 'C3', 'T7', 'CP1', 'Pz', 'P3', 'P7', 'O1', 'Oz', 'O2', 'P4', 'P8', 'CP6', 'CP2', 'Cz', 'C4', 'FT10', 'FC6', 'FC2', 'F8']\n",
      "    Rejecting  epoch based on EEG : ['FT10', 'F8']\n",
      "    Rejecting  epoch based on EEG : ['Fz', 'F3', 'FC1', 'C3', 'T7', 'CP1', 'Pz', 'P3', 'P7', 'O1', 'Oz', 'O2', 'P4', 'P8', 'CP6', 'CP2', 'Cz', 'C4', 'FT10', 'FC6', 'FC2', 'F8']\n",
      "    Rejecting  epoch based on EEG : ['Fz', 'F3', 'FC1', 'C3', 'T7', 'CP1', 'Pz', 'P3', 'P7', 'O1', 'Oz', 'O2', 'P4', 'P8', 'CP6', 'CP2', 'Cz', 'C4', 'FT10', 'FC6', 'FC2', 'F8']\n",
      "    Rejecting  epoch based on EEG : ['T7', 'P7']\n",
      "    Rejecting  epoch based on EEG : ['T7', 'P7', 'Oz', 'F8']\n",
      "    Rejecting  epoch based on EEG : ['Fz', 'FC1', 'C3', 'T7', 'CP1', 'Pz', 'P3', 'P7', 'Oz', 'O2', 'P4', 'P8', 'CP2', 'Cz', 'FT10', 'FC6', 'FC2', 'F8']\n",
      "    Rejecting  epoch based on EEG : ['Fz', 'FC1', 'C3', 'T7', 'CP1', 'Pz', 'P3', 'P7', 'Oz', 'O2', 'P4', 'P8', 'CP2', 'Cz', 'FT10', 'FC6', 'FC2', 'F8']\n",
      "    Rejecting  epoch based on EEG : ['T7', 'P8', 'FT10']\n",
      "    Rejecting  epoch based on EEG : ['FT10']\n",
      "    Rejecting  epoch based on EEG : ['Fz', 'F3', 'F7', 'FC1', 'C3', 'T7', 'CP1', 'Pz', 'P3', 'P7', 'O1', 'Oz', 'O2', 'P4', 'P8', 'CP6', 'CP2', 'Cz', 'C4', 'FT10', 'FC6', 'FC2', 'F8']\n",
      "    Rejecting  epoch based on EEG : ['Fz', 'F3', 'F7', 'FC1', 'C3', 'T7', 'CP1', 'Pz', 'P3', 'P7', 'O1', 'Oz', 'O2', 'P4', 'P8', 'CP6', 'CP2', 'Cz', 'C4', 'FT10', 'FC6', 'FC2', 'F8']\n",
      "    Rejecting  epoch based on EEG : ['FT10', 'F8']\n",
      "    Rejecting  epoch based on EEG : ['Fz', 'F3', 'FC1', 'C3', 'T7', 'CP1', 'Pz', 'P3', 'P7', 'O1', 'Oz', 'O2', 'P4', 'P8', 'CP2', 'Cz', 'C4', 'FT10', 'FC6', 'FC2', 'F4', 'F8']\n",
      "    Rejecting  epoch based on EEG : ['Fz', 'F3', 'FC1', 'C3', 'T7', 'CP1', 'Pz', 'P3', 'P7', 'O1', 'Oz', 'O2', 'P4', 'P8', 'CP6', 'CP2', 'Cz', 'C4', 'FT10', 'FC6', 'FC2', 'F4', 'F8']\n",
      "    Rejecting  epoch based on EEG : ['Fz', 'F3', 'FC1', 'C3', 'T7', 'CP1', 'Pz', 'P3', 'P7', 'O1', 'Oz', 'P4', 'P8', 'CP2', 'Cz', 'C4', 'FT10', 'FC2', 'F8']\n",
      "    Rejecting  epoch based on EEG : ['Fz', 'F3', 'FC1', 'C3', 'T7', 'CP1', 'Pz', 'P3', 'P7', 'O1', 'Oz', 'P4', 'P8', 'CP2', 'Cz', 'C4', 'FT10', 'FC6', 'FC2', 'F4', 'F8']\n",
      "    Rejecting  epoch based on EEG : ['Fz', 'F3', 'FC1', 'C3', 'T7', 'CP1', 'Pz', 'P3', 'P7', 'O1', 'Oz', 'O2', 'P4', 'P8', 'CP6', 'CP2', 'Cz', 'C4', 'FT10', 'FC6', 'FC2', 'F4', 'F8']\n",
      "    Rejecting  epoch based on EEG : ['FT10', 'F8']\n",
      "    Rejecting  epoch based on EEG : ['FT10']\n",
      "    Rejecting  epoch based on EEG : ['Fz', 'F3', 'F7', 'FC1', 'C3', 'T7', 'CP1', 'Pz', 'P3', 'P7', 'O1', 'Oz', 'O2', 'P4', 'P8', 'CP6', 'CP2', 'Cz', 'C4', 'FT10', 'FC6', 'FC2', 'F4', 'F8']\n",
      "    Rejecting  epoch based on EEG : ['Fz', 'F3', 'F7', 'FC1', 'C3', 'T7', 'CP1', 'Pz', 'P3', 'O1', 'Oz', 'O2', 'P4', 'P8', 'CP6', 'CP2', 'Cz', 'C4', 'FT10', 'FC6', 'FC2', 'F8']\n",
      "    Rejecting  epoch based on EEG : ['Fz', 'F3', 'FC1', 'C3', 'T7', 'CP1', 'Pz', 'P3', 'P7', 'O1', 'Oz', 'O2', 'P4', 'P8', 'CP6', 'CP2', 'Cz', 'C4', 'T8', 'FT10', 'FC6', 'FC2', 'F4', 'F8']\n",
      "    Rejecting  epoch based on EEG : ['Fz', 'F3', 'FC1', 'C3', 'T7', 'CP1', 'Pz', 'P3', 'P7', 'O1', 'Oz', 'O2', 'P4', 'P8', 'CP2', 'Cz', 'C4', 'FT10', 'FC2', 'F8']\n",
      "    Rejecting  epoch based on EEG : ['Fz', 'F3', 'FC1', 'C3', 'T7', 'CP5', 'CP1', 'Pz', 'P3', 'P7', 'O1', 'Oz', 'O2', 'P4', 'P8', 'CP6', 'CP2', 'Cz', 'C4', 'T8', 'FT10', 'FC6', 'FC2', 'F4', 'F8']\n",
      "    Rejecting  epoch based on EEG : ['Fz', 'F3', 'FC1', 'C3', 'T7', 'CP1', 'Pz', 'P3', 'P7', 'O1', 'Oz', 'O2', 'P4', 'P8', 'CP6', 'CP2', 'Cz', 'C4', 'T8', 'FT10', 'FC6', 'FC2', 'F8']\n",
      "    Rejecting  epoch based on EEG : ['Fz', 'F3', 'FC1', 'C3', 'T7', 'CP1', 'Pz', 'P3', 'P7', 'O1', 'Oz', 'O2', 'P4', 'P8', 'CP6', 'CP2', 'Cz', 'C4', 'FT10', 'FC6', 'FC2', 'F4', 'F8']\n",
      "    Rejecting  epoch based on EEG : ['Fz', 'F3', 'F7', 'FC1', 'C3', 'T7', 'CP1', 'Pz', 'P3', 'P7', 'O1', 'Oz', 'O2', 'P4', 'P8', 'CP6', 'CP2', 'Cz', 'C4', 'FT10', 'FC6', 'FC2', 'F4', 'F8']\n",
      "    Rejecting  epoch based on EEG : ['Fz', 'F3', 'F7', 'FC1', 'C3', 'CP1', 'Pz', 'P3', 'O1', 'P4', 'CP2', 'Cz', 'FT10', 'FC6', 'FC2', 'F8']\n",
      "    Rejecting  epoch based on EEG : ['T7', 'P7', 'Oz']\n",
      "    Rejecting  epoch based on EEG : ['T7', 'P7', 'Oz']\n",
      "    Rejecting  epoch based on EEG : ['Fz', 'F3', 'FC1', 'C3', 'CP1', 'Pz', 'P3', 'P7', 'O1', 'Oz', 'O2', 'P4', 'P8', 'CP2', 'Cz', 'C4', 'FT10', 'FC2', 'F8']\n",
      "    Rejecting  epoch based on EEG : ['T7', 'FT10']\n",
      "    Rejecting  epoch based on EEG : ['Fz', 'F3', 'FC1', 'C3', 'T7', 'CP1', 'Pz', 'P3', 'P7', 'O1', 'Oz', 'O2', 'P4', 'P8', 'CP6', 'CP2', 'Cz', 'C4', 'FT10', 'FC6', 'FC2', 'F8']\n",
      "    Rejecting  epoch based on EEG : ['Fz', 'FC1', 'C3', 'T7', 'CP1', 'Pz', 'P3', 'O1', 'Oz', 'O2', 'P4', 'P8', 'CP2', 'Cz', 'C4', 'FT10', 'FC2', 'F8']\n",
      "    Rejecting  epoch based on EEG : ['Fz', 'F3', 'FC1', 'C3', 'T7', 'CP1', 'Pz', 'P3', 'P7', 'O1', 'Oz', 'O2', 'P4', 'P8', 'CP6', 'CP2', 'Cz', 'C4', 'FT10', 'FC6', 'FC2', 'F4', 'F8']\n",
      "    Rejecting  epoch based on EEG : ['Fz', 'F3', 'F7', 'FC1', 'C3', 'T7', 'CP1', 'Pz', 'P3', 'P7', 'O1', 'P4', 'CP6', 'CP2', 'Cz', 'C4', 'FT10', 'FC6', 'FC2', 'F4', 'F8']\n",
      "    Rejecting  epoch based on EEG : ['Fz', 'F3', 'F7', 'FC1', 'C3', 'T7', 'CP1', 'Pz', 'P3', 'P7', 'O1', 'Oz', 'P4', 'P8', 'CP2', 'Cz', 'C4', 'FT10', 'FC6', 'FC2', 'F4', 'F8']\n",
      "    Rejecting  epoch based on EEG : ['Fz', 'FC1', 'C3', 'CP1', 'Pz', 'P3', 'P7', 'O1', 'Oz', 'P4', 'P8', 'CP2', 'Cz', 'C4', 'FT10', 'FC6', 'FC2', 'F8']\n",
      "    Rejecting  epoch based on EEG : ['Fz', 'FC1', 'C3', 'CP1', 'Pz', 'P3', 'P7', 'O1', 'Oz', 'O2', 'P4', 'P8', 'CP2', 'Cz', 'C4', 'FT10', 'FC6', 'FC2', 'F8']\n",
      "    Rejecting  epoch based on EEG : ['Fz', 'FC1', 'C3', 'CP1', 'Pz', 'P3', 'O1', 'CP2', 'Cz', 'FT10', 'FC2', 'F8']\n",
      "    Rejecting  epoch based on EEG : ['T7', 'Oz', 'FT10']\n",
      "    Rejecting  epoch based on EEG : ['Fz', 'F3', 'FC1', 'C3', 'T7', 'CP1', 'Pz', 'P3', 'P7', 'O1', 'Oz', 'O2', 'P4', 'P8', 'CP2', 'Cz', 'C4', 'FT10', 'FC2', 'F8']\n",
      "    Rejecting  epoch based on EEG : ['Fz', 'F3', 'FC1', 'C3', 'T7', 'CP1', 'Pz', 'P3', 'O2', 'P4', 'P8', 'CP2', 'Cz', 'C4', 'FT10', 'FC2', 'F8']\n",
      "    Rejecting  epoch based on EEG : ['P7']\n",
      "    Rejecting  epoch based on EEG : ['P7', 'Cz']\n",
      "    Rejecting  epoch based on EEG : ['Fz', 'F3', 'F7', 'FC1', 'C3', 'T7', 'CP1', 'Pz', 'P3', 'P7', 'O1', 'Oz', 'O2', 'P4', 'P8', 'CP6', 'CP2', 'Cz', 'C4', 'FT10', 'FC2', 'F8']\n",
      "    Rejecting  epoch based on EEG : ['Fz', 'F3', 'F7', 'FC1', 'C3', 'T7', 'CP1', 'Pz', 'P3', 'P7', 'O1', 'Oz', 'O2', 'P4', 'P8', 'CP6', 'CP2', 'Cz', 'C4', 'FT10', 'FC2', 'F8']\n",
      "    Rejecting  epoch based on EEG : ['Fz', 'FC1', 'C3', 'CP1', 'Pz', 'P3', 'P7', 'CP2', 'Cz', 'FT10']\n",
      "    Rejecting  epoch based on EEG : ['Fz', 'FC1', 'C3', 'CP1', 'Pz', 'P3', 'P7', 'Oz', 'CP2', 'Cz', 'FT10']\n",
      "    Rejecting  epoch based on EEG : ['P7']\n",
      "    Rejecting  epoch based on EEG : ['P7']\n",
      "    Rejecting  epoch based on EEG : ['Fz', 'F3', 'F7', 'FC1', 'C3', 'T7', 'CP1', 'Pz', 'P3', 'P7', 'Oz', 'P4', 'CP6', 'CP2', 'Cz', 'C4', 'FT10', 'FC2', 'F8']\n",
      "    Rejecting  epoch based on EEG : ['Fz', 'F3', 'F7', 'FC1', 'C3', 'T7', 'CP1', 'Pz', 'P3', 'P7', 'Oz', 'O2', 'P4', 'P8', 'CP6', 'CP2', 'Cz', 'C4', 'FT10', 'FC2', 'F8']\n",
      "    Rejecting  epoch based on EEG : ['F8']\n",
      "    Rejecting  epoch based on EEG : ['Fz', 'FC1', 'C3', 'CP1', 'Pz', 'Oz', 'O2', 'P8', 'CP2', 'Cz', 'FT10', 'F8']\n",
      "    Rejecting  epoch based on EEG : ['Fz', 'FC1', 'C3', 'CP1', 'Pz', 'P3', 'Oz', 'O2', 'P8', 'CP2', 'Cz', 'FT10', 'F8']\n",
      "    Rejecting  epoch based on EEG : ['Fz', 'F3', 'F7', 'FC1', 'C3', 'T7', 'CP1', 'Pz', 'P3', 'P7', 'O1', 'Oz', 'O2', 'P4', 'P8', 'CP6', 'CP2', 'Cz', 'C4', 'FT10', 'FC6', 'FC2', 'F4', 'F8']\n",
      "    Rejecting  epoch based on EEG : ['Fz', 'F3', 'F7', 'FC1', 'C3', 'T7', 'CP1', 'Pz', 'P3', 'P7', 'O1', 'Oz', 'O2', 'P4', 'P8', 'CP6', 'CP2', 'Cz', 'C4', 'FT10', 'FC6', 'FC2', 'F4', 'F8']\n",
      "    Rejecting  epoch based on EEG : ['FC1', 'CP1', 'FT10', 'F8']\n",
      "    Rejecting  epoch based on EEG : ['FC1', 'C3', 'CP1', 'Pz', 'P3', 'Oz', 'FT10', 'F8']\n",
      "    Rejecting  epoch based on EEG : ['F3', 'C3']\n",
      "    Rejecting  epoch based on EEG : ['Fz', 'F3', 'F7', 'FC5', 'FC1', 'C3', 'T7', 'CP1', 'Pz', 'P3', 'P7', 'O1', 'Oz', 'O2', 'P4', 'P8', 'CP6', 'CP2', 'Cz', 'C4', 'FT10', 'FC6', 'FC2', 'F4', 'F8']\n",
      "    Rejecting  epoch based on EEG : ['Fz', 'F3', 'F7', 'FC5', 'FC1', 'C3', 'T7', 'CP1', 'Pz', 'P3', 'P7', 'O1', 'Oz', 'O2', 'P4', 'P8', 'CP6', 'CP2', 'Cz', 'C4', 'FT10', 'FC6', 'FC2', 'F8']\n",
      "    Rejecting  epoch based on EEG : ['P7']\n",
      "    Rejecting  epoch based on EEG : ['Fz', 'F3', 'FC1', 'C3', 'T7', 'CP1', 'Pz', 'P3', 'P7', 'O1', 'Oz', 'O2', 'P4', 'P8', 'CP6', 'CP2', 'Cz', 'C4', 'FT10', 'FC6', 'FC2', 'F8']\n",
      "    Rejecting  epoch based on EEG : ['Fz', 'F3', 'FC1', 'C3', 'T7', 'CP1', 'Pz', 'P3', 'P7', 'O1', 'Oz', 'O2', 'P4', 'P8', 'CP6', 'CP2', 'Cz', 'C4', 'FT10', 'FC6', 'FC2', 'F8']\n",
      "    Rejecting  epoch based on EEG : ['Fz', 'FC1', 'C3', 'T7', 'CP1', 'Pz', 'P3', 'P7', 'Oz', 'O2', 'P4', 'P8', 'CP2', 'Cz', 'C4', 'FT10', 'FC6', 'FC2', 'F8']\n",
      "    Rejecting  epoch based on EEG : ['Fz', 'FC1', 'C3', 'T7', 'CP1', 'Pz', 'P3', 'P7', 'Oz', 'O2', 'P4', 'P8', 'CP2', 'Cz', 'C4', 'FT10', 'FC6', 'FC2', 'F8']\n",
      "    Rejecting  epoch based on EEG : ['T7', 'P7', 'Oz']\n",
      "    Rejecting  epoch based on EEG : ['Fz', 'F7', 'FC1', 'C3', 'T7', 'CP1', 'Pz', 'P3', 'P7', 'Oz', 'O2', 'P4', 'P8', 'CP2', 'Cz', 'C4', 'FT10', 'FC6', 'FC2', 'F8']\n",
      "    Rejecting  epoch based on EEG : ['Fz', 'F7', 'FC1', 'C3', 'T7', 'CP1', 'Pz', 'P3', 'P7', 'Oz', 'O2', 'P4', 'P8', 'CP2', 'Cz', 'C4', 'FT10', 'FC6', 'FC2', 'F8']\n",
      "    Rejecting  epoch based on EEG : ['P7', 'Oz']\n",
      "    Rejecting  epoch based on EEG : ['P7', 'Oz']\n",
      "    Rejecting  epoch based on EEG : ['Fz', 'FC1', 'CP1', 'P7', 'Oz', 'O2', 'CP2', 'Cz', 'FT10', 'FC2', 'F8']\n",
      "    Rejecting  epoch based on EEG : ['Fz', 'FC1', 'CP1', 'P7', 'Oz', 'O2', 'CP2', 'Cz', 'FT10', 'FC2', 'F8']\n",
      "    Rejecting  epoch based on EEG : ['Fz', 'F3', 'FC5', 'FC1', 'C3', 'T7', 'CP5', 'CP1', 'Pz', 'P3', 'P7', 'P4', 'CP6', 'CP2', 'Cz', 'C4', 'T8', 'FT10', 'FC6', 'FC2', 'F4', 'F8']\n",
      "    Rejecting  epoch based on EEG : ['Fz', 'F3', 'FC5', 'FC1', 'C3', 'T7', 'CP1', 'Pz', 'P3', 'P7', 'Oz', 'O2', 'P4', 'CP6', 'CP2', 'Cz', 'C4', 'T8', 'FT10', 'FC6', 'FC2', 'F4', 'F8']\n",
      "    Rejecting  epoch based on EEG : ['Fz', 'P7', 'Cz']\n",
      "    Rejecting  epoch based on EEG : ['Fz', 'P7', 'Cz']\n",
      "    Rejecting  epoch based on EEG : ['Fz', 'FC1', 'P7', 'Oz', 'CP2', 'FT10', 'F8']\n",
      "    Rejecting  epoch based on EEG : ['Fz', 'F3', 'F7', 'FC5', 'FC1', 'C3', 'T7', 'CP5', 'CP1', 'Pz', 'P3', 'P7', 'O1', 'Oz', 'O2', 'P4', 'P8', 'TP10', 'CP6', 'CP2', 'Cz', 'C4', 'T8', 'FT10', 'FC6', 'FC2', 'F8', 'TP9']\n",
      "    Rejecting  epoch based on EEG : ['F3', 'F7', 'FC5', 'FC1', 'C3', 'T7', 'CP5', 'CP1', 'Pz', 'P3', 'P7', 'P4', 'P8', 'TP10', 'CP6', 'CP2', 'Cz', 'C4', 'T8', 'FC6', 'F8', 'TP9']\n",
      "    Rejecting  epoch based on EEG : ['Fz', 'F3', 'F7', 'FC1', 'P7', 'Oz', 'P4', 'CP6', 'CP2', 'Cz', 'C4', 'T8', 'FT10', 'FC6', 'FC2', 'F4', 'F8']\n",
      "    Rejecting  epoch based on EEG : ['Fz', 'F3', 'FC1', 'C3', 'T7', 'CP1', 'Pz', 'P3', 'P7', 'O1', 'Oz', 'O2', 'P4', 'P8', 'CP6', 'CP2', 'Cz', 'C4', 'FT10', 'FC6', 'FC2', 'F4', 'F8']\n",
      "    Rejecting  epoch based on EEG : ['Oz', 'FT10', 'F8']\n",
      "    Rejecting  epoch based on EEG : ['Fz', 'FC1', 'CP1', 'Pz', 'P3', 'P4', 'CP2', 'Cz', 'FT10', 'FC6', 'FC2', 'F8']\n",
      "    Rejecting  epoch based on EEG : ['Fz', 'FC1', 'CP1', 'Pz', 'P3', 'Oz', 'O2', 'P4', 'CP2', 'Cz', 'FT10', 'FC6', 'FC2', 'F8']\n",
      "    Rejecting  epoch based on EEG : ['Fz', 'F3', 'F7', 'FC1', 'C3', 'T7', 'CP1', 'Pz', 'P3', 'P7', 'O1', 'Oz', 'O2', 'P4', 'P8', 'CP6', 'CP2', 'Cz', 'C4', 'FT10', 'FC6', 'FC2', 'F8']\n",
      "    Rejecting  epoch based on EEG : ['Fz', 'F3', 'F7', 'FC1', 'C3', 'T7', 'CP1', 'Pz', 'P3', 'P7', 'O1', 'Oz', 'O2', 'P4', 'P8', 'CP6', 'CP2', 'Cz', 'FT10', 'FC6', 'FC2', 'F8']\n",
      "    Rejecting  epoch based on EEG : ['Fz', 'F3', 'F7', 'FC1', 'C3', 'CP1', 'Pz', 'P3', 'P7', 'Oz', 'O2', 'P4', 'P8', 'CP6', 'CP2', 'Cz', 'C4', 'FT10', 'FC6', 'FC2', 'F8']\n",
      "    Rejecting  epoch based on EEG : ['Fz', 'F3', 'F7', 'FC1', 'C3', 'CP1', 'Pz', 'P3', 'P7', 'Oz', 'O2', 'P4', 'P8', 'CP6', 'CP2', 'Cz', 'FT10', 'FC6', 'FC2', 'F8']\n",
      "    Rejecting  epoch based on EEG : ['Fz', 'FC1', 'CP1', 'Pz', 'P7', 'Oz', 'CP2', 'Cz']\n",
      "    Rejecting  epoch based on EEG : ['Fz', 'FC1', 'C3', 'CP1', 'Pz', 'P3', 'P7', 'Oz', 'P4', 'CP2', 'Cz', 'FT10', 'FC2']\n",
      "    Rejecting  epoch based on EEG : ['Fz', 'FC1', 'C3', 'CP1', 'Pz', 'P3', 'P7', 'Oz', 'CP2', 'Cz', 'FT10']\n",
      "    Rejecting  epoch based on EEG : ['Fz', 'F3', 'FC1', 'C3', 'T7', 'CP1', 'Pz', 'P3', 'P7', 'Oz', 'O2', 'P4', 'P8', 'CP6', 'CP2', 'Cz', 'C4', 'FT10', 'FC2', 'F8']\n",
      "    Rejecting  epoch based on EEG : ['Fz', 'FC1', 'C3', 'CP1', 'P3', 'P7', 'Oz', 'O2', 'P8', 'CP2', 'Cz', 'FT10', 'F8']\n",
      "    Rejecting  epoch based on EEG : ['Fz', 'FC1', 'CP1', 'P7', 'Oz', 'CP2', 'Cz']\n",
      "    Rejecting  epoch based on EEG : ['Fz', 'FC1', 'CP1', 'P7', 'Oz', 'CP2', 'Cz']\n",
      "    Rejecting  epoch based on EEG : ['Fz', 'FC1', 'C3', 'CP1', 'Pz', 'P3', 'P7', 'Oz', 'CP2', 'Cz', 'FT10']\n",
      "    Rejecting  epoch based on EEG : ['Fz']\n",
      "    Rejecting  epoch based on EEG : ['T7', 'P7', 'Oz']\n",
      "    Rejecting  epoch based on EEG : ['T7', 'P7', 'Oz']\n",
      "    Rejecting  epoch based on EEG : ['Fz', 'FC1', 'C3', 'CP1', 'Pz', 'P3', 'P7', 'Oz', 'O2', 'P8', 'CP2', 'Cz', 'FT10', 'FC6', 'F8']\n",
      "    Rejecting  epoch based on EEG : ['Fz']\n",
      "    Rejecting  epoch based on EEG : ['Fz']\n",
      "    Rejecting  epoch based on EEG : ['Fz', 'F3', 'F7', 'FC1', 'C3', 'T7', 'CP5', 'CP1', 'Pz', 'P3', 'P7', 'O1', 'Oz', 'O2', 'P4', 'P8', 'CP6', 'CP2', 'Cz', 'C4', 'T8', 'FT10', 'FC6', 'FC2', 'F8']\n",
      "    Rejecting  epoch based on EEG : ['Fz', 'F3', 'F7', 'FC5', 'FC1', 'C3', 'T7', 'CP5', 'CP1', 'Pz', 'P3', 'P7', 'O1', 'Oz', 'O2', 'P4', 'P8', 'CP6', 'CP2', 'Cz', 'C4', 'T8', 'FT10', 'FC6', 'FC2', 'F8']\n",
      "    Rejecting  epoch based on EEG : ['F7', 'FC5', 'CP1', 'Oz', 'O2', 'CP6', 'Cz']\n",
      "    Rejecting  epoch based on EEG : ['F8']\n",
      "    Rejecting  epoch based on EEG : ['Fz', 'FC1', 'CP1', 'Pz', 'P3', 'CP2', 'Cz', 'F8']\n",
      "    Rejecting  epoch based on EEG : ['Fz', 'F3', 'FC1', 'C3', 'T7', 'CP1', 'Pz', 'P3', 'P7', 'O1', 'Oz', 'O2', 'P4', 'P8', 'CP6', 'CP2', 'Cz', 'FT10', 'FC6', 'FC2', 'F8']\n",
      "    Rejecting  epoch based on EEG : ['Fz', 'F7', 'FC1', 'C3', 'T7', 'CP1', 'Pz', 'P3', 'P7', 'Oz', 'O2', 'P4', 'P8', 'CP6', 'CP2', 'Cz', 'C4', 'FT10', 'FC6', 'FC2', 'F4', 'F8']\n",
      "    Rejecting  epoch based on EEG : ['Fz', 'F7', 'FC1', 'C3', 'T7', 'CP1', 'Pz', 'P3', 'P7', 'Oz', 'O2', 'P4', 'P8', 'CP2', 'Cz', 'C4', 'FT10', 'FC6', 'FC2', 'F4', 'F8']\n",
      "    Rejecting  epoch based on EEG : ['Fz', 'FC1', 'C3', 'T7', 'CP1', 'Pz', 'P3', 'P7', 'Oz', 'P8', 'CP2', 'Cz', 'FT10', 'FC6', 'FC2', 'F8']\n",
      "    Rejecting  epoch based on EEG : ['Fz', 'FC1', 'C3', 'T7', 'CP1', 'Pz', 'P3', 'P7', 'Oz', 'P8', 'CP2', 'Cz', 'FT10', 'FC6', 'FC2', 'F8']\n",
      "    Rejecting  epoch based on EEG : ['P7', 'FT10', 'FC6', 'F8']\n",
      "    Rejecting  epoch based on EEG : ['FT10', 'FC6', 'F8']\n",
      "    Rejecting  epoch based on EEG : ['Fz', 'FC1', 'C3', 'T7', 'CP1', 'Pz', 'P3', 'P7', 'O1', 'Oz', 'O2', 'P4', 'P8', 'CP2', 'Cz', 'C4', 'FT10', 'FC6', 'FC2', 'F8']\n",
      "    Rejecting  epoch based on EEG : ['Fz', 'FC1', 'C3', 'T7', 'CP1', 'Pz', 'P3', 'P7', 'O1', 'Oz', 'O2', 'P4', 'P8', 'CP2', 'Cz', 'C4', 'FT10', 'FC6', 'FC2', 'F8']\n",
      "    Rejecting  epoch based on EEG : ['Fz', 'FC1', 'C3', 'T7', 'CP1', 'Pz', 'P3', 'P7', 'Oz', 'P8', 'CP2', 'Cz', 'FT10', 'FC6', 'FC2', 'F8']\n",
      "    Rejecting  epoch based on EEG : ['Fz', 'FC1', 'C3', 'T7', 'CP1', 'Pz', 'P3', 'P7', 'Oz', 'P8', 'CP2', 'Cz', 'FT10', 'FC6', 'FC2', 'F8']\n",
      "    Rejecting  epoch based on EEG : ['Fz', 'FC1', 'C3', 'T7', 'CP1', 'Pz', 'P3', 'P7', 'P4', 'CP2', 'Cz', 'FT10', 'F8']\n",
      "    Rejecting  epoch based on EEG : ['Fz', 'F3', 'F7', 'FC1', 'C3', 'T7', 'CP1', 'Pz', 'P3', 'P7', 'O1', 'Oz', 'O2', 'P4', 'P8', 'CP6', 'CP2', 'Cz', 'C4', 'FT10', 'FC6', 'FC2', 'F8']\n",
      "    Rejecting  epoch based on EEG : ['FT10', 'FC6']\n",
      "    Rejecting  epoch based on EEG : ['FT10']\n",
      "    Rejecting  epoch based on EEG : ['Fz', 'F3', 'F7', 'FC1', 'C3', 'T7', 'CP1', 'Pz', 'P3', 'P7', 'Oz', 'O2', 'P4', 'P8', 'CP6', 'CP2', 'Cz', 'C4', 'T8', 'FT10', 'FC6', 'FC2', 'F4', 'F8']\n",
      "    Rejecting  epoch based on EEG : ['FC1', 'T7', 'O2', 'FT10', 'F8']\n",
      "    Rejecting  epoch based on EEG : ['Oz', 'F8']\n",
      "    Rejecting  epoch based on EEG : ['F8']\n",
      "    Rejecting  epoch based on EEG : ['Fz', 'F3', 'F7', 'FC1', 'C3', 'CP1', 'Pz', 'P3', 'P7', 'O1', 'Oz', 'O2', 'P4', 'P8', 'CP6', 'CP2', 'Cz', 'C4', 'FT10', 'FC6', 'FC2', 'F4', 'F8']\n",
      "    Rejecting  epoch based on EEG : ['Fz', 'FC1', 'C3', 'T7', 'CP1', 'Pz', 'P3', 'P7', 'Oz', 'P4', 'CP2', 'Cz', 'FT10', 'F8']\n",
      "    Rejecting  epoch based on EEG : ['Fz', 'FC1', 'C3', 'T7', 'CP1', 'Pz', 'P3', 'P7', 'Oz', 'P4', 'CP2', 'Cz', 'C4', 'FT10', 'FC2', 'F8']\n",
      "    Rejecting  epoch based on EEG : ['Fz', 'FC1', 'C3', 'CP1', 'Pz', 'CP2', 'Cz', 'FT10', 'F8']\n",
      "    Rejecting  epoch based on EEG : ['P7']\n",
      "    Rejecting  epoch based on EEG : ['Fz', 'F3', 'F7', 'FC1', 'C3', 'T7', 'CP1', 'Pz', 'P3', 'P7', 'Oz', 'O2', 'P4', 'P8', 'CP6', 'CP2', 'Cz', 'C4', 'FT10', 'FC6', 'FC2', 'F4', 'F8']\n",
      "    Rejecting  epoch based on EEG : ['Fz', 'F3', 'F7', 'FC1', 'C3', 'T7', 'CP1', 'Pz', 'P3', 'P7', 'Oz', 'O2', 'P4', 'P8', 'CP6', 'CP2', 'Cz', 'C4', 'FT10', 'FC6', 'FC2', 'F4', 'F8']\n",
      "    Rejecting  epoch based on EEG : ['P7']\n",
      "    Rejecting  epoch based on EEG : ['Fz', 'F7', 'FC1', 'C3', 'T7', 'CP1', 'P7', 'Oz', 'CP2', 'Cz', 'FT10', 'FC2', 'F8']\n",
      "    Rejecting  epoch based on EEG : ['Fz', 'FC1', 'C3', 'T7', 'CP1', 'P3', 'P7', 'Oz', 'O2', 'CP2', 'Cz', 'FT10', 'FC2', 'F8']\n",
      "    Rejecting  epoch based on EEG : ['Fz', 'FC1', 'FT10']\n",
      "    Rejecting  epoch based on EEG : ['Fz', 'FC1', 'T7', 'CP1', 'Pz', 'P7', 'Oz', 'P4', 'P8', 'CP2', 'Cz', 'FT10', 'F8']\n",
      "    Rejecting  epoch based on EEG : ['C4', 'FC6', 'F4', 'F8']\n",
      "    Rejecting  epoch based on EEG : ['Fz', 'F3', 'FC1', 'C3', 'T7', 'CP1', 'Pz', 'P3', 'P7', 'Oz', 'O2', 'P4', 'P8', 'CP6', 'CP2', 'Cz', 'C4', 'FT10', 'FC6', 'FC2', 'F8']\n",
      "    Rejecting  epoch based on EEG : ['Fz', 'F3', 'FC1', 'C3', 'CP1', 'Pz', 'P3', 'P7', 'Oz', 'CP2', 'Cz']\n",
      "    Rejecting  epoch based on EEG : ['Fz']\n",
      "    Rejecting  epoch based on EEG : ['Fz', 'F3', 'FC1', 'C3', 'CP1', 'Pz', 'P3', 'P7', 'Oz', 'O2', 'P4', 'P8', 'CP2', 'Cz', 'C4', 'FT10', 'FC2', 'F8']\n",
      "    Rejecting  epoch based on EEG : ['Fz', 'FC1', 'C3', 'T7', 'CP1', 'Pz', 'P3', 'P7', 'Oz', 'O2', 'P4', 'P8', 'CP2', 'Cz', 'FT10', 'FC2', 'F8']\n",
      "    Rejecting  epoch based on EEG : ['Fz', 'FC1', 'C3', 'CP1', 'Pz', 'P3', 'P7', 'Oz', 'CP2', 'Cz', 'FC6', 'F8']\n",
      "    Rejecting  epoch based on EEG : ['Fz', 'FC1', 'C3', 'CP1', 'Pz', 'P3', 'P7', 'Oz', 'CP2', 'Cz', 'FT10', 'FC6', 'F8']\n",
      "    Rejecting  epoch based on EEG : ['Fz', 'F3', 'F7', 'FC1', 'C3', 'T7', 'CP1', 'Pz', 'P3', 'P7', 'Oz', 'O2', 'P4', 'P8', 'CP6', 'CP2', 'Cz', 'C4', 'FT10', 'FC6', 'FC2', 'F8']\n",
      "    Rejecting  epoch based on EEG : ['Fz', 'F3', 'F7', 'FC1', 'C3', 'T7', 'CP1', 'Pz', 'P3', 'P7', 'Oz', 'O2', 'P4', 'P8', 'CP6', 'CP2', 'Cz', 'C4', 'FT10', 'FC6', 'FC2', 'F8']\n",
      "    Rejecting  epoch based on EEG : ['Fz', 'F7', 'FC1', 'C3', 'T7', 'CP1', 'Pz', 'P3', 'P7', 'Oz', 'O2', 'P4', 'P8', 'CP2', 'Cz', 'FT10', 'FC2', 'F8']\n",
      "    Rejecting  epoch based on EEG : ['Oz']\n",
      "    Rejecting  epoch based on EEG : ['Fz', 'FC1', 'CP1', 'P3', 'P7', 'Oz', 'Cz']\n",
      "    Rejecting  epoch based on EEG : ['Oz']\n",
      "    Rejecting  epoch based on EEG : ['C3', 'T7']\n",
      "    Rejecting  epoch based on EEG : ['C3', 'T7']\n",
      "    Rejecting  epoch based on EEG : ['C3']\n",
      "    Rejecting  epoch based on EEG : ['C3']\n",
      "    Rejecting  epoch based on EEG : ['Fz', 'FC1', 'T7', 'CP1', 'P7', 'Oz', 'CP2', 'Cz', 'FT10', 'F8']\n",
      "    Rejecting  epoch based on EEG : ['Fz', 'FC1', 'T7', 'CP1', 'P7', 'Oz', 'CP2', 'Cz', 'FT10', 'F8']\n",
      "    Rejecting  epoch based on EEG : ['Fz', 'F3', 'FC1', 'C3', 'T7', 'CP1', 'Pz', 'P3', 'P7', 'Oz', 'O2', 'P4', 'P8', 'CP6', 'CP2', 'Cz', 'C4', 'FT10', 'FC2', 'F8']\n",
      "    Rejecting  epoch based on EEG : ['Oz']\n",
      "    Rejecting  epoch based on EEG : ['Oz']\n",
      "    Rejecting  epoch based on EEG : ['F3', 'F7', 'FC5', 'FC1', 'C3', 'T7', 'CP6', 'C4', 'FC6', 'FC2', 'F4', 'F8']\n",
      "    Rejecting  epoch based on EEG : ['Oz']\n",
      "    Rejecting  epoch based on EEG : ['Oz']\n",
      "    Rejecting  epoch based on EEG : ['Oz']\n",
      "    Rejecting  epoch based on EEG : ['Oz']\n",
      "    Rejecting  epoch based on EEG : ['Fz', 'T7', 'P7', 'Oz']\n",
      "    Rejecting  epoch based on EEG : ['Oz']\n",
      "    Rejecting  epoch based on EEG : ['Fz', 'FC1', 'T7', 'CP1', 'Pz', 'P7', 'Oz', 'CP2', 'Cz', 'FT10']\n",
      "    Rejecting  epoch based on EEG : ['Fz', 'FC1', 'T7', 'CP1', 'Pz', 'P7', 'Oz', 'CP2', 'Cz', 'FT10']\n",
      "    Rejecting  epoch based on EEG : ['T7', 'P7', 'Oz', 'F8']\n",
      "    Rejecting  epoch based on EEG : ['P7', 'Oz', 'F8']\n",
      "    Rejecting  epoch based on EEG : ['P7', 'Oz', 'FT10', 'F8']\n",
      "    Rejecting  epoch based on EEG : ['P7', 'Oz', 'FT10', 'F8']\n",
      "    Rejecting  epoch based on EEG : ['F3', 'F7', 'FC5', 'C3', 'T7', 'CP6', 'C4', 'T8', 'FT10', 'FC6', 'FC2', 'F4', 'F8']\n",
      "    Rejecting  epoch based on EEG : ['Fz', 'FC1', 'C3', 'T7', 'CP1', 'Pz', 'P3', 'P7', 'Oz', 'CP2', 'Cz', 'FT10', 'F8']\n",
      "    Rejecting  epoch based on EEG : ['Fz', 'FC1', 'T7', 'CP1', 'Pz', 'P3', 'P7', 'Oz', 'CP2', 'Cz', 'FT10', 'F8']\n",
      "    Rejecting  epoch based on EEG : ['T7', 'P7']\n",
      "    Rejecting  epoch based on EEG : ['T7', 'P7']\n",
      "    Rejecting  epoch based on EEG : ['Fz', 'P7']\n",
      "    Rejecting  epoch based on EEG : ['Fz']\n",
      "    Rejecting  epoch based on EEG : ['P7', 'Oz']\n",
      "    Rejecting  epoch based on EEG : ['Fz', 'FC1', 'CP1', 'Pz', 'P3', 'P7', 'Oz', 'CP2', 'Cz']\n",
      "    Rejecting  epoch based on EEG : ['P7']\n",
      "    Rejecting  epoch based on EEG : ['FC1', 'P7']\n",
      "    Rejecting  epoch based on EEG : ['FC1', 'P7', 'Oz']\n",
      "    Rejecting  epoch based on EEG : ['P7', 'Oz']\n",
      "    Rejecting  epoch based on EEG : ['P7', 'Oz']\n",
      "    Rejecting  epoch based on EEG : ['P7', 'Oz']\n",
      "    Rejecting  epoch based on EEG : ['P7', 'Oz']\n",
      "    Rejecting  epoch based on EEG : ['Fz', 'FC1', 'P7', 'Cz']\n",
      "    Rejecting  epoch based on EEG : ['Fz', 'FC1', 'P7', 'Cz']\n",
      "    Rejecting  epoch based on EEG : ['Pz', 'P7', 'Oz']\n",
      "    Rejecting  epoch based on EEG : ['Pz', 'P7', 'Oz']\n",
      "    Rejecting  epoch based on EEG : ['Fz', 'F3', 'F7', 'FC5', 'FC1', 'C3', 'T7', 'CP5', 'CP1', 'P7', 'Oz', 'O2', 'P8', 'CP6', 'CP2', 'Cz', 'C4', 'T8', 'FT10', 'FC6', 'FC2', 'F4', 'F8']\n",
      "    Rejecting  epoch based on EEG : ['F3', 'F7', 'FC5', 'FC1', 'C3', 'T7', 'CP5', 'CP6', 'C4', 'T8', 'FT10', 'FC6', 'FC2', 'F4', 'F8']\n",
      "    Rejecting  epoch based on EEG : ['FT10']\n",
      "    Rejecting  epoch based on EEG : ['Fz', 'FC1', 'T7', 'CP1', 'Pz', 'P3', 'P7', 'Oz', 'P4', 'CP2', 'Cz', 'F8']\n",
      "    Rejecting  epoch based on EEG : ['Fz', 'FC1', 'T7', 'CP1', 'Pz', 'P3', 'P7', 'Oz', 'P4', 'CP2', 'Cz', 'F8']\n",
      "    Rejecting  epoch based on EEG : ['Fz', 'FC1', 'T7', 'CP1', 'Pz', 'P3', 'P7', 'Oz', 'O2', 'P4', 'CP2', 'Cz', 'FT10', 'FC2', 'F8']\n",
      "    Rejecting  epoch based on EEG : ['Fz', 'FC1', 'T7', 'CP1', 'Pz', 'P3', 'P7', 'Oz', 'O2', 'P4', 'CP2', 'Cz', 'FT10', 'FC2', 'F8']\n",
      "    Rejecting  epoch based on EEG : ['Fz', 'FC1', 'T7', 'CP1', 'Pz', 'P3', 'P7', 'Oz', 'O2', 'P4', 'CP2', 'Cz', 'FT10', 'FC2', 'F8']\n",
      "    Rejecting  epoch based on EEG : ['Fz', 'FC1', 'T7', 'CP1', 'Pz', 'P3', 'P7', 'Oz', 'O2', 'CP2', 'Cz', 'FT10', 'F8']\n",
      "    Rejecting  epoch based on EEG : ['P7', 'Oz']\n",
      "    Rejecting  epoch based on EEG : ['Fz', 'FC1', 'T7', 'CP1', 'Pz', 'P3', 'P7', 'Oz', 'O2', 'CP2', 'Cz', 'FT10', 'F8']\n",
      "    Rejecting  epoch based on EEG : ['Fz', 'FC1', 'T7', 'CP1', 'Pz', 'P3', 'P7', 'Oz', 'O2', 'CP2', 'Cz', 'FT10', 'F8']\n",
      "    Rejecting  epoch based on EEG : ['FT10']\n",
      "    Rejecting  epoch based on EEG : ['Fz', 'FC1', 'T7', 'CP1', 'Pz', 'P3', 'P7', 'Oz', 'O2', 'P4', 'CP2', 'Cz', 'FT10', 'F8']\n",
      "    Rejecting  epoch based on EEG : ['Fz', 'F3', 'FC5', 'FC1', 'C3', 'T7', 'CP1', 'P3', 'CP2', 'Cz', 'C4', 'FC6', 'FC2', 'F4', 'F8']\n",
      "    Rejecting  epoch based on EEG : ['Fz', 'F3', 'FC5', 'FC1', 'C3', 'T7', 'CP1', 'Pz', 'P3', 'P7', 'CP6', 'CP2', 'Cz', 'C4', 'FT10', 'FC6', 'FC2', 'F4', 'F8']\n",
      "    Rejecting  epoch based on EEG : ['Fz', 'F3', 'FC5', 'FC1', 'C3', 'T7', 'CP1', 'Pz', 'P3', 'P7', 'Oz', 'CP6', 'CP2', 'Cz', 'FT10', 'FC2', 'F8']\n",
      "    Rejecting  epoch based on EEG : ['C3', 'T7', 'FC6', 'F4', 'F8']\n",
      "    Rejecting  epoch based on EEG : ['T7']\n",
      "    Rejecting  epoch based on EEG : ['P7']\n",
      "    Rejecting  epoch based on EEG : ['P7']\n",
      "    Rejecting  epoch based on EEG : ['Fz', 'CP1', 'Pz', 'P3', 'P8', 'CP2', 'Cz', 'FT10', 'FC6']\n",
      "    Rejecting  epoch based on EEG : ['Fz', 'F3', 'FC1', 'C3', 'CP1', 'Pz', 'P3', 'Oz', 'O2', 'P4', 'P8', 'CP2', 'Cz', 'FT10', 'FC6', 'FC2', 'F8']\n",
      "    Rejecting  epoch based on EEG : ['Fz', 'FC1', 'C3', 'T7', 'CP1', 'Pz', 'P3', 'P7', 'Oz', 'P4', 'P8', 'CP2', 'Cz', 'FT10', 'FC2', 'F8']\n",
      "    Rejecting  epoch based on EEG : ['Fz', 'FC1', 'C3', 'T7', 'CP1', 'Pz', 'P3', 'P7', 'Oz', 'P4', 'P8', 'CP2', 'Cz', 'FT10', 'FC2', 'F8']\n",
      "    Rejecting  epoch based on EEG : ['T7', 'P7']\n",
      "    Rejecting  epoch based on EEG : ['T7', 'P7']\n",
      "    Rejecting  epoch based on EEG : ['Fz', 'FC1', 'C3', 'T7', 'CP1', 'Pz', 'P3', 'P7', 'O1', 'Oz', 'O2', 'P4', 'P8', 'CP6', 'CP2', 'Cz', 'C4', 'FT10', 'FC6', 'FC2', 'F8']\n",
      "    Rejecting  epoch based on EEG : ['Fz', 'FC1', 'C3', 'T7', 'CP1', 'Pz', 'P3', 'P7', 'O1', 'Oz', 'O2', 'P4', 'P8', 'CP6', 'CP2', 'Cz', 'C4', 'FT10', 'FC6', 'FC2', 'F8']\n",
      "    Rejecting  epoch based on EEG : ['Oz', 'O2']\n",
      "    Rejecting  epoch based on EEG : ['Oz', 'O2']\n",
      "    Rejecting  epoch based on EEG : ['Fz', 'FC1', 'C3', 'T7', 'CP1', 'Pz', 'P3', 'P7', 'Oz', 'O2', 'P4', 'P8', 'CP2', 'Cz', 'FT10', 'FC2', 'F8']\n",
      "    Rejecting  epoch based on EEG : ['Fz', 'FC1', 'C3', 'T7', 'CP1', 'Pz', 'P3', 'P7', 'Oz', 'O2', 'P4', 'P8', 'CP2', 'Cz', 'FT10', 'FC2', 'F8']\n",
      "    Rejecting  epoch based on EEG : ['Fz', 'FC1', 'C3', 'CP1', 'Pz', 'P3', 'P7', 'Oz', 'P4', 'CP2', 'Cz', 'FT10', 'FC2']\n",
      "    Rejecting  epoch based on EEG : ['Fz', 'F7', 'FC1', 'C3', 'T7', 'CP1', 'Pz', 'P3', 'P7', 'Oz', 'O2', 'P4', 'P8', 'CP6', 'CP2', 'Cz', 'FT10', 'FC2', 'F8']\n",
      "    Rejecting  epoch based on EEG : ['Fz', 'F7', 'FC1', 'C3', 'T7', 'CP1', 'Pz', 'P3', 'P7', 'Oz', 'O2', 'P4', 'P8', 'CP6', 'CP2', 'Cz', 'FT10', 'FC2', 'F8']\n",
      "    Rejecting  epoch based on EEG : ['Fz', 'FC1', 'C3', 'T7', 'CP1', 'Pz', 'P3', 'P7', 'Oz', 'P4', 'P8', 'CP2', 'Cz', 'FT10', 'FC2', 'F8']\n",
      "    Rejecting  epoch based on EEG : ['Fz', 'FC1', 'C3', 'T7', 'CP1', 'Pz', 'P3', 'P7', 'Oz', 'P4', 'P8', 'CP2', 'Cz', 'FT10', 'FC2', 'F8']\n",
      "    Rejecting  epoch based on EEG : ['Fz', 'FC1', 'C3', 'T7', 'CP1', 'Pz', 'P3', 'P7', 'Oz', 'O2', 'P4', 'P8', 'CP2', 'Cz', 'FT10', 'FC2', 'F8']\n",
      "    Rejecting  epoch based on EEG : ['Fz', 'F7', 'FC1', 'C3', 'T7', 'CP1', 'Pz', 'P3', 'P7', 'Oz', 'O2', 'P4', 'P8', 'CP2', 'Cz', 'FT10', 'FC2', 'F8']\n",
      "    Rejecting  epoch based on EEG : ['Fz', 'FC1', 'CP1', 'P3', 'P7', 'CP2', 'Cz']\n",
      "    Rejecting  epoch based on EEG : ['P7']\n",
      "    Rejecting  epoch based on EEG : ['P7', 'FC6', 'F4', 'F8']\n",
      "    Rejecting  epoch based on EEG : ['P7', 'P4', 'CP6', 'CP2', 'C4', 'T8', 'FT10', 'FC6', 'FC2', 'F4', 'F8']\n",
      "    Rejecting  epoch based on EEG : ['Fz', 'P4', 'P8', 'CP6', 'CP2', 'C4', 'T8', 'FT10', 'FC6', 'FC2', 'F4', 'F8']\n",
      "    Rejecting  epoch based on EEG : ['Fz', 'P4', 'P8', 'CP6', 'CP2', 'C4', 'T8', 'FT10', 'FC6', 'FC2', 'F4', 'F8']\n",
      "    Rejecting  epoch based on EEG : ['CP6', 'C4', 'T8', 'FT10', 'FC6', 'FC2', 'F4', 'F8']\n",
      "    Rejecting  epoch based on EEG : ['Fz', 'FC1', 'T7', 'CP1', 'Pz', 'P3', 'P7', 'Oz', 'O2', 'P4', 'CP2', 'Cz', 'FT10', 'F8']\n",
      "    Rejecting  epoch based on EEG : ['Fz', 'FC1', 'T7', 'CP1', 'Pz', 'P3', 'P7', 'Oz', 'O2', 'P4', 'CP2', 'Cz', 'FT10', 'F8']\n",
      "    Rejecting  epoch based on EEG : ['Fz', 'FC1', 'T7', 'CP1', 'Pz', 'P3', 'P7', 'Oz', 'O2', 'CP2', 'Cz', 'FT10', 'F8']\n",
      "    Rejecting  epoch based on EEG : ['Fz', 'FC1', 'T7', 'CP1', 'Pz', 'P3', 'P7', 'Oz', 'O2', 'CP2', 'Cz', 'FT10', 'F8']\n",
      "    Rejecting  epoch based on EEG : ['Fz', 'FC1', 'T7', 'CP1', 'Pz', 'P7', 'Oz', 'O2', 'P4', 'P8', 'CP2', 'Cz', 'FT10', 'FC2', 'F8']\n",
      "    Rejecting  epoch based on EEG : ['Fz', 'FC1', 'T7', 'CP1', 'Pz', 'P7', 'Oz', 'O2', 'P4', 'P8', 'CP2', 'Cz', 'FT10', 'FC2', 'F8']\n",
      "    Rejecting  epoch based on EEG : ['Fz', 'F7', 'FC1', 'C3', 'T7', 'CP1', 'Pz', 'P3', 'P7', 'Oz', 'O2', 'P4', 'P8', 'CP6', 'CP2', 'Cz', 'FT10', 'FC6', 'FC2', 'F8']\n",
      "    Rejecting  epoch based on EEG : ['F7', 'T7', 'P7', 'Oz', 'O2', 'P8', 'FT10', 'FC6', 'F8']\n",
      "    Rejecting  epoch based on EEG : ['Oz']\n",
      "    Rejecting  epoch based on EEG : ['Fz']\n",
      "    Rejecting  epoch based on EEG : ['Fz', 'FC1', 'CP1', 'Pz', 'P7', 'Oz', 'CP2', 'Cz', 'FC2']\n",
      "    Rejecting  epoch based on EEG : ['Fz', 'FC1', 'CP1', 'Pz', 'P7', 'Oz', 'CP2', 'Cz', 'FC2']\n",
      "    Rejecting  epoch based on EEG : ['Fz', 'F3', 'FC1', 'C3', 'T7', 'CP1', 'Pz', 'P3', 'P7', 'Oz', 'O2', 'P4', 'P8', 'CP2', 'Cz', 'C4', 'FT10', 'FC2', 'F8']\n",
      "    Rejecting  epoch based on EEG : ['Fz', 'F3', 'FC1', 'C3', 'T7', 'CP1', 'Pz', 'P3', 'P7', 'Oz', 'O2', 'P4', 'P8', 'CP2', 'Cz', 'C4', 'FT10', 'FC2', 'F8']\n",
      "    Rejecting  epoch based on EEG : ['Fz', 'CP1', 'Pz', 'P3', 'P7', 'CP2', 'FT10', 'F8']\n",
      "    Rejecting  epoch based on EEG : ['Fz', 'F3', 'FC1', 'C3', 'CP1', 'Pz', 'P3', 'P7', 'O1', 'O2', 'P4', 'P8', 'CP2', 'Cz', 'C4', 'FT10', 'FC2', 'F8']\n",
      "    Rejecting  epoch based on EEG : ['Fz', 'F3', 'FC1', 'C3', 'T7', 'CP1', 'Pz', 'P3', 'P7', 'O1', 'Oz', 'O2', 'P4', 'P8', 'CP2', 'Cz', 'C4', 'FT10', 'FC2', 'F8']\n",
      "    Rejecting  epoch based on EEG : ['Fz', 'FC1', 'T7', 'CP1', 'Pz', 'P3', 'P7', 'CP2', 'Cz']\n",
      "    Rejecting  epoch based on EEG : ['P7', 'Cz']\n",
      "    Rejecting  epoch based on EEG : ['Fz', 'F3', 'FC1', 'C3', 'T7', 'CP1', 'Pz', 'P3', 'P7', 'Oz', 'O2', 'P4', 'P8', 'CP2', 'Cz', 'C4', 'FT10', 'FC2', 'F8']\n",
      "    Rejecting  epoch based on EEG : ['Fz', 'F3', 'F7', 'FC1', 'C3', 'T7', 'CP1', 'Pz', 'P3', 'P7', 'Oz', 'O2', 'P4', 'P8', 'CP2', 'Cz', 'C4', 'FT10', 'FC2', 'F8']\n",
      "    Rejecting  epoch based on EEG : ['Fz', 'F7', 'FC1', 'C3', 'T7', 'CP1', 'Pz', 'P3', 'P7', 'CP2', 'Cz', 'FT10', 'F8']\n",
      "    Rejecting  epoch based on EEG : ['Fz']\n",
      "    Rejecting  epoch based on EEG : ['Fz']\n",
      "    Rejecting  epoch based on EEG : ['Fz', 'F7', 'FC1', 'C3', 'CP1', 'Oz', 'CP2', 'Cz', 'F8']\n",
      "    Rejecting  epoch based on EEG : ['FC1', 'C3', 'T7', 'CP1', 'Pz', 'P3', 'P7', 'Oz', 'C4', 'FT10', 'FC6', 'F8']\n",
      "    Rejecting  epoch based on EEG : ['Fz', 'FC1', 'C3', 'T7', 'CP1', 'Pz', 'P3', 'P7', 'Oz', 'O2', 'P8', 'CP2', 'Cz', 'C4', 'FT10', 'FC2', 'F8']\n",
      "    Rejecting  epoch based on EEG : ['Fz', 'FC1', 'C3', 'T7', 'CP1', 'Pz', 'P3', 'P7', 'Oz', 'O2', 'P8', 'CP2', 'Cz', 'C4', 'FT10', 'FC2', 'F8']\n",
      "    Rejecting  epoch based on EEG : ['Fz', 'FC1', 'C3', 'CP1', 'Pz', 'P3', 'P8', 'CP2', 'Cz', 'FT10', 'F8']\n",
      "    Rejecting  epoch based on EEG : ['Fz', 'FC1', 'C3', 'CP1', 'Pz', 'P3', 'P7', 'P8', 'CP2', 'Cz', 'FT10', 'F8']\n",
      "    Rejecting  epoch based on EEG : ['Fz', 'FC1', 'C3', 'CP1', 'Pz', 'P3', 'P7', 'CP2', 'Cz', 'FT10', 'FC2', 'F8']\n",
      "    Rejecting  epoch based on EEG : ['FC1', 'C3', 'CP1', 'FT10', 'F8']\n",
      "    Rejecting  epoch based on EEG : ['Fz', 'F7', 'FC1', 'C3', 'T7', 'CP1', 'Pz', 'P3', 'P7', 'O1', 'Oz', 'O2', 'P4', 'P8', 'CP6', 'CP2', 'Cz', 'C4', 'FT10', 'FC6', 'FC2', 'F8']\n",
      "    Rejecting  epoch based on EEG : ['Fz', 'F7', 'FC1', 'C3', 'T7', 'CP1', 'Pz', 'P3', 'P7', 'O1', 'Oz', 'O2', 'P4', 'P8', 'CP6', 'CP2', 'Cz', 'C4', 'FT10', 'FC6', 'FC2', 'F8']\n",
      "    Rejecting  epoch based on EEG : ['Fz', 'F3', 'FC1', 'C3', 'CP1', 'Pz', 'P3', 'P7', 'Oz', 'CP2', 'Cz', 'C4', 'FT10', 'FC2', 'F8']\n",
      "    Rejecting  epoch based on EEG : ['FC1', 'C3', 'CP1', 'P3', 'Cz', 'FT10', 'F8']\n",
      "    Rejecting  epoch based on EEG : ['Fz', 'F3', 'F7', 'FC1', 'C3', 'T7', 'CP1', 'Pz', 'P3', 'P7', 'O1', 'Oz', 'O2', 'P4', 'P8', 'CP6', 'CP2', 'Cz', 'C4', 'FT10', 'FC6', 'FC2', 'F8']\n",
      "    Rejecting  epoch based on EEG : ['Fz', 'FC1', 'C3', 'T7', 'CP1', 'Pz', 'P3', 'P7', 'Oz', 'CP2', 'Cz', 'FT10']\n",
      "    Rejecting  epoch based on EEG : ['FC1', 'C3', 'CP1', 'Pz', 'P3', 'P7', 'Oz', 'CP2', 'Cz', 'FT10']\n",
      "    Rejecting  epoch based on EEG : ['Fz', 'F3', 'FC1', 'C3', 'T7', 'CP1', 'Pz', 'P3', 'P7', 'O1', 'Oz', 'O2', 'P4', 'P8', 'CP6', 'CP2', 'Cz', 'C4', 'T8', 'FT10', 'FC6', 'FC2', 'F8']\n",
      "    Rejecting  epoch based on EEG : ['Fz', 'F3', 'FC1', 'C3', 'T7', 'CP1', 'Pz', 'P3', 'P7', 'O1', 'Oz', 'O2', 'P4', 'P8', 'CP6', 'CP2', 'Cz', 'C4', 'T8', 'FT10', 'FC6', 'FC2', 'F8']\n",
      "    Rejecting  epoch based on EEG : ['FT10', 'F8']\n",
      "    Rejecting  epoch based on EEG : ['Fz', 'F3', 'F7', 'FC1', 'C3', 'T7', 'CP1', 'Pz', 'P3', 'P7', 'O1', 'Oz', 'O2', 'P4', 'P8', 'CP6', 'CP2', 'Cz', 'C4', 'FT10', 'FC6', 'FC2', 'F8']\n",
      "    Rejecting  epoch based on EEG : ['Fz', 'F7', 'FC1', 'C3', 'T7', 'CP1', 'Pz', 'P3', 'P7', 'O1', 'Oz', 'O2', 'P4', 'P8', 'CP2', 'Cz', 'C4', 'FT10', 'FC6', 'FC2', 'F8']\n",
      "    Rejecting  epoch based on EEG : ['Fz', 'F3', 'FC1', 'C3', 'T7', 'CP1', 'Pz', 'P3', 'P7', 'O1', 'Oz', 'O2', 'P4', 'P8', 'CP6', 'CP2', 'Cz', 'C4', 'FT10', 'FC6', 'FC2', 'F8']\n",
      "    Rejecting  epoch based on EEG : ['Fz', 'F3', 'FC1', 'C3', 'T7', 'CP1', 'Pz', 'P3', 'P7', 'O1', 'Oz', 'O2', 'P4', 'P8', 'CP6', 'CP2', 'Cz', 'C4', 'FT10', 'FC6', 'FC2', 'F8']\n",
      "    Rejecting  epoch based on EEG : ['Fz', 'F3', 'FC1', 'C3', 'T7', 'CP1', 'Pz', 'P3', 'O1', 'Oz', 'O2', 'P4', 'P8', 'CP2', 'Cz', 'C4', 'FT10', 'FC2', 'F8']\n",
      "    Rejecting  epoch based on EEG : ['Fz', 'FC1', 'C3', 'CP1', 'Pz', 'P3', 'P4', 'CP2', 'Cz', 'FT10', 'FC2']\n",
      "    Rejecting  epoch based on EEG : ['Fz', 'FC1', 'C3', 'CP1', 'Pz', 'P3', 'Oz', 'P4', 'P8', 'CP2', 'Cz', 'FT10', 'FC2', 'F8']\n",
      "    Rejecting  epoch based on EEG : ['FC1', 'C3', 'CP1', 'P3', 'Cz', 'FT10', 'F8']\n",
      "    Rejecting  epoch based on EEG : ['FC1', 'P3', 'FT10']\n",
      "    Rejecting  epoch based on EEG : ['Fz', 'FC1', 'C3', 'CP1', 'P3', 'P7', 'Oz', 'O2', 'CP2', 'Cz', 'FT10', 'F8']\n",
      "    Rejecting  epoch based on EEG : ['Fz', 'FC1', 'C3', 'CP1', 'Pz', 'P3', 'P7', 'Oz', 'O2', 'P4', 'P8', 'CP6', 'CP2', 'Cz', 'C4', 'FT10', 'FC2', 'F8']\n",
      "    Rejecting  epoch based on EEG : ['Fz', 'FC1', 'C3', 'CP1', 'Pz', 'P3', 'P7', 'Oz', 'O2', 'P4', 'P8', 'CP2', 'Cz', 'C4', 'FT10', 'FC2', 'F8']\n",
      "    Rejecting  epoch based on EEG : ['Fz', 'FC1', 'C3', 'CP1', 'Pz', 'P3', 'P7', 'Oz', 'P4', 'P8', 'CP2', 'Cz', 'FT10', 'FC2', 'F8']\n",
      "    Rejecting  epoch based on EEG : ['Fz', 'FC1', 'C3', 'CP1', 'Pz', 'P3', 'Oz', 'CP2', 'Cz']\n",
      "    Rejecting  epoch based on EEG : ['Fz', 'FC1', 'C3', 'CP1', 'Pz', 'P3', 'CP2', 'Cz', 'FT10']\n",
      "    Rejecting  epoch based on EEG : ['FC1', 'CP1', 'P3', 'Cz', 'F8']\n",
      "    Rejecting  epoch based on EEG : ['Fz', 'F3', 'FC1', 'C3', 'CP1', 'Pz', 'P3', 'P4', 'CP6', 'CP2', 'Cz', 'C4', 'FC6', 'FC2', 'F8']\n",
      "    Rejecting  epoch based on EEG : ['Fz', 'F3', 'FC1', 'C3', 'CP1', 'Pz', 'P3', 'Oz', 'P4', 'CP6', 'CP2', 'Cz', 'C4', 'FT10', 'FC6', 'FC2', 'F4', 'F8']\n",
      "    Rejecting  epoch based on EEG : ['Fz', 'F3', 'F7', 'FC1', 'C3', 'CP1', 'Pz', 'P3', 'Oz', 'P4', 'P8', 'CP6', 'CP2', 'Cz', 'C4', 'FT10', 'FC6', 'FC2', 'F4', 'F8']\n",
      "    Rejecting  epoch based on EEG : ['Fz', 'F3', 'F7', 'FC1', 'C3', 'T7', 'CP1', 'P3', 'CP6', 'CP2', 'Cz', 'C4', 'FT10', 'FC6', 'FC2', 'F4', 'F8']\n",
      "    Rejecting  epoch based on EEG : ['Fz', 'F3', 'FC1', 'C3', 'CP1', 'Pz', 'P3', 'Oz', 'P4', 'CP6', 'CP2', 'Cz', 'C4', 'FT10', 'FC6', 'FC2', 'F8']\n",
      "    Rejecting  epoch based on EEG : ['Fz', 'FC1', 'C3', 'CP1', 'Pz', 'P3', 'Oz', 'P4', 'P8', 'CP2', 'Cz', 'FT10', 'FC2', 'F8']\n",
      "    Rejecting  epoch based on EEG : ['Fz', 'FC1', 'C3', 'CP1', 'Pz', 'P3', 'Oz', 'P4', 'P8', 'CP2', 'Cz', 'C4', 'FT10', 'FC2', 'F8']\n",
      "    Rejecting  epoch based on EEG : ['CP1', 'Oz', 'CP2', 'Cz', 'FT10']\n",
      "    Rejecting  epoch based on EEG : ['Fz', 'FC1', 'C3', 'CP1', 'Pz', 'P3', 'P7', 'Oz', 'P4', 'CP2', 'Cz', 'FT10', 'FC2', 'F8']\n",
      "    Rejecting  epoch based on EEG : ['Fz', 'FC1', 'C3', 'CP1', 'Pz', 'P3', 'P7', 'Oz', 'P4', 'CP2', 'Cz', 'FT10', 'FC2', 'F8']\n",
      "    Rejecting  epoch based on EEG : ['Fz', 'FC1', 'C3', 'CP1', 'Pz', 'P3', 'P7', 'Oz', 'O2', 'P8', 'CP2', 'Cz', 'FT10', 'FC2', 'F8']\n",
      "    Rejecting  epoch based on EEG : ['Fz', 'FC1', 'C3', 'CP1', 'Pz', 'P3', 'P7', 'Oz', 'O2', 'P4', 'P8', 'CP2', 'Cz', 'FT10', 'FC2', 'F8']\n",
      "    Rejecting  epoch based on EEG : ['Oz', 'FT10']\n",
      "    Rejecting  epoch based on EEG : ['F7', 'T7', 'CP5', 'P7', 'Oz', 'CP6']\n",
      "    Rejecting  epoch based on EEG : ['Fz', 'F3', 'F7', 'FC5', 'FC1', 'C3', 'T7', 'CP5', 'CP1', 'P3', 'P7', 'Oz', 'O2', 'P4', 'CP6', 'CP2', 'Cz', 'C4', 'T8', 'FT10', 'FC6', 'FC2', 'F4', 'F8']\n",
      "    Rejecting  epoch based on EEG : ['F3', 'F7', 'FC5', 'FC1', 'C3', 'T7', 'CP5', 'CP6', 'C4', 'FT10', 'FC6', 'F4', 'F8']\n",
      "    Rejecting  epoch based on EEG : ['F3', 'F7', 'FC5', 'FC1', 'C3', 'T7', 'CP5', 'CP6', 'C4', 'FT10', 'FC6', 'F4', 'F8']\n",
      "488 bad epochs dropped\n"
     ]
    },
    {
     "name": "stderr",
     "output_type": "stream",
     "text": [
      "[Parallel(n_jobs=1)]: Done  17 tasks      | elapsed:    1.6s\n",
      "[Parallel(n_jobs=1)]: Done  17 tasks      | elapsed:    0.3s\n",
      "[Parallel(n_jobs=1)]: Done  17 tasks      | elapsed:    1.2s\n",
      "[Parallel(n_jobs=1)]: Done  17 tasks      | elapsed:    0.2s\n"
     ]
    },
    {
     "name": "stdout",
     "output_type": "stream",
     "text": [
      "Opening raw data file /Users/chaohan/Library/CloudStorage/OneDrive-UniversityofToronto/Projects/Yas accent/data_preprocessed/3_ica/Yas_227_corr_prep_ica.fif...\n",
      "    Range : 0 ... 861024 =      0.000 ...  3444.096 secs\n",
      "Ready.\n",
      "Reading 0 ... 861024  =      0.000 ...  3444.096 secs...\n"
     ]
    },
    {
     "name": "stderr",
     "output_type": "stream",
     "text": [
      "/var/folders/j8/8nyf6njj5nzfjcv6s23y3nn40000gn/T/ipykernel_37645/644758328.py:15: RuntimeWarning: This filename (/Users/chaohan/Library/CloudStorage/OneDrive-UniversityofToronto/Projects/Yas accent/data_preprocessed/3_ica/Yas_227_corr_prep_ica.fif) does not conform to MNE naming conventions. All raw files should end with raw.fif, raw_sss.fif, raw_tsss.fif, _meg.fif, _eeg.fif, _ieeg.fif, raw.fif.gz, raw_sss.fif.gz, raw_tsss.fif.gz, _meg.fif.gz, _eeg.fif.gz or _ieeg.fif.gz\n",
      "  raw = mne.io.read_raw_fif(input_dir + file, preload = True)\n"
     ]
    },
    {
     "name": "stdout",
     "output_type": "stream",
     "text": [
      "EEG channel type selected for re-referencing\n",
      "Applying a custom ('EEG',) reference.\n",
      "Not setting metadata\n",
      "1651 matching events found\n",
      "No baseline correction applied\n",
      "0 projection items activated\n",
      "Using data from preloaded Raw for 1651 events and 751 original time points ...\n",
      "    Rejecting  epoch based on EEG : ['F3', 'FT9', 'FC1', 'C3', 'C4', 'T8', 'FT10', 'FC2', 'F4']\n",
      "    Rejecting  epoch based on EEG : ['F3', 'FT9', 'FC1', 'C3', 'CP5', 'CP6', 'CP2', 'C4', 'T8', 'FT10', 'FC6', 'FC2', 'F4']\n",
      "    Rejecting  epoch based on EEG : ['F3', 'F7', 'FT9', 'FC1', 'C3', 'CP5', 'CP6', 'CP2', 'C4', 'T8', 'FT10', 'FC6', 'FC2', 'F4']\n",
      "    Rejecting  epoch based on EEG : ['F3', 'FT9', 'FC1', 'C3', 'CP5', 'CP6', 'CP2', 'C4', 'T8', 'FT10', 'FC6', 'FC2', 'F4']\n",
      "    Rejecting  epoch based on EEG : ['FT9', 'C3', 'CP5']\n",
      "    Rejecting  epoch based on EEG : ['F3', 'FT9', 'C3', 'CP5']\n",
      "    Rejecting  epoch based on EEG : ['C3']\n",
      "    Rejecting  epoch based on EEG : ['C3', 'C4', 'T8', 'FT10', 'FC2']\n",
      "    Rejecting  epoch based on EEG : ['C3']\n",
      "    Rejecting  epoch based on EEG : ['FT9', 'C3', 'C4']\n",
      "    Rejecting  epoch based on EEG : ['FT9', 'C3', 'C4', 'T8', 'FC2', 'F4']\n",
      "    Rejecting  epoch based on EEG : ['C4', 'T8', 'FC2']\n",
      "    Rejecting  epoch based on EEG : ['C3']\n",
      "    Rejecting  epoch based on EEG : ['F3', 'F7', 'FT9', 'FC1', 'C3', 'CP5', 'P4', 'CP6', 'CP2', 'C4', 'T8', 'FT10', 'FC6', 'FC2', 'F4', 'F8']\n",
      "    Rejecting  epoch based on EEG : ['C3']\n",
      "    Rejecting  epoch based on EEG : ['C3']\n",
      "    Rejecting  epoch based on EEG : ['F7', 'FT9', 'C3', 'CP6', 'CP2', 'C4', 'T8', 'FT10', 'FC6', 'FC2', 'F4']\n",
      "    Rejecting  epoch based on EEG : ['F7', 'FT9', 'C3', 'CP6', 'CP2', 'C4', 'T8', 'FT10', 'FC6', 'FC2', 'F4']\n",
      "    Rejecting  epoch based on EEG : ['F3', 'FT9', 'FC1', 'C3', 'CP5', 'CP1', 'C4', 'T8', 'FT10', 'FC2', 'F4']\n",
      "    Rejecting  epoch based on EEG : ['F3', 'FT9', 'FC1', 'C3', 'CP5', 'CP1', 'C4', 'T8', 'FT10', 'FC2', 'F4']\n",
      "    Rejecting  epoch based on EEG : ['C3', 'CP6', 'C4', 'T8', 'FT10', 'FC2', 'F4']\n",
      "    Rejecting  epoch based on EEG : ['FT9', 'C3', 'CP6', 'CP2', 'C4', 'T8', 'FT10', 'FC2', 'F4']\n",
      "    Rejecting  epoch based on EEG : ['Fz']\n",
      "    Rejecting  epoch based on EEG : ['Fz']\n",
      "    Rejecting  epoch based on EEG : ['F3', 'FT9', 'C3', 'CP6', 'CP2', 'C4', 'T8', 'FT10', 'FC6', 'FC2', 'F4']\n",
      "    Rejecting  epoch based on EEG : ['F3', 'FT9', 'C3', 'CP6', 'CP2', 'C4', 'T8', 'FT10', 'FC6', 'FC2', 'F4']\n",
      "    Rejecting  epoch based on EEG : ['C3', 'CP6', 'C4', 'T8', 'FT10', 'FC6', 'FC2', 'F4']\n",
      "    Rejecting  epoch based on EEG : ['C3']\n",
      "    Rejecting  epoch based on EEG : ['C3']\n",
      "    Rejecting  epoch based on EEG : ['F3', 'FT9', 'C3', 'CP5']\n",
      "    Rejecting  epoch based on EEG : ['F3', 'FT9', 'C3', 'CP5', 'C4']\n",
      "    Rejecting  epoch based on EEG : ['C4']\n",
      "    Rejecting  epoch based on EEG : ['Fz', 'F3', 'FC1', 'FC2', 'F4']\n",
      "    Rejecting  epoch based on EEG : ['Fz', 'F3', 'FC1', 'FC2', 'F4']\n",
      "    Rejecting  epoch based on EEG : ['Fz']\n",
      "    Rejecting  epoch based on EEG : ['Fz']\n",
      "    Rejecting  epoch based on EEG : ['Fz', 'F3', 'FC1', 'FC2', 'F4']\n",
      "    Rejecting  epoch based on EEG : ['Fz', 'F3', 'FC1', 'FC2', 'F4']\n",
      "    Rejecting  epoch based on EEG : ['Fz', 'F3', 'FC1', 'FC2', 'F4']\n",
      "    Rejecting  epoch based on EEG : ['FT9', 'FC1', 'C3', 'CP5']\n",
      "    Rejecting  epoch based on EEG : ['FT9', 'FC1', 'C3', 'CP5', 'C4', 'T8']\n",
      "    Rejecting  epoch based on EEG : ['C3']\n",
      "    Rejecting  epoch based on EEG : ['C3']\n",
      "    Rejecting  epoch based on EEG : ['C3']\n",
      "    Rejecting  epoch based on EEG : ['CP6', 'CP2', 'C4', 'T8', 'FT10', 'FC6', 'FC2', 'F4']\n",
      "    Rejecting  epoch based on EEG : ['CP6', 'C4', 'T8', 'FT10', 'FC2', 'F4']\n",
      "    Rejecting  epoch based on EEG : ['C4']\n",
      "    Rejecting  epoch based on EEG : ['F3', 'FT9', 'FC1', 'C3', 'CP5', 'CP6', 'CP2', 'C4', 'T8', 'FT10', 'FC6', 'FC2', 'F4']\n",
      "    Rejecting  epoch based on EEG : ['F3', 'FT9', 'FC1', 'C3', 'CP5', 'CP6', 'CP2', 'C4', 'T8', 'FT10', 'FC6', 'FC2', 'F4']\n",
      "    Rejecting  epoch based on EEG : ['Fz', 'F3', 'F7', 'FT9', 'FC1', 'C3', 'CP5', 'P4', 'CP6', 'CP2', 'C4', 'T8', 'FT10', 'FC6', 'FC2', 'F4', 'F8']\n",
      "    Rejecting  epoch based on EEG : ['FT9', 'C3', 'CP5', 'C4']\n",
      "    Rejecting  epoch based on EEG : ['FT9', 'C3', 'CP5', 'C4']\n",
      "    Rejecting  epoch based on EEG : ['F3', 'FT9', 'FC1', 'C3', 'CP5', 'P4', 'CP6', 'CP2', 'C4', 'T8', 'FT10', 'FC6', 'FC2', 'F4', 'F8']\n",
      "    Rejecting  epoch based on EEG : ['F3', 'FT9', 'FC1', 'C3', 'P4', 'CP6', 'CP2', 'C4', 'T8', 'FT10', 'FC6', 'FC2', 'F4', 'F8']\n",
      "    Rejecting  epoch based on EEG : ['C3']\n",
      "    Rejecting  epoch based on EEG : ['FT9', 'C3', 'CP6', 'CP2', 'C4', 'T8', 'FT10', 'FC6', 'FC2', 'F4']\n",
      "    Rejecting  epoch based on EEG : ['FT9', 'C3', 'CP6', 'CP2', 'C4', 'T8', 'FT10', 'FC6', 'FC2', 'F4']\n",
      "    Rejecting  epoch based on EEG : ['F3', 'FC1', 'C3', 'CP5']\n",
      "    Rejecting  epoch based on EEG : ['F3', 'FC1', 'C3', 'CP5']\n",
      "    Rejecting  epoch based on EEG : ['F3', 'FT9', 'FC1', 'C3', 'CP5', 'CP1', 'C4']\n",
      "    Rejecting  epoch based on EEG : ['F3', 'FT9', 'FC1', 'C3', 'CP5', 'CP1', 'CP6', 'CP2', 'C4', 'T8', 'FT10', 'FC6', 'FC2', 'F4']\n",
      "    Rejecting  epoch based on EEG : ['FT9', 'C3', 'CP6', 'CP2', 'C4', 'T8', 'FT10', 'FC6', 'FC2', 'F4']\n",
      "    Rejecting  epoch based on EEG : ['C4', 'T8', 'FC2', 'F4']\n",
      "    Rejecting  epoch based on EEG : ['C4', 'T8', 'FC2', 'F4']\n",
      "    Rejecting  epoch based on EEG : ['F3', 'F7', 'FT9', 'C3', 'P4', 'P8', 'CP6', 'CP2', 'Cz', 'C4', 'T8', 'FT10', 'FC6', 'FC2', 'F4', 'F8']\n",
      "    Rejecting  epoch based on EEG : ['Fz', 'F3', 'F7', 'FT9', 'C3', 'P4', 'P8', 'CP6', 'CP2', 'Cz', 'C4', 'T8', 'FT10', 'FC6', 'FC2', 'F4', 'F8']\n",
      "    Rejecting  epoch based on EEG : ['C4']\n",
      "    Rejecting  epoch based on EEG : ['C3', 'C4']\n",
      "    Rejecting  epoch based on EEG : ['C4']\n",
      "    Rejecting  epoch based on EEG : ['C3']\n",
      "    Rejecting  epoch based on EEG : ['C4']\n",
      "    Rejecting  epoch based on EEG : ['C4']\n",
      "    Rejecting  epoch based on EEG : ['C3', 'C4', 'T8', 'FT10', 'FC2', 'F4']\n",
      "    Rejecting  epoch based on EEG : ['C3', 'CP6', 'CP2', 'C4', 'T8', 'FT10', 'FC2', 'F4']\n",
      "    Rejecting  epoch based on EEG : ['C3', 'CP6', 'CP2', 'C4', 'T8', 'FT10', 'FC2', 'F4']\n",
      "    Rejecting  epoch based on EEG : ['F3', 'FT9', 'FC1', 'C3', 'CP5', 'C4', 'T8']\n",
      "    Rejecting  epoch based on EEG : ['F3', 'FT9', 'FC1', 'C3', 'CP5']\n",
      "    Rejecting  epoch based on EEG : ['FT9', 'C3', 'CP6', 'CP2', 'C4', 'T8', 'FT10', 'FC6', 'FC2', 'F4']\n",
      "    Rejecting  epoch based on EEG : ['FT9', 'C3', 'CP6', 'CP2', 'C4', 'T8', 'FT10', 'FC6', 'FC2', 'F4']\n",
      "    Rejecting  epoch based on EEG : ['C4']\n",
      "    Rejecting  epoch based on EEG : ['F3', 'FT9', 'FC1', 'C3', 'CP5']\n",
      "    Rejecting  epoch based on EEG : ['F3', 'FT9', 'FC1', 'C3', 'CP5']\n",
      "    Rejecting  epoch based on EEG : ['C3', 'C4', 'T8', 'FT10', 'FC2', 'F4']\n",
      "    Rejecting  epoch based on EEG : ['C3', 'C4', 'T8', 'FT10', 'FC2', 'F4']\n",
      "    Rejecting  epoch based on EEG : ['C4']\n",
      "    Rejecting  epoch based on EEG : ['FT9', 'C3', 'C4', 'T8']\n",
      "    Rejecting  epoch based on EEG : ['C3']\n",
      "    Rejecting  epoch based on EEG : ['C4']\n",
      "    Rejecting  epoch based on EEG : ['C4']\n",
      "    Rejecting  epoch based on EEG : ['C4']\n",
      "    Rejecting  epoch based on EEG : ['C4']\n",
      "    Rejecting  epoch based on EEG : ['C4']\n",
      "    Rejecting  epoch based on EEG : ['C4']\n",
      "    Rejecting  epoch based on EEG : ['Fz', 'F3', 'FC1', 'FC2', 'F4']\n",
      "    Rejecting  epoch based on EEG : ['Fz', 'F3', 'FC1', 'FC2', 'F4']\n",
      "    Rejecting  epoch based on EEG : ['Fz', 'F3', 'FC1', 'FC2', 'F4']\n",
      "    Rejecting  epoch based on EEG : ['Fz', 'F3', 'FC1', 'FC2', 'F4']\n",
      "    Rejecting  epoch based on EEG : ['Fz', 'F3']\n",
      "98 bad epochs dropped\n"
     ]
    },
    {
     "name": "stderr",
     "output_type": "stream",
     "text": [
      "[Parallel(n_jobs=1)]: Done  17 tasks      | elapsed:    1.8s\n",
      "[Parallel(n_jobs=1)]: Done  17 tasks      | elapsed:    0.4s\n",
      "[Parallel(n_jobs=1)]: Done  17 tasks      | elapsed:    1.7s\n",
      "[Parallel(n_jobs=1)]: Done  17 tasks      | elapsed:    0.4s\n"
     ]
    },
    {
     "name": "stdout",
     "output_type": "stream",
     "text": [
      "Opening raw data file /Users/chaohan/Library/CloudStorage/OneDrive-UniversityofToronto/Projects/Yas accent/data_preprocessed/3_ica/Yas_170_corr_prep_ica.fif...\n",
      "    Range : 1780 ... 903799 =      7.120 ...  3615.196 secs\n",
      "Ready.\n",
      "Reading 0 ... 902019  =      0.000 ...  3608.076 secs...\n"
     ]
    },
    {
     "name": "stderr",
     "output_type": "stream",
     "text": [
      "/var/folders/j8/8nyf6njj5nzfjcv6s23y3nn40000gn/T/ipykernel_37645/644758328.py:15: RuntimeWarning: This filename (/Users/chaohan/Library/CloudStorage/OneDrive-UniversityofToronto/Projects/Yas accent/data_preprocessed/3_ica/Yas_170_corr_prep_ica.fif) does not conform to MNE naming conventions. All raw files should end with raw.fif, raw_sss.fif, raw_tsss.fif, _meg.fif, _eeg.fif, _ieeg.fif, raw.fif.gz, raw_sss.fif.gz, raw_tsss.fif.gz, _meg.fif.gz, _eeg.fif.gz or _ieeg.fif.gz\n",
      "  raw = mne.io.read_raw_fif(input_dir + file, preload = True)\n"
     ]
    },
    {
     "name": "stdout",
     "output_type": "stream",
     "text": [
      "EEG channel type selected for re-referencing\n",
      "Applying a custom ('EEG',) reference.\n",
      "Not setting metadata\n",
      "1719 matching events found\n",
      "No baseline correction applied\n",
      "0 projection items activated\n",
      "Using data from preloaded Raw for 1719 events and 751 original time points ...\n",
      "0 bad epochs dropped\n"
     ]
    },
    {
     "name": "stderr",
     "output_type": "stream",
     "text": [
      "[Parallel(n_jobs=1)]: Done  17 tasks      | elapsed:    2.2s\n",
      "[Parallel(n_jobs=1)]: Done  17 tasks      | elapsed:    0.4s\n",
      "[Parallel(n_jobs=1)]: Done  17 tasks      | elapsed:    2.0s\n",
      "[Parallel(n_jobs=1)]: Done  17 tasks      | elapsed:    0.4s\n"
     ]
    },
    {
     "name": "stdout",
     "output_type": "stream",
     "text": [
      "Opening raw data file /Users/chaohan/Library/CloudStorage/OneDrive-UniversityofToronto/Projects/Yas accent/data_preprocessed/3_ica/Yas_188_corr_prep_ica.fif...\n",
      "    Range : 2022 ... 853979 =      8.088 ...  3415.916 secs\n",
      "Ready.\n",
      "Reading 0 ... 851957  =      0.000 ...  3407.828 secs...\n"
     ]
    },
    {
     "name": "stderr",
     "output_type": "stream",
     "text": [
      "/var/folders/j8/8nyf6njj5nzfjcv6s23y3nn40000gn/T/ipykernel_37645/644758328.py:15: RuntimeWarning: This filename (/Users/chaohan/Library/CloudStorage/OneDrive-UniversityofToronto/Projects/Yas accent/data_preprocessed/3_ica/Yas_188_corr_prep_ica.fif) does not conform to MNE naming conventions. All raw files should end with raw.fif, raw_sss.fif, raw_tsss.fif, _meg.fif, _eeg.fif, _ieeg.fif, raw.fif.gz, raw_sss.fif.gz, raw_tsss.fif.gz, _meg.fif.gz, _eeg.fif.gz or _ieeg.fif.gz\n",
      "  raw = mne.io.read_raw_fif(input_dir + file, preload = True)\n"
     ]
    },
    {
     "name": "stdout",
     "output_type": "stream",
     "text": [
      "EEG channel type selected for re-referencing\n",
      "Applying a custom ('EEG',) reference.\n",
      "Not setting metadata\n",
      "1693 matching events found\n",
      "No baseline correction applied\n",
      "0 projection items activated\n",
      "Using data from preloaded Raw for 1693 events and 751 original time points ...\n",
      "    Rejecting  epoch based on EEG : ['C3']\n",
      "    Rejecting  epoch based on EEG : ['C3']\n",
      "    Rejecting  epoch based on EEG : ['O1', 'Oz']\n",
      "    Rejecting  epoch based on EEG : ['O1']\n",
      "    Rejecting  epoch based on EEG : ['O1']\n",
      "5 bad epochs dropped\n"
     ]
    },
    {
     "name": "stderr",
     "output_type": "stream",
     "text": [
      "[Parallel(n_jobs=1)]: Done  17 tasks      | elapsed:    1.8s\n",
      "[Parallel(n_jobs=1)]: Done  17 tasks      | elapsed:    0.4s\n",
      "[Parallel(n_jobs=1)]: Done  17 tasks      | elapsed:    1.9s\n",
      "[Parallel(n_jobs=1)]: Done  17 tasks      | elapsed:    0.4s\n"
     ]
    },
    {
     "name": "stdout",
     "output_type": "stream",
     "text": [
      "Opening raw data file /Users/chaohan/Library/CloudStorage/OneDrive-UniversityofToronto/Projects/Yas accent/data_preprocessed/3_ica/Yas_241_corr_prep_ica.fif...\n",
      "    Range : 0 ... 866199 =      0.000 ...  3464.796 secs\n",
      "Ready.\n",
      "Reading 0 ... 866199  =      0.000 ...  3464.796 secs...\n"
     ]
    },
    {
     "name": "stderr",
     "output_type": "stream",
     "text": [
      "/var/folders/j8/8nyf6njj5nzfjcv6s23y3nn40000gn/T/ipykernel_37645/644758328.py:15: RuntimeWarning: This filename (/Users/chaohan/Library/CloudStorage/OneDrive-UniversityofToronto/Projects/Yas accent/data_preprocessed/3_ica/Yas_241_corr_prep_ica.fif) does not conform to MNE naming conventions. All raw files should end with raw.fif, raw_sss.fif, raw_tsss.fif, _meg.fif, _eeg.fif, _ieeg.fif, raw.fif.gz, raw_sss.fif.gz, raw_tsss.fif.gz, _meg.fif.gz, _eeg.fif.gz or _ieeg.fif.gz\n",
      "  raw = mne.io.read_raw_fif(input_dir + file, preload = True)\n"
     ]
    },
    {
     "name": "stdout",
     "output_type": "stream",
     "text": [
      "EEG channel type selected for re-referencing\n",
      "Applying a custom ('EEG',) reference.\n",
      "Not setting metadata\n",
      "1697 matching events found\n",
      "No baseline correction applied\n",
      "0 projection items activated\n",
      "Using data from preloaded Raw for 1697 events and 751 original time points ...\n",
      "0 bad epochs dropped\n"
     ]
    },
    {
     "name": "stderr",
     "output_type": "stream",
     "text": [
      "[Parallel(n_jobs=1)]: Done  17 tasks      | elapsed:    2.1s\n",
      "[Parallel(n_jobs=1)]: Done  17 tasks      | elapsed:    0.4s\n",
      "[Parallel(n_jobs=1)]: Done  17 tasks      | elapsed:    2.1s\n",
      "[Parallel(n_jobs=1)]: Done  17 tasks      | elapsed:    0.4s\n"
     ]
    },
    {
     "name": "stdout",
     "output_type": "stream",
     "text": [
      "Opening raw data file /Users/chaohan/Library/CloudStorage/OneDrive-UniversityofToronto/Projects/Yas accent/data_preprocessed/3_ica/Yas_116_corr_prep_ica.fif...\n",
      "    Range : 4634 ... 864047 =     18.536 ...  3456.188 secs\n",
      "Ready.\n",
      "Reading 0 ... 859413  =      0.000 ...  3437.652 secs...\n"
     ]
    },
    {
     "name": "stderr",
     "output_type": "stream",
     "text": [
      "/var/folders/j8/8nyf6njj5nzfjcv6s23y3nn40000gn/T/ipykernel_37645/644758328.py:15: RuntimeWarning: This filename (/Users/chaohan/Library/CloudStorage/OneDrive-UniversityofToronto/Projects/Yas accent/data_preprocessed/3_ica/Yas_116_corr_prep_ica.fif) does not conform to MNE naming conventions. All raw files should end with raw.fif, raw_sss.fif, raw_tsss.fif, _meg.fif, _eeg.fif, _ieeg.fif, raw.fif.gz, raw_sss.fif.gz, raw_tsss.fif.gz, _meg.fif.gz, _eeg.fif.gz or _ieeg.fif.gz\n",
      "  raw = mne.io.read_raw_fif(input_dir + file, preload = True)\n"
     ]
    },
    {
     "name": "stdout",
     "output_type": "stream",
     "text": [
      "EEG channel type selected for re-referencing\n",
      "Applying a custom ('EEG',) reference.\n",
      "Not setting metadata\n",
      "1608 matching events found\n",
      "No baseline correction applied\n",
      "0 projection items activated\n",
      "Using data from preloaded Raw for 1608 events and 751 original time points ...\n",
      "    Rejecting  epoch based on EEG : ['FC6']\n",
      "    Rejecting  epoch based on EEG : ['CP5']\n",
      "    Rejecting  epoch based on EEG : ['CP5']\n",
      "    Rejecting  epoch based on EEG : ['P8']\n",
      "    Rejecting  epoch based on EEG : ['P8']\n",
      "    Rejecting  epoch based on EEG : ['FC6']\n",
      "    Rejecting  epoch based on EEG : ['FC6']\n",
      "    Rejecting  epoch based on EEG : ['FC6', 'F4', 'F8']\n",
      "    Rejecting  epoch based on EEG : ['FC6', 'F4', 'F8']\n",
      "    Rejecting  epoch based on EEG : ['FC6', 'F8']\n",
      "    Rejecting  epoch based on EEG : ['P8']\n",
      "    Rejecting  epoch based on EEG : ['P8']\n",
      "    Rejecting  epoch based on EEG : ['P8']\n",
      "    Rejecting  epoch based on EEG : ['P8']\n",
      "    Rejecting  epoch based on EEG : ['P8', 'C4', 'FC6']\n",
      "    Rejecting  epoch based on EEG : ['P8', 'C4', 'FC6']\n",
      "    Rejecting  epoch based on EEG : ['P8']\n",
      "    Rejecting  epoch based on EEG : ['CP5', 'P7']\n",
      "    Rejecting  epoch based on EEG : ['CP5', 'P7', 'P8', 'C4', 'FC6']\n",
      "    Rejecting  epoch based on EEG : ['P8', 'C4', 'FC6']\n",
      "    Rejecting  epoch based on EEG : ['P8', 'C4', 'FC6']\n",
      "    Rejecting  epoch based on EEG : ['P8', 'C4', 'FC6']\n",
      "    Rejecting  epoch based on EEG : ['CP5']\n",
      "    Rejecting  epoch based on EEG : ['CP5']\n",
      "    Rejecting  epoch based on EEG : ['CP5']\n",
      "    Rejecting  epoch based on EEG : ['C4']\n",
      "    Rejecting  epoch based on EEG : ['P8', 'T8', 'FC6']\n",
      "    Rejecting  epoch based on EEG : ['P8', 'T8', 'FC6']\n",
      "    Rejecting  epoch based on EEG : ['P8']\n",
      "29 bad epochs dropped\n"
     ]
    },
    {
     "name": "stderr",
     "output_type": "stream",
     "text": [
      "[Parallel(n_jobs=1)]: Done  17 tasks      | elapsed:    2.0s\n",
      "[Parallel(n_jobs=1)]: Done  17 tasks      | elapsed:    0.4s\n",
      "[Parallel(n_jobs=1)]: Done  17 tasks      | elapsed:    1.7s\n",
      "[Parallel(n_jobs=1)]: Done  17 tasks      | elapsed:    0.4s\n"
     ]
    },
    {
     "name": "stdout",
     "output_type": "stream",
     "text": [
      "Opening raw data file /Users/chaohan/Library/CloudStorage/OneDrive-UniversityofToronto/Projects/Yas accent/data_preprocessed/3_ica/Yas_158_corr_prep_ica.fif...\n",
      "    Range : 1121 ... 1023744 =      4.484 ...  4094.976 secs\n",
      "Ready.\n"
     ]
    },
    {
     "name": "stderr",
     "output_type": "stream",
     "text": [
      "/var/folders/j8/8nyf6njj5nzfjcv6s23y3nn40000gn/T/ipykernel_37645/644758328.py:15: RuntimeWarning: This filename (/Users/chaohan/Library/CloudStorage/OneDrive-UniversityofToronto/Projects/Yas accent/data_preprocessed/3_ica/Yas_158_corr_prep_ica.fif) does not conform to MNE naming conventions. All raw files should end with raw.fif, raw_sss.fif, raw_tsss.fif, _meg.fif, _eeg.fif, _ieeg.fif, raw.fif.gz, raw_sss.fif.gz, raw_tsss.fif.gz, _meg.fif.gz, _eeg.fif.gz or _ieeg.fif.gz\n",
      "  raw = mne.io.read_raw_fif(input_dir + file, preload = True)\n"
     ]
    },
    {
     "name": "stdout",
     "output_type": "stream",
     "text": [
      "Reading 0 ... 1022623  =      0.000 ...  4090.492 secs...\n",
      "EEG channel type selected for re-referencing\n",
      "Applying a custom ('EEG',) reference.\n",
      "Not setting metadata\n",
      "1689 matching events found\n",
      "No baseline correction applied\n",
      "0 projection items activated\n",
      "Using data from preloaded Raw for 1689 events and 751 original time points ...\n",
      "    Rejecting  epoch based on EEG : ['F3', 'F7', 'FC5', 'FC1', 'C3', 'T7', 'CP5', 'CP6', 'F8']\n",
      "    Rejecting  epoch based on EEG : ['F3', 'F7', 'FC5', 'FC1', 'C3', 'T7', 'CP5', 'CP6', 'F8']\n",
      "    Rejecting  epoch based on EEG : ['O1', 'FT10']\n",
      "    Rejecting  epoch based on EEG : ['O1']\n",
      "    Rejecting  epoch based on EEG : ['Fz', 'F3', 'F7', 'FC5', 'FC1', 'C3', 'T7', 'CP5', 'CP1', 'CP6', 'Cz', 'C4', 'F8']\n",
      "    Rejecting  epoch based on EEG : ['Fz', 'F3', 'F7', 'FC5', 'FC1', 'C3', 'T7', 'CP5', 'CP1', 'CP6', 'Cz', 'C4', 'F8']\n",
      "    Rejecting  epoch based on EEG : ['FC5', 'C3', 'T7', 'CP5']\n",
      "    Rejecting  epoch based on EEG : ['FT10']\n",
      "    Rejecting  epoch based on EEG : ['FT10']\n",
      "    Rejecting  epoch based on EEG : ['F3', 'F7', 'FC5', 'FC1', 'C3', 'T7', 'CP5', 'F8']\n",
      "    Rejecting  epoch based on EEG : ['F3', 'F7', 'FC5', 'FC1', 'C3', 'T7', 'CP5', 'F8']\n",
      "    Rejecting  epoch based on EEG : ['F7', 'FC5', 'FC1', 'C3', 'T7', 'CP5']\n",
      "    Rejecting  epoch based on EEG : ['FC5']\n",
      "    Rejecting  epoch based on EEG : ['FC5', 'F8']\n",
      "    Rejecting  epoch based on EEG : ['CP6', 'F8']\n",
      "    Rejecting  epoch based on EEG : ['CP6', 'F8']\n",
      "    Rejecting  epoch based on EEG : ['CP6', 'F8']\n",
      "    Rejecting  epoch based on EEG : ['F3', 'F7', 'FT9', 'FC5', 'FC1', 'C3', 'T7', 'CP5', 'CP1', 'P3', 'O2', 'P8', 'FT10']\n",
      "    Rejecting  epoch based on EEG : ['F3', 'F7', 'FT9', 'FC5', 'FC1', 'C3', 'T7', 'CP5', 'CP1', 'P3', 'O2', 'P8', 'FT10', 'F8']\n",
      "    Rejecting  epoch based on EEG : ['FC5', 'C3', 'T7', 'F8']\n",
      "    Rejecting  epoch based on EEG : ['FC5', 'T7', 'CP6']\n",
      "    Rejecting  epoch based on EEG : ['CP6', 'F8']\n",
      "    Rejecting  epoch based on EEG : ['F3', 'F7', 'FC5', 'FC1', 'C3', 'T7', 'CP5', 'CP6', 'FT10', 'F4', 'F8']\n",
      "    Rejecting  epoch based on EEG : ['CP1', 'Pz', 'P3', 'P7', 'O1', 'Oz', 'O2', 'P4', 'P8', 'CP6', 'FT10']\n",
      "    Rejecting  epoch based on EEG : ['CP1', 'Pz', 'P3', 'P7', 'O1', 'Oz', 'O2', 'P4', 'P8', 'CP6', 'FT10']\n",
      "    Rejecting  epoch based on EEG : ['F3', 'F7', 'FC5', 'FC1', 'C3', 'T7', 'CP5']\n",
      "    Rejecting  epoch based on EEG : ['F3', 'F7', 'FC5', 'FC1', 'C3', 'T7', 'CP5']\n",
      "    Rejecting  epoch based on EEG : ['F3', 'F7', 'FC5', 'FC1', 'C3', 'T7', 'CP5', 'CP6', 'F8']\n",
      "    Rejecting  epoch based on EEG : ['FC5', 'CP6', 'F8']\n",
      "    Rejecting  epoch based on EEG : ['CP6']\n",
      "    Rejecting  epoch based on EEG : ['FC2']\n",
      "    Rejecting  epoch based on EEG : ['FC2']\n",
      "    Rejecting  epoch based on EEG : ['Fz', 'F3', 'F7', 'FT9', 'FC5', 'C3', 'T7', 'CP5', 'O2', 'P4', 'P8', 'CP6', 'C4', 'T8', 'FT10', 'F4', 'F8']\n",
      "    Rejecting  epoch based on EEG : ['F3', 'F7', 'FC5', 'FC1', 'C3', 'T7', 'CP5', 'CP6', 'FT10', 'F8']\n",
      "    Rejecting  epoch based on EEG : ['FC5', 'C3', 'T7', 'F8']\n",
      "    Rejecting  epoch based on EEG : ['FC5', 'C3', 'T7', 'F8']\n",
      "    Rejecting  epoch based on EEG : ['FC5']\n",
      "    Rejecting  epoch based on EEG : ['FC5']\n",
      "    Rejecting  epoch based on EEG : ['F3', 'FC5', 'FC1', 'C3', 'T7', 'CP6', 'F8']\n",
      "    Rejecting  epoch based on EEG : ['F3', 'F7', 'FC5', 'FC1', 'C3', 'T7', 'CP6', 'F8']\n",
      "    Rejecting  epoch based on EEG : ['F3', 'F7', 'FC5', 'FC1', 'C3', 'T7', 'CP6']\n",
      "    Rejecting  epoch based on EEG : ['FC5', 'C3']\n",
      "    Rejecting  epoch based on EEG : ['FC5', 'C3']\n",
      "    Rejecting  epoch based on EEG : ['F7', 'FT9', 'O1', 'O2', 'P4', 'P8', 'CP6', 'T8', 'FT10']\n",
      "    Rejecting  epoch based on EEG : ['F7', 'FT9', 'FC5', 'P4', 'P8', 'CP6', 'FT10', 'F8']\n",
      "    Rejecting  epoch based on EEG : ['FC5']\n",
      "    Rejecting  epoch based on EEG : ['FC5']\n",
      "    Rejecting  epoch based on EEG : ['FC5']\n",
      "    Rejecting  epoch based on EEG : ['F3', 'F7', 'FC5', 'FC1', 'C3', 'T7', 'CP5', 'CP6', 'F8']\n",
      "    Rejecting  epoch based on EEG : ['F3', 'F7', 'FC5', 'FC1', 'C3', 'T7', 'CP5', 'CP6', 'F4', 'F8']\n",
      "    Rejecting  epoch based on EEG : ['F3', 'F7', 'FC5', 'FC1', 'C3', 'T7', 'CP5', 'F8']\n",
      "    Rejecting  epoch based on EEG : ['O2', 'FT10']\n",
      "    Rejecting  epoch based on EEG : ['FT9', 'CP5', 'O2', 'FT10']\n",
      "    Rejecting  epoch based on EEG : ['F3', 'F7', 'FT9', 'FC5', 'FC1', 'C3', 'CP6', 'F8']\n",
      "    Rejecting  epoch based on EEG : ['F7', 'FC5', 'C3', 'T7', 'CP6', 'F4', 'F8']\n",
      "    Rejecting  epoch based on EEG : ['CP6', 'F8']\n",
      "    Rejecting  epoch based on EEG : ['CP6', 'F4', 'F8']\n",
      "    Rejecting  epoch based on EEG : ['CP6', 'F8']\n",
      "    Rejecting  epoch based on EEG : ['F3', 'F7', 'FC5', 'FC1', 'C3', 'T7', 'CP5', 'CP6', 'F8']\n",
      "    Rejecting  epoch based on EEG : ['F3', 'F7', 'FC5', 'FC1', 'C3', 'T7', 'CP5', 'CP6', 'F8']\n",
      "    Rejecting  epoch based on EEG : ['F3', 'FC5', 'C3', 'T7', 'CP5']\n",
      "    Rejecting  epoch based on EEG : ['F7', 'FC5', 'C3', 'T7', 'CP5', 'F8']\n",
      "    Rejecting  epoch based on EEG : ['F3', 'F7', 'FC5', 'FC1', 'C3', 'T7', 'CP5', 'F8']\n",
      "    Rejecting  epoch based on EEG : ['F3', 'F7', 'FC5', 'FC1', 'C3', 'T7', 'CP5']\n",
      "    Rejecting  epoch based on EEG : ['FC5', 'C3']\n",
      "    Rejecting  epoch based on EEG : ['FC5', 'C3']\n",
      "    Rejecting  epoch based on EEG : ['FC5', 'C3']\n",
      "    Rejecting  epoch based on EEG : ['F7', 'FT9', 'O2', 'T8', 'FT10', 'F8']\n",
      "    Rejecting  epoch based on EEG : ['F3', 'F7', 'FT9', 'FC5', 'FC1', 'C3', 'T7', 'CP5', 'CP1', 'Pz', 'P3', 'O1', 'Oz', 'O2', 'P4', 'P8', 'CP6', 'CP2', 'Cz', 'C4', 'T8', 'FT10', 'FC6', 'FC2', 'F8']\n",
      "    Rejecting  epoch based on EEG : ['F3', 'FC5', 'C3', 'CP5', 'CP6']\n",
      "    Rejecting  epoch based on EEG : ['F8']\n",
      "    Rejecting  epoch based on EEG : ['F8']\n",
      "    Rejecting  epoch based on EEG : ['FC5', 'C3', 'T7', 'CP5']\n",
      "    Rejecting  epoch based on EEG : ['F3', 'FC5', 'C3', 'T7', 'CP5', 'F8']\n",
      "74 bad epochs dropped\n"
     ]
    },
    {
     "name": "stderr",
     "output_type": "stream",
     "text": [
      "[Parallel(n_jobs=1)]: Done  17 tasks      | elapsed:    2.5s\n",
      "[Parallel(n_jobs=1)]: Done  17 tasks      | elapsed:    0.4s\n",
      "[Parallel(n_jobs=1)]: Done  17 tasks      | elapsed:    2.2s\n",
      "[Parallel(n_jobs=1)]: Done  17 tasks      | elapsed:    0.4s\n"
     ]
    },
    {
     "name": "stdout",
     "output_type": "stream",
     "text": [
      "Opening raw data file /Users/chaohan/Library/CloudStorage/OneDrive-UniversityofToronto/Projects/Yas accent/data_preprocessed/3_ica/Yas_217_corr_prep_ica.fif...\n",
      "    Range : 364 ... 896073 =      1.456 ...  3584.292 secs\n",
      "Ready.\n",
      "Reading 0 ... 895709  =      0.000 ...  3582.836 secs...\n"
     ]
    },
    {
     "name": "stderr",
     "output_type": "stream",
     "text": [
      "/var/folders/j8/8nyf6njj5nzfjcv6s23y3nn40000gn/T/ipykernel_37645/644758328.py:15: RuntimeWarning: This filename (/Users/chaohan/Library/CloudStorage/OneDrive-UniversityofToronto/Projects/Yas accent/data_preprocessed/3_ica/Yas_217_corr_prep_ica.fif) does not conform to MNE naming conventions. All raw files should end with raw.fif, raw_sss.fif, raw_tsss.fif, _meg.fif, _eeg.fif, _ieeg.fif, raw.fif.gz, raw_sss.fif.gz, raw_tsss.fif.gz, _meg.fif.gz, _eeg.fif.gz or _ieeg.fif.gz\n",
      "  raw = mne.io.read_raw_fif(input_dir + file, preload = True)\n"
     ]
    },
    {
     "name": "stdout",
     "output_type": "stream",
     "text": [
      "EEG channel type selected for re-referencing\n",
      "Applying a custom ('EEG',) reference.\n",
      "Not setting metadata\n",
      "1732 matching events found\n",
      "No baseline correction applied\n",
      "0 projection items activated\n",
      "Using data from preloaded Raw for 1732 events and 751 original time points ...\n",
      "    Rejecting  epoch based on EEG : ['P8']\n",
      "    Rejecting  epoch based on EEG : ['P8']\n",
      "    Rejecting  epoch based on EEG : ['P8']\n",
      "    Rejecting  epoch based on EEG : ['P8']\n",
      "    Rejecting  epoch based on EEG : ['C3']\n",
      "    Rejecting  epoch based on EEG : ['C3']\n",
      "    Rejecting  epoch based on EEG : ['C3']\n",
      "    Rejecting  epoch based on EEG : ['P8', 'CP6']\n",
      "    Rejecting  epoch based on EEG : ['F7', 'FT9', 'FC5', 'FC1', 'C3', 'CP6', 'C4', 'F4']\n",
      "    Rejecting  epoch based on EEG : ['F7', 'FT9', 'FC5', 'FC1', 'C3', 'CP6', 'C4', 'F4']\n",
      "    Rejecting  epoch based on EEG : ['FT9', 'FC1', 'C3', 'CP6', 'C4', 'F4']\n",
      "    Rejecting  epoch based on EEG : ['FT9', 'FC1', 'C3']\n",
      "    Rejecting  epoch based on EEG : ['FT9', 'FC1', 'C3']\n",
      "    Rejecting  epoch based on EEG : ['Fz', 'F7', 'FT9', 'FC5', 'FC1', 'C3', 'T7', 'CP5', 'CP1', 'P3', 'CP6', 'Cz', 'C4', 'FT10', 'FC2', 'F4', 'F8']\n",
      "    Rejecting  epoch based on EEG : ['FT9', 'T7', 'P7']\n",
      "    Rejecting  epoch based on EEG : ['C3']\n",
      "    Rejecting  epoch based on EEG : ['CP5']\n",
      "    Rejecting  epoch based on EEG : ['CP5']\n",
      "    Rejecting  epoch based on EEG : ['C3', 'CP5']\n",
      "    Rejecting  epoch based on EEG : ['P8', 'CP6']\n",
      "    Rejecting  epoch based on EEG : ['P8', 'CP6']\n",
      "    Rejecting  epoch based on EEG : ['C3']\n",
      "    Rejecting  epoch based on EEG : ['C3', 'C4', 'F4']\n",
      "    Rejecting  epoch based on EEG : ['C4', 'F4']\n",
      "    Rejecting  epoch based on EEG : ['C3']\n",
      "    Rejecting  epoch based on EEG : ['Fz', 'F7', 'FT9', 'FC5', 'FC1', 'C3', 'T7', 'CP5', 'CP1', 'P3', 'CP6', 'CP2', 'Cz', 'C4', 'FT10', 'FC2', 'F4', 'F8']\n",
      "    Rejecting  epoch based on EEG : ['Fz', 'F7', 'FT9', 'FC5', 'FC1', 'C3', 'T7', 'CP5', 'CP1', 'P3', 'CP6', 'CP2', 'Cz', 'C4', 'FT10', 'FC2', 'F4', 'F8']\n",
      "    Rejecting  epoch based on EEG : ['P8']\n",
      "    Rejecting  epoch based on EEG : ['P8']\n",
      "    Rejecting  epoch based on EEG : ['C3', 'C4', 'F4']\n",
      "    Rejecting  epoch based on EEG : ['C3', 'C4', 'F4']\n",
      "    Rejecting  epoch based on EEG : ['P8', 'CP6']\n",
      "    Rejecting  epoch based on EEG : ['P8', 'CP6']\n",
      "    Rejecting  epoch based on EEG : ['P7']\n",
      "    Rejecting  epoch based on EEG : ['P7']\n",
      "    Rejecting  epoch based on EEG : ['P7']\n",
      "    Rejecting  epoch based on EEG : ['P8', 'CP6']\n",
      "37 bad epochs dropped\n"
     ]
    },
    {
     "name": "stderr",
     "output_type": "stream",
     "text": [
      "[Parallel(n_jobs=1)]: Done  17 tasks      | elapsed:    2.4s\n",
      "[Parallel(n_jobs=1)]: Done  17 tasks      | elapsed:    0.3s\n",
      "[Parallel(n_jobs=1)]: Done  17 tasks      | elapsed:    2.1s\n",
      "[Parallel(n_jobs=1)]: Done  17 tasks      | elapsed:    0.4s\n"
     ]
    },
    {
     "name": "stdout",
     "output_type": "stream",
     "text": [
      "Opening raw data file /Users/chaohan/Library/CloudStorage/OneDrive-UniversityofToronto/Projects/Yas accent/data_preprocessed/3_ica/Yas_259_corr_prep_ica.fif...\n",
      "    Range : 138741 ... 888705 =    554.964 ...  3554.820 secs\n",
      "Ready.\n",
      "Reading 0 ... 749964  =      0.000 ...  2999.856 secs...\n"
     ]
    },
    {
     "name": "stderr",
     "output_type": "stream",
     "text": [
      "/var/folders/j8/8nyf6njj5nzfjcv6s23y3nn40000gn/T/ipykernel_37645/644758328.py:15: RuntimeWarning: This filename (/Users/chaohan/Library/CloudStorage/OneDrive-UniversityofToronto/Projects/Yas accent/data_preprocessed/3_ica/Yas_259_corr_prep_ica.fif) does not conform to MNE naming conventions. All raw files should end with raw.fif, raw_sss.fif, raw_tsss.fif, _meg.fif, _eeg.fif, _ieeg.fif, raw.fif.gz, raw_sss.fif.gz, raw_tsss.fif.gz, _meg.fif.gz, _eeg.fif.gz or _ieeg.fif.gz\n",
      "  raw = mne.io.read_raw_fif(input_dir + file, preload = True)\n"
     ]
    },
    {
     "name": "stdout",
     "output_type": "stream",
     "text": [
      "EEG channel type selected for re-referencing\n",
      "Applying a custom ('EEG',) reference.\n",
      "Not setting metadata\n",
      "1373 matching events found\n",
      "No baseline correction applied\n",
      "0 projection items activated\n",
      "Using data from preloaded Raw for 1373 events and 751 original time points ...\n",
      "    Rejecting  epoch based on EEG : ['CP6']\n",
      "    Rejecting  epoch based on EEG : ['CP6']\n",
      "2 bad epochs dropped\n"
     ]
    },
    {
     "name": "stderr",
     "output_type": "stream",
     "text": [
      "[Parallel(n_jobs=1)]: Done  17 tasks      | elapsed:    0.9s\n",
      "[Parallel(n_jobs=1)]: Done  17 tasks      | elapsed:    0.1s\n",
      "[Parallel(n_jobs=1)]: Done  17 tasks      | elapsed:    2.3s\n",
      "[Parallel(n_jobs=1)]: Done  17 tasks      | elapsed:    0.5s\n"
     ]
    },
    {
     "name": "stdout",
     "output_type": "stream",
     "text": [
      "Opening raw data file /Users/chaohan/Library/CloudStorage/OneDrive-UniversityofToronto/Projects/Yas accent/data_preprocessed/3_ica/Yas_168_corr_prep_ica.fif...\n",
      "    Range : 1468 ... 872747 =      5.872 ...  3490.988 secs\n",
      "Ready.\n"
     ]
    },
    {
     "name": "stderr",
     "output_type": "stream",
     "text": [
      "/var/folders/j8/8nyf6njj5nzfjcv6s23y3nn40000gn/T/ipykernel_37645/644758328.py:15: RuntimeWarning: This filename (/Users/chaohan/Library/CloudStorage/OneDrive-UniversityofToronto/Projects/Yas accent/data_preprocessed/3_ica/Yas_168_corr_prep_ica.fif) does not conform to MNE naming conventions. All raw files should end with raw.fif, raw_sss.fif, raw_tsss.fif, _meg.fif, _eeg.fif, _ieeg.fif, raw.fif.gz, raw_sss.fif.gz, raw_tsss.fif.gz, _meg.fif.gz, _eeg.fif.gz or _ieeg.fif.gz\n",
      "  raw = mne.io.read_raw_fif(input_dir + file, preload = True)\n"
     ]
    },
    {
     "name": "stdout",
     "output_type": "stream",
     "text": [
      "Reading 0 ... 871279  =      0.000 ...  3485.116 secs...\n",
      "EEG channel type selected for re-referencing\n",
      "Applying a custom ('EEG',) reference.\n",
      "Not setting metadata\n",
      "1659 matching events found\n",
      "No baseline correction applied\n",
      "0 projection items activated\n",
      "Using data from preloaded Raw for 1659 events and 751 original time points ...\n",
      "    Rejecting  epoch based on EEG : ['CP6']\n",
      "    Rejecting  epoch based on EEG : ['CP6']\n",
      "    Rejecting  epoch based on EEG : ['CP6']\n",
      "    Rejecting  epoch based on EEG : ['CP6']\n",
      "    Rejecting  epoch based on EEG : ['CP6']\n",
      "    Rejecting  epoch based on EEG : ['CP6']\n",
      "    Rejecting  epoch based on EEG : ['P4', 'CP6']\n",
      "    Rejecting  epoch based on EEG : ['CP6']\n",
      "    Rejecting  epoch based on EEG : ['CP6']\n",
      "    Rejecting  epoch based on EEG : ['Fz', 'F3', 'FC1', 'CP6']\n",
      "    Rejecting  epoch based on EEG : ['Fz', 'F3', 'FC1', 'CP6']\n",
      "    Rejecting  epoch based on EEG : ['CP6']\n",
      "    Rejecting  epoch based on EEG : ['FC1', 'CP6']\n",
      "    Rejecting  epoch based on EEG : ['FC1', 'CP6']\n",
      "    Rejecting  epoch based on EEG : ['CP6']\n",
      "    Rejecting  epoch based on EEG : ['CP6']\n",
      "    Rejecting  epoch based on EEG : ['FC1', 'CP6']\n",
      "    Rejecting  epoch based on EEG : ['FC1', 'CP6']\n",
      "18 bad epochs dropped\n"
     ]
    },
    {
     "name": "stderr",
     "output_type": "stream",
     "text": [
      "[Parallel(n_jobs=1)]: Done  17 tasks      | elapsed:    2.5s\n",
      "[Parallel(n_jobs=1)]: Done  17 tasks      | elapsed:    0.4s\n",
      "[Parallel(n_jobs=1)]: Done  17 tasks      | elapsed:    2.2s\n",
      "[Parallel(n_jobs=1)]: Done  17 tasks      | elapsed:    0.4s\n"
     ]
    },
    {
     "name": "stdout",
     "output_type": "stream",
     "text": [
      "Opening raw data file /Users/chaohan/Library/CloudStorage/OneDrive-UniversityofToronto/Projects/Yas accent/data_preprocessed/3_ica/Yas_126_corr_prep_ica.fif...\n",
      "    Range : 8446 ... 865444 =     33.784 ...  3461.776 secs\n",
      "Ready.\n",
      "Reading 0 ... 856998  =      0.000 ...  3427.992 secs...\n"
     ]
    },
    {
     "name": "stderr",
     "output_type": "stream",
     "text": [
      "/var/folders/j8/8nyf6njj5nzfjcv6s23y3nn40000gn/T/ipykernel_37645/644758328.py:15: RuntimeWarning: This filename (/Users/chaohan/Library/CloudStorage/OneDrive-UniversityofToronto/Projects/Yas accent/data_preprocessed/3_ica/Yas_126_corr_prep_ica.fif) does not conform to MNE naming conventions. All raw files should end with raw.fif, raw_sss.fif, raw_tsss.fif, _meg.fif, _eeg.fif, _ieeg.fif, raw.fif.gz, raw_sss.fif.gz, raw_tsss.fif.gz, _meg.fif.gz, _eeg.fif.gz or _ieeg.fif.gz\n",
      "  raw = mne.io.read_raw_fif(input_dir + file, preload = True)\n"
     ]
    },
    {
     "name": "stdout",
     "output_type": "stream",
     "text": [
      "EEG channel type selected for re-referencing\n",
      "Applying a custom ('EEG',) reference.\n",
      "Not setting metadata\n",
      "1688 matching events found\n",
      "No baseline correction applied\n",
      "0 projection items activated\n",
      "Using data from preloaded Raw for 1688 events and 751 original time points ...\n",
      "    Rejecting  epoch based on EEG : ['FC5', 'FC6']\n",
      "    Rejecting  epoch based on EEG : ['FC5', 'FC6']\n",
      "2 bad epochs dropped\n"
     ]
    },
    {
     "name": "stderr",
     "output_type": "stream",
     "text": [
      "[Parallel(n_jobs=1)]: Done  17 tasks      | elapsed:    3.0s\n",
      "[Parallel(n_jobs=1)]: Done  17 tasks      | elapsed:    0.4s\n",
      "[Parallel(n_jobs=1)]: Done  17 tasks      | elapsed:    2.2s\n",
      "[Parallel(n_jobs=1)]: Done  17 tasks      | elapsed:    0.4s\n"
     ]
    },
    {
     "name": "stdout",
     "output_type": "stream",
     "text": [
      "Opening raw data file /Users/chaohan/Library/CloudStorage/OneDrive-UniversityofToronto/Projects/Yas accent/data_preprocessed/3_ica/Yas_223_corr_prep_ica.fif...\n",
      "    Range : 0 ... 951749 =      0.000 ...  3806.996 secs\n",
      "Ready.\n",
      "Reading 0 ... 951749  =      0.000 ...  3806.996 secs...\n"
     ]
    },
    {
     "name": "stderr",
     "output_type": "stream",
     "text": [
      "/var/folders/j8/8nyf6njj5nzfjcv6s23y3nn40000gn/T/ipykernel_37645/644758328.py:15: RuntimeWarning: This filename (/Users/chaohan/Library/CloudStorage/OneDrive-UniversityofToronto/Projects/Yas accent/data_preprocessed/3_ica/Yas_223_corr_prep_ica.fif) does not conform to MNE naming conventions. All raw files should end with raw.fif, raw_sss.fif, raw_tsss.fif, _meg.fif, _eeg.fif, _ieeg.fif, raw.fif.gz, raw_sss.fif.gz, raw_tsss.fif.gz, _meg.fif.gz, _eeg.fif.gz or _ieeg.fif.gz\n",
      "  raw = mne.io.read_raw_fif(input_dir + file, preload = True)\n"
     ]
    },
    {
     "name": "stdout",
     "output_type": "stream",
     "text": [
      "EEG channel type selected for re-referencing\n",
      "Applying a custom ('EEG',) reference.\n",
      "Not setting metadata\n",
      "1681 matching events found\n",
      "No baseline correction applied\n",
      "0 projection items activated\n",
      "Using data from preloaded Raw for 1681 events and 751 original time points ...\n",
      "    Rejecting  epoch based on EEG : ['F3', 'F7', 'FT9', 'FC5', 'C3', 'T7', 'CP5', 'P4', 'CP6', 'C4', 'FT10', 'F8']\n",
      "    Rejecting  epoch based on EEG : ['F3', 'F7', 'FT9', 'FC5', 'C3', 'T7', 'CP5', 'P4', 'CP6', 'C4', 'FT10', 'FC2', 'F8']\n",
      "    Rejecting  epoch based on EEG : ['F7', 'FT9', 'FC5', 'C3', 'T7', 'CP5', 'CP6', 'C4', 'F8']\n",
      "3 bad epochs dropped\n"
     ]
    },
    {
     "name": "stderr",
     "output_type": "stream",
     "text": [
      "[Parallel(n_jobs=1)]: Done  17 tasks      | elapsed:    2.9s\n",
      "[Parallel(n_jobs=1)]: Done  17 tasks      | elapsed:    0.5s\n",
      "[Parallel(n_jobs=1)]: Done  17 tasks      | elapsed:    2.8s\n",
      "[Parallel(n_jobs=1)]: Done  17 tasks      | elapsed:    0.5s\n"
     ]
    },
    {
     "name": "stdout",
     "output_type": "stream",
     "text": [
      "Opening raw data file /Users/chaohan/Library/CloudStorage/OneDrive-UniversityofToronto/Projects/Yas accent/data_preprocessed/3_ica/Yas_174_corr_prep_ica.fif...\n"
     ]
    },
    {
     "name": "stderr",
     "output_type": "stream",
     "text": [
      "/var/folders/j8/8nyf6njj5nzfjcv6s23y3nn40000gn/T/ipykernel_37645/644758328.py:15: RuntimeWarning: This filename (/Users/chaohan/Library/CloudStorage/OneDrive-UniversityofToronto/Projects/Yas accent/data_preprocessed/3_ica/Yas_174_corr_prep_ica.fif) does not conform to MNE naming conventions. All raw files should end with raw.fif, raw_sss.fif, raw_tsss.fif, _meg.fif, _eeg.fif, _ieeg.fif, raw.fif.gz, raw_sss.fif.gz, raw_tsss.fif.gz, _meg.fif.gz, _eeg.fif.gz or _ieeg.fif.gz\n",
      "  raw = mne.io.read_raw_fif(input_dir + file, preload = True)\n"
     ]
    },
    {
     "name": "stdout",
     "output_type": "stream",
     "text": [
      "    Range : 4684 ... 864277 =     18.736 ...  3457.108 secs\n",
      "Ready.\n",
      "Reading 0 ... 859593  =      0.000 ...  3438.372 secs...\n",
      "EEG channel type selected for re-referencing\n",
      "Applying a custom ('EEG',) reference.\n",
      "Not setting metadata\n",
      "1648 matching events found\n",
      "No baseline correction applied\n",
      "0 projection items activated\n",
      "Using data from preloaded Raw for 1648 events and 751 original time points ...\n",
      "    Rejecting  epoch based on EEG : ['C4']\n",
      "    Rejecting  epoch based on EEG : ['C4']\n",
      "    Rejecting  epoch based on EEG : ['C4']\n",
      "    Rejecting  epoch based on EEG : ['F7', 'FT9', 'C4']\n",
      "    Rejecting  epoch based on EEG : ['F7', 'FT9', 'C4', 'FT10']\n",
      "    Rejecting  epoch based on EEG : ['C4']\n",
      "    Rejecting  epoch based on EEG : ['C4']\n",
      "7 bad epochs dropped\n"
     ]
    },
    {
     "name": "stderr",
     "output_type": "stream",
     "text": [
      "[Parallel(n_jobs=1)]: Done  17 tasks      | elapsed:    2.4s\n",
      "[Parallel(n_jobs=1)]: Done  17 tasks      | elapsed:    0.4s\n",
      "[Parallel(n_jobs=1)]: Done  17 tasks      | elapsed:    1.9s\n",
      "[Parallel(n_jobs=1)]: Done  17 tasks      | elapsed:    0.4s\n"
     ]
    },
    {
     "name": "stdout",
     "output_type": "stream",
     "text": [
      "Opening raw data file /Users/chaohan/Library/CloudStorage/OneDrive-UniversityofToronto/Projects/Yas accent/data_preprocessed/3_ica/Yas_245_corr_prep_ica.fif...\n",
      "    Range : 1193 ... 851886 =      4.772 ...  3407.544 secs\n",
      "Ready.\n",
      "Reading 0 ... 850693  =      0.000 ...  3402.772 secs...\n"
     ]
    },
    {
     "name": "stderr",
     "output_type": "stream",
     "text": [
      "/var/folders/j8/8nyf6njj5nzfjcv6s23y3nn40000gn/T/ipykernel_37645/644758328.py:15: RuntimeWarning: This filename (/Users/chaohan/Library/CloudStorage/OneDrive-UniversityofToronto/Projects/Yas accent/data_preprocessed/3_ica/Yas_245_corr_prep_ica.fif) does not conform to MNE naming conventions. All raw files should end with raw.fif, raw_sss.fif, raw_tsss.fif, _meg.fif, _eeg.fif, _ieeg.fif, raw.fif.gz, raw_sss.fif.gz, raw_tsss.fif.gz, _meg.fif.gz, _eeg.fif.gz or _ieeg.fif.gz\n",
      "  raw = mne.io.read_raw_fif(input_dir + file, preload = True)\n"
     ]
    },
    {
     "name": "stdout",
     "output_type": "stream",
     "text": [
      "EEG channel type selected for re-referencing\n",
      "Applying a custom ('EEG',) reference.\n",
      "Not setting metadata\n",
      "1643 matching events found\n",
      "No baseline correction applied\n",
      "0 projection items activated\n",
      "Using data from preloaded Raw for 1643 events and 751 original time points ...\n",
      "    Rejecting  epoch based on EEG : ['FC5']\n",
      "    Rejecting  epoch based on EEG : ['FC5']\n",
      "    Rejecting  epoch based on EEG : ['FC5', 'C3']\n",
      "    Rejecting  epoch based on EEG : ['FC5', 'C3']\n",
      "    Rejecting  epoch based on EEG : ['FC5', 'C3']\n",
      "    Rejecting  epoch based on EEG : ['FC6']\n",
      "    Rejecting  epoch based on EEG : ['P8', 'CP6', 'C4', 'FC6']\n",
      "    Rejecting  epoch based on EEG : ['P8', 'CP6', 'C4', 'FC6']\n",
      "    Rejecting  epoch based on EEG : ['C3']\n",
      "    Rejecting  epoch based on EEG : ['C4']\n",
      "    Rejecting  epoch based on EEG : ['C4']\n",
      "    Rejecting  epoch based on EEG : ['FC5', 'C3']\n",
      "    Rejecting  epoch based on EEG : ['F3', 'FC5', 'C3', 'T7']\n",
      "    Rejecting  epoch based on EEG : ['F3', 'FC5', 'C3', 'T7']\n",
      "    Rejecting  epoch based on EEG : ['FC5', 'C3']\n",
      "    Rejecting  epoch based on EEG : ['CP6']\n",
      "    Rejecting  epoch based on EEG : ['F3', 'FC5', 'FC1', 'C3', 'CP6', 'C4', 'FC6']\n",
      "    Rejecting  epoch based on EEG : ['F3', 'FC5', 'FC1', 'C3', 'T7', 'CP6', 'C4', 'FC6']\n",
      "    Rejecting  epoch based on EEG : ['P8', 'CP6', 'C4', 'FC6']\n",
      "    Rejecting  epoch based on EEG : ['P4', 'P8', 'CP6', 'C4', 'FC6', 'F4']\n",
      "    Rejecting  epoch based on EEG : ['P4', 'P8', 'CP6', 'C4', 'FC6', 'F4']\n",
      "    Rejecting  epoch based on EEG : ['F3', 'FC5', 'C3', 'T7', 'CP6', 'C4', 'FC6', 'FC2', 'F4']\n",
      "    Rejecting  epoch based on EEG : ['FC5']\n",
      "    Rejecting  epoch based on EEG : ['P8', 'CP6', 'C4', 'FC6', 'F4']\n",
      "    Rejecting  epoch based on EEG : ['P8', 'CP6', 'C4', 'FC6', 'F4']\n",
      "    Rejecting  epoch based on EEG : ['F3', 'FC5', 'C3', 'T7', 'FC6']\n",
      "    Rejecting  epoch based on EEG : ['FC5', 'C3']\n",
      "    Rejecting  epoch based on EEG : ['FC5', 'C3']\n",
      "    Rejecting  epoch based on EEG : ['F3', 'FC5', 'C3', 'CP6', 'C4', 'FC6', 'F4']\n",
      "    Rejecting  epoch based on EEG : ['C3']\n",
      "    Rejecting  epoch based on EEG : ['C3']\n",
      "    Rejecting  epoch based on EEG : ['FC5', 'C3', 'T7']\n",
      "    Rejecting  epoch based on EEG : ['FC5', 'C3', 'T7']\n",
      "    Rejecting  epoch based on EEG : ['FC5']\n",
      "    Rejecting  epoch based on EEG : ['FC5']\n",
      "    Rejecting  epoch based on EEG : ['F3', 'FC5', 'T7']\n",
      "    Rejecting  epoch based on EEG : ['F3', 'FT9', 'FC5', 'T7']\n",
      "    Rejecting  epoch based on EEG : ['FT9', 'FC5']\n",
      "    Rejecting  epoch based on EEG : ['F3', 'FC5']\n",
      "    Rejecting  epoch based on EEG : ['F3', 'FC5']\n",
      "    Rejecting  epoch based on EEG : ['FC5']\n",
      "    Rejecting  epoch based on EEG : ['FC5', 'C3']\n",
      "    Rejecting  epoch based on EEG : ['FC5', 'C3']\n",
      "43 bad epochs dropped\n"
     ]
    },
    {
     "name": "stderr",
     "output_type": "stream",
     "text": [
      "[Parallel(n_jobs=1)]: Done  17 tasks      | elapsed:    2.6s\n",
      "[Parallel(n_jobs=1)]: Done  17 tasks      | elapsed:    0.4s\n",
      "[Parallel(n_jobs=1)]: Done  17 tasks      | elapsed:    2.0s\n",
      "[Parallel(n_jobs=1)]: Done  17 tasks      | elapsed:    0.4s\n"
     ]
    },
    {
     "name": "stdout",
     "output_type": "stream",
     "text": [
      "Opening raw data file /Users/chaohan/Library/CloudStorage/OneDrive-UniversityofToronto/Projects/Yas accent/data_preprocessed/3_ica/Yas_112_corr_prep_ica.fif...\n",
      "    Range : 23198 ... 861534 =     92.792 ...  3446.136 secs\n",
      "Ready.\n",
      "Reading 0 ... 838336  =      0.000 ...  3353.344 secs...\n"
     ]
    },
    {
     "name": "stderr",
     "output_type": "stream",
     "text": [
      "/var/folders/j8/8nyf6njj5nzfjcv6s23y3nn40000gn/T/ipykernel_37645/644758328.py:15: RuntimeWarning: This filename (/Users/chaohan/Library/CloudStorage/OneDrive-UniversityofToronto/Projects/Yas accent/data_preprocessed/3_ica/Yas_112_corr_prep_ica.fif) does not conform to MNE naming conventions. All raw files should end with raw.fif, raw_sss.fif, raw_tsss.fif, _meg.fif, _eeg.fif, _ieeg.fif, raw.fif.gz, raw_sss.fif.gz, raw_tsss.fif.gz, _meg.fif.gz, _eeg.fif.gz or _ieeg.fif.gz\n",
      "  raw = mne.io.read_raw_fif(input_dir + file, preload = True)\n"
     ]
    },
    {
     "name": "stdout",
     "output_type": "stream",
     "text": [
      "EEG channel type selected for re-referencing\n",
      "Applying a custom ('EEG',) reference.\n",
      "Not setting metadata\n",
      "1622 matching events found\n",
      "No baseline correction applied\n",
      "0 projection items activated\n",
      "Using data from preloaded Raw for 1622 events and 751 original time points ...\n",
      "    Rejecting  epoch based on EEG : ['CP6']\n",
      "    Rejecting  epoch based on EEG : ['Oz', 'O2']\n",
      "    Rejecting  epoch based on EEG : ['Oz', 'O2']\n",
      "    Rejecting  epoch based on EEG : ['Oz', 'CP6']\n",
      "    Rejecting  epoch based on EEG : ['Oz', 'CP6']\n",
      "    Rejecting  epoch based on EEG : ['Oz', 'CP6']\n",
      "    Rejecting  epoch based on EEG : ['Oz', 'CP6']\n",
      "    Rejecting  epoch based on EEG : ['Fz', 'F3', 'FC2']\n",
      "    Rejecting  epoch based on EEG : ['CP6']\n",
      "    Rejecting  epoch based on EEG : ['Oz']\n",
      "    Rejecting  epoch based on EEG : ['Oz']\n",
      "    Rejecting  epoch based on EEG : ['P4']\n",
      "    Rejecting  epoch based on EEG : ['P4']\n",
      "    Rejecting  epoch based on EEG : ['Oz']\n",
      "    Rejecting  epoch based on EEG : ['Oz', 'O2', 'CP6']\n",
      "    Rejecting  epoch based on EEG : ['Oz', 'O2', 'CP6']\n",
      "    Rejecting  epoch based on EEG : ['CP6']\n",
      "    Rejecting  epoch based on EEG : ['Oz', 'O2', 'CP6']\n",
      "    Rejecting  epoch based on EEG : ['Oz', 'O2', 'CP6']\n",
      "    Rejecting  epoch based on EEG : ['Oz']\n",
      "    Rejecting  epoch based on EEG : ['Oz']\n",
      "    Rejecting  epoch based on EEG : ['Oz', 'CP6']\n",
      "    Rejecting  epoch based on EEG : ['Oz', 'CP6']\n",
      "    Rejecting  epoch based on EEG : ['CP6']\n",
      "    Rejecting  epoch based on EEG : ['P7']\n",
      "    Rejecting  epoch based on EEG : ['Oz', 'CP6']\n",
      "    Rejecting  epoch based on EEG : ['Oz', 'CP6']\n",
      "    Rejecting  epoch based on EEG : ['FC1', 'Oz', 'CP6']\n",
      "    Rejecting  epoch based on EEG : ['Oz', 'CP6']\n",
      "    Rejecting  epoch based on EEG : ['CP6']\n",
      "    Rejecting  epoch based on EEG : ['CP6']\n",
      "    Rejecting  epoch based on EEG : ['FC1', 'Oz', 'CP6']\n",
      "    Rejecting  epoch based on EEG : ['FC1', 'Oz', 'CP6']\n",
      "    Rejecting  epoch based on EEG : ['Oz', 'CP6']\n",
      "    Rejecting  epoch based on EEG : ['Oz', 'CP6']\n",
      "    Rejecting  epoch based on EEG : ['Oz']\n",
      "    Rejecting  epoch based on EEG : ['CP6']\n",
      "    Rejecting  epoch based on EEG : ['CP6']\n",
      "    Rejecting  epoch based on EEG : ['CP6']\n",
      "    Rejecting  epoch based on EEG : ['CP6']\n",
      "    Rejecting  epoch based on EEG : ['CP6']\n",
      "    Rejecting  epoch based on EEG : ['CP6']\n",
      "    Rejecting  epoch based on EEG : ['CP6']\n",
      "    Rejecting  epoch based on EEG : ['CP6']\n",
      "    Rejecting  epoch based on EEG : ['CP6']\n",
      "    Rejecting  epoch based on EEG : ['FC1', 'C3', 'FC2']\n",
      "    Rejecting  epoch based on EEG : ['FC1', 'C3', 'Oz', 'FC2']\n",
      "    Rejecting  epoch based on EEG : ['CP6']\n",
      "    Rejecting  epoch based on EEG : ['CP5', 'P7', 'CP6']\n",
      "    Rejecting  epoch based on EEG : ['P7']\n",
      "    Rejecting  epoch based on EEG : ['P7']\n",
      "    Rejecting  epoch based on EEG : ['P7', 'Oz', 'CP6']\n",
      "    Rejecting  epoch based on EEG : ['P7', 'Oz', 'CP6']\n",
      "    Rejecting  epoch based on EEG : ['FC1', 'C3', 'CP5']\n",
      "    Rejecting  epoch based on EEG : ['FC1', 'C3', 'CP5']\n",
      "    Rejecting  epoch based on EEG : ['CP6']\n",
      "    Rejecting  epoch based on EEG : ['CP6']\n",
      "    Rejecting  epoch based on EEG : ['CP5']\n",
      "    Rejecting  epoch based on EEG : ['Fz', 'F3', 'FC1', 'C3', 'CP5', 'CP1', 'Pz', 'CP2', 'Cz', 'FC2', 'F4']\n",
      "    Rejecting  epoch based on EEG : ['Fz', 'F3', 'FC1', 'C3', 'CP5', 'CP1', 'Pz', 'CP2', 'Cz', 'FC2', 'F4']\n",
      "    Rejecting  epoch based on EEG : ['FC1']\n",
      "    Rejecting  epoch based on EEG : ['CP6']\n",
      "    Rejecting  epoch based on EEG : ['FC1', 'CP6', 'FC2', 'F4']\n",
      "    Rejecting  epoch based on EEG : ['FC1', 'CP6', 'FC2', 'F4']\n",
      "    Rejecting  epoch based on EEG : ['FC1', 'C3', 'CP5', 'CP1', 'Pz', 'Oz', 'CP6', 'CP2', 'Cz', 'FC2', 'F4']\n",
      "    Rejecting  epoch based on EEG : ['Fz', 'F3', 'FC1', 'C3', 'CP5', 'CP1', 'Pz', 'P7', 'CP6', 'CP2', 'Cz', 'FC2', 'F4']\n",
      "    Rejecting  epoch based on EEG : ['Fz', 'F3', 'FC1', 'C3', 'CP5', 'CP1', 'Pz', 'P7', 'CP6', 'CP2', 'Cz', 'FC2', 'F4']\n",
      "    Rejecting  epoch based on EEG : ['Fz', 'F3', 'FC5', 'FC1', 'C3', 'CP5', 'CP1', 'Pz', 'CP6', 'CP2', 'Cz', 'FC2', 'F4']\n",
      "    Rejecting  epoch based on EEG : ['Fz', 'F3', 'FC5', 'FC1', 'C3', 'CP5', 'CP1', 'Pz', 'CP6', 'CP2', 'Cz', 'FC2', 'F4']\n",
      "    Rejecting  epoch based on EEG : ['Fz', 'F3', 'FC5', 'FC1', 'C3', 'T7', 'CP5', 'CP1', 'Pz', 'P7', 'CP2', 'Cz', 'FC2', 'F4']\n",
      "    Rejecting  epoch based on EEG : ['CP6']\n",
      "    Rejecting  epoch based on EEG : ['CP6']\n",
      "    Rejecting  epoch based on EEG : ['FC1', 'C3', 'CP5', 'CP1', 'Pz', 'CP2', 'Cz', 'FC2']\n",
      "    Rejecting  epoch based on EEG : ['FC1', 'C3', 'CP5', 'CP1', 'Pz', 'CP2', 'Cz', 'FC2']\n",
      "    Rejecting  epoch based on EEG : ['F3', 'FC1', 'C3', 'FC2']\n",
      "    Rejecting  epoch based on EEG : ['CP5', 'Pz']\n",
      "    Rejecting  epoch based on EEG : ['FC1', 'C3', 'CP5', 'CP1', 'Pz', 'P3', 'P7', 'Oz', 'CP6', 'CP2', 'Cz', 'FC2', 'F4']\n",
      "    Rejecting  epoch based on EEG : ['FC1', 'C3', 'CP5', 'CP1', 'Pz', 'P3', 'P7', 'Oz', 'CP6', 'CP2', 'Cz', 'FC2', 'F4']\n",
      "    Rejecting  epoch based on EEG : ['FC1']\n",
      "    Rejecting  epoch based on EEG : ['Fz', 'F3', 'F7', 'FC5', 'FC1', 'C3', 'T7', 'CP5', 'CP1', 'Pz', 'P3', 'P7', 'CP2', 'Cz', 'FC2', 'F4']\n",
      "    Rejecting  epoch based on EEG : ['P7']\n",
      "    Rejecting  epoch based on EEG : ['P7']\n",
      "    Rejecting  epoch based on EEG : ['Fz', 'F3', 'FC5', 'FC1', 'C3', 'T7', 'CP5', 'CP1', 'Pz', 'P7', 'CP2', 'Cz', 'FC2', 'F4']\n",
      "    Rejecting  epoch based on EEG : ['Fz', 'F3', 'FC5', 'FC1', 'C3', 'T7', 'CP5', 'CP1', 'Pz', 'P7', 'CP2', 'Cz', 'FC2', 'F4']\n",
      "    Rejecting  epoch based on EEG : ['CP5']\n",
      "    Rejecting  epoch based on EEG : ['F3', 'FC5', 'FC1', 'C3', 'CP5', 'CP1', 'Pz', 'P3', 'P7', 'CP2', 'Cz', 'FC2', 'F4']\n",
      "    Rejecting  epoch based on EEG : ['FC1', 'C3', 'CP5', 'Pz', 'FC2']\n",
      "    Rejecting  epoch based on EEG : ['FC1', 'C3', 'CP5', 'Pz', 'FC2']\n",
      "    Rejecting  epoch based on EEG : ['Fz', 'F3', 'FC5', 'FC1', 'C3', 'CP5', 'CP1', 'Pz', 'P7', 'CP2', 'Cz', 'FC2']\n",
      "    Rejecting  epoch based on EEG : ['F3', 'FC1', 'C3', 'CP5', 'Pz', 'P7', 'CP2', 'Cz', 'FC2']\n",
      "    Rejecting  epoch based on EEG : ['F3', 'FC1', 'C3', 'CP5', 'CP1', 'Pz', 'CP2', 'FC2']\n",
      "    Rejecting  epoch based on EEG : ['Fz', 'F3', 'FC1', 'CP5', 'Pz', 'CP2', 'Cz', 'FC2']\n",
      "    Rejecting  epoch based on EEG : ['Fz', 'F3', 'FC1', 'CP5', 'Pz', 'CP2', 'Cz', 'FC2']\n",
      "    Rejecting  epoch based on EEG : ['F3', 'FC5', 'FC1', 'C3', 'CP5', 'CP1', 'Pz', 'P7', 'CP2', 'FC2']\n",
      "    Rejecting  epoch based on EEG : ['F3', 'FC1', 'C3', 'CP5', 'Pz', 'P7', 'CP2', 'FC2']\n",
      "    Rejecting  epoch based on EEG : ['Fz', 'F3', 'FC5', 'FC1', 'C3', 'CP5', 'CP1', 'Pz', 'P7', 'CP2', 'Cz', 'FC2', 'F4']\n",
      "    Rejecting  epoch based on EEG : ['FC1']\n",
      "    Rejecting  epoch based on EEG : ['Fz', 'F3', 'FC5', 'FC1', 'C3', 'CP5', 'CP1', 'Pz', 'P3', 'P7', 'CP2', 'Cz', 'FC2', 'F4']\n",
      "    Rejecting  epoch based on EEG : ['Fz', 'F3', 'FC5', 'FC1', 'C3', 'CP5', 'CP1', 'Pz', 'P3', 'P7', 'CP2', 'Cz', 'FC2', 'F4']\n",
      "    Rejecting  epoch based on EEG : ['Fz', 'F3', 'FC5', 'FC1', 'C3', 'CP5', 'CP1', 'Pz', 'P7', 'CP2', 'Cz', 'FC2', 'F4']\n",
      "    Rejecting  epoch based on EEG : ['Fz', 'F3', 'FC5', 'FC1', 'C3', 'CP5', 'CP1', 'Pz', 'P7', 'CP2', 'Cz', 'FC2', 'F4']\n",
      "    Rejecting  epoch based on EEG : ['Fz', 'F3', 'FC5', 'FC1', 'C3', 'CP5', 'CP1', 'Pz', 'P3', 'P7', 'CP2', 'Cz', 'FC2']\n",
      "    Rejecting  epoch based on EEG : ['Fz', 'F3', 'FC5', 'FC1', 'C3', 'CP5', 'CP1', 'Pz', 'P3', 'P7', 'CP2', 'Cz', 'FC2']\n",
      "    Rejecting  epoch based on EEG : ['Fz', 'F3', 'FC5', 'FC1', 'C3', 'T7', 'CP5', 'CP1', 'Pz', 'P3', 'P7', 'CP2', 'Cz', 'FC2', 'F4']\n",
      "    Rejecting  epoch based on EEG : ['Fz', 'F3', 'FC5', 'FC1', 'C3', 'T7', 'CP5', 'CP1', 'Pz', 'P3', 'P7', 'CP2', 'Cz', 'FC2', 'F4']\n",
      "    Rejecting  epoch based on EEG : ['FC1', 'C3', 'CP5', 'CP1', 'Pz', 'CP2', 'Cz', 'FC2']\n",
      "    Rejecting  epoch based on EEG : ['FC1', 'C3', 'CP5', 'CP1', 'Pz', 'CP2', 'Cz', 'FC2']\n",
      "    Rejecting  epoch based on EEG : ['Fz', 'F3', 'FC5', 'FC1', 'C3', 'CP5', 'CP1', 'Pz', 'P3', 'P7', 'CP2', 'Cz', 'FC2']\n",
      "    Rejecting  epoch based on EEG : ['Fz', 'F3', 'FC5', 'FC1', 'C3', 'CP5', 'CP1', 'Pz', 'P3', 'P7', 'CP2', 'Cz', 'FC2']\n",
      "    Rejecting  epoch based on EEG : ['Fz', 'F3', 'FC5', 'FC1', 'C3', 'CP5', 'CP1', 'Pz', 'P3', 'P7', 'O1', 'CP2', 'Cz', 'FC2', 'F4']\n",
      "    Rejecting  epoch based on EEG : ['CP5', 'CP1', 'Pz', 'CP2', 'Cz']\n",
      "    Rejecting  epoch based on EEG : ['CP5', 'CP1', 'Pz', 'CP2', 'Cz']\n",
      "    Rejecting  epoch based on EEG : ['Fz', 'F3', 'FC5', 'FC1', 'C3', 'CP5', 'CP1', 'CP2', 'Cz', 'FC2']\n",
      "    Rejecting  epoch based on EEG : ['Fz', 'F3', 'FC5', 'FC1', 'C3', 'CP5', 'CP1', 'CP2', 'Cz', 'FC2']\n",
      "    Rejecting  epoch based on EEG : ['Fz', 'F3', 'FC5', 'FC1', 'C3', 'T7', 'CP5', 'CP1', 'Pz', 'P7', 'CP2', 'Cz', 'FC2']\n",
      "    Rejecting  epoch based on EEG : ['FC1', 'CP5', 'CP1', 'Pz', 'CP2', 'Cz']\n",
      "    Rejecting  epoch based on EEG : ['Fz', 'F3', 'FC5', 'FC1', 'C3', 'CP5', 'CP1', 'Pz', 'P3', 'P7', 'CP2', 'Cz', 'FC2', 'F4']\n",
      "    Rejecting  epoch based on EEG : ['Fz', 'F3', 'FC5', 'FC1', 'C3', 'CP5', 'CP1', 'Pz', 'P3', 'P7', 'CP2', 'Cz', 'FC2', 'F4']\n",
      "    Rejecting  epoch based on EEG : ['Fz', 'F3', 'FC5', 'FC1', 'C3', 'CP5', 'CP1', 'Pz', 'P3', 'P7', 'CP2', 'Cz', 'FC2']\n",
      "    Rejecting  epoch based on EEG : ['Fz', 'F3', 'FC5', 'FC1', 'C3', 'CP5', 'CP1', 'Pz', 'P3', 'P7', 'CP2', 'Cz', 'FC2']\n",
      "    Rejecting  epoch based on EEG : ['Fz', 'F3', 'FC5', 'FC1', 'C3', 'CP5', 'CP1', 'Pz', 'P3', 'P7', 'CP2', 'Cz', 'FC2']\n",
      "    Rejecting  epoch based on EEG : ['CP5']\n",
      "    Rejecting  epoch based on EEG : ['C3', 'CP5', 'CP1', 'P7']\n",
      "    Rejecting  epoch based on EEG : ['Fz', 'F3', 'FC5', 'FC1', 'C3', 'CP5', 'CP1', 'Pz', 'P7', 'CP2', 'Cz', 'FC2', 'F4']\n",
      "    Rejecting  epoch based on EEG : ['Fz', 'F3', 'FC5', 'FC1', 'C3', 'CP5', 'CP1', 'Pz', 'P7', 'CP2', 'Cz', 'FC2', 'F4']\n",
      "    Rejecting  epoch based on EEG : ['Fz', 'F3', 'FC5', 'FC1', 'C3', 'T7', 'CP5', 'CP1', 'Pz', 'P3', 'P7', 'CP2', 'Cz', 'FC2', 'F4']\n",
      "    Rejecting  epoch based on EEG : ['Fz', 'F3', 'FC5', 'FC1', 'C3', 'T7', 'CP5', 'CP1', 'Pz', 'P3', 'P7', 'CP2', 'Cz', 'FC2', 'F4']\n",
      "    Rejecting  epoch based on EEG : ['C3', 'CP5', 'P7']\n",
      "    Rejecting  epoch based on EEG : ['Fz', 'F3', 'FC5', 'FC1', 'C3', 'T7', 'CP5', 'CP1', 'Pz', 'P3', 'P7', 'CP2', 'Cz', 'FC2', 'F4']\n",
      "    Rejecting  epoch based on EEG : ['Fz', 'F3', 'FC5', 'FC1', 'C3', 'T7', 'CP5', 'CP1', 'Pz', 'P3', 'P7', 'CP2', 'Cz', 'FC2', 'F4']\n",
      "    Rejecting  epoch based on EEG : ['Fz', 'F3', 'FC1', 'C3', 'CP5', 'CP1', 'Pz', 'P7', 'CP2', 'Cz', 'FC2', 'F4']\n",
      "    Rejecting  epoch based on EEG : ['Fz', 'F3', 'FC1', 'C3', 'CP5', 'CP1', 'Pz', 'P7', 'CP2', 'Cz', 'FC2', 'F4']\n",
      "    Rejecting  epoch based on EEG : ['Fz', 'F3', 'FC5', 'FC1', 'C3', 'CP5', 'CP1', 'Pz', 'Cz', 'FC2', 'F4']\n",
      "    Rejecting  epoch based on EEG : ['Fz', 'F3', 'FC5', 'FC1', 'C3', 'CP5', 'CP1', 'Pz', 'Cz', 'FC2', 'F4']\n",
      "    Rejecting  epoch based on EEG : ['Fz', 'F3', 'FC5', 'FC1', 'C3', 'CP5', 'CP1', 'Pz', 'P3', 'P7', 'CP2', 'Cz', 'FC2', 'F4']\n",
      "    Rejecting  epoch based on EEG : ['Fz', 'F3', 'FC5', 'FC1', 'C3', 'CP5', 'CP1', 'Pz', 'P3', 'P7', 'CP2', 'Cz', 'FC2', 'F4']\n",
      "    Rejecting  epoch based on EEG : ['Fz', 'F3', 'FC5', 'P7', 'O1', 'Oz']\n",
      "    Rejecting  epoch based on EEG : ['Fz', 'F3', 'FC1', 'C3', 'CP5', 'CP1', 'Pz', 'P7', 'CP2', 'Cz', 'FC2']\n",
      "    Rejecting  epoch based on EEG : ['Fz', 'F3', 'FC1', 'C3', 'CP5', 'CP1', 'Pz', 'P7', 'CP2', 'Cz', 'FC2']\n",
      "    Rejecting  epoch based on EEG : ['Fz', 'F3', 'FC1', 'C3', 'CP5', 'CP1', 'Pz', 'CP2', 'Cz', 'FC2', 'F4']\n",
      "    Rejecting  epoch based on EEG : ['Fz', 'F3', 'FC1', 'C3', 'CP5', 'CP1', 'Pz', 'CP2', 'Cz', 'FC2', 'F4']\n",
      "    Rejecting  epoch based on EEG : ['FC1', 'CP5', 'Cz']\n",
      "    Rejecting  epoch based on EEG : ['FC1', 'CP5', 'Cz']\n",
      "    Rejecting  epoch based on EEG : ['CP5', 'CP2']\n",
      "    Rejecting  epoch based on EEG : ['CP5', 'CP2']\n",
      "    Rejecting  epoch based on EEG : ['Fz', 'F3', 'FC5', 'FC1', 'C3', 'T7', 'CP5', 'CP1', 'Pz', 'P3', 'P7', 'CP2', 'Cz', 'FC2']\n",
      "    Rejecting  epoch based on EEG : ['Fz', 'F3', 'FC5', 'FC1', 'C3', 'T7', 'CP5', 'CP1', 'Pz', 'P3', 'P7', 'CP2', 'Cz', 'FC2', 'F4']\n",
      "    Rejecting  epoch based on EEG : ['Fz', 'F3', 'FC5', 'FC1', 'C3', 'T7', 'CP5', 'CP1', 'Pz', 'P3', 'P7', 'CP2', 'Cz', 'FC2', 'F4']\n",
      "    Rejecting  epoch based on EEG : ['Fz', 'F3', 'FC1', 'C3', 'CP5', 'CP1', 'Pz', 'P7', 'CP2', 'Cz', 'FC2']\n",
      "    Rejecting  epoch based on EEG : ['Fz', 'F3', 'FC5', 'FC1', 'C3', 'CP5', 'CP1', 'Pz', 'P3', 'P7', 'CP2', 'Cz', 'FC2']\n",
      "    Rejecting  epoch based on EEG : ['Fz', 'F3', 'FC5', 'FC1', 'C3', 'CP5', 'CP1', 'Pz', 'P3', 'P7', 'CP2', 'Cz', 'FC2']\n",
      "    Rejecting  epoch based on EEG : ['F3', 'FC5', 'FC1', 'C3', 'CP5', 'CP1', 'Pz', 'P7', 'CP2', 'FC2']\n",
      "    Rejecting  epoch based on EEG : ['F3', 'FC5', 'FC1', 'C3', 'CP5', 'CP1', 'Pz', 'P7', 'CP2', 'FC2']\n",
      "    Rejecting  epoch based on EEG : ['Fz', 'F3', 'FC5', 'FC1', 'C3', 'CP5', 'CP1', 'Pz', 'P7', 'CP2', 'Cz', 'FC2', 'F4']\n",
      "    Rejecting  epoch based on EEG : ['Fz', 'F3', 'FC5', 'FC1', 'C3', 'CP5', 'CP1', 'Pz', 'P7', 'CP2', 'Cz', 'FC2', 'F4']\n",
      "    Rejecting  epoch based on EEG : ['Fz', 'F3', 'FC5', 'FC1', 'C3', 'CP5', 'CP1', 'Pz', 'P7', 'CP2', 'Cz', 'FC2']\n",
      "    Rejecting  epoch based on EEG : ['Fz', 'F3', 'FC5', 'FC1', 'C3', 'CP5', 'CP1', 'Pz', 'P7', 'CP2', 'Cz', 'FC2']\n",
      "    Rejecting  epoch based on EEG : ['Fz', 'F3', 'FC5', 'FC1', 'C3', 'CP5', 'CP1', 'Pz', 'P7', 'CP2', 'Cz', 'FC2']\n",
      "    Rejecting  epoch based on EEG : ['Fz', 'F3', 'FC5', 'FC1', 'C3', 'CP5', 'CP1', 'Pz', 'P3', 'P7', 'CP2', 'Cz', 'FC2']\n",
      "    Rejecting  epoch based on EEG : ['Fz', 'F3', 'FC5', 'FC1', 'C3', 'T7', 'CP5', 'CP1', 'Pz', 'P3', 'P7', 'CP2', 'Cz', 'C4', 'FC2', 'F4']\n",
      "    Rejecting  epoch based on EEG : ['Fz', 'F3', 'FC5', 'FC1', 'C3', 'T7', 'CP5', 'CP1', 'Pz', 'P3', 'P7', 'CP2', 'Cz', 'C4', 'FC2', 'F4']\n",
      "    Rejecting  epoch based on EEG : ['Fz', 'F3', 'FC5', 'FC1', 'C3', 'T7', 'CP5', 'CP1', 'Pz', 'P3', 'P7', 'CP2', 'Cz', 'FC2', 'F4']\n",
      "    Rejecting  epoch based on EEG : ['Fz', 'F3', 'FC5', 'FC1', 'C3', 'T7', 'CP5', 'CP1', 'Pz', 'P3', 'P7', 'CP2', 'Cz', 'FC2', 'F4']\n",
      "    Rejecting  epoch based on EEG : ['Fz', 'F3', 'FC5', 'FC1', 'C3', 'T7', 'CP5', 'CP1', 'Pz', 'P3', 'P7', 'O1', 'P4', 'CP2', 'Cz', 'FC2', 'F4']\n",
      "    Rejecting  epoch based on EEG : ['Fz', 'F3', 'FC5', 'FC1', 'C3', 'CP5', 'CP1', 'Pz', 'P3', 'P7', 'CP2', 'Cz', 'FC2', 'F4']\n",
      "    Rejecting  epoch based on EEG : ['Fz', 'F3', 'FC5', 'FC1', 'C3', 'CP5', 'CP1', 'Pz', 'P7', 'CP2', 'Cz', 'FC2', 'F4']\n",
      "    Rejecting  epoch based on EEG : ['Fz', 'F3', 'FC1', 'C3', 'CP5', 'CP1', 'Pz', 'CP2', 'Cz', 'FC2']\n",
      "    Rejecting  epoch based on EEG : ['Fz', 'F3', 'FC1', 'C3', 'CP5', 'CP1', 'Pz', 'CP2', 'Cz', 'FC2']\n",
      "    Rejecting  epoch based on EEG : ['Fz', 'FC1', 'C3', 'CP5', 'CP1', 'Pz', 'CP2', 'Cz', 'FC2']\n",
      "    Rejecting  epoch based on EEG : ['Fz', 'FC1', 'C3', 'CP5', 'CP1', 'Pz', 'CP2', 'Cz', 'FC2']\n",
      "    Rejecting  epoch based on EEG : ['Fz', 'F3', 'FC5', 'FC1', 'C3', 'CP5', 'CP1', 'Pz', 'P3', 'CP2', 'Cz', 'FC2', 'F4']\n",
      "    Rejecting  epoch based on EEG : ['F3', 'FC1', 'C3', 'CP5', 'CP1', 'Pz', 'CP2', 'Cz', 'FC2']\n",
      "    Rejecting  epoch based on EEG : ['Fz', 'F3', 'FC1', 'C3', 'CP5', 'CP1', 'Pz', 'CP2', 'Cz', 'FC2']\n",
      "    Rejecting  epoch based on EEG : ['Fz', 'FC1', 'Cz']\n",
      "    Rejecting  epoch based on EEG : ['Fz', 'FC1', 'Cz']\n",
      "    Rejecting  epoch based on EEG : ['Fz', 'F3', 'FC1', 'C3', 'CP5', 'CP1', 'Pz', 'P3', 'P7', 'CP2', 'Cz', 'FC2']\n",
      "    Rejecting  epoch based on EEG : ['Fz', 'F3', 'FC1', 'C3', 'CP5', 'CP1', 'Pz', 'P3', 'P7', 'CP2', 'Cz', 'FC2']\n",
      "    Rejecting  epoch based on EEG : ['Fz', 'F3', 'F7', 'FC5', 'FC1', 'C3', 'CP5', 'CP1', 'Pz', 'P3', 'CP2', 'Cz', 'FC2', 'F4']\n",
      "    Rejecting  epoch based on EEG : ['Fz', 'F3', 'F7', 'FC5', 'FC1', 'C3', 'CP5', 'CP1', 'Pz', 'P3', 'CP2', 'Cz', 'FC2', 'F4']\n",
      "    Rejecting  epoch based on EEG : ['Fz', 'F3', 'FC1', 'C3', 'CP5', 'CP1', 'Pz', 'P3', 'P7', 'CP2', 'Cz', 'FC2']\n",
      "    Rejecting  epoch based on EEG : ['Fz', 'F3', 'FC1', 'C3', 'CP5', 'CP1', 'Pz', 'P3', 'P7', 'CP2', 'Cz', 'FC2']\n",
      "    Rejecting  epoch based on EEG : ['P7']\n",
      "182 bad epochs dropped\n"
     ]
    },
    {
     "name": "stderr",
     "output_type": "stream",
     "text": [
      "[Parallel(n_jobs=1)]: Done  17 tasks      | elapsed:    2.7s\n",
      "[Parallel(n_jobs=1)]: Done  17 tasks      | elapsed:    0.5s\n",
      "[Parallel(n_jobs=1)]: Done  17 tasks      | elapsed:    2.2s\n",
      "[Parallel(n_jobs=1)]: Done  17 tasks      | elapsed:    0.4s\n"
     ]
    },
    {
     "name": "stdout",
     "output_type": "stream",
     "text": [
      "Opening raw data file /Users/chaohan/Library/CloudStorage/OneDrive-UniversityofToronto/Projects/Yas accent/data_preprocessed/3_ica/Yas_212_corr_prep_ica.fif...\n"
     ]
    },
    {
     "name": "stderr",
     "output_type": "stream",
     "text": [
      "/var/folders/j8/8nyf6njj5nzfjcv6s23y3nn40000gn/T/ipykernel_37645/644758328.py:15: RuntimeWarning: This filename (/Users/chaohan/Library/CloudStorage/OneDrive-UniversityofToronto/Projects/Yas accent/data_preprocessed/3_ica/Yas_212_corr_prep_ica.fif) does not conform to MNE naming conventions. All raw files should end with raw.fif, raw_sss.fif, raw_tsss.fif, _meg.fif, _eeg.fif, _ieeg.fif, raw.fif.gz, raw_sss.fif.gz, raw_tsss.fif.gz, _meg.fif.gz, _eeg.fif.gz or _ieeg.fif.gz\n",
      "  raw = mne.io.read_raw_fif(input_dir + file, preload = True)\n"
     ]
    },
    {
     "name": "stdout",
     "output_type": "stream",
     "text": [
      "    Range : 486 ... 861611 =      1.944 ...  3446.444 secs\n",
      "Ready.\n",
      "Reading 0 ... 861125  =      0.000 ...  3444.500 secs...\n",
      "EEG channel type selected for re-referencing\n",
      "Applying a custom ('EEG',) reference.\n",
      "Not setting metadata\n",
      "1671 matching events found\n",
      "No baseline correction applied\n",
      "0 projection items activated\n",
      "Using data from preloaded Raw for 1671 events and 751 original time points ...\n",
      "0 bad epochs dropped\n"
     ]
    },
    {
     "name": "stderr",
     "output_type": "stream",
     "text": [
      "[Parallel(n_jobs=1)]: Done  17 tasks      | elapsed:    2.2s\n",
      "[Parallel(n_jobs=1)]: Done  17 tasks      | elapsed:    0.4s\n",
      "[Parallel(n_jobs=1)]: Done  17 tasks      | elapsed:    2.2s\n",
      "[Parallel(n_jobs=1)]: Done  17 tasks      | elapsed:    0.4s\n"
     ]
    },
    {
     "name": "stdout",
     "output_type": "stream",
     "text": [
      "Opening raw data file /Users/chaohan/Library/CloudStorage/OneDrive-UniversityofToronto/Projects/Yas accent/data_preprocessed/3_ica/Yas_145_corr_prep_ica.fif...\n"
     ]
    },
    {
     "name": "stderr",
     "output_type": "stream",
     "text": [
      "/var/folders/j8/8nyf6njj5nzfjcv6s23y3nn40000gn/T/ipykernel_37645/644758328.py:15: RuntimeWarning: This filename (/Users/chaohan/Library/CloudStorage/OneDrive-UniversityofToronto/Projects/Yas accent/data_preprocessed/3_ica/Yas_145_corr_prep_ica.fif) does not conform to MNE naming conventions. All raw files should end with raw.fif, raw_sss.fif, raw_tsss.fif, _meg.fif, _eeg.fif, _ieeg.fif, raw.fif.gz, raw_sss.fif.gz, raw_tsss.fif.gz, _meg.fif.gz, _eeg.fif.gz or _ieeg.fif.gz\n",
      "  raw = mne.io.read_raw_fif(input_dir + file, preload = True)\n"
     ]
    },
    {
     "name": "stdout",
     "output_type": "stream",
     "text": [
      "    Range : 0 ... 982461 =      0.000 ...  3929.844 secs\n",
      "Ready.\n",
      "Reading 0 ... 982461  =      0.000 ...  3929.844 secs...\n",
      "EEG channel type selected for re-referencing\n",
      "Applying a custom ('EEG',) reference.\n",
      "Not setting metadata\n",
      "1659 matching events found\n",
      "No baseline correction applied\n",
      "0 projection items activated\n",
      "Using data from preloaded Raw for 1659 events and 751 original time points ...\n",
      "    Rejecting  epoch based on EEG : ['C3']\n",
      "    Rejecting  epoch based on EEG : ['F7', 'FT9', 'FC1', 'C3', 'CP1', 'P4', 'P8', 'CP6', 'CP2', 'C4', 'T8', 'FT10', 'FC6', 'FC2', 'F4', 'F8']\n",
      "    Rejecting  epoch based on EEG : ['F7', 'FT9', 'FC1', 'C3', 'CP1', 'P4', 'P8', 'CP6', 'CP2', 'C4', 'T8', 'FT10', 'FC6', 'FC2', 'F4', 'F8']\n",
      "    Rejecting  epoch based on EEG : ['FT9', 'FC1', 'C3']\n",
      "    Rejecting  epoch based on EEG : ['CP6', 'C4', 'T8', 'FC6', 'F4']\n",
      "    Rejecting  epoch based on EEG : ['CP6', 'C4', 'T8', 'FC6', 'F4']\n",
      "    Rejecting  epoch based on EEG : ['Fz', 'FC1', 'FC2']\n",
      "    Rejecting  epoch based on EEG : ['Fz', 'FC1', 'FC2']\n",
      "    Rejecting  epoch based on EEG : ['Fz', 'FC1', 'Cz', 'FC2']\n",
      "    Rejecting  epoch based on EEG : ['Fz', 'FC1', 'Cz', 'FC2']\n",
      "    Rejecting  epoch based on EEG : ['C3']\n",
      "    Rejecting  epoch based on EEG : ['C3', 'P4', 'CP6', 'CP2', 'C4', 'T8', 'FT10', 'FC6', 'F4']\n",
      "    Rejecting  epoch based on EEG : ['C3']\n",
      "    Rejecting  epoch based on EEG : ['C3']\n",
      "    Rejecting  epoch based on EEG : ['C3', 'C4']\n",
      "    Rejecting  epoch based on EEG : ['Fz', 'F3', 'FT9', 'FC1', 'C3', 'CP1', 'P4', 'P8', 'CP6', 'CP2', 'Cz', 'C4', 'T8', 'FT10', 'FC6', 'FC2', 'F4', 'F8']\n",
      "    Rejecting  epoch based on EEG : ['FT9', 'C3', 'P4', 'CP6', 'CP2', 'Cz', 'C4', 'T8', 'FT10', 'FC6', 'FC2', 'F4', 'F8']\n",
      "    Rejecting  epoch based on EEG : ['FT9', 'C3', 'P4', 'CP6', 'CP2', 'Cz', 'C4', 'T8', 'FT10', 'FC6', 'FC2', 'F4', 'F8']\n",
      "    Rejecting  epoch based on EEG : ['FT9', 'C3']\n",
      "    Rejecting  epoch based on EEG : ['O1']\n",
      "    Rejecting  epoch based on EEG : ['O1']\n",
      "    Rejecting  epoch based on EEG : ['C3']\n",
      "    Rejecting  epoch based on EEG : ['C3', 'P4', 'CP6', 'CP2', 'C4', 'T8', 'FT10', 'FC6', 'FC2', 'F4', 'F8']\n",
      "    Rejecting  epoch based on EEG : ['P4', 'CP6', 'CP2', 'C4', 'T8', 'FT10', 'FC6', 'FC2', 'F4', 'F8']\n",
      "    Rejecting  epoch based on EEG : ['P4', 'CP6', 'CP2', 'C4', 'T8', 'FT10', 'FC6', 'FC2', 'F4']\n",
      "    Rejecting  epoch based on EEG : ['CP6', 'T8']\n",
      "    Rejecting  epoch based on EEG : ['C4']\n",
      "    Rejecting  epoch based on EEG : ['C4']\n",
      "    Rejecting  epoch based on EEG : ['C3', 'CP6', 'C4', 'T8', 'FC6']\n",
      "    Rejecting  epoch based on EEG : ['C3', 'CP6', 'C4', 'T8', 'FT10', 'FC6']\n",
      "    Rejecting  epoch based on EEG : ['C3', 'O1', 'Oz', 'CP6', 'C4', 'T8', 'FT10', 'FC6']\n",
      "    Rejecting  epoch based on EEG : ['O1', 'Oz']\n",
      "    Rejecting  epoch based on EEG : ['P4', 'CP6', 'CP2', 'C4', 'T8', 'FT10', 'FC6', 'FC2', 'F4', 'F8']\n",
      "    Rejecting  epoch based on EEG : ['P4', 'CP6', 'CP2', 'C4', 'T8', 'FT10', 'FC6', 'FC2', 'F4', 'F8']\n",
      "    Rejecting  epoch based on EEG : ['CP6', 'C4', 'T8', 'FT10', 'FC6', 'FC2', 'F4']\n",
      "    Rejecting  epoch based on EEG : ['FT9', 'C3']\n",
      "    Rejecting  epoch based on EEG : ['FT9', 'C3', 'CP6', 'C4']\n",
      "    Rejecting  epoch based on EEG : ['C3', 'CP6', 'C4']\n",
      "    Rejecting  epoch based on EEG : ['C3']\n",
      "    Rejecting  epoch based on EEG : ['FT9', 'FC5', 'FC1', 'C3', 'CP1', 'P4', 'P8', 'CP6', 'CP2', 'Cz', 'C4', 'T8', 'FT10', 'FC6', 'FC2', 'F4', 'F8']\n",
      "    Rejecting  epoch based on EEG : ['Fz', 'FT9', 'FC5', 'FC1', 'C3', 'CP1', 'P4', 'P8', 'CP6', 'CP2', 'Cz', 'C4', 'T8', 'FT10', 'FC6', 'FC2', 'F4', 'F8']\n",
      "    Rejecting  epoch based on EEG : ['FT9', 'FC1', 'C3', 'P4', 'CP6', 'C4', 'T8', 'FT10', 'FC6', 'FC2', 'F4']\n",
      "    Rejecting  epoch based on EEG : ['C3']\n",
      "    Rejecting  epoch based on EEG : ['C4', 'FC6']\n",
      "    Rejecting  epoch based on EEG : ['C3']\n",
      "    Rejecting  epoch based on EEG : ['FT9', 'FC1', 'C3', 'P4', 'CP6', 'CP2', 'Cz', 'C4', 'T8', 'FT10', 'FC6', 'FC2', 'F4', 'F8']\n",
      "    Rejecting  epoch based on EEG : ['FT9', 'C3', 'P4', 'CP6', 'CP2', 'Cz', 'C4', 'T8', 'FT10', 'FC6', 'FC2', 'F4', 'F8']\n",
      "    Rejecting  epoch based on EEG : ['C3']\n",
      "    Rejecting  epoch based on EEG : ['C3']\n",
      "    Rejecting  epoch based on EEG : ['C3']\n",
      "    Rejecting  epoch based on EEG : ['C3']\n",
      "51 bad epochs dropped\n"
     ]
    },
    {
     "name": "stderr",
     "output_type": "stream",
     "text": [
      "[Parallel(n_jobs=1)]: Done  17 tasks      | elapsed:    2.2s\n",
      "[Parallel(n_jobs=1)]: Done  17 tasks      | elapsed:    0.4s\n",
      "[Parallel(n_jobs=1)]: Done  17 tasks      | elapsed:    2.3s\n",
      "[Parallel(n_jobs=1)]: Done  17 tasks      | elapsed:    0.4s\n"
     ]
    },
    {
     "name": "stdout",
     "output_type": "stream",
     "text": [
      "Opening raw data file /Users/chaohan/Library/CloudStorage/OneDrive-UniversityofToronto/Projects/Yas accent/data_preprocessed/3_ica/Yas_195_corr_prep_ica.fif...\n",
      "    Range : 56 ... 906699 =      0.224 ...  3626.796 secs\n",
      "Ready.\n",
      "Reading 0 ... 906643  =      0.000 ...  3626.572 secs...\n"
     ]
    },
    {
     "name": "stderr",
     "output_type": "stream",
     "text": [
      "/var/folders/j8/8nyf6njj5nzfjcv6s23y3nn40000gn/T/ipykernel_37645/644758328.py:15: RuntimeWarning: This filename (/Users/chaohan/Library/CloudStorage/OneDrive-UniversityofToronto/Projects/Yas accent/data_preprocessed/3_ica/Yas_195_corr_prep_ica.fif) does not conform to MNE naming conventions. All raw files should end with raw.fif, raw_sss.fif, raw_tsss.fif, _meg.fif, _eeg.fif, _ieeg.fif, raw.fif.gz, raw_sss.fif.gz, raw_tsss.fif.gz, _meg.fif.gz, _eeg.fif.gz or _ieeg.fif.gz\n",
      "  raw = mne.io.read_raw_fif(input_dir + file, preload = True)\n"
     ]
    },
    {
     "name": "stdout",
     "output_type": "stream",
     "text": [
      "EEG channel type selected for re-referencing\n",
      "Applying a custom ('EEG',) reference.\n",
      "Not setting metadata\n",
      "1669 matching events found\n",
      "No baseline correction applied\n",
      "0 projection items activated\n",
      "Using data from preloaded Raw for 1669 events and 751 original time points ...\n",
      "    Rejecting  epoch based on EEG : ['FT10']\n",
      "    Rejecting  epoch based on EEG : ['FC6']\n",
      "    Rejecting  epoch based on EEG : ['FT10', 'FC6']\n",
      "    Rejecting  epoch based on EEG : ['FT10', 'FC6']\n",
      "    Rejecting  epoch based on EEG : ['FT9']\n",
      "    Rejecting  epoch based on EEG : ['FT9']\n",
      "    Rejecting  epoch based on EEG : ['FT9', 'T7', 'CP5', 'P7', 'P4', 'P8', 'CP6', 'T8', 'FC6']\n",
      "    Rejecting  epoch based on EEG : ['FT9', 'T7', 'CP5', 'P7', 'P4', 'P8', 'CP6', 'T8', 'FC6']\n",
      "    Rejecting  epoch based on EEG : ['FT10']\n",
      "    Rejecting  epoch based on EEG : ['FT10']\n",
      "    Rejecting  epoch based on EEG : ['O1', 'Oz']\n",
      "    Rejecting  epoch based on EEG : ['O1', 'Oz']\n",
      "    Rejecting  epoch based on EEG : ['FT9', 'FC5']\n",
      "    Rejecting  epoch based on EEG : ['F7', 'FT9', 'FC5', 'T7', 'FT10', 'FC6']\n",
      "    Rejecting  epoch based on EEG : ['F7', 'FT9', 'FC5', 'T7', 'FT10', 'FC6']\n",
      "    Rejecting  epoch based on EEG : ['FT10', 'FC6']\n",
      "    Rejecting  epoch based on EEG : ['F7', 'FC5', 'T8', 'FT10', 'FC6', 'F8']\n",
      "    Rejecting  epoch based on EEG : ['F7', 'FC5', 'T8', 'FT10', 'FC6', 'F8']\n",
      "    Rejecting  epoch based on EEG : ['FT9', 'FC5', 'C3', 'T7', 'CP5', 'P7', 'FT10']\n",
      "    Rejecting  epoch based on EEG : ['FT9', 'FC5', 'C3', 'T7', 'CP5', 'P7', 'FT10']\n",
      "    Rejecting  epoch based on EEG : ['FT9']\n",
      "    Rejecting  epoch based on EEG : ['FT9', 'FC5']\n",
      "    Rejecting  epoch based on EEG : ['FT9', 'FC5', 'C3', 'T7', 'CP5', 'CP1', 'Pz', 'P3', 'P7', 'P4', 'P8', 'CP6', 'CP2', 'Cz', 'C4', 'T8', 'FT10', 'FC6', 'FC2', 'F4']\n",
      "    Rejecting  epoch based on EEG : ['F7', 'FT9', 'FC5', 'C3', 'T7', 'CP5', 'CP1', 'Pz', 'P3', 'P7', 'P4', 'P8', 'CP6', 'CP2', 'C4', 'T8', 'FT10', 'FC6', 'FC2', 'F4', 'F8']\n",
      "    Rejecting  epoch based on EEG : ['F7', 'T7', 'CP5', 'P3', 'FT10', 'F8']\n",
      "    Rejecting  epoch based on EEG : ['F7', 'FC5', 'T7', 'CP5', 'P3', 'FT10', 'F8']\n",
      "    Rejecting  epoch based on EEG : ['FT9']\n",
      "    Rejecting  epoch based on EEG : ['P8']\n",
      "    Rejecting  epoch based on EEG : ['P8']\n",
      "    Rejecting  epoch based on EEG : ['FC5']\n",
      "    Rejecting  epoch based on EEG : ['FT9', 'FC5', 'T7']\n",
      "    Rejecting  epoch based on EEG : ['F7', 'FT9', 'FC5', 'C3', 'T7', 'FT10']\n",
      "    Rejecting  epoch based on EEG : ['F7', 'FT9', 'FC5', 'C3', 'T7']\n",
      "    Rejecting  epoch based on EEG : ['FC5']\n",
      "    Rejecting  epoch based on EEG : ['FT9', 'FC5', 'FT10']\n",
      "    Rejecting  epoch based on EEG : ['FT9', 'FC5', 'FT10']\n",
      "    Rejecting  epoch based on EEG : ['O1', 'Oz']\n",
      "    Rejecting  epoch based on EEG : ['O1', 'Oz']\n",
      "    Rejecting  epoch based on EEG : ['FT10']\n",
      "    Rejecting  epoch based on EEG : ['FT9']\n",
      "    Rejecting  epoch based on EEG : ['FT9', 'FC5']\n",
      "    Rejecting  epoch based on EEG : ['FT9']\n",
      "    Rejecting  epoch based on EEG : ['FT9']\n",
      "    Rejecting  epoch based on EEG : ['FT9']\n",
      "    Rejecting  epoch based on EEG : ['FC5', 'FT10', 'FC6']\n",
      "    Rejecting  epoch based on EEG : ['FC5', 'FT10', 'FC6']\n",
      "    Rejecting  epoch based on EEG : ['FT9', 'T7', 'CP5', 'P4', 'P8', 'CP6', 'CP2', 'T8']\n",
      "    Rejecting  epoch based on EEG : ['FT9', 'T7', 'CP5', 'P4', 'P8', 'CP6', 'CP2', 'T8']\n",
      "    Rejecting  epoch based on EEG : ['FT10']\n",
      "    Rejecting  epoch based on EEG : ['Fz', 'T7', 'FT10', 'F4']\n",
      "    Rejecting  epoch based on EEG : ['Fz', 'T7', 'FT10', 'F4']\n",
      "    Rejecting  epoch based on EEG : ['FT10']\n",
      "    Rejecting  epoch based on EEG : ['FT10']\n",
      "    Rejecting  epoch based on EEG : ['FT9', 'FC5']\n",
      "    Rejecting  epoch based on EEG : ['FT9', 'FC5', 'C3', 'T7', 'FT10']\n",
      "    Rejecting  epoch based on EEG : ['FT9', 'FC5', 'C3', 'T7', 'FT10', 'FC6']\n",
      "    Rejecting  epoch based on EEG : ['Fz', 'F3', 'F7', 'FT9', 'FC5', 'FC1', 'C3', 'T7', 'CP5', 'CP1', 'Pz', 'P3', 'P7', 'O1', 'Oz', 'O2', 'P4', 'P8', 'TP10', 'CP6', 'CP2', 'Cz', 'C4', 'T8', 'FT10', 'FC6', 'FC2', 'F4', 'F8', 'TP9']\n",
      "    Rejecting  epoch based on EEG : ['Fz', 'F3', 'F7', 'FT9', 'FC5', 'FC1', 'C3', 'T7', 'CP5', 'CP1', 'Pz', 'P3', 'P7', 'O1', 'Oz', 'O2', 'P4', 'P8', 'TP10', 'CP6', 'CP2', 'Cz', 'C4', 'T8', 'FT10', 'FC6', 'FC2', 'F4', 'F8', 'TP9']\n",
      "    Rejecting  epoch based on EEG : ['FT9']\n",
      "    Rejecting  epoch based on EEG : ['FC6']\n",
      "    Rejecting  epoch based on EEG : ['FC6']\n",
      "    Rejecting  epoch based on EEG : ['FC6']\n",
      "    Rejecting  epoch based on EEG : ['FC6']\n",
      "    Rejecting  epoch based on EEG : ['FT10', 'FC6']\n",
      "    Rejecting  epoch based on EEG : ['FT10', 'FC6']\n",
      "    Rejecting  epoch based on EEG : ['FT9']\n",
      "    Rejecting  epoch based on EEG : ['FT9']\n",
      "    Rejecting  epoch based on EEG : ['FT9', 'FC5', 'C3', 'FT10', 'FC6']\n",
      "    Rejecting  epoch based on EEG : ['FT9', 'FC5', 'C3', 'FT10', 'FC6']\n",
      "    Rejecting  epoch based on EEG : ['FT9', 'FC5']\n",
      "    Rejecting  epoch based on EEG : ['F7', 'FT9', 'FC5', 'C3', 'T7', 'CP5', 'FT10', 'FC6']\n",
      "    Rejecting  epoch based on EEG : ['FT9', 'FC5', 'C3', 'FT10', 'FC6']\n",
      "    Rejecting  epoch based on EEG : ['FT9', 'FC5', 'FT10', 'FC6']\n",
      "    Rejecting  epoch based on EEG : ['FT9', 'FC5', 'FT10', 'FC6']\n",
      "    Rejecting  epoch based on EEG : ['FT10']\n",
      "    Rejecting  epoch based on EEG : ['T8', 'FT10', 'FC6', 'F8']\n",
      "    Rejecting  epoch based on EEG : ['T8', 'FT10', 'FC6', 'F8']\n",
      "    Rejecting  epoch based on EEG : ['FT10']\n",
      "78 bad epochs dropped\n"
     ]
    },
    {
     "name": "stderr",
     "output_type": "stream",
     "text": [
      "[Parallel(n_jobs=1)]: Done  17 tasks      | elapsed:    3.0s\n",
      "[Parallel(n_jobs=1)]: Done  17 tasks      | elapsed:    0.5s\n",
      "[Parallel(n_jobs=1)]: Done  17 tasks      | elapsed:    2.3s\n",
      "[Parallel(n_jobs=1)]: Done  17 tasks      | elapsed:    0.4s\n"
     ]
    },
    {
     "name": "stdout",
     "output_type": "stream",
     "text": [
      "Opening raw data file /Users/chaohan/Library/CloudStorage/OneDrive-UniversityofToronto/Projects/Yas accent/data_preprocessed/3_ica/Yas_123_corr_prep_ica.fif...\n"
     ]
    },
    {
     "name": "stderr",
     "output_type": "stream",
     "text": [
      "/var/folders/j8/8nyf6njj5nzfjcv6s23y3nn40000gn/T/ipykernel_37645/644758328.py:15: RuntimeWarning: This filename (/Users/chaohan/Library/CloudStorage/OneDrive-UniversityofToronto/Projects/Yas accent/data_preprocessed/3_ica/Yas_123_corr_prep_ica.fif) does not conform to MNE naming conventions. All raw files should end with raw.fif, raw_sss.fif, raw_tsss.fif, _meg.fif, _eeg.fif, _ieeg.fif, raw.fif.gz, raw_sss.fif.gz, raw_tsss.fif.gz, _meg.fif.gz, _eeg.fif.gz or _ieeg.fif.gz\n",
      "  raw = mne.io.read_raw_fif(input_dir + file, preload = True)\n"
     ]
    },
    {
     "name": "stdout",
     "output_type": "stream",
     "text": [
      "    Range : 10532 ... 877296 =     42.128 ...  3509.184 secs\n",
      "Ready.\n",
      "Reading 0 ... 866764  =      0.000 ...  3467.056 secs...\n",
      "EEG channel type selected for re-referencing\n",
      "Applying a custom ('EEG',) reference.\n",
      "Not setting metadata\n",
      "1729 matching events found\n",
      "No baseline correction applied\n",
      "0 projection items activated\n",
      "Using data from preloaded Raw for 1729 events and 751 original time points ...\n",
      "    Rejecting  epoch based on EEG : ['CP5', 'CP6']\n",
      "    Rejecting  epoch based on EEG : ['CP5', 'CP6']\n",
      "    Rejecting  epoch based on EEG : ['CP6', 'T8', 'F8']\n",
      "    Rejecting  epoch based on EEG : ['CP6', 'T8', 'F8']\n",
      "    Rejecting  epoch based on EEG : ['P7']\n",
      "    Rejecting  epoch based on EEG : ['CP5']\n",
      "    Rejecting  epoch based on EEG : ['CP5']\n",
      "    Rejecting  epoch based on EEG : ['P7']\n",
      "    Rejecting  epoch based on EEG : ['P7']\n",
      "    Rejecting  epoch based on EEG : ['CP5']\n",
      "    Rejecting  epoch based on EEG : ['CP5']\n",
      "    Rejecting  epoch based on EEG : ['P7']\n",
      "    Rejecting  epoch based on EEG : ['C3', 'CP5']\n",
      "    Rejecting  epoch based on EEG : ['C3', 'CP5']\n",
      "    Rejecting  epoch based on EEG : ['CP5']\n",
      "15 bad epochs dropped\n"
     ]
    },
    {
     "name": "stderr",
     "output_type": "stream",
     "text": [
      "[Parallel(n_jobs=1)]: Done  17 tasks      | elapsed:    2.4s\n",
      "[Parallel(n_jobs=1)]: Done  17 tasks      | elapsed:    0.4s\n",
      "[Parallel(n_jobs=1)]: Done  17 tasks      | elapsed:    2.4s\n",
      "[Parallel(n_jobs=1)]: Done  17 tasks      | elapsed:    0.4s\n"
     ]
    },
    {
     "name": "stdout",
     "output_type": "stream",
     "text": [
      "Opening raw data file /Users/chaohan/Library/CloudStorage/OneDrive-UniversityofToronto/Projects/Yas accent/data_preprocessed/3_ica/Yas_226_corr_prep_ica.fif...\n",
      "    Range : 308 ... 857123 =      1.232 ...  3428.492 secs\n",
      "Ready.\n",
      "Reading 0 ... 856815  =      0.000 ...  3427.260 secs...\n"
     ]
    },
    {
     "name": "stderr",
     "output_type": "stream",
     "text": [
      "/var/folders/j8/8nyf6njj5nzfjcv6s23y3nn40000gn/T/ipykernel_37645/644758328.py:15: RuntimeWarning: This filename (/Users/chaohan/Library/CloudStorage/OneDrive-UniversityofToronto/Projects/Yas accent/data_preprocessed/3_ica/Yas_226_corr_prep_ica.fif) does not conform to MNE naming conventions. All raw files should end with raw.fif, raw_sss.fif, raw_tsss.fif, _meg.fif, _eeg.fif, _ieeg.fif, raw.fif.gz, raw_sss.fif.gz, raw_tsss.fif.gz, _meg.fif.gz, _eeg.fif.gz or _ieeg.fif.gz\n",
      "  raw = mne.io.read_raw_fif(input_dir + file, preload = True)\n"
     ]
    },
    {
     "name": "stdout",
     "output_type": "stream",
     "text": [
      "EEG channel type selected for re-referencing\n",
      "Applying a custom ('EEG',) reference.\n",
      "Not setting metadata\n",
      "1717 matching events found\n",
      "No baseline correction applied\n",
      "0 projection items activated\n",
      "Using data from preloaded Raw for 1717 events and 751 original time points ...\n",
      "    Rejecting  epoch based on EEG : ['FC6']\n",
      "    Rejecting  epoch based on EEG : ['FC6']\n",
      "2 bad epochs dropped\n"
     ]
    },
    {
     "name": "stderr",
     "output_type": "stream",
     "text": [
      "[Parallel(n_jobs=1)]: Done  17 tasks      | elapsed:    2.5s\n",
      "[Parallel(n_jobs=1)]: Done  17 tasks      | elapsed:    0.5s\n",
      "[Parallel(n_jobs=1)]: Done  17 tasks      | elapsed:    2.9s\n",
      "[Parallel(n_jobs=1)]: Done  17 tasks      | elapsed:    0.5s\n"
     ]
    },
    {
     "name": "stdout",
     "output_type": "stream",
     "text": [
      "Opening raw data file /Users/chaohan/Library/CloudStorage/OneDrive-UniversityofToronto/Projects/Yas accent/data_preprocessed/3_ica/Yas_171_corr_prep_ica.fif...\n",
      "    Range : 3969 ... 955332 =     15.876 ...  3821.328 secs\n",
      "Ready.\n",
      "Reading 0 ... 951363  =      0.000 ...  3805.452 secs...\n"
     ]
    },
    {
     "name": "stderr",
     "output_type": "stream",
     "text": [
      "/var/folders/j8/8nyf6njj5nzfjcv6s23y3nn40000gn/T/ipykernel_37645/644758328.py:15: RuntimeWarning: This filename (/Users/chaohan/Library/CloudStorage/OneDrive-UniversityofToronto/Projects/Yas accent/data_preprocessed/3_ica/Yas_171_corr_prep_ica.fif) does not conform to MNE naming conventions. All raw files should end with raw.fif, raw_sss.fif, raw_tsss.fif, _meg.fif, _eeg.fif, _ieeg.fif, raw.fif.gz, raw_sss.fif.gz, raw_tsss.fif.gz, _meg.fif.gz, _eeg.fif.gz or _ieeg.fif.gz\n",
      "  raw = mne.io.read_raw_fif(input_dir + file, preload = True)\n"
     ]
    },
    {
     "name": "stdout",
     "output_type": "stream",
     "text": [
      "EEG channel type selected for re-referencing\n",
      "Applying a custom ('EEG',) reference.\n",
      "Not setting metadata\n",
      "1660 matching events found\n",
      "No baseline correction applied\n",
      "0 projection items activated\n",
      "Using data from preloaded Raw for 1660 events and 751 original time points ...\n",
      "    Rejecting  epoch based on EEG : ['FC1', 'C3', 'T7', 'FC2']\n",
      "    Rejecting  epoch based on EEG : ['C3', 'T7']\n",
      "    Rejecting  epoch based on EEG : ['F3', 'F7', 'FC5', 'FC1', 'C3', 'T7', 'CP5', 'CP1', 'P3', 'CP6', 'C4', 'FC6']\n",
      "    Rejecting  epoch based on EEG : ['F3', 'F7', 'FC5', 'FC1', 'C3', 'T7', 'CP5', 'CP1', 'P3', 'CP6', 'C4', 'FC6']\n",
      "    Rejecting  epoch based on EEG : ['C3']\n",
      "    Rejecting  epoch based on EEG : ['F7']\n",
      "    Rejecting  epoch based on EEG : ['F7']\n",
      "    Rejecting  epoch based on EEG : ['C3']\n",
      "    Rejecting  epoch based on EEG : ['P4', 'CP6', 'CP2', 'C4', 'T8', 'FC6', 'FC2']\n",
      "    Rejecting  epoch based on EEG : ['O2']\n",
      "    Rejecting  epoch based on EEG : ['O2']\n",
      "    Rejecting  epoch based on EEG : ['C3']\n",
      "    Rejecting  epoch based on EEG : ['FC1', 'C3', 'T7', 'CP5', 'CP1']\n",
      "    Rejecting  epoch based on EEG : ['FC1', 'C3', 'T7', 'CP5', 'CP1']\n",
      "    Rejecting  epoch based on EEG : ['C3']\n",
      "    Rejecting  epoch based on EEG : ['C3']\n",
      "16 bad epochs dropped\n"
     ]
    },
    {
     "name": "stderr",
     "output_type": "stream",
     "text": [
      "[Parallel(n_jobs=1)]: Done  17 tasks      | elapsed:    2.9s\n",
      "[Parallel(n_jobs=1)]: Done  17 tasks      | elapsed:    0.4s\n",
      "[Parallel(n_jobs=1)]: Done  17 tasks      | elapsed:    2.1s\n",
      "[Parallel(n_jobs=1)]: Done  17 tasks      | elapsed:    0.5s\n"
     ]
    },
    {
     "name": "stdout",
     "output_type": "stream",
     "text": [
      "Opening raw data file /Users/chaohan/Library/CloudStorage/OneDrive-UniversityofToronto/Projects/Yas accent/data_preprocessed/3_ica/Yas_189_corr_prep_ica.fif...\n",
      "    Range : 1250 ... 882803 =      5.000 ...  3531.212 secs\n",
      "Ready.\n",
      "Reading 0 ... 881553  =      0.000 ...  3526.212 secs...\n"
     ]
    },
    {
     "name": "stderr",
     "output_type": "stream",
     "text": [
      "/var/folders/j8/8nyf6njj5nzfjcv6s23y3nn40000gn/T/ipykernel_37645/644758328.py:15: RuntimeWarning: This filename (/Users/chaohan/Library/CloudStorage/OneDrive-UniversityofToronto/Projects/Yas accent/data_preprocessed/3_ica/Yas_189_corr_prep_ica.fif) does not conform to MNE naming conventions. All raw files should end with raw.fif, raw_sss.fif, raw_tsss.fif, _meg.fif, _eeg.fif, _ieeg.fif, raw.fif.gz, raw_sss.fif.gz, raw_tsss.fif.gz, _meg.fif.gz, _eeg.fif.gz or _ieeg.fif.gz\n",
      "  raw = mne.io.read_raw_fif(input_dir + file, preload = True)\n"
     ]
    },
    {
     "name": "stdout",
     "output_type": "stream",
     "text": [
      "EEG channel type selected for re-referencing\n",
      "Applying a custom ('EEG',) reference.\n",
      "Not setting metadata\n",
      "1675 matching events found\n",
      "No baseline correction applied\n",
      "0 projection items activated\n",
      "Using data from preloaded Raw for 1675 events and 751 original time points ...\n",
      "    Rejecting  epoch based on EEG : ['FT9', 'FC5', 'T7', 'P8', 'CP6', 'C4']\n",
      "    Rejecting  epoch based on EEG : ['FT9', 'FC5', 'T7', 'P8', 'CP6', 'C4']\n",
      "    Rejecting  epoch based on EEG : ['FT9']\n",
      "    Rejecting  epoch based on EEG : ['P8', 'CP6', 'C4', 'F4', 'F8']\n",
      "    Rejecting  epoch based on EEG : ['P8', 'CP6', 'C4', 'F4', 'F8']\n",
      "    Rejecting  epoch based on EEG : ['C4']\n",
      "    Rejecting  epoch based on EEG : ['F4']\n",
      "    Rejecting  epoch based on EEG : ['O1', 'F4']\n",
      "    Rejecting  epoch based on EEG : ['O1']\n",
      "    Rejecting  epoch based on EEG : ['F4']\n",
      "    Rejecting  epoch based on EEG : ['F4']\n",
      "    Rejecting  epoch based on EEG : ['C4']\n",
      "12 bad epochs dropped\n"
     ]
    },
    {
     "name": "stderr",
     "output_type": "stream",
     "text": [
      "[Parallel(n_jobs=1)]: Done  17 tasks      | elapsed:    2.9s\n",
      "[Parallel(n_jobs=1)]: Done  17 tasks      | elapsed:    0.6s\n",
      "[Parallel(n_jobs=1)]: Done  17 tasks      | elapsed:    2.1s\n",
      "[Parallel(n_jobs=1)]: Done  17 tasks      | elapsed:    0.4s\n"
     ]
    },
    {
     "name": "stdout",
     "output_type": "stream",
     "text": [
      "Opening raw data file /Users/chaohan/Library/CloudStorage/OneDrive-UniversityofToronto/Projects/Yas accent/data_preprocessed/3_ica/Yas_240_corr_prep_ica.fif...\n",
      "    Range : 0 ... 854273 =      0.000 ...  3417.092 secs\n",
      "Ready.\n",
      "Reading 0 ... 854273  =      0.000 ...  3417.092 secs...\n"
     ]
    },
    {
     "name": "stderr",
     "output_type": "stream",
     "text": [
      "/var/folders/j8/8nyf6njj5nzfjcv6s23y3nn40000gn/T/ipykernel_37645/644758328.py:15: RuntimeWarning: This filename (/Users/chaohan/Library/CloudStorage/OneDrive-UniversityofToronto/Projects/Yas accent/data_preprocessed/3_ica/Yas_240_corr_prep_ica.fif) does not conform to MNE naming conventions. All raw files should end with raw.fif, raw_sss.fif, raw_tsss.fif, _meg.fif, _eeg.fif, _ieeg.fif, raw.fif.gz, raw_sss.fif.gz, raw_tsss.fif.gz, _meg.fif.gz, _eeg.fif.gz or _ieeg.fif.gz\n",
      "  raw = mne.io.read_raw_fif(input_dir + file, preload = True)\n"
     ]
    },
    {
     "name": "stdout",
     "output_type": "stream",
     "text": [
      "EEG channel type selected for re-referencing\n",
      "Applying a custom ('EEG',) reference.\n",
      "Not setting metadata\n",
      "1710 matching events found\n",
      "No baseline correction applied\n",
      "0 projection items activated\n",
      "Using data from preloaded Raw for 1710 events and 751 original time points ...\n",
      "    Rejecting  epoch based on EEG : ['T7', 'T8', 'FC6']\n",
      "    Rejecting  epoch based on EEG : ['T7', 'T8', 'FC6']\n",
      "    Rejecting  epoch based on EEG : ['T7']\n",
      "    Rejecting  epoch based on EEG : ['T7']\n",
      "    Rejecting  epoch based on EEG : ['T7', 'T8', 'FC6', 'F8']\n",
      "    Rejecting  epoch based on EEG : ['T7', 'T8', 'FC6', 'F8']\n",
      "    Rejecting  epoch based on EEG : ['T7']\n",
      "    Rejecting  epoch based on EEG : ['T7', 'FC6']\n",
      "    Rejecting  epoch based on EEG : ['T7', 'FC6']\n",
      "    Rejecting  epoch based on EEG : ['T7']\n",
      "    Rejecting  epoch based on EEG : ['T7']\n",
      "    Rejecting  epoch based on EEG : ['T7']\n",
      "    Rejecting  epoch based on EEG : ['T7']\n",
      "    Rejecting  epoch based on EEG : ['T7']\n",
      "    Rejecting  epoch based on EEG : ['FC6', 'F8']\n",
      "    Rejecting  epoch based on EEG : ['FC6', 'F8']\n",
      "    Rejecting  epoch based on EEG : ['FC6', 'F8']\n",
      "    Rejecting  epoch based on EEG : ['FC6', 'F8']\n",
      "    Rejecting  epoch based on EEG : ['FC6', 'F8']\n",
      "    Rejecting  epoch based on EEG : ['F8']\n",
      "    Rejecting  epoch based on EEG : ['F8']\n",
      "    Rejecting  epoch based on EEG : ['P7']\n",
      "22 bad epochs dropped\n"
     ]
    },
    {
     "name": "stderr",
     "output_type": "stream",
     "text": [
      "[Parallel(n_jobs=1)]: Done  17 tasks      | elapsed:    2.9s\n",
      "[Parallel(n_jobs=1)]: Done  17 tasks      | elapsed:    0.7s\n",
      "[Parallel(n_jobs=1)]: Done  17 tasks      | elapsed:    4.1s\n",
      "[Parallel(n_jobs=1)]: Done  17 tasks      | elapsed:    0.6s\n"
     ]
    },
    {
     "name": "stdout",
     "output_type": "stream",
     "text": [
      "Opening raw data file /Users/chaohan/Library/CloudStorage/OneDrive-UniversityofToronto/Projects/Yas accent/data_preprocessed/3_ica/Yas_117_corr_prep_ica.fif...\n"
     ]
    },
    {
     "name": "stderr",
     "output_type": "stream",
     "text": [
      "/var/folders/j8/8nyf6njj5nzfjcv6s23y3nn40000gn/T/ipykernel_37645/644758328.py:15: RuntimeWarning: This filename (/Users/chaohan/Library/CloudStorage/OneDrive-UniversityofToronto/Projects/Yas accent/data_preprocessed/3_ica/Yas_117_corr_prep_ica.fif) does not conform to MNE naming conventions. All raw files should end with raw.fif, raw_sss.fif, raw_tsss.fif, _meg.fif, _eeg.fif, _ieeg.fif, raw.fif.gz, raw_sss.fif.gz, raw_tsss.fif.gz, _meg.fif.gz, _eeg.fif.gz or _ieeg.fif.gz\n",
      "  raw = mne.io.read_raw_fif(input_dir + file, preload = True)\n"
     ]
    },
    {
     "name": "stdout",
     "output_type": "stream",
     "text": [
      "    Range : 25997 ... 883708 =    103.988 ...  3534.832 secs\n",
      "Ready.\n",
      "Reading 0 ... 857711  =      0.000 ...  3430.844 secs...\n",
      "EEG channel type selected for re-referencing\n",
      "Applying a custom ('EEG',) reference.\n",
      "Not setting metadata\n",
      "1697 matching events found\n",
      "No baseline correction applied\n",
      "0 projection items activated\n",
      "Using data from preloaded Raw for 1697 events and 751 original time points ...\n",
      "    Rejecting  epoch based on EEG : ['CP6', 'T8']\n",
      "    Rejecting  epoch based on EEG : ['CP6', 'C4']\n",
      "    Rejecting  epoch based on EEG : ['CP6', 'C4']\n",
      "    Rejecting  epoch based on EEG : ['C4']\n",
      "    Rejecting  epoch based on EEG : ['C4']\n",
      "    Rejecting  epoch based on EEG : ['C4']\n",
      "    Rejecting  epoch based on EEG : ['P7']\n",
      "    Rejecting  epoch based on EEG : ['P7']\n",
      "    Rejecting  epoch based on EEG : ['P7']\n",
      "    Rejecting  epoch based on EEG : ['CP6']\n",
      "    Rejecting  epoch based on EEG : ['CP6']\n",
      "    Rejecting  epoch based on EEG : ['F3']\n",
      "    Rejecting  epoch based on EEG : ['F3']\n",
      "    Rejecting  epoch based on EEG : ['F3']\n",
      "14 bad epochs dropped\n"
     ]
    },
    {
     "name": "stderr",
     "output_type": "stream",
     "text": [
      "[Parallel(n_jobs=1)]: Done  17 tasks      | elapsed:    2.9s\n",
      "[Parallel(n_jobs=1)]: Done  17 tasks      | elapsed:    0.6s\n",
      "[Parallel(n_jobs=1)]: Done  17 tasks      | elapsed:    2.6s\n",
      "[Parallel(n_jobs=1)]: Done  17 tasks      | elapsed:    0.4s\n"
     ]
    },
    {
     "name": "stdout",
     "output_type": "stream",
     "text": [
      "Opening raw data file /Users/chaohan/Library/CloudStorage/OneDrive-UniversityofToronto/Projects/Yas accent/data_preprocessed/3_ica/Yas_143_corr_prep_ica.fif...\n",
      "    Range : 1584 ... 847337 =      6.336 ...  3389.348 secs\n",
      "Ready.\n",
      "Reading 0 ... 845753  =      0.000 ...  3383.012 secs...\n"
     ]
    },
    {
     "name": "stderr",
     "output_type": "stream",
     "text": [
      "/var/folders/j8/8nyf6njj5nzfjcv6s23y3nn40000gn/T/ipykernel_37645/644758328.py:15: RuntimeWarning: This filename (/Users/chaohan/Library/CloudStorage/OneDrive-UniversityofToronto/Projects/Yas accent/data_preprocessed/3_ica/Yas_143_corr_prep_ica.fif) does not conform to MNE naming conventions. All raw files should end with raw.fif, raw_sss.fif, raw_tsss.fif, _meg.fif, _eeg.fif, _ieeg.fif, raw.fif.gz, raw_sss.fif.gz, raw_tsss.fif.gz, _meg.fif.gz, _eeg.fif.gz or _ieeg.fif.gz\n",
      "  raw = mne.io.read_raw_fif(input_dir + file, preload = True)\n"
     ]
    },
    {
     "name": "stdout",
     "output_type": "stream",
     "text": [
      "EEG channel type selected for re-referencing\n",
      "Applying a custom ('EEG',) reference.\n",
      "Not setting metadata\n",
      "1673 matching events found\n",
      "No baseline correction applied\n",
      "0 projection items activated\n",
      "Using data from preloaded Raw for 1673 events and 751 original time points ...\n",
      "    Rejecting  epoch based on EEG : ['FC6']\n",
      "    Rejecting  epoch based on EEG : ['C3', 'T7', 'CP5']\n",
      "    Rejecting  epoch based on EEG : ['C3', 'T7', 'CP5']\n",
      "    Rejecting  epoch based on EEG : ['T7']\n",
      "    Rejecting  epoch based on EEG : ['O2']\n",
      "    Rejecting  epoch based on EEG : ['Fz', 'F3', 'F7', 'FC5', 'FC1', 'C3', 'T7', 'CP1', 'Pz', 'P3', 'O1', 'Oz', 'O2', 'P4', 'FT10', 'FC6', 'F8']\n",
      "    Rejecting  epoch based on EEG : ['Fz', 'F3', 'F7', 'FT9', 'FC5', 'FC1', 'C3', 'T7', 'CP5', 'CP1', 'Pz', 'P3', 'P7', 'O1', 'Oz', 'O2', 'P4', 'P8', 'TP10', 'CP6', 'CP2', 'Cz', 'C4', 'T8', 'FT10', 'FC6', 'FC2', 'F4', 'F8', 'TP9']\n",
      "    Rejecting  epoch based on EEG : ['Fz', 'F3', 'F7', 'FT9', 'FC5', 'FC1', 'C3', 'T7', 'CP5', 'CP1', 'Pz', 'P3', 'P7', 'O1', 'Oz', 'O2', 'P4', 'P8', 'TP10', 'CP6', 'CP2', 'Cz', 'C4', 'T8', 'FT10', 'FC6', 'FC2', 'F4', 'F8', 'TP9']\n",
      "    Rejecting  epoch based on EEG : ['Fz', 'F3', 'F7', 'FT9', 'FC5', 'FC1', 'C3', 'T7', 'CP5', 'CP1', 'Pz', 'P3', 'P7', 'O1', 'Oz', 'O2', 'P4', 'P8', 'TP10', 'CP6', 'CP2', 'Cz', 'C4', 'T8', 'FT10', 'FC6', 'FC2', 'F4', 'F8', 'TP9']\n",
      "    Rejecting  epoch based on EEG : ['Fz', 'F3', 'F7', 'T7', 'O2', 'F4', 'F8']\n",
      "    Rejecting  epoch based on EEG : ['Fz', 'F3', 'F7', 'T7', 'O2', 'F4', 'F8']\n",
      "    Rejecting  epoch based on EEG : ['P8']\n",
      "    Rejecting  epoch based on EEG : ['T7', 'Oz']\n",
      "    Rejecting  epoch based on EEG : ['T7', 'Oz']\n",
      "    Rejecting  epoch based on EEG : ['O2']\n",
      "    Rejecting  epoch based on EEG : ['P8']\n",
      "    Rejecting  epoch based on EEG : ['P8', 'CP6', 'T8']\n",
      "    Rejecting  epoch based on EEG : ['P8', 'CP6', 'T8']\n",
      "    Rejecting  epoch based on EEG : ['FC6']\n",
      "19 bad epochs dropped\n"
     ]
    },
    {
     "name": "stderr",
     "output_type": "stream",
     "text": [
      "[Parallel(n_jobs=1)]: Done  17 tasks      | elapsed:    2.7s\n",
      "[Parallel(n_jobs=1)]: Done  17 tasks      | elapsed:    0.4s\n",
      "[Parallel(n_jobs=1)]: Done  17 tasks      | elapsed:    3.3s\n",
      "[Parallel(n_jobs=1)]: Done  17 tasks      | elapsed:    0.7s\n"
     ]
    },
    {
     "name": "stdout",
     "output_type": "stream",
     "text": [
      "Opening raw data file /Users/chaohan/Library/CloudStorage/OneDrive-UniversityofToronto/Projects/Yas accent/data_preprocessed/3_ica/Yas_214_corr_prep_ica.fif...\n",
      "    Range : 882 ... 880461 =      3.528 ...  3521.844 secs\n",
      "Ready.\n"
     ]
    },
    {
     "name": "stderr",
     "output_type": "stream",
     "text": [
      "/var/folders/j8/8nyf6njj5nzfjcv6s23y3nn40000gn/T/ipykernel_37645/644758328.py:15: RuntimeWarning: This filename (/Users/chaohan/Library/CloudStorage/OneDrive-UniversityofToronto/Projects/Yas accent/data_preprocessed/3_ica/Yas_214_corr_prep_ica.fif) does not conform to MNE naming conventions. All raw files should end with raw.fif, raw_sss.fif, raw_tsss.fif, _meg.fif, _eeg.fif, _ieeg.fif, raw.fif.gz, raw_sss.fif.gz, raw_tsss.fif.gz, _meg.fif.gz, _eeg.fif.gz or _ieeg.fif.gz\n",
      "  raw = mne.io.read_raw_fif(input_dir + file, preload = True)\n"
     ]
    },
    {
     "name": "stdout",
     "output_type": "stream",
     "text": [
      "Reading 0 ... 879579  =      0.000 ...  3518.316 secs...\n",
      "EEG channel type selected for re-referencing\n",
      "Applying a custom ('EEG',) reference.\n",
      "Not setting metadata\n",
      "1756 matching events found\n",
      "No baseline correction applied\n",
      "0 projection items activated\n",
      "Using data from preloaded Raw for 1756 events and 751 original time points ...\n",
      "    Rejecting  epoch based on EEG : ['T8']\n",
      "    Rejecting  epoch based on EEG : ['C4']\n",
      "    Rejecting  epoch based on EEG : ['C4']\n",
      "    Rejecting  epoch based on EEG : ['C3']\n",
      "    Rejecting  epoch based on EEG : ['C3']\n",
      "    Rejecting  epoch based on EEG : ['CP6', 'C4']\n",
      "    Rejecting  epoch based on EEG : ['C3', 'C4']\n",
      "    Rejecting  epoch based on EEG : ['C3', 'C4']\n",
      "    Rejecting  epoch based on EEG : ['C4']\n",
      "    Rejecting  epoch based on EEG : ['C4']\n",
      "    Rejecting  epoch based on EEG : ['C4']\n",
      "    Rejecting  epoch based on EEG : ['C4']\n",
      "    Rejecting  epoch based on EEG : ['C3']\n",
      "    Rejecting  epoch based on EEG : ['C3']\n",
      "14 bad epochs dropped\n"
     ]
    },
    {
     "name": "stderr",
     "output_type": "stream",
     "text": [
      "[Parallel(n_jobs=1)]: Done  17 tasks      | elapsed:    3.2s\n",
      "[Parallel(n_jobs=1)]: Done  17 tasks      | elapsed:    0.6s\n",
      "[Parallel(n_jobs=1)]: Done  17 tasks      | elapsed:    3.6s\n",
      "[Parallel(n_jobs=1)]: Done  17 tasks      | elapsed:    0.8s\n"
     ]
    },
    {
     "name": "stdout",
     "output_type": "stream",
     "text": [
      "Opening raw data file /Users/chaohan/Library/CloudStorage/OneDrive-UniversityofToronto/Projects/Yas accent/data_preprocessed/3_ica/Yas_125_corr_prep_ica.fif...\n"
     ]
    },
    {
     "name": "stderr",
     "output_type": "stream",
     "text": [
      "/var/folders/j8/8nyf6njj5nzfjcv6s23y3nn40000gn/T/ipykernel_37645/644758328.py:15: RuntimeWarning: This filename (/Users/chaohan/Library/CloudStorage/OneDrive-UniversityofToronto/Projects/Yas accent/data_preprocessed/3_ica/Yas_125_corr_prep_ica.fif) does not conform to MNE naming conventions. All raw files should end with raw.fif, raw_sss.fif, raw_tsss.fif, _meg.fif, _eeg.fif, _ieeg.fif, raw.fif.gz, raw_sss.fif.gz, raw_tsss.fif.gz, _meg.fif.gz, _eeg.fif.gz or _ieeg.fif.gz\n",
      "  raw = mne.io.read_raw_fif(input_dir + file, preload = True)\n"
     ]
    },
    {
     "name": "stdout",
     "output_type": "stream",
     "text": [
      "    Range : 13787 ... 862754 =     55.148 ...  3451.016 secs\n",
      "Ready.\n",
      "Reading 0 ... 848967  =      0.000 ...  3395.868 secs...\n",
      "EEG channel type selected for re-referencing\n",
      "Applying a custom ('EEG',) reference.\n",
      "Not setting metadata\n",
      "1680 matching events found\n",
      "No baseline correction applied\n",
      "0 projection items activated\n",
      "Using data from preloaded Raw for 1680 events and 751 original time points ...\n",
      "    Rejecting  epoch based on EEG : ['Fz', 'F3', 'F7', 'FT9', 'FC5', 'FC1', 'C3', 'T7', 'CP5', 'CP1', 'Pz', 'P3', 'P7', 'O1', 'Oz', 'O2', 'P4', 'TP10', 'CP6', 'CP2', 'Cz', 'C4', 'T8', 'FT10', 'FC6', 'FC2', 'F4', 'F8', 'TP9']\n",
      "    Rejecting  epoch based on EEG : ['F7', 'FT9', 'T7', 'P7', 'O1', 'Oz', 'CP6', 'C4', 'T8', 'FC6', 'F4', 'F8']\n",
      "    Rejecting  epoch based on EEG : ['F3', 'F7', 'FT9', 'FC5', 'T7', 'P3', 'P7', 'O1', 'Oz', 'O2', 'CP6', 'C4', 'T8', 'FC6', 'F4', 'F8']\n",
      "    Rejecting  epoch based on EEG : ['F3', 'F7', 'FT9', 'FC5', 'T7', 'P3', 'P7', 'O1', 'Oz', 'O2', 'CP6', 'C4', 'T8', 'FC6', 'F4', 'F8']\n",
      "    Rejecting  epoch based on EEG : ['Fz', 'F3', 'F7', 'FT9', 'FC5', 'FC1', 'C3', 'T7', 'CP5', 'CP1', 'Pz', 'P3', 'P7', 'O1', 'Oz', 'O2', 'P4', 'P8', 'TP10', 'CP6', 'CP2', 'Cz', 'C4', 'T8', 'FT10', 'FC6', 'FC2', 'F4', 'F8', 'TP9']\n",
      "    Rejecting  epoch based on EEG : ['Fz', 'F3', 'F7', 'FT9', 'FC5', 'FC1', 'C3', 'T7', 'CP5', 'CP1', 'Pz', 'P3', 'P7', 'O1', 'Oz', 'O2', 'C4', 'T8', 'FT10', 'FC6', 'FC2', 'F8']\n",
      "    Rejecting  epoch based on EEG : ['F7', 'FC5', 'C3']\n",
      "    Rejecting  epoch based on EEG : ['F7', 'FC5', 'C3']\n",
      "    Rejecting  epoch based on EEG : ['Fz', 'F3', 'F7', 'FT9', 'FC5', 'FC1', 'C3', 'T7', 'CP5', 'CP1', 'Pz', 'P3', 'P7', 'O1', 'Oz', 'O2', 'P4', 'TP10', 'CP6', 'CP2', 'Cz', 'C4', 'T8', 'FT10', 'FC6', 'FC2', 'F4', 'F8', 'TP9']\n",
      "    Rejecting  epoch based on EEG : ['Fz', 'F3', 'F7', 'FT9', 'FC5', 'FC1', 'C3', 'T7', 'CP5', 'CP1', 'Pz', 'P3', 'P7', 'O1', 'Oz', 'O2', 'P4', 'TP10', 'CP6', 'CP2', 'Cz', 'C4', 'T8', 'FT10', 'FC6', 'FC2', 'F4', 'F8', 'TP9']\n",
      "    Rejecting  epoch based on EEG : ['F7', 'FC5', 'C4', 'T8', 'FC6', 'F4', 'F8']\n",
      "    Rejecting  epoch based on EEG : ['F7']\n",
      "    Rejecting  epoch based on EEG : ['F3', 'F7', 'FT9', 'FC5', 'T7', 'CP5', 'P3', 'P7', 'O1', 'Oz', 'O2', 'C4', 'T8', 'FC6', 'FC2', 'F4', 'F8']\n",
      "    Rejecting  epoch based on EEG : ['F3', 'F7', 'FT9', 'FC5', 'T7', 'CP5', 'P3', 'P7', 'O1', 'Oz', 'O2', 'C4', 'T8', 'FC6', 'FC2', 'F4', 'F8']\n",
      "    Rejecting  epoch based on EEG : ['C4', 'FC6']\n",
      "    Rejecting  epoch based on EEG : ['Fz', 'F3', 'F7', 'FT9', 'FC5', 'FC1', 'C3', 'T7', 'CP5', 'CP1', 'Pz', 'P3', 'P7', 'O1', 'Oz', 'O2', 'Cz', 'C4', 'T8', 'FT10', 'FC6', 'FC2', 'F4', 'F8']\n",
      "    Rejecting  epoch based on EEG : ['Fz', 'F3', 'F7', 'FT9', 'FC5', 'FC1', 'C3', 'T7', 'CP5', 'CP1', 'Pz', 'P3', 'P7', 'O1', 'Oz', 'O2', 'P4', 'TP10', 'CP6', 'CP2', 'Cz', 'C4', 'T8', 'FT10', 'FC6', 'FC2', 'F4', 'F8', 'TP9']\n",
      "    Rejecting  epoch based on EEG : ['Fz', 'F3', 'F7', 'FT9', 'FC5', 'FC1', 'C3', 'T7', 'CP5', 'CP1', 'Pz', 'P3', 'P7', 'O1', 'Oz', 'O2', 'P4', 'TP10', 'CP6', 'CP2', 'Cz', 'C4', 'T8', 'FT10', 'FC6', 'FC2', 'F4', 'F8', 'TP9']\n",
      "    Rejecting  epoch based on EEG : ['F3', 'F7', 'FT9', 'FC5', 'C3', 'T7', 'CP5', 'CP1', 'P3', 'P7', 'O1', 'Oz', 'O2', 'C4', 'FC6', 'F4']\n",
      "    Rejecting  epoch based on EEG : ['C4']\n",
      "    Rejecting  epoch based on EEG : ['C4', 'FC6']\n",
      "    Rejecting  epoch based on EEG : ['F7', 'FT9', 'T7', 'C4', 'FC6']\n",
      "    Rejecting  epoch based on EEG : ['Fz', 'F3', 'F7', 'FT9', 'FC5', 'FC1', 'C3', 'T7', 'CP5', 'CP1', 'P3', 'P7', 'O1', 'Oz', 'C4', 'FC6', 'FC2', 'F4', 'F8']\n",
      "    Rejecting  epoch based on EEG : ['F3', 'F7', 'FT9', 'FC5', 'C3', 'T7', 'CP5', 'P7', 'O1', 'Oz', 'O2', 'C4', 'T8', 'FT10', 'FC6', 'F4', 'F8']\n",
      "    Rejecting  epoch based on EEG : ['F3', 'F7', 'FT9', 'FC5', 'C3', 'T7', 'CP5', 'P7', 'O1', 'Oz', 'O2', 'C4', 'T8', 'FT10', 'FC6', 'F4', 'F8']\n",
      "    Rejecting  epoch based on EEG : ['F3', 'F7', 'FT9', 'FC5', 'C3', 'T7', 'C4', 'FT10', 'F8']\n",
      "    Rejecting  epoch based on EEG : ['F3', 'F7', 'FT9', 'FC5', 'C3', 'T7', 'CP5', 'FT10', 'F8']\n",
      "    Rejecting  epoch based on EEG : ['F3', 'F7', 'FT9', 'FC5', 'C3', 'T7', 'CP5', 'P7', 'O2', 'FT10', 'F8']\n",
      "    Rejecting  epoch based on EEG : ['Fz', 'F3', 'F7', 'FT9', 'FC5', 'FC1', 'C3', 'T7', 'CP5', 'CP1', 'Pz', 'P3', 'P7', 'O1', 'Oz', 'O2', 'Cz', 'C4', 'FT10', 'FC6', 'FC2', 'F4', 'F8']\n",
      "    Rejecting  epoch based on EEG : ['Fz', 'F3', 'F7', 'FT9', 'FC5', 'FC1', 'C3', 'T7', 'CP5', 'CP1', 'Pz', 'P3', 'P7', 'O1', 'Oz', 'O2', 'CP6', 'CP2', 'Cz', 'C4', 'FC6', 'FC2', 'F4', 'F8']\n",
      "    Rejecting  epoch based on EEG : ['Fz', 'F3', 'F7', 'FT9', 'FC5', 'FC1', 'C3', 'T7', 'CP5', 'CP1', 'Pz', 'P3', 'P7', 'O1', 'Oz', 'CP2', 'Cz', 'C4', 'FC6', 'FC2', 'F4', 'F8']\n",
      "    Rejecting  epoch based on EEG : ['F7']\n",
      "    Rejecting  epoch based on EEG : ['F3', 'F7', 'FT9', 'FC5', 'C3', 'CP5', 'P7', 'O1', 'FT10', 'F8']\n",
      "    Rejecting  epoch based on EEG : ['Fz', 'F3', 'F7', 'FT9', 'FC5', 'FC1', 'C3', 'T7', 'CP5', 'CP1', 'Pz', 'P3', 'P7', 'O1', 'Oz', 'O2', 'CP6', 'CP2', 'Cz', 'C4', 'T8', 'FT10', 'FC6', 'FC2', 'F4', 'F8']\n",
      "    Rejecting  epoch based on EEG : ['Fz', 'F3', 'F7', 'FT9', 'FC5', 'FC1', 'C3', 'T7', 'CP5', 'CP1', 'Pz', 'P3', 'P7', 'O1', 'Oz', 'O2', 'CP6', 'CP2', 'Cz', 'C4', 'T8', 'FT10', 'FC6', 'FC2', 'F4', 'F8']\n",
      "    Rejecting  epoch based on EEG : ['FT9', 'C4', 'T8', 'FC6', 'F4', 'F8']\n",
      "    Rejecting  epoch based on EEG : ['FT9', 'O2', 'C4', 'T8', 'FC6', 'F4', 'F8']\n",
      "    Rejecting  epoch based on EEG : ['C4', 'FC6']\n",
      "    Rejecting  epoch based on EEG : ['C4', 'FC6', 'F4']\n",
      "    Rejecting  epoch based on EEG : ['C4', 'FC6', 'F4']\n",
      "    Rejecting  epoch based on EEG : ['C4', 'FC6']\n",
      "    Rejecting  epoch based on EEG : ['Fz', 'F3', 'F7', 'FT9', 'FC5', 'FC1', 'C3', 'T7', 'CP5', 'CP1', 'Pz', 'P3', 'P7', 'O1', 'Oz', 'O2', 'CP6', 'CP2', 'Cz', 'C4', 'T8', 'FC6', 'FC2', 'F4', 'F8']\n",
      "    Rejecting  epoch based on EEG : ['Fz', 'F3', 'F7', 'FT9', 'FC5', 'FC1', 'C3', 'T7', 'CP5', 'CP1', 'Pz', 'P3', 'P7', 'O1', 'Oz', 'O2', 'CP6', 'CP2', 'Cz', 'C4', 'T8', 'FC6', 'FC2', 'F4', 'F8']\n",
      "    Rejecting  epoch based on EEG : ['F7', 'FT9', 'T7', 'CP5', 'P3', 'P7', 'O1', 'Oz', 'C4', 'FC6']\n",
      "    Rejecting  epoch based on EEG : ['F7']\n",
      "    Rejecting  epoch based on EEG : ['F7']\n",
      "46 bad epochs dropped\n"
     ]
    },
    {
     "name": "stderr",
     "output_type": "stream",
     "text": [
      "[Parallel(n_jobs=1)]: Done  17 tasks      | elapsed:    4.5s\n",
      "[Parallel(n_jobs=1)]: Done  17 tasks      | elapsed:    0.8s\n",
      "[Parallel(n_jobs=1)]: Done  17 tasks      | elapsed:    4.2s\n",
      "[Parallel(n_jobs=1)]: Done  17 tasks      | elapsed:    0.9s\n"
     ]
    },
    {
     "name": "stdout",
     "output_type": "stream",
     "text": [
      "Opening raw data file /Users/chaohan/Library/CloudStorage/OneDrive-UniversityofToronto/Projects/Yas accent/data_preprocessed/3_ica/Yas_177_corr_prep_ica.fif...\n"
     ]
    },
    {
     "name": "stderr",
     "output_type": "stream",
     "text": [
      "/var/folders/j8/8nyf6njj5nzfjcv6s23y3nn40000gn/T/ipykernel_37645/644758328.py:15: RuntimeWarning: This filename (/Users/chaohan/Library/CloudStorage/OneDrive-UniversityofToronto/Projects/Yas accent/data_preprocessed/3_ica/Yas_177_corr_prep_ica.fif) does not conform to MNE naming conventions. All raw files should end with raw.fif, raw_sss.fif, raw_tsss.fif, _meg.fif, _eeg.fif, _ieeg.fif, raw.fif.gz, raw_sss.fif.gz, raw_tsss.fif.gz, _meg.fif.gz, _eeg.fif.gz or _ieeg.fif.gz\n",
      "  raw = mne.io.read_raw_fif(input_dir + file, preload = True)\n"
     ]
    },
    {
     "name": "stdout",
     "output_type": "stream",
     "text": [
      "    Range : 0 ... 966937 =      0.000 ...  3867.748 secs\n",
      "Ready.\n",
      "Reading 0 ... 966937  =      0.000 ...  3867.748 secs...\n",
      "EEG channel type selected for re-referencing\n",
      "Applying a custom ('EEG',) reference.\n",
      "Not setting metadata\n",
      "1740 matching events found\n",
      "No baseline correction applied\n",
      "0 projection items activated\n",
      "Using data from preloaded Raw for 1740 events and 751 original time points ...\n",
      "    Rejecting  epoch based on EEG : ['C4']\n",
      "    Rejecting  epoch based on EEG : ['C4']\n",
      "    Rejecting  epoch based on EEG : ['C3', 'C4']\n",
      "    Rejecting  epoch based on EEG : ['C3', 'C4']\n",
      "    Rejecting  epoch based on EEG : ['C4']\n",
      "    Rejecting  epoch based on EEG : ['C4']\n",
      "    Rejecting  epoch based on EEG : ['C4']\n",
      "    Rejecting  epoch based on EEG : ['C4']\n",
      "    Rejecting  epoch based on EEG : ['C4']\n",
      "    Rejecting  epoch based on EEG : ['C4']\n",
      "    Rejecting  epoch based on EEG : ['C4']\n",
      "    Rejecting  epoch based on EEG : ['C4']\n",
      "    Rejecting  epoch based on EEG : ['C4']\n",
      "    Rejecting  epoch based on EEG : ['F3', 'C3', 'C4']\n",
      "14 bad epochs dropped\n"
     ]
    },
    {
     "name": "stderr",
     "output_type": "stream",
     "text": [
      "[Parallel(n_jobs=1)]: Done  17 tasks      | elapsed:    3.5s\n",
      "[Parallel(n_jobs=1)]: Done  17 tasks      | elapsed:    0.6s\n",
      "[Parallel(n_jobs=1)]: Done  17 tasks      | elapsed:    4.0s\n",
      "[Parallel(n_jobs=1)]: Done  17 tasks      | elapsed:    0.9s\n"
     ]
    },
    {
     "name": "stdout",
     "output_type": "stream",
     "text": [
      "Opening raw data file /Users/chaohan/Library/CloudStorage/OneDrive-UniversityofToronto/Projects/Yas accent/data_preprocessed/3_ica/Yas_139_corr_prep_ica.fif...\n",
      "    Range : 0 ... 863079 =      0.000 ...  3452.316 secs\n",
      "Ready.\n"
     ]
    },
    {
     "name": "stderr",
     "output_type": "stream",
     "text": [
      "/var/folders/j8/8nyf6njj5nzfjcv6s23y3nn40000gn/T/ipykernel_37645/644758328.py:15: RuntimeWarning: This filename (/Users/chaohan/Library/CloudStorage/OneDrive-UniversityofToronto/Projects/Yas accent/data_preprocessed/3_ica/Yas_139_corr_prep_ica.fif) does not conform to MNE naming conventions. All raw files should end with raw.fif, raw_sss.fif, raw_tsss.fif, _meg.fif, _eeg.fif, _ieeg.fif, raw.fif.gz, raw_sss.fif.gz, raw_tsss.fif.gz, _meg.fif.gz, _eeg.fif.gz or _ieeg.fif.gz\n",
      "  raw = mne.io.read_raw_fif(input_dir + file, preload = True)\n"
     ]
    },
    {
     "name": "stdout",
     "output_type": "stream",
     "text": [
      "Reading 0 ... 863079  =      0.000 ...  3452.316 secs...\n",
      "EEG channel type selected for re-referencing\n",
      "Applying a custom ('EEG',) reference.\n",
      "Not setting metadata\n",
      "1714 matching events found\n",
      "No baseline correction applied\n",
      "0 projection items activated\n",
      "Using data from preloaded Raw for 1714 events and 751 original time points ...\n",
      "    Rejecting  epoch based on EEG : ['T8', 'FT10']\n",
      "    Rejecting  epoch based on EEG : ['FT10']\n",
      "    Rejecting  epoch based on EEG : ['T8', 'FT10']\n",
      "    Rejecting  epoch based on EEG : ['T8', 'FT10']\n",
      "    Rejecting  epoch based on EEG : ['FT10']\n",
      "    Rejecting  epoch based on EEG : ['FT10']\n",
      "6 bad epochs dropped\n"
     ]
    },
    {
     "name": "stderr",
     "output_type": "stream",
     "text": [
      "[Parallel(n_jobs=1)]: Done  17 tasks      | elapsed:    4.0s\n",
      "[Parallel(n_jobs=1)]: Done  17 tasks      | elapsed:    0.5s\n",
      "[Parallel(n_jobs=1)]: Done  17 tasks      | elapsed:    3.3s\n",
      "[Parallel(n_jobs=1)]: Done  17 tasks      | elapsed:    0.7s\n"
     ]
    },
    {
     "name": "stdout",
     "output_type": "stream",
     "text": [
      "Opening raw data file /Users/chaohan/Library/CloudStorage/OneDrive-UniversityofToronto/Projects/Yas accent/data_preprocessed/3_ica/Yas_220_corr_prep_ica.fif...\n"
     ]
    },
    {
     "name": "stderr",
     "output_type": "stream",
     "text": [
      "/var/folders/j8/8nyf6njj5nzfjcv6s23y3nn40000gn/T/ipykernel_37645/644758328.py:15: RuntimeWarning: This filename (/Users/chaohan/Library/CloudStorage/OneDrive-UniversityofToronto/Projects/Yas accent/data_preprocessed/3_ica/Yas_220_corr_prep_ica.fif) does not conform to MNE naming conventions. All raw files should end with raw.fif, raw_sss.fif, raw_tsss.fif, _meg.fif, _eeg.fif, _ieeg.fif, raw.fif.gz, raw_sss.fif.gz, raw_tsss.fif.gz, _meg.fif.gz, _eeg.fif.gz or _ieeg.fif.gz\n",
      "  raw = mne.io.read_raw_fif(input_dir + file, preload = True)\n"
     ]
    },
    {
     "name": "stdout",
     "output_type": "stream",
     "text": [
      "    Range : 8 ... 851074 =      0.032 ...  3404.296 secs\n",
      "Ready.\n",
      "Reading 0 ... 851066  =      0.000 ...  3404.264 secs...\n",
      "EEG channel type selected for re-referencing\n",
      "Applying a custom ('EEG',) reference.\n",
      "Not setting metadata\n",
      "1698 matching events found\n",
      "No baseline correction applied\n",
      "0 projection items activated\n",
      "Using data from preloaded Raw for 1698 events and 751 original time points ...\n",
      "    Rejecting  epoch based on EEG : ['CP5']\n",
      "    Rejecting  epoch based on EEG : ['CP5']\n",
      "    Rejecting  epoch based on EEG : ['FC5', 'C3', 'CP5', 'CP6']\n",
      "    Rejecting  epoch based on EEG : ['FC5', 'C3', 'T7', 'CP5', 'P3', 'P7', 'CP6']\n",
      "    Rejecting  epoch based on EEG : ['FC5', 'C3', 'T7', 'CP5', 'P3', 'P7']\n",
      "    Rejecting  epoch based on EEG : ['CP5', 'CP6', 'FC6']\n",
      "    Rejecting  epoch based on EEG : ['CP5']\n",
      "    Rejecting  epoch based on EEG : ['CP5', 'CP6', 'T8', 'FC6']\n",
      "    Rejecting  epoch based on EEG : ['CP6', 'T8', 'FC6']\n",
      "    Rejecting  epoch based on EEG : ['FC5', 'C3', 'T8', 'FC6']\n",
      "    Rejecting  epoch based on EEG : ['FC5', 'C3', 'T7', 'CP6', 'C4', 'T8', 'FT10', 'FC6']\n",
      "    Rejecting  epoch based on EEG : ['FT9', 'FC5', 'C3', 'T7', 'CP5', 'P3', 'P7', 'P4', 'CP6', 'C4', 'T8', 'FT10', 'FC6']\n",
      "    Rejecting  epoch based on EEG : ['FT9', 'T7', 'CP5', 'P3', 'P7', 'CP6']\n",
      "    Rejecting  epoch based on EEG : ['FC6']\n",
      "    Rejecting  epoch based on EEG : ['FC6']\n",
      "    Rejecting  epoch based on EEG : ['FC6']\n",
      "    Rejecting  epoch based on EEG : ['CP5']\n",
      "    Rejecting  epoch based on EEG : ['CP5']\n",
      "    Rejecting  epoch based on EEG : ['C3']\n",
      "    Rejecting  epoch based on EEG : ['FC5', 'C3', 'CP5', 'FC6']\n",
      "    Rejecting  epoch based on EEG : ['Fz', 'F3', 'F7', 'FT9', 'FC5', 'FC1', 'C3', 'T7', 'CP5', 'CP1', 'Pz', 'P3', 'P7', 'O1', 'Oz', 'O2', 'P4', 'P8', 'TP10', 'CP6', 'CP2', 'Cz', 'C4', 'T8', 'FT10', 'FC6', 'FC2', 'F4', 'F8', 'TP9']\n",
      "    Rejecting  epoch based on EEG : ['Fz', 'F3', 'F7', 'FT9', 'FC5', 'FC1', 'C3', 'T7', 'CP5', 'CP1', 'Pz', 'P3', 'P7', 'O1', 'Oz', 'O2', 'P4', 'P8', 'TP10', 'CP6', 'CP2', 'Cz', 'C4', 'T8', 'FT10', 'FC6', 'FC2', 'F4', 'F8', 'TP9']\n",
      "    Rejecting  epoch based on EEG : ['F3', 'F7', 'FT9', 'FC5', 'FC1', 'C3', 'T7', 'CP5', 'CP1', 'Pz', 'P3', 'P7', 'O1', 'Oz', 'O2', 'P4', 'P8', 'TP10', 'CP6', 'CP2', 'Cz', 'C4', 'T8', 'FC6', 'FC2', 'F4', 'F8', 'TP9']\n",
      "    Rejecting  epoch based on EEG : ['FC5']\n",
      "    Rejecting  epoch based on EEG : ['CP5', 'P3', 'P7', 'P4', 'P8', 'CP6']\n",
      "    Rejecting  epoch based on EEG : ['FT9', 'FC5', 'FC1', 'C3', 'T7', 'CP5', 'CP1', 'Pz', 'P3', 'P7', 'O1', 'Oz', 'O2', 'P4', 'P8', 'CP6', 'CP2', 'Cz', 'C4', 'FC6', 'FC2']\n",
      "    Rejecting  epoch based on EEG : ['FT9', 'FC5', 'FC1', 'C3', 'T7', 'CP5', 'CP1', 'Pz', 'P3', 'P7', 'O1', 'Oz', 'O2', 'P4', 'P8', 'TP10', 'CP6', 'CP2', 'Cz', 'C4', 'T8', 'FC6', 'FC2', 'F8', 'TP9']\n",
      "    Rejecting  epoch based on EEG : ['P7']\n",
      "28 bad epochs dropped\n"
     ]
    },
    {
     "name": "stderr",
     "output_type": "stream",
     "text": [
      "[Parallel(n_jobs=1)]: Done  17 tasks      | elapsed:    3.9s\n",
      "[Parallel(n_jobs=1)]: Done  17 tasks      | elapsed:    0.7s\n",
      "[Parallel(n_jobs=1)]: Done  17 tasks      | elapsed:    3.8s\n",
      "[Parallel(n_jobs=1)]: Done  17 tasks      | elapsed:    0.6s\n"
     ]
    },
    {
     "name": "stdout",
     "output_type": "stream",
     "text": [
      "Opening raw data file /Users/chaohan/Library/CloudStorage/OneDrive-UniversityofToronto/Projects/Yas accent/data_preprocessed/3_ica/Yas_208_corr_prep_ica.fif...\n",
      "    Range : 4234 ... 928781 =     16.936 ...  3715.124 secs\n",
      "Ready.\n",
      "Reading 0 ... 924547  =      0.000 ...  3698.188 secs...\n"
     ]
    },
    {
     "name": "stderr",
     "output_type": "stream",
     "text": [
      "/var/folders/j8/8nyf6njj5nzfjcv6s23y3nn40000gn/T/ipykernel_37645/644758328.py:15: RuntimeWarning: This filename (/Users/chaohan/Library/CloudStorage/OneDrive-UniversityofToronto/Projects/Yas accent/data_preprocessed/3_ica/Yas_208_corr_prep_ica.fif) does not conform to MNE naming conventions. All raw files should end with raw.fif, raw_sss.fif, raw_tsss.fif, _meg.fif, _eeg.fif, _ieeg.fif, raw.fif.gz, raw_sss.fif.gz, raw_tsss.fif.gz, _meg.fif.gz, _eeg.fif.gz or _ieeg.fif.gz\n",
      "  raw = mne.io.read_raw_fif(input_dir + file, preload = True)\n"
     ]
    },
    {
     "name": "stdout",
     "output_type": "stream",
     "text": [
      "EEG channel type selected for re-referencing\n",
      "Applying a custom ('EEG',) reference.\n",
      "Not setting metadata\n",
      "1704 matching events found\n",
      "No baseline correction applied\n",
      "0 projection items activated\n",
      "Using data from preloaded Raw for 1704 events and 751 original time points ...\n",
      "    Rejecting  epoch based on EEG : ['CP1']\n",
      "    Rejecting  epoch based on EEG : ['CP1']\n",
      "    Rejecting  epoch based on EEG : ['F7', 'FC5']\n",
      "    Rejecting  epoch based on EEG : ['C4']\n",
      "    Rejecting  epoch based on EEG : ['C4']\n",
      "    Rejecting  epoch based on EEG : ['Fz', 'F3', 'F7', 'FT9', 'FC5', 'FC1', 'C3', 'T7', 'CP6', 'CP2', 'Cz', 'C4', 'FT10', 'FC2', 'F4', 'F8']\n",
      "    Rejecting  epoch based on EEG : ['Fz', 'F3', 'F7', 'FT9', 'FC5', 'FC1', 'C3', 'T7', 'CP6', 'CP2', 'Cz', 'C4', 'FT10', 'FC2', 'F4', 'F8']\n",
      "    Rejecting  epoch based on EEG : ['FC1', 'C4', 'FC2']\n",
      "    Rejecting  epoch based on EEG : ['Fz', 'F7', 'FC5', 'FC1', 'CP2', 'Cz', 'C4', 'T8', 'FT10', 'FC2', 'F8']\n",
      "    Rejecting  epoch based on EEG : ['Fz', 'F7', 'FC5', 'FC1', 'CP2', 'Cz', 'C4', 'T8', 'FT10', 'FC2', 'F8']\n",
      "    Rejecting  epoch based on EEG : ['F7', 'FT9', 'FC5', 'FC1', 'T7']\n",
      "    Rejecting  epoch based on EEG : ['Fz', 'CP2', 'C4', 'FC2', 'F8']\n",
      "    Rejecting  epoch based on EEG : ['Fz', 'CP2', 'C4', 'FC2', 'F4', 'F8']\n",
      "    Rejecting  epoch based on EEG : ['FC1']\n",
      "    Rejecting  epoch based on EEG : ['FC1']\n",
      "    Rejecting  epoch based on EEG : ['F3', 'F7', 'FT9', 'FC5', 'FC1', 'T7']\n",
      "    Rejecting  epoch based on EEG : ['C4', 'FC2']\n",
      "    Rejecting  epoch based on EEG : ['C4', 'FC2']\n",
      "    Rejecting  epoch based on EEG : ['Fz', 'F7', 'FT9', 'FC5', 'FC1', 'CP2', 'Cz', 'C4', 'FT10', 'FC2', 'F8']\n",
      "    Rejecting  epoch based on EEG : ['Fz', 'F7', 'FT9', 'FC5', 'FC1', 'CP2', 'Cz', 'C4', 'FT10', 'FC2', 'F8']\n",
      "    Rejecting  epoch based on EEG : ['Fz', 'F7', 'FT9', 'FC5', 'FC1', 'C4', 'FC2']\n",
      "    Rejecting  epoch based on EEG : ['Fz', 'F7', 'FT9', 'FC5', 'FC1', 'C4', 'FC2']\n",
      "    Rejecting  epoch based on EEG : ['Fz', 'F3']\n",
      "    Rejecting  epoch based on EEG : ['Fz', 'F3', 'FC2', 'F4']\n",
      "    Rejecting  epoch based on EEG : ['Fz', 'FC5', 'C4', 'FC2']\n",
      "    Rejecting  epoch based on EEG : ['Fz', 'FC5', 'C4', 'FC2']\n",
      "    Rejecting  epoch based on EEG : ['Fz', 'F3', 'F7', 'FT9', 'FC5', 'FC1', 'T7', 'FC2']\n",
      "    Rejecting  epoch based on EEG : ['Fz', 'F3', 'F7', 'FT9', 'FC5', 'FC1', 'T7', 'FC2']\n",
      "    Rejecting  epoch based on EEG : ['F3', 'F7', 'FT9', 'FC5', 'FC1', 'T7']\n",
      "    Rejecting  epoch based on EEG : ['C4', 'FC2']\n",
      "    Rejecting  epoch based on EEG : ['Fz', 'F7', 'FT9', 'FC5', 'FC1', 'T7', 'C4', 'FC2']\n",
      "    Rejecting  epoch based on EEG : ['Fz', 'F7', 'FT9', 'FC5', 'FC1', 'T7', 'C4', 'FC2']\n",
      "    Rejecting  epoch based on EEG : ['Fz', 'F7', 'FT9', 'FC5', 'FC1', 'C4', 'FC2']\n",
      "    Rejecting  epoch based on EEG : ['Fz', 'F7', 'FT9', 'FC5', 'FC1', 'C4', 'FC2']\n",
      "34 bad epochs dropped\n"
     ]
    },
    {
     "name": "stderr",
     "output_type": "stream",
     "text": [
      "[Parallel(n_jobs=1)]: Done  17 tasks      | elapsed:    3.4s\n",
      "[Parallel(n_jobs=1)]: Done  17 tasks      | elapsed:    0.6s\n",
      "[Parallel(n_jobs=1)]: Done  17 tasks      | elapsed:    2.9s\n",
      "[Parallel(n_jobs=1)]: Done  17 tasks      | elapsed:    0.5s\n"
     ]
    },
    {
     "name": "stdout",
     "output_type": "stream",
     "text": [
      "Opening raw data file /Users/chaohan/Library/CloudStorage/OneDrive-UniversityofToronto/Projects/Yas accent/data_preprocessed/3_ica/Yas_246_corr_prep_ica.fif...\n",
      "    Range : 10 ... 835319 =      0.040 ...  3341.276 secs\n",
      "Ready.\n",
      "Reading 0 ... 835309  =      0.000 ...  3341.236 secs...\n"
     ]
    },
    {
     "name": "stderr",
     "output_type": "stream",
     "text": [
      "/var/folders/j8/8nyf6njj5nzfjcv6s23y3nn40000gn/T/ipykernel_37645/644758328.py:15: RuntimeWarning: This filename (/Users/chaohan/Library/CloudStorage/OneDrive-UniversityofToronto/Projects/Yas accent/data_preprocessed/3_ica/Yas_246_corr_prep_ica.fif) does not conform to MNE naming conventions. All raw files should end with raw.fif, raw_sss.fif, raw_tsss.fif, _meg.fif, _eeg.fif, _ieeg.fif, raw.fif.gz, raw_sss.fif.gz, raw_tsss.fif.gz, _meg.fif.gz, _eeg.fif.gz or _ieeg.fif.gz\n",
      "  raw = mne.io.read_raw_fif(input_dir + file, preload = True)\n"
     ]
    },
    {
     "name": "stdout",
     "output_type": "stream",
     "text": [
      "EEG channel type selected for re-referencing\n",
      "Applying a custom ('EEG',) reference.\n",
      "Not setting metadata\n",
      "1638 matching events found\n",
      "No baseline correction applied\n",
      "0 projection items activated\n",
      "Using data from preloaded Raw for 1638 events and 751 original time points ...\n",
      "    Rejecting  epoch based on EEG : ['FT9']\n",
      "1 bad epochs dropped\n"
     ]
    },
    {
     "name": "stderr",
     "output_type": "stream",
     "text": [
      "[Parallel(n_jobs=1)]: Done  17 tasks      | elapsed:    3.2s\n",
      "[Parallel(n_jobs=1)]: Done  17 tasks      | elapsed:    0.6s\n",
      "[Parallel(n_jobs=1)]: Done  17 tasks      | elapsed:    2.7s\n",
      "[Parallel(n_jobs=1)]: Done  17 tasks      | elapsed:    0.5s\n"
     ]
    },
    {
     "name": "stdout",
     "output_type": "stream",
     "text": [
      "Opening raw data file /Users/chaohan/Library/CloudStorage/OneDrive-UniversityofToronto/Projects/Yas accent/data_preprocessed/3_ica/Yas_146_corr_prep_ica.fif...\n"
     ]
    },
    {
     "name": "stderr",
     "output_type": "stream",
     "text": [
      "/var/folders/j8/8nyf6njj5nzfjcv6s23y3nn40000gn/T/ipykernel_37645/644758328.py:15: RuntimeWarning: This filename (/Users/chaohan/Library/CloudStorage/OneDrive-UniversityofToronto/Projects/Yas accent/data_preprocessed/3_ica/Yas_146_corr_prep_ica.fif) does not conform to MNE naming conventions. All raw files should end with raw.fif, raw_sss.fif, raw_tsss.fif, _meg.fif, _eeg.fif, _ieeg.fif, raw.fif.gz, raw_sss.fif.gz, raw_tsss.fif.gz, _meg.fif.gz, _eeg.fif.gz or _ieeg.fif.gz\n",
      "  raw = mne.io.read_raw_fif(input_dir + file, preload = True)\n"
     ]
    },
    {
     "name": "stdout",
     "output_type": "stream",
     "text": [
      "    Range : 25285 ... 1006216 =    101.140 ...  4024.864 secs\n",
      "Ready.\n",
      "Reading 0 ... 980931  =      0.000 ...  3923.724 secs...\n",
      "EEG channel type selected for re-referencing\n",
      "Applying a custom ('EEG',) reference.\n",
      "Not setting metadata\n",
      "1731 matching events found\n",
      "No baseline correction applied\n",
      "0 projection items activated\n",
      "Using data from preloaded Raw for 1731 events and 751 original time points ...\n",
      "    Rejecting  epoch based on EEG : ['CP5', 'F8']\n",
      "    Rejecting  epoch based on EEG : ['CP5', 'F8']\n",
      "    Rejecting  epoch based on EEG : ['CP5', 'F8']\n",
      "    Rejecting  epoch based on EEG : ['CP5', 'F8']\n",
      "    Rejecting  epoch based on EEG : ['CP5', 'F8']\n",
      "    Rejecting  epoch based on EEG : ['CP5', 'C4']\n",
      "    Rejecting  epoch based on EEG : ['CP5', 'C4']\n",
      "    Rejecting  epoch based on EEG : ['C4']\n",
      "    Rejecting  epoch based on EEG : ['C4']\n",
      "    Rejecting  epoch based on EEG : ['CP5', 'P8', 'C4', 'F8']\n",
      "    Rejecting  epoch based on EEG : ['CP5', 'C4', 'F8']\n",
      "    Rejecting  epoch based on EEG : ['F8']\n",
      "    Rejecting  epoch based on EEG : ['C4', 'F8']\n",
      "    Rejecting  epoch based on EEG : ['C4', 'F8']\n",
      "    Rejecting  epoch based on EEG : ['CP5', 'C4', 'F8']\n",
      "    Rejecting  epoch based on EEG : ['CP5', 'C4', 'F8']\n",
      "    Rejecting  epoch based on EEG : ['C4']\n",
      "    Rejecting  epoch based on EEG : ['CP5', 'P7', 'P8', 'C4', 'T8', 'FT10', 'F4', 'F8']\n",
      "    Rejecting  epoch based on EEG : ['CP5', 'P7', 'P8', 'C4', 'T8', 'FT10', 'F4', 'F8']\n",
      "    Rejecting  epoch based on EEG : ['C4', 'T8', 'F8']\n",
      "    Rejecting  epoch based on EEG : ['C4', 'T8', 'F8']\n",
      "    Rejecting  epoch based on EEG : ['T7', 'CP5', 'C4', 'F8']\n",
      "    Rejecting  epoch based on EEG : ['CP5', 'C4', 'T8']\n",
      "    Rejecting  epoch based on EEG : ['CP5', 'C4', 'T8']\n",
      "    Rejecting  epoch based on EEG : ['C4', 'F4', 'F8']\n",
      "    Rejecting  epoch based on EEG : ['C4', 'F4', 'F8']\n",
      "26 bad epochs dropped\n"
     ]
    },
    {
     "name": "stderr",
     "output_type": "stream",
     "text": [
      "[Parallel(n_jobs=1)]: Done  17 tasks      | elapsed:    3.5s\n",
      "[Parallel(n_jobs=1)]: Done  17 tasks      | elapsed:    0.6s\n",
      "[Parallel(n_jobs=1)]: Done  17 tasks      | elapsed:    3.4s\n",
      "[Parallel(n_jobs=1)]: Done  17 tasks      | elapsed:    0.5s\n"
     ]
    },
    {
     "name": "stdout",
     "output_type": "stream",
     "text": [
      "Opening raw data file /Users/chaohan/Library/CloudStorage/OneDrive-UniversityofToronto/Projects/Yas accent/data_preprocessed/3_ica/Yas_108_corr_prep_ica.fif...\n",
      "    Range : 4330 ... 851299 =     17.320 ...  3405.196 secs\n",
      "Ready.\n",
      "Reading 0 ... 846969  =      0.000 ...  3387.876 secs...\n"
     ]
    },
    {
     "name": "stderr",
     "output_type": "stream",
     "text": [
      "/var/folders/j8/8nyf6njj5nzfjcv6s23y3nn40000gn/T/ipykernel_37645/644758328.py:15: RuntimeWarning: This filename (/Users/chaohan/Library/CloudStorage/OneDrive-UniversityofToronto/Projects/Yas accent/data_preprocessed/3_ica/Yas_108_corr_prep_ica.fif) does not conform to MNE naming conventions. All raw files should end with raw.fif, raw_sss.fif, raw_tsss.fif, _meg.fif, _eeg.fif, _ieeg.fif, raw.fif.gz, raw_sss.fif.gz, raw_tsss.fif.gz, _meg.fif.gz, _eeg.fif.gz or _ieeg.fif.gz\n",
      "  raw = mne.io.read_raw_fif(input_dir + file, preload = True)\n"
     ]
    },
    {
     "name": "stdout",
     "output_type": "stream",
     "text": [
      "EEG channel type selected for re-referencing\n",
      "Applying a custom ('EEG',) reference.\n",
      "Not setting metadata\n",
      "1668 matching events found\n",
      "No baseline correction applied\n",
      "0 projection items activated\n",
      "Using data from preloaded Raw for 1668 events and 751 original time points ...\n",
      "    Rejecting  epoch based on EEG : ['FC5', 'C3']\n",
      "    Rejecting  epoch based on EEG : ['FC5', 'C3']\n",
      "    Rejecting  epoch based on EEG : ['F3', 'FC5', 'C3']\n",
      "    Rejecting  epoch based on EEG : ['F3', 'FC5', 'C3']\n",
      "    Rejecting  epoch based on EEG : ['F3', 'F7', 'FT9', 'FC5', 'C3', 'T7', 'P4', 'C4', 'FT10', 'FC6', 'F8']\n",
      "    Rejecting  epoch based on EEG : ['F3', 'F7', 'FT9', 'FC5', 'C3', 'T7', 'P4', 'C4', 'FT10', 'FC6', 'F8']\n",
      "    Rejecting  epoch based on EEG : ['F3', 'F7', 'FT9', 'FC5', 'C3', 'T7', 'P4', 'C4', 'FT10', 'FC6', 'F8']\n",
      "    Rejecting  epoch based on EEG : ['P4', 'C4', 'FC6']\n",
      "    Rejecting  epoch based on EEG : ['P4', 'C4', 'FC6']\n",
      "    Rejecting  epoch based on EEG : ['FC5', 'C3']\n",
      "    Rejecting  epoch based on EEG : ['FC5', 'C3']\n",
      "    Rejecting  epoch based on EEG : ['FC5', 'C3']\n",
      "    Rejecting  epoch based on EEG : ['FC5', 'C3', 'T7']\n",
      "    Rejecting  epoch based on EEG : ['F3', 'FC5', 'CP6', 'C4', 'FT10', 'FC6']\n",
      "    Rejecting  epoch based on EEG : ['FC5', 'C3']\n",
      "    Rejecting  epoch based on EEG : ['FC5', 'C3']\n",
      "    Rejecting  epoch based on EEG : ['FC5', 'C3']\n",
      "    Rejecting  epoch based on EEG : ['FC5', 'C3']\n",
      "    Rejecting  epoch based on EEG : ['C3']\n",
      "    Rejecting  epoch based on EEG : ['P4', 'C4', 'FT10', 'FC6']\n",
      "    Rejecting  epoch based on EEG : ['P4', 'C4', 'FT10', 'FC6']\n",
      "    Rejecting  epoch based on EEG : ['P4', 'CP6', 'C4', 'FT10', 'FC6']\n",
      "    Rejecting  epoch based on EEG : ['P4', 'CP6', 'C4', 'FT10', 'FC6']\n",
      "    Rejecting  epoch based on EEG : ['FC5', 'C3']\n",
      "    Rejecting  epoch based on EEG : ['F7', 'FT9', 'FC5', 'C3', 'O2', 'P4', 'P8', 'CP6', 'CP2', 'C4', 'FT10', 'FC6', 'FC2', 'F4', 'F8']\n",
      "    Rejecting  epoch based on EEG : ['F7', 'FT9', 'O2', 'P4', 'P8', 'CP6', 'CP2', 'C4', 'FT10', 'FC6', 'FC2', 'F4', 'F8']\n",
      "    Rejecting  epoch based on EEG : ['P4', 'C4', 'FC6']\n",
      "    Rejecting  epoch based on EEG : ['P4', 'C4', 'FC6']\n",
      "28 bad epochs dropped\n"
     ]
    },
    {
     "name": "stderr",
     "output_type": "stream",
     "text": [
      "[Parallel(n_jobs=1)]: Done  17 tasks      | elapsed:    3.0s\n",
      "[Parallel(n_jobs=1)]: Done  17 tasks      | elapsed:    0.5s\n",
      "[Parallel(n_jobs=1)]: Done  17 tasks      | elapsed:    2.0s\n",
      "[Parallel(n_jobs=1)]: Done  17 tasks      | elapsed:    0.4s\n"
     ]
    },
    {
     "name": "stdout",
     "output_type": "stream",
     "text": [
      "Opening raw data file /Users/chaohan/Library/CloudStorage/OneDrive-UniversityofToronto/Projects/Yas accent/data_preprocessed/3_ica/Yas_211_corr_prep_ica.fif...\n",
      "    Range : 6000 ... 860712 =     24.000 ...  3442.848 secs\n",
      "Ready.\n",
      "Reading 0 ... 854712  =      0.000 ...  3418.848 secs...\n"
     ]
    },
    {
     "name": "stderr",
     "output_type": "stream",
     "text": [
      "/var/folders/j8/8nyf6njj5nzfjcv6s23y3nn40000gn/T/ipykernel_37645/644758328.py:15: RuntimeWarning: This filename (/Users/chaohan/Library/CloudStorage/OneDrive-UniversityofToronto/Projects/Yas accent/data_preprocessed/3_ica/Yas_211_corr_prep_ica.fif) does not conform to MNE naming conventions. All raw files should end with raw.fif, raw_sss.fif, raw_tsss.fif, _meg.fif, _eeg.fif, _ieeg.fif, raw.fif.gz, raw_sss.fif.gz, raw_tsss.fif.gz, _meg.fif.gz, _eeg.fif.gz or _ieeg.fif.gz\n",
      "  raw = mne.io.read_raw_fif(input_dir + file, preload = True)\n"
     ]
    },
    {
     "name": "stdout",
     "output_type": "stream",
     "text": [
      "EEG channel type selected for re-referencing\n",
      "Applying a custom ('EEG',) reference.\n",
      "Not setting metadata\n",
      "1713 matching events found\n",
      "No baseline correction applied\n",
      "0 projection items activated\n",
      "Using data from preloaded Raw for 1713 events and 751 original time points ...\n",
      "    Rejecting  epoch based on EEG : ['Fz', 'F3', 'F7', 'FT9', 'FC5', 'FC1', 'C3', 'T7', 'CP5', 'CP1', 'Pz', 'P3', 'P7', 'O1', 'Oz', 'O2', 'P4', 'P8', 'TP10', 'CP6', 'CP2', 'Cz', 'C4', 'T8', 'FT10', 'FC6', 'FC2', 'F4', 'TP9']\n",
      "    Rejecting  epoch based on EEG : ['Fz', 'F3', 'F7', 'FT9', 'FC5', 'FC1', 'C3', 'T7', 'CP5', 'CP1', 'Pz', 'P3', 'P7', 'O1', 'Oz', 'O2', 'P4', 'P8', 'TP10', 'CP6', 'CP2', 'Cz', 'C4', 'T8', 'FT10', 'FC6', 'FC2', 'F4', 'TP9']\n",
      "    Rejecting  epoch based on EEG : ['Fz', 'F3', 'F7', 'FT9', 'FC5', 'FC1', 'C3', 'T7', 'CP5', 'CP1', 'Pz', 'P3', 'P7', 'O1', 'Oz', 'O2', 'P4', 'P8', 'TP10', 'CP6', 'CP2', 'Cz', 'C4', 'FT10', 'FC6', 'FC2', 'F4', 'TP9']\n",
      "    Rejecting  epoch based on EEG : ['C3']\n",
      "    Rejecting  epoch based on EEG : ['Oz', 'O2']\n",
      "5 bad epochs dropped\n"
     ]
    },
    {
     "name": "stderr",
     "output_type": "stream",
     "text": [
      "[Parallel(n_jobs=1)]: Done  17 tasks      | elapsed:    2.9s\n",
      "[Parallel(n_jobs=1)]: Done  17 tasks      | elapsed:    0.4s\n",
      "[Parallel(n_jobs=1)]: Done  17 tasks      | elapsed:    2.2s\n",
      "[Parallel(n_jobs=1)]: Done  17 tasks      | elapsed:    0.4s\n"
     ]
    },
    {
     "name": "stdout",
     "output_type": "stream",
     "text": [
      "Opening raw data file /Users/chaohan/Library/CloudStorage/OneDrive-UniversityofToronto/Projects/Yas accent/data_preprocessed/3_ica/Yas_196_corr_prep_ica.fif...\n",
      "    Range : 3994 ... 878931 =     15.976 ...  3515.724 secs\n",
      "Ready.\n",
      "Reading 0 ... 874937  =      0.000 ...  3499.748 secs...\n"
     ]
    },
    {
     "name": "stderr",
     "output_type": "stream",
     "text": [
      "/var/folders/j8/8nyf6njj5nzfjcv6s23y3nn40000gn/T/ipykernel_37645/644758328.py:15: RuntimeWarning: This filename (/Users/chaohan/Library/CloudStorage/OneDrive-UniversityofToronto/Projects/Yas accent/data_preprocessed/3_ica/Yas_196_corr_prep_ica.fif) does not conform to MNE naming conventions. All raw files should end with raw.fif, raw_sss.fif, raw_tsss.fif, _meg.fif, _eeg.fif, _ieeg.fif, raw.fif.gz, raw_sss.fif.gz, raw_tsss.fif.gz, _meg.fif.gz, _eeg.fif.gz or _ieeg.fif.gz\n",
      "  raw = mne.io.read_raw_fif(input_dir + file, preload = True)\n"
     ]
    },
    {
     "name": "stdout",
     "output_type": "stream",
     "text": [
      "EEG channel type selected for re-referencing\n",
      "Applying a custom ('EEG',) reference.\n",
      "Not setting metadata\n",
      "1667 matching events found\n",
      "No baseline correction applied\n",
      "0 projection items activated\n",
      "Using data from preloaded Raw for 1667 events and 751 original time points ...\n",
      "    Rejecting  epoch based on EEG : ['O2']\n",
      "    Rejecting  epoch based on EEG : ['O2']\n",
      "    Rejecting  epoch based on EEG : ['O2']\n",
      "    Rejecting  epoch based on EEG : ['O2']\n",
      "4 bad epochs dropped\n"
     ]
    },
    {
     "name": "stderr",
     "output_type": "stream",
     "text": [
      "[Parallel(n_jobs=1)]: Done  17 tasks      | elapsed:    3.1s\n",
      "[Parallel(n_jobs=1)]: Done  17 tasks      | elapsed:    0.5s\n",
      "[Parallel(n_jobs=1)]: Done  17 tasks      | elapsed:    2.4s\n",
      "[Parallel(n_jobs=1)]: Done  17 tasks      | elapsed:    0.4s\n"
     ]
    },
    {
     "name": "stdout",
     "output_type": "stream",
     "text": [
      "Opening raw data file /Users/chaohan/Library/CloudStorage/OneDrive-UniversityofToronto/Projects/Yas accent/data_preprocessed/3_ica/Yas_120_corr_prep_ica.fif...\n",
      "    Range : 15267 ... 885848 =     61.068 ...  3543.392 secs\n",
      "Ready.\n",
      "Reading 0 ... 870581  =      0.000 ...  3482.324 secs...\n"
     ]
    },
    {
     "name": "stderr",
     "output_type": "stream",
     "text": [
      "/var/folders/j8/8nyf6njj5nzfjcv6s23y3nn40000gn/T/ipykernel_37645/644758328.py:15: RuntimeWarning: This filename (/Users/chaohan/Library/CloudStorage/OneDrive-UniversityofToronto/Projects/Yas accent/data_preprocessed/3_ica/Yas_120_corr_prep_ica.fif) does not conform to MNE naming conventions. All raw files should end with raw.fif, raw_sss.fif, raw_tsss.fif, _meg.fif, _eeg.fif, _ieeg.fif, raw.fif.gz, raw_sss.fif.gz, raw_tsss.fif.gz, _meg.fif.gz, _eeg.fif.gz or _ieeg.fif.gz\n",
      "  raw = mne.io.read_raw_fif(input_dir + file, preload = True)\n"
     ]
    },
    {
     "name": "stdout",
     "output_type": "stream",
     "text": [
      "EEG channel type selected for re-referencing\n",
      "Applying a custom ('EEG',) reference.\n",
      "Not setting metadata\n",
      "1729 matching events found\n",
      "No baseline correction applied\n",
      "0 projection items activated\n",
      "Using data from preloaded Raw for 1729 events and 751 original time points ...\n",
      "    Rejecting  epoch based on EEG : ['Oz']\n",
      "    Rejecting  epoch based on EEG : ['Oz']\n",
      "    Rejecting  epoch based on EEG : ['Oz']\n",
      "    Rejecting  epoch based on EEG : ['Oz']\n",
      "    Rejecting  epoch based on EEG : ['Oz']\n",
      "    Rejecting  epoch based on EEG : ['Oz']\n",
      "6 bad epochs dropped\n"
     ]
    },
    {
     "name": "stderr",
     "output_type": "stream",
     "text": [
      "[Parallel(n_jobs=1)]: Done  17 tasks      | elapsed:    2.8s\n",
      "[Parallel(n_jobs=1)]: Done  17 tasks      | elapsed:    0.4s\n",
      "[Parallel(n_jobs=1)]: Done  17 tasks      | elapsed:    3.0s\n",
      "[Parallel(n_jobs=1)]: Done  17 tasks      | elapsed:    0.5s\n"
     ]
    },
    {
     "name": "stdout",
     "output_type": "stream",
     "text": [
      "Opening raw data file /Users/chaohan/Library/CloudStorage/OneDrive-UniversityofToronto/Projects/Yas accent/data_preprocessed/3_ica/Yas_239_corr_prep_ica.fif...\n"
     ]
    },
    {
     "name": "stderr",
     "output_type": "stream",
     "text": [
      "/var/folders/j8/8nyf6njj5nzfjcv6s23y3nn40000gn/T/ipykernel_37645/644758328.py:15: RuntimeWarning: This filename (/Users/chaohan/Library/CloudStorage/OneDrive-UniversityofToronto/Projects/Yas accent/data_preprocessed/3_ica/Yas_239_corr_prep_ica.fif) does not conform to MNE naming conventions. All raw files should end with raw.fif, raw_sss.fif, raw_tsss.fif, _meg.fif, _eeg.fif, _ieeg.fif, raw.fif.gz, raw_sss.fif.gz, raw_tsss.fif.gz, _meg.fif.gz, _eeg.fif.gz or _ieeg.fif.gz\n",
      "  raw = mne.io.read_raw_fif(input_dir + file, preload = True)\n"
     ]
    },
    {
     "name": "stdout",
     "output_type": "stream",
     "text": [
      "    Range : 144 ... 923825 =      0.576 ...  3695.300 secs\n",
      "Ready.\n",
      "Reading 0 ... 923681  =      0.000 ...  3694.724 secs...\n",
      "EEG channel type selected for re-referencing\n",
      "Applying a custom ('EEG',) reference.\n",
      "Not setting metadata\n",
      "1690 matching events found\n",
      "No baseline correction applied\n",
      "0 projection items activated\n",
      "Using data from preloaded Raw for 1690 events and 751 original time points ...\n",
      "0 bad epochs dropped\n"
     ]
    },
    {
     "name": "stderr",
     "output_type": "stream",
     "text": [
      "[Parallel(n_jobs=1)]: Done  17 tasks      | elapsed:    2.9s\n",
      "[Parallel(n_jobs=1)]: Done  17 tasks      | elapsed:    0.4s\n",
      "[Parallel(n_jobs=1)]: Done  17 tasks      | elapsed:    2.3s\n",
      "[Parallel(n_jobs=1)]: Done  17 tasks      | elapsed:    0.4s\n"
     ]
    },
    {
     "name": "stdout",
     "output_type": "stream",
     "text": [
      "Opening raw data file /Users/chaohan/Library/CloudStorage/OneDrive-UniversityofToronto/Projects/Yas accent/data_preprocessed/3_ica/Yas_172_corr_prep_ica.fif...\n",
      "    Range : 3838 ... 860230 =     15.352 ...  3440.920 secs\n",
      "Ready.\n",
      "Reading 0 ... 856392  =      0.000 ...  3425.568 secs...\n"
     ]
    },
    {
     "name": "stderr",
     "output_type": "stream",
     "text": [
      "/var/folders/j8/8nyf6njj5nzfjcv6s23y3nn40000gn/T/ipykernel_37645/644758328.py:15: RuntimeWarning: This filename (/Users/chaohan/Library/CloudStorage/OneDrive-UniversityofToronto/Projects/Yas accent/data_preprocessed/3_ica/Yas_172_corr_prep_ica.fif) does not conform to MNE naming conventions. All raw files should end with raw.fif, raw_sss.fif, raw_tsss.fif, _meg.fif, _eeg.fif, _ieeg.fif, raw.fif.gz, raw_sss.fif.gz, raw_tsss.fif.gz, _meg.fif.gz, _eeg.fif.gz or _ieeg.fif.gz\n",
      "  raw = mne.io.read_raw_fif(input_dir + file, preload = True)\n"
     ]
    },
    {
     "name": "stdout",
     "output_type": "stream",
     "text": [
      "EEG channel type selected for re-referencing\n",
      "Applying a custom ('EEG',) reference.\n",
      "Not setting metadata\n",
      "1658 matching events found\n",
      "No baseline correction applied\n",
      "0 projection items activated\n",
      "Using data from preloaded Raw for 1658 events and 751 original time points ...\n",
      "    Rejecting  epoch based on EEG : ['T8']\n",
      "    Rejecting  epoch based on EEG : ['T8']\n",
      "    Rejecting  epoch based on EEG : ['T8']\n",
      "    Rejecting  epoch based on EEG : ['T8']\n",
      "    Rejecting  epoch based on EEG : ['T8']\n",
      "    Rejecting  epoch based on EEG : ['T8']\n",
      "    Rejecting  epoch based on EEG : ['T8']\n",
      "    Rejecting  epoch based on EEG : ['FT9']\n",
      "    Rejecting  epoch based on EEG : ['FT9']\n",
      "    Rejecting  epoch based on EEG : ['T7', 'CP5', 'CP6', 'C4', 'T8']\n",
      "    Rejecting  epoch based on EEG : ['F7', 'FT9', 'FC5', 'C3', 'T7', 'CP5', 'P3', 'CP6', 'C4', 'T8', 'FT10']\n",
      "    Rejecting  epoch based on EEG : ['T8']\n",
      "12 bad epochs dropped\n"
     ]
    },
    {
     "name": "stderr",
     "output_type": "stream",
     "text": [
      "[Parallel(n_jobs=1)]: Done  17 tasks      | elapsed:    2.8s\n",
      "[Parallel(n_jobs=1)]: Done  17 tasks      | elapsed:    0.4s\n",
      "[Parallel(n_jobs=1)]: Done  17 tasks      | elapsed:    2.2s\n",
      "[Parallel(n_jobs=1)]: Done  17 tasks      | elapsed:    0.4s\n"
     ]
    },
    {
     "name": "stdout",
     "output_type": "stream",
     "text": [
      "Opening raw data file /Users/chaohan/Library/CloudStorage/OneDrive-UniversityofToronto/Projects/Yas accent/data_preprocessed/3_ica/Yas_225_corr_prep_ica.fif...\n",
      "    Range : 115 ... 849262 =      0.460 ...  3397.048 secs\n",
      "Ready.\n",
      "Reading 0 ... 849147  =      0.000 ...  3396.588 secs...\n"
     ]
    },
    {
     "name": "stderr",
     "output_type": "stream",
     "text": [
      "/var/folders/j8/8nyf6njj5nzfjcv6s23y3nn40000gn/T/ipykernel_37645/644758328.py:15: RuntimeWarning: This filename (/Users/chaohan/Library/CloudStorage/OneDrive-UniversityofToronto/Projects/Yas accent/data_preprocessed/3_ica/Yas_225_corr_prep_ica.fif) does not conform to MNE naming conventions. All raw files should end with raw.fif, raw_sss.fif, raw_tsss.fif, _meg.fif, _eeg.fif, _ieeg.fif, raw.fif.gz, raw_sss.fif.gz, raw_tsss.fif.gz, _meg.fif.gz, _eeg.fif.gz or _ieeg.fif.gz\n",
      "  raw = mne.io.read_raw_fif(input_dir + file, preload = True)\n"
     ]
    },
    {
     "name": "stdout",
     "output_type": "stream",
     "text": [
      "EEG channel type selected for re-referencing\n",
      "Applying a custom ('EEG',) reference.\n",
      "Not setting metadata\n",
      "1644 matching events found\n",
      "No baseline correction applied\n",
      "0 projection items activated\n",
      "Using data from preloaded Raw for 1644 events and 751 original time points ...\n",
      "    Rejecting  epoch based on EEG : ['C4']\n",
      "    Rejecting  epoch based on EEG : ['C4']\n",
      "    Rejecting  epoch based on EEG : ['C4']\n",
      "    Rejecting  epoch based on EEG : ['C4']\n",
      "    Rejecting  epoch based on EEG : ['C4']\n",
      "    Rejecting  epoch based on EEG : ['C4']\n",
      "    Rejecting  epoch based on EEG : ['C4']\n",
      "    Rejecting  epoch based on EEG : ['C4', 'FC6']\n",
      "    Rejecting  epoch based on EEG : ['C4', 'FC6']\n",
      "    Rejecting  epoch based on EEG : ['C4']\n",
      "    Rejecting  epoch based on EEG : ['C4']\n",
      "    Rejecting  epoch based on EEG : ['C4']\n",
      "    Rejecting  epoch based on EEG : ['C4', 'FC6']\n",
      "    Rejecting  epoch based on EEG : ['Fz', 'C4']\n",
      "    Rejecting  epoch based on EEG : ['Fz', 'C4', 'F4']\n",
      "    Rejecting  epoch based on EEG : ['C4']\n",
      "    Rejecting  epoch based on EEG : ['C4']\n",
      "    Rejecting  epoch based on EEG : ['C4', 'FC6']\n",
      "    Rejecting  epoch based on EEG : ['C4', 'FC6']\n",
      "    Rejecting  epoch based on EEG : ['C4']\n",
      "    Rejecting  epoch based on EEG : ['C4']\n",
      "    Rejecting  epoch based on EEG : ['C4']\n",
      "22 bad epochs dropped\n"
     ]
    },
    {
     "name": "stderr",
     "output_type": "stream",
     "text": [
      "[Parallel(n_jobs=1)]: Done  17 tasks      | elapsed:    2.6s\n",
      "[Parallel(n_jobs=1)]: Done  17 tasks      | elapsed:    0.4s\n",
      "[Parallel(n_jobs=1)]: Done  17 tasks      | elapsed:    2.2s\n",
      "[Parallel(n_jobs=1)]: Done  17 tasks      | elapsed:    0.4s\n"
     ]
    },
    {
     "name": "stdout",
     "output_type": "stream",
     "text": [
      "Opening raw data file /Users/chaohan/Library/CloudStorage/OneDrive-UniversityofToronto/Projects/Yas accent/data_preprocessed/3_ica/Yas_114_corr_prep_ica.fif...\n",
      "    Range : 5383 ... 870724 =     21.532 ...  3482.896 secs\n",
      "Ready.\n",
      "Reading 0 ... 865341  =      0.000 ...  3461.364 secs...\n"
     ]
    },
    {
     "name": "stderr",
     "output_type": "stream",
     "text": [
      "/var/folders/j8/8nyf6njj5nzfjcv6s23y3nn40000gn/T/ipykernel_37645/644758328.py:15: RuntimeWarning: This filename (/Users/chaohan/Library/CloudStorage/OneDrive-UniversityofToronto/Projects/Yas accent/data_preprocessed/3_ica/Yas_114_corr_prep_ica.fif) does not conform to MNE naming conventions. All raw files should end with raw.fif, raw_sss.fif, raw_tsss.fif, _meg.fif, _eeg.fif, _ieeg.fif, raw.fif.gz, raw_sss.fif.gz, raw_tsss.fif.gz, _meg.fif.gz, _eeg.fif.gz or _ieeg.fif.gz\n",
      "  raw = mne.io.read_raw_fif(input_dir + file, preload = True)\n"
     ]
    },
    {
     "name": "stdout",
     "output_type": "stream",
     "text": [
      "EEG channel type selected for re-referencing\n",
      "Applying a custom ('EEG',) reference.\n",
      "Not setting metadata\n",
      "1725 matching events found\n",
      "No baseline correction applied\n",
      "0 projection items activated\n",
      "Using data from preloaded Raw for 1725 events and 751 original time points ...\n",
      "    Rejecting  epoch based on EEG : ['C4']\n",
      "    Rejecting  epoch based on EEG : ['C4']\n",
      "    Rejecting  epoch based on EEG : ['CP5', 'C4']\n",
      "    Rejecting  epoch based on EEG : ['CP5', 'C4']\n",
      "    Rejecting  epoch based on EEG : ['C4']\n",
      "    Rejecting  epoch based on EEG : ['CP5', 'C4']\n",
      "    Rejecting  epoch based on EEG : ['CP5']\n",
      "    Rejecting  epoch based on EEG : ['CP5']\n",
      "    Rejecting  epoch based on EEG : ['C4']\n",
      "    Rejecting  epoch based on EEG : ['C4']\n",
      "    Rejecting  epoch based on EEG : ['C4']\n",
      "    Rejecting  epoch based on EEG : ['C4']\n",
      "    Rejecting  epoch based on EEG : ['CP5']\n",
      "    Rejecting  epoch based on EEG : ['CP5']\n",
      "14 bad epochs dropped\n"
     ]
    },
    {
     "name": "stderr",
     "output_type": "stream",
     "text": [
      "[Parallel(n_jobs=1)]: Done  17 tasks      | elapsed:    2.9s\n",
      "[Parallel(n_jobs=1)]: Done  17 tasks      | elapsed:    0.5s\n",
      "[Parallel(n_jobs=1)]: Done  17 tasks      | elapsed:    2.7s\n",
      "[Parallel(n_jobs=1)]: Done  17 tasks      | elapsed:    0.5s\n"
     ]
    },
    {
     "name": "stdout",
     "output_type": "stream",
     "text": [
      "Opening raw data file /Users/chaohan/Library/CloudStorage/OneDrive-UniversityofToronto/Projects/Yas accent/data_preprocessed/3_ica/Yas_243_corr_prep_ica.fif...\n"
     ]
    },
    {
     "name": "stderr",
     "output_type": "stream",
     "text": [
      "/var/folders/j8/8nyf6njj5nzfjcv6s23y3nn40000gn/T/ipykernel_37645/644758328.py:15: RuntimeWarning: This filename (/Users/chaohan/Library/CloudStorage/OneDrive-UniversityofToronto/Projects/Yas accent/data_preprocessed/3_ica/Yas_243_corr_prep_ica.fif) does not conform to MNE naming conventions. All raw files should end with raw.fif, raw_sss.fif, raw_tsss.fif, _meg.fif, _eeg.fif, _ieeg.fif, raw.fif.gz, raw_sss.fif.gz, raw_tsss.fif.gz, _meg.fif.gz, _eeg.fif.gz or _ieeg.fif.gz\n",
      "  raw = mne.io.read_raw_fif(input_dir + file, preload = True)\n"
     ]
    },
    {
     "name": "stdout",
     "output_type": "stream",
     "text": [
      "    Range : 328 ... 903261 =      1.312 ...  3613.044 secs\n",
      "Ready.\n",
      "Reading 0 ... 902933  =      0.000 ...  3611.732 secs...\n",
      "EEG channel type selected for re-referencing\n",
      "Applying a custom ('EEG',) reference.\n",
      "Not setting metadata\n",
      "1673 matching events found\n",
      "No baseline correction applied\n",
      "0 projection items activated\n",
      "Using data from preloaded Raw for 1673 events and 751 original time points ...\n",
      "    Rejecting  epoch based on EEG : ['F7', 'FT9']\n",
      "    Rejecting  epoch based on EEG : ['F7', 'FT9']\n",
      "    Rejecting  epoch based on EEG : ['FT9']\n",
      "    Rejecting  epoch based on EEG : ['FT9']\n",
      "    Rejecting  epoch based on EEG : ['FT9']\n",
      "    Rejecting  epoch based on EEG : ['FT9']\n",
      "    Rejecting  epoch based on EEG : ['FT9']\n",
      "    Rejecting  epoch based on EEG : ['FT9']\n",
      "    Rejecting  epoch based on EEG : ['FT9']\n",
      "    Rejecting  epoch based on EEG : ['F7', 'FT9', 'CP5']\n",
      "    Rejecting  epoch based on EEG : ['FT9']\n",
      "    Rejecting  epoch based on EEG : ['FT9']\n",
      "    Rejecting  epoch based on EEG : ['FT9']\n",
      "    Rejecting  epoch based on EEG : ['FT9']\n",
      "    Rejecting  epoch based on EEG : ['FT9']\n",
      "    Rejecting  epoch based on EEG : ['FT9', 'CP5', 'CP6', 'C4', 'T8', 'FC6']\n",
      "    Rejecting  epoch based on EEG : ['FT9', 'CP5', 'CP6', 'C4', 'T8', 'FC6']\n",
      "    Rejecting  epoch based on EEG : ['F7', 'FT9', 'C4', 'FC6', 'FC2', 'F4']\n",
      "    Rejecting  epoch based on EEG : ['F7', 'FT9', 'C4', 'FC6', 'FC2', 'F4']\n",
      "    Rejecting  epoch based on EEG : ['FT9', 'CP5']\n",
      "    Rejecting  epoch based on EEG : ['FT9', 'CP5']\n",
      "    Rejecting  epoch based on EEG : ['F7', 'FT9']\n",
      "    Rejecting  epoch based on EEG : ['FT9', 'CP5']\n",
      "    Rejecting  epoch based on EEG : ['FT9', 'CP5']\n",
      "    Rejecting  epoch based on EEG : ['F7', 'FT9']\n",
      "    Rejecting  epoch based on EEG : ['F7', 'FT9']\n",
      "    Rejecting  epoch based on EEG : ['F7', 'FT9']\n",
      "    Rejecting  epoch based on EEG : ['F7', 'FT9']\n",
      "    Rejecting  epoch based on EEG : ['F7', 'FT9', 'CP5', 'CP6', 'C4', 'T8', 'FC6', 'F8']\n",
      "    Rejecting  epoch based on EEG : ['F7', 'FT9', 'C3', 'T7', 'CP5', 'P7', 'CP6', 'C4', 'T8', 'FC6', 'F4', 'F8']\n",
      "    Rejecting  epoch based on EEG : ['CP5']\n",
      "    Rejecting  epoch based on EEG : ['FT9']\n",
      "    Rejecting  epoch based on EEG : ['FT9']\n",
      "    Rejecting  epoch based on EEG : ['FT9', 'CP5', 'CP6', 'C4', 'T8', 'FC6']\n",
      "    Rejecting  epoch based on EEG : ['FT9', 'CP5', 'CP6', 'C4', 'T8', 'FC6']\n",
      "    Rejecting  epoch based on EEG : ['F7', 'FT9']\n",
      "    Rejecting  epoch based on EEG : ['F7', 'FT9', 'FC6']\n",
      "    Rejecting  epoch based on EEG : ['FT9']\n",
      "    Rejecting  epoch based on EEG : ['FT9']\n",
      "    Rejecting  epoch based on EEG : ['F7', 'FT9', 'CP5', 'CP6', 'FC6']\n",
      "    Rejecting  epoch based on EEG : ['F7', 'FT9', 'CP5', 'CP6', 'FC6']\n",
      "    Rejecting  epoch based on EEG : ['F3', 'FC1', 'O1', 'Oz']\n",
      "    Rejecting  epoch based on EEG : ['F3', 'FC1', 'O1', 'Oz']\n",
      "    Rejecting  epoch based on EEG : ['CP5', 'C4', 'FC6']\n",
      "    Rejecting  epoch based on EEG : ['F7', 'FT9']\n",
      "    Rejecting  epoch based on EEG : ['F7', 'FT9']\n",
      "    Rejecting  epoch based on EEG : ['FT9']\n",
      "    Rejecting  epoch based on EEG : ['FT9', 'C3', 'CP5']\n",
      "    Rejecting  epoch based on EEG : ['F7', 'FT9', 'C3', 'CP5']\n",
      "    Rejecting  epoch based on EEG : ['F7', 'FT9']\n",
      "    Rejecting  epoch based on EEG : ['T7', 'P7']\n",
      "51 bad epochs dropped\n"
     ]
    },
    {
     "name": "stderr",
     "output_type": "stream",
     "text": [
      "[Parallel(n_jobs=1)]: Done  17 tasks      | elapsed:    2.4s\n",
      "[Parallel(n_jobs=1)]: Done  17 tasks      | elapsed:    0.4s\n",
      "[Parallel(n_jobs=1)]: Done  17 tasks      | elapsed:    2.0s\n",
      "[Parallel(n_jobs=1)]: Done  17 tasks      | elapsed:    0.4s\n"
     ]
    },
    {
     "name": "stdout",
     "output_type": "stream",
     "text": [
      "Opening raw data file /Users/chaohan/Library/CloudStorage/OneDrive-UniversityofToronto/Projects/Yas accent/data_preprocessed/3_ica/Yas_192_corr_prep_ica.fif...\n",
      "    Range : 13692 ... 861787 =     54.768 ...  3447.148 secs\n",
      "Ready.\n",
      "Reading 0 ... 848095  =      0.000 ...  3392.380 secs...\n"
     ]
    },
    {
     "name": "stderr",
     "output_type": "stream",
     "text": [
      "/var/folders/j8/8nyf6njj5nzfjcv6s23y3nn40000gn/T/ipykernel_37645/644758328.py:15: RuntimeWarning: This filename (/Users/chaohan/Library/CloudStorage/OneDrive-UniversityofToronto/Projects/Yas accent/data_preprocessed/3_ica/Yas_192_corr_prep_ica.fif) does not conform to MNE naming conventions. All raw files should end with raw.fif, raw_sss.fif, raw_tsss.fif, _meg.fif, _eeg.fif, _ieeg.fif, raw.fif.gz, raw_sss.fif.gz, raw_tsss.fif.gz, _meg.fif.gz, _eeg.fif.gz or _ieeg.fif.gz\n",
      "  raw = mne.io.read_raw_fif(input_dir + file, preload = True)\n"
     ]
    },
    {
     "name": "stdout",
     "output_type": "stream",
     "text": [
      "EEG channel type selected for re-referencing\n",
      "Applying a custom ('EEG',) reference.\n",
      "Not setting metadata\n",
      "1661 matching events found\n",
      "No baseline correction applied\n",
      "0 projection items activated\n",
      "Using data from preloaded Raw for 1661 events and 751 original time points ...\n",
      "    Rejecting  epoch based on EEG : ['P7', 'P8']\n",
      "    Rejecting  epoch based on EEG : ['P7', 'P8']\n",
      "    Rejecting  epoch based on EEG : ['P8']\n",
      "    Rejecting  epoch based on EEG : ['CP2']\n",
      "    Rejecting  epoch based on EEG : ['CP2']\n",
      "5 bad epochs dropped\n"
     ]
    },
    {
     "name": "stderr",
     "output_type": "stream",
     "text": [
      "[Parallel(n_jobs=1)]: Done  17 tasks      | elapsed:    2.6s\n",
      "[Parallel(n_jobs=1)]: Done  17 tasks      | elapsed:    0.4s\n",
      "[Parallel(n_jobs=1)]: Done  17 tasks      | elapsed:    2.2s\n",
      "[Parallel(n_jobs=1)]: Done  17 tasks      | elapsed:    0.4s\n"
     ]
    },
    {
     "name": "stdout",
     "output_type": "stream",
     "text": [
      "Opening raw data file /Users/chaohan/Library/CloudStorage/OneDrive-UniversityofToronto/Projects/Yas accent/data_preprocessed/3_ica/Yas_215_corr_prep_ica.fif...\n",
      "    Range : 2434 ... 894249 =      9.736 ...  3576.996 secs\n",
      "Ready.\n",
      "Reading 0 ... 891815  =      0.000 ...  3567.260 secs...\n"
     ]
    },
    {
     "name": "stderr",
     "output_type": "stream",
     "text": [
      "/var/folders/j8/8nyf6njj5nzfjcv6s23y3nn40000gn/T/ipykernel_37645/644758328.py:15: RuntimeWarning: This filename (/Users/chaohan/Library/CloudStorage/OneDrive-UniversityofToronto/Projects/Yas accent/data_preprocessed/3_ica/Yas_215_corr_prep_ica.fif) does not conform to MNE naming conventions. All raw files should end with raw.fif, raw_sss.fif, raw_tsss.fif, _meg.fif, _eeg.fif, _ieeg.fif, raw.fif.gz, raw_sss.fif.gz, raw_tsss.fif.gz, _meg.fif.gz, _eeg.fif.gz or _ieeg.fif.gz\n",
      "  raw = mne.io.read_raw_fif(input_dir + file, preload = True)\n"
     ]
    },
    {
     "name": "stdout",
     "output_type": "stream",
     "text": [
      "EEG channel type selected for re-referencing\n",
      "Applying a custom ('EEG',) reference.\n",
      "Not setting metadata\n",
      "1645 matching events found\n",
      "No baseline correction applied\n",
      "0 projection items activated\n",
      "Using data from preloaded Raw for 1645 events and 751 original time points ...\n",
      "    Rejecting  epoch based on EEG : ['FC5']\n",
      "    Rejecting  epoch based on EEG : ['F4']\n",
      "    Rejecting  epoch based on EEG : ['F4']\n",
      "    Rejecting  epoch based on EEG : ['F3', 'FC5', 'F4']\n",
      "    Rejecting  epoch based on EEG : ['F3', 'FC5', 'C3', 'T7']\n",
      "    Rejecting  epoch based on EEG : ['F3', 'FC5', 'C3', 'T7']\n",
      "    Rejecting  epoch based on EEG : ['FC5', 'T7']\n",
      "    Rejecting  epoch based on EEG : ['Fz', 'F3', 'F7', 'FT9', 'FC5', 'FC1', 'C3', 'T7', 'CP5', 'CP1', 'P3', 'P7', 'O1', 'Oz', 'O2', 'P8', 'Cz', 'FC2']\n",
      "    Rejecting  epoch based on EEG : ['Fz', 'F3', 'F7', 'FT9', 'FC5', 'FC1', 'C3', 'T7', 'CP5', 'CP1', 'P3', 'P7', 'O1', 'Oz', 'O2', 'P8', 'Cz', 'FC2']\n",
      "    Rejecting  epoch based on EEG : ['F3', 'FC5', 'F4']\n",
      "    Rejecting  epoch based on EEG : ['F3', 'FC5', 'F4']\n",
      "    Rejecting  epoch based on EEG : ['F3', 'F4']\n",
      "    Rejecting  epoch based on EEG : ['FC5']\n",
      "    Rejecting  epoch based on EEG : ['FC5']\n",
      "14 bad epochs dropped\n"
     ]
    },
    {
     "name": "stderr",
     "output_type": "stream",
     "text": [
      "[Parallel(n_jobs=1)]: Done  17 tasks      | elapsed:    2.4s\n",
      "[Parallel(n_jobs=1)]: Done  17 tasks      | elapsed:    0.4s\n",
      "[Parallel(n_jobs=1)]: Done  17 tasks      | elapsed:    2.3s\n",
      "[Parallel(n_jobs=1)]: Done  17 tasks      | elapsed:    0.4s\n"
     ]
    },
    {
     "name": "stdout",
     "output_type": "stream",
     "text": [
      "Opening raw data file /Users/chaohan/Library/CloudStorage/OneDrive-UniversityofToronto/Projects/Yas accent/data_preprocessed/3_ica/Yas_124_corr_prep_ica.fif...\n",
      "    Range : 0 ... 829601 =      0.000 ...  3318.404 secs\n",
      "Ready.\n",
      "Reading 0 ... 829601  =      0.000 ...  3318.404 secs...\n"
     ]
    },
    {
     "name": "stderr",
     "output_type": "stream",
     "text": [
      "/var/folders/j8/8nyf6njj5nzfjcv6s23y3nn40000gn/T/ipykernel_37645/644758328.py:15: RuntimeWarning: This filename (/Users/chaohan/Library/CloudStorage/OneDrive-UniversityofToronto/Projects/Yas accent/data_preprocessed/3_ica/Yas_124_corr_prep_ica.fif) does not conform to MNE naming conventions. All raw files should end with raw.fif, raw_sss.fif, raw_tsss.fif, _meg.fif, _eeg.fif, _ieeg.fif, raw.fif.gz, raw_sss.fif.gz, raw_tsss.fif.gz, _meg.fif.gz, _eeg.fif.gz or _ieeg.fif.gz\n",
      "  raw = mne.io.read_raw_fif(input_dir + file, preload = True)\n"
     ]
    },
    {
     "name": "stdout",
     "output_type": "stream",
     "text": [
      "EEG channel type selected for re-referencing\n",
      "Applying a custom ('EEG',) reference.\n",
      "Not setting metadata\n",
      "1639 matching events found\n",
      "No baseline correction applied\n",
      "0 projection items activated\n",
      "Using data from preloaded Raw for 1639 events and 751 original time points ...\n",
      "    Rejecting  epoch based on EEG : ['FT9']\n",
      "    Rejecting  epoch based on EEG : ['F7', 'FT9', 'FC5', 'T7']\n",
      "    Rejecting  epoch based on EEG : ['F7', 'FT9', 'FC5', 'T7']\n",
      "    Rejecting  epoch based on EEG : ['CP6']\n",
      "    Rejecting  epoch based on EEG : ['CP6']\n",
      "    Rejecting  epoch based on EEG : ['CP6']\n",
      "    Rejecting  epoch based on EEG : ['CP6']\n",
      "    Rejecting  epoch based on EEG : ['CP6', 'C4', 'FC6']\n",
      "    Rejecting  epoch based on EEG : ['CP6', 'C4', 'FC6']\n",
      "    Rejecting  epoch based on EEG : ['CP6', 'C4', 'T8', 'FT10', 'FC6']\n",
      "    Rejecting  epoch based on EEG : ['CP6', 'C4', 'T8', 'FT10', 'FC6']\n",
      "    Rejecting  epoch based on EEG : ['CP6']\n",
      "    Rejecting  epoch based on EEG : ['CP6']\n",
      "    Rejecting  epoch based on EEG : ['T7', 'CP6']\n",
      "    Rejecting  epoch based on EEG : ['T7', 'P7', 'CP6', 'C4', 'T8', 'FT10', 'FC6']\n",
      "    Rejecting  epoch based on EEG : ['CP6']\n",
      "    Rejecting  epoch based on EEG : ['CP6']\n",
      "    Rejecting  epoch based on EEG : ['T7', 'FC6']\n",
      "    Rejecting  epoch based on EEG : ['T7', 'FC6']\n",
      "    Rejecting  epoch based on EEG : ['FC6']\n",
      "    Rejecting  epoch based on EEG : ['T7', 'CP6', 'C4', 'T8', 'FT10', 'FC6']\n",
      "    Rejecting  epoch based on EEG : ['T7', 'P7', 'CP6', 'C4', 'T8', 'FT10', 'FC6', 'F4']\n",
      "    Rejecting  epoch based on EEG : ['T7', 'P7', 'CP6', 'C4', 'FT10', 'FC6']\n",
      "23 bad epochs dropped\n"
     ]
    },
    {
     "name": "stderr",
     "output_type": "stream",
     "text": [
      "[Parallel(n_jobs=1)]: Done  17 tasks      | elapsed:    2.6s\n",
      "[Parallel(n_jobs=1)]: Done  17 tasks      | elapsed:    0.5s\n",
      "[Parallel(n_jobs=1)]: Done  17 tasks      | elapsed:    2.5s\n",
      "[Parallel(n_jobs=1)]: Done  17 tasks      | elapsed:    0.5s\n"
     ]
    },
    {
     "name": "stdout",
     "output_type": "stream",
     "text": [
      "Opening raw data file /Users/chaohan/Library/CloudStorage/OneDrive-UniversityofToronto/Projects/Yas accent/data_preprocessed/3_ica/Yas_138_corr_prep_ica.fif...\n",
      "    Range : 828 ... 879665 =      3.312 ...  3518.660 secs\n",
      "Ready.\n",
      "Reading 0 ... 878837  =      0.000 ...  3515.348 secs...\n"
     ]
    },
    {
     "name": "stderr",
     "output_type": "stream",
     "text": [
      "/var/folders/j8/8nyf6njj5nzfjcv6s23y3nn40000gn/T/ipykernel_37645/644758328.py:15: RuntimeWarning: This filename (/Users/chaohan/Library/CloudStorage/OneDrive-UniversityofToronto/Projects/Yas accent/data_preprocessed/3_ica/Yas_138_corr_prep_ica.fif) does not conform to MNE naming conventions. All raw files should end with raw.fif, raw_sss.fif, raw_tsss.fif, _meg.fif, _eeg.fif, _ieeg.fif, raw.fif.gz, raw_sss.fif.gz, raw_tsss.fif.gz, _meg.fif.gz, _eeg.fif.gz or _ieeg.fif.gz\n",
      "  raw = mne.io.read_raw_fif(input_dir + file, preload = True)\n"
     ]
    },
    {
     "name": "stdout",
     "output_type": "stream",
     "text": [
      "EEG channel type selected for re-referencing\n",
      "Applying a custom ('EEG',) reference.\n",
      "Not setting metadata\n",
      "1695 matching events found\n",
      "No baseline correction applied\n",
      "0 projection items activated\n",
      "Using data from preloaded Raw for 1695 events and 751 original time points ...\n",
      "    Rejecting  epoch based on EEG : ['T8', 'FT10', 'F8']\n",
      "    Rejecting  epoch based on EEG : ['T8', 'FT10', 'F8']\n",
      "    Rejecting  epoch based on EEG : ['T7', 'CP5']\n",
      "    Rejecting  epoch based on EEG : ['T7', 'CP5']\n",
      "    Rejecting  epoch based on EEG : ['F4']\n",
      "    Rejecting  epoch based on EEG : ['F4']\n",
      "    Rejecting  epoch based on EEG : ['FT9', 'T7', 'P8', 'F4']\n",
      "    Rejecting  epoch based on EEG : ['FT9', 'T7', 'P8', 'F4']\n",
      "    Rejecting  epoch based on EEG : ['FT9', 'T7']\n",
      "    Rejecting  epoch based on EEG : ['FT9', 'P8', 'F4']\n",
      "    Rejecting  epoch based on EEG : ['FT9', 'T7', 'F4']\n",
      "    Rejecting  epoch based on EEG : ['F4']\n",
      "    Rejecting  epoch based on EEG : ['F4']\n",
      "    Rejecting  epoch based on EEG : ['FT10']\n",
      "    Rejecting  epoch based on EEG : ['FT10']\n",
      "    Rejecting  epoch based on EEG : ['FT10']\n",
      "    Rejecting  epoch based on EEG : ['F4']\n",
      "    Rejecting  epoch based on EEG : ['CP5', 'C4', 'F4']\n",
      "    Rejecting  epoch based on EEG : ['CP5']\n",
      "    Rejecting  epoch based on EEG : ['CP5']\n",
      "    Rejecting  epoch based on EEG : ['F4']\n",
      "    Rejecting  epoch based on EEG : ['F4']\n",
      "    Rejecting  epoch based on EEG : ['C3', 'CP5', 'F4']\n",
      "    Rejecting  epoch based on EEG : ['C3', 'CP5', 'F4']\n",
      "    Rejecting  epoch based on EEG : ['F4']\n",
      "    Rejecting  epoch based on EEG : ['C4', 'F4']\n",
      "    Rejecting  epoch based on EEG : ['C4']\n",
      "    Rejecting  epoch based on EEG : ['C4', 'F4']\n",
      "    Rejecting  epoch based on EEG : ['CP5', 'C4', 'F4']\n",
      "    Rejecting  epoch based on EEG : ['C4']\n",
      "30 bad epochs dropped\n"
     ]
    },
    {
     "name": "stderr",
     "output_type": "stream",
     "text": [
      "[Parallel(n_jobs=1)]: Done  17 tasks      | elapsed:    3.0s\n",
      "[Parallel(n_jobs=1)]: Done  17 tasks      | elapsed:    0.5s\n",
      "[Parallel(n_jobs=1)]: Done  17 tasks      | elapsed:    2.7s\n",
      "[Parallel(n_jobs=1)]: Done  17 tasks      | elapsed:    0.6s\n"
     ]
    },
    {
     "name": "stdout",
     "output_type": "stream",
     "text": [
      "Opening raw data file /Users/chaohan/Library/CloudStorage/OneDrive-UniversityofToronto/Projects/Yas accent/data_preprocessed/3_ica/Yas_176_corr_prep_ica.fif...\n",
      "    Range : 0 ... 854459 =      0.000 ...  3417.836 secs\n",
      "Ready.\n",
      "Reading 0 ... 854459  =      0.000 ...  3417.836 secs...\n"
     ]
    },
    {
     "name": "stderr",
     "output_type": "stream",
     "text": [
      "/var/folders/j8/8nyf6njj5nzfjcv6s23y3nn40000gn/T/ipykernel_37645/644758328.py:15: RuntimeWarning: This filename (/Users/chaohan/Library/CloudStorage/OneDrive-UniversityofToronto/Projects/Yas accent/data_preprocessed/3_ica/Yas_176_corr_prep_ica.fif) does not conform to MNE naming conventions. All raw files should end with raw.fif, raw_sss.fif, raw_tsss.fif, _meg.fif, _eeg.fif, _ieeg.fif, raw.fif.gz, raw_sss.fif.gz, raw_tsss.fif.gz, _meg.fif.gz, _eeg.fif.gz or _ieeg.fif.gz\n",
      "  raw = mne.io.read_raw_fif(input_dir + file, preload = True)\n"
     ]
    },
    {
     "name": "stdout",
     "output_type": "stream",
     "text": [
      "EEG channel type selected for re-referencing\n",
      "Applying a custom ('EEG',) reference.\n",
      "Not setting metadata\n",
      "1707 matching events found\n",
      "No baseline correction applied\n",
      "0 projection items activated\n",
      "Using data from preloaded Raw for 1707 events and 751 original time points ...\n",
      "    Rejecting  epoch based on EEG : ['F3', 'F7', 'FT9', 'FC5', 'T7', 'CP5', 'CP6', 'C4', 'T8', 'FT10', 'FC6', 'FC2', 'F4', 'F8']\n",
      "    Rejecting  epoch based on EEG : ['FC6']\n",
      "    Rejecting  epoch based on EEG : ['T8', 'FT10']\n",
      "    Rejecting  epoch based on EEG : ['T8', 'FT10', 'FC6', 'F8']\n",
      "    Rejecting  epoch based on EEG : ['CP6', 'T8', 'FT10', 'FC6']\n",
      "    Rejecting  epoch based on EEG : ['F3', 'CP6', 'C4', 'T8', 'FT10', 'FC6', 'F8']\n",
      "    Rejecting  epoch based on EEG : ['FC6', 'F8']\n",
      "    Rejecting  epoch based on EEG : ['FC6']\n",
      "    Rejecting  epoch based on EEG : ['FC6']\n",
      "    Rejecting  epoch based on EEG : ['FC6']\n",
      "    Rejecting  epoch based on EEG : ['CP6', 'T8', 'FT10', 'FC6']\n",
      "    Rejecting  epoch based on EEG : ['CP6', 'T8', 'FT10', 'FC6']\n",
      "    Rejecting  epoch based on EEG : ['FC6', 'F8']\n",
      "    Rejecting  epoch based on EEG : ['F3', 'CP6', 'C4', 'FT10', 'FC6', 'F4', 'F8']\n",
      "    Rejecting  epoch based on EEG : ['FC6']\n",
      "15 bad epochs dropped\n"
     ]
    },
    {
     "name": "stderr",
     "output_type": "stream",
     "text": [
      "[Parallel(n_jobs=1)]: Done  17 tasks      | elapsed:    2.5s\n",
      "[Parallel(n_jobs=1)]: Done  17 tasks      | elapsed:    0.4s\n",
      "[Parallel(n_jobs=1)]: Done  17 tasks      | elapsed:    2.3s\n",
      "[Parallel(n_jobs=1)]: Done  17 tasks      | elapsed:    0.4s\n"
     ]
    },
    {
     "name": "stdout",
     "output_type": "stream",
     "text": [
      "Opening raw data file /Users/chaohan/Library/CloudStorage/OneDrive-UniversityofToronto/Projects/Yas accent/data_preprocessed/3_ica/Yas_221_corr_prep_ica.fif...\n",
      "    Range : 1176 ... 884236 =      4.704 ...  3536.944 secs\n",
      "Ready.\n",
      "Reading 0 ... 883060  =      0.000 ...  3532.240 secs...\n"
     ]
    },
    {
     "name": "stderr",
     "output_type": "stream",
     "text": [
      "/var/folders/j8/8nyf6njj5nzfjcv6s23y3nn40000gn/T/ipykernel_37645/644758328.py:15: RuntimeWarning: This filename (/Users/chaohan/Library/CloudStorage/OneDrive-UniversityofToronto/Projects/Yas accent/data_preprocessed/3_ica/Yas_221_corr_prep_ica.fif) does not conform to MNE naming conventions. All raw files should end with raw.fif, raw_sss.fif, raw_tsss.fif, _meg.fif, _eeg.fif, _ieeg.fif, raw.fif.gz, raw_sss.fif.gz, raw_tsss.fif.gz, _meg.fif.gz, _eeg.fif.gz or _ieeg.fif.gz\n",
      "  raw = mne.io.read_raw_fif(input_dir + file, preload = True)\n"
     ]
    },
    {
     "name": "stdout",
     "output_type": "stream",
     "text": [
      "EEG channel type selected for re-referencing\n",
      "Applying a custom ('EEG',) reference.\n",
      "Not setting metadata\n",
      "1720 matching events found\n",
      "No baseline correction applied\n",
      "0 projection items activated\n",
      "Using data from preloaded Raw for 1720 events and 751 original time points ...\n",
      "    Rejecting  epoch based on EEG : ['FT9', 'FT10']\n",
      "    Rejecting  epoch based on EEG : ['FT9', 'FT10']\n",
      "    Rejecting  epoch based on EEG : ['FT9']\n",
      "    Rejecting  epoch based on EEG : ['FT9']\n",
      "    Rejecting  epoch based on EEG : ['CP6']\n",
      "    Rejecting  epoch based on EEG : ['CP6']\n",
      "6 bad epochs dropped\n"
     ]
    },
    {
     "name": "stderr",
     "output_type": "stream",
     "text": [
      "[Parallel(n_jobs=1)]: Done  17 tasks      | elapsed:    3.1s\n",
      "[Parallel(n_jobs=1)]: Done  17 tasks      | elapsed:    0.6s\n",
      "[Parallel(n_jobs=1)]: Done  17 tasks      | elapsed:    3.0s\n",
      "[Parallel(n_jobs=1)]: Done  17 tasks      | elapsed:    0.5s\n"
     ]
    },
    {
     "name": "stdout",
     "output_type": "stream",
     "text": [
      "Opening raw data file /Users/chaohan/Library/CloudStorage/OneDrive-UniversityofToronto/Projects/Yas accent/data_preprocessed/3_ica/Yas_110_corr_prep_ica.fif...\n",
      "    Range : 10848 ... 890611 =     43.392 ...  3562.444 secs\n",
      "Ready.\n",
      "Reading 0 ... 879763  =      0.000 ...  3519.052 secs...\n"
     ]
    },
    {
     "name": "stderr",
     "output_type": "stream",
     "text": [
      "/var/folders/j8/8nyf6njj5nzfjcv6s23y3nn40000gn/T/ipykernel_37645/644758328.py:15: RuntimeWarning: This filename (/Users/chaohan/Library/CloudStorage/OneDrive-UniversityofToronto/Projects/Yas accent/data_preprocessed/3_ica/Yas_110_corr_prep_ica.fif) does not conform to MNE naming conventions. All raw files should end with raw.fif, raw_sss.fif, raw_tsss.fif, _meg.fif, _eeg.fif, _ieeg.fif, raw.fif.gz, raw_sss.fif.gz, raw_tsss.fif.gz, _meg.fif.gz, _eeg.fif.gz or _ieeg.fif.gz\n",
      "  raw = mne.io.read_raw_fif(input_dir + file, preload = True)\n"
     ]
    },
    {
     "name": "stdout",
     "output_type": "stream",
     "text": [
      "EEG channel type selected for re-referencing\n",
      "Applying a custom ('EEG',) reference.\n",
      "Not setting metadata\n",
      "1735 matching events found\n",
      "No baseline correction applied\n",
      "0 projection items activated\n",
      "Using data from preloaded Raw for 1735 events and 751 original time points ...\n",
      "    Rejecting  epoch based on EEG : ['T7', 'CP5']\n",
      "    Rejecting  epoch based on EEG : ['T7', 'CP5']\n",
      "    Rejecting  epoch based on EEG : ['Fz', 'F3', 'FT9', 'FC5', 'FC1', 'C3', 'T7', 'CP5', 'CP1', 'Pz', 'P3', 'P7', 'P4', 'P8', 'CP6', 'CP2', 'Cz', 'C4', 'T8', 'FC6', 'FC2', 'F4', 'F8']\n",
      "    Rejecting  epoch based on EEG : ['Fz', 'F3', 'FT9', 'FC5', 'FC1', 'C3', 'T7', 'CP5', 'CP1', 'Pz', 'P3', 'P7', 'P4', 'P8', 'CP6', 'CP2', 'Cz', 'C4', 'T8', 'FC6', 'FC2', 'F4', 'F8']\n",
      "    Rejecting  epoch based on EEG : ['CP6']\n",
      "    Rejecting  epoch based on EEG : ['CP6']\n",
      "    Rejecting  epoch based on EEG : ['F4']\n",
      "    Rejecting  epoch based on EEG : ['F4']\n",
      "8 bad epochs dropped\n"
     ]
    },
    {
     "name": "stderr",
     "output_type": "stream",
     "text": [
      "[Parallel(n_jobs=1)]: Done  17 tasks      | elapsed:    3.2s\n",
      "[Parallel(n_jobs=1)]: Done  17 tasks      | elapsed:    0.5s\n",
      "[Parallel(n_jobs=1)]: Done  17 tasks      | elapsed:    2.9s\n",
      "[Parallel(n_jobs=1)]: Done  17 tasks      | elapsed:    0.5s\n"
     ]
    },
    {
     "name": "stdout",
     "output_type": "stream",
     "text": [
      "Opening raw data file /Users/chaohan/Library/CloudStorage/OneDrive-UniversityofToronto/Projects/Yas accent/data_preprocessed/3_ica/Yas_247_corr_prep_ica.fif...\n"
     ]
    },
    {
     "name": "stderr",
     "output_type": "stream",
     "text": [
      "/var/folders/j8/8nyf6njj5nzfjcv6s23y3nn40000gn/T/ipykernel_37645/644758328.py:15: RuntimeWarning: This filename (/Users/chaohan/Library/CloudStorage/OneDrive-UniversityofToronto/Projects/Yas accent/data_preprocessed/3_ica/Yas_247_corr_prep_ica.fif) does not conform to MNE naming conventions. All raw files should end with raw.fif, raw_sss.fif, raw_tsss.fif, _meg.fif, _eeg.fif, _ieeg.fif, raw.fif.gz, raw_sss.fif.gz, raw_tsss.fif.gz, _meg.fif.gz, _eeg.fif.gz or _ieeg.fif.gz\n",
      "  raw = mne.io.read_raw_fif(input_dir + file, preload = True)\n"
     ]
    },
    {
     "name": "stdout",
     "output_type": "stream",
     "text": [
      "    Range : 708 ... 857861 =      2.832 ...  3431.444 secs\n",
      "Ready.\n",
      "Reading 0 ... 857153  =      0.000 ...  3428.612 secs...\n",
      "EEG channel type selected for re-referencing\n",
      "Applying a custom ('EEG',) reference.\n",
      "Not setting metadata\n",
      "1698 matching events found\n",
      "No baseline correction applied\n",
      "0 projection items activated\n",
      "Using data from preloaded Raw for 1698 events and 751 original time points ...\n",
      "    Rejecting  epoch based on EEG : ['FT9']\n",
      "    Rejecting  epoch based on EEG : ['FT9']\n",
      "    Rejecting  epoch based on EEG : ['FT9', 'C3']\n",
      "    Rejecting  epoch based on EEG : ['FT9', 'C3']\n",
      "    Rejecting  epoch based on EEG : ['FT9']\n",
      "    Rejecting  epoch based on EEG : ['FT9']\n",
      "    Rejecting  epoch based on EEG : ['FT9']\n",
      "    Rejecting  epoch based on EEG : ['FT9']\n",
      "    Rejecting  epoch based on EEG : ['Fz', 'F3', 'F7', 'FT9', 'FC5', 'FC1', 'C3', 'T7', 'CP5', 'CP1', 'Pz', 'P3', 'P7', 'O1', 'Oz', 'O2', 'P4', 'CP2', 'Cz', 'FC2', 'F4']\n",
      "    Rejecting  epoch based on EEG : ['Fz', 'F3', 'F7', 'FT9', 'FC5', 'FC1', 'C3', 'T7', 'CP5', 'CP1', 'Pz', 'P3', 'P7', 'O1', 'Oz', 'O2', 'Cz']\n",
      "    Rejecting  epoch based on EEG : ['C4', 'FT10']\n",
      "    Rejecting  epoch based on EEG : ['C4', 'FT10', 'F8']\n",
      "    Rejecting  epoch based on EEG : ['C4', 'F8']\n",
      "    Rejecting  epoch based on EEG : ['F7', 'FT9', 'C3']\n",
      "    Rejecting  epoch based on EEG : ['F7', 'FT9', 'C3']\n",
      "    Rejecting  epoch based on EEG : ['FT9', 'C3']\n",
      "    Rejecting  epoch based on EEG : ['FT9', 'C3']\n",
      "    Rejecting  epoch based on EEG : ['FT9']\n",
      "    Rejecting  epoch based on EEG : ['FT9']\n",
      "    Rejecting  epoch based on EEG : ['FT9', 'C3']\n",
      "    Rejecting  epoch based on EEG : ['FT9', 'C3', 'F4']\n",
      "    Rejecting  epoch based on EEG : ['F4']\n",
      "    Rejecting  epoch based on EEG : ['FT9']\n",
      "    Rejecting  epoch based on EEG : ['FT9']\n",
      "    Rejecting  epoch based on EEG : ['FT9', 'C3']\n",
      "    Rejecting  epoch based on EEG : ['FT9', 'C3']\n",
      "    Rejecting  epoch based on EEG : ['FT9']\n",
      "    Rejecting  epoch based on EEG : ['FT9']\n",
      "    Rejecting  epoch based on EEG : ['FT9', 'C3']\n",
      "    Rejecting  epoch based on EEG : ['C3']\n",
      "    Rejecting  epoch based on EEG : ['C3']\n",
      "    Rejecting  epoch based on EEG : ['C3']\n",
      "    Rejecting  epoch based on EEG : ['F7', 'FT9', 'FC5', 'C3']\n",
      "    Rejecting  epoch based on EEG : ['F7', 'FT9', 'FC5', 'C3']\n",
      "    Rejecting  epoch based on EEG : ['F7', 'FT9', 'C3']\n",
      "    Rejecting  epoch based on EEG : ['FT9', 'C3']\n",
      "    Rejecting  epoch based on EEG : ['FT9', 'C3']\n",
      "    Rejecting  epoch based on EEG : ['C3']\n",
      "    Rejecting  epoch based on EEG : ['C3']\n",
      "    Rejecting  epoch based on EEG : ['FT9', 'C3']\n",
      "    Rejecting  epoch based on EEG : ['FT9', 'C3']\n",
      "    Rejecting  epoch based on EEG : ['FT9']\n",
      "    Rejecting  epoch based on EEG : ['FT9']\n",
      "    Rejecting  epoch based on EEG : ['Fz', 'F3', 'F7', 'FT9', 'FC5', 'FC1', 'C3', 'T7', 'CP5', 'CP1', 'Pz', 'P3', 'P7', 'O1', 'Oz', 'O2', 'Cz', 'FC2']\n",
      "    Rejecting  epoch based on EEG : ['Fz', 'F3', 'F7', 'FT9', 'FC5', 'FC1', 'C3', 'T7', 'CP5', 'CP1', 'Pz', 'P3', 'P7', 'O1', 'Oz', 'O2', 'Cz', 'FC2']\n",
      "    Rejecting  epoch based on EEG : ['FT9']\n",
      "    Rejecting  epoch based on EEG : ['FT9', 'C3']\n",
      "    Rejecting  epoch based on EEG : ['FT9', 'C3']\n",
      "    Rejecting  epoch based on EEG : ['FT9', 'C3']\n",
      "    Rejecting  epoch based on EEG : ['FT9', 'C3', 'T7', 'CP5', 'CP1', 'P3', 'P7', 'O1', 'Oz']\n",
      "    Rejecting  epoch based on EEG : ['F7', 'FT9', 'C3']\n",
      "    Rejecting  epoch based on EEG : ['F7', 'FT9', 'C3']\n",
      "    Rejecting  epoch based on EEG : ['FT9', 'C3']\n",
      "    Rejecting  epoch based on EEG : ['FT9', 'C3']\n",
      "    Rejecting  epoch based on EEG : ['FT9', 'C3']\n",
      "    Rejecting  epoch based on EEG : ['FT9']\n",
      "    Rejecting  epoch based on EEG : ['Fz', 'F3', 'F7', 'C3', 'F4']\n",
      "    Rejecting  epoch based on EEG : ['Fz', 'F3', 'F7', 'C3', 'F4']\n",
      "    Rejecting  epoch based on EEG : ['FT9', 'C3']\n",
      "    Rejecting  epoch based on EEG : ['FT9', 'C3']\n",
      "    Rejecting  epoch based on EEG : ['C3']\n",
      "    Rejecting  epoch based on EEG : ['C3']\n",
      "    Rejecting  epoch based on EEG : ['Fz', 'F3', 'P3', 'P7', 'O1', 'Oz', 'O2']\n",
      "    Rejecting  epoch based on EEG : ['C3']\n",
      "    Rejecting  epoch based on EEG : ['C3']\n",
      "    Rejecting  epoch based on EEG : ['C4', 'FT10']\n",
      "    Rejecting  epoch based on EEG : ['C4', 'FT10']\n",
      "    Rejecting  epoch based on EEG : ['FT9']\n",
      "    Rejecting  epoch based on EEG : ['FT9']\n",
      "    Rejecting  epoch based on EEG : ['FT9']\n",
      "    Rejecting  epoch based on EEG : ['FT9']\n",
      "    Rejecting  epoch based on EEG : ['FT9']\n",
      "    Rejecting  epoch based on EEG : ['F7', 'C3']\n",
      "    Rejecting  epoch based on EEG : ['C3']\n",
      "    Rejecting  epoch based on EEG : ['F7', 'FT9', 'FC5', 'C3']\n",
      "    Rejecting  epoch based on EEG : ['F7', 'FT9', 'FC5', 'C3']\n",
      "    Rejecting  epoch based on EEG : ['CP6', 'FT10']\n",
      "    Rejecting  epoch based on EEG : ['F7', 'FT9', 'C3', 'CP6', 'C4', 'FT10', 'F8']\n",
      "    Rejecting  epoch based on EEG : ['F7', 'FT9', 'C3', 'C4', 'FT10', 'F8']\n",
      "    Rejecting  epoch based on EEG : ['F7', 'FT9', 'C3', 'C4', 'FT10']\n",
      "    Rejecting  epoch based on EEG : ['F7', 'FT9', 'C3']\n",
      "    Rejecting  epoch based on EEG : ['F7', 'FT9', 'C3']\n",
      "    Rejecting  epoch based on EEG : ['F7', 'FT9', 'C3']\n",
      "    Rejecting  epoch based on EEG : ['C3']\n",
      "    Rejecting  epoch based on EEG : ['C3']\n",
      "    Rejecting  epoch based on EEG : ['FT9']\n",
      "    Rejecting  epoch based on EEG : ['FT9']\n",
      "    Rejecting  epoch based on EEG : ['FT9', 'C3']\n",
      "    Rejecting  epoch based on EEG : ['FT9', 'C3']\n",
      "    Rejecting  epoch based on EEG : ['F3', 'F7']\n",
      "    Rejecting  epoch based on EEG : ['F3', 'F7']\n",
      "    Rejecting  epoch based on EEG : ['C3']\n",
      "    Rejecting  epoch based on EEG : ['C3']\n",
      "    Rejecting  epoch based on EEG : ['C3']\n",
      "    Rejecting  epoch based on EEG : ['F7', 'FT9', 'C3']\n",
      "    Rejecting  epoch based on EEG : ['FT9', 'C3']\n",
      "    Rejecting  epoch based on EEG : ['FT9', 'C3']\n",
      "    Rejecting  epoch based on EEG : ['C3']\n",
      "    Rejecting  epoch based on EEG : ['C3']\n",
      "    Rejecting  epoch based on EEG : ['C3']\n",
      "    Rejecting  epoch based on EEG : ['FT9', 'C3']\n",
      "    Rejecting  epoch based on EEG : ['FT9', 'C3']\n",
      "    Rejecting  epoch based on EEG : ['FT9', 'C3']\n",
      "    Rejecting  epoch based on EEG : ['FT9', 'C3']\n",
      "    Rejecting  epoch based on EEG : ['FT9', 'C3']\n",
      "    Rejecting  epoch based on EEG : ['FT9', 'C3']\n",
      "    Rejecting  epoch based on EEG : ['FT9', 'C3']\n",
      "    Rejecting  epoch based on EEG : ['FT9', 'C3']\n",
      "    Rejecting  epoch based on EEG : ['FT9', 'C3']\n",
      "    Rejecting  epoch based on EEG : ['FT9', 'C3']\n",
      "    Rejecting  epoch based on EEG : ['FT10']\n",
      "    Rejecting  epoch based on EEG : ['F7', 'FT9', 'C3', 'CP6', 'C4', 'FT10', 'F8']\n",
      "    Rejecting  epoch based on EEG : ['FT9', 'CP6', 'C4', 'F8']\n",
      "    Rejecting  epoch based on EEG : ['C3']\n",
      "    Rejecting  epoch based on EEG : ['C3']\n",
      "    Rejecting  epoch based on EEG : ['FT9', 'C3', 'CP6', 'C4', 'FT10', 'F8']\n",
      "    Rejecting  epoch based on EEG : ['FT9', 'C3', 'CP6', 'C4', 'FT10', 'F8']\n",
      "    Rejecting  epoch based on EEG : ['C4', 'FT10', 'F8']\n",
      "    Rejecting  epoch based on EEG : ['FT9']\n",
      "    Rejecting  epoch based on EEG : ['FT9']\n",
      "    Rejecting  epoch based on EEG : ['F7', 'FT9', 'C3']\n",
      "    Rejecting  epoch based on EEG : ['F7', 'FT9', 'C3']\n",
      "    Rejecting  epoch based on EEG : ['FT9', 'C3']\n",
      "    Rejecting  epoch based on EEG : ['FT9', 'C3']\n",
      "    Rejecting  epoch based on EEG : ['C3']\n",
      "    Rejecting  epoch based on EEG : ['C3']\n",
      "    Rejecting  epoch based on EEG : ['FT9', 'C3']\n",
      "    Rejecting  epoch based on EEG : ['FT9', 'C3']\n",
      "    Rejecting  epoch based on EEG : ['F7', 'F4']\n",
      "    Rejecting  epoch based on EEG : ['F7', 'F4']\n",
      "    Rejecting  epoch based on EEG : ['F7', 'FT9', 'C3']\n",
      "    Rejecting  epoch based on EEG : ['FT9', 'C3']\n",
      "    Rejecting  epoch based on EEG : ['C3']\n",
      "    Rejecting  epoch based on EEG : ['C3']\n",
      "    Rejecting  epoch based on EEG : ['F7', 'F4']\n",
      "135 bad epochs dropped\n"
     ]
    },
    {
     "name": "stderr",
     "output_type": "stream",
     "text": [
      "[Parallel(n_jobs=1)]: Done  17 tasks      | elapsed:    2.9s\n",
      "[Parallel(n_jobs=1)]: Done  17 tasks      | elapsed:    0.5s\n",
      "[Parallel(n_jobs=1)]: Done  17 tasks      | elapsed:    2.5s\n",
      "[Parallel(n_jobs=1)]: Done  17 tasks      | elapsed:    0.5s\n"
     ]
    },
    {
     "name": "stdout",
     "output_type": "stream",
     "text": [
      "Opening raw data file /Users/chaohan/Library/CloudStorage/OneDrive-UniversityofToronto/Projects/Yas accent/data_preprocessed/3_ica/Yas_209_corr_prep_ica.fif...\n"
     ]
    },
    {
     "name": "stderr",
     "output_type": "stream",
     "text": [
      "/var/folders/j8/8nyf6njj5nzfjcv6s23y3nn40000gn/T/ipykernel_37645/644758328.py:15: RuntimeWarning: This filename (/Users/chaohan/Library/CloudStorage/OneDrive-UniversityofToronto/Projects/Yas accent/data_preprocessed/3_ica/Yas_209_corr_prep_ica.fif) does not conform to MNE naming conventions. All raw files should end with raw.fif, raw_sss.fif, raw_tsss.fif, _meg.fif, _eeg.fif, _ieeg.fif, raw.fif.gz, raw_sss.fif.gz, raw_tsss.fif.gz, _meg.fif.gz, _eeg.fif.gz or _ieeg.fif.gz\n",
      "  raw = mne.io.read_raw_fif(input_dir + file, preload = True)\n"
     ]
    },
    {
     "name": "stdout",
     "output_type": "stream",
     "text": [
      "    Range : 0 ... 865717 =      0.000 ...  3462.868 secs\n",
      "Ready.\n",
      "Reading 0 ... 865717  =      0.000 ...  3462.868 secs...\n",
      "EEG channel type selected for re-referencing\n",
      "Applying a custom ('EEG',) reference.\n",
      "Not setting metadata\n",
      "1715 matching events found\n",
      "No baseline correction applied\n",
      "0 projection items activated\n",
      "Using data from preloaded Raw for 1715 events and 751 original time points ...\n",
      "    Rejecting  epoch based on EEG : ['FC5']\n",
      "    Rejecting  epoch based on EEG : ['FC5']\n",
      "2 bad epochs dropped\n"
     ]
    },
    {
     "name": "stderr",
     "output_type": "stream",
     "text": [
      "[Parallel(n_jobs=1)]: Done  17 tasks      | elapsed:    3.5s\n",
      "[Parallel(n_jobs=1)]: Done  17 tasks      | elapsed:    0.5s\n",
      "[Parallel(n_jobs=1)]: Done  17 tasks      | elapsed:    2.6s\n",
      "[Parallel(n_jobs=1)]: Done  17 tasks      | elapsed:    0.5s\n"
     ]
    },
    {
     "name": "stdout",
     "output_type": "stream",
     "text": [
      "Opening raw data file /Users/chaohan/Library/CloudStorage/OneDrive-UniversityofToronto/Projects/Yas accent/data_preprocessed/3_ica/Yas_109_corr_prep_ica.fif...\n",
      "    Range : 6392 ... 827293 =     25.568 ...  3309.172 secs\n",
      "Ready.\n",
      "Reading 0 ... 820901  =      0.000 ...  3283.604 secs...\n"
     ]
    },
    {
     "name": "stderr",
     "output_type": "stream",
     "text": [
      "/var/folders/j8/8nyf6njj5nzfjcv6s23y3nn40000gn/T/ipykernel_37645/644758328.py:15: RuntimeWarning: This filename (/Users/chaohan/Library/CloudStorage/OneDrive-UniversityofToronto/Projects/Yas accent/data_preprocessed/3_ica/Yas_109_corr_prep_ica.fif) does not conform to MNE naming conventions. All raw files should end with raw.fif, raw_sss.fif, raw_tsss.fif, _meg.fif, _eeg.fif, _ieeg.fif, raw.fif.gz, raw_sss.fif.gz, raw_tsss.fif.gz, _meg.fif.gz, _eeg.fif.gz or _ieeg.fif.gz\n",
      "  raw = mne.io.read_raw_fif(input_dir + file, preload = True)\n"
     ]
    },
    {
     "name": "stdout",
     "output_type": "stream",
     "text": [
      "EEG channel type selected for re-referencing\n",
      "Applying a custom ('EEG',) reference.\n",
      "Not setting metadata\n",
      "1605 matching events found\n",
      "No baseline correction applied\n",
      "0 projection items activated\n",
      "Using data from preloaded Raw for 1605 events and 751 original time points ...\n",
      "    Rejecting  epoch based on EEG : ['FC5', 'FC1', 'C3', 'T7', 'CP5', 'CP1', 'Pz', 'P3', 'P7', 'O1', 'Oz', 'O2', 'CP2', 'Cz', 'C4']\n",
      "    Rejecting  epoch based on EEG : ['FC5', 'FC1', 'C3', 'T7', 'CP5', 'CP1', 'Pz', 'P3', 'P7', 'O1', 'Oz', 'O2', 'CP2', 'Cz', 'C4']\n",
      "    Rejecting  epoch based on EEG : ['FT10']\n",
      "    Rejecting  epoch based on EEG : ['FT10']\n",
      "    Rejecting  epoch based on EEG : ['FT10']\n",
      "    Rejecting  epoch based on EEG : ['FT10']\n",
      "    Rejecting  epoch based on EEG : ['FT10']\n",
      "    Rejecting  epoch based on EEG : ['F4', 'F8']\n",
      "    Rejecting  epoch based on EEG : ['FT9', 'C3', 'F4', 'F8']\n",
      "    Rejecting  epoch based on EEG : ['CP5']\n",
      "    Rejecting  epoch based on EEG : ['F3', 'FT9', 'FC1', 'C3', 'CP5']\n",
      "    Rejecting  epoch based on EEG : ['F3', 'FT9', 'FC1', 'C3', 'CP5']\n",
      "    Rejecting  epoch based on EEG : ['C3', 'CP5', 'FT10']\n",
      "    Rejecting  epoch based on EEG : ['FT10']\n",
      "14 bad epochs dropped\n"
     ]
    },
    {
     "name": "stderr",
     "output_type": "stream",
     "text": [
      "[Parallel(n_jobs=1)]: Done  17 tasks      | elapsed:    2.5s\n",
      "[Parallel(n_jobs=1)]: Done  17 tasks      | elapsed:    0.4s\n",
      "[Parallel(n_jobs=1)]: Done  17 tasks      | elapsed:    2.0s\n",
      "[Parallel(n_jobs=1)]: Done  17 tasks      | elapsed:    0.4s\n"
     ]
    },
    {
     "name": "stdout",
     "output_type": "stream",
     "text": [
      "Opening raw data file /Users/chaohan/Library/CloudStorage/OneDrive-UniversityofToronto/Projects/Yas accent/data_preprocessed/3_ica/Yas_147_corr_prep_ica.fif...\n",
      "    Range : 4448 ... 833991 =     17.792 ...  3335.964 secs\n",
      "Ready.\n",
      "Reading 0 ... 829543  =      0.000 ...  3318.172 secs...\n"
     ]
    },
    {
     "name": "stderr",
     "output_type": "stream",
     "text": [
      "/var/folders/j8/8nyf6njj5nzfjcv6s23y3nn40000gn/T/ipykernel_37645/644758328.py:15: RuntimeWarning: This filename (/Users/chaohan/Library/CloudStorage/OneDrive-UniversityofToronto/Projects/Yas accent/data_preprocessed/3_ica/Yas_147_corr_prep_ica.fif) does not conform to MNE naming conventions. All raw files should end with raw.fif, raw_sss.fif, raw_tsss.fif, _meg.fif, _eeg.fif, _ieeg.fif, raw.fif.gz, raw_sss.fif.gz, raw_tsss.fif.gz, _meg.fif.gz, _eeg.fif.gz or _ieeg.fif.gz\n",
      "  raw = mne.io.read_raw_fif(input_dir + file, preload = True)\n"
     ]
    },
    {
     "name": "stdout",
     "output_type": "stream",
     "text": [
      "EEG channel type selected for re-referencing\n",
      "Applying a custom ('EEG',) reference.\n",
      "Not setting metadata\n",
      "1630 matching events found\n",
      "No baseline correction applied\n",
      "0 projection items activated\n",
      "Using data from preloaded Raw for 1630 events and 751 original time points ...\n",
      "    Rejecting  epoch based on EEG : ['CP6', 'C4']\n",
      "    Rejecting  epoch based on EEG : ['C3', 'CP5']\n",
      "    Rejecting  epoch based on EEG : ['C3', 'CP5']\n",
      "3 bad epochs dropped\n"
     ]
    },
    {
     "name": "stderr",
     "output_type": "stream",
     "text": [
      "[Parallel(n_jobs=1)]: Done  17 tasks      | elapsed:    2.9s\n",
      "[Parallel(n_jobs=1)]: Done  17 tasks      | elapsed:    0.4s\n",
      "[Parallel(n_jobs=1)]: Done  17 tasks      | elapsed:    2.3s\n",
      "[Parallel(n_jobs=1)]: Done  17 tasks      | elapsed:    0.4s\n"
     ]
    },
    {
     "name": "stdout",
     "output_type": "stream",
     "text": [
      "Opening raw data file /Users/chaohan/Library/CloudStorage/OneDrive-UniversityofToronto/Projects/Yas accent/data_preprocessed/3_ica/Yas_210_corr_prep_ica.fif...\n",
      "    Range : 1404 ... 857449 =      5.616 ...  3429.796 secs\n",
      "Ready.\n",
      "Reading 0 ... 856045  =      0.000 ...  3424.180 secs...\n"
     ]
    },
    {
     "name": "stderr",
     "output_type": "stream",
     "text": [
      "/var/folders/j8/8nyf6njj5nzfjcv6s23y3nn40000gn/T/ipykernel_37645/644758328.py:15: RuntimeWarning: This filename (/Users/chaohan/Library/CloudStorage/OneDrive-UniversityofToronto/Projects/Yas accent/data_preprocessed/3_ica/Yas_210_corr_prep_ica.fif) does not conform to MNE naming conventions. All raw files should end with raw.fif, raw_sss.fif, raw_tsss.fif, _meg.fif, _eeg.fif, _ieeg.fif, raw.fif.gz, raw_sss.fif.gz, raw_tsss.fif.gz, _meg.fif.gz, _eeg.fif.gz or _ieeg.fif.gz\n",
      "  raw = mne.io.read_raw_fif(input_dir + file, preload = True)\n"
     ]
    },
    {
     "name": "stdout",
     "output_type": "stream",
     "text": [
      "EEG channel type selected for re-referencing\n",
      "Applying a custom ('EEG',) reference.\n",
      "Not setting metadata\n",
      "1624 matching events found\n",
      "No baseline correction applied\n",
      "0 projection items activated\n",
      "Using data from preloaded Raw for 1624 events and 751 original time points ...\n",
      "    Rejecting  epoch based on EEG : ['Fz', 'F3', 'F7', 'FT9', 'FC5', 'FC1', 'C3', 'T7', 'CP5', 'CP1', 'P3', 'P7', 'P4', 'P8', 'CP6', 'CP2', 'Cz', 'C4', 'T8', 'FT10', 'FC6', 'FC2', 'F4', 'F8']\n",
      "    Rejecting  epoch based on EEG : ['Fz', 'F3']\n",
      "    Rejecting  epoch based on EEG : ['Fz', 'F3']\n",
      "    Rejecting  epoch based on EEG : ['Fz', 'F3', 'F7', 'FT9', 'FC5', 'FC1', 'C3', 'T7', 'CP5', 'CP1', 'Pz', 'P3', 'P7', 'O1', 'Oz', 'O2', 'P4', 'P8', 'TP10', 'CP6', 'CP2', 'Cz', 'C4', 'FT10', 'FC6', 'FC2', 'F4', 'F8', 'TP9']\n",
      "    Rejecting  epoch based on EEG : ['Fz', 'F3', 'F7', 'FT9', 'FC5', 'FC1', 'C3', 'T7', 'CP5', 'CP1', 'Pz', 'P3', 'P7', 'O1', 'Oz', 'O2', 'P4', 'P8', 'TP10', 'CP6', 'CP2', 'Cz', 'C4', 'T8', 'FT10', 'FC6', 'FC2', 'F4', 'F8', 'TP9']\n",
      "    Rejecting  epoch based on EEG : ['Fz', 'F3', 'F7', 'FT9', 'FC5', 'FC1', 'C3', 'T7', 'CP5', 'CP1', 'Pz', 'P3', 'P7', 'O1', 'Oz', 'O2', 'P4', 'P8', 'TP10', 'CP6', 'CP2', 'Cz', 'C4', 'FT10', 'FC6', 'FC2', 'F4', 'F8', 'TP9']\n",
      "    Rejecting  epoch based on EEG : ['Fz', 'F3', 'F7', 'FT9', 'FC5', 'FC1', 'C3', 'T7', 'CP5', 'CP1', 'Pz', 'P3', 'P7', 'O1', 'Oz', 'O2', 'P4', 'P8', 'TP10', 'CP6', 'CP2', 'Cz', 'C4', 'FT10', 'FC6', 'FC2', 'F4', 'F8', 'TP9']\n",
      "    Rejecting  epoch based on EEG : ['Fz', 'F3', 'F7', 'FT9', 'FC5', 'FC1', 'C3', 'T7', 'CP5', 'CP1', 'Pz', 'P3', 'P7', 'O1', 'Oz', 'O2', 'P4', 'P8', 'TP10', 'CP6', 'CP2', 'Cz', 'C4', 'FT10', 'FC6', 'FC2', 'F4', 'F8', 'TP9']\n",
      "    Rejecting  epoch based on EEG : ['Fz', 'F3', 'F4', 'F8']\n",
      "    Rejecting  epoch based on EEG : ['Fz', 'F3', 'Pz', 'P3', 'O1', 'Oz', 'O2']\n",
      "    Rejecting  epoch based on EEG : ['Fz', 'FC1', 'C3', 'CP1', 'P7', 'O1', 'O2', 'P8', 'FC6', 'F8']\n",
      "11 bad epochs dropped\n"
     ]
    },
    {
     "name": "stderr",
     "output_type": "stream",
     "text": [
      "[Parallel(n_jobs=1)]: Done  17 tasks      | elapsed:    3.6s\n",
      "[Parallel(n_jobs=1)]: Done  17 tasks      | elapsed:    0.7s\n",
      "[Parallel(n_jobs=1)]: Done  17 tasks      | elapsed:    3.1s\n",
      "[Parallel(n_jobs=1)]: Done  17 tasks      | elapsed:    0.6s\n"
     ]
    },
    {
     "name": "stdout",
     "output_type": "stream",
     "text": [
      "Opening raw data file /Users/chaohan/Library/CloudStorage/OneDrive-UniversityofToronto/Projects/Yas accent/data_preprocessed/3_ica/Yas_121_corr_prep_ica.fif...\n",
      "    Range : 10048 ... 909791 =     40.192 ...  3639.164 secs\n",
      "Ready.\n"
     ]
    },
    {
     "name": "stderr",
     "output_type": "stream",
     "text": [
      "/var/folders/j8/8nyf6njj5nzfjcv6s23y3nn40000gn/T/ipykernel_37645/644758328.py:15: RuntimeWarning: This filename (/Users/chaohan/Library/CloudStorage/OneDrive-UniversityofToronto/Projects/Yas accent/data_preprocessed/3_ica/Yas_121_corr_prep_ica.fif) does not conform to MNE naming conventions. All raw files should end with raw.fif, raw_sss.fif, raw_tsss.fif, _meg.fif, _eeg.fif, _ieeg.fif, raw.fif.gz, raw_sss.fif.gz, raw_tsss.fif.gz, _meg.fif.gz, _eeg.fif.gz or _ieeg.fif.gz\n",
      "  raw = mne.io.read_raw_fif(input_dir + file, preload = True)\n"
     ]
    },
    {
     "name": "stdout",
     "output_type": "stream",
     "text": [
      "Reading 0 ... 899743  =      0.000 ...  3598.972 secs...\n",
      "EEG channel type selected for re-referencing\n",
      "Applying a custom ('EEG',) reference.\n",
      "Not setting metadata\n",
      "1664 matching events found\n",
      "No baseline correction applied\n",
      "0 projection items activated\n",
      "Using data from preloaded Raw for 1664 events and 751 original time points ...\n",
      "    Rejecting  epoch based on EEG : ['F8']\n",
      "    Rejecting  epoch based on EEG : ['F8']\n",
      "    Rejecting  epoch based on EEG : ['O1', 'CP6', 'C4', 'FC6']\n",
      "    Rejecting  epoch based on EEG : ['CP6']\n",
      "    Rejecting  epoch based on EEG : ['FT9', 'CP6', 'C4', 'T8', 'FT10', 'FC6']\n",
      "    Rejecting  epoch based on EEG : ['FT9', 'CP6', 'C4', 'T8', 'FT10', 'FC6']\n",
      "    Rejecting  epoch based on EEG : ['Fz', 'CP6', 'Cz']\n",
      "    Rejecting  epoch based on EEG : ['CP6', 'C4']\n",
      "    Rejecting  epoch based on EEG : ['CP6']\n",
      "    Rejecting  epoch based on EEG : ['CP6']\n",
      "    Rejecting  epoch based on EEG : ['FT9', 'CP6', 'C4', 'T8', 'FT10', 'FC6']\n",
      "    Rejecting  epoch based on EEG : ['F7', 'FT9', 'P8', 'CP6', 'C4', 'T8', 'FT10', 'FC6']\n",
      "    Rejecting  epoch based on EEG : ['F7', 'FT9', 'P8', 'CP6', 'C4', 'T8', 'FT10', 'FC6']\n",
      "    Rejecting  epoch based on EEG : ['FT9', 'P4', 'P8', 'CP6', 'C4', 'T8', 'FT10', 'FC6', 'FC2']\n",
      "    Rejecting  epoch based on EEG : ['FT9', 'P4', 'P8', 'CP6', 'C4', 'T8', 'FT10', 'FC6', 'FC2']\n",
      "    Rejecting  epoch based on EEG : ['FT9', 'P8', 'CP6', 'C4', 'T8', 'FT10', 'FC6']\n",
      "    Rejecting  epoch based on EEG : ['FT9', 'P8', 'CP6', 'C4', 'T8', 'FT10', 'FC6']\n",
      "    Rejecting  epoch based on EEG : ['CP6', 'C4', 'FC6']\n",
      "    Rejecting  epoch based on EEG : ['CP6', 'C4', 'FC6']\n",
      "    Rejecting  epoch based on EEG : ['O1', 'CP6']\n",
      "    Rejecting  epoch based on EEG : ['O1', 'CP6']\n",
      "    Rejecting  epoch based on EEG : ['CP6', 'C4']\n",
      "    Rejecting  epoch based on EEG : ['CP6', 'C4']\n",
      "23 bad epochs dropped\n"
     ]
    },
    {
     "name": "stderr",
     "output_type": "stream",
     "text": [
      "[Parallel(n_jobs=1)]: Done  17 tasks      | elapsed:    2.4s\n",
      "[Parallel(n_jobs=1)]: Done  17 tasks      | elapsed:    0.4s\n",
      "[Parallel(n_jobs=1)]: Done  17 tasks      | elapsed:    2.1s\n",
      "[Parallel(n_jobs=1)]: Done  17 tasks      | elapsed:    0.4s\n"
     ]
    },
    {
     "name": "stdout",
     "output_type": "stream",
     "text": [
      "Opening raw data file /Users/chaohan/Library/CloudStorage/OneDrive-UniversityofToronto/Projects/Yas accent/data_preprocessed/3_ica/Yas_238_corr_prep_ica.fif...\n",
      "    Range : 924 ... 896981 =      3.696 ...  3587.924 secs\n",
      "Ready.\n",
      "Reading 0 ... 896057  =      0.000 ...  3584.228 secs...\n"
     ]
    },
    {
     "name": "stderr",
     "output_type": "stream",
     "text": [
      "/var/folders/j8/8nyf6njj5nzfjcv6s23y3nn40000gn/T/ipykernel_37645/644758328.py:15: RuntimeWarning: This filename (/Users/chaohan/Library/CloudStorage/OneDrive-UniversityofToronto/Projects/Yas accent/data_preprocessed/3_ica/Yas_238_corr_prep_ica.fif) does not conform to MNE naming conventions. All raw files should end with raw.fif, raw_sss.fif, raw_tsss.fif, _meg.fif, _eeg.fif, _ieeg.fif, raw.fif.gz, raw_sss.fif.gz, raw_tsss.fif.gz, _meg.fif.gz, _eeg.fif.gz or _ieeg.fif.gz\n",
      "  raw = mne.io.read_raw_fif(input_dir + file, preload = True)\n"
     ]
    },
    {
     "name": "stdout",
     "output_type": "stream",
     "text": [
      "EEG channel type selected for re-referencing\n",
      "Applying a custom ('EEG',) reference.\n",
      "Not setting metadata\n",
      "1652 matching events found\n",
      "No baseline correction applied\n",
      "0 projection items activated\n",
      "Using data from preloaded Raw for 1652 events and 751 original time points ...\n",
      "    Rejecting  epoch based on EEG : ['C4', 'FC6']\n",
      "    Rejecting  epoch based on EEG : ['CP5', 'C4', 'FC6']\n",
      "    Rejecting  epoch based on EEG : ['C4', 'FC6']\n",
      "    Rejecting  epoch based on EEG : ['C4', 'FC6']\n",
      "    Rejecting  epoch based on EEG : ['F3', 'C3', 'CP5', 'C4', 'FC6']\n",
      "    Rejecting  epoch based on EEG : ['F3', 'C3', 'CP5', 'C4', 'FC6']\n",
      "    Rejecting  epoch based on EEG : ['P7']\n",
      "    Rejecting  epoch based on EEG : ['F3', 'C3', 'CP5', 'FC6']\n",
      "    Rejecting  epoch based on EEG : ['F3', 'CP5', 'FC6']\n",
      "    Rejecting  epoch based on EEG : ['P8', 'T8']\n",
      "    Rejecting  epoch based on EEG : ['P8', 'T8']\n",
      "    Rejecting  epoch based on EEG : ['CP5']\n",
      "    Rejecting  epoch based on EEG : ['CP5']\n",
      "    Rejecting  epoch based on EEG : ['T8']\n",
      "    Rejecting  epoch based on EEG : ['T8']\n",
      "    Rejecting  epoch based on EEG : ['T8']\n",
      "    Rejecting  epoch based on EEG : ['P7']\n",
      "    Rejecting  epoch based on EEG : ['P7']\n",
      "    Rejecting  epoch based on EEG : ['F3', 'F7', 'FT9', 'C3', 'CP5', 'C4', 'FC6']\n",
      "    Rejecting  epoch based on EEG : ['F3', 'F7', 'FT9', 'C3', 'CP5', 'C4', 'FC6']\n",
      "    Rejecting  epoch based on EEG : ['F3']\n",
      "    Rejecting  epoch based on EEG : ['F3']\n",
      "    Rejecting  epoch based on EEG : ['F3']\n",
      "    Rejecting  epoch based on EEG : ['F3']\n",
      "    Rejecting  epoch based on EEG : ['F3']\n",
      "    Rejecting  epoch based on EEG : ['F3']\n",
      "    Rejecting  epoch based on EEG : ['P7']\n",
      "    Rejecting  epoch based on EEG : ['P7']\n",
      "    Rejecting  epoch based on EEG : ['P7']\n",
      "    Rejecting  epoch based on EEG : ['F3']\n",
      "    Rejecting  epoch based on EEG : ['F7']\n",
      "    Rejecting  epoch based on EEG : ['F7']\n",
      "    Rejecting  epoch based on EEG : ['F3']\n",
      "    Rejecting  epoch based on EEG : ['F3']\n",
      "    Rejecting  epoch based on EEG : ['F3']\n",
      "    Rejecting  epoch based on EEG : ['F3']\n",
      "36 bad epochs dropped\n"
     ]
    },
    {
     "name": "stderr",
     "output_type": "stream",
     "text": [
      "[Parallel(n_jobs=1)]: Done  17 tasks      | elapsed:    3.0s\n",
      "[Parallel(n_jobs=1)]: Done  17 tasks      | elapsed:    0.5s\n",
      "[Parallel(n_jobs=1)]: Done  17 tasks      | elapsed:    2.4s\n",
      "[Parallel(n_jobs=1)]: Done  17 tasks      | elapsed:    0.6s\n"
     ]
    },
    {
     "name": "stdout",
     "output_type": "stream",
     "text": [
      "Opening raw data file /Users/chaohan/Library/CloudStorage/OneDrive-UniversityofToronto/Projects/Yas accent/data_preprocessed/3_ica/Yas_173_corr_prep_ica.fif...\n",
      "    Range : 0 ... 860600 =      0.000 ...  3442.400 secs\n",
      "Ready.\n",
      "Reading 0 ... 860600  =      0.000 ...  3442.400 secs...\n"
     ]
    },
    {
     "name": "stderr",
     "output_type": "stream",
     "text": [
      "/var/folders/j8/8nyf6njj5nzfjcv6s23y3nn40000gn/T/ipykernel_37645/644758328.py:15: RuntimeWarning: This filename (/Users/chaohan/Library/CloudStorage/OneDrive-UniversityofToronto/Projects/Yas accent/data_preprocessed/3_ica/Yas_173_corr_prep_ica.fif) does not conform to MNE naming conventions. All raw files should end with raw.fif, raw_sss.fif, raw_tsss.fif, _meg.fif, _eeg.fif, _ieeg.fif, raw.fif.gz, raw_sss.fif.gz, raw_tsss.fif.gz, _meg.fif.gz, _eeg.fif.gz or _ieeg.fif.gz\n",
      "  raw = mne.io.read_raw_fif(input_dir + file, preload = True)\n"
     ]
    },
    {
     "name": "stdout",
     "output_type": "stream",
     "text": [
      "EEG channel type selected for re-referencing\n",
      "Applying a custom ('EEG',) reference.\n",
      "Not setting metadata\n",
      "1681 matching events found\n",
      "No baseline correction applied\n",
      "0 projection items activated\n",
      "Using data from preloaded Raw for 1681 events and 751 original time points ...\n",
      "0 bad epochs dropped\n"
     ]
    },
    {
     "name": "stderr",
     "output_type": "stream",
     "text": [
      "[Parallel(n_jobs=1)]: Done  17 tasks      | elapsed:    2.9s\n",
      "[Parallel(n_jobs=1)]: Done  17 tasks      | elapsed:    0.5s\n",
      "[Parallel(n_jobs=1)]: Done  17 tasks      | elapsed:    2.7s\n",
      "[Parallel(n_jobs=1)]: Done  17 tasks      | elapsed:    0.5s\n"
     ]
    },
    {
     "name": "stdout",
     "output_type": "stream",
     "text": [
      "Opening raw data file /Users/chaohan/Library/CloudStorage/OneDrive-UniversityofToronto/Projects/Yas accent/data_preprocessed/3_ica/Yas_224_corr_prep_ica.fif...\n"
     ]
    },
    {
     "name": "stderr",
     "output_type": "stream",
     "text": [
      "/var/folders/j8/8nyf6njj5nzfjcv6s23y3nn40000gn/T/ipykernel_37645/644758328.py:15: RuntimeWarning: This filename (/Users/chaohan/Library/CloudStorage/OneDrive-UniversityofToronto/Projects/Yas accent/data_preprocessed/3_ica/Yas_224_corr_prep_ica.fif) does not conform to MNE naming conventions. All raw files should end with raw.fif, raw_sss.fif, raw_tsss.fif, _meg.fif, _eeg.fif, _ieeg.fif, raw.fif.gz, raw_sss.fif.gz, raw_tsss.fif.gz, _meg.fif.gz, _eeg.fif.gz or _ieeg.fif.gz\n",
      "  raw = mne.io.read_raw_fif(input_dir + file, preload = True)\n"
     ]
    },
    {
     "name": "stdout",
     "output_type": "stream",
     "text": [
      "    Range : 726 ... 869399 =      2.904 ...  3477.596 secs\n",
      "Ready.\n",
      "Reading 0 ... 868673  =      0.000 ...  3474.692 secs...\n",
      "EEG channel type selected for re-referencing\n",
      "Applying a custom ('EEG',) reference.\n",
      "Not setting metadata\n",
      "1691 matching events found\n",
      "No baseline correction applied\n",
      "0 projection items activated\n",
      "Using data from preloaded Raw for 1691 events and 751 original time points ...\n",
      "    Rejecting  epoch based on EEG : ['F7', 'T7', 'P7', 'O2', 'FT10', 'FC6', 'F8']\n",
      "    Rejecting  epoch based on EEG : ['T7', 'P7', 'FT10', 'FC6']\n",
      "    Rejecting  epoch based on EEG : ['T7', 'FT10', 'FC6']\n",
      "    Rejecting  epoch based on EEG : ['F7', 'C3', 'T7', 'CP5', 'CP1', 'Pz', 'P3', 'P7', 'Oz', 'O2', 'P4', 'P8', 'CP2', 'Cz', 'T8', 'FT10', 'FC6', 'F8']\n",
      "    Rejecting  epoch based on EEG : ['Fz', 'F7', 'FC5', 'FC1', 'C3', 'T7', 'CP5', 'CP1', 'Pz', 'P3', 'P7', 'O1', 'Oz', 'O2', 'P4', 'P8', 'CP6', 'CP2', 'Cz', 'C4', 'T8', 'FT10', 'FC6', 'FC2', 'F8']\n",
      "    Rejecting  epoch based on EEG : ['FT10']\n",
      "    Rejecting  epoch based on EEG : ['F7', 'T8', 'FT10']\n",
      "    Rejecting  epoch based on EEG : ['T8', 'FT10']\n",
      "    Rejecting  epoch based on EEG : ['O2', 'T8', 'FT10']\n",
      "    Rejecting  epoch based on EEG : ['C3']\n",
      "    Rejecting  epoch based on EEG : ['O2']\n",
      "    Rejecting  epoch based on EEG : ['O2']\n",
      "    Rejecting  epoch based on EEG : ['O2']\n",
      "    Rejecting  epoch based on EEG : ['F7', 'O2', 'T8', 'FC6', 'F8']\n",
      "    Rejecting  epoch based on EEG : ['F7', 'O2', 'T8', 'FC6', 'F8']\n",
      "    Rejecting  epoch based on EEG : ['FC6']\n",
      "    Rejecting  epoch based on EEG : ['FC6', 'F8']\n",
      "    Rejecting  epoch based on EEG : ['F4']\n",
      "    Rejecting  epoch based on EEG : ['F4']\n",
      "    Rejecting  epoch based on EEG : ['T7', 'CP5']\n",
      "    Rejecting  epoch based on EEG : ['T7', 'CP5']\n",
      "    Rejecting  epoch based on EEG : ['T7']\n",
      "    Rejecting  epoch based on EEG : ['CP2']\n",
      "    Rejecting  epoch based on EEG : ['CP2']\n",
      "    Rejecting  epoch based on EEG : ['CP5']\n",
      "25 bad epochs dropped\n"
     ]
    },
    {
     "name": "stderr",
     "output_type": "stream",
     "text": [
      "[Parallel(n_jobs=1)]: Done  17 tasks      | elapsed:    3.2s\n",
      "[Parallel(n_jobs=1)]: Done  17 tasks      | elapsed:    1.0s\n",
      "[Parallel(n_jobs=1)]: Done  17 tasks      | elapsed:    2.7s\n",
      "[Parallel(n_jobs=1)]: Done  17 tasks      | elapsed:    0.5s\n"
     ]
    },
    {
     "name": "stdout",
     "output_type": "stream",
     "text": [
      "Opening raw data file /Users/chaohan/Library/CloudStorage/OneDrive-UniversityofToronto/Projects/Yas accent/data_preprocessed/3_ica/Yas_242_corr_prep_ica.fif...\n",
      "    Range : 0 ... 869112 =      0.000 ...  3476.448 secs\n",
      "Ready.\n",
      "Reading 0 ... 869112  =      0.000 ...  3476.448 secs...\n"
     ]
    },
    {
     "name": "stderr",
     "output_type": "stream",
     "text": [
      "/var/folders/j8/8nyf6njj5nzfjcv6s23y3nn40000gn/T/ipykernel_37645/644758328.py:15: RuntimeWarning: This filename (/Users/chaohan/Library/CloudStorage/OneDrive-UniversityofToronto/Projects/Yas accent/data_preprocessed/3_ica/Yas_242_corr_prep_ica.fif) does not conform to MNE naming conventions. All raw files should end with raw.fif, raw_sss.fif, raw_tsss.fif, _meg.fif, _eeg.fif, _ieeg.fif, raw.fif.gz, raw_sss.fif.gz, raw_tsss.fif.gz, _meg.fif.gz, _eeg.fif.gz or _ieeg.fif.gz\n",
      "  raw = mne.io.read_raw_fif(input_dir + file, preload = True)\n"
     ]
    },
    {
     "name": "stdout",
     "output_type": "stream",
     "text": [
      "EEG channel type selected for re-referencing\n",
      "Applying a custom ('EEG',) reference.\n",
      "Not setting metadata\n",
      "1692 matching events found\n",
      "No baseline correction applied\n",
      "0 projection items activated\n",
      "Using data from preloaded Raw for 1692 events and 751 original time points ...\n",
      "    Rejecting  epoch based on EEG : ['F4']\n",
      "    Rejecting  epoch based on EEG : ['CP2']\n",
      "    Rejecting  epoch based on EEG : ['Fz', 'FC1', 'Cz', 'FC2']\n",
      "    Rejecting  epoch based on EEG : ['Fz', 'F3', 'F7', 'FT9', 'FC5', 'FC1', 'T7', 'CP5', 'CP1', 'Pz', 'P3', 'P7', 'P8', 'CP2', 'Cz', 'C4', 'T8', 'FC6', 'FC2', 'F4', 'F8']\n",
      "    Rejecting  epoch based on EEG : ['Fz', 'F3', 'F7', 'FT9', 'FC5', 'FC1', 'T7', 'CP5', 'CP1', 'Pz', 'P3', 'P7', 'P8', 'CP2', 'Cz', 'C4', 'T8', 'FC6', 'FC2', 'F4', 'F8']\n",
      "    Rejecting  epoch based on EEG : ['T7', 'T8']\n",
      "    Rejecting  epoch based on EEG : ['T8', 'F4']\n",
      "    Rejecting  epoch based on EEG : ['T8', 'F4']\n",
      "    Rejecting  epoch based on EEG : ['T7', 'T8']\n",
      "    Rejecting  epoch based on EEG : ['T7', 'T8']\n",
      "    Rejecting  epoch based on EEG : ['T7', 'T8']\n",
      "    Rejecting  epoch based on EEG : ['F4']\n",
      "    Rejecting  epoch based on EEG : ['F4']\n",
      "    Rejecting  epoch based on EEG : ['T7']\n",
      "    Rejecting  epoch based on EEG : ['T7']\n",
      "    Rejecting  epoch based on EEG : ['T8']\n",
      "    Rejecting  epoch based on EEG : ['T8']\n",
      "    Rejecting  epoch based on EEG : ['T7']\n",
      "    Rejecting  epoch based on EEG : ['T8']\n",
      "    Rejecting  epoch based on EEG : ['T8']\n",
      "    Rejecting  epoch based on EEG : ['Cz']\n",
      "    Rejecting  epoch based on EEG : ['Fz', 'F7', 'FT9', 'FC5', 'FC1', 'T7', 'CP5', 'CP1', 'Pz', 'P7', 'Oz', 'P4', 'CP2', 'Cz', 'C4', 'T8', 'FT10', 'FC2', 'F8']\n",
      "    Rejecting  epoch based on EEG : ['Fz', 'F7', 'FT9', 'FC5', 'FC1', 'T7', 'CP5', 'CP1', 'Pz', 'P7', 'Oz', 'P4', 'CP2', 'Cz', 'C4', 'T8', 'FT10', 'FC2', 'F4', 'F8']\n",
      "    Rejecting  epoch based on EEG : ['T7', 'CP5', 'T8', 'F4']\n",
      "    Rejecting  epoch based on EEG : ['T8']\n",
      "    Rejecting  epoch based on EEG : ['T8']\n",
      "    Rejecting  epoch based on EEG : ['T8']\n",
      "    Rejecting  epoch based on EEG : ['T7', 'T8', 'F4']\n",
      "    Rejecting  epoch based on EEG : ['T7', 'T8', 'F4']\n",
      "    Rejecting  epoch based on EEG : ['Fz', 'T7', 'CP1', 'Pz', 'CP2', 'Cz', 'T8', 'FC2']\n",
      "    Rejecting  epoch based on EEG : ['Fz', 'F7', 'FT9', 'FC1', 'T7', 'CP5', 'CP1', 'Pz', 'P7', 'Oz', 'CP2', 'Cz', 'T8', 'FT10', 'FC2', 'F8']\n",
      "    Rejecting  epoch based on EEG : ['T7']\n",
      "    Rejecting  epoch based on EEG : ['Fz', 'F7', 'FT9', 'FC1', 'T7', 'CP5', 'CP1', 'Pz', 'CP2', 'Cz', 'T8', 'FC2', 'F8']\n",
      "    Rejecting  epoch based on EEG : ['Fz', 'F7', 'FT9', 'FC1', 'T7', 'CP5', 'CP1', 'Pz', 'Oz', 'CP2', 'Cz', 'C4', 'T8', 'FC2', 'F8']\n",
      "    Rejecting  epoch based on EEG : ['Fz', 'F7', 'FT9', 'FC1', 'T7', 'CP5', 'CP1', 'Pz', 'Oz', 'CP2', 'Cz', 'C4', 'T8', 'FC2', 'F8']\n",
      "    Rejecting  epoch based on EEG : ['T7', 'T8']\n",
      "    Rejecting  epoch based on EEG : ['T8']\n",
      "37 bad epochs dropped\n"
     ]
    },
    {
     "name": "stderr",
     "output_type": "stream",
     "text": [
      "[Parallel(n_jobs=1)]: Done  17 tasks      | elapsed:    2.9s\n",
      "[Parallel(n_jobs=1)]: Done  17 tasks      | elapsed:    0.5s\n",
      "[Parallel(n_jobs=1)]: Done  17 tasks      | elapsed:    3.1s\n",
      "[Parallel(n_jobs=1)]: Done  17 tasks      | elapsed:    0.5s\n"
     ]
    },
    {
     "name": "stdout",
     "output_type": "stream",
     "text": [
      "Opening raw data file /Users/chaohan/Library/CloudStorage/OneDrive-UniversityofToronto/Projects/Yas accent/data_preprocessed/3_ica/Yas_231_corr_prep_ica.fif...\n",
      "    Range : 0 ... 844849 =      0.000 ...  3379.396 secs\n",
      "Ready.\n",
      "Reading 0 ... 844849  =      0.000 ...  3379.396 secs...\n"
     ]
    },
    {
     "name": "stderr",
     "output_type": "stream",
     "text": [
      "/var/folders/j8/8nyf6njj5nzfjcv6s23y3nn40000gn/T/ipykernel_37645/644758328.py:15: RuntimeWarning: This filename (/Users/chaohan/Library/CloudStorage/OneDrive-UniversityofToronto/Projects/Yas accent/data_preprocessed/3_ica/Yas_231_corr_prep_ica.fif) does not conform to MNE naming conventions. All raw files should end with raw.fif, raw_sss.fif, raw_tsss.fif, _meg.fif, _eeg.fif, _ieeg.fif, raw.fif.gz, raw_sss.fif.gz, raw_tsss.fif.gz, _meg.fif.gz, _eeg.fif.gz or _ieeg.fif.gz\n",
      "  raw = mne.io.read_raw_fif(input_dir + file, preload = True)\n"
     ]
    },
    {
     "name": "stdout",
     "output_type": "stream",
     "text": [
      "EEG channel type selected for re-referencing\n",
      "Applying a custom ('EEG',) reference.\n",
      "Not setting metadata\n",
      "1662 matching events found\n",
      "No baseline correction applied\n",
      "0 projection items activated\n",
      "Using data from preloaded Raw for 1662 events and 751 original time points ...\n",
      "    Rejecting  epoch based on EEG : ['CP5']\n",
      "    Rejecting  epoch based on EEG : ['CP5']\n",
      "    Rejecting  epoch based on EEG : ['CP6']\n",
      "    Rejecting  epoch based on EEG : ['CP6']\n",
      "4 bad epochs dropped\n"
     ]
    },
    {
     "name": "stderr",
     "output_type": "stream",
     "text": [
      "[Parallel(n_jobs=1)]: Done  17 tasks      | elapsed:    3.0s\n",
      "[Parallel(n_jobs=1)]: Done  17 tasks      | elapsed:    0.4s\n",
      "[Parallel(n_jobs=1)]: Done  17 tasks      | elapsed:    2.3s\n",
      "[Parallel(n_jobs=1)]: Done  17 tasks      | elapsed:    0.4s\n"
     ]
    },
    {
     "name": "stdout",
     "output_type": "stream",
     "text": [
      "Opening raw data file /Users/chaohan/Library/CloudStorage/OneDrive-UniversityofToronto/Projects/Yas accent/data_preprocessed/3_ica/Yas_166_corr_prep_ica.fif...\n",
      "    Range : 0 ... 923079 =      0.000 ...  3692.316 secs\n",
      "Ready.\n",
      "Reading 0 ... 923079  =      0.000 ...  3692.316 secs...\n"
     ]
    },
    {
     "name": "stderr",
     "output_type": "stream",
     "text": [
      "/var/folders/j8/8nyf6njj5nzfjcv6s23y3nn40000gn/T/ipykernel_37645/644758328.py:15: RuntimeWarning: This filename (/Users/chaohan/Library/CloudStorage/OneDrive-UniversityofToronto/Projects/Yas accent/data_preprocessed/3_ica/Yas_166_corr_prep_ica.fif) does not conform to MNE naming conventions. All raw files should end with raw.fif, raw_sss.fif, raw_tsss.fif, _meg.fif, _eeg.fif, _ieeg.fif, raw.fif.gz, raw_sss.fif.gz, raw_tsss.fif.gz, _meg.fif.gz, _eeg.fif.gz or _ieeg.fif.gz\n",
      "  raw = mne.io.read_raw_fif(input_dir + file, preload = True)\n"
     ]
    },
    {
     "name": "stdout",
     "output_type": "stream",
     "text": [
      "EEG channel type selected for re-referencing\n",
      "Applying a custom ('EEG',) reference.\n",
      "Not setting metadata\n",
      "1682 matching events found\n",
      "No baseline correction applied\n",
      "0 projection items activated\n",
      "Using data from preloaded Raw for 1682 events and 751 original time points ...\n",
      "    Rejecting  epoch based on EEG : ['FT9']\n",
      "    Rejecting  epoch based on EEG : ['FT9']\n",
      "    Rejecting  epoch based on EEG : ['FT9']\n",
      "    Rejecting  epoch based on EEG : ['FT9']\n",
      "    Rejecting  epoch based on EEG : ['FT9']\n",
      "    Rejecting  epoch based on EEG : ['FT9']\n",
      "    Rejecting  epoch based on EEG : ['FT9']\n",
      "    Rejecting  epoch based on EEG : ['O2']\n",
      "    Rejecting  epoch based on EEG : ['O2']\n",
      "    Rejecting  epoch based on EEG : ['P8']\n",
      "    Rejecting  epoch based on EEG : ['P8']\n",
      "    Rejecting  epoch based on EEG : ['FT9', 'T7', 'CP5', 'P7', 'P8']\n",
      "    Rejecting  epoch based on EEG : ['FT9', 'C4']\n",
      "    Rejecting  epoch based on EEG : ['F3', 'F7', 'FT9', 'FC5', 'FC1', 'T7', 'CP5', 'P7', 'C4']\n",
      "    Rejecting  epoch based on EEG : ['F3', 'F7', 'FT9', 'FC5', 'FC1', 'T7', 'CP5', 'P7', 'C4']\n",
      "    Rejecting  epoch based on EEG : ['F3', 'FT9', 'T7', 'CP5', 'P7']\n",
      "    Rejecting  epoch based on EEG : ['FT9']\n",
      "    Rejecting  epoch based on EEG : ['FT9']\n",
      "    Rejecting  epoch based on EEG : ['FT9']\n",
      "    Rejecting  epoch based on EEG : ['FT9']\n",
      "    Rejecting  epoch based on EEG : ['FT9']\n",
      "21 bad epochs dropped\n"
     ]
    },
    {
     "name": "stderr",
     "output_type": "stream",
     "text": [
      "[Parallel(n_jobs=1)]: Done  17 tasks      | elapsed:    2.5s\n",
      "[Parallel(n_jobs=1)]: Done  17 tasks      | elapsed:    0.4s\n",
      "[Parallel(n_jobs=1)]: Done  17 tasks      | elapsed:    2.3s\n",
      "[Parallel(n_jobs=1)]: Done  17 tasks      | elapsed:    0.4s\n"
     ]
    },
    {
     "name": "stdout",
     "output_type": "stream",
     "text": [
      "Opening raw data file /Users/chaohan/Library/CloudStorage/OneDrive-UniversityofToronto/Projects/Yas accent/data_preprocessed/3_ica/Yas_128_corr_prep_ica.fif...\n",
      "    Range : 34435 ... 927592 =    137.740 ...  3710.368 secs\n",
      "Ready.\n",
      "Reading 0 ... 893157  =      0.000 ...  3572.628 secs...\n"
     ]
    },
    {
     "name": "stderr",
     "output_type": "stream",
     "text": [
      "/var/folders/j8/8nyf6njj5nzfjcv6s23y3nn40000gn/T/ipykernel_37645/644758328.py:15: RuntimeWarning: This filename (/Users/chaohan/Library/CloudStorage/OneDrive-UniversityofToronto/Projects/Yas accent/data_preprocessed/3_ica/Yas_128_corr_prep_ica.fif) does not conform to MNE naming conventions. All raw files should end with raw.fif, raw_sss.fif, raw_tsss.fif, _meg.fif, _eeg.fif, _ieeg.fif, raw.fif.gz, raw_sss.fif.gz, raw_tsss.fif.gz, _meg.fif.gz, _eeg.fif.gz or _ieeg.fif.gz\n",
      "  raw = mne.io.read_raw_fif(input_dir + file, preload = True)\n"
     ]
    },
    {
     "name": "stdout",
     "output_type": "stream",
     "text": [
      "EEG channel type selected for re-referencing\n",
      "Applying a custom ('EEG',) reference.\n",
      "Not setting metadata\n",
      "1694 matching events found\n",
      "No baseline correction applied\n",
      "0 projection items activated\n",
      "Using data from preloaded Raw for 1694 events and 751 original time points ...\n",
      "    Rejecting  epoch based on EEG : ['C4', 'FT10']\n",
      "    Rejecting  epoch based on EEG : ['C4', 'FT10']\n",
      "    Rejecting  epoch based on EEG : ['C4', 'FT10']\n",
      "    Rejecting  epoch based on EEG : ['C4', 'FT10']\n",
      "    Rejecting  epoch based on EEG : ['C4']\n",
      "    Rejecting  epoch based on EEG : ['C4', 'FT10']\n",
      "    Rejecting  epoch based on EEG : ['C4', 'FT10']\n",
      "    Rejecting  epoch based on EEG : ['P7']\n",
      "    Rejecting  epoch based on EEG : ['P7', 'C4', 'FT10']\n",
      "    Rejecting  epoch based on EEG : ['F3']\n",
      "    Rejecting  epoch based on EEG : ['Fz', 'F3', 'F7', 'F4']\n",
      "    Rejecting  epoch based on EEG : ['F3']\n",
      "    Rejecting  epoch based on EEG : ['F3']\n",
      "    Rejecting  epoch based on EEG : ['FT10']\n",
      "    Rejecting  epoch based on EEG : ['FT10']\n",
      "    Rejecting  epoch based on EEG : ['FT10', 'FC2']\n",
      "    Rejecting  epoch based on EEG : ['FT10', 'FC2']\n",
      "    Rejecting  epoch based on EEG : ['P7']\n",
      "    Rejecting  epoch based on EEG : ['P7', 'C4', 'FT10']\n",
      "    Rejecting  epoch based on EEG : ['C4', 'FT10']\n",
      "    Rejecting  epoch based on EEG : ['F3']\n",
      "    Rejecting  epoch based on EEG : ['P7']\n",
      "    Rejecting  epoch based on EEG : ['P7', 'C4', 'FT10']\n",
      "    Rejecting  epoch based on EEG : ['C4', 'FT10']\n",
      "    Rejecting  epoch based on EEG : ['P7', 'C4', 'FT10']\n",
      "    Rejecting  epoch based on EEG : ['C4', 'FT10']\n",
      "    Rejecting  epoch based on EEG : ['P7', 'C4', 'FT10', 'F4']\n",
      "    Rejecting  epoch based on EEG : ['P7', 'C4', 'FT10', 'F4']\n",
      "28 bad epochs dropped\n"
     ]
    },
    {
     "name": "stderr",
     "output_type": "stream",
     "text": [
      "[Parallel(n_jobs=1)]: Done  17 tasks      | elapsed:    2.8s\n",
      "[Parallel(n_jobs=1)]: Done  17 tasks      | elapsed:    0.4s\n",
      "[Parallel(n_jobs=1)]: Done  17 tasks      | elapsed:    2.2s\n",
      "[Parallel(n_jobs=1)]: Done  17 tasks      | elapsed:    0.4s\n"
     ]
    },
    {
     "name": "stdout",
     "output_type": "stream",
     "text": [
      "Opening raw data file /Users/chaohan/Library/CloudStorage/OneDrive-UniversityofToronto/Projects/Yas accent/data_preprocessed/3_ica/Yas_219_corr_prep_ica.fif...\n",
      "    Range : 486 ... 878008 =      1.944 ...  3512.032 secs\n",
      "Ready.\n",
      "Reading 0 ... 877522  =      0.000 ...  3510.088 secs...\n"
     ]
    },
    {
     "name": "stderr",
     "output_type": "stream",
     "text": [
      "/var/folders/j8/8nyf6njj5nzfjcv6s23y3nn40000gn/T/ipykernel_37645/644758328.py:15: RuntimeWarning: This filename (/Users/chaohan/Library/CloudStorage/OneDrive-UniversityofToronto/Projects/Yas accent/data_preprocessed/3_ica/Yas_219_corr_prep_ica.fif) does not conform to MNE naming conventions. All raw files should end with raw.fif, raw_sss.fif, raw_tsss.fif, _meg.fif, _eeg.fif, _ieeg.fif, raw.fif.gz, raw_sss.fif.gz, raw_tsss.fif.gz, _meg.fif.gz, _eeg.fif.gz or _ieeg.fif.gz\n",
      "  raw = mne.io.read_raw_fif(input_dir + file, preload = True)\n"
     ]
    },
    {
     "name": "stdout",
     "output_type": "stream",
     "text": [
      "EEG channel type selected for re-referencing\n",
      "Applying a custom ('EEG',) reference.\n",
      "Not setting metadata\n",
      "1669 matching events found\n",
      "No baseline correction applied\n",
      "0 projection items activated\n",
      "Using data from preloaded Raw for 1669 events and 751 original time points ...\n",
      "    Rejecting  epoch based on EEG : ['CP1', 'P7', 'P4', 'CP6', 'CP2', 'C4']\n",
      "    Rejecting  epoch based on EEG : ['CP6']\n",
      "    Rejecting  epoch based on EEG : ['CP6']\n",
      "    Rejecting  epoch based on EEG : ['C4']\n",
      "    Rejecting  epoch based on EEG : ['C3', 'C4']\n",
      "    Rejecting  epoch based on EEG : ['CP6', 'C4']\n",
      "    Rejecting  epoch based on EEG : ['CP6', 'C4']\n",
      "    Rejecting  epoch based on EEG : ['C3', 'CP6', 'C4', 'T8', 'FT10', 'FC6', 'FC2', 'F4']\n",
      "    Rejecting  epoch based on EEG : ['C3', 'CP6', 'C4', 'T8', 'FT10', 'FC6', 'FC2', 'F4']\n",
      "    Rejecting  epoch based on EEG : ['F7', 'FT9', 'FC5', 'C3', 'T7', 'P4', 'CP6', 'CP2', 'C4', 'T8', 'FT10', 'FC6', 'FC2', 'F4']\n",
      "    Rejecting  epoch based on EEG : ['C4', 'FC6']\n",
      "    Rejecting  epoch based on EEG : ['C4', 'FC6']\n",
      "    Rejecting  epoch based on EEG : ['T7', 'C4', 'FT10', 'FC6', 'F4']\n",
      "    Rejecting  epoch based on EEG : ['C4', 'FT10', 'FC6']\n",
      "    Rejecting  epoch based on EEG : ['FC5', 'C3']\n",
      "    Rejecting  epoch based on EEG : ['CP6', 'T8']\n",
      "    Rejecting  epoch based on EEG : ['CP6', 'T8']\n",
      "17 bad epochs dropped\n"
     ]
    },
    {
     "name": "stderr",
     "output_type": "stream",
     "text": [
      "[Parallel(n_jobs=1)]: Done  17 tasks      | elapsed:    2.7s\n",
      "[Parallel(n_jobs=1)]: Done  17 tasks      | elapsed:    0.4s\n",
      "[Parallel(n_jobs=1)]: Done  17 tasks      | elapsed:    2.1s\n",
      "[Parallel(n_jobs=1)]: Done  17 tasks      | elapsed:    0.4s\n"
     ]
    },
    {
     "name": "stdout",
     "output_type": "stream",
     "text": [
      "Opening raw data file /Users/chaohan/Library/CloudStorage/OneDrive-UniversityofToronto/Projects/Yas accent/data_preprocessed/3_ica/Yas_257_corr_prep_ica.fif...\n",
      "    Range : 2130 ... 854803 =      8.520 ...  3419.212 secs\n",
      "Ready.\n",
      "Reading 0 ... 852673  =      0.000 ...  3410.692 secs...\n"
     ]
    },
    {
     "name": "stderr",
     "output_type": "stream",
     "text": [
      "/var/folders/j8/8nyf6njj5nzfjcv6s23y3nn40000gn/T/ipykernel_37645/644758328.py:15: RuntimeWarning: This filename (/Users/chaohan/Library/CloudStorage/OneDrive-UniversityofToronto/Projects/Yas accent/data_preprocessed/3_ica/Yas_257_corr_prep_ica.fif) does not conform to MNE naming conventions. All raw files should end with raw.fif, raw_sss.fif, raw_tsss.fif, _meg.fif, _eeg.fif, _ieeg.fif, raw.fif.gz, raw_sss.fif.gz, raw_tsss.fif.gz, _meg.fif.gz, _eeg.fif.gz or _ieeg.fif.gz\n",
      "  raw = mne.io.read_raw_fif(input_dir + file, preload = True)\n"
     ]
    },
    {
     "name": "stdout",
     "output_type": "stream",
     "text": [
      "EEG channel type selected for re-referencing\n",
      "Applying a custom ('EEG',) reference.\n",
      "Not setting metadata\n",
      "1643 matching events found\n",
      "No baseline correction applied\n",
      "0 projection items activated\n",
      "Using data from preloaded Raw for 1643 events and 751 original time points ...\n",
      "    Rejecting  epoch based on EEG : ['F7']\n",
      "    Rejecting  epoch based on EEG : ['F7']\n",
      "    Rejecting  epoch based on EEG : ['F7', 'FC5']\n",
      "    Rejecting  epoch based on EEG : ['F3', 'F7', 'FT9', 'FC5', 'T7']\n",
      "    Rejecting  epoch based on EEG : ['F3', 'F7', 'FT9', 'FC5', 'T7']\n",
      "    Rejecting  epoch based on EEG : ['F3', 'F7', 'FT9', 'FC5', 'T7']\n",
      "    Rejecting  epoch based on EEG : ['F7']\n",
      "    Rejecting  epoch based on EEG : ['F7', 'FC5']\n",
      "    Rejecting  epoch based on EEG : ['F3', 'F7', 'FC5']\n",
      "    Rejecting  epoch based on EEG : ['FC5']\n",
      "    Rejecting  epoch based on EEG : ['F7']\n",
      "    Rejecting  epoch based on EEG : ['F7']\n",
      "    Rejecting  epoch based on EEG : ['F3', 'F7', 'FT9', 'FC5']\n",
      "    Rejecting  epoch based on EEG : ['F3', 'F7', 'FT9', 'FC5', 'C3', 'T7', 'CP5']\n",
      "    Rejecting  epoch based on EEG : ['F3', 'F7', 'FC5', 'C3', 'T7', 'CP5']\n",
      "    Rejecting  epoch based on EEG : ['F7']\n",
      "    Rejecting  epoch based on EEG : ['F7', 'FC5']\n",
      "    Rejecting  epoch based on EEG : ['F7', 'FC5']\n",
      "    Rejecting  epoch based on EEG : ['F3', 'F7', 'FC5']\n",
      "    Rejecting  epoch based on EEG : ['F3', 'F7', 'FC5']\n",
      "    Rejecting  epoch based on EEG : ['F7']\n",
      "    Rejecting  epoch based on EEG : ['F3', 'F7', 'FT9', 'FC5']\n",
      "    Rejecting  epoch based on EEG : ['F3', 'F7', 'FT9', 'FC5']\n",
      "    Rejecting  epoch based on EEG : ['F3', 'F7', 'FT9', 'FC5', 'C3']\n",
      "    Rejecting  epoch based on EEG : ['F3', 'F7', 'FT9', 'FC5', 'C3']\n",
      "    Rejecting  epoch based on EEG : ['F3', 'F7', 'FC5']\n",
      "    Rejecting  epoch based on EEG : ['F3', 'F7', 'FT9', 'FC5', 'C3', 'T7', 'CP5']\n",
      "    Rejecting  epoch based on EEG : ['F3', 'F7', 'FT9', 'FC5', 'C3', 'T7', 'CP5']\n",
      "    Rejecting  epoch based on EEG : ['F7', 'FC5', 'C3', 'CP5']\n",
      "    Rejecting  epoch based on EEG : ['F7', 'FC5', 'C3', 'CP5']\n",
      "    Rejecting  epoch based on EEG : ['F7']\n",
      "    Rejecting  epoch based on EEG : ['F7']\n",
      "    Rejecting  epoch based on EEG : ['F3', 'F7', 'FT9', 'FC5', 'C3', 'T7', 'CP5']\n",
      "    Rejecting  epoch based on EEG : ['F3', 'F7', 'FT9', 'FC5', 'C3', 'T7', 'CP5']\n",
      "    Rejecting  epoch based on EEG : ['F7', 'FC5']\n",
      "    Rejecting  epoch based on EEG : ['F3', 'F7', 'FT9', 'FC5']\n",
      "    Rejecting  epoch based on EEG : ['F7', 'FC5']\n",
      "    Rejecting  epoch based on EEG : ['F3', 'F7', 'FT9', 'FC5', 'C3', 'CP5']\n",
      "    Rejecting  epoch based on EEG : ['F3', 'F7', 'FT9', 'FC5']\n",
      "    Rejecting  epoch based on EEG : ['F7']\n",
      "    Rejecting  epoch based on EEG : ['F3', 'F7', 'FT9', 'FC5', 'C3', 'T7', 'CP5']\n",
      "    Rejecting  epoch based on EEG : ['F3', 'F7', 'FT9', 'FC5', 'C3', 'T7', 'CP5']\n",
      "    Rejecting  epoch based on EEG : ['F7']\n",
      "    Rejecting  epoch based on EEG : ['F7']\n",
      "    Rejecting  epoch based on EEG : ['F3', 'F7', 'FC5']\n",
      "    Rejecting  epoch based on EEG : ['F3', 'F7', 'FT9', 'FC5', 'C3', 'T7', 'CP5']\n",
      "    Rejecting  epoch based on EEG : ['F3', 'F7', 'FT9', 'FC5', 'C3', 'T7', 'CP5']\n",
      "    Rejecting  epoch based on EEG : ['F3', 'F7', 'FT9', 'FC5', 'C3', 'T7']\n",
      "    Rejecting  epoch based on EEG : ['F3', 'F7', 'FT9', 'FC5', 'C3', 'T7']\n",
      "    Rejecting  epoch based on EEG : ['F7']\n",
      "    Rejecting  epoch based on EEG : ['F4']\n",
      "    Rejecting  epoch based on EEG : ['F4']\n",
      "    Rejecting  epoch based on EEG : ['F7']\n",
      "    Rejecting  epoch based on EEG : ['F7']\n",
      "    Rejecting  epoch based on EEG : ['F3', 'F7', 'FT9', 'FC5', 'C3', 'T7', 'CP5']\n",
      "    Rejecting  epoch based on EEG : ['F3', 'F7', 'FT9', 'FC5', 'C3', 'T7', 'CP5']\n",
      "    Rejecting  epoch based on EEG : ['F3', 'F7', 'FT9', 'FC5', 'C3', 'T7', 'CP5']\n",
      "    Rejecting  epoch based on EEG : ['F3', 'F7', 'FT9', 'FC5', 'C3', 'T7', 'CP5']\n",
      "    Rejecting  epoch based on EEG : ['F7', 'FC5', 'T7']\n",
      "    Rejecting  epoch based on EEG : ['CP6']\n",
      "    Rejecting  epoch based on EEG : ['F7', 'FC5', 'CP6']\n",
      "    Rejecting  epoch based on EEG : ['F3', 'F7', 'FT9', 'FC5', 'C3', 'T7', 'CP5']\n",
      "    Rejecting  epoch based on EEG : ['F7']\n",
      "    Rejecting  epoch based on EEG : ['F7', 'F4', 'F8']\n",
      "    Rejecting  epoch based on EEG : ['CP6']\n",
      "    Rejecting  epoch based on EEG : ['CP6']\n",
      "    Rejecting  epoch based on EEG : ['CP6']\n",
      "    Rejecting  epoch based on EEG : ['F7']\n",
      "    Rejecting  epoch based on EEG : ['F7']\n",
      "    Rejecting  epoch based on EEG : ['F7']\n",
      "    Rejecting  epoch based on EEG : ['F7']\n",
      "    Rejecting  epoch based on EEG : ['F3', 'F7', 'FT9', 'FC5', 'C3', 'T7', 'CP5']\n",
      "    Rejecting  epoch based on EEG : ['F3', 'F7', 'FT9', 'FC5']\n",
      "    Rejecting  epoch based on EEG : ['O2']\n",
      "    Rejecting  epoch based on EEG : ['O2']\n",
      "    Rejecting  epoch based on EEG : ['F3', 'F7', 'FC5', 'C3']\n",
      "    Rejecting  epoch based on EEG : ['F3', 'F7', 'FC5', 'C3', 'T7']\n",
      "    Rejecting  epoch based on EEG : ['F3', 'F7', 'FC5']\n",
      "    Rejecting  epoch based on EEG : ['F3', 'F7', 'FT9', 'FC5', 'C3', 'T7']\n",
      "    Rejecting  epoch based on EEG : ['F3', 'F7', 'FT9', 'FC5', 'C3', 'T7']\n",
      "    Rejecting  epoch based on EEG : ['F3', 'F7', 'FC5', 'C3', 'T7', 'CP5']\n",
      "    Rejecting  epoch based on EEG : ['F7']\n",
      "    Rejecting  epoch based on EEG : ['F3', 'F7', 'FC5']\n",
      "    Rejecting  epoch based on EEG : ['F7']\n",
      "    Rejecting  epoch based on EEG : ['F7', 'FC5']\n",
      "    Rejecting  epoch based on EEG : ['F7', 'FT9', 'FC5']\n",
      "    Rejecting  epoch based on EEG : ['F7', 'FT9', 'FC5']\n",
      "    Rejecting  epoch based on EEG : ['F7', 'FT9']\n",
      "    Rejecting  epoch based on EEG : ['F3', 'F7', 'FT9', 'FC5', 'C3', 'T7']\n",
      "    Rejecting  epoch based on EEG : ['F3', 'F7', 'FT9', 'FC5', 'C3', 'T7']\n",
      "    Rejecting  epoch based on EEG : ['F7', 'FT9', 'FC5', 'T7', 'CP5']\n",
      "    Rejecting  epoch based on EEG : ['F7', 'FT9', 'FC5', 'T7', 'CP5']\n",
      "    Rejecting  epoch based on EEG : ['F3', 'F7', 'FT9', 'FC5', 'C3', 'T7']\n",
      "    Rejecting  epoch based on EEG : ['F3', 'F7', 'FT9', 'FC5', 'C3', 'T7']\n",
      "    Rejecting  epoch based on EEG : ['F3', 'F7', 'FC5']\n",
      "    Rejecting  epoch based on EEG : ['F7']\n",
      "    Rejecting  epoch based on EEG : ['F7']\n",
      "    Rejecting  epoch based on EEG : ['Fz', 'F3', 'FC1', 'CP1', 'Pz', 'P3', 'P7', 'O1', 'Oz', 'O2', 'P4', 'P8', 'CP6', 'CP2', 'Cz', 'C4', 'FT10', 'FC2']\n",
      "    Rejecting  epoch based on EEG : ['O1', 'Oz', 'O2', 'FT10']\n",
      "    Rejecting  epoch based on EEG : ['F7']\n",
      "    Rejecting  epoch based on EEG : ['F7']\n",
      "    Rejecting  epoch based on EEG : ['F3', 'F7', 'FC5', 'CP6', 'C4', 'FC6', 'F4']\n",
      "    Rejecting  epoch based on EEG : ['F7', 'CP6', 'C4', 'T8', 'FC6', 'F4', 'F8']\n",
      "    Rejecting  epoch based on EEG : ['F7', 'CP6', 'C4', 'FC6', 'F4', 'F8']\n",
      "    Rejecting  epoch based on EEG : ['CP6']\n",
      "    Rejecting  epoch based on EEG : ['CP6']\n",
      "    Rejecting  epoch based on EEG : ['F3', 'F7', 'FC5']\n",
      "    Rejecting  epoch based on EEG : ['F3', 'F7', 'FT9', 'FC5', 'P4', 'CP6', 'FT10']\n",
      "    Rejecting  epoch based on EEG : ['F3', 'F7', 'FT9', 'FC5']\n",
      "    Rejecting  epoch based on EEG : ['CP6']\n",
      "    Rejecting  epoch based on EEG : ['F3', 'F7', 'FC5', 'C3', 'T7', 'CP5']\n",
      "    Rejecting  epoch based on EEG : ['O2']\n",
      "    Rejecting  epoch based on EEG : ['Oz']\n",
      "    Rejecting  epoch based on EEG : ['Oz']\n",
      "114 bad epochs dropped\n"
     ]
    },
    {
     "name": "stderr",
     "output_type": "stream",
     "text": [
      "[Parallel(n_jobs=1)]: Done  17 tasks      | elapsed:    2.3s\n",
      "[Parallel(n_jobs=1)]: Done  17 tasks      | elapsed:    0.4s\n",
      "[Parallel(n_jobs=1)]: Done  17 tasks      | elapsed:    1.8s\n",
      "[Parallel(n_jobs=1)]: Done  17 tasks      | elapsed:    0.4s\n"
     ]
    },
    {
     "name": "stdout",
     "output_type": "stream",
     "text": [
      "Opening raw data file /Users/chaohan/Library/CloudStorage/OneDrive-UniversityofToronto/Projects/Yas accent/data_preprocessed/3_ica/Yas_100_corr_prep_ica.fif...\n",
      "    Range : 0 ... 838001 =      0.000 ...  3352.004 secs\n",
      "Ready.\n"
     ]
    },
    {
     "name": "stderr",
     "output_type": "stream",
     "text": [
      "/var/folders/j8/8nyf6njj5nzfjcv6s23y3nn40000gn/T/ipykernel_37645/644758328.py:15: RuntimeWarning: This filename (/Users/chaohan/Library/CloudStorage/OneDrive-UniversityofToronto/Projects/Yas accent/data_preprocessed/3_ica/Yas_100_corr_prep_ica.fif) does not conform to MNE naming conventions. All raw files should end with raw.fif, raw_sss.fif, raw_tsss.fif, _meg.fif, _eeg.fif, _ieeg.fif, raw.fif.gz, raw_sss.fif.gz, raw_tsss.fif.gz, _meg.fif.gz, _eeg.fif.gz or _ieeg.fif.gz\n",
      "  raw = mne.io.read_raw_fif(input_dir + file, preload = True)\n"
     ]
    },
    {
     "name": "stdout",
     "output_type": "stream",
     "text": [
      "Reading 0 ... 838001  =      0.000 ...  3352.004 secs...\n",
      "EEG channel type selected for re-referencing\n",
      "Applying a custom ('EEG',) reference.\n",
      "Not setting metadata\n",
      "1674 matching events found\n",
      "No baseline correction applied\n",
      "0 projection items activated\n",
      "Using data from preloaded Raw for 1674 events and 751 original time points ...\n",
      "    Rejecting  epoch based on EEG : ['FT10']\n",
      "    Rejecting  epoch based on EEG : ['FT10']\n",
      "    Rejecting  epoch based on EEG : ['FT10', 'F8']\n",
      "    Rejecting  epoch based on EEG : ['FT10', 'F8']\n",
      "    Rejecting  epoch based on EEG : ['FT10']\n",
      "    Rejecting  epoch based on EEG : ['FT10']\n",
      "    Rejecting  epoch based on EEG : ['FT10']\n",
      "    Rejecting  epoch based on EEG : ['FT10']\n",
      "    Rejecting  epoch based on EEG : ['FT10']\n",
      "    Rejecting  epoch based on EEG : ['FT10']\n",
      "    Rejecting  epoch based on EEG : ['FT9', 'T7', 'P7', 'O1', 'Oz', 'O2']\n",
      "    Rejecting  epoch based on EEG : ['T7', 'P7']\n",
      "    Rejecting  epoch based on EEG : ['FT9', 'T7', 'P7']\n",
      "    Rejecting  epoch based on EEG : ['FT9', 'T7', 'P7', 'O2', 'Cz']\n",
      "    Rejecting  epoch based on EEG : ['FT9', 'T7', 'P7', 'Cz']\n",
      "    Rejecting  epoch based on EEG : ['FT9', 'P7', 'CP6', 'FT10']\n",
      "    Rejecting  epoch based on EEG : ['FT10']\n",
      "    Rejecting  epoch based on EEG : ['P7', 'FT10']\n",
      "    Rejecting  epoch based on EEG : ['T7', 'P7', 'FT10']\n",
      "    Rejecting  epoch based on EEG : ['P7']\n",
      "    Rejecting  epoch based on EEG : ['P7']\n",
      "    Rejecting  epoch based on EEG : ['FT10']\n",
      "    Rejecting  epoch based on EEG : ['FT10']\n",
      "    Rejecting  epoch based on EEG : ['FT10']\n",
      "    Rejecting  epoch based on EEG : ['FT9', 'T7', 'CP5', 'P7']\n",
      "    Rejecting  epoch based on EEG : ['FT9', 'T7', 'CP5', 'P7']\n",
      "    Rejecting  epoch based on EEG : ['FT9', 'T7', 'P7']\n",
      "    Rejecting  epoch based on EEG : ['FT9', 'T7', 'P7', 'FT10']\n",
      "    Rejecting  epoch based on EEG : ['FT10']\n",
      "    Rejecting  epoch based on EEG : ['T7', 'P7']\n",
      "    Rejecting  epoch based on EEG : ['T7', 'P7']\n",
      "    Rejecting  epoch based on EEG : ['T7', 'P7']\n",
      "    Rejecting  epoch based on EEG : ['T7', 'P7']\n",
      "    Rejecting  epoch based on EEG : ['P7']\n",
      "    Rejecting  epoch based on EEG : ['P7']\n",
      "    Rejecting  epoch based on EEG : ['P7']\n",
      "    Rejecting  epoch based on EEG : ['FT10', 'F4']\n",
      "    Rejecting  epoch based on EEG : ['FT9', 'T7', 'P7', 'FT10']\n",
      "    Rejecting  epoch based on EEG : ['FT9', 'T7', 'P7']\n",
      "    Rejecting  epoch based on EEG : ['FT9', 'T7', 'P7']\n",
      "    Rejecting  epoch based on EEG : ['FT9', 'T7', 'P7', 'C4', 'FT10']\n",
      "    Rejecting  epoch based on EEG : ['FT9', 'T7', 'P7', 'C4', 'FT10']\n",
      "    Rejecting  epoch based on EEG : ['FT9', 'T7', 'CP5', 'P3', 'P7', 'FT10']\n",
      "    Rejecting  epoch based on EEG : ['FT9', 'T7', 'CP5', 'P3', 'P7', 'FT10']\n",
      "    Rejecting  epoch based on EEG : ['P7']\n",
      "    Rejecting  epoch based on EEG : ['FT9', 'T7', 'P3', 'P7', 'FT10']\n",
      "    Rejecting  epoch based on EEG : ['FT9', 'T7', 'P3', 'P7', 'FT10']\n",
      "    Rejecting  epoch based on EEG : ['T7', 'P7']\n",
      "    Rejecting  epoch based on EEG : ['P3']\n",
      "    Rejecting  epoch based on EEG : ['FT9', 'T7', 'P3', 'P7']\n",
      "    Rejecting  epoch based on EEG : ['P3']\n",
      "    Rejecting  epoch based on EEG : ['T7', 'P7']\n",
      "    Rejecting  epoch based on EEG : ['FT9', 'T7', 'CP5', 'P7']\n",
      "    Rejecting  epoch based on EEG : ['FT9', 'T7', 'CP5', 'P7']\n",
      "    Rejecting  epoch based on EEG : ['P7']\n",
      "    Rejecting  epoch based on EEG : ['P7']\n",
      "56 bad epochs dropped\n"
     ]
    },
    {
     "name": "stderr",
     "output_type": "stream",
     "text": [
      "[Parallel(n_jobs=1)]: Done  17 tasks      | elapsed:    2.5s\n",
      "[Parallel(n_jobs=1)]: Done  17 tasks      | elapsed:    0.4s\n",
      "[Parallel(n_jobs=1)]: Done  17 tasks      | elapsed:    1.8s\n",
      "[Parallel(n_jobs=1)]: Done  17 tasks      | elapsed:    0.4s\n"
     ]
    },
    {
     "name": "stdout",
     "output_type": "stream",
     "text": [
      "Opening raw data file /Users/chaohan/Library/CloudStorage/OneDrive-UniversityofToronto/Projects/Yas accent/data_preprocessed/3_ica/Yas_205_corr_prep_ica.fif...\n",
      "    Range : 14800 ... 913829 =     59.200 ...  3655.316 secs\n",
      "Ready.\n"
     ]
    },
    {
     "name": "stderr",
     "output_type": "stream",
     "text": [
      "/var/folders/j8/8nyf6njj5nzfjcv6s23y3nn40000gn/T/ipykernel_37645/644758328.py:15: RuntimeWarning: This filename (/Users/chaohan/Library/CloudStorage/OneDrive-UniversityofToronto/Projects/Yas accent/data_preprocessed/3_ica/Yas_205_corr_prep_ica.fif) does not conform to MNE naming conventions. All raw files should end with raw.fif, raw_sss.fif, raw_tsss.fif, _meg.fif, _eeg.fif, _ieeg.fif, raw.fif.gz, raw_sss.fif.gz, raw_tsss.fif.gz, _meg.fif.gz, _eeg.fif.gz or _ieeg.fif.gz\n",
      "  raw = mne.io.read_raw_fif(input_dir + file, preload = True)\n"
     ]
    },
    {
     "name": "stdout",
     "output_type": "stream",
     "text": [
      "Reading 0 ... 899029  =      0.000 ...  3596.116 secs...\n",
      "EEG channel type selected for re-referencing\n",
      "Applying a custom ('EEG',) reference.\n",
      "Not setting metadata\n",
      "1607 matching events found\n",
      "No baseline correction applied\n",
      "0 projection items activated\n",
      "Using data from preloaded Raw for 1607 events and 751 original time points ...\n",
      "    Rejecting  epoch based on EEG : ['FC6']\n",
      "    Rejecting  epoch based on EEG : ['FC6']\n",
      "    Rejecting  epoch based on EEG : ['FC6']\n",
      "    Rejecting  epoch based on EEG : ['Fz', 'P7']\n",
      "    Rejecting  epoch based on EEG : ['FC1', 'P7']\n",
      "5 bad epochs dropped\n"
     ]
    },
    {
     "name": "stderr",
     "output_type": "stream",
     "text": [
      "[Parallel(n_jobs=1)]: Done  17 tasks      | elapsed:    2.6s\n",
      "[Parallel(n_jobs=1)]: Done  17 tasks      | elapsed:    0.5s\n",
      "[Parallel(n_jobs=1)]: Done  17 tasks      | elapsed:    2.9s\n",
      "[Parallel(n_jobs=1)]: Done  17 tasks      | elapsed:    0.5s\n"
     ]
    },
    {
     "name": "stdout",
     "output_type": "stream",
     "text": [
      "Opening raw data file /Users/chaohan/Library/CloudStorage/OneDrive-UniversityofToronto/Projects/Yas accent/data_preprocessed/3_ica/Yas_152_corr_prep_ica.fif...\n",
      "    Range : 1509 ... 881006 =      6.036 ...  3524.024 secs\n",
      "Ready.\n"
     ]
    },
    {
     "name": "stderr",
     "output_type": "stream",
     "text": [
      "/var/folders/j8/8nyf6njj5nzfjcv6s23y3nn40000gn/T/ipykernel_37645/644758328.py:15: RuntimeWarning: This filename (/Users/chaohan/Library/CloudStorage/OneDrive-UniversityofToronto/Projects/Yas accent/data_preprocessed/3_ica/Yas_152_corr_prep_ica.fif) does not conform to MNE naming conventions. All raw files should end with raw.fif, raw_sss.fif, raw_tsss.fif, _meg.fif, _eeg.fif, _ieeg.fif, raw.fif.gz, raw_sss.fif.gz, raw_tsss.fif.gz, _meg.fif.gz, _eeg.fif.gz or _ieeg.fif.gz\n",
      "  raw = mne.io.read_raw_fif(input_dir + file, preload = True)\n"
     ]
    },
    {
     "name": "stdout",
     "output_type": "stream",
     "text": [
      "Reading 0 ... 879497  =      0.000 ...  3517.988 secs...\n",
      "EEG channel type selected for re-referencing\n",
      "Applying a custom ('EEG',) reference.\n",
      "Not setting metadata\n",
      "1675 matching events found\n",
      "No baseline correction applied\n",
      "0 projection items activated\n",
      "Using data from preloaded Raw for 1675 events and 751 original time points ...\n",
      "    Rejecting  epoch based on EEG : ['O2']\n",
      "1 bad epochs dropped\n"
     ]
    },
    {
     "name": "stderr",
     "output_type": "stream",
     "text": [
      "[Parallel(n_jobs=1)]: Done  17 tasks      | elapsed:    2.3s\n",
      "[Parallel(n_jobs=1)]: Done  17 tasks      | elapsed:    0.4s\n",
      "[Parallel(n_jobs=1)]: Done  17 tasks      | elapsed:    2.0s\n",
      "[Parallel(n_jobs=1)]: Done  17 tasks      | elapsed:    0.4s\n"
     ]
    },
    {
     "name": "stdout",
     "output_type": "stream",
     "text": [
      "Opening raw data file /Users/chaohan/Library/CloudStorage/OneDrive-UniversityofToronto/Projects/Yas accent/data_preprocessed/3_ica/Yas_263_corr_prep_ica.fif...\n"
     ]
    },
    {
     "name": "stderr",
     "output_type": "stream",
     "text": [
      "/var/folders/j8/8nyf6njj5nzfjcv6s23y3nn40000gn/T/ipykernel_37645/644758328.py:15: RuntimeWarning: This filename (/Users/chaohan/Library/CloudStorage/OneDrive-UniversityofToronto/Projects/Yas accent/data_preprocessed/3_ica/Yas_263_corr_prep_ica.fif) does not conform to MNE naming conventions. All raw files should end with raw.fif, raw_sss.fif, raw_tsss.fif, _meg.fif, _eeg.fif, _ieeg.fif, raw.fif.gz, raw_sss.fif.gz, raw_tsss.fif.gz, _meg.fif.gz, _eeg.fif.gz or _ieeg.fif.gz\n",
      "  raw = mne.io.read_raw_fif(input_dir + file, preload = True)\n"
     ]
    },
    {
     "name": "stdout",
     "output_type": "stream",
     "text": [
      "    Range : 509 ... 897022 =      2.036 ...  3588.088 secs\n",
      "Ready.\n",
      "Reading 0 ... 896513  =      0.000 ...  3586.052 secs...\n",
      "EEG channel type selected for re-referencing\n",
      "Applying a custom ('EEG',) reference.\n",
      "Not setting metadata\n",
      "1699 matching events found\n",
      "No baseline correction applied\n",
      "0 projection items activated\n",
      "Using data from preloaded Raw for 1699 events and 751 original time points ...\n",
      "0 bad epochs dropped\n"
     ]
    },
    {
     "name": "stderr",
     "output_type": "stream",
     "text": [
      "[Parallel(n_jobs=1)]: Done  17 tasks      | elapsed:    2.1s\n",
      "[Parallel(n_jobs=1)]: Done  17 tasks      | elapsed:    0.4s\n",
      "[Parallel(n_jobs=1)]: Done  17 tasks      | elapsed:    2.0s\n",
      "[Parallel(n_jobs=1)]: Done  17 tasks      | elapsed:    0.4s\n"
     ]
    },
    {
     "name": "stdout",
     "output_type": "stream",
     "text": [
      "Opening raw data file /Users/chaohan/Library/CloudStorage/OneDrive-UniversityofToronto/Projects/Yas accent/data_preprocessed/3_ica/Yas_134_corr_prep_ica.fif...\n"
     ]
    },
    {
     "name": "stderr",
     "output_type": "stream",
     "text": [
      "/var/folders/j8/8nyf6njj5nzfjcv6s23y3nn40000gn/T/ipykernel_37645/644758328.py:15: RuntimeWarning: This filename (/Users/chaohan/Library/CloudStorage/OneDrive-UniversityofToronto/Projects/Yas accent/data_preprocessed/3_ica/Yas_134_corr_prep_ica.fif) does not conform to MNE naming conventions. All raw files should end with raw.fif, raw_sss.fif, raw_tsss.fif, _meg.fif, _eeg.fif, _ieeg.fif, raw.fif.gz, raw_sss.fif.gz, raw_tsss.fif.gz, _meg.fif.gz, _eeg.fif.gz or _ieeg.fif.gz\n",
      "  raw = mne.io.read_raw_fif(input_dir + file, preload = True)\n"
     ]
    },
    {
     "name": "stdout",
     "output_type": "stream",
     "text": [
      "    Range : 2049 ... 934308 =      8.196 ...  3737.232 secs\n",
      "Ready.\n",
      "Reading 0 ... 932259  =      0.000 ...  3729.036 secs...\n",
      "EEG channel type selected for re-referencing\n",
      "Applying a custom ('EEG',) reference.\n",
      "Not setting metadata\n",
      "1720 matching events found\n",
      "No baseline correction applied\n",
      "0 projection items activated\n",
      "Using data from preloaded Raw for 1720 events and 751 original time points ...\n",
      "    Rejecting  epoch based on EEG : ['CP6', 'T8', 'F8']\n",
      "    Rejecting  epoch based on EEG : ['CP6', 'T8', 'F8']\n",
      "    Rejecting  epoch based on EEG : ['CP6', 'T8', 'F8']\n",
      "    Rejecting  epoch based on EEG : ['F3', 'FT9', 'FC5', 'C3', 'CP5']\n",
      "    Rejecting  epoch based on EEG : ['F3', 'FT9', 'FC5', 'C3', 'CP5']\n",
      "    Rejecting  epoch based on EEG : ['T8', 'F8']\n",
      "    Rejecting  epoch based on EEG : ['F3', 'FT9', 'FC5', 'CP5', 'CP6', 'T8', 'F8']\n",
      "    Rejecting  epoch based on EEG : ['F3', 'FT9', 'FC5', 'CP5', 'CP6', 'T8', 'F8']\n",
      "    Rejecting  epoch based on EEG : ['CP5']\n",
      "    Rejecting  epoch based on EEG : ['T8']\n",
      "    Rejecting  epoch based on EEG : ['T8']\n",
      "    Rejecting  epoch based on EEG : ['F4']\n",
      "    Rejecting  epoch based on EEG : ['F4']\n",
      "    Rejecting  epoch based on EEG : ['T8']\n",
      "    Rejecting  epoch based on EEG : ['T8']\n",
      "    Rejecting  epoch based on EEG : ['Fz', 'F3', 'F7', 'F4']\n",
      "    Rejecting  epoch based on EEG : ['Fz', 'F3', 'F7', 'F4']\n",
      "    Rejecting  epoch based on EEG : ['F3', 'F7', 'FT9', 'FC5', 'CP5', 'CP6', 'T8', 'F4', 'F8']\n",
      "    Rejecting  epoch based on EEG : ['F3', 'F7', 'FT9', 'FC5', 'CP5', 'CP6', 'T8', 'FT10', 'F4', 'F8']\n",
      "    Rejecting  epoch based on EEG : ['T8']\n",
      "    Rejecting  epoch based on EEG : ['F3', 'FT9', 'FC5', 'C3', 'CP5']\n",
      "    Rejecting  epoch based on EEG : ['F3', 'FT9', 'FC5', 'FC1', 'C3', 'CP5']\n",
      "    Rejecting  epoch based on EEG : ['F3', 'FT9', 'FC5', 'CP5']\n",
      "    Rejecting  epoch based on EEG : ['F3', 'FT9', 'CP6', 'T8', 'FT10', 'F8']\n",
      "    Rejecting  epoch based on EEG : ['F3', 'P7', 'T8', 'F4', 'F8']\n",
      "    Rejecting  epoch based on EEG : ['F3']\n",
      "    Rejecting  epoch based on EEG : ['F3', 'FC5', 'CP5', 'T8', 'F8']\n",
      "    Rejecting  epoch based on EEG : ['F3', 'FC5', 'CP5', 'T8', 'F8']\n",
      "    Rejecting  epoch based on EEG : ['F3', 'FT9', 'CP6', 'T8', 'F8']\n",
      "    Rejecting  epoch based on EEG : ['F3', 'FT9', 'CP6', 'T8', 'F8']\n",
      "    Rejecting  epoch based on EEG : ['T8']\n",
      "    Rejecting  epoch based on EEG : ['F8']\n",
      "32 bad epochs dropped\n"
     ]
    },
    {
     "name": "stderr",
     "output_type": "stream",
     "text": [
      "[Parallel(n_jobs=1)]: Done  17 tasks      | elapsed:    2.4s\n",
      "[Parallel(n_jobs=1)]: Done  17 tasks      | elapsed:    0.3s\n",
      "[Parallel(n_jobs=1)]: Done  17 tasks      | elapsed:    2.0s\n",
      "[Parallel(n_jobs=1)]: Done  17 tasks      | elapsed:    0.4s\n"
     ]
    },
    {
     "name": "stdout",
     "output_type": "stream",
     "text": [
      "Opening raw data file /Users/chaohan/Library/CloudStorage/OneDrive-UniversityofToronto/Projects/Yas accent/data_preprocessed/3_ica/Yas_234_corr_prep_ica.fif...\n"
     ]
    },
    {
     "name": "stderr",
     "output_type": "stream",
     "text": [
      "/var/folders/j8/8nyf6njj5nzfjcv6s23y3nn40000gn/T/ipykernel_37645/644758328.py:15: RuntimeWarning: This filename (/Users/chaohan/Library/CloudStorage/OneDrive-UniversityofToronto/Projects/Yas accent/data_preprocessed/3_ica/Yas_234_corr_prep_ica.fif) does not conform to MNE naming conventions. All raw files should end with raw.fif, raw_sss.fif, raw_tsss.fif, _meg.fif, _eeg.fif, _ieeg.fif, raw.fif.gz, raw_sss.fif.gz, raw_tsss.fif.gz, _meg.fif.gz, _eeg.fif.gz or _ieeg.fif.gz\n",
      "  raw = mne.io.read_raw_fif(input_dir + file, preload = True)\n"
     ]
    },
    {
     "name": "stdout",
     "output_type": "stream",
     "text": [
      "    Range : 2346 ... 945949 =      9.384 ...  3783.796 secs\n",
      "Ready.\n",
      "Reading 0 ... 943603  =      0.000 ...  3774.412 secs...\n",
      "EEG channel type selected for re-referencing\n",
      "Applying a custom ('EEG',) reference.\n",
      "Not setting metadata\n",
      "1676 matching events found\n",
      "No baseline correction applied\n",
      "0 projection items activated\n",
      "Using data from preloaded Raw for 1676 events and 751 original time points ...\n",
      "    Rejecting  epoch based on EEG : ['F7', 'FT9']\n",
      "    Rejecting  epoch based on EEG : ['FT9']\n",
      "    Rejecting  epoch based on EEG : ['Fz', 'F3', 'F7', 'FT9', 'FC5', 'FC1', 'C3', 'T7', 'CP5', 'CP1', 'Pz', 'P3', 'P7', 'O1', 'Oz', 'O2', 'P4', 'P8', 'TP10', 'CP6', 'CP2', 'Cz', 'C4', 'T8', 'FT10', 'FC6', 'FC2', 'F4', 'F8', 'TP9']\n",
      "    Rejecting  epoch based on EEG : ['FT9']\n",
      "    Rejecting  epoch based on EEG : ['F3', 'F7', 'FT9', 'FC5', 'T7']\n",
      "    Rejecting  epoch based on EEG : ['F3', 'F7', 'FT9', 'FC5', 'T7']\n",
      "    Rejecting  epoch based on EEG : ['FT9']\n",
      "    Rejecting  epoch based on EEG : ['FT9']\n",
      "    Rejecting  epoch based on EEG : ['F7', 'FT9', 'FC5', 'T7']\n",
      "    Rejecting  epoch based on EEG : ['F7', 'FT9', 'FC5', 'T7', 'CP5']\n",
      "    Rejecting  epoch based on EEG : ['F7', 'FT9', 'FC5', 'T7', 'CP5']\n",
      "    Rejecting  epoch based on EEG : ['F7', 'FT9', 'FC5']\n",
      "    Rejecting  epoch based on EEG : ['F7', 'FT9', 'FC5']\n",
      "    Rejecting  epoch based on EEG : ['F7', 'FT9']\n",
      "    Rejecting  epoch based on EEG : ['F7', 'FT9', 'FC5', 'C3', 'T7']\n",
      "    Rejecting  epoch based on EEG : ['F7', 'FT9', 'FC5', 'C3', 'T7']\n",
      "    Rejecting  epoch based on EEG : ['F7', 'FT9', 'FC5', 'T7', 'CP5']\n",
      "    Rejecting  epoch based on EEG : ['F7', 'FT9', 'FC5', 'T7', 'CP5']\n",
      "    Rejecting  epoch based on EEG : ['F7', 'FT9']\n",
      "    Rejecting  epoch based on EEG : ['FT9']\n",
      "    Rejecting  epoch based on EEG : ['F7', 'FT9']\n",
      "    Rejecting  epoch based on EEG : ['F7', 'FC5']\n",
      "    Rejecting  epoch based on EEG : ['F7', 'FT9', 'FC5']\n",
      "    Rejecting  epoch based on EEG : ['F7', 'FT9', 'FC5']\n",
      "    Rejecting  epoch based on EEG : ['F7', 'FT9', 'T7']\n",
      "    Rejecting  epoch based on EEG : ['F7', 'FT9', 'FC5', 'T7']\n",
      "    Rejecting  epoch based on EEG : ['F7', 'FT9', 'FC5', 'T7']\n",
      "    Rejecting  epoch based on EEG : ['F7', 'FT9', 'FC5', 'T7']\n",
      "    Rejecting  epoch based on EEG : ['F7', 'FT9', 'FC5', 'T7']\n",
      "    Rejecting  epoch based on EEG : ['CP5']\n",
      "    Rejecting  epoch based on EEG : ['F7', 'FT9', 'FC5', 'T7']\n",
      "    Rejecting  epoch based on EEG : ['F7', 'FT9', 'FC5', 'T7']\n",
      "    Rejecting  epoch based on EEG : ['F7', 'FT9', 'FC5', 'T7']\n",
      "    Rejecting  epoch based on EEG : ['FT9']\n",
      "    Rejecting  epoch based on EEG : ['FT9']\n",
      "    Rejecting  epoch based on EEG : ['FT9']\n",
      "    Rejecting  epoch based on EEG : ['F3', 'F7', 'FT9', 'FC5', 'C3', 'T7', 'CP5']\n",
      "    Rejecting  epoch based on EEG : ['F3', 'F7', 'FT9', 'FC5', 'C3', 'T7', 'CP5']\n",
      "    Rejecting  epoch based on EEG : ['F7', 'FT9', 'FC5', 'T7', 'CP5']\n",
      "    Rejecting  epoch based on EEG : ['F7', 'FT9', 'FC5', 'T7']\n",
      "    Rejecting  epoch based on EEG : ['F7', 'FT9', 'FC5', 'T7']\n",
      "    Rejecting  epoch based on EEG : ['CP5']\n",
      "    Rejecting  epoch based on EEG : ['CP5']\n",
      "    Rejecting  epoch based on EEG : ['F7', 'FT9', 'FC5', 'T7']\n",
      "    Rejecting  epoch based on EEG : ['F7', 'FT9', 'FC5', 'T7']\n",
      "    Rejecting  epoch based on EEG : ['F7', 'FT9', 'FC5', 'T7']\n",
      "    Rejecting  epoch based on EEG : ['FT9']\n",
      "    Rejecting  epoch based on EEG : ['FT9', 'FC5']\n",
      "    Rejecting  epoch based on EEG : ['FT9']\n",
      "    Rejecting  epoch based on EEG : ['CP5']\n",
      "    Rejecting  epoch based on EEG : ['CP5']\n",
      "    Rejecting  epoch based on EEG : ['P8']\n",
      "    Rejecting  epoch based on EEG : ['P8']\n",
      "    Rejecting  epoch based on EEG : ['F7', 'FT9', 'FC5', 'T7']\n",
      "    Rejecting  epoch based on EEG : ['F7', 'FT9', 'FC5', 'T7']\n",
      "    Rejecting  epoch based on EEG : ['F7', 'FT9', 'FC5', 'T7']\n",
      "    Rejecting  epoch based on EEG : ['F7', 'FT9', 'FC5', 'T7']\n",
      "    Rejecting  epoch based on EEG : ['F7', 'FT9', 'FC5', 'T7']\n",
      "    Rejecting  epoch based on EEG : ['FT9']\n",
      "    Rejecting  epoch based on EEG : ['FT9']\n",
      "    Rejecting  epoch based on EEG : ['FT9']\n",
      "    Rejecting  epoch based on EEG : ['CP5']\n",
      "    Rejecting  epoch based on EEG : ['CP5']\n",
      "    Rejecting  epoch based on EEG : ['F3', 'F7', 'FT9', 'FC5', 'C3', 'T7', 'CP5']\n",
      "    Rejecting  epoch based on EEG : ['F3', 'F7', 'FT9', 'FC5', 'C3', 'T7', 'CP5']\n",
      "    Rejecting  epoch based on EEG : ['F7', 'FT9', 'FC5', 'T7']\n",
      "    Rejecting  epoch based on EEG : ['F7', 'FT9']\n",
      "    Rejecting  epoch based on EEG : ['F7', 'FT9']\n",
      "    Rejecting  epoch based on EEG : ['F7', 'FT9', 'FC5', 'T7']\n",
      "    Rejecting  epoch based on EEG : ['F7', 'FT9', 'FC5', 'T7']\n",
      "    Rejecting  epoch based on EEG : ['F7', 'FT9']\n",
      "    Rejecting  epoch based on EEG : ['F7', 'FT9', 'FC5', 'T7']\n",
      "    Rejecting  epoch based on EEG : ['F7', 'FT9', 'FC5', 'T7']\n",
      "    Rejecting  epoch based on EEG : ['F7', 'FT9', 'FC5']\n",
      "    Rejecting  epoch based on EEG : ['CP5']\n",
      "    Rejecting  epoch based on EEG : ['F3', 'F7', 'FT9', 'FC5', 'C3', 'T7', 'CP5', 'P7', 'F8']\n",
      "    Rejecting  epoch based on EEG : ['F3', 'F7', 'FT9', 'FC5', 'C3', 'T7', 'CP5', 'P7']\n",
      "    Rejecting  epoch based on EEG : ['F7', 'FT9', 'FC5']\n",
      "    Rejecting  epoch based on EEG : ['F3', 'F7', 'FT9', 'FC5', 'C3', 'T7', 'CP5']\n",
      "    Rejecting  epoch based on EEG : ['F7', 'FT9', 'FC5', 'T7']\n",
      "    Rejecting  epoch based on EEG : ['F7', 'FT9', 'FC5', 'T7']\n",
      "    Rejecting  epoch based on EEG : ['F7', 'FT9', 'FC5', 'T7']\n",
      "    Rejecting  epoch based on EEG : ['FT9']\n",
      "    Rejecting  epoch based on EEG : ['FT9']\n",
      "    Rejecting  epoch based on EEG : ['F7', 'FT9', 'FC5', 'T7']\n",
      "    Rejecting  epoch based on EEG : ['F7', 'FT9', 'FC5']\n",
      "    Rejecting  epoch based on EEG : ['F7', 'FT9', 'T7']\n",
      "    Rejecting  epoch based on EEG : ['F7', 'FT9']\n",
      "    Rejecting  epoch based on EEG : ['CP5']\n",
      "    Rejecting  epoch based on EEG : ['CP5']\n",
      "    Rejecting  epoch based on EEG : ['F7', 'FT9', 'FC5', 'T7']\n",
      "    Rejecting  epoch based on EEG : ['F7', 'FT9', 'FC5', 'T7']\n",
      "    Rejecting  epoch based on EEG : ['F7', 'FT9', 'FC5']\n",
      "    Rejecting  epoch based on EEG : ['F7', 'FT9', 'FC5', 'T7']\n",
      "    Rejecting  epoch based on EEG : ['F7', 'FT9', 'FC5', 'T7']\n",
      "    Rejecting  epoch based on EEG : ['FT9']\n",
      "    Rejecting  epoch based on EEG : ['FT9']\n",
      "    Rejecting  epoch based on EEG : ['FT9']\n",
      "    Rejecting  epoch based on EEG : ['FT9']\n",
      "    Rejecting  epoch based on EEG : ['F7', 'FT9', 'FC5', 'T7']\n",
      "    Rejecting  epoch based on EEG : ['F7', 'FT9', 'FC5', 'T7']\n",
      "    Rejecting  epoch based on EEG : ['F7', 'FT9', 'FC5']\n",
      "    Rejecting  epoch based on EEG : ['F7', 'FT9', 'FC5', 'C3', 'T7', 'CP5']\n",
      "    Rejecting  epoch based on EEG : ['F7', 'FT9', 'FC5', 'T7', 'CP5']\n",
      "    Rejecting  epoch based on EEG : ['FT9', 'CP5']\n",
      "    Rejecting  epoch based on EEG : ['FT9']\n",
      "    Rejecting  epoch based on EEG : ['FT9']\n",
      "    Rejecting  epoch based on EEG : ['F7', 'FT9', 'FC5', 'C3', 'T7']\n",
      "    Rejecting  epoch based on EEG : ['F7', 'FT9', 'FC5', 'C3', 'T7']\n",
      "    Rejecting  epoch based on EEG : ['F7', 'FT9', 'FC5']\n",
      "    Rejecting  epoch based on EEG : ['F7', 'FT9', 'FC5']\n",
      "    Rejecting  epoch based on EEG : ['F7', 'FT9', 'FC5']\n",
      "    Rejecting  epoch based on EEG : ['F7', 'FT9', 'FC5', 'T7']\n",
      "    Rejecting  epoch based on EEG : ['F7', 'FT9', 'FC5', 'T7']\n",
      "    Rejecting  epoch based on EEG : ['F7', 'FT9', 'FC5', 'T7']\n",
      "    Rejecting  epoch based on EEG : ['F7', 'FT9', 'FC5']\n",
      "    Rejecting  epoch based on EEG : ['F7', 'FT9', 'FC5']\n",
      "    Rejecting  epoch based on EEG : ['F7', 'FT9', 'FC5']\n",
      "    Rejecting  epoch based on EEG : ['F7', 'FT9', 'FC5']\n",
      "    Rejecting  epoch based on EEG : ['F7', 'FT9', 'FC5']\n",
      "    Rejecting  epoch based on EEG : ['F7', 'FT9', 'FC5']\n",
      "    Rejecting  epoch based on EEG : ['F7', 'FT9', 'FC5', 'T7']\n",
      "    Rejecting  epoch based on EEG : ['F7', 'FT9', 'FC5', 'T7']\n",
      "123 bad epochs dropped\n"
     ]
    },
    {
     "name": "stderr",
     "output_type": "stream",
     "text": [
      "[Parallel(n_jobs=1)]: Done  17 tasks      | elapsed:    1.8s\n",
      "[Parallel(n_jobs=1)]: Done  17 tasks      | elapsed:    0.3s\n",
      "[Parallel(n_jobs=1)]: Done  17 tasks      | elapsed:    1.8s\n",
      "[Parallel(n_jobs=1)]: Done  17 tasks      | elapsed:    0.3s\n"
     ]
    },
    {
     "name": "stdout",
     "output_type": "stream",
     "text": [
      "Opening raw data file /Users/chaohan/Library/CloudStorage/OneDrive-UniversityofToronto/Projects/Yas accent/data_preprocessed/3_ica/Yas_163_corr_prep_ica.fif...\n"
     ]
    },
    {
     "name": "stderr",
     "output_type": "stream",
     "text": [
      "/var/folders/j8/8nyf6njj5nzfjcv6s23y3nn40000gn/T/ipykernel_37645/644758328.py:15: RuntimeWarning: This filename (/Users/chaohan/Library/CloudStorage/OneDrive-UniversityofToronto/Projects/Yas accent/data_preprocessed/3_ica/Yas_163_corr_prep_ica.fif) does not conform to MNE naming conventions. All raw files should end with raw.fif, raw_sss.fif, raw_tsss.fif, _meg.fif, _eeg.fif, _ieeg.fif, raw.fif.gz, raw_sss.fif.gz, raw_tsss.fif.gz, _meg.fif.gz, _eeg.fif.gz or _ieeg.fif.gz\n",
      "  raw = mne.io.read_raw_fif(input_dir + file, preload = True)\n"
     ]
    },
    {
     "name": "stdout",
     "output_type": "stream",
     "text": [
      "    Range : 1802 ... 933967 =      7.208 ...  3735.868 secs\n",
      "Ready.\n",
      "Reading 0 ... 932165  =      0.000 ...  3728.660 secs...\n",
      "EEG channel type selected for re-referencing\n",
      "Applying a custom ('EEG',) reference.\n",
      "Not setting metadata\n",
      "1667 matching events found\n",
      "No baseline correction applied\n",
      "0 projection items activated\n",
      "Using data from preloaded Raw for 1667 events and 751 original time points ...\n",
      "    Rejecting  epoch based on EEG : ['C4']\n",
      "    Rejecting  epoch based on EEG : ['Oz', 'O2']\n",
      "    Rejecting  epoch based on EEG : ['Oz', 'O2']\n",
      "    Rejecting  epoch based on EEG : ['C4', 'FC6', 'FC2', 'F8']\n",
      "    Rejecting  epoch based on EEG : ['Oz', 'O2']\n",
      "    Rejecting  epoch based on EEG : ['Oz', 'O2']\n",
      "    Rejecting  epoch based on EEG : ['Oz', 'O2']\n",
      "    Rejecting  epoch based on EEG : ['Oz']\n",
      "    Rejecting  epoch based on EEG : ['Oz']\n",
      "    Rejecting  epoch based on EEG : ['Oz', 'O2']\n",
      "    Rejecting  epoch based on EEG : ['Oz', 'O2']\n",
      "    Rejecting  epoch based on EEG : ['O1', 'Oz', 'O2']\n",
      "    Rejecting  epoch based on EEG : ['O2']\n",
      "    Rejecting  epoch based on EEG : ['Oz', 'O2']\n",
      "    Rejecting  epoch based on EEG : ['Oz', 'O2']\n",
      "    Rejecting  epoch based on EEG : ['Oz', 'O2']\n",
      "    Rejecting  epoch based on EEG : ['Oz', 'O2']\n",
      "    Rejecting  epoch based on EEG : ['O1', 'Oz', 'O2']\n",
      "    Rejecting  epoch based on EEG : ['Oz']\n",
      "    Rejecting  epoch based on EEG : ['O2']\n",
      "    Rejecting  epoch based on EEG : ['O2']\n",
      "    Rejecting  epoch based on EEG : ['Oz', 'O2']\n",
      "    Rejecting  epoch based on EEG : ['Oz', 'O2']\n",
      "    Rejecting  epoch based on EEG : ['Oz']\n",
      "    Rejecting  epoch based on EEG : ['Fz', 'F3', 'FT9', 'FC5', 'FC1', 'C3', 'T7', 'CP5', 'P3', 'P7', 'O1', 'FC2', 'F4']\n",
      "    Rejecting  epoch based on EEG : ['O2']\n",
      "    Rejecting  epoch based on EEG : ['O2']\n",
      "    Rejecting  epoch based on EEG : ['Oz', 'O2']\n",
      "    Rejecting  epoch based on EEG : ['Oz', 'O2']\n",
      "    Rejecting  epoch based on EEG : ['Oz', 'O2']\n",
      "    Rejecting  epoch based on EEG : ['Oz']\n",
      "    Rejecting  epoch based on EEG : ['Oz', 'O2']\n",
      "    Rejecting  epoch based on EEG : ['O2']\n",
      "    Rejecting  epoch based on EEG : ['O2']\n",
      "    Rejecting  epoch based on EEG : ['O1', 'Oz', 'O2']\n",
      "35 bad epochs dropped\n"
     ]
    },
    {
     "name": "stderr",
     "output_type": "stream",
     "text": [
      "[Parallel(n_jobs=1)]: Done  17 tasks      | elapsed:    1.7s\n",
      "[Parallel(n_jobs=1)]: Done  17 tasks      | elapsed:    0.4s\n",
      "[Parallel(n_jobs=1)]: Done  17 tasks      | elapsed:    1.9s\n",
      "[Parallel(n_jobs=1)]: Done  17 tasks      | elapsed:    0.3s\n"
     ]
    },
    {
     "name": "stdout",
     "output_type": "stream",
     "text": [
      "Opening raw data file /Users/chaohan/Library/CloudStorage/OneDrive-UniversityofToronto/Projects/Yas accent/data_preprocessed/3_ica/Yas_252_corr_prep_ica.fif...\n"
     ]
    },
    {
     "name": "stderr",
     "output_type": "stream",
     "text": [
      "/var/folders/j8/8nyf6njj5nzfjcv6s23y3nn40000gn/T/ipykernel_37645/644758328.py:15: RuntimeWarning: This filename (/Users/chaohan/Library/CloudStorage/OneDrive-UniversityofToronto/Projects/Yas accent/data_preprocessed/3_ica/Yas_252_corr_prep_ica.fif) does not conform to MNE naming conventions. All raw files should end with raw.fif, raw_sss.fif, raw_tsss.fif, _meg.fif, _eeg.fif, _ieeg.fif, raw.fif.gz, raw_sss.fif.gz, raw_tsss.fif.gz, _meg.fif.gz, _eeg.fif.gz or _ieeg.fif.gz\n",
      "  raw = mne.io.read_raw_fif(input_dir + file, preload = True)\n"
     ]
    },
    {
     "name": "stdout",
     "output_type": "stream",
     "text": [
      "    Range : 0 ... 911802 =      0.000 ...  3647.208 secs\n",
      "Ready.\n",
      "Reading 0 ... 911802  =      0.000 ...  3647.208 secs...\n",
      "EEG channel type selected for re-referencing\n",
      "Applying a custom ('EEG',) reference.\n",
      "Not setting metadata\n",
      "1616 matching events found\n",
      "No baseline correction applied\n",
      "0 projection items activated\n",
      "Using data from preloaded Raw for 1616 events and 751 original time points ...\n",
      "    Rejecting  epoch based on EEG : ['FC5']\n",
      "    Rejecting  epoch based on EEG : ['FC5']\n",
      "2 bad epochs dropped\n"
     ]
    },
    {
     "name": "stderr",
     "output_type": "stream",
     "text": [
      "[Parallel(n_jobs=1)]: Done  17 tasks      | elapsed:    1.8s\n",
      "[Parallel(n_jobs=1)]: Done  17 tasks      | elapsed:    0.4s\n",
      "[Parallel(n_jobs=1)]: Done  17 tasks      | elapsed:    1.7s\n",
      "[Parallel(n_jobs=1)]: Done  17 tasks      | elapsed:    0.4s\n"
     ]
    },
    {
     "name": "stdout",
     "output_type": "stream",
     "text": [
      "Opening raw data file /Users/chaohan/Library/CloudStorage/OneDrive-UniversityofToronto/Projects/Yas accent/data_preprocessed/3_ica/Yas_105_corr_prep_ica.fif...\n",
      "    Range : 2652 ... 863395 =     10.608 ...  3453.580 secs\n",
      "Ready.\n",
      "Reading 0 ... 860743  =      0.000 ...  3442.972 secs...\n"
     ]
    },
    {
     "name": "stderr",
     "output_type": "stream",
     "text": [
      "/var/folders/j8/8nyf6njj5nzfjcv6s23y3nn40000gn/T/ipykernel_37645/644758328.py:15: RuntimeWarning: This filename (/Users/chaohan/Library/CloudStorage/OneDrive-UniversityofToronto/Projects/Yas accent/data_preprocessed/3_ica/Yas_105_corr_prep_ica.fif) does not conform to MNE naming conventions. All raw files should end with raw.fif, raw_sss.fif, raw_tsss.fif, _meg.fif, _eeg.fif, _ieeg.fif, raw.fif.gz, raw_sss.fif.gz, raw_tsss.fif.gz, _meg.fif.gz, _eeg.fif.gz or _ieeg.fif.gz\n",
      "  raw = mne.io.read_raw_fif(input_dir + file, preload = True)\n"
     ]
    },
    {
     "name": "stdout",
     "output_type": "stream",
     "text": [
      "EEG channel type selected for re-referencing\n",
      "Applying a custom ('EEG',) reference.\n",
      "Not setting metadata\n",
      "1690 matching events found\n",
      "No baseline correction applied\n",
      "0 projection items activated\n",
      "Using data from preloaded Raw for 1690 events and 751 original time points ...\n",
      "    Rejecting  epoch based on EEG : ['FT9']\n",
      "    Rejecting  epoch based on EEG : ['Oz', 'FC6', 'F8']\n",
      "    Rejecting  epoch based on EEG : ['Oz']\n",
      "    Rejecting  epoch based on EEG : ['O1']\n",
      "    Rejecting  epoch based on EEG : ['O2']\n",
      "    Rejecting  epoch based on EEG : ['O2']\n",
      "    Rejecting  epoch based on EEG : ['Fz', 'F3', 'F7', 'FT9', 'FC5', 'FC1', 'C3', 'T7', 'CP5', 'CP1', 'Pz', 'P3', 'P7', 'O1', 'Oz', 'O2', 'P4', 'P8', 'TP10', 'CP6', 'Cz', 'C4', 'T8', 'FC6', 'FC2', 'F4', 'F8', 'TP9']\n",
      "    Rejecting  epoch based on EEG : ['Fz', 'F3', 'F7', 'FT9', 'FC5', 'FC1', 'C3', 'T7', 'CP5', 'CP1', 'Pz', 'P3', 'P7', 'O1', 'Oz', 'O2', 'P4', 'P8', 'TP10', 'CP6', 'Cz', 'T8', 'FC6', 'FC2', 'F4', 'F8', 'TP9']\n",
      "    Rejecting  epoch based on EEG : ['FC6']\n",
      "    Rejecting  epoch based on EEG : ['FC6']\n",
      "    Rejecting  epoch based on EEG : ['Fz', 'F3', 'F7', 'FT9', 'FC5', 'FC1', 'C3', 'T7', 'CP5', 'CP1', 'Pz', 'P3', 'P7', 'O1', 'Oz', 'O2', 'P8', 'CP6', 'Cz', 'T8', 'FC6', 'FC2', 'F8']\n",
      "    Rejecting  epoch based on EEG : ['Fz', 'F3', 'F7', 'FT9', 'FC5', 'FC1', 'C3', 'T7', 'CP5', 'CP1', 'Pz', 'P3', 'P7', 'O1', 'Oz', 'O2', 'P4', 'P8', 'TP10', 'CP6', 'CP2', 'Cz', 'C4', 'T8', 'FC6', 'FC2', 'F4', 'F8', 'TP9']\n",
      "    Rejecting  epoch based on EEG : ['Fz', 'F3', 'F7', 'FT9', 'FC5', 'FC1', 'C3', 'T7', 'CP5', 'CP1', 'Pz', 'P3', 'P7', 'O1', 'Oz', 'O2', 'P4', 'P8', 'TP10', 'CP6', 'CP2', 'Cz', 'C4', 'T8', 'FC6', 'FC2', 'F4', 'F8', 'TP9']\n",
      "    Rejecting  epoch based on EEG : ['FT9', 'T7', 'CP5', 'P3', 'P7', 'O1', 'Oz', 'O2']\n",
      "    Rejecting  epoch based on EEG : ['FT9', 'T7', 'CP5', 'P3', 'P7', 'O1', 'Oz', 'O2']\n",
      "    Rejecting  epoch based on EEG : ['Fz', 'F3', 'F7', 'FT9', 'FC5', 'FC1', 'C3', 'T7', 'CP5', 'CP1', 'Pz', 'P3', 'O1', 'Oz', 'O2', 'P8', 'Cz', 'T8', 'FC6', 'FC2', 'F8']\n",
      "    Rejecting  epoch based on EEG : ['Fz', 'F3', 'F7', 'FT9', 'FC5', 'FC1', 'C3', 'T7', 'CP5', 'CP1', 'Pz', 'P3', 'P7', 'O1', 'Oz', 'O2', 'P8', 'Cz', 'T8', 'FC6', 'FC2', 'F8']\n",
      "    Rejecting  epoch based on EEG : ['Fz', 'F3', 'F7', 'FT9', 'FC5', 'FC1', 'C3', 'T7', 'CP5', 'CP1', 'Pz', 'P3', 'P7', 'O1', 'Oz', 'O2', 'P4', 'P8', 'TP10', 'CP6', 'Cz', 'T8', 'FC6', 'FC2', 'F4', 'F8', 'TP9']\n",
      "    Rejecting  epoch based on EEG : ['FC6']\n",
      "    Rejecting  epoch based on EEG : ['Fz', 'F3', 'F7', 'FT9', 'FC5', 'FC1', 'CP5', 'CP1', 'Pz', 'P3', 'P7', 'O1', 'Oz', 'O2', 'P8', 'Cz', 'T8', 'FC6', 'F8']\n",
      "    Rejecting  epoch based on EEG : ['Fz', 'F3', 'F7', 'FT9', 'FC5', 'FC1', 'C3', 'T7', 'CP5', 'CP1', 'Pz', 'P3', 'P7', 'O1', 'Oz', 'O2', 'P8', 'Cz', 'T8', 'FC6', 'FC2', 'F8']\n",
      "    Rejecting  epoch based on EEG : ['O1', 'Oz', 'O2']\n",
      "    Rejecting  epoch based on EEG : ['Fz', 'F3', 'FT9', 'FC1', 'T7', 'P3', 'O1', 'Oz', 'O2', 'P8', 'Cz', 'T8', 'F8']\n",
      "    Rejecting  epoch based on EEG : ['O1']\n",
      "    Rejecting  epoch based on EEG : ['O1']\n",
      "    Rejecting  epoch based on EEG : ['Fz', 'F3', 'F7', 'FT9', 'FC5', 'FC1', 'C3', 'T7', 'CP5', 'CP1', 'Pz', 'P3', 'P7', 'O1', 'Oz', 'O2', 'P4', 'P8', 'TP10', 'CP6', 'Cz', 'T8', 'FC6', 'FC2', 'F4', 'F8', 'TP9']\n",
      "    Rejecting  epoch based on EEG : ['Fz', 'F3', 'F7', 'FT9', 'FC5', 'FC1', 'C3', 'T7', 'CP5', 'CP1', 'Pz', 'P3', 'P7', 'O1', 'Oz', 'O2', 'P4', 'P8', 'TP10', 'CP6', 'Cz', 'C4', 'T8', 'FC6', 'FC2', 'F4', 'F8', 'TP9']\n",
      "    Rejecting  epoch based on EEG : ['F3', 'F7', 'T7', 'P3', 'O1', 'Oz', 'O2', 'C4', 'FC6', 'F8']\n",
      "    Rejecting  epoch based on EEG : ['C4', 'FC6']\n",
      "    Rejecting  epoch based on EEG : ['FC6']\n",
      "    Rejecting  epoch based on EEG : ['Oz']\n",
      "    Rejecting  epoch based on EEG : ['Fz', 'F3', 'F7', 'FT9', 'FC5', 'FC1', 'C3', 'T7', 'CP5', 'CP1', 'Pz', 'P3', 'P7', 'O1', 'Oz', 'O2', 'P8', 'TP10', 'Cz', 'C4', 'T8', 'FC6', 'FC2', 'F4', 'F8', 'TP9']\n",
      "    Rejecting  epoch based on EEG : ['Fz', 'F3', 'F7', 'FT9', 'FC5', 'FC1', 'C3', 'T7', 'CP5', 'CP1', 'Pz', 'P3', 'P7', 'O1', 'Oz', 'O2', 'P8', 'Cz', 'C4', 'T8', 'FC6', 'FC2', 'F8']\n",
      "    Rejecting  epoch based on EEG : ['O1']\n",
      "    Rejecting  epoch based on EEG : ['FC6']\n",
      "    Rejecting  epoch based on EEG : ['FC6']\n",
      "    Rejecting  epoch based on EEG : ['Fz', 'F3', 'F7', 'FT9', 'FC5', 'FC1', 'C3', 'T7', 'CP5', 'CP1', 'Pz', 'P3', 'P7', 'O1', 'Oz', 'O2', 'P4', 'P8', 'TP10', 'CP6', 'CP2', 'Cz', 'C4', 'T8', 'FC6', 'FC2', 'F4', 'F8', 'TP9']\n",
      "    Rejecting  epoch based on EEG : ['O1']\n",
      "    Rejecting  epoch based on EEG : ['FT9', 'O1', 'C4', 'T8', 'FC6', 'F4', 'F8']\n",
      "    Rejecting  epoch based on EEG : ['FT9', 'C4', 'T8', 'FC6', 'F4', 'F8']\n",
      "40 bad epochs dropped\n"
     ]
    },
    {
     "name": "stderr",
     "output_type": "stream",
     "text": [
      "[Parallel(n_jobs=1)]: Done  17 tasks      | elapsed:    1.9s\n",
      "[Parallel(n_jobs=1)]: Done  17 tasks      | elapsed:    0.4s\n",
      "[Parallel(n_jobs=1)]: Done  17 tasks      | elapsed:    1.9s\n",
      "[Parallel(n_jobs=1)]: Done  17 tasks      | elapsed:    0.4s\n"
     ]
    },
    {
     "name": "stdout",
     "output_type": "stream",
     "text": [
      "Opening raw data file /Users/chaohan/Library/CloudStorage/OneDrive-UniversityofToronto/Projects/Yas accent/data_preprocessed/3_ica/Yas_200_corr_prep_ica.fif...\n",
      "    Range : 0 ... 731633 =      0.000 ...  2926.532 secs\n",
      "Ready.\n",
      "Reading 0 ... 731633  =      0.000 ...  2926.532 secs...\n"
     ]
    },
    {
     "name": "stderr",
     "output_type": "stream",
     "text": [
      "/var/folders/j8/8nyf6njj5nzfjcv6s23y3nn40000gn/T/ipykernel_37645/644758328.py:15: RuntimeWarning: This filename (/Users/chaohan/Library/CloudStorage/OneDrive-UniversityofToronto/Projects/Yas accent/data_preprocessed/3_ica/Yas_200_corr_prep_ica.fif) does not conform to MNE naming conventions. All raw files should end with raw.fif, raw_sss.fif, raw_tsss.fif, _meg.fif, _eeg.fif, _ieeg.fif, raw.fif.gz, raw_sss.fif.gz, raw_tsss.fif.gz, _meg.fif.gz, _eeg.fif.gz or _ieeg.fif.gz\n",
      "  raw = mne.io.read_raw_fif(input_dir + file, preload = True)\n"
     ]
    },
    {
     "name": "stdout",
     "output_type": "stream",
     "text": [
      "EEG channel type selected for re-referencing\n",
      "Applying a custom ('EEG',) reference.\n",
      "Not setting metadata\n",
      "1431 matching events found\n",
      "No baseline correction applied\n",
      "0 projection items activated\n",
      "Using data from preloaded Raw for 1431 events and 751 original time points ...\n",
      "    Rejecting  epoch based on EEG : ['T7']\n",
      "    Rejecting  epoch based on EEG : ['T7']\n",
      "    Rejecting  epoch based on EEG : ['F7', 'FC5', 'FC6']\n",
      "    Rejecting  epoch based on EEG : ['F7', 'FC5', 'FC6']\n",
      "    Rejecting  epoch based on EEG : ['FC6']\n",
      "    Rejecting  epoch based on EEG : ['FC6']\n",
      "    Rejecting  epoch based on EEG : ['FC6']\n",
      "    Rejecting  epoch based on EEG : ['T7']\n",
      "    Rejecting  epoch based on EEG : ['T7']\n",
      "    Rejecting  epoch based on EEG : ['FC6']\n",
      "    Rejecting  epoch based on EEG : ['F7', 'FC5', 'FC6']\n",
      "    Rejecting  epoch based on EEG : ['F7', 'FC5']\n",
      "12 bad epochs dropped\n"
     ]
    },
    {
     "name": "stderr",
     "output_type": "stream",
     "text": [
      "[Parallel(n_jobs=1)]: Done  17 tasks      | elapsed:    2.0s\n",
      "[Parallel(n_jobs=1)]: Done  17 tasks      | elapsed:    0.4s\n",
      "[Parallel(n_jobs=1)]: Done  17 tasks      | elapsed:    1.7s\n",
      "[Parallel(n_jobs=1)]: Done  17 tasks      | elapsed:    0.4s\n"
     ]
    },
    {
     "name": "stdout",
     "output_type": "stream",
     "text": [
      "Opening raw data file /Users/chaohan/Library/CloudStorage/OneDrive-UniversityofToronto/Projects/Yas accent/data_preprocessed/3_ica/Yas_157_corr_prep_ica.fif...\n",
      "    Range : 3264 ... 887761 =     13.056 ...  3551.044 secs\n",
      "Ready.\n",
      "Reading 0 ... 884497  =      0.000 ...  3537.988 secs...\n"
     ]
    },
    {
     "name": "stderr",
     "output_type": "stream",
     "text": [
      "/var/folders/j8/8nyf6njj5nzfjcv6s23y3nn40000gn/T/ipykernel_37645/644758328.py:15: RuntimeWarning: This filename (/Users/chaohan/Library/CloudStorage/OneDrive-UniversityofToronto/Projects/Yas accent/data_preprocessed/3_ica/Yas_157_corr_prep_ica.fif) does not conform to MNE naming conventions. All raw files should end with raw.fif, raw_sss.fif, raw_tsss.fif, _meg.fif, _eeg.fif, _ieeg.fif, raw.fif.gz, raw_sss.fif.gz, raw_tsss.fif.gz, _meg.fif.gz, _eeg.fif.gz or _ieeg.fif.gz\n",
      "  raw = mne.io.read_raw_fif(input_dir + file, preload = True)\n"
     ]
    },
    {
     "name": "stdout",
     "output_type": "stream",
     "text": [
      "EEG channel type selected for re-referencing\n",
      "Applying a custom ('EEG',) reference.\n",
      "Not setting metadata\n",
      "1657 matching events found\n",
      "No baseline correction applied\n",
      "0 projection items activated\n",
      "Using data from preloaded Raw for 1657 events and 751 original time points ...\n",
      "    Rejecting  epoch based on EEG : ['Oz']\n",
      "    Rejecting  epoch based on EEG : ['Oz']\n",
      "    Rejecting  epoch based on EEG : ['F3', 'F7', 'FT9', 'FC5', 'FC1', 'C3', 'T7', 'CP5', 'CP1', 'Pz', 'P3', 'P7', 'P4', 'Cz', 'FC6']\n",
      "    Rejecting  epoch based on EEG : ['Fz', 'F3', 'C4', 'FT10', 'FC6', 'FC2', 'F4']\n",
      "    Rejecting  epoch based on EEG : ['Fz', 'F3', 'C4', 'FT10', 'FC6', 'FC2', 'F4']\n",
      "    Rejecting  epoch based on EEG : ['Fz', 'F3', 'C4', 'FT10', 'FC6', 'FC2', 'F4']\n",
      "    Rejecting  epoch based on EEG : ['FC6']\n",
      "    Rejecting  epoch based on EEG : ['Fz', 'F3', 'F7', 'FT9', 'FC5', 'FC1', 'C3', 'T7', 'CP5', 'FC6', 'F4']\n",
      "    Rejecting  epoch based on EEG : ['Fz', 'F3', 'F7', 'FT9', 'FC5', 'FC1', 'C3', 'T7', 'CP5', 'FC6', 'F4']\n",
      "    Rejecting  epoch based on EEG : ['F3', 'FC1']\n",
      "    Rejecting  epoch based on EEG : ['F3', 'FC1']\n",
      "    Rejecting  epoch based on EEG : ['Oz']\n",
      "    Rejecting  epoch based on EEG : ['FC6']\n",
      "    Rejecting  epoch based on EEG : ['FC6']\n",
      "    Rejecting  epoch based on EEG : ['FC6']\n",
      "    Rejecting  epoch based on EEG : ['FC6']\n",
      "    Rejecting  epoch based on EEG : ['FC6']\n",
      "    Rejecting  epoch based on EEG : ['FC6']\n",
      "    Rejecting  epoch based on EEG : ['F3', 'FC1']\n",
      "    Rejecting  epoch based on EEG : ['F3', 'FT9', 'FC1']\n",
      "    Rejecting  epoch based on EEG : ['F3', 'FC1']\n",
      "    Rejecting  epoch based on EEG : ['F3', 'FC1']\n",
      "    Rejecting  epoch based on EEG : ['F3', 'FT9', 'FC1', 'P4']\n",
      "    Rejecting  epoch based on EEG : ['F3', 'FT9', 'FC1']\n",
      "    Rejecting  epoch based on EEG : ['Oz']\n",
      "    Rejecting  epoch based on EEG : ['P7', 'FC6']\n",
      "    Rejecting  epoch based on EEG : ['FC6']\n",
      "    Rejecting  epoch based on EEG : ['FC6']\n",
      "    Rejecting  epoch based on EEG : ['F3', 'FT9']\n",
      "    Rejecting  epoch based on EEG : ['F3']\n",
      "    Rejecting  epoch based on EEG : ['FC6']\n",
      "    Rejecting  epoch based on EEG : ['FC6']\n",
      "    Rejecting  epoch based on EEG : ['Fz', 'F3', 'F7', 'FT9', 'FC5', 'FC1', 'C3', 'T7', 'CP5', 'CP1', 'Pz', 'P3', 'P7', 'O1', 'Oz', 'P4', 'TP10', 'CP2', 'Cz', 'FC6', 'F8', 'TP9']\n",
      "    Rejecting  epoch based on EEG : ['Fz', 'F3', 'F7', 'FT9', 'FC5', 'FC1', 'C3', 'T7', 'CP5', 'CP1', 'Pz', 'P3', 'P7', 'O1', 'Oz', 'P4', 'TP10', 'CP2', 'Cz', 'FC6', 'F8', 'TP9']\n",
      "    Rejecting  epoch based on EEG : ['Fz', 'F3', 'P3', 'P7', 'P4', 'FC6', 'F4']\n",
      "    Rejecting  epoch based on EEG : ['F3', 'P3', 'P7', 'P4', 'FC6', 'F4']\n",
      "    Rejecting  epoch based on EEG : ['F3', 'P4']\n",
      "    Rejecting  epoch based on EEG : ['Oz']\n",
      "    Rejecting  epoch based on EEG : ['Oz']\n",
      "    Rejecting  epoch based on EEG : ['FT9', 'FC5', 'FC1', 'C3', 'T7', 'CP5', 'CP1', 'Pz', 'P3', 'P7']\n",
      "    Rejecting  epoch based on EEG : ['FT9', 'FC5', 'FC1', 'C3', 'T7', 'CP5', 'CP1', 'Pz', 'P3', 'P7']\n",
      "    Rejecting  epoch based on EEG : ['FC6']\n",
      "42 bad epochs dropped\n"
     ]
    },
    {
     "name": "stderr",
     "output_type": "stream",
     "text": [
      "[Parallel(n_jobs=1)]: Done  17 tasks      | elapsed:    1.8s\n",
      "[Parallel(n_jobs=1)]: Done  17 tasks      | elapsed:    0.4s\n",
      "[Parallel(n_jobs=1)]: Done  17 tasks      | elapsed:    2.0s\n",
      "[Parallel(n_jobs=1)]: Done  17 tasks      | elapsed:    0.4s\n"
     ]
    },
    {
     "name": "stdout",
     "output_type": "stream",
     "text": [
      "Opening raw data file /Users/chaohan/Library/CloudStorage/OneDrive-UniversityofToronto/Projects/Yas accent/data_preprocessed/3_ica/Yas_119_corr_prep_ica.fif...\n"
     ]
    },
    {
     "name": "stderr",
     "output_type": "stream",
     "text": [
      "/var/folders/j8/8nyf6njj5nzfjcv6s23y3nn40000gn/T/ipykernel_37645/644758328.py:15: RuntimeWarning: This filename (/Users/chaohan/Library/CloudStorage/OneDrive-UniversityofToronto/Projects/Yas accent/data_preprocessed/3_ica/Yas_119_corr_prep_ica.fif) does not conform to MNE naming conventions. All raw files should end with raw.fif, raw_sss.fif, raw_tsss.fif, _meg.fif, _eeg.fif, _ieeg.fif, raw.fif.gz, raw_sss.fif.gz, raw_tsss.fif.gz, _meg.fif.gz, _eeg.fif.gz or _ieeg.fif.gz\n",
      "  raw = mne.io.read_raw_fif(input_dir + file, preload = True)\n"
     ]
    },
    {
     "name": "stdout",
     "output_type": "stream",
     "text": [
      "    Range : 18338 ... 868087 =     73.352 ...  3472.348 secs\n",
      "Ready.\n",
      "Reading 0 ... 849749  =      0.000 ...  3398.996 secs...\n",
      "EEG channel type selected for re-referencing\n",
      "Applying a custom ('EEG',) reference.\n",
      "Not setting metadata\n",
      "1677 matching events found\n",
      "No baseline correction applied\n",
      "0 projection items activated\n",
      "Using data from preloaded Raw for 1677 events and 751 original time points ...\n",
      "    Rejecting  epoch based on EEG : ['P4']\n",
      "    Rejecting  epoch based on EEG : ['P4']\n",
      "    Rejecting  epoch based on EEG : ['P4']\n",
      "    Rejecting  epoch based on EEG : ['P4']\n",
      "    Rejecting  epoch based on EEG : ['P4']\n",
      "    Rejecting  epoch based on EEG : ['P8']\n",
      "    Rejecting  epoch based on EEG : ['F3', 'FC5', 'FC1', 'C3', 'T7', 'CP5']\n",
      "    Rejecting  epoch based on EEG : ['F3', 'FC5', 'FC1', 'C3', 'T7', 'CP5']\n",
      "    Rejecting  epoch based on EEG : ['FC5']\n",
      "    Rejecting  epoch based on EEG : ['F3', 'FT9', 'FC5', 'FC1', 'C3', 'T7', 'CP5']\n",
      "    Rejecting  epoch based on EEG : ['F3', 'FT9', 'FC5', 'FC1', 'C3', 'T7', 'CP5']\n",
      "    Rejecting  epoch based on EEG : ['F3', 'FC5', 'C3']\n",
      "    Rejecting  epoch based on EEG : ['FC5']\n",
      "13 bad epochs dropped\n"
     ]
    },
    {
     "name": "stderr",
     "output_type": "stream",
     "text": [
      "[Parallel(n_jobs=1)]: Done  17 tasks      | elapsed:    2.4s\n",
      "[Parallel(n_jobs=1)]: Done  17 tasks      | elapsed:    0.4s\n",
      "[Parallel(n_jobs=1)]: Done  17 tasks      | elapsed:    2.0s\n",
      "[Parallel(n_jobs=1)]: Done  17 tasks      | elapsed:    0.4s\n"
     ]
    },
    {
     "name": "stdout",
     "output_type": "stream",
     "text": [
      "Opening raw data file /Users/chaohan/Library/CloudStorage/OneDrive-UniversityofToronto/Projects/Yas accent/data_preprocessed/3_ica/Yas_187_corr_prep_ica.fif...\n"
     ]
    },
    {
     "name": "stderr",
     "output_type": "stream",
     "text": [
      "/var/folders/j8/8nyf6njj5nzfjcv6s23y3nn40000gn/T/ipykernel_37645/644758328.py:15: RuntimeWarning: This filename (/Users/chaohan/Library/CloudStorage/OneDrive-UniversityofToronto/Projects/Yas accent/data_preprocessed/3_ica/Yas_187_corr_prep_ica.fif) does not conform to MNE naming conventions. All raw files should end with raw.fif, raw_sss.fif, raw_tsss.fif, _meg.fif, _eeg.fif, _ieeg.fif, raw.fif.gz, raw_sss.fif.gz, raw_tsss.fif.gz, _meg.fif.gz, _eeg.fif.gz or _ieeg.fif.gz\n",
      "  raw = mne.io.read_raw_fif(input_dir + file, preload = True)\n"
     ]
    },
    {
     "name": "stdout",
     "output_type": "stream",
     "text": [
      "    Range : 40326 ... 1019249 =    161.304 ...  4076.996 secs\n",
      "Ready.\n",
      "Reading 0 ... 978923  =      0.000 ...  3915.692 secs...\n",
      "EEG channel type selected for re-referencing\n",
      "Applying a custom ('EEG',) reference.\n",
      "Not setting metadata\n",
      "1596 matching events found\n",
      "No baseline correction applied\n",
      "0 projection items activated\n",
      "Using data from preloaded Raw for 1596 events and 751 original time points ...\n",
      "    Rejecting  epoch based on EEG : ['F3']\n",
      "    Rejecting  epoch based on EEG : ['F3']\n",
      "    Rejecting  epoch based on EEG : ['Fz', 'F3', 'F4']\n",
      "    Rejecting  epoch based on EEG : ['Fz', 'F3', 'F4', 'F8']\n",
      "    Rejecting  epoch based on EEG : ['F4']\n",
      "    Rejecting  epoch based on EEG : ['Fz', 'F3', 'F7', 'FC1', 'FC2', 'F4', 'F8']\n",
      "    Rejecting  epoch based on EEG : ['Fz', 'F3', 'F7', 'FC1', 'FC2', 'F4', 'F8']\n",
      "    Rejecting  epoch based on EEG : ['FC1']\n",
      "    Rejecting  epoch based on EEG : ['FC1']\n",
      "    Rejecting  epoch based on EEG : ['FC1']\n",
      "    Rejecting  epoch based on EEG : ['FC1']\n",
      "    Rejecting  epoch based on EEG : ['F4']\n",
      "    Rejecting  epoch based on EEG : ['F4']\n",
      "    Rejecting  epoch based on EEG : ['F3', 'O1']\n",
      "    Rejecting  epoch based on EEG : ['F3']\n",
      "    Rejecting  epoch based on EEG : ['F4']\n",
      "    Rejecting  epoch based on EEG : ['F4']\n",
      "    Rejecting  epoch based on EEG : ['F4']\n",
      "    Rejecting  epoch based on EEG : ['Fz', 'F3', 'F4']\n",
      "    Rejecting  epoch based on EEG : ['FC6']\n",
      "20 bad epochs dropped\n"
     ]
    },
    {
     "name": "stderr",
     "output_type": "stream",
     "text": [
      "[Parallel(n_jobs=1)]: Done  17 tasks      | elapsed:    2.0s\n",
      "[Parallel(n_jobs=1)]: Done  17 tasks      | elapsed:    0.4s\n",
      "[Parallel(n_jobs=1)]: Done  17 tasks      | elapsed:    2.8s\n",
      "[Parallel(n_jobs=1)]: Done  17 tasks      | elapsed:    0.4s\n"
     ]
    },
    {
     "name": "stdout",
     "output_type": "stream",
     "text": [
      "Opening raw data file /Users/chaohan/Library/CloudStorage/OneDrive-UniversityofToronto/Projects/Yas accent/data_preprocessed/3_ica/Yas_228_corr_prep_ica.fif...\n"
     ]
    },
    {
     "name": "stderr",
     "output_type": "stream",
     "text": [
      "/var/folders/j8/8nyf6njj5nzfjcv6s23y3nn40000gn/T/ipykernel_37645/644758328.py:15: RuntimeWarning: This filename (/Users/chaohan/Library/CloudStorage/OneDrive-UniversityofToronto/Projects/Yas accent/data_preprocessed/3_ica/Yas_228_corr_prep_ica.fif) does not conform to MNE naming conventions. All raw files should end with raw.fif, raw_sss.fif, raw_tsss.fif, _meg.fif, _eeg.fif, _ieeg.fif, raw.fif.gz, raw_sss.fif.gz, raw_tsss.fif.gz, _meg.fif.gz, _eeg.fif.gz or _ieeg.fif.gz\n",
      "  raw = mne.io.read_raw_fif(input_dir + file, preload = True)\n"
     ]
    },
    {
     "name": "stdout",
     "output_type": "stream",
     "text": [
      "    Range : 2487 ... 965574 =      9.948 ...  3862.296 secs\n",
      "Ready.\n",
      "Reading 0 ... 963087  =      0.000 ...  3852.348 secs...\n",
      "EEG channel type selected for re-referencing\n",
      "Applying a custom ('EEG',) reference.\n",
      "Not setting metadata\n",
      "1712 matching events found\n",
      "No baseline correction applied\n",
      "0 projection items activated\n",
      "Using data from preloaded Raw for 1712 events and 751 original time points ...\n",
      "    Rejecting  epoch based on EEG : ['FT9', 'C3', 'P7', 'CP6', 'C4', 'FC2', 'F8']\n",
      "    Rejecting  epoch based on EEG : ['C4']\n",
      "    Rejecting  epoch based on EEG : ['C4']\n",
      "    Rejecting  epoch based on EEG : ['C3', 'C4', 'FT10', 'F8']\n",
      "    Rejecting  epoch based on EEG : ['C3', 'C4', 'FT10', 'F8']\n",
      "    Rejecting  epoch based on EEG : ['FT9', 'C4']\n",
      "6 bad epochs dropped\n"
     ]
    },
    {
     "name": "stderr",
     "output_type": "stream",
     "text": [
      "[Parallel(n_jobs=1)]: Done  17 tasks      | elapsed:    2.8s\n",
      "[Parallel(n_jobs=1)]: Done  17 tasks      | elapsed:    0.4s\n",
      "[Parallel(n_jobs=1)]: Done  17 tasks      | elapsed:    2.2s\n",
      "[Parallel(n_jobs=1)]: Done  17 tasks      | elapsed:    0.4s\n"
     ]
    },
    {
     "name": "stdout",
     "output_type": "stream",
     "text": [
      "Opening raw data file /Users/chaohan/Library/CloudStorage/OneDrive-UniversityofToronto/Projects/Yas accent/data_preprocessed/3_ica/Yas_131_corr_prep_ica.fif...\n"
     ]
    },
    {
     "name": "stderr",
     "output_type": "stream",
     "text": [
      "/var/folders/j8/8nyf6njj5nzfjcv6s23y3nn40000gn/T/ipykernel_37645/644758328.py:15: RuntimeWarning: This filename (/Users/chaohan/Library/CloudStorage/OneDrive-UniversityofToronto/Projects/Yas accent/data_preprocessed/3_ica/Yas_131_corr_prep_ica.fif) does not conform to MNE naming conventions. All raw files should end with raw.fif, raw_sss.fif, raw_tsss.fif, _meg.fif, _eeg.fif, _ieeg.fif, raw.fif.gz, raw_sss.fif.gz, raw_tsss.fif.gz, _meg.fif.gz, _eeg.fif.gz or _ieeg.fif.gz\n",
      "  raw = mne.io.read_raw_fif(input_dir + file, preload = True)\n"
     ]
    },
    {
     "name": "stdout",
     "output_type": "stream",
     "text": [
      "    Range : 206 ... 850417 =      0.824 ...  3401.668 secs\n",
      "Ready.\n",
      "Reading 0 ... 850211  =      0.000 ...  3400.844 secs...\n",
      "EEG channel type selected for re-referencing\n",
      "Applying a custom ('EEG',) reference.\n",
      "Not setting metadata\n",
      "1643 matching events found\n",
      "No baseline correction applied\n",
      "0 projection items activated\n",
      "Using data from preloaded Raw for 1643 events and 751 original time points ...\n",
      "    Rejecting  epoch based on EEG : ['CP5']\n",
      "    Rejecting  epoch based on EEG : ['CP5']\n",
      "    Rejecting  epoch based on EEG : ['C3', 'CP5']\n",
      "    Rejecting  epoch based on EEG : ['C3', 'CP5']\n",
      "    Rejecting  epoch based on EEG : ['FC5', 'T8']\n",
      "    Rejecting  epoch based on EEG : ['T8']\n",
      "    Rejecting  epoch based on EEG : ['FC5', 'C3', 'CP5']\n",
      "    Rejecting  epoch based on EEG : ['FC5', 'C3', 'CP5']\n",
      "    Rejecting  epoch based on EEG : ['FC5', 'C3', 'CP5']\n",
      "    Rejecting  epoch based on EEG : ['FC5', 'C3', 'CP5']\n",
      "    Rejecting  epoch based on EEG : ['FC5']\n",
      "    Rejecting  epoch based on EEG : ['FC5']\n",
      "    Rejecting  epoch based on EEG : ['P7']\n",
      "    Rejecting  epoch based on EEG : ['P7']\n",
      "    Rejecting  epoch based on EEG : ['FT9', 'FC5', 'CP5']\n",
      "    Rejecting  epoch based on EEG : ['FT9', 'FC5', 'CP5']\n",
      "    Rejecting  epoch based on EEG : ['P7']\n",
      "    Rejecting  epoch based on EEG : ['P7']\n",
      "    Rejecting  epoch based on EEG : ['FT9', 'P3', 'P7', 'O1', 'Oz', 'O2']\n",
      "    Rejecting  epoch based on EEG : ['FT9', 'P3', 'P7', 'O1', 'Oz', 'O2']\n",
      "    Rejecting  epoch based on EEG : ['FC5', 'C3', 'CP5']\n",
      "    Rejecting  epoch based on EEG : ['FC5', 'C3', 'CP5', 'T8']\n",
      "    Rejecting  epoch based on EEG : ['FC5', 'T8']\n",
      "    Rejecting  epoch based on EEG : ['FC5', 'CP5']\n",
      "    Rejecting  epoch based on EEG : ['FC5', 'CP5']\n",
      "    Rejecting  epoch based on EEG : ['FC5', 'C3', 'CP5']\n",
      "    Rejecting  epoch based on EEG : ['C3']\n",
      "    Rejecting  epoch based on EEG : ['C3']\n",
      "28 bad epochs dropped\n"
     ]
    },
    {
     "name": "stderr",
     "output_type": "stream",
     "text": [
      "[Parallel(n_jobs=1)]: Done  17 tasks      | elapsed:    1.8s\n",
      "[Parallel(n_jobs=1)]: Done  17 tasks      | elapsed:    0.4s\n",
      "[Parallel(n_jobs=1)]: Done  17 tasks      | elapsed:    1.9s\n",
      "[Parallel(n_jobs=1)]: Done  17 tasks      | elapsed:    0.4s\n"
     ]
    },
    {
     "name": "stdout",
     "output_type": "stream",
     "text": [
      "Opening raw data file /Users/chaohan/Library/CloudStorage/OneDrive-UniversityofToronto/Projects/Yas accent/data_preprocessed/3_ica/Yas_230_corr_prep_ica.fif...\n"
     ]
    },
    {
     "name": "stderr",
     "output_type": "stream",
     "text": [
      "/var/folders/j8/8nyf6njj5nzfjcv6s23y3nn40000gn/T/ipykernel_37645/644758328.py:15: RuntimeWarning: This filename (/Users/chaohan/Library/CloudStorage/OneDrive-UniversityofToronto/Projects/Yas accent/data_preprocessed/3_ica/Yas_230_corr_prep_ica.fif) does not conform to MNE naming conventions. All raw files should end with raw.fif, raw_sss.fif, raw_tsss.fif, _meg.fif, _eeg.fif, _ieeg.fif, raw.fif.gz, raw_sss.fif.gz, raw_tsss.fif.gz, _meg.fif.gz, _eeg.fif.gz or _ieeg.fif.gz\n",
      "  raw = mne.io.read_raw_fif(input_dir + file, preload = True)\n"
     ]
    },
    {
     "name": "stdout",
     "output_type": "stream",
     "text": [
      "    Range : 3124 ... 877963 =     12.496 ...  3511.852 secs\n",
      "Ready.\n",
      "Reading 0 ... 874839  =      0.000 ...  3499.356 secs...\n",
      "EEG channel type selected for re-referencing\n",
      "Applying a custom ('EEG',) reference.\n",
      "Not setting metadata\n",
      "1696 matching events found\n",
      "No baseline correction applied\n",
      "0 projection items activated\n",
      "Using data from preloaded Raw for 1696 events and 751 original time points ...\n",
      "    Rejecting  epoch based on EEG : ['FC2']\n",
      "    Rejecting  epoch based on EEG : ['T7']\n",
      "    Rejecting  epoch based on EEG : ['T7']\n",
      "    Rejecting  epoch based on EEG : ['O2']\n",
      "    Rejecting  epoch based on EEG : ['O2']\n",
      "    Rejecting  epoch based on EEG : ['O2']\n",
      "    Rejecting  epoch based on EEG : ['CP5']\n",
      "    Rejecting  epoch based on EEG : ['C3', 'CP5']\n",
      "    Rejecting  epoch based on EEG : ['C3']\n",
      "    Rejecting  epoch based on EEG : ['CP5']\n",
      "    Rejecting  epoch based on EEG : ['C3', 'T7', 'CP5']\n",
      "    Rejecting  epoch based on EEG : ['C3', 'T7', 'CP5']\n",
      "    Rejecting  epoch based on EEG : ['C3', 'T7', 'CP5']\n",
      "    Rejecting  epoch based on EEG : ['T7']\n",
      "    Rejecting  epoch based on EEG : ['T7']\n",
      "    Rejecting  epoch based on EEG : ['CP5']\n",
      "    Rejecting  epoch based on EEG : ['CP5']\n",
      "17 bad epochs dropped\n"
     ]
    },
    {
     "name": "stderr",
     "output_type": "stream",
     "text": [
      "[Parallel(n_jobs=1)]: Done  17 tasks      | elapsed:    2.6s\n",
      "[Parallel(n_jobs=1)]: Done  17 tasks      | elapsed:    0.4s\n",
      "[Parallel(n_jobs=1)]: Done  17 tasks      | elapsed:    2.1s\n",
      "[Parallel(n_jobs=1)]: Done  17 tasks      | elapsed:    0.4s\n"
     ]
    },
    {
     "name": "stdout",
     "output_type": "stream",
     "text": [
      "Opening raw data file /Users/chaohan/Library/CloudStorage/OneDrive-UniversityofToronto/Projects/Yas accent/data_preprocessed/3_ica/Yas_167_corr_prep_ica.fif...\n"
     ]
    },
    {
     "name": "stderr",
     "output_type": "stream",
     "text": [
      "/var/folders/j8/8nyf6njj5nzfjcv6s23y3nn40000gn/T/ipykernel_37645/644758328.py:15: RuntimeWarning: This filename (/Users/chaohan/Library/CloudStorage/OneDrive-UniversityofToronto/Projects/Yas accent/data_preprocessed/3_ica/Yas_167_corr_prep_ica.fif) does not conform to MNE naming conventions. All raw files should end with raw.fif, raw_sss.fif, raw_tsss.fif, _meg.fif, _eeg.fif, _ieeg.fif, raw.fif.gz, raw_sss.fif.gz, raw_tsss.fif.gz, _meg.fif.gz, _eeg.fif.gz or _ieeg.fif.gz\n",
      "  raw = mne.io.read_raw_fif(input_dir + file, preload = True)\n"
     ]
    },
    {
     "name": "stdout",
     "output_type": "stream",
     "text": [
      "    Range : 1837 ... 914381 =      7.348 ...  3657.524 secs\n",
      "Ready.\n",
      "Reading 0 ... 912544  =      0.000 ...  3650.176 secs...\n",
      "EEG channel type selected for re-referencing\n",
      "Applying a custom ('EEG',) reference.\n",
      "Not setting metadata\n",
      "1742 matching events found\n",
      "No baseline correction applied\n",
      "0 projection items activated\n",
      "Using data from preloaded Raw for 1742 events and 751 original time points ...\n",
      "    Rejecting  epoch based on EEG : ['C3', 'CP5']\n",
      "    Rejecting  epoch based on EEG : ['C3', 'T7', 'CP5', 'CP6', 'C4', 'FT10', 'F8']\n",
      "    Rejecting  epoch based on EEG : ['C3', 'T7', 'CP5', 'CP6', 'C4', 'FT10', 'F8']\n",
      "    Rejecting  epoch based on EEG : ['CP6', 'C4']\n",
      "    Rejecting  epoch based on EEG : ['CP5']\n",
      "    Rejecting  epoch based on EEG : ['CP5']\n",
      "    Rejecting  epoch based on EEG : ['CP5']\n",
      "    Rejecting  epoch based on EEG : ['C3', 'CP5']\n",
      "    Rejecting  epoch based on EEG : ['C3', 'CP5']\n",
      "    Rejecting  epoch based on EEG : ['C3', 'CP5']\n",
      "    Rejecting  epoch based on EEG : ['CP5']\n",
      "    Rejecting  epoch based on EEG : ['CP5']\n",
      "    Rejecting  epoch based on EEG : ['CP6', 'C4']\n",
      "    Rejecting  epoch based on EEG : ['CP6', 'C4']\n",
      "    Rejecting  epoch based on EEG : ['CP5']\n",
      "    Rejecting  epoch based on EEG : ['CP5']\n",
      "    Rejecting  epoch based on EEG : ['CP6']\n",
      "    Rejecting  epoch based on EEG : ['CP6']\n",
      "    Rejecting  epoch based on EEG : ['CP5']\n",
      "    Rejecting  epoch based on EEG : ['CP5']\n",
      "    Rejecting  epoch based on EEG : ['CP5']\n",
      "    Rejecting  epoch based on EEG : ['CP5']\n",
      "    Rejecting  epoch based on EEG : ['CP5']\n",
      "    Rejecting  epoch based on EEG : ['CP5']\n",
      "24 bad epochs dropped\n"
     ]
    },
    {
     "name": "stderr",
     "output_type": "stream",
     "text": [
      "[Parallel(n_jobs=1)]: Done  17 tasks      | elapsed:    2.0s\n",
      "[Parallel(n_jobs=1)]: Done  17 tasks      | elapsed:    0.3s\n",
      "[Parallel(n_jobs=1)]: Done  17 tasks      | elapsed:    2.0s\n",
      "[Parallel(n_jobs=1)]: Done  17 tasks      | elapsed:    0.3s\n"
     ]
    },
    {
     "name": "stdout",
     "output_type": "stream",
     "text": [
      "Opening raw data file /Users/chaohan/Library/CloudStorage/OneDrive-UniversityofToronto/Projects/Yas accent/data_preprocessed/3_ica/Yas_256_corr_prep_ica.fif...\n"
     ]
    },
    {
     "name": "stderr",
     "output_type": "stream",
     "text": [
      "/var/folders/j8/8nyf6njj5nzfjcv6s23y3nn40000gn/T/ipykernel_37645/644758328.py:15: RuntimeWarning: This filename (/Users/chaohan/Library/CloudStorage/OneDrive-UniversityofToronto/Projects/Yas accent/data_preprocessed/3_ica/Yas_256_corr_prep_ica.fif) does not conform to MNE naming conventions. All raw files should end with raw.fif, raw_sss.fif, raw_tsss.fif, _meg.fif, _eeg.fif, _ieeg.fif, raw.fif.gz, raw_sss.fif.gz, raw_tsss.fif.gz, _meg.fif.gz, _eeg.fif.gz or _ieeg.fif.gz\n",
      "  raw = mne.io.read_raw_fif(input_dir + file, preload = True)\n"
     ]
    },
    {
     "name": "stdout",
     "output_type": "stream",
     "text": [
      "    Range : 1302 ... 907027 =      5.208 ...  3628.108 secs\n",
      "Ready.\n",
      "Reading 0 ... 905725  =      0.000 ...  3622.900 secs...\n",
      "EEG channel type selected for re-referencing\n",
      "Applying a custom ('EEG',) reference.\n",
      "Not setting metadata\n",
      "1711 matching events found\n",
      "No baseline correction applied\n",
      "0 projection items activated\n",
      "Using data from preloaded Raw for 1711 events and 751 original time points ...\n",
      "0 bad epochs dropped\n"
     ]
    },
    {
     "name": "stderr",
     "output_type": "stream",
     "text": [
      "[Parallel(n_jobs=1)]: Done  17 tasks      | elapsed:    2.7s\n",
      "[Parallel(n_jobs=1)]: Done  17 tasks      | elapsed:    0.4s\n",
      "[Parallel(n_jobs=1)]: Done  17 tasks      | elapsed:    2.0s\n",
      "[Parallel(n_jobs=1)]: Done  17 tasks      | elapsed:    0.4s\n"
     ]
    },
    {
     "name": "stdout",
     "output_type": "stream",
     "text": [
      "Opening raw data file /Users/chaohan/Library/CloudStorage/OneDrive-UniversityofToronto/Projects/Yas accent/data_preprocessed/3_ica/Yas_218_corr_prep_ica.fif...\n",
      "    Range : 0 ... 908137 =      0.000 ...  3632.548 secs\n",
      "Ready.\n"
     ]
    },
    {
     "name": "stderr",
     "output_type": "stream",
     "text": [
      "/var/folders/j8/8nyf6njj5nzfjcv6s23y3nn40000gn/T/ipykernel_37645/644758328.py:15: RuntimeWarning: This filename (/Users/chaohan/Library/CloudStorage/OneDrive-UniversityofToronto/Projects/Yas accent/data_preprocessed/3_ica/Yas_218_corr_prep_ica.fif) does not conform to MNE naming conventions. All raw files should end with raw.fif, raw_sss.fif, raw_tsss.fif, _meg.fif, _eeg.fif, _ieeg.fif, raw.fif.gz, raw_sss.fif.gz, raw_tsss.fif.gz, _meg.fif.gz, _eeg.fif.gz or _ieeg.fif.gz\n",
      "  raw = mne.io.read_raw_fif(input_dir + file, preload = True)\n"
     ]
    },
    {
     "name": "stdout",
     "output_type": "stream",
     "text": [
      "Reading 0 ... 908137  =      0.000 ...  3632.548 secs...\n",
      "EEG channel type selected for re-referencing\n",
      "Applying a custom ('EEG',) reference.\n",
      "Not setting metadata\n",
      "1674 matching events found\n",
      "No baseline correction applied\n",
      "0 projection items activated\n",
      "Using data from preloaded Raw for 1674 events and 751 original time points ...\n",
      "0 bad epochs dropped\n"
     ]
    },
    {
     "name": "stderr",
     "output_type": "stream",
     "text": [
      "[Parallel(n_jobs=1)]: Done  17 tasks      | elapsed:    2.5s\n",
      "[Parallel(n_jobs=1)]: Done  17 tasks      | elapsed:    0.4s\n",
      "[Parallel(n_jobs=1)]: Done  17 tasks      | elapsed:    2.1s\n",
      "[Parallel(n_jobs=1)]: Done  17 tasks      | elapsed:    0.4s\n"
     ]
    },
    {
     "name": "stdout",
     "output_type": "stream",
     "text": [
      "Opening raw data file /Users/chaohan/Library/CloudStorage/OneDrive-UniversityofToronto/Projects/Yas accent/data_preprocessed/3_ica/Yas_101_corr_prep_ica.fif...\n",
      "    Range : 4474 ... 865098 =     17.896 ...  3460.392 secs\n",
      "Ready.\n",
      "Reading 0 ... 860624  =      0.000 ...  3442.496 secs...\n"
     ]
    },
    {
     "name": "stderr",
     "output_type": "stream",
     "text": [
      "/var/folders/j8/8nyf6njj5nzfjcv6s23y3nn40000gn/T/ipykernel_37645/644758328.py:15: RuntimeWarning: This filename (/Users/chaohan/Library/CloudStorage/OneDrive-UniversityofToronto/Projects/Yas accent/data_preprocessed/3_ica/Yas_101_corr_prep_ica.fif) does not conform to MNE naming conventions. All raw files should end with raw.fif, raw_sss.fif, raw_tsss.fif, _meg.fif, _eeg.fif, _ieeg.fif, raw.fif.gz, raw_sss.fif.gz, raw_tsss.fif.gz, _meg.fif.gz, _eeg.fif.gz or _ieeg.fif.gz\n",
      "  raw = mne.io.read_raw_fif(input_dir + file, preload = True)\n"
     ]
    },
    {
     "name": "stdout",
     "output_type": "stream",
     "text": [
      "EEG channel type selected for re-referencing\n",
      "Applying a custom ('EEG',) reference.\n",
      "Not setting metadata\n",
      "1675 matching events found\n",
      "No baseline correction applied\n",
      "0 projection items activated\n",
      "Using data from preloaded Raw for 1675 events and 751 original time points ...\n",
      "    Rejecting  epoch based on EEG : ['F7', 'FT9', 'FC6']\n",
      "    Rejecting  epoch based on EEG : ['F7', 'FT9', 'FC6']\n",
      "    Rejecting  epoch based on EEG : ['F7']\n",
      "    Rejecting  epoch based on EEG : ['F7', 'FT9', 'CP5', 'FC6', 'F4']\n",
      "    Rejecting  epoch based on EEG : ['F7', 'FT9', 'CP5', 'FC6', 'F4']\n",
      "    Rejecting  epoch based on EEG : ['F7', 'FT9', 'FC6']\n",
      "    Rejecting  epoch based on EEG : ['FC6']\n",
      "    Rejecting  epoch based on EEG : ['O1']\n",
      "    Rejecting  epoch based on EEG : ['O1']\n",
      "    Rejecting  epoch based on EEG : ['FC6']\n",
      "    Rejecting  epoch based on EEG : ['FC6']\n",
      "    Rejecting  epoch based on EEG : ['FT9']\n",
      "    Rejecting  epoch based on EEG : ['F7', 'FT9']\n",
      "    Rejecting  epoch based on EEG : ['F7', 'FT9']\n",
      "    Rejecting  epoch based on EEG : ['F7', 'FT9']\n",
      "    Rejecting  epoch based on EEG : ['FC6']\n",
      "    Rejecting  epoch based on EEG : ['F7', 'FT9', 'FC6']\n",
      "    Rejecting  epoch based on EEG : ['F7', 'FT9', 'FC6']\n",
      "    Rejecting  epoch based on EEG : ['FT9', 'FC6']\n",
      "    Rejecting  epoch based on EEG : ['FC6']\n",
      "    Rejecting  epoch based on EEG : ['FC6']\n",
      "    Rejecting  epoch based on EEG : ['F7', 'FT9', 'O1']\n",
      "    Rejecting  epoch based on EEG : ['F7', 'FT9', 'O1']\n",
      "    Rejecting  epoch based on EEG : ['O1']\n",
      "    Rejecting  epoch based on EEG : ['FT9']\n",
      "    Rejecting  epoch based on EEG : ['O1']\n",
      "    Rejecting  epoch based on EEG : ['O1']\n",
      "    Rejecting  epoch based on EEG : ['F7', 'FT9']\n",
      "    Rejecting  epoch based on EEG : ['F7', 'FT9']\n",
      "    Rejecting  epoch based on EEG : ['F7', 'FT9', 'FC6']\n",
      "    Rejecting  epoch based on EEG : ['F7', 'FT9', 'FC6']\n",
      "    Rejecting  epoch based on EEG : ['F7', 'FT9']\n",
      "    Rejecting  epoch based on EEG : ['F7', 'FT9']\n",
      "    Rejecting  epoch based on EEG : ['FT9']\n",
      "    Rejecting  epoch based on EEG : ['FT9']\n",
      "    Rejecting  epoch based on EEG : ['FT9']\n",
      "    Rejecting  epoch based on EEG : ['O1', 'Oz', 'O2', 'FC6']\n",
      "    Rejecting  epoch based on EEG : ['O1', 'Oz', 'O2', 'FC6']\n",
      "    Rejecting  epoch based on EEG : ['F7', 'FT9', 'CP5', 'O1', 'Oz', 'O2']\n",
      "    Rejecting  epoch based on EEG : ['FT9', 'FC6']\n",
      "    Rejecting  epoch based on EEG : ['FT9', 'FC6']\n",
      "    Rejecting  epoch based on EEG : ['FT9']\n",
      "    Rejecting  epoch based on EEG : ['F7', 'FT9', 'FC6']\n",
      "    Rejecting  epoch based on EEG : ['F7', 'FT9', 'FC6']\n",
      "    Rejecting  epoch based on EEG : ['O1']\n",
      "    Rejecting  epoch based on EEG : ['O1']\n",
      "    Rejecting  epoch based on EEG : ['F7', 'FT9', 'T7', 'FC6']\n",
      "    Rejecting  epoch based on EEG : ['FC6']\n",
      "    Rejecting  epoch based on EEG : ['F7', 'FT9', 'FC6']\n",
      "    Rejecting  epoch based on EEG : ['F7', 'FT9', 'FC6']\n",
      "    Rejecting  epoch based on EEG : ['F7', 'FT9']\n",
      "    Rejecting  epoch based on EEG : ['F7', 'FT9']\n",
      "    Rejecting  epoch based on EEG : ['FT9']\n",
      "    Rejecting  epoch based on EEG : ['F7', 'FT9', 'FC6']\n",
      "    Rejecting  epoch based on EEG : ['F7', 'FT9', 'FC6']\n",
      "    Rejecting  epoch based on EEG : ['FT9']\n",
      "    Rejecting  epoch based on EEG : ['FT9']\n",
      "    Rejecting  epoch based on EEG : ['FT9']\n",
      "58 bad epochs dropped\n"
     ]
    },
    {
     "name": "stderr",
     "output_type": "stream",
     "text": [
      "[Parallel(n_jobs=1)]: Done  17 tasks      | elapsed:    2.5s\n",
      "[Parallel(n_jobs=1)]: Done  17 tasks      | elapsed:    0.4s\n",
      "[Parallel(n_jobs=1)]: Done  17 tasks      | elapsed:    1.7s\n",
      "[Parallel(n_jobs=1)]: Done  17 tasks      | elapsed:    0.4s\n"
     ]
    },
    {
     "name": "stdout",
     "output_type": "stream",
     "text": [
      "Opening raw data file /Users/chaohan/Library/CloudStorage/OneDrive-UniversityofToronto/Projects/Yas accent/data_preprocessed/3_ica/Yas_183_corr_prep_ica.fif...\n",
      "    Range : 0 ... 903626 =      0.000 ...  3614.504 secs\n",
      "Ready.\n"
     ]
    },
    {
     "name": "stderr",
     "output_type": "stream",
     "text": [
      "/var/folders/j8/8nyf6njj5nzfjcv6s23y3nn40000gn/T/ipykernel_37645/644758328.py:15: RuntimeWarning: This filename (/Users/chaohan/Library/CloudStorage/OneDrive-UniversityofToronto/Projects/Yas accent/data_preprocessed/3_ica/Yas_183_corr_prep_ica.fif) does not conform to MNE naming conventions. All raw files should end with raw.fif, raw_sss.fif, raw_tsss.fif, _meg.fif, _eeg.fif, _ieeg.fif, raw.fif.gz, raw_sss.fif.gz, raw_tsss.fif.gz, _meg.fif.gz, _eeg.fif.gz or _ieeg.fif.gz\n",
      "  raw = mne.io.read_raw_fif(input_dir + file, preload = True)\n"
     ]
    },
    {
     "name": "stdout",
     "output_type": "stream",
     "text": [
      "Reading 0 ... 903626  =      0.000 ...  3614.504 secs...\n",
      "EEG channel type selected for re-referencing\n",
      "Applying a custom ('EEG',) reference.\n",
      "Not setting metadata\n",
      "1618 matching events found\n",
      "No baseline correction applied\n",
      "0 projection items activated\n",
      "Using data from preloaded Raw for 1618 events and 751 original time points ...\n",
      "    Rejecting  epoch based on EEG : ['C3', 'FC6']\n",
      "    Rejecting  epoch based on EEG : ['C3', 'FC6']\n",
      "    Rejecting  epoch based on EEG : ['C3']\n",
      "    Rejecting  epoch based on EEG : ['FC6']\n",
      "    Rejecting  epoch based on EEG : ['FC6']\n",
      "    Rejecting  epoch based on EEG : ['FC6']\n",
      "    Rejecting  epoch based on EEG : ['FC6']\n",
      "    Rejecting  epoch based on EEG : ['C3', 'P4', 'CP6', 'FC6']\n",
      "    Rejecting  epoch based on EEG : ['C3', 'P4', 'CP6', 'FC6']\n",
      "    Rejecting  epoch based on EEG : ['C3', 'FC6']\n",
      "    Rejecting  epoch based on EEG : ['C3']\n",
      "    Rejecting  epoch based on EEG : ['C3']\n",
      "    Rejecting  epoch based on EEG : ['C3', 'FC6']\n",
      "    Rejecting  epoch based on EEG : ['FC6']\n",
      "    Rejecting  epoch based on EEG : ['C3']\n",
      "    Rejecting  epoch based on EEG : ['C3', 'FC6']\n",
      "    Rejecting  epoch based on EEG : ['FC6']\n",
      "    Rejecting  epoch based on EEG : ['FC6']\n",
      "    Rejecting  epoch based on EEG : ['FC6']\n",
      "    Rejecting  epoch based on EEG : ['FC6']\n",
      "    Rejecting  epoch based on EEG : ['P4', 'FC6']\n",
      "    Rejecting  epoch based on EEG : ['P4', 'FC6']\n",
      "    Rejecting  epoch based on EEG : ['P4', 'CP6', 'FC6']\n",
      "    Rejecting  epoch based on EEG : ['P4', 'CP6', 'FC6']\n",
      "    Rejecting  epoch based on EEG : ['FC6']\n",
      "    Rejecting  epoch based on EEG : ['FC6']\n",
      "    Rejecting  epoch based on EEG : ['C3', 'FC6']\n",
      "    Rejecting  epoch based on EEG : ['FC6']\n",
      "    Rejecting  epoch based on EEG : ['FC6']\n",
      "    Rejecting  epoch based on EEG : ['C3', 'FC6']\n",
      "    Rejecting  epoch based on EEG : ['C3', 'FC6']\n",
      "    Rejecting  epoch based on EEG : ['FC6']\n",
      "    Rejecting  epoch based on EEG : ['FC6']\n",
      "    Rejecting  epoch based on EEG : ['C3', 'FC6']\n",
      "    Rejecting  epoch based on EEG : ['C3', 'FC6']\n",
      "    Rejecting  epoch based on EEG : ['C3', 'FC6']\n",
      "36 bad epochs dropped\n"
     ]
    },
    {
     "name": "stderr",
     "output_type": "stream",
     "text": [
      "[Parallel(n_jobs=1)]: Done  17 tasks      | elapsed:    2.3s\n",
      "[Parallel(n_jobs=1)]: Done  17 tasks      | elapsed:    0.4s\n",
      "[Parallel(n_jobs=1)]: Done  17 tasks      | elapsed:    1.9s\n",
      "[Parallel(n_jobs=1)]: Done  17 tasks      | elapsed:    0.4s\n"
     ]
    },
    {
     "name": "stdout",
     "output_type": "stream",
     "text": [
      "Opening raw data file /Users/chaohan/Library/CloudStorage/OneDrive-UniversityofToronto/Projects/Yas accent/data_preprocessed/3_ica/Yas_204_corr_prep_ica.fif...\n",
      "    Range : 3422 ... 929424 =     13.688 ...  3717.696 secs\n",
      "Ready.\n"
     ]
    },
    {
     "name": "stderr",
     "output_type": "stream",
     "text": [
      "/var/folders/j8/8nyf6njj5nzfjcv6s23y3nn40000gn/T/ipykernel_37645/644758328.py:15: RuntimeWarning: This filename (/Users/chaohan/Library/CloudStorage/OneDrive-UniversityofToronto/Projects/Yas accent/data_preprocessed/3_ica/Yas_204_corr_prep_ica.fif) does not conform to MNE naming conventions. All raw files should end with raw.fif, raw_sss.fif, raw_tsss.fif, _meg.fif, _eeg.fif, _ieeg.fif, raw.fif.gz, raw_sss.fif.gz, raw_tsss.fif.gz, _meg.fif.gz, _eeg.fif.gz or _ieeg.fif.gz\n",
      "  raw = mne.io.read_raw_fif(input_dir + file, preload = True)\n"
     ]
    },
    {
     "name": "stdout",
     "output_type": "stream",
     "text": [
      "Reading 0 ... 926002  =      0.000 ...  3704.008 secs...\n",
      "EEG channel type selected for re-referencing\n",
      "Applying a custom ('EEG',) reference.\n",
      "Not setting metadata\n",
      "1710 matching events found\n",
      "No baseline correction applied\n",
      "0 projection items activated\n",
      "Using data from preloaded Raw for 1710 events and 751 original time points ...\n",
      "    Rejecting  epoch based on EEG : ['Fz', 'F3', 'F4']\n",
      "    Rejecting  epoch based on EEG : ['Fz', 'F3', 'F4']\n",
      "    Rejecting  epoch based on EEG : ['F4']\n",
      "    Rejecting  epoch based on EEG : ['F4']\n",
      "    Rejecting  epoch based on EEG : ['C3', 'CP5']\n",
      "    Rejecting  epoch based on EEG : ['C3', 'CP5']\n",
      "    Rejecting  epoch based on EEG : ['C3', 'CP5']\n",
      "    Rejecting  epoch based on EEG : ['C3']\n",
      "    Rejecting  epoch based on EEG : ['C3']\n",
      "    Rejecting  epoch based on EEG : ['F3', 'F7', 'FT9', 'FC1', 'C3', 'CP5', 'CP1', 'P3', 'F4']\n",
      "    Rejecting  epoch based on EEG : ['F3', 'F7', 'FT9', 'FC1', 'C3', 'CP5', 'CP1', 'P3', 'F4']\n",
      "    Rejecting  epoch based on EEG : ['F3', 'F7', 'FT9', 'FC1', 'C3', 'CP5', 'CP1', 'P3']\n",
      "    Rejecting  epoch based on EEG : ['Fz', 'F3', 'F7', 'FT9', 'FC1', 'C3', 'CP5', 'CP1', 'P3', 'Cz', 'F4']\n",
      "    Rejecting  epoch based on EEG : ['Fz', 'F3', 'F7', 'FT9', 'FC1', 'C3', 'CP5', 'CP1', 'P3', 'Cz', 'F4']\n",
      "    Rejecting  epoch based on EEG : ['C3', 'CP5']\n",
      "    Rejecting  epoch based on EEG : ['C3']\n",
      "    Rejecting  epoch based on EEG : ['C3']\n",
      "    Rejecting  epoch based on EEG : ['F3', 'FT9', 'FC1', 'C3', 'CP5']\n",
      "    Rejecting  epoch based on EEG : ['Fz', 'F3', 'F7', 'FT9', 'FC5', 'FC1', 'C3', 'CP5', 'CP1', 'P3', 'P7', 'Cz']\n",
      "    Rejecting  epoch based on EEG : ['C3']\n",
      "    Rejecting  epoch based on EEG : ['C3']\n",
      "    Rejecting  epoch based on EEG : ['C3']\n",
      "    Rejecting  epoch based on EEG : ['C3']\n",
      "    Rejecting  epoch based on EEG : ['FT9', 'FC1', 'C3', 'CP5', 'CP1', 'P3']\n",
      "    Rejecting  epoch based on EEG : ['F3', 'F7', 'FT9', 'FC1', 'C3', 'CP5', 'CP1', 'P3']\n",
      "    Rejecting  epoch based on EEG : ['F3', 'F7', 'FT9', 'FC1', 'C3', 'CP5', 'CP1']\n",
      "    Rejecting  epoch based on EEG : ['F3', 'F7', 'FT9', 'FC1', 'C3', 'CP5', 'CP1', 'P3']\n",
      "    Rejecting  epoch based on EEG : ['F3', 'F7', 'FT9', 'FC1', 'C3', 'CP5', 'CP1', 'P3']\n",
      "    Rejecting  epoch based on EEG : ['C3']\n",
      "    Rejecting  epoch based on EEG : ['C3']\n",
      "    Rejecting  epoch based on EEG : ['F3', 'F7', 'FT9', 'FC1', 'C3', 'CP5', 'CP1']\n",
      "    Rejecting  epoch based on EEG : ['F3', 'F7', 'FT9', 'FC1', 'C3', 'CP5', 'CP1']\n",
      "    Rejecting  epoch based on EEG : ['F4']\n",
      "    Rejecting  epoch based on EEG : ['F4']\n",
      "    Rejecting  epoch based on EEG : ['F4']\n",
      "    Rejecting  epoch based on EEG : ['C3']\n",
      "    Rejecting  epoch based on EEG : ['C3']\n",
      "    Rejecting  epoch based on EEG : ['C3']\n",
      "    Rejecting  epoch based on EEG : ['F3', 'F7', 'FC1', 'C3']\n",
      "    Rejecting  epoch based on EEG : ['F3', 'F7', 'FC1', 'C3']\n",
      "    Rejecting  epoch based on EEG : ['Fz', 'F3', 'F7', 'FT9', 'FC5', 'FC1', 'C3', 'CP5', 'CP1', 'P3', 'Cz', 'C4', 'FC2', 'F4']\n",
      "    Rejecting  epoch based on EEG : ['F4']\n",
      "    Rejecting  epoch based on EEG : ['F4']\n",
      "    Rejecting  epoch based on EEG : ['F3', 'FC1', 'C3', 'CP1', 'F4']\n",
      "    Rejecting  epoch based on EEG : ['F4']\n",
      "    Rejecting  epoch based on EEG : ['P7']\n",
      "    Rejecting  epoch based on EEG : ['Fz', 'F3', 'F7', 'FT9', 'FC5', 'FC1', 'C3', 'CP5', 'CP1', 'P3', 'Cz']\n",
      "    Rejecting  epoch based on EEG : ['Fz', 'F3', 'F7', 'FT9', 'FC5', 'FC1', 'C3', 'CP5', 'CP1', 'P3', 'Cz']\n",
      "    Rejecting  epoch based on EEG : ['F4']\n",
      "    Rejecting  epoch based on EEG : ['F3', 'F7', 'FT9', 'FC1', 'C3', 'CP5']\n",
      "    Rejecting  epoch based on EEG : ['F3', 'F7', 'FT9', 'FC1', 'C3', 'CP5', 'CP1']\n",
      "    Rejecting  epoch based on EEG : ['F3', 'F7', 'FT9', 'FC1', 'C3', 'CP5', 'CP1']\n",
      "    Rejecting  epoch based on EEG : ['F3', 'FT9', 'FC1', 'C3', 'CP5', 'CP1', 'P3']\n",
      "    Rejecting  epoch based on EEG : ['F3', 'FT9', 'FC1', 'C3', 'CP5', 'CP1', 'P3']\n",
      "    Rejecting  epoch based on EEG : ['C3', 'CP5', 'P3']\n",
      "    Rejecting  epoch based on EEG : ['F7', 'C3', 'CP5', 'P3']\n",
      "    Rejecting  epoch based on EEG : ['C3', 'CP5']\n",
      "    Rejecting  epoch based on EEG : ['C3', 'CP5']\n",
      "    Rejecting  epoch based on EEG : ['F3', 'F7', 'FT9', 'FC1', 'C3', 'CP5', 'CP1', 'P3']\n",
      "    Rejecting  epoch based on EEG : ['F3', 'F7', 'FT9', 'FC1', 'C3', 'CP5', 'CP1', 'P3']\n",
      "    Rejecting  epoch based on EEG : ['F3', 'FC1', 'C3', 'CP5', 'CP1']\n",
      "    Rejecting  epoch based on EEG : ['F3', 'F7', 'FT9', 'FC1', 'C3']\n",
      "    Rejecting  epoch based on EEG : ['C3', 'F4']\n",
      "    Rejecting  epoch based on EEG : ['F3', 'FT9', 'FC1', 'C3', 'CP5', 'CP1', 'P3']\n",
      "    Rejecting  epoch based on EEG : ['F3', 'FT9', 'FC1', 'C3', 'CP5', 'CP1', 'P3']\n",
      "    Rejecting  epoch based on EEG : ['C3', 'CP5']\n",
      "    Rejecting  epoch based on EEG : ['C3']\n",
      "    Rejecting  epoch based on EEG : ['C3']\n",
      "    Rejecting  epoch based on EEG : ['F3', 'F7', 'FT9', 'FC1', 'C3', 'CP5', 'CP1', 'P3', 'F4']\n",
      "    Rejecting  epoch based on EEG : ['F3', 'F7', 'FT9', 'FC1', 'C3', 'CP5', 'CP1', 'P3', 'F4']\n",
      "    Rejecting  epoch based on EEG : ['F3', 'F7', 'C3']\n",
      "    Rejecting  epoch based on EEG : ['F3', 'F7', 'C3']\n",
      "    Rejecting  epoch based on EEG : ['F3', 'F7', 'FT9', 'FC5', 'FC1', 'C3', 'CP5', 'CP1', 'P3', 'Cz']\n",
      "    Rejecting  epoch based on EEG : ['F3', 'F7', 'FT9', 'FC5', 'FC1', 'C3', 'CP5', 'CP1', 'P3', 'Cz']\n",
      "    Rejecting  epoch based on EEG : ['C3']\n",
      "    Rejecting  epoch based on EEG : ['F3', 'F7', 'FT9', 'FC1', 'C3', 'CP5', 'CP1']\n",
      "    Rejecting  epoch based on EEG : ['F3', 'F7', 'FT9', 'FC1', 'C3', 'CP5', 'CP1']\n",
      "    Rejecting  epoch based on EEG : ['C3']\n",
      "    Rejecting  epoch based on EEG : ['F3', 'F7', 'FT9', 'FC1', 'C3', 'CP5', 'CP1', 'P3']\n",
      "    Rejecting  epoch based on EEG : ['F4']\n",
      "    Rejecting  epoch based on EEG : ['F4']\n",
      "    Rejecting  epoch based on EEG : ['FC6', 'FC2', 'F4', 'F8']\n",
      "    Rejecting  epoch based on EEG : ['Fz', 'F3', 'FC6', 'FC2', 'F4', 'F8']\n",
      "    Rejecting  epoch based on EEG : ['F4', 'F8']\n",
      "    Rejecting  epoch based on EEG : ['Fz', 'F3', 'F7', 'FT9', 'FC5', 'FC1', 'C3', 'CP5', 'CP1', 'P3', 'P7', 'Cz']\n",
      "    Rejecting  epoch based on EEG : ['Fz', 'F3', 'F7', 'FT9', 'FC5', 'FC1', 'C3', 'CP5', 'CP1', 'P3', 'P7', 'Cz']\n",
      "    Rejecting  epoch based on EEG : ['Fz', 'F3', 'F7', 'FT9', 'FC1', 'C3', 'CP5', 'CP1', 'Cz', 'FC2', 'F4']\n",
      "    Rejecting  epoch based on EEG : ['Fz', 'F3', 'F7', 'FT9', 'FC1', 'C3', 'CP5', 'CP1', 'Cz', 'FC2', 'F4']\n",
      "    Rejecting  epoch based on EEG : ['Fz', 'F3', 'F7', 'FT9', 'FC5', 'FC1', 'C3', 'CP5', 'CP1', 'P3', 'P7', 'Cz', 'F4']\n",
      "    Rejecting  epoch based on EEG : ['Fz', 'F3', 'F7', 'FT9', 'FC5', 'FC1', 'C3', 'CP5', 'CP1', 'P3', 'P7', 'Cz', 'C4', 'FC6', 'FC2', 'F4', 'F8']\n",
      "    Rejecting  epoch based on EEG : ['Fz', 'F3', 'F7', 'FT9', 'FC5', 'FC1', 'C3', 'CP5', 'CP1', 'P3', 'FC6', 'FC2', 'F4', 'F8']\n",
      "    Rejecting  epoch based on EEG : ['F4', 'F8']\n",
      "    Rejecting  epoch based on EEG : ['F4']\n",
      "    Rejecting  epoch based on EEG : ['F4', 'F8']\n",
      "    Rejecting  epoch based on EEG : ['F4']\n",
      "    Rejecting  epoch based on EEG : ['F4']\n",
      "    Rejecting  epoch based on EEG : ['F4']\n",
      "    Rejecting  epoch based on EEG : ['F4', 'F8']\n",
      "    Rejecting  epoch based on EEG : ['P7']\n",
      "    Rejecting  epoch based on EEG : ['Fz', 'F3', 'F7', 'FT9', 'FC5', 'FC1', 'C3', 'CP5', 'CP1', 'Pz', 'P3', 'P7', 'TP10', 'CP6', 'CP2', 'Cz', 'C4', 'T8', 'FT10', 'FC2', 'F4', 'F8', 'TP9']\n",
      "    Rejecting  epoch based on EEG : ['F4', 'F8']\n",
      "    Rejecting  epoch based on EEG : ['C3']\n",
      "    Rejecting  epoch based on EEG : ['F4', 'F8']\n",
      "    Rejecting  epoch based on EEG : ['FC6', 'FC2', 'F4', 'F8']\n",
      "    Rejecting  epoch based on EEG : ['F4', 'F8']\n",
      "    Rejecting  epoch based on EEG : ['F4']\n",
      "    Rejecting  epoch based on EEG : ['F4']\n",
      "    Rejecting  epoch based on EEG : ['F3']\n",
      "    Rejecting  epoch based on EEG : ['F3']\n",
      "    Rejecting  epoch based on EEG : ['P7']\n",
      "    Rejecting  epoch based on EEG : ['C3']\n",
      "    Rejecting  epoch based on EEG : ['C3']\n",
      "    Rejecting  epoch based on EEG : ['F3', 'F7', 'FT9', 'FC1', 'C3', 'CP5', 'CP1', 'P3']\n",
      "    Rejecting  epoch based on EEG : ['F3', 'F7', 'FT9', 'FC1', 'C3', 'CP5', 'CP1', 'P3']\n",
      "    Rejecting  epoch based on EEG : ['F3', 'FC1', 'C3', 'CP5', 'CP1', 'P3']\n",
      "    Rejecting  epoch based on EEG : ['F3', 'FT9', 'FC1', 'C3', 'CP5', 'CP1']\n",
      "    Rejecting  epoch based on EEG : ['C3']\n",
      "    Rejecting  epoch based on EEG : ['C3', 'CP5']\n",
      "    Rejecting  epoch based on EEG : ['F3', 'F7', 'FC1', 'C3', 'CP5', 'CP1']\n",
      "    Rejecting  epoch based on EEG : ['C3']\n",
      "    Rejecting  epoch based on EEG : ['C3']\n",
      "    Rejecting  epoch based on EEG : ['C3']\n",
      "    Rejecting  epoch based on EEG : ['C3']\n",
      "    Rejecting  epoch based on EEG : ['Fz', 'F3', 'F7', 'FT9', 'FC5', 'FC1', 'C3', 'CP5', 'CP1', 'P3', 'P7', 'Cz', 'C4', 'FC2', 'F4', 'F8']\n",
      "    Rejecting  epoch based on EEG : ['Fz', 'F3', 'F7', 'FT9', 'FC5', 'FC1', 'C3', 'CP5', 'CP1', 'P3', 'P7', 'Cz', 'C4', 'FC6', 'FC2', 'F4', 'F8']\n",
      "    Rejecting  epoch based on EEG : ['F3', 'FT9', 'FC1', 'C3', 'CP5', 'CP1', 'P3', 'FC6', 'F4', 'F8']\n",
      "    Rejecting  epoch based on EEG : ['F4']\n",
      "    Rejecting  epoch based on EEG : ['F4']\n",
      "    Rejecting  epoch based on EEG : ['F4']\n",
      "    Rejecting  epoch based on EEG : ['FC1', 'C3', 'F4', 'F8']\n",
      "    Rejecting  epoch based on EEG : ['FC1', 'C3', 'F4', 'F8']\n",
      "    Rejecting  epoch based on EEG : ['Fz', 'FC6', 'FC2', 'F4', 'F8']\n",
      "    Rejecting  epoch based on EEG : ['Fz', 'FC6', 'FC2', 'F4', 'F8']\n",
      "133 bad epochs dropped\n"
     ]
    },
    {
     "name": "stderr",
     "output_type": "stream",
     "text": [
      "[Parallel(n_jobs=1)]: Done  17 tasks      | elapsed:    2.4s\n",
      "[Parallel(n_jobs=1)]: Done  17 tasks      | elapsed:    0.4s\n",
      "[Parallel(n_jobs=1)]: Done  17 tasks      | elapsed:    2.0s\n",
      "[Parallel(n_jobs=1)]: Done  17 tasks      | elapsed:    0.4s\n"
     ]
    },
    {
     "name": "stdout",
     "output_type": "stream",
     "text": [
      "Opening raw data file /Users/chaohan/Library/CloudStorage/OneDrive-UniversityofToronto/Projects/Yas accent/data_preprocessed/3_ica/Yas_153_corr_prep_ica.fif...\n"
     ]
    },
    {
     "name": "stderr",
     "output_type": "stream",
     "text": [
      "/var/folders/j8/8nyf6njj5nzfjcv6s23y3nn40000gn/T/ipykernel_37645/644758328.py:15: RuntimeWarning: This filename (/Users/chaohan/Library/CloudStorage/OneDrive-UniversityofToronto/Projects/Yas accent/data_preprocessed/3_ica/Yas_153_corr_prep_ica.fif) does not conform to MNE naming conventions. All raw files should end with raw.fif, raw_sss.fif, raw_tsss.fif, _meg.fif, _eeg.fif, _ieeg.fif, raw.fif.gz, raw_sss.fif.gz, raw_tsss.fif.gz, _meg.fif.gz, _eeg.fif.gz or _ieeg.fif.gz\n",
      "  raw = mne.io.read_raw_fif(input_dir + file, preload = True)\n"
     ]
    },
    {
     "name": "stdout",
     "output_type": "stream",
     "text": [
      "    Range : 1009 ... 881196 =      4.036 ...  3524.784 secs\n",
      "Ready.\n",
      "Reading 0 ... 880187  =      0.000 ...  3520.748 secs...\n",
      "EEG channel type selected for re-referencing\n",
      "Applying a custom ('EEG',) reference.\n",
      "Not setting metadata\n",
      "1695 matching events found\n",
      "No baseline correction applied\n",
      "0 projection items activated\n",
      "Using data from preloaded Raw for 1695 events and 751 original time points ...\n",
      "    Rejecting  epoch based on EEG : ['FT10', 'F4']\n",
      "    Rejecting  epoch based on EEG : ['FT10', 'F4']\n",
      "    Rejecting  epoch based on EEG : ['FC5', 'C4', 'FT10', 'F4', 'F8']\n",
      "    Rejecting  epoch based on EEG : ['FT9', 'T7', 'CP5', 'P7']\n",
      "    Rejecting  epoch based on EEG : ['FT9', 'T7', 'CP5', 'P7']\n",
      "    Rejecting  epoch based on EEG : ['P7']\n",
      "    Rejecting  epoch based on EEG : ['CP6', 'C4']\n",
      "    Rejecting  epoch based on EEG : ['CP6', 'C4']\n",
      "    Rejecting  epoch based on EEG : ['F3', 'FT9', 'T7', 'P7', 'CP6', 'FT10', 'F4', 'F8']\n",
      "    Rejecting  epoch based on EEG : ['F3', 'FT9', 'FC5', 'C3', 'T7', 'CP5', 'P7', 'FT10', 'F8']\n",
      "    Rejecting  epoch based on EEG : ['F3', 'FT9', 'FC5', 'C3', 'T7', 'CP5', 'P7', 'FT10', 'F8']\n",
      "    Rejecting  epoch based on EEG : ['FT9', 'FC5', 'T7', 'CP5', 'Pz', 'P3', 'P7', 'O1', 'P8', 'CP6', 'F8']\n",
      "    Rejecting  epoch based on EEG : ['FT9', 'T7', 'CP5', 'Pz', 'P3', 'P7', 'O1', 'P8', 'CP6', 'F8']\n",
      "    Rejecting  epoch based on EEG : ['FT9', 'T7', 'P7', 'CP6']\n",
      "    Rejecting  epoch based on EEG : ['FT9', 'T7', 'CP5', 'P7']\n",
      "    Rejecting  epoch based on EEG : ['FT9', 'T7', 'CP5', 'P7']\n",
      "    Rejecting  epoch based on EEG : ['P7']\n",
      "    Rejecting  epoch based on EEG : ['P7']\n",
      "    Rejecting  epoch based on EEG : ['P7']\n",
      "    Rejecting  epoch based on EEG : ['FT10', 'F4', 'F8']\n",
      "    Rejecting  epoch based on EEG : ['FT10', 'F4']\n",
      "    Rejecting  epoch based on EEG : ['FT10', 'F4']\n",
      "    Rejecting  epoch based on EEG : ['FT9', 'T7', 'Pz', 'T8']\n",
      "    Rejecting  epoch based on EEG : ['FT9', 'T7', 'Pz', 'T8']\n",
      "    Rejecting  epoch based on EEG : ['Fz', 'F3', 'F7', 'FT9', 'FC5', 'FC1', 'C3', 'T7', 'CP5', 'CP1', 'Pz', 'P3', 'P7', 'O1', 'Oz', 'O2', 'P4', 'P8', 'TP10', 'CP6', 'CP2', 'Cz', 'C4', 'T8', 'FC6', 'FC2', 'F4', 'F8', 'TP9']\n",
      "    Rejecting  epoch based on EEG : ['Fz', 'F3', 'F7', 'FT9', 'FC5', 'FC1', 'C3', 'T7', 'CP5', 'CP1', 'Pz', 'P3', 'P7', 'O1', 'Oz', 'O2', 'P4', 'P8', 'TP10', 'CP6', 'CP2', 'Cz', 'C4', 'T8', 'FT10', 'FC6', 'FC2', 'F4', 'F8', 'TP9']\n",
      "    Rejecting  epoch based on EEG : ['Fz', 'F3', 'F7', 'FT9', 'FC5', 'FC1', 'C3', 'T7', 'CP5', 'CP1', 'Pz', 'P3', 'P7', 'O1', 'Oz', 'O2', 'P4', 'P8', 'TP10', 'CP6', 'CP2', 'Cz', 'C4', 'T8', 'FT10', 'FC6', 'FC2', 'F4', 'F8', 'TP9']\n",
      "    Rejecting  epoch based on EEG : ['FT9', 'T7', 'Pz', 'P7', 'O1', 'Oz', 'T8']\n",
      "    Rejecting  epoch based on EEG : ['Fz', 'F3', 'F7', 'FT9', 'FC5', 'FC1', 'C3', 'T7', 'CP5', 'CP1', 'Pz', 'P3', 'P7', 'O1', 'Oz', 'O2', 'P4', 'P8', 'TP10', 'CP6', 'CP2', 'Cz', 'C4', 'T8', 'FC6', 'FC2', 'F4', 'F8', 'TP9']\n",
      "    Rejecting  epoch based on EEG : ['FT9', 'T7', 'Pz', 'T8']\n",
      "    Rejecting  epoch based on EEG : ['FT9', 'T7', 'Pz']\n",
      "    Rejecting  epoch based on EEG : ['FT9', 'T7', 'Pz']\n",
      "    Rejecting  epoch based on EEG : ['T7', 'Pz']\n",
      "    Rejecting  epoch based on EEG : ['T7', 'Pz']\n",
      "    Rejecting  epoch based on EEG : ['Pz']\n",
      "    Rejecting  epoch based on EEG : ['Pz']\n",
      "    Rejecting  epoch based on EEG : ['T7', 'Pz']\n",
      "    Rejecting  epoch based on EEG : ['Pz']\n",
      "    Rejecting  epoch based on EEG : ['Pz']\n",
      "    Rejecting  epoch based on EEG : ['T7', 'Pz']\n",
      "    Rejecting  epoch based on EEG : ['FT9', 'T7', 'Pz']\n",
      "    Rejecting  epoch based on EEG : ['FT9', 'T7', 'Pz']\n",
      "    Rejecting  epoch based on EEG : ['Fz', 'F3', 'F7', 'FT9', 'FC5', 'FC1', 'C3', 'T7', 'CP5', 'CP1', 'Pz', 'P3', 'P7', 'O1', 'Oz', 'O2', 'P4', 'P8', 'TP10', 'CP6', 'CP2', 'Cz', 'C4', 'T8', 'FC6', 'FC2', 'F4', 'F8', 'TP9']\n",
      "    Rejecting  epoch based on EEG : ['Fz', 'F3', 'F7', 'FT9', 'FC5', 'FC1', 'C3', 'T7', 'CP5', 'CP1', 'Pz', 'P3', 'P7', 'O1', 'Oz', 'O2', 'P4', 'P8', 'TP10', 'CP6', 'CP2', 'Cz', 'C4', 'T8', 'FT10', 'FC6', 'FC2', 'F4', 'F8', 'TP9']\n",
      "    Rejecting  epoch based on EEG : ['Fz', 'F3', 'F7', 'FT9', 'FC5', 'FC1', 'C3', 'T7', 'CP5', 'CP1', 'Pz', 'P3', 'P7', 'O1', 'Oz', 'O2', 'P4', 'P8', 'TP10', 'CP6', 'CP2', 'Cz', 'C4', 'T8', 'FT10', 'FC6', 'FC2', 'F4', 'F8', 'TP9']\n",
      "    Rejecting  epoch based on EEG : ['Fz', 'F3', 'F7', 'FT9', 'FC5', 'FC1', 'C3', 'T7', 'CP5', 'CP1', 'Pz', 'P3', 'P7', 'O1', 'Oz', 'O2', 'P4', 'P8', 'TP10', 'CP6', 'CP2', 'Cz', 'C4', 'T8', 'FT10', 'FC6', 'FC2', 'F4', 'F8', 'TP9']\n",
      "    Rejecting  epoch based on EEG : ['Fz', 'F3', 'F7', 'FT9', 'FC5', 'FC1', 'C3', 'T7', 'CP5', 'CP1', 'Pz', 'P3', 'P7', 'O1', 'Oz', 'O2', 'P4', 'P8', 'TP10', 'CP6', 'CP2', 'Cz', 'C4', 'T8', 'FT10', 'FC6', 'FC2', 'F4', 'F8', 'TP9']\n",
      "    Rejecting  epoch based on EEG : ['Pz']\n",
      "    Rejecting  epoch based on EEG : ['Pz', 'P4', 'T8', 'FT10']\n",
      "    Rejecting  epoch based on EEG : ['FT9', 'T7', 'Pz', 'P4', 'T8', 'FT10']\n",
      "    Rejecting  epoch based on EEG : ['FT9', 'T7', 'Pz', 'P4']\n",
      "    Rejecting  epoch based on EEG : ['FT9', 'T7', 'Pz', 'T8']\n",
      "    Rejecting  epoch based on EEG : ['Fz', 'F3', 'F7', 'FT9', 'FC5', 'FC1', 'C3', 'T7', 'CP5', 'CP1', 'Pz', 'P3', 'P7', 'O1', 'Oz', 'O2', 'P4', 'P8', 'TP10', 'CP6', 'CP2', 'Cz', 'C4', 'T8', 'FC6', 'FC2', 'F4', 'F8', 'TP9']\n",
      "    Rejecting  epoch based on EEG : ['Fz', 'F3', 'F7', 'FT9', 'FC5', 'FC1', 'C3', 'T7', 'CP5', 'CP1', 'Pz', 'P3', 'P7', 'O1', 'Oz', 'O2', 'P4', 'P8', 'TP10', 'CP6', 'CP2', 'Cz', 'C4', 'T8', 'FT10', 'FC6', 'FC2', 'F4', 'F8', 'TP9']\n",
      "    Rejecting  epoch based on EEG : ['Fz', 'F3', 'F7', 'FT9', 'FC5', 'FC1', 'C3', 'T7', 'CP5', 'CP1', 'Pz', 'P3', 'P7', 'O1', 'Oz', 'O2', 'P4', 'P8', 'TP10', 'CP6', 'CP2', 'Cz', 'C4', 'T8', 'FT10', 'FC6', 'FC2', 'F4', 'F8', 'TP9']\n",
      "    Rejecting  epoch based on EEG : ['Fz', 'F3', 'F7', 'FT9', 'FC5', 'FC1', 'C3', 'T7', 'CP5', 'CP1', 'Pz', 'P3', 'P7', 'O1', 'Oz', 'O2', 'P4', 'P8', 'TP10', 'CP6', 'CP2', 'Cz', 'C4', 'T8', 'FT10', 'FC6', 'FC2', 'F4', 'F8', 'TP9']\n",
      "    Rejecting  epoch based on EEG : ['Fz', 'F3', 'F7', 'FT9', 'FC5', 'FC1', 'C3', 'T7', 'CP5', 'CP1', 'Pz', 'P3', 'P7', 'O1', 'Oz', 'O2', 'P4', 'P8', 'TP10', 'CP6', 'CP2', 'Cz', 'C4', 'T8', 'FT10', 'FC6', 'FC2', 'F4', 'F8', 'TP9']\n",
      "    Rejecting  epoch based on EEG : ['FT9', 'T7', 'Pz']\n",
      "    Rejecting  epoch based on EEG : ['FT9', 'T7', 'Pz']\n",
      "    Rejecting  epoch based on EEG : ['FT9', 'T7', 'Pz', 'T8']\n",
      "    Rejecting  epoch based on EEG : ['Fz', 'F3', 'F7', 'FT9', 'FC5', 'FC1', 'C3', 'T7', 'CP5', 'CP1', 'Pz', 'P3', 'P7', 'O1', 'Oz', 'O2', 'P4', 'P8', 'TP10', 'CP6', 'CP2', 'Cz', 'C4', 'T8', 'FT10', 'FC6', 'FC2', 'F4', 'F8', 'TP9']\n",
      "    Rejecting  epoch based on EEG : ['FT9', 'T7', 'Pz', 'P3', 'O1', 'Oz', 'O2', 'P4', 'P8', 'CP2', 'C4', 'T8', 'FC2', 'F4', 'F8']\n",
      "    Rejecting  epoch based on EEG : ['Pz']\n",
      "    Rejecting  epoch based on EEG : ['Pz']\n",
      "    Rejecting  epoch based on EEG : ['Pz']\n",
      "    Rejecting  epoch based on EEG : ['P4']\n",
      "    Rejecting  epoch based on EEG : ['CP2']\n",
      "    Rejecting  epoch based on EEG : ['Fz', 'F3', 'FT9', 'FC5', 'FC1', 'C3', 'CP5', 'CP6', 'C4', 'FT10', 'FC2', 'F4', 'F8']\n",
      "    Rejecting  epoch based on EEG : ['Fz', 'F3', 'FT9', 'FC5', 'FC1', 'C3', 'CP5', 'CP6', 'C4', 'FT10', 'FC2', 'F4', 'F8']\n",
      "    Rejecting  epoch based on EEG : ['FT9', 'T7', 'P7']\n",
      "    Rejecting  epoch based on EEG : ['FT9', 'T7', 'P7']\n",
      "    Rejecting  epoch based on EEG : ['F3', 'FT9', 'FC5', 'FC1', 'C3', 'T7', 'CP5', 'CP1', 'P7', 'CP6', 'C4', 'FT10', 'F8']\n",
      "    Rejecting  epoch based on EEG : ['F3', 'FT9', 'FC5', 'FC1', 'C3', 'T7', 'CP5', 'CP1', 'P7', 'CP6', 'C4', 'FT10', 'F8']\n",
      "    Rejecting  epoch based on EEG : ['CP5']\n",
      "    Rejecting  epoch based on EEG : ['F3', 'FT9', 'FC5', 'C3', 'CP5', 'CP6', 'C4']\n",
      "    Rejecting  epoch based on EEG : ['F3', 'FT9', 'FC5', 'C3', 'CP5', 'CP6', 'C4']\n",
      "    Rejecting  epoch based on EEG : ['CP6']\n",
      "    Rejecting  epoch based on EEG : ['CP6']\n",
      "    Rejecting  epoch based on EEG : ['C3', 'CP5', 'CP6']\n",
      "    Rejecting  epoch based on EEG : ['C3', 'CP5', 'CP6']\n",
      "    Rejecting  epoch based on EEG : ['Pz', 'CP6', 'C4', 'FT10', 'FC6', 'FC2', 'F4', 'F8']\n",
      "    Rejecting  epoch based on EEG : ['Fz', 'F3', 'FT9', 'FC5', 'FC1', 'C3', 'T7', 'CP5', 'CP1', 'Pz', 'P3', 'P7', 'P4', 'P8', 'CP6', 'CP2', 'C4', 'T8', 'FT10', 'FC6', 'FC2', 'F4', 'F8']\n",
      "    Rejecting  epoch based on EEG : ['Fz', 'F3', 'FT9', 'FC5', 'FC1', 'C3', 'T7', 'CP5', 'CP1', 'Pz', 'P3', 'P7', 'P4', 'P8', 'CP6', 'C4', 'T8', 'FT10', 'FC6', 'FC2', 'F4', 'F8']\n",
      "    Rejecting  epoch based on EEG : ['F3', 'FT9', 'FC5', 'FC1', 'C3', 'CP5', 'CP6', 'C4', 'FT10', 'F4', 'F8']\n",
      "    Rejecting  epoch based on EEG : ['FT10', 'F4']\n",
      "    Rejecting  epoch based on EEG : ['FT10', 'F4']\n",
      "    Rejecting  epoch based on EEG : ['T7', 'P7', 'Oz', 'O2']\n",
      "    Rejecting  epoch based on EEG : ['T7', 'P7']\n",
      "    Rejecting  epoch based on EEG : ['FT9', 'T7', 'P7']\n",
      "    Rejecting  epoch based on EEG : ['Fz', 'F3', 'F7', 'FT9', 'FC5', 'FC1', 'C3', 'T7', 'CP5', 'CP1', 'Pz', 'P3', 'P7', 'P4', 'CP6', 'C4', 'T8', 'FT10', 'FC2', 'F4']\n",
      "    Rejecting  epoch based on EEG : ['Fz', 'F3', 'F7', 'FT9', 'FC5', 'FC1', 'C3', 'T7', 'CP5', 'CP1', 'Pz', 'P3', 'P7', 'P4', 'CP6', 'C4', 'T8', 'FT10', 'FC2', 'F4']\n",
      "    Rejecting  epoch based on EEG : ['C3', 'CP5']\n",
      "    Rejecting  epoch based on EEG : ['FC5', 'F4']\n",
      "    Rejecting  epoch based on EEG : ['P4', 'P8', 'CP6', 'CP2', 'C4', 'FC6']\n",
      "    Rejecting  epoch based on EEG : ['F3', 'FT9', 'FC5', 'C3', 'CP5', 'Pz', 'CP6', 'C4', 'FT10', 'F8']\n",
      "    Rejecting  epoch based on EEG : ['FT9', 'T7', 'P7']\n",
      "    Rejecting  epoch based on EEG : ['FT9', 'T7', 'P7']\n",
      "    Rejecting  epoch based on EEG : ['FT9', 'FC5', 'C3', 'CP5', 'P3', 'P7', 'CP6']\n",
      "    Rejecting  epoch based on EEG : ['FT9', 'FC5', 'C3', 'CP5', 'P3', 'P7', 'CP6']\n",
      "    Rejecting  epoch based on EEG : ['O1']\n",
      "    Rejecting  epoch based on EEG : ['O1', 'FT10']\n",
      "    Rejecting  epoch based on EEG : ['CP6']\n",
      "    Rejecting  epoch based on EEG : ['P4', 'P8', 'CP6', 'CP2', 'C4']\n",
      "    Rejecting  epoch based on EEG : ['CP5', 'Pz', 'O1', 'Oz', 'P4', 'P8', 'CP6', 'CP2', 'C4', 'T8', 'FT10', 'FC6', 'FC2', 'F4']\n",
      "    Rejecting  epoch based on EEG : ['CP5', 'Pz', 'O1', 'Oz', 'P4', 'P8', 'CP6', 'CP2', 'C4', 'T8', 'FT10', 'FC6', 'FC2', 'F4']\n",
      "    Rejecting  epoch based on EEG : ['P7', 'FT10', 'F8']\n",
      "    Rejecting  epoch based on EEG : ['F3', 'FT9', 'FC5', 'T7', 'CP5', 'P7', 'P8', 'CP6', 'C4', 'FT10', 'FC6', 'F8']\n",
      "    Rejecting  epoch based on EEG : ['F3', 'FT9', 'FC5', 'C3', 'T7', 'CP5', 'P7', 'P8', 'CP6', 'C4', 'FT10', 'FC6', 'F4', 'F8']\n",
      "    Rejecting  epoch based on EEG : ['FC5', 'C3', 'T7', 'CP5', 'P7', 'CP6', 'C4']\n",
      "    Rejecting  epoch based on EEG : ['P7']\n",
      "    Rejecting  epoch based on EEG : ['FT9', 'C3', 'CP5']\n",
      "    Rejecting  epoch based on EEG : ['FT9', 'FC5', 'C3', 'CP5']\n",
      "    Rejecting  epoch based on EEG : ['FT9', 'FC5', 'C3', 'CP5']\n",
      "    Rejecting  epoch based on EEG : ['FT9', 'FC5', 'C3', 'T7', 'CP5', 'P3', 'P7', 'CP6']\n",
      "    Rejecting  epoch based on EEG : ['F3', 'FT9', 'FC5', 'FC1', 'C3', 'T7', 'CP5', 'FT10']\n",
      "    Rejecting  epoch based on EEG : ['F3', 'FT9', 'FC5', 'FC1', 'C3', 'T7', 'CP5', 'FT10']\n",
      "    Rejecting  epoch based on EEG : ['F3', 'FT9', 'FC5', 'C3', 'CP5']\n",
      "    Rejecting  epoch based on EEG : ['FC5', 'C3', 'T7', 'CP5', 'CP6']\n",
      "    Rejecting  epoch based on EEG : ['CP5', 'CP6', 'C4']\n",
      "    Rejecting  epoch based on EEG : ['FC5', 'C3', 'CP5', 'CP6', 'C4']\n",
      "    Rejecting  epoch based on EEG : ['C3', 'CP5']\n",
      "    Rejecting  epoch based on EEG : ['FC5', 'C3', 'CP5']\n",
      "    Rejecting  epoch based on EEG : ['Fz', 'F3', 'FT9', 'FC5', 'FC1', 'C3', 'T7', 'CP5', 'CP1', 'P3', 'P7', 'CP6', 'C4', 'FT10', 'FC2', 'F4']\n",
      "    Rejecting  epoch based on EEG : ['FT9', 'T7', 'P7']\n",
      "    Rejecting  epoch based on EEG : ['F3', 'FT9', 'FC5', 'FC1', 'C3', 'T7', 'CP5', 'CP6', 'C4', 'FT10', 'F8']\n",
      "    Rejecting  epoch based on EEG : ['F3', 'FT9', 'FC5', 'FC1', 'C3', 'T7', 'CP5', 'CP6', 'C4', 'FT10', 'F8']\n",
      "    Rejecting  epoch based on EEG : ['FT9', 'FC5', 'C3', 'CP5', 'CP6']\n",
      "    Rejecting  epoch based on EEG : ['FT9', 'FC5', 'C3', 'CP5', 'CP6']\n",
      "    Rejecting  epoch based on EEG : ['CP6']\n",
      "    Rejecting  epoch based on EEG : ['F3', 'FT9', 'FC5', 'C3', 'CP5', 'CP6', 'C4', 'FT10', 'F8']\n",
      "    Rejecting  epoch based on EEG : ['F3', 'FT9', 'FC5', 'C3', 'CP5', 'CP6', 'C4', 'FT10', 'F8']\n",
      "    Rejecting  epoch based on EEG : ['F3', 'FT9', 'FC5', 'FC1', 'C3', 'CP5', 'CP1', 'P3', 'CP6', 'C4', 'FT10']\n",
      "    Rejecting  epoch based on EEG : ['F3', 'FT9', 'FC5', 'FC1', 'C3', 'CP5', 'CP1', 'P3', 'CP6', 'C4', 'FT10']\n",
      "    Rejecting  epoch based on EEG : ['F3', 'FT9', 'FC5', 'C3', 'CP5']\n",
      "    Rejecting  epoch based on EEG : ['FC5', 'C3', 'CP5']\n",
      "    Rejecting  epoch based on EEG : ['FT9', 'T7', 'CP5', 'P7']\n",
      "    Rejecting  epoch based on EEG : ['FT9', 'T7', 'CP5', 'P7']\n",
      "    Rejecting  epoch based on EEG : ['FT9', 'FC5', 'C3', 'T7', 'CP5', 'P7', 'CP6']\n",
      "    Rejecting  epoch based on EEG : ['FT9', 'FC5', 'C3', 'T7', 'CP5', 'P7', 'CP6']\n",
      "    Rejecting  epoch based on EEG : ['CP6', 'C4']\n",
      "    Rejecting  epoch based on EEG : ['CP6', 'C4']\n",
      "    Rejecting  epoch based on EEG : ['C3', 'CP5', 'CP6', 'C4']\n",
      "    Rejecting  epoch based on EEG : ['CP5', 'CP6']\n",
      "    Rejecting  epoch based on EEG : ['FT9', 'T7', 'P7']\n",
      "    Rejecting  epoch based on EEG : ['FT9', 'T7', 'P7']\n",
      "    Rejecting  epoch based on EEG : ['T7', 'CP5', 'P7']\n",
      "    Rejecting  epoch based on EEG : ['FC5', 'CP5']\n",
      "    Rejecting  epoch based on EEG : ['FC5']\n",
      "    Rejecting  epoch based on EEG : ['Oz']\n",
      "    Rejecting  epoch based on EEG : ['Oz']\n",
      "    Rejecting  epoch based on EEG : ['FC5', 'C3', 'CP5', 'CP6', 'C4']\n",
      "    Rejecting  epoch based on EEG : ['FC5', 'C3', 'CP5', 'CP6', 'C4']\n",
      "    Rejecting  epoch based on EEG : ['FC5', 'C3', 'CP5', 'CP6', 'C4']\n",
      "    Rejecting  epoch based on EEG : ['FC5', 'C3', 'CP5', 'CP6', 'C4']\n",
      "    Rejecting  epoch based on EEG : ['FT9', 'T7', 'P7']\n",
      "    Rejecting  epoch based on EEG : ['F3', 'FT9', 'T7', 'CP5', 'P3', 'P7']\n",
      "    Rejecting  epoch based on EEG : ['F3', 'FT9', 'FC5', 'T7', 'CP5', 'P3', 'P7']\n",
      "    Rejecting  epoch based on EEG : ['FC5', 'C3', 'CP5']\n",
      "    Rejecting  epoch based on EEG : ['FC5', 'C3', 'CP5']\n",
      "    Rejecting  epoch based on EEG : ['FC5', 'C3', 'CP5']\n",
      "    Rejecting  epoch based on EEG : ['C3', 'CP5', 'CP6', 'C4']\n",
      "    Rejecting  epoch based on EEG : ['CP6', 'C4', 'FT10', 'FC6']\n",
      "    Rejecting  epoch based on EEG : ['CP6', 'C4', 'FT10', 'FC6']\n",
      "    Rejecting  epoch based on EEG : ['FC5']\n",
      "    Rejecting  epoch based on EEG : ['FC5']\n",
      "    Rejecting  epoch based on EEG : ['F3', 'FT9', 'FC5', 'FC1', 'C3', 'CP5', 'CP1', 'P3', 'CP6']\n",
      "    Rejecting  epoch based on EEG : ['F3', 'FT9', 'FC5', 'FC1', 'C3', 'CP5', 'CP1', 'P3', 'CP6', 'FT10', 'F8']\n",
      "    Rejecting  epoch based on EEG : ['F3', 'FT9', 'FC5', 'C3', 'CP5', 'CP6', 'C4']\n",
      "    Rejecting  epoch based on EEG : ['Fz', 'F3', 'F7', 'FT9', 'FC5', 'FC1', 'C3', 'T7', 'CP5', 'CP1', 'P3', 'P7', 'CP6', 'C4', 'FT10']\n",
      "    Rejecting  epoch based on EEG : ['F3', 'FT9', 'FC5', 'C3', 'CP5', 'CP6', 'C4']\n",
      "170 bad epochs dropped\n"
     ]
    },
    {
     "name": "stderr",
     "output_type": "stream",
     "text": [
      "[Parallel(n_jobs=1)]: Done  17 tasks      | elapsed:    2.0s\n",
      "[Parallel(n_jobs=1)]: Done  17 tasks      | elapsed:    0.4s\n",
      "[Parallel(n_jobs=1)]: Done  17 tasks      | elapsed:    1.6s\n",
      "[Parallel(n_jobs=1)]: Done  17 tasks      | elapsed:    0.3s\n"
     ]
    },
    {
     "name": "stdout",
     "output_type": "stream",
     "text": [
      "Opening raw data file /Users/chaohan/Library/CloudStorage/OneDrive-UniversityofToronto/Projects/Yas accent/data_preprocessed/3_ica/Yas_262_corr_prep_ica.fif...\n"
     ]
    },
    {
     "name": "stderr",
     "output_type": "stream",
     "text": [
      "/var/folders/j8/8nyf6njj5nzfjcv6s23y3nn40000gn/T/ipykernel_37645/644758328.py:15: RuntimeWarning: This filename (/Users/chaohan/Library/CloudStorage/OneDrive-UniversityofToronto/Projects/Yas accent/data_preprocessed/3_ica/Yas_262_corr_prep_ica.fif) does not conform to MNE naming conventions. All raw files should end with raw.fif, raw_sss.fif, raw_tsss.fif, _meg.fif, _eeg.fif, _ieeg.fif, raw.fif.gz, raw_sss.fif.gz, raw_tsss.fif.gz, _meg.fif.gz, _eeg.fif.gz or _ieeg.fif.gz\n",
      "  raw = mne.io.read_raw_fif(input_dir + file, preload = True)\n"
     ]
    },
    {
     "name": "stdout",
     "output_type": "stream",
     "text": [
      "    Range : 61567 ... 1109732 =    246.268 ...  4438.928 secs\n",
      "Ready.\n",
      "Reading 0 ... 1048165  =      0.000 ...  4192.660 secs...\n",
      "EEG channel type selected for re-referencing\n",
      "Applying a custom ('EEG',) reference.\n",
      "Not setting metadata\n",
      "1664 matching events found\n",
      "No baseline correction applied\n",
      "0 projection items activated\n",
      "Using data from preloaded Raw for 1664 events and 751 original time points ...\n",
      "    Rejecting  epoch based on EEG : ['CP5']\n",
      "    Rejecting  epoch based on EEG : ['CP5', 'P7']\n",
      "    Rejecting  epoch based on EEG : ['CP5', 'P7']\n",
      "    Rejecting  epoch based on EEG : ['CP6', 'FT10']\n",
      "    Rejecting  epoch based on EEG : ['CP6', 'FT10']\n",
      "5 bad epochs dropped\n"
     ]
    },
    {
     "name": "stderr",
     "output_type": "stream",
     "text": [
      "[Parallel(n_jobs=1)]: Done  17 tasks      | elapsed:    1.8s\n",
      "[Parallel(n_jobs=1)]: Done  17 tasks      | elapsed:    0.4s\n",
      "[Parallel(n_jobs=1)]: Done  17 tasks      | elapsed:    1.9s\n",
      "[Parallel(n_jobs=1)]: Done  17 tasks      | elapsed:    0.5s\n"
     ]
    },
    {
     "name": "stdout",
     "output_type": "stream",
     "text": [
      "Opening raw data file /Users/chaohan/Library/CloudStorage/OneDrive-UniversityofToronto/Projects/Yas accent/data_preprocessed/3_ica/Yas_235_corr_prep_ica.fif...\n",
      "    Range : 0 ... 868299 =      0.000 ...  3473.196 secs\n",
      "Ready.\n"
     ]
    },
    {
     "name": "stderr",
     "output_type": "stream",
     "text": [
      "/var/folders/j8/8nyf6njj5nzfjcv6s23y3nn40000gn/T/ipykernel_37645/644758328.py:15: RuntimeWarning: This filename (/Users/chaohan/Library/CloudStorage/OneDrive-UniversityofToronto/Projects/Yas accent/data_preprocessed/3_ica/Yas_235_corr_prep_ica.fif) does not conform to MNE naming conventions. All raw files should end with raw.fif, raw_sss.fif, raw_tsss.fif, _meg.fif, _eeg.fif, _ieeg.fif, raw.fif.gz, raw_sss.fif.gz, raw_tsss.fif.gz, _meg.fif.gz, _eeg.fif.gz or _ieeg.fif.gz\n",
      "  raw = mne.io.read_raw_fif(input_dir + file, preload = True)\n"
     ]
    },
    {
     "name": "stdout",
     "output_type": "stream",
     "text": [
      "Reading 0 ... 868299  =      0.000 ...  3473.196 secs...\n",
      "EEG channel type selected for re-referencing\n",
      "Applying a custom ('EEG',) reference.\n",
      "Not setting metadata\n",
      "1703 matching events found\n",
      "No baseline correction applied\n",
      "0 projection items activated\n",
      "Using data from preloaded Raw for 1703 events and 751 original time points ...\n",
      "    Rejecting  epoch based on EEG : ['T8']\n",
      "    Rejecting  epoch based on EEG : ['T8']\n",
      "    Rejecting  epoch based on EEG : ['T8']\n",
      "    Rejecting  epoch based on EEG : ['T8']\n",
      "    Rejecting  epoch based on EEG : ['T8']\n",
      "    Rejecting  epoch based on EEG : ['T8']\n",
      "    Rejecting  epoch based on EEG : ['F3', 'FT9', 'Oz', 'O2', 'CP6', 'T8']\n",
      "    Rejecting  epoch based on EEG : ['FT9']\n",
      "    Rejecting  epoch based on EEG : ['FT9']\n",
      "    Rejecting  epoch based on EEG : ['T8']\n",
      "    Rejecting  epoch based on EEG : ['T8']\n",
      "    Rejecting  epoch based on EEG : ['T8']\n",
      "    Rejecting  epoch based on EEG : ['T8']\n",
      "    Rejecting  epoch based on EEG : ['T8']\n",
      "    Rejecting  epoch based on EEG : ['T8']\n",
      "    Rejecting  epoch based on EEG : ['T8']\n",
      "    Rejecting  epoch based on EEG : ['T8']\n",
      "    Rejecting  epoch based on EEG : ['T8']\n",
      "    Rejecting  epoch based on EEG : ['T8']\n",
      "    Rejecting  epoch based on EEG : ['T8']\n",
      "    Rejecting  epoch based on EEG : ['T8']\n",
      "    Rejecting  epoch based on EEG : ['FT9']\n",
      "    Rejecting  epoch based on EEG : ['FT9']\n",
      "    Rejecting  epoch based on EEG : ['T8']\n",
      "    Rejecting  epoch based on EEG : ['T8']\n",
      "    Rejecting  epoch based on EEG : ['T8']\n",
      "    Rejecting  epoch based on EEG : ['T8']\n",
      "    Rejecting  epoch based on EEG : ['T8']\n",
      "    Rejecting  epoch based on EEG : ['FT9']\n",
      "    Rejecting  epoch based on EEG : ['FT9']\n",
      "    Rejecting  epoch based on EEG : ['FT9']\n",
      "    Rejecting  epoch based on EEG : ['FT9']\n",
      "    Rejecting  epoch based on EEG : ['FT9']\n",
      "    Rejecting  epoch based on EEG : ['T8']\n",
      "    Rejecting  epoch based on EEG : ['T8']\n",
      "    Rejecting  epoch based on EEG : ['Oz', 'O2', 'T8']\n",
      "    Rejecting  epoch based on EEG : ['T8']\n",
      "    Rejecting  epoch based on EEG : ['T8']\n",
      "    Rejecting  epoch based on EEG : ['O2', 'T8']\n",
      "    Rejecting  epoch based on EEG : ['O1', 'Oz', 'O2', 'T8']\n",
      "    Rejecting  epoch based on EEG : ['O1', 'Oz', 'O2', 'T8']\n",
      "    Rejecting  epoch based on EEG : ['O2', 'T8']\n",
      "    Rejecting  epoch based on EEG : ['O2', 'T8']\n",
      "    Rejecting  epoch based on EEG : ['O2', 'T8']\n",
      "    Rejecting  epoch based on EEG : ['O2', 'T8']\n",
      "    Rejecting  epoch based on EEG : ['Oz', 'O2', 'T8']\n",
      "    Rejecting  epoch based on EEG : ['Oz', 'O2', 'T8']\n",
      "    Rejecting  epoch based on EEG : ['T8']\n",
      "    Rejecting  epoch based on EEG : ['FT9', 'Oz', 'O2', 'T8']\n",
      "    Rejecting  epoch based on EEG : ['T8']\n",
      "    Rejecting  epoch based on EEG : ['T8']\n",
      "    Rejecting  epoch based on EEG : ['T8']\n",
      "    Rejecting  epoch based on EEG : ['T8']\n",
      "    Rejecting  epoch based on EEG : ['T8']\n",
      "    Rejecting  epoch based on EEG : ['T8']\n",
      "    Rejecting  epoch based on EEG : ['T8']\n",
      "    Rejecting  epoch based on EEG : ['T8']\n",
      "    Rejecting  epoch based on EEG : ['T8']\n",
      "    Rejecting  epoch based on EEG : ['T8']\n",
      "    Rejecting  epoch based on EEG : ['T8']\n",
      "    Rejecting  epoch based on EEG : ['T8']\n",
      "    Rejecting  epoch based on EEG : ['FT9', 'T8']\n",
      "    Rejecting  epoch based on EEG : ['FT9', 'O2', 'T8']\n",
      "    Rejecting  epoch based on EEG : ['FT9', 'O2', 'T8']\n",
      "    Rejecting  epoch based on EEG : ['T8']\n",
      "    Rejecting  epoch based on EEG : ['T8']\n",
      "    Rejecting  epoch based on EEG : ['T8']\n",
      "    Rejecting  epoch based on EEG : ['T8']\n",
      "    Rejecting  epoch based on EEG : ['T8']\n",
      "    Rejecting  epoch based on EEG : ['T8']\n",
      "    Rejecting  epoch based on EEG : ['T8']\n",
      "    Rejecting  epoch based on EEG : ['T8']\n",
      "    Rejecting  epoch based on EEG : ['T8']\n",
      "    Rejecting  epoch based on EEG : ['T8']\n",
      "    Rejecting  epoch based on EEG : ['O2', 'T8']\n",
      "    Rejecting  epoch based on EEG : ['O2', 'T8']\n",
      "    Rejecting  epoch based on EEG : ['T8']\n",
      "    Rejecting  epoch based on EEG : ['T8']\n",
      "    Rejecting  epoch based on EEG : ['T8']\n",
      "    Rejecting  epoch based on EEG : ['T8']\n",
      "    Rejecting  epoch based on EEG : ['T8']\n",
      "    Rejecting  epoch based on EEG : ['T8']\n",
      "    Rejecting  epoch based on EEG : ['T8']\n",
      "    Rejecting  epoch based on EEG : ['T8']\n",
      "    Rejecting  epoch based on EEG : ['T8']\n",
      "    Rejecting  epoch based on EEG : ['T8']\n",
      "    Rejecting  epoch based on EEG : ['T8']\n",
      "    Rejecting  epoch based on EEG : ['T8']\n",
      "    Rejecting  epoch based on EEG : ['T8']\n",
      "    Rejecting  epoch based on EEG : ['T8']\n",
      "    Rejecting  epoch based on EEG : ['T8']\n",
      "    Rejecting  epoch based on EEG : ['O2', 'T8']\n",
      "    Rejecting  epoch based on EEG : ['T8']\n",
      "    Rejecting  epoch based on EEG : ['T8']\n",
      "    Rejecting  epoch based on EEG : ['T8']\n",
      "    Rejecting  epoch based on EEG : ['T8']\n",
      "    Rejecting  epoch based on EEG : ['T8']\n",
      "    Rejecting  epoch based on EEG : ['T8']\n",
      "    Rejecting  epoch based on EEG : ['T8']\n",
      "    Rejecting  epoch based on EEG : ['T8']\n",
      "    Rejecting  epoch based on EEG : ['T8']\n",
      "    Rejecting  epoch based on EEG : ['O2', 'T8']\n",
      "    Rejecting  epoch based on EEG : ['T8']\n",
      "    Rejecting  epoch based on EEG : ['T8']\n",
      "    Rejecting  epoch based on EEG : ['T8']\n",
      "    Rejecting  epoch based on EEG : ['T8']\n",
      "    Rejecting  epoch based on EEG : ['T8']\n",
      "    Rejecting  epoch based on EEG : ['T8']\n",
      "    Rejecting  epoch based on EEG : ['T8']\n",
      "    Rejecting  epoch based on EEG : ['T8']\n",
      "    Rejecting  epoch based on EEG : ['O2', 'T8']\n",
      "    Rejecting  epoch based on EEG : ['O2', 'T8']\n",
      "    Rejecting  epoch based on EEG : ['T8']\n",
      "    Rejecting  epoch based on EEG : ['T8']\n",
      "    Rejecting  epoch based on EEG : ['T8']\n",
      "    Rejecting  epoch based on EEG : ['T8']\n",
      "    Rejecting  epoch based on EEG : ['T8']\n",
      "    Rejecting  epoch based on EEG : ['T8']\n",
      "    Rejecting  epoch based on EEG : ['T8']\n",
      "    Rejecting  epoch based on EEG : ['T8']\n",
      "    Rejecting  epoch based on EEG : ['T8']\n",
      "    Rejecting  epoch based on EEG : ['T8']\n",
      "    Rejecting  epoch based on EEG : ['T8']\n",
      "    Rejecting  epoch based on EEG : ['T8']\n",
      "    Rejecting  epoch based on EEG : ['T8']\n",
      "    Rejecting  epoch based on EEG : ['T8']\n",
      "    Rejecting  epoch based on EEG : ['T8']\n",
      "    Rejecting  epoch based on EEG : ['T8']\n",
      "    Rejecting  epoch based on EEG : ['T8']\n",
      "    Rejecting  epoch based on EEG : ['O2', 'T8']\n",
      "    Rejecting  epoch based on EEG : ['T8']\n",
      "    Rejecting  epoch based on EEG : ['T8']\n",
      "    Rejecting  epoch based on EEG : ['T8']\n",
      "    Rejecting  epoch based on EEG : ['T8']\n",
      "    Rejecting  epoch based on EEG : ['T8']\n",
      "    Rejecting  epoch based on EEG : ['T8']\n",
      "    Rejecting  epoch based on EEG : ['T8']\n",
      "    Rejecting  epoch based on EEG : ['T8']\n",
      "    Rejecting  epoch based on EEG : ['T8']\n",
      "    Rejecting  epoch based on EEG : ['T8']\n",
      "    Rejecting  epoch based on EEG : ['O1', 'Oz', 'O2', 'T8']\n",
      "    Rejecting  epoch based on EEG : ['O1', 'Oz', 'O2', 'T8']\n",
      "    Rejecting  epoch based on EEG : ['T8']\n",
      "    Rejecting  epoch based on EEG : ['T8']\n",
      "    Rejecting  epoch based on EEG : ['T8']\n",
      "    Rejecting  epoch based on EEG : ['T8']\n",
      "    Rejecting  epoch based on EEG : ['T8']\n",
      "    Rejecting  epoch based on EEG : ['T8']\n",
      "    Rejecting  epoch based on EEG : ['T8']\n",
      "    Rejecting  epoch based on EEG : ['T8']\n",
      "    Rejecting  epoch based on EEG : ['T8']\n",
      "    Rejecting  epoch based on EEG : ['T8']\n",
      "    Rejecting  epoch based on EEG : ['FC6']\n",
      "    Rejecting  epoch based on EEG : ['FC6']\n",
      "    Rejecting  epoch based on EEG : ['T8']\n",
      "    Rejecting  epoch based on EEG : ['T8']\n",
      "    Rejecting  epoch based on EEG : ['T8']\n",
      "    Rejecting  epoch based on EEG : ['T8']\n",
      "    Rejecting  epoch based on EEG : ['FT9', 'FC5', 'C3']\n",
      "    Rejecting  epoch based on EEG : ['FT9', 'T7', 'P7']\n",
      "    Rejecting  epoch based on EEG : ['FT9', 'T7', 'P7']\n",
      "161 bad epochs dropped\n"
     ]
    },
    {
     "name": "stderr",
     "output_type": "stream",
     "text": [
      "[Parallel(n_jobs=1)]: Done  17 tasks      | elapsed:    2.3s\n",
      "[Parallel(n_jobs=1)]: Done  17 tasks      | elapsed:    0.5s\n",
      "[Parallel(n_jobs=1)]: Done  17 tasks      | elapsed:    3.1s\n",
      "[Parallel(n_jobs=1)]: Done  17 tasks      | elapsed:    0.6s\n"
     ]
    },
    {
     "name": "stdout",
     "output_type": "stream",
     "text": [
      "Opening raw data file /Users/chaohan/Library/CloudStorage/OneDrive-UniversityofToronto/Projects/Yas accent/data_preprocessed/3_ica/Yas_162_corr_prep_ica.fif...\n"
     ]
    },
    {
     "name": "stderr",
     "output_type": "stream",
     "text": [
      "/var/folders/j8/8nyf6njj5nzfjcv6s23y3nn40000gn/T/ipykernel_37645/644758328.py:15: RuntimeWarning: This filename (/Users/chaohan/Library/CloudStorage/OneDrive-UniversityofToronto/Projects/Yas accent/data_preprocessed/3_ica/Yas_162_corr_prep_ica.fif) does not conform to MNE naming conventions. All raw files should end with raw.fif, raw_sss.fif, raw_tsss.fif, _meg.fif, _eeg.fif, _ieeg.fif, raw.fif.gz, raw_sss.fif.gz, raw_tsss.fif.gz, _meg.fif.gz, _eeg.fif.gz or _ieeg.fif.gz\n",
      "  raw = mne.io.read_raw_fif(input_dir + file, preload = True)\n"
     ]
    },
    {
     "name": "stdout",
     "output_type": "stream",
     "text": [
      "    Range : 3620 ... 861099 =     14.480 ...  3444.396 secs\n",
      "Ready.\n",
      "Reading 0 ... 857479  =      0.000 ...  3429.916 secs...\n",
      "EEG channel type selected for re-referencing\n",
      "Applying a custom ('EEG',) reference.\n",
      "Not setting metadata\n",
      "1647 matching events found\n",
      "No baseline correction applied\n",
      "0 projection items activated\n",
      "Using data from preloaded Raw for 1647 events and 751 original time points ...\n",
      "    Rejecting  epoch based on EEG : ['C4']\n",
      "    Rejecting  epoch based on EEG : ['O2']\n",
      "    Rejecting  epoch based on EEG : ['O2']\n",
      "3 bad epochs dropped\n"
     ]
    },
    {
     "name": "stderr",
     "output_type": "stream",
     "text": [
      "[Parallel(n_jobs=1)]: Done  17 tasks      | elapsed:    2.8s\n",
      "[Parallel(n_jobs=1)]: Done  17 tasks      | elapsed:    0.4s\n",
      "[Parallel(n_jobs=1)]: Done  17 tasks      | elapsed:    2.0s\n",
      "[Parallel(n_jobs=1)]: Done  17 tasks      | elapsed:    0.4s\n"
     ]
    },
    {
     "name": "stdout",
     "output_type": "stream",
     "text": [
      "Opening raw data file /Users/chaohan/Library/CloudStorage/OneDrive-UniversityofToronto/Projects/Yas accent/data_preprocessed/3_ica/Yas_253_corr_prep_ica.fif...\n",
      "    Range : 1074 ... 843123 =      4.296 ...  3372.492 secs\n",
      "Ready.\n",
      "Reading 0 ... 842049  =      0.000 ...  3368.196 secs...\n"
     ]
    },
    {
     "name": "stderr",
     "output_type": "stream",
     "text": [
      "/var/folders/j8/8nyf6njj5nzfjcv6s23y3nn40000gn/T/ipykernel_37645/644758328.py:15: RuntimeWarning: This filename (/Users/chaohan/Library/CloudStorage/OneDrive-UniversityofToronto/Projects/Yas accent/data_preprocessed/3_ica/Yas_253_corr_prep_ica.fif) does not conform to MNE naming conventions. All raw files should end with raw.fif, raw_sss.fif, raw_tsss.fif, _meg.fif, _eeg.fif, _ieeg.fif, raw.fif.gz, raw_sss.fif.gz, raw_tsss.fif.gz, _meg.fif.gz, _eeg.fif.gz or _ieeg.fif.gz\n",
      "  raw = mne.io.read_raw_fif(input_dir + file, preload = True)\n"
     ]
    },
    {
     "name": "stdout",
     "output_type": "stream",
     "text": [
      "EEG channel type selected for re-referencing\n",
      "Applying a custom ('EEG',) reference.\n",
      "Not setting metadata\n",
      "1660 matching events found\n",
      "No baseline correction applied\n",
      "0 projection items activated\n",
      "Using data from preloaded Raw for 1660 events and 751 original time points ...\n",
      "    Rejecting  epoch based on EEG : ['FT9']\n",
      "    Rejecting  epoch based on EEG : ['FT9']\n",
      "2 bad epochs dropped\n"
     ]
    },
    {
     "name": "stderr",
     "output_type": "stream",
     "text": [
      "[Parallel(n_jobs=1)]: Done  17 tasks      | elapsed:    2.2s\n",
      "[Parallel(n_jobs=1)]: Done  17 tasks      | elapsed:    0.4s\n",
      "[Parallel(n_jobs=1)]: Done  17 tasks      | elapsed:    2.1s\n",
      "[Parallel(n_jobs=1)]: Done  17 tasks      | elapsed:    0.4s\n"
     ]
    },
    {
     "name": "stdout",
     "output_type": "stream",
     "text": [
      "Opening raw data file /Users/chaohan/Library/CloudStorage/OneDrive-UniversityofToronto/Projects/Yas accent/data_preprocessed/3_ica/Yas_104_corr_prep_ica.fif...\n",
      "    Range : 4056 ... 863590 =     16.224 ...  3454.360 secs\n",
      "Ready.\n",
      "Reading 0 ... 859534  =      0.000 ...  3438.136 secs...\n"
     ]
    },
    {
     "name": "stderr",
     "output_type": "stream",
     "text": [
      "/var/folders/j8/8nyf6njj5nzfjcv6s23y3nn40000gn/T/ipykernel_37645/644758328.py:15: RuntimeWarning: This filename (/Users/chaohan/Library/CloudStorage/OneDrive-UniversityofToronto/Projects/Yas accent/data_preprocessed/3_ica/Yas_104_corr_prep_ica.fif) does not conform to MNE naming conventions. All raw files should end with raw.fif, raw_sss.fif, raw_tsss.fif, _meg.fif, _eeg.fif, _ieeg.fif, raw.fif.gz, raw_sss.fif.gz, raw_tsss.fif.gz, _meg.fif.gz, _eeg.fif.gz or _ieeg.fif.gz\n",
      "  raw = mne.io.read_raw_fif(input_dir + file, preload = True)\n"
     ]
    },
    {
     "name": "stdout",
     "output_type": "stream",
     "text": [
      "EEG channel type selected for re-referencing\n",
      "Applying a custom ('EEG',) reference.\n",
      "Not setting metadata\n",
      "1708 matching events found\n",
      "No baseline correction applied\n",
      "0 projection items activated\n",
      "Using data from preloaded Raw for 1708 events and 751 original time points ...\n",
      "    Rejecting  epoch based on EEG : ['P7']\n",
      "    Rejecting  epoch based on EEG : ['T8']\n",
      "    Rejecting  epoch based on EEG : ['T8']\n",
      "    Rejecting  epoch based on EEG : ['T8']\n",
      "    Rejecting  epoch based on EEG : ['T8']\n",
      "    Rejecting  epoch based on EEG : ['Fz', 'F3', 'FT9', 'FC5', 'FC1', 'C3', 'T7', 'CP5', 'T8', 'F4']\n",
      "    Rejecting  epoch based on EEG : ['Fz', 'F3', 'FT9', 'FC5', 'FC1', 'C3', 'T7', 'CP5', 'T8', 'F4']\n",
      "7 bad epochs dropped\n"
     ]
    },
    {
     "name": "stderr",
     "output_type": "stream",
     "text": [
      "[Parallel(n_jobs=1)]: Done  17 tasks      | elapsed:    2.3s\n",
      "[Parallel(n_jobs=1)]: Done  17 tasks      | elapsed:    0.4s\n",
      "[Parallel(n_jobs=1)]: Done  17 tasks      | elapsed:    2.0s\n",
      "[Parallel(n_jobs=1)]: Done  17 tasks      | elapsed:    0.4s\n"
     ]
    },
    {
     "name": "stdout",
     "output_type": "stream",
     "text": [
      "Opening raw data file /Users/chaohan/Library/CloudStorage/OneDrive-UniversityofToronto/Projects/Yas accent/data_preprocessed/3_ica/Yas_201_corr_prep_ica.fif...\n",
      "    Range : 2065 ... 846986 =      8.260 ...  3387.944 secs\n",
      "Ready.\n",
      "Reading 0 ... 844921  =      0.000 ...  3379.684 secs...\n"
     ]
    },
    {
     "name": "stderr",
     "output_type": "stream",
     "text": [
      "/var/folders/j8/8nyf6njj5nzfjcv6s23y3nn40000gn/T/ipykernel_37645/644758328.py:15: RuntimeWarning: This filename (/Users/chaohan/Library/CloudStorage/OneDrive-UniversityofToronto/Projects/Yas accent/data_preprocessed/3_ica/Yas_201_corr_prep_ica.fif) does not conform to MNE naming conventions. All raw files should end with raw.fif, raw_sss.fif, raw_tsss.fif, _meg.fif, _eeg.fif, _ieeg.fif, raw.fif.gz, raw_sss.fif.gz, raw_tsss.fif.gz, _meg.fif.gz, _eeg.fif.gz or _ieeg.fif.gz\n",
      "  raw = mne.io.read_raw_fif(input_dir + file, preload = True)\n"
     ]
    },
    {
     "name": "stdout",
     "output_type": "stream",
     "text": [
      "EEG channel type selected for re-referencing\n",
      "Applying a custom ('EEG',) reference.\n",
      "Not setting metadata\n",
      "1683 matching events found\n",
      "No baseline correction applied\n",
      "0 projection items activated\n",
      "Using data from preloaded Raw for 1683 events and 751 original time points ...\n",
      "    Rejecting  epoch based on EEG : ['FC5', 'C3', 'CP5']\n",
      "    Rejecting  epoch based on EEG : ['FC5', 'C3', 'T7', 'CP5']\n",
      "    Rejecting  epoch based on EEG : ['FC5', 'C3', 'T7', 'CP5']\n",
      "    Rejecting  epoch based on EEG : ['F7', 'FT9', 'FC5', 'C3', 'T7', 'CP5', 'P3', 'P7', 'P4', 'P8', 'CP6', 'CP2', 'C4', 'T8', 'FT10', 'FC6', 'FC2', 'F4', 'F8']\n",
      "    Rejecting  epoch based on EEG : ['F7', 'FT9', 'FC5', 'C3', 'T7', 'CP5', 'P3', 'P7', 'P4', 'P8', 'CP6', 'CP2', 'C4', 'T8', 'FT10', 'FC6', 'FC2', 'F4', 'F8']\n",
      "    Rejecting  epoch based on EEG : ['CP6', 'C4', 'T8', 'FT10', 'F4']\n",
      "    Rejecting  epoch based on EEG : ['CP6']\n",
      "    Rejecting  epoch based on EEG : ['CP6', 'T8']\n",
      "    Rejecting  epoch based on EEG : ['CP6', 'T8']\n",
      "    Rejecting  epoch based on EEG : ['CP5']\n",
      "    Rejecting  epoch based on EEG : ['CP5', 'CP6', 'T8']\n",
      "    Rejecting  epoch based on EEG : ['CP6']\n",
      "    Rejecting  epoch based on EEG : ['CP6']\n",
      "    Rejecting  epoch based on EEG : ['CP6']\n",
      "    Rejecting  epoch based on EEG : ['FC5', 'C3', 'T7', 'CP5', 'CP6', 'C4', 'T8', 'F4']\n",
      "    Rejecting  epoch based on EEG : ['FC5', 'C3', 'T7', 'CP5', 'CP6', 'C4', 'T8', 'F4']\n",
      "    Rejecting  epoch based on EEG : ['FC5', 'CP6']\n",
      "    Rejecting  epoch based on EEG : ['CP6']\n",
      "    Rejecting  epoch based on EEG : ['CP6']\n",
      "    Rejecting  epoch based on EEG : ['FC5', 'C3', 'CP5']\n",
      "    Rejecting  epoch based on EEG : ['FC5', 'C3', 'CP5']\n",
      "    Rejecting  epoch based on EEG : ['FC5', 'C3', 'T7', 'CP5', 'P7']\n",
      "    Rejecting  epoch based on EEG : ['FC5', 'C3', 'T7', 'CP5', 'P7']\n",
      "    Rejecting  epoch based on EEG : ['CP6']\n",
      "    Rejecting  epoch based on EEG : ['CP6']\n",
      "    Rejecting  epoch based on EEG : ['Fz', 'F3', 'F7', 'FT9', 'FC5', 'FC1', 'C3', 'T7', 'CP5', 'CP1', 'Pz', 'P3', 'P7', 'O1', 'Oz', 'O2', 'P4', 'P8', 'TP10', 'CP6', 'CP2', 'Cz', 'C4', 'T8', 'FT10', 'FC6', 'FC2', 'F4', 'F8', 'TP9']\n",
      "    Rejecting  epoch based on EEG : ['Fz', 'F3', 'F7', 'FT9', 'FC5', 'FC1', 'C3', 'T7', 'CP5', 'CP1', 'Pz', 'P3', 'P7', 'O1', 'Oz', 'O2', 'P4', 'P8', 'TP10', 'CP6', 'CP2', 'Cz', 'C4', 'T8', 'FT10', 'FC6', 'FC2', 'F4', 'F8', 'TP9']\n",
      "    Rejecting  epoch based on EEG : ['CP6']\n",
      "    Rejecting  epoch based on EEG : ['P7']\n",
      "    Rejecting  epoch based on EEG : ['P7']\n",
      "    Rejecting  epoch based on EEG : ['F4']\n",
      "    Rejecting  epoch based on EEG : ['F4']\n",
      "    Rejecting  epoch based on EEG : ['O2']\n",
      "    Rejecting  epoch based on EEG : ['P7', 'O2']\n",
      "34 bad epochs dropped\n"
     ]
    },
    {
     "name": "stderr",
     "output_type": "stream",
     "text": [
      "[Parallel(n_jobs=1)]: Done  17 tasks      | elapsed:    2.4s\n",
      "[Parallel(n_jobs=1)]: Done  17 tasks      | elapsed:    0.4s\n",
      "[Parallel(n_jobs=1)]: Done  17 tasks      | elapsed:    2.3s\n",
      "[Parallel(n_jobs=1)]: Done  17 tasks      | elapsed:    0.4s\n"
     ]
    },
    {
     "name": "stdout",
     "output_type": "stream",
     "text": [
      "Opening raw data file /Users/chaohan/Library/CloudStorage/OneDrive-UniversityofToronto/Projects/Yas accent/data_preprocessed/3_ica/Yas_118_corr_prep_ica.fif...\n"
     ]
    },
    {
     "name": "stderr",
     "output_type": "stream",
     "text": [
      "/var/folders/j8/8nyf6njj5nzfjcv6s23y3nn40000gn/T/ipykernel_37645/644758328.py:15: RuntimeWarning: This filename (/Users/chaohan/Library/CloudStorage/OneDrive-UniversityofToronto/Projects/Yas accent/data_preprocessed/3_ica/Yas_118_corr_prep_ica.fif) does not conform to MNE naming conventions. All raw files should end with raw.fif, raw_sss.fif, raw_tsss.fif, _meg.fif, _eeg.fif, _ieeg.fif, raw.fif.gz, raw_sss.fif.gz, raw_tsss.fif.gz, _meg.fif.gz, _eeg.fif.gz or _ieeg.fif.gz\n",
      "  raw = mne.io.read_raw_fif(input_dir + file, preload = True)\n"
     ]
    },
    {
     "name": "stdout",
     "output_type": "stream",
     "text": [
      "    Range : 23176 ... 870900 =     92.704 ...  3483.600 secs\n",
      "Ready.\n",
      "Reading 0 ... 847724  =      0.000 ...  3390.896 secs...\n",
      "EEG channel type selected for re-referencing\n",
      "Applying a custom ('EEG',) reference.\n",
      "Not setting metadata\n",
      "1651 matching events found\n",
      "No baseline correction applied\n",
      "0 projection items activated\n",
      "Using data from preloaded Raw for 1651 events and 751 original time points ...\n",
      "    Rejecting  epoch based on EEG : ['CP5']\n",
      "    Rejecting  epoch based on EEG : ['T8']\n",
      "    Rejecting  epoch based on EEG : ['T8']\n",
      "    Rejecting  epoch based on EEG : ['O1', 'Oz']\n",
      "    Rejecting  epoch based on EEG : ['O1', 'Oz']\n",
      "    Rejecting  epoch based on EEG : ['O1', 'Oz']\n",
      "    Rejecting  epoch based on EEG : ['FC5']\n",
      "    Rejecting  epoch based on EEG : ['F3', 'FC5']\n",
      "    Rejecting  epoch based on EEG : ['FC5']\n",
      "    Rejecting  epoch based on EEG : ['CP2']\n",
      "    Rejecting  epoch based on EEG : ['CP2']\n",
      "    Rejecting  epoch based on EEG : ['FC5', 'C3', 'T7']\n",
      "    Rejecting  epoch based on EEG : ['O1', 'Oz']\n",
      "    Rejecting  epoch based on EEG : ['O1', 'Oz']\n",
      "    Rejecting  epoch based on EEG : ['FC5', 'CP5']\n",
      "    Rejecting  epoch based on EEG : ['FC5']\n",
      "    Rejecting  epoch based on EEG : ['FC5']\n",
      "    Rejecting  epoch based on EEG : ['O1']\n",
      "    Rejecting  epoch based on EEG : ['O1']\n",
      "    Rejecting  epoch based on EEG : ['O1']\n",
      "20 bad epochs dropped\n"
     ]
    },
    {
     "name": "stderr",
     "output_type": "stream",
     "text": [
      "[Parallel(n_jobs=1)]: Done  17 tasks      | elapsed:    1.8s\n",
      "[Parallel(n_jobs=1)]: Done  17 tasks      | elapsed:    0.4s\n",
      "[Parallel(n_jobs=1)]: Done  17 tasks      | elapsed:    1.8s\n",
      "[Parallel(n_jobs=1)]: Done  17 tasks      | elapsed:    0.4s\n"
     ]
    },
    {
     "name": "stdout",
     "output_type": "stream",
     "text": [
      "Opening raw data file /Users/chaohan/Library/CloudStorage/OneDrive-UniversityofToronto/Projects/Yas accent/data_preprocessed/3_ica/Yas_156_corr_prep_ica.fif...\n"
     ]
    },
    {
     "name": "stderr",
     "output_type": "stream",
     "text": [
      "/var/folders/j8/8nyf6njj5nzfjcv6s23y3nn40000gn/T/ipykernel_37645/644758328.py:15: RuntimeWarning: This filename (/Users/chaohan/Library/CloudStorage/OneDrive-UniversityofToronto/Projects/Yas accent/data_preprocessed/3_ica/Yas_156_corr_prep_ica.fif) does not conform to MNE naming conventions. All raw files should end with raw.fif, raw_sss.fif, raw_tsss.fif, _meg.fif, _eeg.fif, _ieeg.fif, raw.fif.gz, raw_sss.fif.gz, raw_tsss.fif.gz, _meg.fif.gz, _eeg.fif.gz or _ieeg.fif.gz\n",
      "  raw = mne.io.read_raw_fif(input_dir + file, preload = True)\n"
     ]
    },
    {
     "name": "stdout",
     "output_type": "stream",
     "text": [
      "    Range : 0 ... 857364 =      0.000 ...  3429.456 secs\n",
      "Ready.\n",
      "Reading 0 ... 857364  =      0.000 ...  3429.456 secs...\n",
      "EEG channel type selected for re-referencing\n",
      "Applying a custom ('EEG',) reference.\n",
      "Not setting metadata\n",
      "1686 matching events found\n",
      "No baseline correction applied\n",
      "0 projection items activated\n",
      "Using data from preloaded Raw for 1686 events and 751 original time points ...\n",
      "    Rejecting  epoch based on EEG : ['O2']\n",
      "    Rejecting  epoch based on EEG : ['O2']\n",
      "    Rejecting  epoch based on EEG : ['Fz', 'F3', 'F7', 'FC1', 'C3', 'CP5', 'CP1', 'Pz', 'P3', 'P7', 'O1', 'Oz', 'O2', 'P4', 'P8', 'TP10', 'CP6', 'CP2', 'Cz', 'C4', 'FT10', 'FC6', 'FC2', 'F4', 'F8', 'TP9']\n",
      "    Rejecting  epoch based on EEG : ['Fz', 'F3', 'F7', 'FC1', 'C3', 'CP5', 'CP1', 'Pz', 'P3', 'P7', 'O1', 'Oz', 'O2', 'P4', 'P8', 'TP10', 'CP6', 'CP2', 'Cz', 'C4', 'FT10', 'FC6', 'FC2', 'F4', 'F8', 'TP9']\n",
      "    Rejecting  epoch based on EEG : ['O2', 'Cz']\n",
      "    Rejecting  epoch based on EEG : ['C3']\n",
      "    Rejecting  epoch based on EEG : ['C3']\n",
      "    Rejecting  epoch based on EEG : ['C3']\n",
      "    Rejecting  epoch based on EEG : ['C3']\n",
      "    Rejecting  epoch based on EEG : ['O1']\n",
      "    Rejecting  epoch based on EEG : ['O1']\n",
      "    Rejecting  epoch based on EEG : ['C3']\n",
      "    Rejecting  epoch based on EEG : ['C3']\n",
      "    Rejecting  epoch based on EEG : ['C3']\n",
      "    Rejecting  epoch based on EEG : ['C3']\n",
      "    Rejecting  epoch based on EEG : ['C3']\n",
      "    Rejecting  epoch based on EEG : ['C3']\n",
      "    Rejecting  epoch based on EEG : ['C3']\n",
      "    Rejecting  epoch based on EEG : ['F7', 'C3']\n",
      "    Rejecting  epoch based on EEG : ['C3']\n",
      "    Rejecting  epoch based on EEG : ['C3']\n",
      "    Rejecting  epoch based on EEG : ['Oz', 'O2']\n",
      "    Rejecting  epoch based on EEG : ['Oz', 'O2']\n",
      "    Rejecting  epoch based on EEG : ['O2']\n",
      "    Rejecting  epoch based on EEG : ['O1']\n",
      "    Rejecting  epoch based on EEG : ['O1']\n",
      "    Rejecting  epoch based on EEG : ['C3']\n",
      "    Rejecting  epoch based on EEG : ['C3']\n",
      "    Rejecting  epoch based on EEG : ['C3']\n",
      "    Rejecting  epoch based on EEG : ['C3']\n",
      "30 bad epochs dropped\n"
     ]
    },
    {
     "name": "stderr",
     "output_type": "stream",
     "text": [
      "[Parallel(n_jobs=1)]: Done  17 tasks      | elapsed:    1.7s\n",
      "[Parallel(n_jobs=1)]: Done  17 tasks      | elapsed:    0.4s\n",
      "[Parallel(n_jobs=1)]: Done  17 tasks      | elapsed:    2.0s\n",
      "[Parallel(n_jobs=1)]: Done  17 tasks      | elapsed:    0.4s\n"
     ]
    },
    {
     "name": "stdout",
     "output_type": "stream",
     "text": [
      "Opening raw data file /Users/chaohan/Library/CloudStorage/OneDrive-UniversityofToronto/Projects/Yas accent/data_preprocessed/3_ica/Yas_186_corr_prep_ica.fif...\n"
     ]
    },
    {
     "name": "stderr",
     "output_type": "stream",
     "text": [
      "/var/folders/j8/8nyf6njj5nzfjcv6s23y3nn40000gn/T/ipykernel_37645/644758328.py:15: RuntimeWarning: This filename (/Users/chaohan/Library/CloudStorage/OneDrive-UniversityofToronto/Projects/Yas accent/data_preprocessed/3_ica/Yas_186_corr_prep_ica.fif) does not conform to MNE naming conventions. All raw files should end with raw.fif, raw_sss.fif, raw_tsss.fif, _meg.fif, _eeg.fif, _ieeg.fif, raw.fif.gz, raw_sss.fif.gz, raw_tsss.fif.gz, _meg.fif.gz, _eeg.fif.gz or _ieeg.fif.gz\n",
      "  raw = mne.io.read_raw_fif(input_dir + file, preload = True)\n"
     ]
    },
    {
     "name": "stdout",
     "output_type": "stream",
     "text": [
      "    Range : 0 ... 837803 =      0.000 ...  3351.212 secs\n",
      "Ready.\n",
      "Reading 0 ... 837803  =      0.000 ...  3351.212 secs...\n",
      "EEG channel type selected for re-referencing\n",
      "Applying a custom ('EEG',) reference.\n",
      "Not setting metadata\n",
      "1650 matching events found\n",
      "No baseline correction applied\n",
      "0 projection items activated\n",
      "Using data from preloaded Raw for 1650 events and 751 original time points ...\n",
      "    Rejecting  epoch based on EEG : ['CP5']\n",
      "    Rejecting  epoch based on EEG : ['CP5']\n",
      "    Rejecting  epoch based on EEG : ['CP5']\n",
      "    Rejecting  epoch based on EEG : ['CP5']\n",
      "    Rejecting  epoch based on EEG : ['CP5']\n",
      "    Rejecting  epoch based on EEG : ['CP5']\n",
      "    Rejecting  epoch based on EEG : ['CP5']\n",
      "    Rejecting  epoch based on EEG : ['CP5']\n",
      "    Rejecting  epoch based on EEG : ['CP5']\n",
      "9 bad epochs dropped\n"
     ]
    },
    {
     "name": "stderr",
     "output_type": "stream",
     "text": [
      "[Parallel(n_jobs=1)]: Done  17 tasks      | elapsed:    1.8s\n",
      "[Parallel(n_jobs=1)]: Done  17 tasks      | elapsed:    0.4s\n",
      "[Parallel(n_jobs=1)]: Done  17 tasks      | elapsed:    2.0s\n",
      "[Parallel(n_jobs=1)]: Done  17 tasks      | elapsed:    0.4s\n"
     ]
    },
    {
     "name": "stdout",
     "output_type": "stream",
     "text": [
      "Opening raw data file /Users/chaohan/Library/CloudStorage/OneDrive-UniversityofToronto/Projects/Yas accent/data_preprocessed/3_ica/Yas_267_corr_prep_ica.fif...\n"
     ]
    },
    {
     "name": "stderr",
     "output_type": "stream",
     "text": [
      "/var/folders/j8/8nyf6njj5nzfjcv6s23y3nn40000gn/T/ipykernel_37645/644758328.py:15: RuntimeWarning: This filename (/Users/chaohan/Library/CloudStorage/OneDrive-UniversityofToronto/Projects/Yas accent/data_preprocessed/3_ica/Yas_267_corr_prep_ica.fif) does not conform to MNE naming conventions. All raw files should end with raw.fif, raw_sss.fif, raw_tsss.fif, _meg.fif, _eeg.fif, _ieeg.fif, raw.fif.gz, raw_sss.fif.gz, raw_tsss.fif.gz, _meg.fif.gz, _eeg.fif.gz or _ieeg.fif.gz\n",
      "  raw = mne.io.read_raw_fif(input_dir + file, preload = True)\n"
     ]
    },
    {
     "name": "stdout",
     "output_type": "stream",
     "text": [
      "    Range : 524 ... 867040 =      2.096 ...  3468.160 secs\n",
      "Ready.\n",
      "Reading 0 ... 866516  =      0.000 ...  3466.064 secs...\n",
      "EEG channel type selected for re-referencing\n",
      "Applying a custom ('EEG',) reference.\n",
      "Not setting metadata\n",
      "1656 matching events found\n",
      "No baseline correction applied\n",
      "0 projection items activated\n",
      "Using data from preloaded Raw for 1656 events and 751 original time points ...\n",
      "    Rejecting  epoch based on EEG : ['P7']\n",
      "    Rejecting  epoch based on EEG : ['P7']\n",
      "2 bad epochs dropped\n"
     ]
    },
    {
     "name": "stderr",
     "output_type": "stream",
     "text": [
      "[Parallel(n_jobs=1)]: Done  17 tasks      | elapsed:    1.7s\n",
      "[Parallel(n_jobs=1)]: Done  17 tasks      | elapsed:    0.4s\n",
      "[Parallel(n_jobs=1)]: Done  17 tasks      | elapsed:    1.9s\n",
      "[Parallel(n_jobs=1)]: Done  17 tasks      | elapsed:    0.4s\n"
     ]
    },
    {
     "name": "stdout",
     "output_type": "stream",
     "text": [
      "Opening raw data file /Users/chaohan/Library/CloudStorage/OneDrive-UniversityofToronto/Projects/Yas accent/data_preprocessed/3_ica/Yas_229_corr_prep_ica.fif...\n",
      "    Range : 0 ... 948397 =      0.000 ...  3793.588 secs\n",
      "Ready.\n",
      "Reading 0 ... 948397  =      0.000 ...  3793.588 secs...\n"
     ]
    },
    {
     "name": "stderr",
     "output_type": "stream",
     "text": [
      "/var/folders/j8/8nyf6njj5nzfjcv6s23y3nn40000gn/T/ipykernel_37645/644758328.py:15: RuntimeWarning: This filename (/Users/chaohan/Library/CloudStorage/OneDrive-UniversityofToronto/Projects/Yas accent/data_preprocessed/3_ica/Yas_229_corr_prep_ica.fif) does not conform to MNE naming conventions. All raw files should end with raw.fif, raw_sss.fif, raw_tsss.fif, _meg.fif, _eeg.fif, _ieeg.fif, raw.fif.gz, raw_sss.fif.gz, raw_tsss.fif.gz, _meg.fif.gz, _eeg.fif.gz or _ieeg.fif.gz\n",
      "  raw = mne.io.read_raw_fif(input_dir + file, preload = True)\n"
     ]
    },
    {
     "name": "stdout",
     "output_type": "stream",
     "text": [
      "EEG channel type selected for re-referencing\n",
      "Applying a custom ('EEG',) reference.\n",
      "Not setting metadata\n",
      "1710 matching events found\n",
      "No baseline correction applied\n",
      "0 projection items activated\n",
      "Using data from preloaded Raw for 1710 events and 751 original time points ...\n",
      "    Rejecting  epoch based on EEG : ['Oz']\n",
      "    Rejecting  epoch based on EEG : ['Oz']\n",
      "2 bad epochs dropped\n"
     ]
    },
    {
     "name": "stderr",
     "output_type": "stream",
     "text": [
      "[Parallel(n_jobs=1)]: Done  17 tasks      | elapsed:    2.0s\n",
      "[Parallel(n_jobs=1)]: Done  17 tasks      | elapsed:    0.4s\n",
      "[Parallel(n_jobs=1)]: Done  17 tasks      | elapsed:    1.9s\n",
      "[Parallel(n_jobs=1)]: Done  17 tasks      | elapsed:    0.4s\n"
     ]
    },
    {
     "name": "stdout",
     "output_type": "stream",
     "text": [
      "Opening raw data file /Users/chaohan/Library/CloudStorage/OneDrive-UniversityofToronto/Projects/Yas accent/data_preprocessed/3_ica/Yas_130_corr_prep_ica.fif...\n"
     ]
    },
    {
     "name": "stderr",
     "output_type": "stream",
     "text": [
      "/var/folders/j8/8nyf6njj5nzfjcv6s23y3nn40000gn/T/ipykernel_37645/644758328.py:15: RuntimeWarning: This filename (/Users/chaohan/Library/CloudStorage/OneDrive-UniversityofToronto/Projects/Yas accent/data_preprocessed/3_ica/Yas_130_corr_prep_ica.fif) does not conform to MNE naming conventions. All raw files should end with raw.fif, raw_sss.fif, raw_tsss.fif, _meg.fif, _eeg.fif, _ieeg.fif, raw.fif.gz, raw_sss.fif.gz, raw_tsss.fif.gz, _meg.fif.gz, _eeg.fif.gz or _ieeg.fif.gz\n",
      "  raw = mne.io.read_raw_fif(input_dir + file, preload = True)\n"
     ]
    },
    {
     "name": "stdout",
     "output_type": "stream",
     "text": [
      "    Range : 0 ... 836891 =      0.000 ...  3347.564 secs\n",
      "Ready.\n",
      "Reading 0 ... 836891  =      0.000 ...  3347.564 secs...\n",
      "EEG channel type selected for re-referencing\n",
      "Applying a custom ('EEG',) reference.\n",
      "Not setting metadata\n",
      "1646 matching events found\n",
      "No baseline correction applied\n",
      "0 projection items activated\n",
      "Using data from preloaded Raw for 1646 events and 751 original time points ...\n",
      "    Rejecting  epoch based on EEG : ['FT9', 'P7']\n",
      "    Rejecting  epoch based on EEG : ['FT9', 'P7']\n",
      "    Rejecting  epoch based on EEG : ['FT9', 'P7']\n",
      "3 bad epochs dropped\n"
     ]
    },
    {
     "name": "stderr",
     "output_type": "stream",
     "text": [
      "[Parallel(n_jobs=1)]: Done  17 tasks      | elapsed:    2.0s\n",
      "[Parallel(n_jobs=1)]: Done  17 tasks      | elapsed:    0.4s\n",
      "[Parallel(n_jobs=1)]: Done  17 tasks      | elapsed:    2.1s\n",
      "[Parallel(n_jobs=1)]: Done  17 tasks      | elapsed:    0.4s\n"
     ]
    },
    {
     "name": "stdout",
     "output_type": "stream",
     "text": [
      "Opening raw data file /Users/chaohan/Library/CloudStorage/OneDrive-UniversityofToronto/Projects/Yas accent/data_preprocessed/3_ica/Yas_164_corr_prep_ica.fif...\n",
      "    Range : 1413 ... 922138 =      5.652 ...  3688.552 secs\n",
      "Ready.\n"
     ]
    },
    {
     "name": "stderr",
     "output_type": "stream",
     "text": [
      "/var/folders/j8/8nyf6njj5nzfjcv6s23y3nn40000gn/T/ipykernel_37645/644758328.py:15: RuntimeWarning: This filename (/Users/chaohan/Library/CloudStorage/OneDrive-UniversityofToronto/Projects/Yas accent/data_preprocessed/3_ica/Yas_164_corr_prep_ica.fif) does not conform to MNE naming conventions. All raw files should end with raw.fif, raw_sss.fif, raw_tsss.fif, _meg.fif, _eeg.fif, _ieeg.fif, raw.fif.gz, raw_sss.fif.gz, raw_tsss.fif.gz, _meg.fif.gz, _eeg.fif.gz or _ieeg.fif.gz\n",
      "  raw = mne.io.read_raw_fif(input_dir + file, preload = True)\n"
     ]
    },
    {
     "name": "stdout",
     "output_type": "stream",
     "text": [
      "Reading 0 ... 920725  =      0.000 ...  3682.900 secs...\n",
      "EEG channel type selected for re-referencing\n",
      "Applying a custom ('EEG',) reference.\n",
      "Not setting metadata\n",
      "1700 matching events found\n",
      "No baseline correction applied\n",
      "0 projection items activated\n",
      "Using data from preloaded Raw for 1700 events and 751 original time points ...\n",
      "    Rejecting  epoch based on EEG : ['F7', 'FT9', 'C3', 'CP5', 'FT10', 'F8']\n",
      "    Rejecting  epoch based on EEG : ['F7', 'FT9', 'C3', 'CP5', 'FT10', 'F8']\n",
      "    Rejecting  epoch based on EEG : ['O1', 'Oz', 'O2', 'Cz']\n",
      "    Rejecting  epoch based on EEG : ['O1', 'Oz', 'O2', 'Cz']\n",
      "    Rejecting  epoch based on EEG : ['Cz']\n",
      "    Rejecting  epoch based on EEG : ['F7', 'FT9', 'O1', 'Oz', 'CP6', 'Cz', 'FT10', 'F8']\n",
      "    Rejecting  epoch based on EEG : ['F7', 'FT9', 'O1', 'Oz', 'CP6', 'FT10', 'F8']\n",
      "    Rejecting  epoch based on EEG : ['O1', 'Oz', 'O2', 'Cz']\n",
      "    Rejecting  epoch based on EEG : ['O1', 'Oz', 'O2', 'Cz']\n",
      "    Rejecting  epoch based on EEG : ['Fz', 'F3', 'F7', 'O2', 'FC2', 'F4']\n",
      "    Rejecting  epoch based on EEG : ['F3', 'F7', 'O2', 'FC2', 'F4']\n",
      "    Rejecting  epoch based on EEG : ['Cz']\n",
      "    Rejecting  epoch based on EEG : ['O1', 'Oz', 'O2', 'Cz']\n",
      "    Rejecting  epoch based on EEG : ['FT9', 'FC1', 'T7', 'P7', 'O1', 'Oz', 'O2']\n",
      "    Rejecting  epoch based on EEG : ['O1', 'Oz', 'O2']\n",
      "    Rejecting  epoch based on EEG : ['O2']\n",
      "    Rejecting  epoch based on EEG : ['O2']\n",
      "    Rejecting  epoch based on EEG : ['Fz', 'F3', 'F4']\n",
      "    Rejecting  epoch based on EEG : ['Fz', 'F3', 'F4']\n",
      "    Rejecting  epoch based on EEG : ['Fz', 'FC1', 'CP1', 'Pz', 'CP2', 'Cz']\n",
      "    Rejecting  epoch based on EEG : ['Fz', 'FC1', 'CP1', 'Pz', 'CP2', 'Cz']\n",
      "    Rejecting  epoch based on EEG : ['P7', 'O1', 'Oz', 'O2', 'Cz']\n",
      "    Rejecting  epoch based on EEG : ['Fz', 'F3', 'Oz', 'O2', 'F4']\n",
      "    Rejecting  epoch based on EEG : ['Fz', 'F3', 'F7', 'FC5', 'FC1', 'C3', 'T7', 'CP5', 'CP1', 'Pz', 'P3', 'P7', 'O1', 'Oz', 'O2', 'CP2', 'Cz', 'FC6', 'FC2', 'F4', 'F8']\n",
      "    Rejecting  epoch based on EEG : ['P7', 'O1', 'Oz']\n",
      "    Rejecting  epoch based on EEG : ['P7', 'O1', 'Oz']\n",
      "    Rejecting  epoch based on EEG : ['Cz']\n",
      "    Rejecting  epoch based on EEG : ['Cz']\n",
      "    Rejecting  epoch based on EEG : ['F7', 'FT9', 'F8']\n",
      "    Rejecting  epoch based on EEG : ['O1', 'Oz']\n",
      "    Rejecting  epoch based on EEG : ['FT9']\n",
      "    Rejecting  epoch based on EEG : ['FT9']\n",
      "    Rejecting  epoch based on EEG : ['F3']\n",
      "    Rejecting  epoch based on EEG : ['F3']\n",
      "    Rejecting  epoch based on EEG : ['Fz', 'F3', 'F4']\n",
      "    Rejecting  epoch based on EEG : ['F3']\n",
      "    Rejecting  epoch based on EEG : ['O1']\n",
      "    Rejecting  epoch based on EEG : ['O1']\n",
      "38 bad epochs dropped\n"
     ]
    },
    {
     "name": "stderr",
     "output_type": "stream",
     "text": [
      "[Parallel(n_jobs=1)]: Done  17 tasks      | elapsed:    2.1s\n",
      "[Parallel(n_jobs=1)]: Done  17 tasks      | elapsed:    0.4s\n",
      "[Parallel(n_jobs=1)]: Done  17 tasks      | elapsed:    1.9s\n",
      "[Parallel(n_jobs=1)]: Done  17 tasks      | elapsed:    0.4s\n"
     ]
    },
    {
     "name": "stdout",
     "output_type": "stream",
     "text": [
      "Opening raw data file /Users/chaohan/Library/CloudStorage/OneDrive-UniversityofToronto/Projects/Yas accent/data_preprocessed/3_ica/Yas_233_corr_prep_ica.fif...\n",
      "    Range : 0 ... 885043 =      0.000 ...  3540.172 secs\n",
      "Ready.\n",
      "Reading 0 ... 885043  =      0.000 ...  3540.172 secs...\n"
     ]
    },
    {
     "name": "stderr",
     "output_type": "stream",
     "text": [
      "/var/folders/j8/8nyf6njj5nzfjcv6s23y3nn40000gn/T/ipykernel_37645/644758328.py:15: RuntimeWarning: This filename (/Users/chaohan/Library/CloudStorage/OneDrive-UniversityofToronto/Projects/Yas accent/data_preprocessed/3_ica/Yas_233_corr_prep_ica.fif) does not conform to MNE naming conventions. All raw files should end with raw.fif, raw_sss.fif, raw_tsss.fif, _meg.fif, _eeg.fif, _ieeg.fif, raw.fif.gz, raw_sss.fif.gz, raw_tsss.fif.gz, _meg.fif.gz, _eeg.fif.gz or _ieeg.fif.gz\n",
      "  raw = mne.io.read_raw_fif(input_dir + file, preload = True)\n"
     ]
    },
    {
     "name": "stdout",
     "output_type": "stream",
     "text": [
      "EEG channel type selected for re-referencing\n",
      "Applying a custom ('EEG',) reference.\n",
      "Not setting metadata\n",
      "1663 matching events found\n",
      "No baseline correction applied\n",
      "0 projection items activated\n",
      "Using data from preloaded Raw for 1663 events and 751 original time points ...\n",
      "    Rejecting  epoch based on EEG : ['P8']\n",
      "1 bad epochs dropped\n"
     ]
    },
    {
     "name": "stderr",
     "output_type": "stream",
     "text": [
      "[Parallel(n_jobs=1)]: Done  17 tasks      | elapsed:    1.8s\n",
      "[Parallel(n_jobs=1)]: Done  17 tasks      | elapsed:    0.4s\n",
      "[Parallel(n_jobs=1)]: Done  17 tasks      | elapsed:    2.1s\n",
      "[Parallel(n_jobs=1)]: Done  17 tasks      | elapsed:    0.4s\n"
     ]
    },
    {
     "name": "stdout",
     "output_type": "stream",
     "text": [
      "Opening raw data file /Users/chaohan/Library/CloudStorage/OneDrive-UniversityofToronto/Projects/Yas accent/data_preprocessed/3_ica/Yas_102_corr_prep_ica.fif...\n",
      "    Range : 12312 ... 853653 =     49.248 ...  3414.612 secs\n",
      "Ready.\n",
      "Reading 0 ... 841341  =      0.000 ...  3365.364 secs...\n"
     ]
    },
    {
     "name": "stderr",
     "output_type": "stream",
     "text": [
      "/var/folders/j8/8nyf6njj5nzfjcv6s23y3nn40000gn/T/ipykernel_37645/644758328.py:15: RuntimeWarning: This filename (/Users/chaohan/Library/CloudStorage/OneDrive-UniversityofToronto/Projects/Yas accent/data_preprocessed/3_ica/Yas_102_corr_prep_ica.fif) does not conform to MNE naming conventions. All raw files should end with raw.fif, raw_sss.fif, raw_tsss.fif, _meg.fif, _eeg.fif, _ieeg.fif, raw.fif.gz, raw_sss.fif.gz, raw_tsss.fif.gz, _meg.fif.gz, _eeg.fif.gz or _ieeg.fif.gz\n",
      "  raw = mne.io.read_raw_fif(input_dir + file, preload = True)\n"
     ]
    },
    {
     "name": "stdout",
     "output_type": "stream",
     "text": [
      "EEG channel type selected for re-referencing\n",
      "Applying a custom ('EEG',) reference.\n",
      "Not setting metadata\n",
      "1633 matching events found\n",
      "No baseline correction applied\n",
      "0 projection items activated\n",
      "Using data from preloaded Raw for 1633 events and 751 original time points ...\n",
      "0 bad epochs dropped\n"
     ]
    },
    {
     "name": "stderr",
     "output_type": "stream",
     "text": [
      "[Parallel(n_jobs=1)]: Done  17 tasks      | elapsed:    1.8s\n",
      "[Parallel(n_jobs=1)]: Done  17 tasks      | elapsed:    0.4s\n",
      "[Parallel(n_jobs=1)]: Done  17 tasks      | elapsed:    1.9s\n",
      "[Parallel(n_jobs=1)]: Done  17 tasks      | elapsed:    0.4s\n"
     ]
    },
    {
     "name": "stdout",
     "output_type": "stream",
     "text": [
      "Opening raw data file /Users/chaohan/Library/CloudStorage/OneDrive-UniversityofToronto/Projects/Yas accent/data_preprocessed/3_ica/Yas_255_corr_prep_ica.fif...\n"
     ]
    },
    {
     "name": "stderr",
     "output_type": "stream",
     "text": [
      "/var/folders/j8/8nyf6njj5nzfjcv6s23y3nn40000gn/T/ipykernel_37645/644758328.py:15: RuntimeWarning: This filename (/Users/chaohan/Library/CloudStorage/OneDrive-UniversityofToronto/Projects/Yas accent/data_preprocessed/3_ica/Yas_255_corr_prep_ica.fif) does not conform to MNE naming conventions. All raw files should end with raw.fif, raw_sss.fif, raw_tsss.fif, _meg.fif, _eeg.fif, _ieeg.fif, raw.fif.gz, raw_sss.fif.gz, raw_tsss.fif.gz, _meg.fif.gz, _eeg.fif.gz or _ieeg.fif.gz\n",
      "  raw = mne.io.read_raw_fif(input_dir + file, preload = True)\n"
     ]
    },
    {
     "name": "stdout",
     "output_type": "stream",
     "text": [
      "    Range : 79 ... 890624 =      0.316 ...  3562.496 secs\n",
      "Ready.\n",
      "Reading 0 ... 890545  =      0.000 ...  3562.180 secs...\n",
      "EEG channel type selected for re-referencing\n",
      "Applying a custom ('EEG',) reference.\n",
      "Not setting metadata\n",
      "1696 matching events found\n",
      "No baseline correction applied\n",
      "0 projection items activated\n",
      "Using data from preloaded Raw for 1696 events and 751 original time points ...\n",
      "0 bad epochs dropped\n"
     ]
    },
    {
     "name": "stderr",
     "output_type": "stream",
     "text": [
      "[Parallel(n_jobs=1)]: Done  17 tasks      | elapsed:    1.7s\n",
      "[Parallel(n_jobs=1)]: Done  17 tasks      | elapsed:    0.4s\n",
      "[Parallel(n_jobs=1)]: Done  17 tasks      | elapsed:    2.1s\n",
      "[Parallel(n_jobs=1)]: Done  17 tasks      | elapsed:    0.4s\n"
     ]
    },
    {
     "name": "stdout",
     "output_type": "stream",
     "text": [
      "Opening raw data file /Users/chaohan/Library/CloudStorage/OneDrive-UniversityofToronto/Projects/Yas accent/data_preprocessed/3_ica/Yas_150_corr_prep_ica.fif...\n",
      "    Range : 16252 ... 917975 =     65.008 ...  3671.900 secs\n",
      "Ready.\n"
     ]
    },
    {
     "name": "stderr",
     "output_type": "stream",
     "text": [
      "/var/folders/j8/8nyf6njj5nzfjcv6s23y3nn40000gn/T/ipykernel_37645/644758328.py:15: RuntimeWarning: This filename (/Users/chaohan/Library/CloudStorage/OneDrive-UniversityofToronto/Projects/Yas accent/data_preprocessed/3_ica/Yas_150_corr_prep_ica.fif) does not conform to MNE naming conventions. All raw files should end with raw.fif, raw_sss.fif, raw_tsss.fif, _meg.fif, _eeg.fif, _ieeg.fif, raw.fif.gz, raw_sss.fif.gz, raw_tsss.fif.gz, _meg.fif.gz, _eeg.fif.gz or _ieeg.fif.gz\n",
      "  raw = mne.io.read_raw_fif(input_dir + file, preload = True)\n"
     ]
    },
    {
     "name": "stdout",
     "output_type": "stream",
     "text": [
      "Reading 0 ... 901723  =      0.000 ...  3606.892 secs...\n",
      "EEG channel type selected for re-referencing\n",
      "Applying a custom ('EEG',) reference.\n",
      "Not setting metadata\n",
      "1688 matching events found\n",
      "No baseline correction applied\n",
      "0 projection items activated\n",
      "Using data from preloaded Raw for 1688 events and 751 original time points ...\n",
      "    Rejecting  epoch based on EEG : ['P7']\n",
      "    Rejecting  epoch based on EEG : ['P7']\n",
      "    Rejecting  epoch based on EEG : ['P7']\n",
      "    Rejecting  epoch based on EEG : ['P7']\n",
      "    Rejecting  epoch based on EEG : ['P7']\n",
      "    Rejecting  epoch based on EEG : ['P7']\n",
      "    Rejecting  epoch based on EEG : ['T7', 'P7']\n",
      "    Rejecting  epoch based on EEG : ['T7', 'P7', 'P8']\n",
      "    Rejecting  epoch based on EEG : ['T7', 'P7', 'P8']\n",
      "    Rejecting  epoch based on EEG : ['FT9', 'T7', 'P7', 'P8']\n",
      "    Rejecting  epoch based on EEG : ['FT9', 'T7', 'P7', 'P8']\n",
      "    Rejecting  epoch based on EEG : ['P7']\n",
      "    Rejecting  epoch based on EEG : ['P7']\n",
      "    Rejecting  epoch based on EEG : ['C4']\n",
      "    Rejecting  epoch based on EEG : ['C4']\n",
      "15 bad epochs dropped\n"
     ]
    },
    {
     "name": "stderr",
     "output_type": "stream",
     "text": [
      "[Parallel(n_jobs=1)]: Done  17 tasks      | elapsed:    1.8s\n",
      "[Parallel(n_jobs=1)]: Done  17 tasks      | elapsed:    0.4s\n",
      "[Parallel(n_jobs=1)]: Done  17 tasks      | elapsed:    1.8s\n",
      "[Parallel(n_jobs=1)]: Done  17 tasks      | elapsed:    0.3s\n"
     ]
    },
    {
     "name": "stdout",
     "output_type": "stream",
     "text": [
      "Opening raw data file /Users/chaohan/Library/CloudStorage/OneDrive-UniversityofToronto/Projects/Yas accent/data_preprocessed/3_ica/Yas_249_corr_prep_ica.fif...\n",
      "    Range : 1141 ... 860062 =      4.564 ...  3440.248 secs\n",
      "Ready.\n",
      "Reading 0 ... 858921  =      0.000 ...  3435.684 secs...\n"
     ]
    },
    {
     "name": "stderr",
     "output_type": "stream",
     "text": [
      "/var/folders/j8/8nyf6njj5nzfjcv6s23y3nn40000gn/T/ipykernel_37645/644758328.py:15: RuntimeWarning: This filename (/Users/chaohan/Library/CloudStorage/OneDrive-UniversityofToronto/Projects/Yas accent/data_preprocessed/3_ica/Yas_249_corr_prep_ica.fif) does not conform to MNE naming conventions. All raw files should end with raw.fif, raw_sss.fif, raw_tsss.fif, _meg.fif, _eeg.fif, _ieeg.fif, raw.fif.gz, raw_sss.fif.gz, raw_tsss.fif.gz, _meg.fif.gz, _eeg.fif.gz or _ieeg.fif.gz\n",
      "  raw = mne.io.read_raw_fif(input_dir + file, preload = True)\n"
     ]
    },
    {
     "name": "stdout",
     "output_type": "stream",
     "text": [
      "EEG channel type selected for re-referencing\n",
      "Applying a custom ('EEG',) reference.\n",
      "Not setting metadata\n",
      "1683 matching events found\n",
      "No baseline correction applied\n",
      "0 projection items activated\n",
      "Using data from preloaded Raw for 1683 events and 751 original time points ...\n",
      "    Rejecting  epoch based on EEG : ['Fz', 'FT9', 'C3', 'T7', 'CP5', 'P3', 'P7', 'P4', 'P8', 'CP6', 'CP2', 'C4', 'T8', 'FT10', 'FC6', 'FC2', 'F4', 'F8']\n",
      "    Rejecting  epoch based on EEG : ['Fz', 'F3', 'F7', 'FT9', 'FC1', 'C3', 'T7', 'CP5', 'CP1', 'Pz', 'P3', 'P7', 'O2', 'P4', 'P8', 'CP6', 'CP2', 'Cz', 'C4', 'T8', 'FT10', 'FC6', 'FC2', 'F4', 'F8']\n",
      "    Rejecting  epoch based on EEG : ['Fz', 'F3', 'F7', 'FT9', 'FC1', 'C3', 'CP5', 'CP1', 'Pz', 'P3', 'P7', 'O2', 'P4', 'P8', 'CP6', 'CP2', 'Cz', 'C4', 'T8', 'FT10', 'FC6', 'FC2', 'F4', 'F8']\n",
      "    Rejecting  epoch based on EEG : ['CP5', 'F8']\n",
      "    Rejecting  epoch based on EEG : ['Fz', 'F3', 'F7', 'FT9', 'FC1', 'C3', 'T7', 'CP5', 'CP1', 'P3', 'P7', 'P4', 'P8', 'CP6', 'CP2', 'Cz', 'C4', 'T8', 'FT10', 'FC6', 'FC2', 'F4', 'F8']\n",
      "    Rejecting  epoch based on EEG : ['Fz', 'F3', 'F7', 'FT9', 'FC1', 'C3', 'T7', 'CP5', 'CP1', 'P3', 'P7', 'P4', 'P8', 'CP6', 'CP2', 'Cz', 'C4', 'T8', 'FT10', 'FC6', 'FC2', 'F4', 'F8']\n",
      "    Rejecting  epoch based on EEG : ['CP5', 'P7']\n",
      "    Rejecting  epoch based on EEG : ['FT9', 'C3', 'CP5', 'P3', 'P7', 'CP6', 'FT10', 'FC6', 'F8']\n",
      "    Rejecting  epoch based on EEG : ['CP6']\n",
      "    Rejecting  epoch based on EEG : ['CP6']\n",
      "    Rejecting  epoch based on EEG : ['CP6']\n",
      "11 bad epochs dropped\n"
     ]
    },
    {
     "name": "stderr",
     "output_type": "stream",
     "text": [
      "[Parallel(n_jobs=1)]: Done  17 tasks      | elapsed:    1.9s\n",
      "[Parallel(n_jobs=1)]: Done  17 tasks      | elapsed:    0.4s\n",
      "[Parallel(n_jobs=1)]: Done  17 tasks      | elapsed:    1.9s\n",
      "[Parallel(n_jobs=1)]: Done  17 tasks      | elapsed:    0.4s\n"
     ]
    },
    {
     "name": "stdout",
     "output_type": "stream",
     "text": [
      "Opening raw data file /Users/chaohan/Library/CloudStorage/OneDrive-UniversityofToronto/Projects/Yas accent/data_preprocessed/3_ica/Yas_207_corr_prep_ica.fif...\n",
      "    Range : 1987 ... 959962 =      7.948 ...  3839.848 secs\n",
      "Ready.\n",
      "Reading 0 ... 957975  =      0.000 ...  3831.900 secs...\n"
     ]
    },
    {
     "name": "stderr",
     "output_type": "stream",
     "text": [
      "/var/folders/j8/8nyf6njj5nzfjcv6s23y3nn40000gn/T/ipykernel_37645/644758328.py:15: RuntimeWarning: This filename (/Users/chaohan/Library/CloudStorage/OneDrive-UniversityofToronto/Projects/Yas accent/data_preprocessed/3_ica/Yas_207_corr_prep_ica.fif) does not conform to MNE naming conventions. All raw files should end with raw.fif, raw_sss.fif, raw_tsss.fif, _meg.fif, _eeg.fif, _ieeg.fif, raw.fif.gz, raw_sss.fif.gz, raw_tsss.fif.gz, _meg.fif.gz, _eeg.fif.gz or _ieeg.fif.gz\n",
      "  raw = mne.io.read_raw_fif(input_dir + file, preload = True)\n"
     ]
    },
    {
     "name": "stdout",
     "output_type": "stream",
     "text": [
      "EEG channel type selected for re-referencing\n",
      "Applying a custom ('EEG',) reference.\n",
      "Not setting metadata\n",
      "1657 matching events found\n",
      "No baseline correction applied\n",
      "0 projection items activated\n",
      "Using data from preloaded Raw for 1657 events and 751 original time points ...\n",
      "0 bad epochs dropped\n"
     ]
    },
    {
     "name": "stderr",
     "output_type": "stream",
     "text": [
      "[Parallel(n_jobs=1)]: Done  17 tasks      | elapsed:    1.8s\n",
      "[Parallel(n_jobs=1)]: Done  17 tasks      | elapsed:    0.4s\n",
      "[Parallel(n_jobs=1)]: Done  17 tasks      | elapsed:    1.9s\n",
      "[Parallel(n_jobs=1)]: Done  17 tasks      | elapsed:    0.4s\n"
     ]
    },
    {
     "name": "stdout",
     "output_type": "stream",
     "text": [
      "Opening raw data file /Users/chaohan/Library/CloudStorage/OneDrive-UniversityofToronto/Projects/Yas accent/data_preprocessed/3_ica/Yas_136_corr_prep_ica.fif...\n"
     ]
    },
    {
     "name": "stderr",
     "output_type": "stream",
     "text": [
      "/var/folders/j8/8nyf6njj5nzfjcv6s23y3nn40000gn/T/ipykernel_37645/644758328.py:15: RuntimeWarning: This filename (/Users/chaohan/Library/CloudStorage/OneDrive-UniversityofToronto/Projects/Yas accent/data_preprocessed/3_ica/Yas_136_corr_prep_ica.fif) does not conform to MNE naming conventions. All raw files should end with raw.fif, raw_sss.fif, raw_tsss.fif, _meg.fif, _eeg.fif, _ieeg.fif, raw.fif.gz, raw_sss.fif.gz, raw_tsss.fif.gz, _meg.fif.gz, _eeg.fif.gz or _ieeg.fif.gz\n",
      "  raw = mne.io.read_raw_fif(input_dir + file, preload = True)\n"
     ]
    },
    {
     "name": "stdout",
     "output_type": "stream",
     "text": [
      "    Range : 142 ... 853705 =      0.568 ...  3414.820 secs\n",
      "Ready.\n",
      "Reading 0 ... 853563  =      0.000 ...  3414.252 secs...\n",
      "EEG channel type selected for re-referencing\n",
      "Applying a custom ('EEG',) reference.\n",
      "Not setting metadata\n",
      "1697 matching events found\n",
      "No baseline correction applied\n",
      "0 projection items activated\n",
      "Using data from preloaded Raw for 1697 events and 751 original time points ...\n",
      "    Rejecting  epoch based on EEG : ['FT9']\n",
      "    Rejecting  epoch based on EEG : ['FT9']\n",
      "    Rejecting  epoch based on EEG : ['FT9', 'FC5']\n",
      "    Rejecting  epoch based on EEG : ['FT9', 'FC5']\n",
      "    Rejecting  epoch based on EEG : ['FT9', 'FC5']\n",
      "    Rejecting  epoch based on EEG : ['FT9', 'FC5']\n",
      "    Rejecting  epoch based on EEG : ['FT9']\n",
      "    Rejecting  epoch based on EEG : ['FT9']\n",
      "    Rejecting  epoch based on EEG : ['FT9']\n",
      "    Rejecting  epoch based on EEG : ['FT9']\n",
      "    Rejecting  epoch based on EEG : ['FT9']\n",
      "    Rejecting  epoch based on EEG : ['FT9']\n",
      "    Rejecting  epoch based on EEG : ['FT9']\n",
      "    Rejecting  epoch based on EEG : ['FT9']\n",
      "    Rejecting  epoch based on EEG : ['FT9', 'FC5', 'C3', 'C4', 'FT10', 'FC2']\n",
      "    Rejecting  epoch based on EEG : ['FT9', 'FC5', 'C3', 'C4', 'FT10', 'FC2']\n",
      "    Rejecting  epoch based on EEG : ['FT9']\n",
      "    Rejecting  epoch based on EEG : ['FT9', 'T7', 'CP5', 'P7', 'CP6']\n",
      "    Rejecting  epoch based on EEG : ['FT9', 'T7', 'CP5', 'P7', 'CP6']\n",
      "    Rejecting  epoch based on EEG : ['Fz', 'F3', 'F7', 'FC5', 'FC1', 'C3', 'T7', 'CP5', 'CP1', 'Pz', 'P3', 'P7', 'P4', 'P8', 'CP6', 'CP2', 'Cz', 'C4', 'FC2', 'F4']\n",
      "    Rejecting  epoch based on EEG : ['Fz', 'F3', 'F7', 'FC5', 'FC1', 'C3', 'T7', 'CP5', 'CP1', 'Pz', 'P3', 'P7', 'P4', 'P8', 'CP6', 'CP2', 'Cz', 'C4', 'FC2', 'F4']\n",
      "    Rejecting  epoch based on EEG : ['FT9']\n",
      "    Rejecting  epoch based on EEG : ['FT9', 'FC5', 'T7']\n",
      "    Rejecting  epoch based on EEG : ['FT9', 'FC5', 'T7']\n",
      "    Rejecting  epoch based on EEG : ['FT9', 'FC5', 'C4', 'FT10', 'FC2']\n",
      "    Rejecting  epoch based on EEG : ['FT9', 'FC5', 'C4', 'FT10', 'FC2']\n",
      "    Rejecting  epoch based on EEG : ['FT9', 'T7']\n",
      "    Rejecting  epoch based on EEG : ['FT9']\n",
      "    Rejecting  epoch based on EEG : ['FT9']\n",
      "    Rejecting  epoch based on EEG : ['FT9']\n",
      "    Rejecting  epoch based on EEG : ['Fz', 'F3', 'F7', 'FT9', 'FC5', 'FC1', 'C3', 'T7', 'CP5', 'CP6', 'Cz', 'C4', 'FT10', 'FC6', 'FC2', 'F4']\n",
      "    Rejecting  epoch based on EEG : ['Fz', 'F3', 'F7', 'FT9', 'FC5', 'FC1', 'C3', 'T7', 'CP5', 'CP6', 'Cz', 'C4', 'FT10', 'FC6', 'FC2', 'F4']\n",
      "    Rejecting  epoch based on EEG : ['Fz', 'FT9', 'FC5', 'FC1', 'C3', 'T7', 'CP5', 'CP6', 'C4', 'FT10', 'FC6', 'FC2', 'F4']\n",
      "    Rejecting  epoch based on EEG : ['FT9', 'FC5', 'C3', 'T7', 'CP5', 'C4', 'FT10']\n",
      "    Rejecting  epoch based on EEG : ['FT9', 'FC5', 'C3', 'T7', 'CP5', 'C4', 'FT10']\n",
      "    Rejecting  epoch based on EEG : ['FT9', 'FC5', 'FC1', 'C3', 'CP6', 'C4', 'FT10', 'FC6', 'FC2', 'F4']\n",
      "    Rejecting  epoch based on EEG : ['FC5']\n",
      "    Rejecting  epoch based on EEG : ['FC5']\n",
      "    Rejecting  epoch based on EEG : ['Fz', 'F3', 'FT9', 'FC5', 'FC1', 'C3', 'T7', 'CP5', 'CP1', 'CP6', 'CP2', 'Cz', 'C4', 'FT10', 'FC6', 'FC2', 'F4']\n",
      "    Rejecting  epoch based on EEG : ['Fz', 'F3', 'FT9', 'FC5', 'FC1', 'C3', 'T7', 'CP5', 'CP1', 'CP6', 'CP2', 'Cz', 'C4', 'FT10', 'FC6', 'FC2', 'F4']\n",
      "    Rejecting  epoch based on EEG : ['Oz', 'O2']\n",
      "    Rejecting  epoch based on EEG : ['FT9', 'FC5', 'C3', 'C4', 'FT10', 'FC2']\n",
      "    Rejecting  epoch based on EEG : ['FT9', 'FC5', 'C3', 'C4', 'FT10', 'FC2']\n",
      "    Rejecting  epoch based on EEG : ['FT9', 'FC5', 'C3', 'T7', 'CP5', 'C4', 'FT10']\n",
      "    Rejecting  epoch based on EEG : ['FT9', 'FC5', 'C3', 'T7', 'CP5', 'C4', 'FT10']\n",
      "    Rejecting  epoch based on EEG : ['Oz']\n",
      "    Rejecting  epoch based on EEG : ['FT9', 'FC5', 'C3', 'T7', 'CP5', 'Oz', 'CP6', 'C4', 'FT10', 'FC6']\n",
      "    Rejecting  epoch based on EEG : ['FT9', 'FC5', 'C3', 'T7', 'CP5', 'CP6', 'C4', 'FT10', 'FC6']\n",
      "    Rejecting  epoch based on EEG : ['Fz', 'F3', 'F7', 'FC5', 'FC1', 'C3', 'T7', 'CP5', 'CP1', 'Pz', 'P3', 'P7', 'Oz', 'O2', 'P4', 'P8', 'CP6', 'CP2', 'Cz', 'C4', 'FT10', 'FC6', 'FC2']\n",
      "    Rejecting  epoch based on EEG : ['Fz', 'F3', 'F7', 'FC5', 'FC1', 'C3', 'T7', 'CP5', 'CP1', 'Pz', 'P3', 'P7', 'Oz', 'O2', 'P4', 'P8', 'CP6', 'CP2', 'Cz', 'C4', 'FT10', 'FC6', 'FC2']\n",
      "    Rejecting  epoch based on EEG : ['Fz', 'F3', 'F7', 'FT9', 'FC5', 'FC1', 'C3', 'T7', 'CP5', 'CP1', 'Pz', 'P3', 'P7', 'O1', 'Oz', 'O2', 'P4', 'P8', 'TP10', 'CP6', 'CP2', 'Cz', 'C4', 'T8', 'FT10', 'FC6', 'FC2', 'F4', 'F8', 'TP9']\n",
      "    Rejecting  epoch based on EEG : ['FC5', 'CP5', 'P7', 'P8', 'CP6', 'C4']\n",
      "    Rejecting  epoch based on EEG : ['Fz', 'F3', 'FT9', 'FC5', 'FC1', 'C3', 'Cz', 'C4', 'FT10', 'FC6', 'FC2', 'F4']\n",
      "    Rejecting  epoch based on EEG : ['FC5', 'C3', 'CP5', 'CP6', 'C4', 'FT10', 'FC6', 'FC2', 'F4']\n",
      "    Rejecting  epoch based on EEG : ['FT9', 'FC5', 'C3', 'T7', 'CP5', 'CP6', 'C4', 'FT10', 'FC6', 'FC2', 'F4']\n",
      "    Rejecting  epoch based on EEG : ['FT9', 'FC5', 'C3', 'T7', 'CP5', 'CP6', 'C4', 'FT10', 'FC6', 'FC2', 'F4']\n",
      "    Rejecting  epoch based on EEG : ['Fz', 'F3', 'FT9', 'FC5', 'FC1', 'C3', 'T7', 'CP5', 'C4', 'FT10', 'FC6', 'FC2', 'F4']\n",
      "    Rejecting  epoch based on EEG : ['Fz', 'F3', 'FT9', 'FC5', 'FC1', 'C3', 'T7', 'CP5', 'CP6', 'C4', 'FT10', 'FC6', 'FC2', 'F4']\n",
      "    Rejecting  epoch based on EEG : ['CP6']\n",
      "    Rejecting  epoch based on EEG : ['Fz', 'F3', 'F7', 'FT9', 'FC5', 'FC1', 'C3', 'T7', 'CP5', 'CP1', 'Pz', 'P3', 'P7', 'O1', 'Oz', 'O2', 'P4', 'P8', 'TP10', 'CP6', 'CP2', 'Cz', 'C4', 'FT10', 'FC6', 'FC2', 'F4', 'TP9']\n",
      "    Rejecting  epoch based on EEG : ['Fz', 'F3', 'F7', 'FT9', 'FC5', 'FC1', 'C3', 'T7', 'CP5', 'CP1', 'Pz', 'P3', 'P7', 'O1', 'Oz', 'O2', 'P4', 'P8', 'TP10', 'CP6', 'CP2', 'Cz', 'C4', 'FT10', 'FC6', 'FC2', 'F4', 'TP9']\n",
      "    Rejecting  epoch based on EEG : ['Fz', 'F3', 'F7', 'FC5', 'FC1', 'C3', 'T7', 'CP5', 'CP1', 'Pz', 'P3', 'P7', 'O1', 'Oz', 'O2', 'P4', 'P8', 'TP10', 'CP6', 'CP2', 'Cz', 'C4', 'FT10', 'FC6', 'FC2', 'F4', 'TP9']\n",
      "    Rejecting  epoch based on EEG : ['P7', 'CP6']\n",
      "    Rejecting  epoch based on EEG : ['FT9']\n",
      "    Rejecting  epoch based on EEG : ['FT9']\n",
      "    Rejecting  epoch based on EEG : ['CP5']\n",
      "    Rejecting  epoch based on EEG : ['FT9', 'FC5', 'C4']\n",
      "    Rejecting  epoch based on EEG : ['FT9', 'FC5', 'C4']\n",
      "    Rejecting  epoch based on EEG : ['Fz', 'F3', 'FT9', 'FC5', 'FC1', 'C3', 'CP5', 'CP1', 'Pz', 'P3', 'P7', 'O1', 'Oz', 'O2', 'P4', 'P8', 'CP6', 'CP2', 'Cz', 'C4', 'FC6', 'FC2', 'F4']\n",
      "    Rejecting  epoch based on EEG : ['O1', 'Oz', 'O2']\n",
      "    Rejecting  epoch based on EEG : ['FT9', 'FC5', 'C4', 'FT10', 'FC2']\n",
      "    Rejecting  epoch based on EEG : ['FT9', 'FC5', 'C4', 'FT10', 'FC2']\n",
      "    Rejecting  epoch based on EEG : ['Fz', 'F3', 'F7', 'FT9', 'FC5', 'FC1', 'C3', 'T7', 'CP5', 'CP1', 'Pz', 'P3', 'P7', 'O1', 'Oz', 'O2', 'P4', 'P8', 'TP10', 'CP6', 'CP2', 'Cz', 'C4', 'T8', 'FT10', 'FC6', 'FC2', 'F4', 'F8', 'TP9']\n",
      "    Rejecting  epoch based on EEG : ['Fz', 'F3', 'FT9', 'FC5', 'FC1', 'C3', 'T7', 'CP5', 'CP1', 'CP6', 'CP2', 'Cz', 'C4', 'FT10', 'FC6', 'FC2', 'F4']\n",
      "    Rejecting  epoch based on EEG : ['Fz', 'F3', 'F7', 'FT9', 'FC5', 'FC1', 'C3', 'T7', 'CP5', 'CP1', 'Pz', 'P3', 'P7', 'O1', 'Oz', 'O2', 'P4', 'P8', 'TP10', 'CP6', 'CP2', 'Cz', 'C4', 'T8', 'FT10', 'FC6', 'FC2', 'F4', 'TP9']\n",
      "    Rejecting  epoch based on EEG : ['Fz', 'F3', 'F7', 'FT9', 'FC5', 'FC1', 'C3', 'T7', 'CP5', 'CP1', 'Pz', 'P3', 'P7', 'O1', 'Oz', 'O2', 'P4', 'P8', 'TP10', 'CP6', 'CP2', 'Cz', 'C4', 'T8', 'FT10', 'FC6', 'FC2', 'F4', 'TP9']\n",
      "    Rejecting  epoch based on EEG : ['Fz', 'F3', 'F7', 'FT9', 'FC5', 'FC1', 'C3', 'T7', 'CP5', 'CP1', 'P3', 'P7', 'O1', 'Oz', 'P4', 'P8', 'TP10', 'CP6', 'CP2', 'Cz', 'C4', 'FT10', 'FC6', 'FC2', 'F4', 'TP9']\n",
      "    Rejecting  epoch based on EEG : ['Fz', 'F3', 'F7', 'FT9', 'FC5', 'FC1', 'C3', 'T7', 'CP5', 'CP1', 'Pz', 'P3', 'P7', 'O1', 'Oz', 'O2', 'P4', 'P8', 'TP10', 'CP6', 'CP2', 'Cz', 'C4', 'FT10', 'FC6', 'FC2', 'F4', 'TP9']\n",
      "    Rejecting  epoch based on EEG : ['Fz', 'F3', 'F7', 'FT9', 'FC5', 'FC1', 'C3', 'T7', 'CP5', 'CP1', 'Pz', 'P3', 'P7', 'O1', 'Oz', 'O2', 'P4', 'P8', 'TP10', 'CP6', 'CP2', 'Cz', 'C4', 'FT10', 'FC6', 'FC2', 'F4', 'TP9']\n",
      "    Rejecting  epoch based on EEG : ['FT9', 'FC5', 'T7', 'C4', 'FT10']\n",
      "    Rejecting  epoch based on EEG : ['FT9', 'FC5', 'C4']\n",
      "    Rejecting  epoch based on EEG : ['Fz', 'F3', 'F7', 'FT9', 'FC5', 'T7', 'CP5', 'P3', 'P7', 'O1', 'P4', 'P8', 'CP6', 'CP2', 'C4', 'T8', 'FT10', 'FC6', 'FC2', 'F4']\n",
      "    Rejecting  epoch based on EEG : ['Fz', 'F3', 'FT9', 'FC5', 'FC1', 'C3', 'T7', 'CP5', 'CP1', 'P3', 'CP6', 'CP2', 'Cz', 'C4', 'FT10', 'FC6', 'FC2', 'F4']\n",
      "    Rejecting  epoch based on EEG : ['Fz', 'F3', 'FT9', 'FC5', 'FC1', 'C3', 'T7', 'CP5', 'CP1', 'P3', 'CP6', 'CP2', 'Cz', 'C4', 'FT10', 'FC6', 'FC2', 'F4']\n",
      "    Rejecting  epoch based on EEG : ['FC5']\n",
      "    Rejecting  epoch based on EEG : ['FC5']\n",
      "    Rejecting  epoch based on EEG : ['Fz', 'F3', 'F7', 'FT9', 'FC5', 'FC1', 'C3', 'T7', 'CP5', 'CP1', 'Pz', 'P3', 'P7', 'O1', 'Oz', 'O2', 'P4', 'P8', 'TP10', 'CP6', 'CP2', 'Cz', 'C4', 'FT10', 'FC6', 'FC2', 'F4', 'TP9']\n",
      "    Rejecting  epoch based on EEG : ['Fz', 'F3', 'F7', 'FT9', 'FC5', 'FC1', 'C3', 'T7', 'CP5', 'CP1', 'Pz', 'P3', 'P7', 'O1', 'Oz', 'O2', 'P4', 'P8', 'TP10', 'CP6', 'CP2', 'Cz', 'C4', 'FT10', 'FC6', 'FC2', 'F4', 'TP9']\n",
      "    Rejecting  epoch based on EEG : ['Fz', 'F3', 'FT9', 'FC5', 'FC1', 'C3', 'T7', 'CP5', 'CP1', 'CP6', 'CP2', 'Cz', 'C4', 'FT10', 'FC6', 'FC2', 'F4']\n",
      "    Rejecting  epoch based on EEG : ['Fz', 'F3', 'FT9', 'FC5', 'FC1', 'C3', 'T7', 'CP5', 'CP6', 'CP2', 'Cz', 'C4', 'FT10', 'FC6', 'FC2', 'F4']\n",
      "    Rejecting  epoch based on EEG : ['CP5', 'CP6']\n",
      "    Rejecting  epoch based on EEG : ['F3', 'FT9', 'FC5', 'FC1', 'C3', 'T7', 'CP6', 'C4', 'FC2']\n",
      "    Rejecting  epoch based on EEG : ['F3', 'FT9', 'FC5', 'FC1', 'C3', 'T7', 'CP6', 'C4', 'FC2']\n",
      "    Rejecting  epoch based on EEG : ['FC5']\n",
      "    Rejecting  epoch based on EEG : ['FT9', 'FC5']\n",
      "    Rejecting  epoch based on EEG : ['FT9', 'FC5']\n",
      "    Rejecting  epoch based on EEG : ['FT9']\n",
      "    Rejecting  epoch based on EEG : ['Fz', 'F3', 'FT9', 'FC5', 'FC1', 'C3', 'T7', 'CP5', 'C4', 'FT10', 'FC2', 'F4']\n",
      "    Rejecting  epoch based on EEG : ['Fz', 'F3', 'FT9', 'FC5', 'FC1', 'C3', 'T7', 'CP5', 'C4', 'FT10', 'FC2', 'F4']\n",
      "    Rejecting  epoch based on EEG : ['FT9']\n",
      "    Rejecting  epoch based on EEG : ['Fz', 'F3', 'F7', 'FT9', 'FC5', 'FC1', 'C3', 'T7', 'CP5', 'CP1', 'Pz', 'P3', 'P7', 'Oz', 'P4', 'CP6', 'CP2', 'Cz', 'C4', 'FT10', 'FC6', 'FC2', 'F4']\n",
      "    Rejecting  epoch based on EEG : ['Fz', 'F3', 'F7', 'FT9', 'FC5', 'FC1', 'C3', 'T7', 'CP5', 'CP1', 'Pz', 'P3', 'P7', 'O1', 'Oz', 'O2', 'P4', 'P8', 'TP10', 'CP6', 'CP2', 'Cz', 'C4', 'T8', 'FT10', 'FC6', 'FC2', 'F4', 'F8', 'TP9']\n",
      "    Rejecting  epoch based on EEG : ['FT9', 'CP5', 'CP6']\n",
      "    Rejecting  epoch based on EEG : ['CP5']\n",
      "    Rejecting  epoch based on EEG : ['FT9', 'CP5', 'P7']\n",
      "    Rejecting  epoch based on EEG : ['Fz', 'F3', 'F7', 'FT9', 'FC5', 'FC1', 'C3', 'T7', 'CP5', 'CP1', 'CP6', 'CP2', 'Cz', 'C4', 'FT10', 'FC6', 'FC2', 'F4']\n",
      "    Rejecting  epoch based on EEG : ['Fz', 'F3', 'F7', 'FT9', 'FC5', 'FC1', 'C3', 'T7', 'CP5', 'CP1', 'CP6', 'CP2', 'Cz', 'C4', 'FT10', 'FC6', 'FC2', 'F4']\n",
      "    Rejecting  epoch based on EEG : ['FT9', 'FC5', 'C3', 'T7', 'CP5', 'C4', 'FT10', 'FC2']\n",
      "    Rejecting  epoch based on EEG : ['F7', 'FT9', 'FC5', 'C3', 'T7', 'C4', 'FT10']\n",
      "    Rejecting  epoch based on EEG : ['F7', 'FT9', 'FC5', 'C3', 'T7', 'C4', 'FT10']\n",
      "    Rejecting  epoch based on EEG : ['FT9']\n",
      "    Rejecting  epoch based on EEG : ['FT9']\n",
      "    Rejecting  epoch based on EEG : ['FT9']\n",
      "    Rejecting  epoch based on EEG : ['FT9']\n",
      "    Rejecting  epoch based on EEG : ['F3', 'FT9', 'FC5', 'FC1', 'C3', 'C4', 'FC2']\n",
      "    Rejecting  epoch based on EEG : ['Fz', 'F3', 'F7', 'FT9', 'FC5', 'FC1', 'C3', 'T7', 'CP5', 'CP1', 'CP6', 'Cz', 'C4', 'FT10', 'FC6', 'FC2', 'F4']\n",
      "    Rejecting  epoch based on EEG : ['Fz', 'F3', 'F7', 'FT9', 'FC5', 'FC1', 'C3', 'T7', 'CP5', 'CP1', 'CP6', 'Cz', 'C4', 'FT10', 'FC6', 'FC2', 'F4']\n",
      "    Rejecting  epoch based on EEG : ['FT9', 'FT10']\n",
      "    Rejecting  epoch based on EEG : ['FT9']\n",
      "    Rejecting  epoch based on EEG : ['FT9']\n",
      "    Rejecting  epoch based on EEG : ['F7', 'FT9', 'FC5', 'C3', 'T7', 'CP5', 'CP6', 'C4', 'FT10', 'FC6', 'FC2']\n",
      "    Rejecting  epoch based on EEG : ['FT10']\n",
      "    Rejecting  epoch based on EEG : ['FT9', 'FT10']\n",
      "    Rejecting  epoch based on EEG : ['FT9', 'FT10']\n",
      "    Rejecting  epoch based on EEG : ['Fz', 'F3', 'FT9', 'FC5', 'FC1', 'C3', 'T7', 'CP5', 'CP1', 'CP6', 'CP2', 'Cz', 'C4', 'FT10', 'FC6', 'FC2', 'F4']\n",
      "    Rejecting  epoch based on EEG : ['Fz', 'F3', 'FT9', 'FC5', 'FC1', 'C3', 'T7', 'CP5', 'CP1', 'CP6', 'CP2', 'Cz', 'C4', 'FT10', 'FC6', 'FC2', 'F4']\n",
      "    Rejecting  epoch based on EEG : ['FT9', 'P8', 'FT10']\n",
      "    Rejecting  epoch based on EEG : ['FT10']\n",
      "    Rejecting  epoch based on EEG : ['FT10']\n",
      "    Rejecting  epoch based on EEG : ['FT9', 'FC5', 'T7', 'CP5', 'P3', 'P7', 'P4', 'P8', 'CP6', 'CP2', 'C4', 'FT10', 'FC6', 'FC2']\n",
      "    Rejecting  epoch based on EEG : ['FT9', 'FC5', 'C3', 'T7', 'CP5', 'P3', 'P7', 'P4', 'P8', 'CP6', 'CP2', 'C4', 'FT10', 'FC6', 'FC2']\n",
      "    Rejecting  epoch based on EEG : ['FT9', 'FT10']\n",
      "    Rejecting  epoch based on EEG : ['FT9', 'FT10']\n",
      "    Rejecting  epoch based on EEG : ['FT9', 'FT10']\n",
      "    Rejecting  epoch based on EEG : ['Fz', 'F3', 'F7', 'FT9', 'FC5', 'FC1', 'C3', 'T7', 'CP5', 'CP1', 'CP6', 'CP2', 'Cz', 'C4', 'T8', 'FT10', 'FC6', 'FC2', 'F4', 'F8']\n",
      "    Rejecting  epoch based on EEG : ['FT10']\n",
      "    Rejecting  epoch based on EEG : ['CP5']\n",
      "    Rejecting  epoch based on EEG : ['CP5']\n",
      "    Rejecting  epoch based on EEG : ['CP5', 'P7', 'P8', 'CP6', 'C4']\n",
      "    Rejecting  epoch based on EEG : ['Fz', 'FT9', 'FC5', 'T7', 'CP5', 'P7', 'P8', 'CP6', 'C4', 'FC6', 'FC2']\n",
      "    Rejecting  epoch based on EEG : ['Fz', 'F3', 'FT9', 'FC5', 'FC1', 'C3', 'CP5', 'CP6', 'C4', 'FC6', 'FC2', 'F4']\n",
      "    Rejecting  epoch based on EEG : ['Fz', 'F3', 'FT9', 'FC5', 'FC1', 'C3', 'T7', 'CP5', 'CP1', 'CP6', 'CP2', 'Cz', 'C4', 'FT10', 'FC6', 'FC2', 'F4']\n",
      "    Rejecting  epoch based on EEG : ['P8']\n",
      "    Rejecting  epoch based on EEG : ['P8']\n",
      "    Rejecting  epoch based on EEG : ['Fz', 'F3', 'F7', 'FT9', 'FC5', 'FC1', 'C3', 'CP5', 'CP6', 'C4', 'FT10', 'FC6', 'FC2', 'F4']\n",
      "    Rejecting  epoch based on EEG : ['Fz', 'F3', 'F7', 'FT9', 'FC5', 'FC1', 'C3', 'T7', 'CP5', 'CP1', 'CP6', 'CP2', 'Cz', 'C4', 'FT10', 'FC6', 'FC2', 'F4']\n",
      "    Rejecting  epoch based on EEG : ['Fz', 'F3', 'F7', 'FT9', 'FC5', 'FC1', 'C3', 'T7', 'CP5', 'CP1', 'CP6', 'CP2', 'Cz', 'C4', 'FT10', 'FC6', 'FC2', 'F4']\n",
      "    Rejecting  epoch based on EEG : ['FT9']\n",
      "    Rejecting  epoch based on EEG : ['FT9', 'T7', 'FT10']\n",
      "    Rejecting  epoch based on EEG : ['Fz', 'F3', 'F7', 'FC5', 'FC1', 'C3', 'T7', 'CP5', 'CP1', 'P3', 'P7', 'P4', 'CP6', 'CP2', 'Cz', 'C4', 'FC6', 'FC2']\n",
      "    Rejecting  epoch based on EEG : ['Fz', 'F3', 'F7', 'FC5', 'FC1', 'C3', 'T7', 'CP5', 'CP1', 'P3', 'P7', 'P4', 'CP6', 'CP2', 'Cz', 'C4', 'FC6', 'FC2']\n",
      "    Rejecting  epoch based on EEG : ['Fz', 'F3', 'FT9', 'FC5', 'FC1', 'C3', 'CP5', 'CP6', 'C4', 'FT10', 'FC6', 'FC2', 'F4']\n",
      "    Rejecting  epoch based on EEG : ['Fz', 'F3', 'FT9', 'FC5', 'FC1', 'C3', 'CP5', 'CP6', 'C4', 'FT10', 'FC6', 'FC2', 'F4']\n",
      "    Rejecting  epoch based on EEG : ['FC5']\n",
      "154 bad epochs dropped\n"
     ]
    },
    {
     "name": "stderr",
     "output_type": "stream",
     "text": [
      "[Parallel(n_jobs=1)]: Done  17 tasks      | elapsed:    1.7s\n",
      "[Parallel(n_jobs=1)]: Done  17 tasks      | elapsed:    0.3s\n",
      "[Parallel(n_jobs=1)]: Done  17 tasks      | elapsed:    1.9s\n",
      "[Parallel(n_jobs=1)]: Done  17 tasks      | elapsed:    0.4s\n"
     ]
    },
    {
     "name": "stdout",
     "output_type": "stream",
     "text": [
      "Opening raw data file /Users/chaohan/Library/CloudStorage/OneDrive-UniversityofToronto/Projects/Yas accent/data_preprocessed/3_ica/Yas_178_corr_prep_ica.fif...\n",
      "    Range : 0 ... 879009 =      0.000 ...  3516.036 secs\n",
      "Ready.\n",
      "Reading 0 ... 879009  =      0.000 ...  3516.036 secs...\n"
     ]
    },
    {
     "name": "stderr",
     "output_type": "stream",
     "text": [
      "/var/folders/j8/8nyf6njj5nzfjcv6s23y3nn40000gn/T/ipykernel_37645/644758328.py:15: RuntimeWarning: This filename (/Users/chaohan/Library/CloudStorage/OneDrive-UniversityofToronto/Projects/Yas accent/data_preprocessed/3_ica/Yas_178_corr_prep_ica.fif) does not conform to MNE naming conventions. All raw files should end with raw.fif, raw_sss.fif, raw_tsss.fif, _meg.fif, _eeg.fif, _ieeg.fif, raw.fif.gz, raw_sss.fif.gz, raw_tsss.fif.gz, _meg.fif.gz, _eeg.fif.gz or _ieeg.fif.gz\n",
      "  raw = mne.io.read_raw_fif(input_dir + file, preload = True)\n"
     ]
    },
    {
     "name": "stdout",
     "output_type": "stream",
     "text": [
      "EEG channel type selected for re-referencing\n",
      "Applying a custom ('EEG',) reference.\n",
      "Not setting metadata\n",
      "1651 matching events found\n",
      "No baseline correction applied\n",
      "0 projection items activated\n",
      "Using data from preloaded Raw for 1651 events and 751 original time points ...\n",
      "    Rejecting  epoch based on EEG : ['FT10']\n",
      "    Rejecting  epoch based on EEG : ['FT10']\n",
      "    Rejecting  epoch based on EEG : ['FT10']\n",
      "    Rejecting  epoch based on EEG : ['FT10']\n",
      "    Rejecting  epoch based on EEG : ['FT10']\n",
      "    Rejecting  epoch based on EEG : ['CP6']\n",
      "    Rejecting  epoch based on EEG : ['CP6']\n",
      "    Rejecting  epoch based on EEG : ['CP6']\n",
      "    Rejecting  epoch based on EEG : ['FC5', 'C3', 'CP6', 'C4', 'FT10']\n",
      "    Rejecting  epoch based on EEG : ['FC5', 'C3', 'CP6', 'C4', 'FT10']\n",
      "    Rejecting  epoch based on EEG : ['CP6']\n",
      "    Rejecting  epoch based on EEG : ['FT10']\n",
      "    Rejecting  epoch based on EEG : ['CP6']\n",
      "    Rejecting  epoch based on EEG : ['CP6']\n",
      "    Rejecting  epoch based on EEG : ['CP6']\n",
      "    Rejecting  epoch based on EEG : ['CP6']\n",
      "    Rejecting  epoch based on EEG : ['CP6']\n",
      "    Rejecting  epoch based on EEG : ['CP6']\n",
      "18 bad epochs dropped\n"
     ]
    },
    {
     "name": "stderr",
     "output_type": "stream",
     "text": [
      "[Parallel(n_jobs=1)]: Done  17 tasks      | elapsed:    1.8s\n",
      "[Parallel(n_jobs=1)]: Done  17 tasks      | elapsed:    0.4s\n",
      "[Parallel(n_jobs=1)]: Done  17 tasks      | elapsed:    1.9s\n",
      "[Parallel(n_jobs=1)]: Done  17 tasks      | elapsed:    0.4s\n"
     ]
    },
    {
     "name": "stdout",
     "output_type": "stream",
     "text": [
      "Opening raw data file /Users/chaohan/Library/CloudStorage/OneDrive-UniversityofToronto/Projects/Yas accent/data_preprocessed/3_ica/Yas_161_corr_prep_ica.fif...\n",
      "    Range : 2813 ... 858336 =     11.252 ...  3433.344 secs\n",
      "Ready.\n",
      "Reading 0 ... 855523  =      0.000 ...  3422.092 secs...\n"
     ]
    },
    {
     "name": "stderr",
     "output_type": "stream",
     "text": [
      "/var/folders/j8/8nyf6njj5nzfjcv6s23y3nn40000gn/T/ipykernel_37645/644758328.py:15: RuntimeWarning: This filename (/Users/chaohan/Library/CloudStorage/OneDrive-UniversityofToronto/Projects/Yas accent/data_preprocessed/3_ica/Yas_161_corr_prep_ica.fif) does not conform to MNE naming conventions. All raw files should end with raw.fif, raw_sss.fif, raw_tsss.fif, _meg.fif, _eeg.fif, _ieeg.fif, raw.fif.gz, raw_sss.fif.gz, raw_tsss.fif.gz, _meg.fif.gz, _eeg.fif.gz or _ieeg.fif.gz\n",
      "  raw = mne.io.read_raw_fif(input_dir + file, preload = True)\n"
     ]
    },
    {
     "name": "stdout",
     "output_type": "stream",
     "text": [
      "EEG channel type selected for re-referencing\n",
      "Applying a custom ('EEG',) reference.\n",
      "Not setting metadata\n",
      "1650 matching events found\n",
      "No baseline correction applied\n",
      "0 projection items activated\n",
      "Using data from preloaded Raw for 1650 events and 751 original time points ...\n",
      "    Rejecting  epoch based on EEG : ['T8']\n",
      "    Rejecting  epoch based on EEG : ['T8']\n",
      "    Rejecting  epoch based on EEG : ['FT10']\n",
      "    Rejecting  epoch based on EEG : ['F3', 'CP6', 'T8', 'FT10']\n",
      "    Rejecting  epoch based on EEG : ['F3']\n",
      "    Rejecting  epoch based on EEG : ['T8']\n",
      "    Rejecting  epoch based on EEG : ['T8']\n",
      "    Rejecting  epoch based on EEG : ['T8']\n",
      "    Rejecting  epoch based on EEG : ['F3']\n",
      "    Rejecting  epoch based on EEG : ['T8', 'FT10']\n",
      "10 bad epochs dropped\n"
     ]
    },
    {
     "name": "stderr",
     "output_type": "stream",
     "text": [
      "[Parallel(n_jobs=1)]: Done  17 tasks      | elapsed:    1.8s\n",
      "[Parallel(n_jobs=1)]: Done  17 tasks      | elapsed:    0.4s\n",
      "[Parallel(n_jobs=1)]: Done  17 tasks      | elapsed:    2.0s\n",
      "[Parallel(n_jobs=1)]: Done  17 tasks      | elapsed:    0.4s\n"
     ]
    },
    {
     "name": "stdout",
     "output_type": "stream",
     "text": [
      "Opening raw data file /Users/chaohan/Library/CloudStorage/OneDrive-UniversityofToronto/Projects/Yas accent/data_preprocessed/3_ica/Yas_236_corr_prep_ica.fif...\n",
      "    Range : 1979 ... 903330 =      7.916 ...  3613.320 secs\n",
      "Ready.\n",
      "Reading 0 ... 901351  =      0.000 ...  3605.404 secs...\n"
     ]
    },
    {
     "name": "stderr",
     "output_type": "stream",
     "text": [
      "/var/folders/j8/8nyf6njj5nzfjcv6s23y3nn40000gn/T/ipykernel_37645/644758328.py:15: RuntimeWarning: This filename (/Users/chaohan/Library/CloudStorage/OneDrive-UniversityofToronto/Projects/Yas accent/data_preprocessed/3_ica/Yas_236_corr_prep_ica.fif) does not conform to MNE naming conventions. All raw files should end with raw.fif, raw_sss.fif, raw_tsss.fif, _meg.fif, _eeg.fif, _ieeg.fif, raw.fif.gz, raw_sss.fif.gz, raw_tsss.fif.gz, _meg.fif.gz, _eeg.fif.gz or _ieeg.fif.gz\n",
      "  raw = mne.io.read_raw_fif(input_dir + file, preload = True)\n"
     ]
    },
    {
     "name": "stdout",
     "output_type": "stream",
     "text": [
      "EEG channel type selected for re-referencing\n",
      "Applying a custom ('EEG',) reference.\n",
      "Not setting metadata\n",
      "1650 matching events found\n",
      "No baseline correction applied\n",
      "0 projection items activated\n",
      "Using data from preloaded Raw for 1650 events and 751 original time points ...\n",
      "    Rejecting  epoch based on EEG : ['F3', 'F7', 'FC5', 'CP5', 'C4', 'T8', 'FT10', 'FC6', 'FC2', 'F4', 'F8']\n",
      "    Rejecting  epoch based on EEG : ['F3', 'F7', 'FC5', 'CP5', 'C4', 'T8', 'FT10', 'FC6', 'FC2', 'F4', 'F8']\n",
      "    Rejecting  epoch based on EEG : ['F3', 'F7', 'FT9', 'FC5', 'T7', 'CP5', 'P7', 'CP6', 'C4', 'T8', 'FT10', 'FC6', 'FC2', 'F4', 'F8']\n",
      "    Rejecting  epoch based on EEG : ['F3', 'F7', 'FT9', 'FC5', 'T7', 'CP5', 'P7', 'CP6', 'C4', 'T8', 'FT10', 'FC6', 'FC2', 'F4', 'F8']\n",
      "    Rejecting  epoch based on EEG : ['FC5', 'FC6']\n",
      "    Rejecting  epoch based on EEG : ['F3', 'F7', 'FT9', 'FC5', 'T7', 'CP5', 'P3', 'P7', 'CP6', 'C4', 'T8', 'FT10', 'FC6', 'FC2', 'F4', 'F8']\n",
      "    Rejecting  epoch based on EEG : ['F3', 'F7', 'FT9', 'FC5', 'T7', 'CP5', 'P3', 'P7', 'CP6', 'C4', 'T8', 'FT10', 'FC6', 'FC2', 'F4', 'F8']\n",
      "    Rejecting  epoch based on EEG : ['Fz', 'F3', 'F7', 'FT9', 'FC5', 'FC1', 'T7', 'CP5', 'P3', 'P7', 'P8', 'CP6', 'C4', 'T8', 'FT10', 'FC6', 'FC2', 'F4', 'F8']\n",
      "    Rejecting  epoch based on EEG : ['Fz', 'F3', 'F7', 'FT9', 'FC5', 'FC1', 'T7', 'CP5', 'P3', 'P7', 'P8', 'CP6', 'C4', 'T8', 'FT10', 'FC6', 'FC2', 'F4', 'F8']\n",
      "    Rejecting  epoch based on EEG : ['F3', 'F7', 'FT9', 'FC5', 'T7', 'CP5', 'P3', 'P7', 'CP6', 'C4', 'T8', 'FT10', 'FC6', 'FC2', 'F4', 'F8']\n",
      "    Rejecting  epoch based on EEG : ['F3', 'F7', 'FT9', 'FC5', 'T7', 'CP5', 'P3', 'P7', 'CP6', 'C4', 'T8', 'FT10', 'FC6', 'FC2', 'F4', 'F8']\n",
      "    Rejecting  epoch based on EEG : ['F3', 'F7', 'FT9', 'FC5', 'T7', 'CP5', 'P7', 'CP6', 'C4', 'T8', 'FT10', 'FC6', 'FC2', 'F4', 'F8']\n",
      "    Rejecting  epoch based on EEG : ['F3', 'F7', 'FT9', 'FC5', 'T7', 'CP5', 'P7', 'CP6', 'C4', 'T8', 'FT10', 'FC6', 'FC2', 'F4', 'F8']\n",
      "    Rejecting  epoch based on EEG : ['FC5', 'FT10', 'FC6', 'F4']\n",
      "    Rejecting  epoch based on EEG : ['FC5', 'FT10', 'FC6', 'F4']\n",
      "    Rejecting  epoch based on EEG : ['F7', 'FT9', 'FC5', 'CP5', 'CP6', 'C4', 'T8', 'FT10', 'FC6', 'FC2', 'F4', 'F8']\n",
      "    Rejecting  epoch based on EEG : ['F7', 'FT9', 'FC5', 'CP5', 'CP6', 'C4', 'T8', 'FT10', 'FC6', 'FC2', 'F4', 'F8']\n",
      "    Rejecting  epoch based on EEG : ['F3', 'F7', 'FC5', 'CP5', 'P7', 'C4', 'T8', 'FT10', 'FC6', 'FC2', 'F4', 'F8']\n",
      "    Rejecting  epoch based on EEG : ['F3', 'F7', 'FC5', 'CP5', 'P7', 'C4', 'T8', 'FT10', 'FC6', 'FC2', 'F4', 'F8']\n",
      "    Rejecting  epoch based on EEG : ['F3', 'F7', 'FT9', 'FC5', 'T7', 'CP5', 'P7', 'CP6', 'C4', 'T8', 'FT10', 'FC6', 'FC2', 'F4', 'F8']\n",
      "    Rejecting  epoch based on EEG : ['F3', 'F7', 'FT9', 'FC5', 'T7', 'CP5', 'P7', 'CP6', 'C4', 'T8', 'FT10', 'FC6', 'FC2', 'F4', 'F8']\n",
      "    Rejecting  epoch based on EEG : ['FC5', 'FT10', 'FC6', 'F4']\n",
      "    Rejecting  epoch based on EEG : ['F3', 'F7', 'FT9', 'FC5', 'T7', 'CP5', 'P7', 'C4', 'T8', 'FT10', 'FC6', 'FC2', 'F4', 'F8']\n",
      "    Rejecting  epoch based on EEG : ['F3', 'F7', 'FT9', 'FC5', 'T7', 'CP5', 'P7', 'C4', 'T8', 'FT10', 'FC6', 'FC2', 'F4', 'F8']\n",
      "    Rejecting  epoch based on EEG : ['F3', 'F7', 'FT9', 'FC5', 'T7', 'CP5', 'P7', 'CP6', 'C4', 'T8', 'FT10', 'FC6', 'FC2', 'F4', 'F8']\n",
      "    Rejecting  epoch based on EEG : ['F3', 'F7', 'FT9', 'FC5', 'T7', 'CP5', 'P7', 'CP6', 'C4', 'T8', 'FT10', 'FC6', 'FC2', 'F4', 'F8']\n",
      "    Rejecting  epoch based on EEG : ['F3', 'F7', 'FT9', 'FC5', 'CP5', 'CP6', 'C4', 'T8', 'FT10', 'FC6', 'FC2', 'F4', 'F8']\n",
      "    Rejecting  epoch based on EEG : ['F7', 'FC5', 'CP5', 'FT10', 'FC6', 'FC2', 'F4']\n",
      "    Rejecting  epoch based on EEG : ['F3', 'F7', 'FT9', 'FC5', 'T7', 'CP5', 'P7', 'CP6', 'C4', 'T8', 'FT10', 'FC6', 'FC2', 'F4', 'F8']\n",
      "    Rejecting  epoch based on EEG : ['F3', 'F7', 'FT9', 'FC5', 'T7', 'CP5', 'P7', 'CP6', 'C4', 'T8', 'FT10', 'FC6', 'FC2', 'F4', 'F8']\n",
      "    Rejecting  epoch based on EEG : ['F3', 'F7', 'FT9', 'FC5', 'T7', 'CP5', 'P7', 'CP6', 'C4', 'T8', 'FT10', 'FC6', 'F4', 'F8']\n",
      "    Rejecting  epoch based on EEG : ['F3', 'F7', 'FT9', 'FC5', 'T7', 'CP5', 'P7', 'CP6', 'C4', 'T8', 'FT10', 'FC6', 'F4', 'F8']\n",
      "    Rejecting  epoch based on EEG : ['F7', 'FC5', 'CP5', 'T8', 'FT10', 'FC6', 'F4', 'F8']\n",
      "    Rejecting  epoch based on EEG : ['FC5', 'FC6', 'F4']\n",
      "    Rejecting  epoch based on EEG : ['FC5', 'FC6', 'F4']\n",
      "    Rejecting  epoch based on EEG : ['FC6']\n",
      "    Rejecting  epoch based on EEG : ['FC6']\n",
      "37 bad epochs dropped\n"
     ]
    },
    {
     "name": "stderr",
     "output_type": "stream",
     "text": [
      "[Parallel(n_jobs=1)]: Done  17 tasks      | elapsed:    1.8s\n",
      "[Parallel(n_jobs=1)]: Done  17 tasks      | elapsed:    0.4s\n",
      "[Parallel(n_jobs=1)]: Done  17 tasks      | elapsed:    1.9s\n",
      "[Parallel(n_jobs=1)]: Done  17 tasks      | elapsed:    0.4s\n"
     ]
    },
    {
     "name": "stdout",
     "output_type": "stream",
     "text": [
      "Opening raw data file /Users/chaohan/Library/CloudStorage/OneDrive-UniversityofToronto/Projects/Yas accent/data_preprocessed/3_ica/Yas_199_corr_prep_ica.fif...\n",
      "    Range : 2359 ... 869776 =      9.436 ...  3479.104 secs\n",
      "Ready.\n",
      "Reading 0 ... 867417  =      0.000 ...  3469.668 secs...\n"
     ]
    },
    {
     "name": "stderr",
     "output_type": "stream",
     "text": [
      "/var/folders/j8/8nyf6njj5nzfjcv6s23y3nn40000gn/T/ipykernel_37645/644758328.py:15: RuntimeWarning: This filename (/Users/chaohan/Library/CloudStorage/OneDrive-UniversityofToronto/Projects/Yas accent/data_preprocessed/3_ica/Yas_199_corr_prep_ica.fif) does not conform to MNE naming conventions. All raw files should end with raw.fif, raw_sss.fif, raw_tsss.fif, _meg.fif, _eeg.fif, _ieeg.fif, raw.fif.gz, raw_sss.fif.gz, raw_tsss.fif.gz, _meg.fif.gz, _eeg.fif.gz or _ieeg.fif.gz\n",
      "  raw = mne.io.read_raw_fif(input_dir + file, preload = True)\n"
     ]
    },
    {
     "name": "stdout",
     "output_type": "stream",
     "text": [
      "EEG channel type selected for re-referencing\n",
      "Applying a custom ('EEG',) reference.\n",
      "Not setting metadata\n",
      "1688 matching events found\n",
      "No baseline correction applied\n",
      "0 projection items activated\n",
      "Using data from preloaded Raw for 1688 events and 751 original time points ...\n",
      "    Rejecting  epoch based on EEG : ['C4', 'T8', 'F4', 'F8']\n",
      "    Rejecting  epoch based on EEG : ['C4', 'T8', 'F4', 'F8']\n",
      "    Rejecting  epoch based on EEG : ['FT9']\n",
      "    Rejecting  epoch based on EEG : ['FT9', 'CP5', 'P7']\n",
      "    Rejecting  epoch based on EEG : ['C4', 'F4', 'F8']\n",
      "5 bad epochs dropped\n"
     ]
    },
    {
     "name": "stderr",
     "output_type": "stream",
     "text": [
      "[Parallel(n_jobs=1)]: Done  17 tasks      | elapsed:    1.9s\n",
      "[Parallel(n_jobs=1)]: Done  17 tasks      | elapsed:    0.4s\n",
      "[Parallel(n_jobs=1)]: Done  17 tasks      | elapsed:    1.7s\n",
      "[Parallel(n_jobs=1)]: Done  17 tasks      | elapsed:    0.4s\n"
     ]
    },
    {
     "name": "stdout",
     "output_type": "stream",
     "text": [
      "Opening raw data file /Users/chaohan/Library/CloudStorage/OneDrive-UniversityofToronto/Projects/Yas accent/data_preprocessed/3_ica/Yas_107_corr_prep_ica.fif...\n",
      "    Range : 640 ... 852869 =      2.560 ...  3411.476 secs\n",
      "Ready.\n"
     ]
    },
    {
     "name": "stderr",
     "output_type": "stream",
     "text": [
      "/var/folders/j8/8nyf6njj5nzfjcv6s23y3nn40000gn/T/ipykernel_37645/644758328.py:15: RuntimeWarning: This filename (/Users/chaohan/Library/CloudStorage/OneDrive-UniversityofToronto/Projects/Yas accent/data_preprocessed/3_ica/Yas_107_corr_prep_ica.fif) does not conform to MNE naming conventions. All raw files should end with raw.fif, raw_sss.fif, raw_tsss.fif, _meg.fif, _eeg.fif, _ieeg.fif, raw.fif.gz, raw_sss.fif.gz, raw_tsss.fif.gz, _meg.fif.gz, _eeg.fif.gz or _ieeg.fif.gz\n",
      "  raw = mne.io.read_raw_fif(input_dir + file, preload = True)\n"
     ]
    },
    {
     "name": "stdout",
     "output_type": "stream",
     "text": [
      "Reading 0 ... 852229  =      0.000 ...  3408.916 secs...\n",
      "EEG channel type selected for re-referencing\n",
      "Applying a custom ('EEG',) reference.\n",
      "Not setting metadata\n",
      "1682 matching events found\n",
      "No baseline correction applied\n",
      "0 projection items activated\n",
      "Using data from preloaded Raw for 1682 events and 751 original time points ...\n",
      "0 bad epochs dropped\n"
     ]
    },
    {
     "name": "stderr",
     "output_type": "stream",
     "text": [
      "[Parallel(n_jobs=1)]: Done  17 tasks      | elapsed:    1.9s\n",
      "[Parallel(n_jobs=1)]: Done  17 tasks      | elapsed:    0.4s\n",
      "[Parallel(n_jobs=1)]: Done  17 tasks      | elapsed:    2.1s\n",
      "[Parallel(n_jobs=1)]: Done  17 tasks      | elapsed:    0.4s\n"
     ]
    },
    {
     "name": "stdout",
     "output_type": "stream",
     "text": [
      "Opening raw data file /Users/chaohan/Library/CloudStorage/OneDrive-UniversityofToronto/Projects/Yas accent/data_preprocessed/3_ica/Yas_149_corr_prep_ica.fif...\n"
     ]
    },
    {
     "name": "stderr",
     "output_type": "stream",
     "text": [
      "/var/folders/j8/8nyf6njj5nzfjcv6s23y3nn40000gn/T/ipykernel_37645/644758328.py:15: RuntimeWarning: This filename (/Users/chaohan/Library/CloudStorage/OneDrive-UniversityofToronto/Projects/Yas accent/data_preprocessed/3_ica/Yas_149_corr_prep_ica.fif) does not conform to MNE naming conventions. All raw files should end with raw.fif, raw_sss.fif, raw_tsss.fif, _meg.fif, _eeg.fif, _ieeg.fif, raw.fif.gz, raw_sss.fif.gz, raw_tsss.fif.gz, _meg.fif.gz, _eeg.fif.gz or _ieeg.fif.gz\n",
      "  raw = mne.io.read_raw_fif(input_dir + file, preload = True)\n"
     ]
    },
    {
     "name": "stdout",
     "output_type": "stream",
     "text": [
      "    Range : 13912 ... 882979 =     55.648 ...  3531.916 secs\n",
      "Ready.\n",
      "Reading 0 ... 869067  =      0.000 ...  3476.268 secs...\n",
      "EEG channel type selected for re-referencing\n",
      "Applying a custom ('EEG',) reference.\n",
      "Not setting metadata\n",
      "1727 matching events found\n",
      "No baseline correction applied\n",
      "0 projection items activated\n",
      "Using data from preloaded Raw for 1727 events and 751 original time points ...\n",
      "    Rejecting  epoch based on EEG : ['F4']\n",
      "    Rejecting  epoch based on EEG : ['FT10', 'F4', 'F8']\n",
      "    Rejecting  epoch based on EEG : ['FT10', 'F4', 'F8']\n",
      "    Rejecting  epoch based on EEG : ['FT10', 'F4', 'F8']\n",
      "    Rejecting  epoch based on EEG : ['F4']\n",
      "    Rejecting  epoch based on EEG : ['FT10', 'FC2', 'F4', 'F8']\n",
      "    Rejecting  epoch based on EEG : ['FT10', 'FC2', 'F4', 'F8']\n",
      "    Rejecting  epoch based on EEG : ['C4', 'FC2', 'F4']\n",
      "    Rejecting  epoch based on EEG : ['C4', 'FC2', 'F4']\n",
      "    Rejecting  epoch based on EEG : ['C4', 'F4']\n",
      "    Rejecting  epoch based on EEG : ['C4', 'FT10', 'FC2', 'F4']\n",
      "    Rejecting  epoch based on EEG : ['FT10', 'F4']\n",
      "    Rejecting  epoch based on EEG : ['FT10', 'F4']\n",
      "    Rejecting  epoch based on EEG : ['FT10', 'F4']\n",
      "    Rejecting  epoch based on EEG : ['F3', 'T7', 'F4']\n",
      "    Rejecting  epoch based on EEG : ['F3', 'T7', 'F4']\n",
      "    Rejecting  epoch based on EEG : ['F4']\n",
      "    Rejecting  epoch based on EEG : ['F4']\n",
      "    Rejecting  epoch based on EEG : ['F4']\n",
      "    Rejecting  epoch based on EEG : ['FT10', 'F4']\n",
      "    Rejecting  epoch based on EEG : ['F4']\n",
      "    Rejecting  epoch based on EEG : ['F4']\n",
      "    Rejecting  epoch based on EEG : ['FC5', 'CP6', 'C4', 'FT10', 'FC2', 'F4', 'F8']\n",
      "    Rejecting  epoch based on EEG : ['FC5', 'CP6', 'C4', 'FT10', 'FC2', 'F4', 'F8']\n",
      "    Rejecting  epoch based on EEG : ['C3', 'T7', 'FT10', 'FC2', 'F4']\n",
      "    Rejecting  epoch based on EEG : ['C3', 'T7', 'FT10', 'FC2', 'F4']\n",
      "    Rejecting  epoch based on EEG : ['C4', 'FC2', 'F4']\n",
      "    Rejecting  epoch based on EEG : ['FC5', 'C3', 'T7', 'CP6', 'C4', 'T8', 'FT10', 'FC2', 'F4', 'F8']\n",
      "    Rejecting  epoch based on EEG : ['FC5', 'C3', 'T7', 'CP5', 'C4', 'FT10', 'FC2', 'F4']\n",
      "    Rejecting  epoch based on EEG : ['FC5', 'C3', 'T7', 'CP5', 'C4', 'FT10', 'FC2', 'F4']\n",
      "    Rejecting  epoch based on EEG : ['FC5', 'C3', 'T7', 'CP5', 'C4', 'FT10', 'FC2', 'F4']\n",
      "    Rejecting  epoch based on EEG : ['C4', 'FT10', 'FC2', 'F4']\n",
      "    Rejecting  epoch based on EEG : ['C4', 'FT10', 'FC2', 'F4']\n",
      "    Rejecting  epoch based on EEG : ['F4']\n",
      "    Rejecting  epoch based on EEG : ['F4']\n",
      "    Rejecting  epoch based on EEG : ['F3', 'FT10', 'F4']\n",
      "    Rejecting  epoch based on EEG : ['F3', 'T8', 'FT10', 'FC2', 'F4']\n",
      "    Rejecting  epoch based on EEG : ['F4']\n",
      "    Rejecting  epoch based on EEG : ['FC5', 'C3', 'T7', 'CP5', 'CP6', 'C4', 'FT10', 'FC2', 'F4']\n",
      "    Rejecting  epoch based on EEG : ['C4', 'FC2', 'F4']\n",
      "    Rejecting  epoch based on EEG : ['C4', 'FC2', 'F4']\n",
      "    Rejecting  epoch based on EEG : ['FC5', 'C3', 'T7', 'CP6', 'C4', 'FT10', 'FC2', 'F4']\n",
      "    Rejecting  epoch based on EEG : ['FC5', 'C3', 'T7', 'CP6', 'C4', 'FT10', 'FC2', 'F4']\n",
      "    Rejecting  epoch based on EEG : ['FC5', 'C3', 'T7', 'CP5']\n",
      "    Rejecting  epoch based on EEG : ['FT9', 'C3', 'T7', 'CP5', 'CP1', 'Pz', 'P3', 'P7', 'O1', 'Oz', 'P4', 'CP2', 'Cz', 'C4', 'F8']\n",
      "    Rejecting  epoch based on EEG : ['FT9', 'C3', 'T7', 'CP5', 'CP1', 'Pz', 'P3', 'P7', 'O1', 'Oz', 'P4', 'CP2', 'Cz', 'C4', 'F8']\n",
      "    Rejecting  epoch based on EEG : ['F4']\n",
      "    Rejecting  epoch based on EEG : ['F4']\n",
      "48 bad epochs dropped\n"
     ]
    },
    {
     "name": "stderr",
     "output_type": "stream",
     "text": [
      "[Parallel(n_jobs=1)]: Done  17 tasks      | elapsed:    1.7s\n",
      "[Parallel(n_jobs=1)]: Done  17 tasks      | elapsed:    0.4s\n",
      "[Parallel(n_jobs=1)]: Done  17 tasks      | elapsed:    2.0s\n",
      "[Parallel(n_jobs=1)]: Done  17 tasks      | elapsed:    0.4s\n"
     ]
    },
    {
     "name": "stdout",
     "output_type": "stream",
     "text": [
      "Opening raw data file /Users/chaohan/Library/CloudStorage/OneDrive-UniversityofToronto/Projects/Yas accent/data_preprocessed/3_ica/Yas_250_corr_prep_ica.fif...\n",
      "    Range : 71 ... 852262 =      0.284 ...  3409.048 secs\n",
      "Ready.\n",
      "Reading 0 ... 852191  =      0.000 ...  3408.764 secs...\n"
     ]
    },
    {
     "name": "stderr",
     "output_type": "stream",
     "text": [
      "/var/folders/j8/8nyf6njj5nzfjcv6s23y3nn40000gn/T/ipykernel_37645/644758328.py:15: RuntimeWarning: This filename (/Users/chaohan/Library/CloudStorage/OneDrive-UniversityofToronto/Projects/Yas accent/data_preprocessed/3_ica/Yas_250_corr_prep_ica.fif) does not conform to MNE naming conventions. All raw files should end with raw.fif, raw_sss.fif, raw_tsss.fif, _meg.fif, _eeg.fif, _ieeg.fif, raw.fif.gz, raw_sss.fif.gz, raw_tsss.fif.gz, _meg.fif.gz, _eeg.fif.gz or _ieeg.fif.gz\n",
      "  raw = mne.io.read_raw_fif(input_dir + file, preload = True)\n"
     ]
    },
    {
     "name": "stdout",
     "output_type": "stream",
     "text": [
      "EEG channel type selected for re-referencing\n",
      "Applying a custom ('EEG',) reference.\n",
      "Not setting metadata\n",
      "1684 matching events found\n",
      "No baseline correction applied\n",
      "0 projection items activated\n",
      "Using data from preloaded Raw for 1684 events and 751 original time points ...\n",
      "    Rejecting  epoch based on EEG : ['FC5']\n",
      "    Rejecting  epoch based on EEG : ['FC5']\n",
      "    Rejecting  epoch based on EEG : ['FC5', 'C3', 'CP5', 'C4']\n",
      "    Rejecting  epoch based on EEG : ['FC5', 'C3', 'C4']\n",
      "    Rejecting  epoch based on EEG : ['FC5']\n",
      "    Rejecting  epoch based on EEG : ['FC5']\n",
      "    Rejecting  epoch based on EEG : ['FC5']\n",
      "    Rejecting  epoch based on EEG : ['FC5']\n",
      "8 bad epochs dropped\n"
     ]
    },
    {
     "name": "stderr",
     "output_type": "stream",
     "text": [
      "[Parallel(n_jobs=1)]: Done  17 tasks      | elapsed:    1.8s\n",
      "[Parallel(n_jobs=1)]: Done  17 tasks      | elapsed:    0.4s\n",
      "[Parallel(n_jobs=1)]: Done  17 tasks      | elapsed:    1.9s\n",
      "[Parallel(n_jobs=1)]: Done  17 tasks      | elapsed:    0.4s\n"
     ]
    },
    {
     "name": "stdout",
     "output_type": "stream",
     "text": [
      "Opening raw data file /Users/chaohan/Library/CloudStorage/OneDrive-UniversityofToronto/Projects/Yas accent/data_preprocessed/3_ica/Yas_155_corr_prep_ica.fif...\n",
      "    Range : 2188 ... 893506 =      8.752 ...  3574.024 secs\n",
      "Ready.\n",
      "Reading 0 ... 891318  =      0.000 ...  3565.272 secs...\n"
     ]
    },
    {
     "name": "stderr",
     "output_type": "stream",
     "text": [
      "/var/folders/j8/8nyf6njj5nzfjcv6s23y3nn40000gn/T/ipykernel_37645/644758328.py:15: RuntimeWarning: This filename (/Users/chaohan/Library/CloudStorage/OneDrive-UniversityofToronto/Projects/Yas accent/data_preprocessed/3_ica/Yas_155_corr_prep_ica.fif) does not conform to MNE naming conventions. All raw files should end with raw.fif, raw_sss.fif, raw_tsss.fif, _meg.fif, _eeg.fif, _ieeg.fif, raw.fif.gz, raw_sss.fif.gz, raw_tsss.fif.gz, _meg.fif.gz, _eeg.fif.gz or _ieeg.fif.gz\n",
      "  raw = mne.io.read_raw_fif(input_dir + file, preload = True)\n"
     ]
    },
    {
     "name": "stdout",
     "output_type": "stream",
     "text": [
      "EEG channel type selected for re-referencing\n",
      "Applying a custom ('EEG',) reference.\n",
      "Not setting metadata\n",
      "1714 matching events found\n",
      "No baseline correction applied\n",
      "0 projection items activated\n",
      "Using data from preloaded Raw for 1714 events and 751 original time points ...\n",
      "    Rejecting  epoch based on EEG : ['Fz', 'F3', 'P7', 'F4']\n",
      "    Rejecting  epoch based on EEG : ['Fz', 'F3', 'P7', 'F4']\n",
      "    Rejecting  epoch based on EEG : ['Fz', 'F3', 'F4']\n",
      "    Rejecting  epoch based on EEG : ['Fz', 'F3', 'F4']\n",
      "    Rejecting  epoch based on EEG : ['Fz', 'F3', 'F4']\n",
      "    Rejecting  epoch based on EEG : ['CP5', 'P7']\n",
      "    Rejecting  epoch based on EEG : ['F3']\n",
      "    Rejecting  epoch based on EEG : ['F3']\n",
      "    Rejecting  epoch based on EEG : ['F7', 'CP5', 'FC6', 'F8']\n",
      "    Rejecting  epoch based on EEG : ['F3']\n",
      "    Rejecting  epoch based on EEG : ['Fz', 'F3', 'F4']\n",
      "    Rejecting  epoch based on EEG : ['Fz', 'F3', 'F4']\n",
      "    Rejecting  epoch based on EEG : ['F3']\n",
      "    Rejecting  epoch based on EEG : ['F3']\n",
      "    Rejecting  epoch based on EEG : ['F3']\n",
      "15 bad epochs dropped\n"
     ]
    },
    {
     "name": "stderr",
     "output_type": "stream",
     "text": [
      "[Parallel(n_jobs=1)]: Done  17 tasks      | elapsed:    2.3s\n",
      "[Parallel(n_jobs=1)]: Done  17 tasks      | elapsed:    0.4s\n",
      "[Parallel(n_jobs=1)]: Done  17 tasks      | elapsed:    1.8s\n",
      "[Parallel(n_jobs=1)]: Done  17 tasks      | elapsed:    0.4s\n"
     ]
    },
    {
     "name": "stdout",
     "output_type": "stream",
     "text": [
      "Opening raw data file /Users/chaohan/Library/CloudStorage/OneDrive-UniversityofToronto/Projects/Yas accent/data_preprocessed/3_ica/Yas_202_corr_prep_ica.fif...\n",
      "    Range : 0 ... 864496 =      0.000 ...  3457.984 secs\n",
      "Ready.\n",
      "Reading 0 ... 864496  =      0.000 ...  3457.984 secs...\n"
     ]
    },
    {
     "name": "stderr",
     "output_type": "stream",
     "text": [
      "/var/folders/j8/8nyf6njj5nzfjcv6s23y3nn40000gn/T/ipykernel_37645/644758328.py:15: RuntimeWarning: This filename (/Users/chaohan/Library/CloudStorage/OneDrive-UniversityofToronto/Projects/Yas accent/data_preprocessed/3_ica/Yas_202_corr_prep_ica.fif) does not conform to MNE naming conventions. All raw files should end with raw.fif, raw_sss.fif, raw_tsss.fif, _meg.fif, _eeg.fif, _ieeg.fif, raw.fif.gz, raw_sss.fif.gz, raw_tsss.fif.gz, _meg.fif.gz, _eeg.fif.gz or _ieeg.fif.gz\n",
      "  raw = mne.io.read_raw_fif(input_dir + file, preload = True)\n"
     ]
    },
    {
     "name": "stdout",
     "output_type": "stream",
     "text": [
      "EEG channel type selected for re-referencing\n",
      "Applying a custom ('EEG',) reference.\n",
      "Not setting metadata\n",
      "1639 matching events found\n",
      "No baseline correction applied\n",
      "0 projection items activated\n",
      "Using data from preloaded Raw for 1639 events and 751 original time points ...\n",
      "0 bad epochs dropped\n"
     ]
    },
    {
     "name": "stderr",
     "output_type": "stream",
     "text": [
      "[Parallel(n_jobs=1)]: Done  17 tasks      | elapsed:    1.8s\n",
      "[Parallel(n_jobs=1)]: Done  17 tasks      | elapsed:    0.4s\n",
      "[Parallel(n_jobs=1)]: Done  17 tasks      | elapsed:    1.8s\n",
      "[Parallel(n_jobs=1)]: Done  17 tasks      | elapsed:    0.4s\n"
     ]
    },
    {
     "name": "stdout",
     "output_type": "stream",
     "text": [
      "Opening raw data file /Users/chaohan/Library/CloudStorage/OneDrive-UniversityofToronto/Projects/Yas accent/data_preprocessed/3_ica/Yas_185_corr_prep_ica.fif...\n",
      "    Range : 0 ... 867994 =      0.000 ...  3471.976 secs\n",
      "Ready.\n"
     ]
    },
    {
     "name": "stderr",
     "output_type": "stream",
     "text": [
      "/var/folders/j8/8nyf6njj5nzfjcv6s23y3nn40000gn/T/ipykernel_37645/644758328.py:15: RuntimeWarning: This filename (/Users/chaohan/Library/CloudStorage/OneDrive-UniversityofToronto/Projects/Yas accent/data_preprocessed/3_ica/Yas_185_corr_prep_ica.fif) does not conform to MNE naming conventions. All raw files should end with raw.fif, raw_sss.fif, raw_tsss.fif, _meg.fif, _eeg.fif, _ieeg.fif, raw.fif.gz, raw_sss.fif.gz, raw_tsss.fif.gz, _meg.fif.gz, _eeg.fif.gz or _ieeg.fif.gz\n",
      "  raw = mne.io.read_raw_fif(input_dir + file, preload = True)\n"
     ]
    },
    {
     "name": "stdout",
     "output_type": "stream",
     "text": [
      "Reading 0 ... 867994  =      0.000 ...  3471.976 secs...\n",
      "EEG channel type selected for re-referencing\n",
      "Applying a custom ('EEG',) reference.\n",
      "Not setting metadata\n",
      "1697 matching events found\n",
      "No baseline correction applied\n",
      "0 projection items activated\n",
      "Using data from preloaded Raw for 1697 events and 751 original time points ...\n",
      "    Rejecting  epoch based on EEG : ['F7']\n",
      "    Rejecting  epoch based on EEG : ['FC6', 'F8']\n",
      "    Rejecting  epoch based on EEG : ['F7', 'FT9', 'C3']\n",
      "    Rejecting  epoch based on EEG : ['F7', 'FT9', 'C3']\n",
      "    Rejecting  epoch based on EEG : ['F7', 'FT9', 'C3']\n",
      "    Rejecting  epoch based on EEG : ['F7', 'FT9', 'C3']\n",
      "    Rejecting  epoch based on EEG : ['F7', 'FT9', 'C3']\n",
      "    Rejecting  epoch based on EEG : ['F7', 'FT9', 'C3']\n",
      "    Rejecting  epoch based on EEG : ['F7', 'FT9', 'C3']\n",
      "    Rejecting  epoch based on EEG : ['CP6']\n",
      "    Rejecting  epoch based on EEG : ['CP6', 'T8', 'FC6', 'F8']\n",
      "    Rejecting  epoch based on EEG : ['F7', 'FT9', 'C3', 'CP6', 'T8', 'FC6', 'F8']\n",
      "    Rejecting  epoch based on EEG : ['F7', 'FT9']\n",
      "    Rejecting  epoch based on EEG : ['F7', 'FT9']\n",
      "    Rejecting  epoch based on EEG : ['FT9', 'C3']\n",
      "    Rejecting  epoch based on EEG : ['FT9', 'C3']\n",
      "    Rejecting  epoch based on EEG : ['FT9', 'C3']\n",
      "    Rejecting  epoch based on EEG : ['C3']\n",
      "    Rejecting  epoch based on EEG : ['FT9', 'C3']\n",
      "    Rejecting  epoch based on EEG : ['FT9']\n",
      "    Rejecting  epoch based on EEG : ['FT9']\n",
      "    Rejecting  epoch based on EEG : ['F7', 'FT9', 'C3']\n",
      "    Rejecting  epoch based on EEG : ['F7', 'FT9', 'FC1', 'C3', 'CP5']\n",
      "    Rejecting  epoch based on EEG : ['F7', 'FT9', 'FC1', 'C3', 'CP5']\n",
      "    Rejecting  epoch based on EEG : ['FT9', 'C3']\n",
      "    Rejecting  epoch based on EEG : ['FT9']\n",
      "    Rejecting  epoch based on EEG : ['FT9', 'C3']\n",
      "    Rejecting  epoch based on EEG : ['FT9', 'C3']\n",
      "    Rejecting  epoch based on EEG : ['FT9']\n",
      "    Rejecting  epoch based on EEG : ['F7', 'FT9', 'C3']\n",
      "    Rejecting  epoch based on EEG : ['F7', 'FT9', 'C3']\n",
      "    Rejecting  epoch based on EEG : ['CP6', 'T8', 'FT10', 'FC6', 'F8']\n",
      "    Rejecting  epoch based on EEG : ['CP6', 'T8', 'FT10', 'FC6', 'F8']\n",
      "    Rejecting  epoch based on EEG : ['FT9']\n",
      "    Rejecting  epoch based on EEG : ['F7', 'FT9', 'C3']\n",
      "    Rejecting  epoch based on EEG : ['F7', 'FT9', 'C3']\n",
      "    Rejecting  epoch based on EEG : ['FT9']\n",
      "    Rejecting  epoch based on EEG : ['FT9']\n",
      "    Rejecting  epoch based on EEG : ['Fz']\n",
      "    Rejecting  epoch based on EEG : ['Fz']\n",
      "    Rejecting  epoch based on EEG : ['FT9']\n",
      "41 bad epochs dropped\n"
     ]
    },
    {
     "name": "stderr",
     "output_type": "stream",
     "text": [
      "[Parallel(n_jobs=1)]: Done  17 tasks      | elapsed:    1.9s\n",
      "[Parallel(n_jobs=1)]: Done  17 tasks      | elapsed:    0.4s\n",
      "[Parallel(n_jobs=1)]: Done  17 tasks      | elapsed:    1.9s\n",
      "[Parallel(n_jobs=1)]: Done  17 tasks      | elapsed:    0.4s\n"
     ]
    },
    {
     "name": "stdout",
     "output_type": "stream",
     "text": [
      "Opening raw data file /Users/chaohan/Library/CloudStorage/OneDrive-UniversityofToronto/Projects/Yas accent/data_preprocessed/3_ica/Yas_133_corr_prep_ica.fif...\n",
      "    Range : 2664 ... 935424 =     10.656 ...  3741.696 secs\n",
      "Ready.\n",
      "Reading 0 ... 932760  =      0.000 ...  3731.040 secs...\n"
     ]
    },
    {
     "name": "stderr",
     "output_type": "stream",
     "text": [
      "/var/folders/j8/8nyf6njj5nzfjcv6s23y3nn40000gn/T/ipykernel_37645/644758328.py:15: RuntimeWarning: This filename (/Users/chaohan/Library/CloudStorage/OneDrive-UniversityofToronto/Projects/Yas accent/data_preprocessed/3_ica/Yas_133_corr_prep_ica.fif) does not conform to MNE naming conventions. All raw files should end with raw.fif, raw_sss.fif, raw_tsss.fif, _meg.fif, _eeg.fif, _ieeg.fif, raw.fif.gz, raw_sss.fif.gz, raw_tsss.fif.gz, _meg.fif.gz, _eeg.fif.gz or _ieeg.fif.gz\n",
      "  raw = mne.io.read_raw_fif(input_dir + file, preload = True)\n"
     ]
    },
    {
     "name": "stdout",
     "output_type": "stream",
     "text": [
      "EEG channel type selected for re-referencing\n",
      "Applying a custom ('EEG',) reference.\n",
      "Not setting metadata\n",
      "1646 matching events found\n",
      "No baseline correction applied\n",
      "0 projection items activated\n",
      "Using data from preloaded Raw for 1646 events and 751 original time points ...\n",
      "    Rejecting  epoch based on EEG : ['F3', 'CP5', 'P7', 'Oz']\n",
      "    Rejecting  epoch based on EEG : ['Fz', 'F3', 'FC1', 'CP5', 'P3', 'P7', 'Oz', 'Cz', 'FC2', 'F4']\n",
      "    Rejecting  epoch based on EEG : ['Fz', 'F3', 'FC1', 'CP5', 'CP1', 'P3', 'P7', 'Cz', 'FC2', 'F4']\n",
      "    Rejecting  epoch based on EEG : ['Fz', 'F3', 'FC1', 'CP5', 'CP1', 'P3', 'P7', 'Oz']\n",
      "    Rejecting  epoch based on EEG : ['P7']\n",
      "    Rejecting  epoch based on EEG : ['P7']\n",
      "    Rejecting  epoch based on EEG : ['Fz', 'F3', 'FC5', 'FC1', 'C3', 'CP5', 'CP1', 'Pz', 'P3', 'P7', 'Oz', 'P4', 'CP2', 'Cz', 'C4', 'FC2', 'F4']\n",
      "    Rejecting  epoch based on EEG : ['Fz', 'F3', 'FC5', 'FC1', 'C3', 'CP5', 'CP1', 'Pz', 'P3', 'P7', 'Oz', 'O2', 'P4', 'CP2', 'Cz', 'C4', 'FC2', 'F4']\n",
      "    Rejecting  epoch based on EEG : ['Fz', 'F3', 'FC5', 'FC1', 'CP5', 'CP1', 'Pz', 'P3', 'P7', 'Oz', 'O2', 'P4', 'CP2', 'Cz', 'C4', 'FT10', 'FC2', 'F4']\n",
      "    Rejecting  epoch based on EEG : ['P7']\n",
      "    Rejecting  epoch based on EEG : ['CP5', 'CP1', 'Pz', 'P3', 'CP2', 'FC2']\n",
      "    Rejecting  epoch based on EEG : ['CP5', 'CP1', 'Pz', 'P3', 'CP2', 'FC2']\n",
      "    Rejecting  epoch based on EEG : ['Fz', 'F3', 'FC1', 'C3', 'CP5', 'CP1', 'Pz', 'P3', 'Oz', 'P4', 'CP2', 'Cz', 'C4', 'FC2']\n",
      "    Rejecting  epoch based on EEG : ['Fz', 'F3', 'FT9', 'FC5', 'FC1', 'C3', 'CP5', 'CP1', 'Pz', 'P3', 'P7', 'O1', 'Oz', 'O2', 'P4', 'TP10', 'CP6', 'CP2', 'Cz', 'C4', 'T8', 'FT10', 'FC2', 'F4', 'TP9']\n",
      "    Rejecting  epoch based on EEG : ['Fz', 'F3', 'FT9', 'FC5', 'FC1', 'C3', 'CP5', 'CP1', 'Pz', 'P3', 'P7', 'O1', 'Oz', 'O2', 'P4', 'P8', 'TP10', 'CP6', 'CP2', 'Cz', 'C4', 'T8', 'FT10', 'FC2', 'F4', 'TP9']\n",
      "    Rejecting  epoch based on EEG : ['Fz', 'F3', 'FT9', 'FC5', 'FC1', 'C3', 'CP5', 'CP1', 'Pz', 'P3', 'P7', 'O1', 'Oz', 'O2', 'P4', 'P8', 'CP6', 'CP2', 'Cz', 'C4', 'FT10', 'FC2', 'F4']\n",
      "    Rejecting  epoch based on EEG : ['Fz', 'F3', 'FT9', 'FC5', 'FC1', 'C3', 'CP5', 'CP1', 'Pz', 'P3', 'P7', 'O1', 'Oz', 'O2', 'P4', 'CP2', 'Cz', 'C4', 'FC2', 'F4']\n",
      "    Rejecting  epoch based on EEG : ['P7']\n",
      "    Rejecting  epoch based on EEG : ['F7', 'FC5', 'T7', 'CP5']\n",
      "    Rejecting  epoch based on EEG : ['F7', 'FC5', 'T7', 'CP5']\n",
      "    Rejecting  epoch based on EEG : ['T7']\n",
      "    Rejecting  epoch based on EEG : ['T7']\n",
      "    Rejecting  epoch based on EEG : ['F7', 'FC5', 'T7', 'CP5']\n",
      "    Rejecting  epoch based on EEG : ['F7', 'FC5', 'T7', 'CP5']\n",
      "    Rejecting  epoch based on EEG : ['F7', 'FT9', 'FC5', 'C3', 'T7', 'CP5']\n",
      "    Rejecting  epoch based on EEG : ['F7', 'FT9', 'FC5', 'C3', 'T7', 'CP5']\n",
      "26 bad epochs dropped\n"
     ]
    },
    {
     "name": "stderr",
     "output_type": "stream",
     "text": [
      "[Parallel(n_jobs=1)]: Done  17 tasks      | elapsed:    1.8s\n",
      "[Parallel(n_jobs=1)]: Done  17 tasks      | elapsed:    0.4s\n",
      "[Parallel(n_jobs=1)]: Done  17 tasks      | elapsed:    2.1s\n",
      "[Parallel(n_jobs=1)]: Done  17 tasks      | elapsed:    0.4s\n"
     ]
    },
    {
     "name": "stdout",
     "output_type": "stream",
     "text": [
      "Opening raw data file /Users/chaohan/Library/CloudStorage/OneDrive-UniversityofToronto/Projects/Yas accent/data_preprocessed/3_ica/Yas_264_corr_prep_ica.fif...\n",
      "    Range : 550 ... 846337 =      2.200 ...  3385.348 secs\n",
      "Ready.\n",
      "Reading 0 ... 845787  =      0.000 ...  3383.148 secs...\n"
     ]
    },
    {
     "name": "stderr",
     "output_type": "stream",
     "text": [
      "/var/folders/j8/8nyf6njj5nzfjcv6s23y3nn40000gn/T/ipykernel_37645/644758328.py:15: RuntimeWarning: This filename (/Users/chaohan/Library/CloudStorage/OneDrive-UniversityofToronto/Projects/Yas accent/data_preprocessed/3_ica/Yas_264_corr_prep_ica.fif) does not conform to MNE naming conventions. All raw files should end with raw.fif, raw_sss.fif, raw_tsss.fif, _meg.fif, _eeg.fif, _ieeg.fif, raw.fif.gz, raw_sss.fif.gz, raw_tsss.fif.gz, _meg.fif.gz, _eeg.fif.gz or _ieeg.fif.gz\n",
      "  raw = mne.io.read_raw_fif(input_dir + file, preload = True)\n"
     ]
    },
    {
     "name": "stdout",
     "output_type": "stream",
     "text": [
      "EEG channel type selected for re-referencing\n",
      "Applying a custom ('EEG',) reference.\n",
      "Not setting metadata\n",
      "1668 matching events found\n",
      "No baseline correction applied\n",
      "0 projection items activated\n",
      "Using data from preloaded Raw for 1668 events and 751 original time points ...\n",
      "    Rejecting  epoch based on EEG : ['Fz', 'FC1']\n",
      "    Rejecting  epoch based on EEG : ['C3']\n",
      "    Rejecting  epoch based on EEG : ['C3']\n",
      "3 bad epochs dropped\n"
     ]
    },
    {
     "name": "stderr",
     "output_type": "stream",
     "text": [
      "[Parallel(n_jobs=1)]: Done  17 tasks      | elapsed:    1.8s\n",
      "[Parallel(n_jobs=1)]: Done  17 tasks      | elapsed:    0.4s\n",
      "[Parallel(n_jobs=1)]: Done  17 tasks      | elapsed:    1.8s\n",
      "[Parallel(n_jobs=1)]: Done  17 tasks      | elapsed:    0.4s\n"
     ]
    },
    {
     "name": "stdout",
     "output_type": "stream",
     "text": [
      "Opening raw data file /Users/chaohan/Library/CloudStorage/OneDrive-UniversityofToronto/Projects/Yas accent/data_preprocessed/3_ica/Yas_165_corr_prep_ica.fif...\n"
     ]
    },
    {
     "name": "stderr",
     "output_type": "stream",
     "text": [
      "/var/folders/j8/8nyf6njj5nzfjcv6s23y3nn40000gn/T/ipykernel_37645/644758328.py:15: RuntimeWarning: This filename (/Users/chaohan/Library/CloudStorage/OneDrive-UniversityofToronto/Projects/Yas accent/data_preprocessed/3_ica/Yas_165_corr_prep_ica.fif) does not conform to MNE naming conventions. All raw files should end with raw.fif, raw_sss.fif, raw_tsss.fif, _meg.fif, _eeg.fif, _ieeg.fif, raw.fif.gz, raw_sss.fif.gz, raw_tsss.fif.gz, _meg.fif.gz, _eeg.fif.gz or _ieeg.fif.gz\n",
      "  raw = mne.io.read_raw_fif(input_dir + file, preload = True)\n"
     ]
    },
    {
     "name": "stdout",
     "output_type": "stream",
     "text": [
      "    Range : 5752 ... 870488 =     23.008 ...  3481.952 secs\n",
      "Ready.\n",
      "Reading 0 ... 864736  =      0.000 ...  3458.944 secs...\n",
      "EEG channel type selected for re-referencing\n",
      "Applying a custom ('EEG',) reference.\n",
      "Not setting metadata\n",
      "1687 matching events found\n",
      "No baseline correction applied\n",
      "0 projection items activated\n",
      "Using data from preloaded Raw for 1687 events and 751 original time points ...\n",
      "0 bad epochs dropped\n"
     ]
    },
    {
     "name": "stderr",
     "output_type": "stream",
     "text": [
      "[Parallel(n_jobs=1)]: Done  17 tasks      | elapsed:    2.0s\n",
      "[Parallel(n_jobs=1)]: Done  17 tasks      | elapsed:    0.4s\n",
      "[Parallel(n_jobs=1)]: Done  17 tasks      | elapsed:    1.8s\n",
      "[Parallel(n_jobs=1)]: Done  17 tasks      | elapsed:    0.4s\n"
     ]
    },
    {
     "name": "stdout",
     "output_type": "stream",
     "text": [
      "Opening raw data file /Users/chaohan/Library/CloudStorage/OneDrive-UniversityofToronto/Projects/Yas accent/data_preprocessed/3_ica/Yas_232_corr_prep_ica.fif...\n",
      "    Range : 893 ... 861048 =      3.572 ...  3444.192 secs\n",
      "Ready.\n",
      "Reading 0 ... 860155  =      0.000 ...  3440.620 secs...\n"
     ]
    },
    {
     "name": "stderr",
     "output_type": "stream",
     "text": [
      "/var/folders/j8/8nyf6njj5nzfjcv6s23y3nn40000gn/T/ipykernel_37645/644758328.py:15: RuntimeWarning: This filename (/Users/chaohan/Library/CloudStorage/OneDrive-UniversityofToronto/Projects/Yas accent/data_preprocessed/3_ica/Yas_232_corr_prep_ica.fif) does not conform to MNE naming conventions. All raw files should end with raw.fif, raw_sss.fif, raw_tsss.fif, _meg.fif, _eeg.fif, _ieeg.fif, raw.fif.gz, raw_sss.fif.gz, raw_tsss.fif.gz, _meg.fif.gz, _eeg.fif.gz or _ieeg.fif.gz\n",
      "  raw = mne.io.read_raw_fif(input_dir + file, preload = True)\n"
     ]
    },
    {
     "name": "stdout",
     "output_type": "stream",
     "text": [
      "EEG channel type selected for re-referencing\n",
      "Applying a custom ('EEG',) reference.\n",
      "Not setting metadata\n",
      "1712 matching events found\n",
      "No baseline correction applied\n",
      "0 projection items activated\n",
      "Using data from preloaded Raw for 1712 events and 751 original time points ...\n",
      "    Rejecting  epoch based on EEG : ['F3', 'FC5', 'T7', 'CP5', 'P7', 'FC6']\n",
      "    Rejecting  epoch based on EEG : ['F3', 'FC5', 'T7', 'CP5', 'P7', 'FC6']\n",
      "    Rejecting  epoch based on EEG : ['FC5']\n",
      "    Rejecting  epoch based on EEG : ['FC5']\n",
      "    Rejecting  epoch based on EEG : ['FC5']\n",
      "5 bad epochs dropped\n"
     ]
    },
    {
     "name": "stderr",
     "output_type": "stream",
     "text": [
      "[Parallel(n_jobs=1)]: Done  17 tasks      | elapsed:    2.0s\n",
      "[Parallel(n_jobs=1)]: Done  17 tasks      | elapsed:    0.4s\n",
      "[Parallel(n_jobs=1)]: Done  17 tasks      | elapsed:    1.9s\n",
      "[Parallel(n_jobs=1)]: Done  17 tasks      | elapsed:    0.4s\n"
     ]
    },
    {
     "name": "stdout",
     "output_type": "stream",
     "text": [
      "Opening raw data file /Users/chaohan/Library/CloudStorage/OneDrive-UniversityofToronto/Projects/Yas accent/data_preprocessed/3_ica/Yas_103_corr_prep_ica.fif...\n"
     ]
    },
    {
     "name": "stderr",
     "output_type": "stream",
     "text": [
      "/var/folders/j8/8nyf6njj5nzfjcv6s23y3nn40000gn/T/ipykernel_37645/644758328.py:15: RuntimeWarning: This filename (/Users/chaohan/Library/CloudStorage/OneDrive-UniversityofToronto/Projects/Yas accent/data_preprocessed/3_ica/Yas_103_corr_prep_ica.fif) does not conform to MNE naming conventions. All raw files should end with raw.fif, raw_sss.fif, raw_tsss.fif, _meg.fif, _eeg.fif, _ieeg.fif, raw.fif.gz, raw_sss.fif.gz, raw_tsss.fif.gz, _meg.fif.gz, _eeg.fif.gz or _ieeg.fif.gz\n",
      "  raw = mne.io.read_raw_fif(input_dir + file, preload = True)\n"
     ]
    },
    {
     "name": "stdout",
     "output_type": "stream",
     "text": [
      "    Range : 20010 ... 878385 =     80.040 ...  3513.540 secs\n",
      "Ready.\n",
      "Reading 0 ... 858375  =      0.000 ...  3433.500 secs...\n",
      "EEG channel type selected for re-referencing\n",
      "Applying a custom ('EEG',) reference.\n",
      "Not setting metadata\n",
      "1705 matching events found\n",
      "No baseline correction applied\n",
      "0 projection items activated\n",
      "Using data from preloaded Raw for 1705 events and 751 original time points ...\n",
      "    Rejecting  epoch based on EEG : ['Oz']\n",
      "    Rejecting  epoch based on EEG : ['CP5']\n",
      "    Rejecting  epoch based on EEG : ['CP5']\n",
      "    Rejecting  epoch based on EEG : ['FT9', 'T7', 'P7']\n",
      "4 bad epochs dropped\n"
     ]
    },
    {
     "name": "stderr",
     "output_type": "stream",
     "text": [
      "[Parallel(n_jobs=1)]: Done  17 tasks      | elapsed:    2.1s\n",
      "[Parallel(n_jobs=1)]: Done  17 tasks      | elapsed:    0.4s\n",
      "[Parallel(n_jobs=1)]: Done  17 tasks      | elapsed:    2.0s\n",
      "[Parallel(n_jobs=1)]: Done  17 tasks      | elapsed:    0.4s\n"
     ]
    },
    {
     "name": "stdout",
     "output_type": "stream",
     "text": [
      "Opening raw data file /Users/chaohan/Library/CloudStorage/OneDrive-UniversityofToronto/Projects/Yas accent/data_preprocessed/3_ica/Yas_254_corr_prep_ica.fif...\n",
      "    Range : 472 ... 826661 =      1.888 ...  3306.644 secs\n",
      "Ready.\n",
      "Reading 0 ... 826189  =      0.000 ...  3304.756 secs...\n"
     ]
    },
    {
     "name": "stderr",
     "output_type": "stream",
     "text": [
      "/var/folders/j8/8nyf6njj5nzfjcv6s23y3nn40000gn/T/ipykernel_37645/644758328.py:15: RuntimeWarning: This filename (/Users/chaohan/Library/CloudStorage/OneDrive-UniversityofToronto/Projects/Yas accent/data_preprocessed/3_ica/Yas_254_corr_prep_ica.fif) does not conform to MNE naming conventions. All raw files should end with raw.fif, raw_sss.fif, raw_tsss.fif, _meg.fif, _eeg.fif, _ieeg.fif, raw.fif.gz, raw_sss.fif.gz, raw_tsss.fif.gz, _meg.fif.gz, _eeg.fif.gz or _ieeg.fif.gz\n",
      "  raw = mne.io.read_raw_fif(input_dir + file, preload = True)\n"
     ]
    },
    {
     "name": "stdout",
     "output_type": "stream",
     "text": [
      "EEG channel type selected for re-referencing\n",
      "Applying a custom ('EEG',) reference.\n",
      "Not setting metadata\n",
      "1605 matching events found\n",
      "No baseline correction applied\n",
      "0 projection items activated\n",
      "Using data from preloaded Raw for 1605 events and 751 original time points ...\n",
      "    Rejecting  epoch based on EEG : ['C3']\n",
      "    Rejecting  epoch based on EEG : ['C3']\n",
      "2 bad epochs dropped\n"
     ]
    },
    {
     "name": "stderr",
     "output_type": "stream",
     "text": [
      "[Parallel(n_jobs=1)]: Done  17 tasks      | elapsed:    1.8s\n",
      "[Parallel(n_jobs=1)]: Done  17 tasks      | elapsed:    0.4s\n",
      "[Parallel(n_jobs=1)]: Done  17 tasks      | elapsed:    1.9s\n",
      "[Parallel(n_jobs=1)]: Done  17 tasks      | elapsed:    0.4s\n"
     ]
    },
    {
     "name": "stdout",
     "output_type": "stream",
     "text": [
      "Opening raw data file /Users/chaohan/Library/CloudStorage/OneDrive-UniversityofToronto/Projects/Yas accent/data_preprocessed/3_ica/Yas_181_corr_prep_ica.fif...\n"
     ]
    },
    {
     "name": "stderr",
     "output_type": "stream",
     "text": [
      "/var/folders/j8/8nyf6njj5nzfjcv6s23y3nn40000gn/T/ipykernel_37645/644758328.py:15: RuntimeWarning: This filename (/Users/chaohan/Library/CloudStorage/OneDrive-UniversityofToronto/Projects/Yas accent/data_preprocessed/3_ica/Yas_181_corr_prep_ica.fif) does not conform to MNE naming conventions. All raw files should end with raw.fif, raw_sss.fif, raw_tsss.fif, _meg.fif, _eeg.fif, _ieeg.fif, raw.fif.gz, raw_sss.fif.gz, raw_tsss.fif.gz, _meg.fif.gz, _eeg.fif.gz or _ieeg.fif.gz\n",
      "  raw = mne.io.read_raw_fif(input_dir + file, preload = True)\n"
     ]
    },
    {
     "name": "stdout",
     "output_type": "stream",
     "text": [
      "    Range : 1510 ... 842491 =      6.040 ...  3369.964 secs\n",
      "Ready.\n",
      "Reading 0 ... 840981  =      0.000 ...  3363.924 secs...\n",
      "EEG channel type selected for re-referencing\n",
      "Applying a custom ('EEG',) reference.\n",
      "Not setting metadata\n",
      "1651 matching events found\n",
      "No baseline correction applied\n",
      "0 projection items activated\n",
      "Using data from preloaded Raw for 1651 events and 751 original time points ...\n",
      "    Rejecting  epoch based on EEG : ['C3', 'CP5']\n",
      "    Rejecting  epoch based on EEG : ['C3', 'CP5']\n",
      "    Rejecting  epoch based on EEG : ['CP5']\n",
      "3 bad epochs dropped\n"
     ]
    },
    {
     "name": "stderr",
     "output_type": "stream",
     "text": [
      "[Parallel(n_jobs=1)]: Done  17 tasks      | elapsed:    2.1s\n",
      "[Parallel(n_jobs=1)]: Done  17 tasks      | elapsed:    0.4s\n",
      "[Parallel(n_jobs=1)]: Done  17 tasks      | elapsed:    1.9s\n",
      "[Parallel(n_jobs=1)]: Done  17 tasks      | elapsed:    0.4s\n"
     ]
    },
    {
     "name": "stdout",
     "output_type": "stream",
     "text": [
      "Opening raw data file /Users/chaohan/Library/CloudStorage/OneDrive-UniversityofToronto/Projects/Yas accent/data_preprocessed/3_ica/Yas_151_corr_prep_ica.fif...\n",
      "    Range : 2391 ... 850116 =      9.564 ...  3400.464 secs\n",
      "Ready.\n",
      "Reading 0 ... 847725  =      0.000 ...  3390.900 secs...\n"
     ]
    },
    {
     "name": "stderr",
     "output_type": "stream",
     "text": [
      "/var/folders/j8/8nyf6njj5nzfjcv6s23y3nn40000gn/T/ipykernel_37645/644758328.py:15: RuntimeWarning: This filename (/Users/chaohan/Library/CloudStorage/OneDrive-UniversityofToronto/Projects/Yas accent/data_preprocessed/3_ica/Yas_151_corr_prep_ica.fif) does not conform to MNE naming conventions. All raw files should end with raw.fif, raw_sss.fif, raw_tsss.fif, _meg.fif, _eeg.fif, _ieeg.fif, raw.fif.gz, raw_sss.fif.gz, raw_tsss.fif.gz, _meg.fif.gz, _eeg.fif.gz or _ieeg.fif.gz\n",
      "  raw = mne.io.read_raw_fif(input_dir + file, preload = True)\n"
     ]
    },
    {
     "name": "stdout",
     "output_type": "stream",
     "text": [
      "EEG channel type selected for re-referencing\n",
      "Applying a custom ('EEG',) reference.\n",
      "Not setting metadata\n",
      "1659 matching events found\n",
      "No baseline correction applied\n",
      "0 projection items activated\n",
      "Using data from preloaded Raw for 1659 events and 751 original time points ...\n",
      "    Rejecting  epoch based on EEG : ['FT10', 'F4', 'F8']\n",
      "    Rejecting  epoch based on EEG : ['T8', 'FT10', 'FC6', 'FC2', 'F4', 'F8']\n",
      "    Rejecting  epoch based on EEG : ['F3', 'C3', 'CP5', 'O1', 'Oz', 'O2', 'P4', 'CP6', 'CP2', 'C4', 'T8', 'FT10', 'FC6', 'FC2', 'F4', 'F8']\n",
      "    Rejecting  epoch based on EEG : ['F3', 'FT9', 'C3', 'T7', 'CP5', 'O1', 'Oz', 'O2', 'P4', 'CP6', 'CP2', 'C4', 'T8', 'FT10', 'FC6', 'FC2', 'F4', 'F8']\n",
      "    Rejecting  epoch based on EEG : ['F3', 'FT9', 'C3', 'T7', 'CP5', 'CP6', 'C4', 'T8', 'FT10', 'FC6', 'FC2', 'F4', 'F8']\n",
      "    Rejecting  epoch based on EEG : ['C4', 'FT10', 'FC6', 'FC2', 'F4', 'F8']\n",
      "    Rejecting  epoch based on EEG : ['C4', 'FT10', 'FC6', 'FC2', 'F4', 'F8']\n",
      "    Rejecting  epoch based on EEG : ['F8']\n",
      "    Rejecting  epoch based on EEG : ['FT10', 'F8']\n",
      "    Rejecting  epoch based on EEG : ['FT10', 'F8']\n",
      "    Rejecting  epoch based on EEG : ['FT10', 'FC6', 'F4', 'F8']\n",
      "    Rejecting  epoch based on EEG : ['CP6', 'C4', 'T8', 'FT10', 'FC6', 'FC2', 'F4', 'F8']\n",
      "    Rejecting  epoch based on EEG : ['CP6', 'C4', 'T8', 'FT10', 'FC6', 'FC2', 'F4', 'F8']\n",
      "    Rejecting  epoch based on EEG : ['CP6', 'C4', 'FC6', 'F4', 'F8']\n",
      "    Rejecting  epoch based on EEG : ['F8']\n",
      "    Rejecting  epoch based on EEG : ['CP6', 'CP2', 'C4', 'T8', 'FC6', 'FC2', 'F4', 'F8']\n",
      "    Rejecting  epoch based on EEG : ['CP6', 'CP2', 'C4', 'T8', 'FT10', 'FC6', 'FC2', 'F4', 'F8']\n",
      "    Rejecting  epoch based on EEG : ['T7', 'P7', 'CP6', 'C4', 'FC6', 'F8']\n",
      "    Rejecting  epoch based on EEG : ['CP6', 'C4', 'FC6', 'F8']\n",
      "    Rejecting  epoch based on EEG : ['F8']\n",
      "    Rejecting  epoch based on EEG : ['F8']\n",
      "    Rejecting  epoch based on EEG : ['P7']\n",
      "    Rejecting  epoch based on EEG : ['P7']\n",
      "    Rejecting  epoch based on EEG : ['C4']\n",
      "    Rejecting  epoch based on EEG : ['C4']\n",
      "    Rejecting  epoch based on EEG : ['FT10', 'F8']\n",
      "    Rejecting  epoch based on EEG : ['FT9', 'T7', 'P7', 'FT10', 'FC6', 'F4', 'F8']\n",
      "    Rejecting  epoch based on EEG : ['FT9', 'T7', 'P7', 'FT10', 'FC6', 'F4', 'F8']\n",
      "    Rejecting  epoch based on EEG : ['FT9', 'T7', 'P7']\n",
      "    Rejecting  epoch based on EEG : ['FT9', 'T7', 'P7']\n",
      "    Rejecting  epoch based on EEG : ['FT9', 'T7', 'P7']\n",
      "    Rejecting  epoch based on EEG : ['FT9', 'T7', 'P7']\n",
      "    Rejecting  epoch based on EEG : ['CP6', 'C4']\n",
      "    Rejecting  epoch based on EEG : ['CP6', 'C4']\n",
      "    Rejecting  epoch based on EEG : ['C4']\n",
      "    Rejecting  epoch based on EEG : ['FT9', 'T7', 'P7', 'F8']\n",
      "    Rejecting  epoch based on EEG : ['FT9', 'T7', 'P7', 'F8']\n",
      "    Rejecting  epoch based on EEG : ['P7']\n",
      "    Rejecting  epoch based on EEG : ['C4', 'FC6', 'F4', 'F8']\n",
      "    Rejecting  epoch based on EEG : ['C3', 'CP5']\n",
      "    Rejecting  epoch based on EEG : ['C3', 'CP5']\n",
      "    Rejecting  epoch based on EEG : ['F8']\n",
      "    Rejecting  epoch based on EEG : ['F8']\n",
      "    Rejecting  epoch based on EEG : ['FT9', 'C3', 'T7', 'CP5', 'CP6', 'C4', 'FC6', 'F8']\n",
      "    Rejecting  epoch based on EEG : ['FT9', 'C3', 'T7', 'CP5', 'CP6', 'C4', 'FC6', 'F8']\n",
      "    Rejecting  epoch based on EEG : ['CP6', 'C4']\n",
      "    Rejecting  epoch based on EEG : ['CP6', 'C4']\n",
      "    Rejecting  epoch based on EEG : ['C3', 'CP5', 'CP6', 'C4', 'FC6']\n",
      "    Rejecting  epoch based on EEG : ['C3', 'C4']\n",
      "    Rejecting  epoch based on EEG : ['C3', 'C4', 'F8']\n",
      "    Rejecting  epoch based on EEG : ['F4', 'F8']\n",
      "    Rejecting  epoch based on EEG : ['F4', 'F8']\n",
      "    Rejecting  epoch based on EEG : ['FT9', 'C3', 'CP5', 'CP6', 'FT10', 'FC6', 'F4', 'F8']\n",
      "    Rejecting  epoch based on EEG : ['FT10', 'F8']\n",
      "    Rejecting  epoch based on EEG : ['FT10', 'F8']\n",
      "    Rejecting  epoch based on EEG : ['FT9', 'T7', 'P7', 'CP6', 'FT10', 'F8']\n",
      "    Rejecting  epoch based on EEG : ['FT9', 'T7', 'P7']\n",
      "    Rejecting  epoch based on EEG : ['FT10', 'F8']\n",
      "    Rejecting  epoch based on EEG : ['FT10', 'F8']\n",
      "    Rejecting  epoch based on EEG : ['C4', 'FT10', 'FC6', 'F4', 'F8']\n",
      "    Rejecting  epoch based on EEG : ['C4', 'FT10', 'FC6', 'FC2', 'F4', 'F8']\n",
      "    Rejecting  epoch based on EEG : ['C4', 'FC6', 'FC2', 'F4', 'F8']\n",
      "    Rejecting  epoch based on EEG : ['F8']\n",
      "    Rejecting  epoch based on EEG : ['C4', 'F4', 'F8']\n",
      "    Rejecting  epoch based on EEG : ['C4', 'FT10', 'FC6', 'F4', 'F8']\n",
      "    Rejecting  epoch based on EEG : ['C4', 'FT10', 'FC6', 'F4', 'F8']\n",
      "    Rejecting  epoch based on EEG : ['FT9', 'T7', 'P7']\n",
      "    Rejecting  epoch based on EEG : ['FT9', 'T7', 'P7']\n",
      "    Rejecting  epoch based on EEG : ['FT9', 'T7', 'P3', 'P7', 'FT10', 'FC6', 'F4', 'F8']\n",
      "    Rejecting  epoch based on EEG : ['FT9', 'T7', 'P3', 'P7', 'FT10', 'FC6', 'F4', 'F8']\n",
      "    Rejecting  epoch based on EEG : ['C3']\n",
      "    Rejecting  epoch based on EEG : ['C4']\n",
      "    Rejecting  epoch based on EEG : ['C4', 'FT10', 'FC6', 'F4', 'F8']\n",
      "    Rejecting  epoch based on EEG : ['C4', 'T8', 'FT10', 'FC6', 'F4', 'F8']\n",
      "    Rejecting  epoch based on EEG : ['C4', 'FT10', 'FC6', 'F8']\n",
      "    Rejecting  epoch based on EEG : ['F8']\n",
      "    Rejecting  epoch based on EEG : ['F8']\n",
      "    Rejecting  epoch based on EEG : ['C4', 'F8']\n",
      "    Rejecting  epoch based on EEG : ['FC6', 'F8']\n",
      "    Rejecting  epoch based on EEG : ['FC6', 'F8']\n",
      "    Rejecting  epoch based on EEG : ['C4', 'FC6', 'F4', 'F8']\n",
      "    Rejecting  epoch based on EEG : ['CP5', 'C4', 'FC6', 'F8']\n",
      "    Rejecting  epoch based on EEG : ['C3', 'CP5', 'CP6', 'C4', 'FC6', 'F8']\n",
      "    Rejecting  epoch based on EEG : ['C3', 'CP5', 'C4', 'FC6', 'F8']\n",
      "    Rejecting  epoch based on EEG : ['C4']\n",
      "    Rejecting  epoch based on EEG : ['C4']\n",
      "    Rejecting  epoch based on EEG : ['C4']\n",
      "    Rejecting  epoch based on EEG : ['P7', 'F8']\n",
      "    Rejecting  epoch based on EEG : ['Fz', 'F3', 'F7', 'FT9', 'FC5', 'FC1', 'C3', 'T7', 'CP5', 'CP1', 'Pz', 'P3', 'P7', 'O1', 'P4', 'CP6', 'CP2', 'Cz', 'C4', 'T8', 'FT10', 'FC6', 'FC2', 'F4', 'F8']\n",
      "    Rejecting  epoch based on EEG : ['F3', 'F7', 'FT9', 'FC5', 'C3', 'T7', 'CP5', 'P3', 'P7', 'P4', 'CP6', 'CP2', 'C4', 'FC6', 'FC2', 'F4', 'F8']\n",
      "    Rejecting  epoch based on EEG : ['P3', 'CP2']\n",
      "    Rejecting  epoch based on EEG : ['P3', 'CP2']\n",
      "    Rejecting  epoch based on EEG : ['FT10', 'F8']\n",
      "    Rejecting  epoch based on EEG : ['P7', 'CP6']\n",
      "    Rejecting  epoch based on EEG : ['P7', 'CP6']\n",
      "    Rejecting  epoch based on EEG : ['F8']\n",
      "    Rejecting  epoch based on EEG : ['F8']\n",
      "    Rejecting  epoch based on EEG : ['C4']\n",
      "    Rejecting  epoch based on EEG : ['C4', 'F8']\n",
      "    Rejecting  epoch based on EEG : ['FC5', 'C3', 'T7', 'CP5', 'CP1', 'Pz', 'P3', 'P7', 'O1', 'Oz', 'O2', 'P4', 'CP6', 'Cz', 'C4', 'FT10', 'FC6', 'F4', 'F8']\n",
      "    Rejecting  epoch based on EEG : ['FC5', 'C3', 'T7', 'CP5', 'CP1', 'Pz', 'P3', 'P7', 'O1', 'Oz', 'O2', 'P4', 'CP6', 'Cz', 'C4', 'FT10', 'FC6', 'F4', 'F8']\n",
      "    Rejecting  epoch based on EEG : ['FT10', 'F8']\n",
      "    Rejecting  epoch based on EEG : ['T7', 'FT10', 'F4', 'F8']\n",
      "    Rejecting  epoch based on EEG : ['FT10', 'F8']\n",
      "    Rejecting  epoch based on EEG : ['Cz', 'FT10', 'FC6', 'F4', 'F8']\n",
      "    Rejecting  epoch based on EEG : ['T7', 'Cz', 'FT10', 'FC6', 'F4', 'F8']\n",
      "    Rejecting  epoch based on EEG : ['T7', 'Cz', 'FT10', 'FC6', 'F4', 'F8']\n",
      "    Rejecting  epoch based on EEG : ['FT10', 'F8']\n",
      "    Rejecting  epoch based on EEG : ['C4', 'FC6', 'F8']\n",
      "    Rejecting  epoch based on EEG : ['CP5', 'FC6', 'F4', 'F8']\n",
      "    Rejecting  epoch based on EEG : ['CP5', 'FT10', 'FC6', 'F4', 'F8']\n",
      "    Rejecting  epoch based on EEG : ['FT10', 'FC6', 'F4', 'F8']\n",
      "    Rejecting  epoch based on EEG : ['Cz', 'FT10', 'FC6', 'F4', 'F8']\n",
      "    Rejecting  epoch based on EEG : ['Cz', 'FT10', 'FC6', 'F4', 'F8']\n",
      "    Rejecting  epoch based on EEG : ['F8']\n",
      "    Rejecting  epoch based on EEG : ['F8']\n",
      "    Rejecting  epoch based on EEG : ['C4', 'FC6', 'F4', 'F8']\n",
      "    Rejecting  epoch based on EEG : ['C4', 'FC6', 'F4', 'F8']\n",
      "    Rejecting  epoch based on EEG : ['FT10', 'F8']\n",
      "    Rejecting  epoch based on EEG : ['FT10', 'F8']\n",
      "    Rejecting  epoch based on EEG : ['FT10', 'F4', 'F8']\n",
      "    Rejecting  epoch based on EEG : ['FT10', 'F4', 'F8']\n",
      "    Rejecting  epoch based on EEG : ['C4']\n",
      "    Rejecting  epoch based on EEG : ['CP5', 'F8']\n",
      "    Rejecting  epoch based on EEG : ['F8']\n",
      "    Rejecting  epoch based on EEG : ['CP5', 'P7', 'C4', 'F8']\n",
      "    Rejecting  epoch based on EEG : ['FT9', 'T7', 'CP5', 'P7', 'CP2', 'Cz', 'C4', 'F8']\n",
      "    Rejecting  epoch based on EEG : ['CP6', 'C4']\n",
      "    Rejecting  epoch based on EEG : ['F3', 'CP6', 'Cz', 'C4', 'FT10', 'FC6', 'F4', 'F8']\n",
      "    Rejecting  epoch based on EEG : ['F3', 'Cz', 'FT10', 'FC6', 'F4', 'F8']\n",
      "    Rejecting  epoch based on EEG : ['Cz', 'FT10', 'F8']\n",
      "    Rejecting  epoch based on EEG : ['C4']\n",
      "    Rejecting  epoch based on EEG : ['C4']\n",
      "    Rejecting  epoch based on EEG : ['FT9', 'C3', 'CP5', 'FT10', 'FC6', 'F4', 'F8']\n",
      "    Rejecting  epoch based on EEG : ['C4']\n",
      "    Rejecting  epoch based on EEG : ['CP6', 'C4']\n",
      "    Rejecting  epoch based on EEG : ['CP6', 'C4', 'F8']\n",
      "    Rejecting  epoch based on EEG : ['C3', 'CP5', 'CP6', 'F8']\n",
      "    Rejecting  epoch based on EEG : ['F3', 'FT9', 'C3', 'T7', 'CP5', 'CP6', 'C4', 'FC6', 'F8']\n",
      "    Rejecting  epoch based on EEG : ['C3', 'C4', 'FC6', 'F8']\n",
      "    Rejecting  epoch based on EEG : ['O1', 'Cz', 'FT10', 'F4', 'F8']\n",
      "    Rejecting  epoch based on EEG : ['O1', 'Cz', 'FT10', 'F4', 'F8']\n",
      "    Rejecting  epoch based on EEG : ['Cz', 'FT10', 'F4', 'F8']\n",
      "    Rejecting  epoch based on EEG : ['Cz', 'FT10', 'F4', 'F8']\n",
      "    Rejecting  epoch based on EEG : ['FT10', 'F8']\n",
      "    Rejecting  epoch based on EEG : ['O1', 'FT10', 'F4', 'F8']\n",
      "    Rejecting  epoch based on EEG : ['O1', 'FT10', 'F4', 'F8']\n",
      "    Rejecting  epoch based on EEG : ['Cz', 'FT10', 'F4', 'F8']\n",
      "    Rejecting  epoch based on EEG : ['Cz', 'FT10', 'F4', 'F8']\n",
      "    Rejecting  epoch based on EEG : ['CP6']\n",
      "    Rejecting  epoch based on EEG : ['O1', 'CP6', 'F8']\n",
      "    Rejecting  epoch based on EEG : ['FT9', 'T7', 'P7', 'CP6', 'F8']\n",
      "152 bad epochs dropped\n"
     ]
    },
    {
     "name": "stderr",
     "output_type": "stream",
     "text": [
      "[Parallel(n_jobs=1)]: Done  17 tasks      | elapsed:    3.2s\n",
      "[Parallel(n_jobs=1)]: Done  17 tasks      | elapsed:    0.7s\n",
      "[Parallel(n_jobs=1)]: Done  17 tasks      | elapsed:    3.8s\n",
      "[Parallel(n_jobs=1)]: Done  17 tasks      | elapsed:    0.6s\n"
     ]
    },
    {
     "name": "stdout",
     "output_type": "stream",
     "text": [
      "Opening raw data file /Users/chaohan/Library/CloudStorage/OneDrive-UniversityofToronto/Projects/Yas accent/data_preprocessed/3_ica/Yas_206_corr_prep_ica.fif...\n"
     ]
    },
    {
     "name": "stderr",
     "output_type": "stream",
     "text": [
      "/var/folders/j8/8nyf6njj5nzfjcv6s23y3nn40000gn/T/ipykernel_37645/644758328.py:15: RuntimeWarning: This filename (/Users/chaohan/Library/CloudStorage/OneDrive-UniversityofToronto/Projects/Yas accent/data_preprocessed/3_ica/Yas_206_corr_prep_ica.fif) does not conform to MNE naming conventions. All raw files should end with raw.fif, raw_sss.fif, raw_tsss.fif, _meg.fif, _eeg.fif, _ieeg.fif, raw.fif.gz, raw_sss.fif.gz, raw_tsss.fif.gz, _meg.fif.gz, _eeg.fif.gz or _ieeg.fif.gz\n",
      "  raw = mne.io.read_raw_fif(input_dir + file, preload = True)\n"
     ]
    },
    {
     "name": "stdout",
     "output_type": "stream",
     "text": [
      "    Range : 0 ... 907845 =      0.000 ...  3631.380 secs\n",
      "Ready.\n",
      "Reading 0 ... 907845  =      0.000 ...  3631.380 secs...\n",
      "EEG channel type selected for re-referencing\n",
      "Applying a custom ('EEG',) reference.\n",
      "Not setting metadata\n",
      "1680 matching events found\n",
      "No baseline correction applied\n",
      "0 projection items activated\n",
      "Using data from preloaded Raw for 1680 events and 751 original time points ...\n",
      "    Rejecting  epoch based on EEG : ['CP6']\n",
      "    Rejecting  epoch based on EEG : ['CP6']\n",
      "    Rejecting  epoch based on EEG : ['CP6']\n",
      "    Rejecting  epoch based on EEG : ['CP6']\n",
      "    Rejecting  epoch based on EEG : ['CP6']\n",
      "    Rejecting  epoch based on EEG : ['CP6']\n",
      "    Rejecting  epoch based on EEG : ['CP6']\n",
      "7 bad epochs dropped\n"
     ]
    },
    {
     "name": "stderr",
     "output_type": "stream",
     "text": [
      "[Parallel(n_jobs=1)]: Done  17 tasks      | elapsed:    3.8s\n",
      "[Parallel(n_jobs=1)]: Done  17 tasks      | elapsed:    0.7s\n",
      "[Parallel(n_jobs=1)]: Done  17 tasks      | elapsed:    3.4s\n",
      "[Parallel(n_jobs=1)]: Done  17 tasks      | elapsed:    0.6s\n"
     ]
    },
    {
     "name": "stdout",
     "output_type": "stream",
     "text": [
      "Opening raw data file /Users/chaohan/Library/CloudStorage/OneDrive-UniversityofToronto/Projects/Yas accent/data_preprocessed/3_ica/Yas_248_corr_prep_ica.fif...\n",
      "    Range : 781 ... 956022 =      3.124 ...  3824.088 secs\n",
      "Ready.\n"
     ]
    },
    {
     "name": "stderr",
     "output_type": "stream",
     "text": [
      "/var/folders/j8/8nyf6njj5nzfjcv6s23y3nn40000gn/T/ipykernel_37645/644758328.py:15: RuntimeWarning: This filename (/Users/chaohan/Library/CloudStorage/OneDrive-UniversityofToronto/Projects/Yas accent/data_preprocessed/3_ica/Yas_248_corr_prep_ica.fif) does not conform to MNE naming conventions. All raw files should end with raw.fif, raw_sss.fif, raw_tsss.fif, _meg.fif, _eeg.fif, _ieeg.fif, raw.fif.gz, raw_sss.fif.gz, raw_tsss.fif.gz, _meg.fif.gz, _eeg.fif.gz or _ieeg.fif.gz\n",
      "  raw = mne.io.read_raw_fif(input_dir + file, preload = True)\n"
     ]
    },
    {
     "name": "stdout",
     "output_type": "stream",
     "text": [
      "Reading 0 ... 955241  =      0.000 ...  3820.964 secs...\n",
      "EEG channel type selected for re-referencing\n",
      "Applying a custom ('EEG',) reference.\n",
      "Not setting metadata\n",
      "1723 matching events found\n",
      "No baseline correction applied\n",
      "0 projection items activated\n",
      "Using data from preloaded Raw for 1723 events and 751 original time points ...\n",
      "    Rejecting  epoch based on EEG : ['F3', 'FC5', 'C3', 'FC6']\n",
      "    Rejecting  epoch based on EEG : ['FC5', 'C3']\n",
      "    Rejecting  epoch based on EEG : ['FC5', 'C3']\n",
      "    Rejecting  epoch based on EEG : ['FC5']\n",
      "    Rejecting  epoch based on EEG : ['FC5']\n",
      "    Rejecting  epoch based on EEG : ['FC5']\n",
      "    Rejecting  epoch based on EEG : ['FC5', 'C3', 'CP5']\n",
      "    Rejecting  epoch based on EEG : ['FC5', 'C3', 'CP5']\n",
      "    Rejecting  epoch based on EEG : ['FC5']\n",
      "    Rejecting  epoch based on EEG : ['FC6']\n",
      "10 bad epochs dropped\n"
     ]
    },
    {
     "name": "stderr",
     "output_type": "stream",
     "text": [
      "[Parallel(n_jobs=1)]: Done  17 tasks      | elapsed:    3.7s\n",
      "[Parallel(n_jobs=1)]: Done  17 tasks      | elapsed:    0.6s\n",
      "[Parallel(n_jobs=1)]: Done  17 tasks      | elapsed:    3.5s\n",
      "[Parallel(n_jobs=1)]: Done  17 tasks      | elapsed:    0.6s\n"
     ]
    },
    {
     "name": "stdout",
     "output_type": "stream",
     "text": [
      "Opening raw data file /Users/chaohan/Library/CloudStorage/OneDrive-UniversityofToronto/Projects/Yas accent/data_preprocessed/3_ica/Yas_137_corr_prep_ica.fif...\n",
      "    Range : 3072 ... 868495 =     12.288 ...  3473.980 secs\n",
      "Ready.\n"
     ]
    },
    {
     "name": "stderr",
     "output_type": "stream",
     "text": [
      "/var/folders/j8/8nyf6njj5nzfjcv6s23y3nn40000gn/T/ipykernel_37645/644758328.py:15: RuntimeWarning: This filename (/Users/chaohan/Library/CloudStorage/OneDrive-UniversityofToronto/Projects/Yas accent/data_preprocessed/3_ica/Yas_137_corr_prep_ica.fif) does not conform to MNE naming conventions. All raw files should end with raw.fif, raw_sss.fif, raw_tsss.fif, _meg.fif, _eeg.fif, _ieeg.fif, raw.fif.gz, raw_sss.fif.gz, raw_tsss.fif.gz, _meg.fif.gz, _eeg.fif.gz or _ieeg.fif.gz\n",
      "  raw = mne.io.read_raw_fif(input_dir + file, preload = True)\n"
     ]
    },
    {
     "name": "stdout",
     "output_type": "stream",
     "text": [
      "Reading 0 ... 865423  =      0.000 ...  3461.692 secs...\n",
      "EEG channel type selected for re-referencing\n",
      "Applying a custom ('EEG',) reference.\n",
      "Not setting metadata\n",
      "1705 matching events found\n",
      "No baseline correction applied\n",
      "0 projection items activated\n",
      "Using data from preloaded Raw for 1705 events and 751 original time points ...\n",
      "    Rejecting  epoch based on EEG : ['T7']\n",
      "    Rejecting  epoch based on EEG : ['FT9', 'T7', 'P7', 'O1', 'Oz', 'O2']\n",
      "    Rejecting  epoch based on EEG : ['P7', 'O1', 'Oz', 'O2']\n",
      "    Rejecting  epoch based on EEG : ['O2']\n",
      "    Rejecting  epoch based on EEG : ['F3', 'F7', 'FT9', 'FC5', 'C3', 'T7', 'CP6', 'C4', 'T8', 'FT10', 'FC6', 'F4']\n",
      "    Rejecting  epoch based on EEG : ['F3', 'F7', 'FT9', 'FC5', 'C3', 'T7', 'CP6', 'C4', 'T8', 'FT10', 'FC6', 'F4']\n",
      "    Rejecting  epoch based on EEG : ['FT9']\n",
      "    Rejecting  epoch based on EEG : ['FT9', 'T7']\n",
      "    Rejecting  epoch based on EEG : ['O1']\n",
      "    Rejecting  epoch based on EEG : ['O1']\n",
      "    Rejecting  epoch based on EEG : ['T7', 'FC6']\n",
      "    Rejecting  epoch based on EEG : ['FT9', 'T7']\n",
      "    Rejecting  epoch based on EEG : ['FT9']\n",
      "    Rejecting  epoch based on EEG : ['FT9']\n",
      "    Rejecting  epoch based on EEG : ['FT9']\n",
      "    Rejecting  epoch based on EEG : ['FT9']\n",
      "    Rejecting  epoch based on EEG : ['FC6']\n",
      "    Rejecting  epoch based on EEG : ['T8', 'FC6']\n",
      "    Rejecting  epoch based on EEG : ['FT9', 'T7', 'FT10']\n",
      "    Rejecting  epoch based on EEG : ['FT9', 'T7', 'FT10']\n",
      "    Rejecting  epoch based on EEG : ['FT9', 'T7', 'FT10']\n",
      "    Rejecting  epoch based on EEG : ['FT9']\n",
      "    Rejecting  epoch based on EEG : ['FT9']\n",
      "    Rejecting  epoch based on EEG : ['FT9']\n",
      "    Rejecting  epoch based on EEG : ['FT9']\n",
      "    Rejecting  epoch based on EEG : ['FT9', 'FC6', 'F8']\n",
      "    Rejecting  epoch based on EEG : ['O1']\n",
      "    Rejecting  epoch based on EEG : ['O1']\n",
      "    Rejecting  epoch based on EEG : ['FC6']\n",
      "    Rejecting  epoch based on EEG : ['CP6', 'C4', 'T8', 'FC6', 'F8']\n",
      "    Rejecting  epoch based on EEG : ['FT9']\n",
      "    Rejecting  epoch based on EEG : ['FT9']\n",
      "    Rejecting  epoch based on EEG : ['O1']\n",
      "    Rejecting  epoch based on EEG : ['FC6']\n",
      "    Rejecting  epoch based on EEG : ['O1']\n",
      "    Rejecting  epoch based on EEG : ['O1']\n",
      "    Rejecting  epoch based on EEG : ['O1']\n",
      "37 bad epochs dropped\n"
     ]
    },
    {
     "name": "stderr",
     "output_type": "stream",
     "text": [
      "[Parallel(n_jobs=1)]: Done  17 tasks      | elapsed:    3.6s\n",
      "[Parallel(n_jobs=1)]: Done  17 tasks      | elapsed:    0.6s\n",
      "[Parallel(n_jobs=1)]: Done  17 tasks      | elapsed:    4.3s\n",
      "[Parallel(n_jobs=1)]: Done  17 tasks      | elapsed:    0.6s\n"
     ]
    },
    {
     "name": "stdout",
     "output_type": "stream",
     "text": [
      "Opening raw data file /Users/chaohan/Library/CloudStorage/OneDrive-UniversityofToronto/Projects/Yas accent/data_preprocessed/3_ica/Yas_260_corr_prep_ica.fif...\n"
     ]
    },
    {
     "name": "stderr",
     "output_type": "stream",
     "text": [
      "/var/folders/j8/8nyf6njj5nzfjcv6s23y3nn40000gn/T/ipykernel_37645/644758328.py:15: RuntimeWarning: This filename (/Users/chaohan/Library/CloudStorage/OneDrive-UniversityofToronto/Projects/Yas accent/data_preprocessed/3_ica/Yas_260_corr_prep_ica.fif) does not conform to MNE naming conventions. All raw files should end with raw.fif, raw_sss.fif, raw_tsss.fif, _meg.fif, _eeg.fif, _ieeg.fif, raw.fif.gz, raw_sss.fif.gz, raw_tsss.fif.gz, _meg.fif.gz, _eeg.fif.gz or _ieeg.fif.gz\n",
      "  raw = mne.io.read_raw_fif(input_dir + file, preload = True)\n"
     ]
    },
    {
     "name": "stdout",
     "output_type": "stream",
     "text": [
      "    Range : 683 ... 869409 =      2.732 ...  3477.636 secs\n",
      "Ready.\n",
      "Reading 0 ... 868726  =      0.000 ...  3474.904 secs...\n",
      "EEG channel type selected for re-referencing\n",
      "Applying a custom ('EEG',) reference.\n",
      "Not setting metadata\n",
      "1657 matching events found\n",
      "No baseline correction applied\n",
      "0 projection items activated\n",
      "Using data from preloaded Raw for 1657 events and 751 original time points ...\n",
      "0 bad epochs dropped\n"
     ]
    },
    {
     "name": "stderr",
     "output_type": "stream",
     "text": [
      "[Parallel(n_jobs=1)]: Done  17 tasks      | elapsed:    3.7s\n",
      "[Parallel(n_jobs=1)]: Done  17 tasks      | elapsed:    0.6s\n",
      "[Parallel(n_jobs=1)]: Done  17 tasks      | elapsed:    3.5s\n",
      "[Parallel(n_jobs=1)]: Done  17 tasks      | elapsed:    0.6s\n"
     ]
    },
    {
     "name": "stdout",
     "output_type": "stream",
     "text": [
      "Opening raw data file /Users/chaohan/Library/CloudStorage/OneDrive-UniversityofToronto/Projects/Yas accent/data_preprocessed/3_ica/Yas_237_corr_prep_ica.fif...\n"
     ]
    },
    {
     "name": "stderr",
     "output_type": "stream",
     "text": [
      "/var/folders/j8/8nyf6njj5nzfjcv6s23y3nn40000gn/T/ipykernel_37645/644758328.py:15: RuntimeWarning: This filename (/Users/chaohan/Library/CloudStorage/OneDrive-UniversityofToronto/Projects/Yas accent/data_preprocessed/3_ica/Yas_237_corr_prep_ica.fif) does not conform to MNE naming conventions. All raw files should end with raw.fif, raw_sss.fif, raw_tsss.fif, _meg.fif, _eeg.fif, _ieeg.fif, raw.fif.gz, raw_sss.fif.gz, raw_tsss.fif.gz, _meg.fif.gz, _eeg.fif.gz or _ieeg.fif.gz\n",
      "  raw = mne.io.read_raw_fif(input_dir + file, preload = True)\n"
     ]
    },
    {
     "name": "stdout",
     "output_type": "stream",
     "text": [
      "    Range : 0 ... 857335 =      0.000 ...  3429.340 secs\n",
      "Ready.\n",
      "Reading 0 ... 857335  =      0.000 ...  3429.340 secs...\n",
      "EEG channel type selected for re-referencing\n",
      "Applying a custom ('EEG',) reference.\n",
      "Not setting metadata\n",
      "1696 matching events found\n",
      "No baseline correction applied\n",
      "0 projection items activated\n",
      "Using data from preloaded Raw for 1696 events and 751 original time points ...\n",
      "    Rejecting  epoch based on EEG : ['F3', 'F7', 'FT9', 'FC5', 'T7', 'F8']\n",
      "    Rejecting  epoch based on EEG : ['F7', 'F8']\n",
      "    Rejecting  epoch based on EEG : ['F7', 'F8']\n",
      "    Rejecting  epoch based on EEG : ['Fz', 'F3', 'F7', 'FT9', 'FC5', 'FC1', 'C3', 'T7', 'CP5', 'P3', 'P7', 'P4', 'P8', 'CP6', 'CP2', 'C4', 'T8', 'FT10', 'FC6', 'FC2', 'F4', 'F8']\n",
      "    Rejecting  epoch based on EEG : ['F3', 'F7', 'FT9', 'FC5', 'C3', 'T7', 'CP5', 'O1', 'Oz', 'F8']\n",
      "    Rejecting  epoch based on EEG : ['F3', 'F7', 'FT9', 'FC5', 'FC1', 'C3', 'T7', 'CP5', 'CP1', 'P3', 'P7', 'FT10', 'F8']\n",
      "    Rejecting  epoch based on EEG : ['Oz']\n",
      "7 bad epochs dropped\n"
     ]
    },
    {
     "name": "stderr",
     "output_type": "stream",
     "text": [
      "[Parallel(n_jobs=1)]: Done  17 tasks      | elapsed:    3.4s\n",
      "[Parallel(n_jobs=1)]: Done  17 tasks      | elapsed:    0.5s\n",
      "[Parallel(n_jobs=1)]: Done  17 tasks      | elapsed:    2.5s\n",
      "[Parallel(n_jobs=1)]: Done  17 tasks      | elapsed:    0.5s\n"
     ]
    },
    {
     "name": "stdout",
     "output_type": "stream",
     "text": [
      "Opening raw data file /Users/chaohan/Library/CloudStorage/OneDrive-UniversityofToronto/Projects/Yas accent/data_preprocessed/3_ica/Yas_198_corr_prep_ica.fif...\n",
      "    Range : 0 ... 836361 =      0.000 ...  3345.444 secs\n",
      "Ready.\n",
      "Reading 0 ... 836361  =      0.000 ...  3345.444 secs...\n"
     ]
    },
    {
     "name": "stderr",
     "output_type": "stream",
     "text": [
      "/var/folders/j8/8nyf6njj5nzfjcv6s23y3nn40000gn/T/ipykernel_37645/644758328.py:15: RuntimeWarning: This filename (/Users/chaohan/Library/CloudStorage/OneDrive-UniversityofToronto/Projects/Yas accent/data_preprocessed/3_ica/Yas_198_corr_prep_ica.fif) does not conform to MNE naming conventions. All raw files should end with raw.fif, raw_sss.fif, raw_tsss.fif, _meg.fif, _eeg.fif, _ieeg.fif, raw.fif.gz, raw_sss.fif.gz, raw_tsss.fif.gz, _meg.fif.gz, _eeg.fif.gz or _ieeg.fif.gz\n",
      "  raw = mne.io.read_raw_fif(input_dir + file, preload = True)\n"
     ]
    },
    {
     "name": "stdout",
     "output_type": "stream",
     "text": [
      "EEG channel type selected for re-referencing\n",
      "Applying a custom ('EEG',) reference.\n",
      "Not setting metadata\n",
      "1641 matching events found\n",
      "No baseline correction applied\n",
      "0 projection items activated\n",
      "Using data from preloaded Raw for 1641 events and 751 original time points ...\n",
      "    Rejecting  epoch based on EEG : ['FC5']\n",
      "    Rejecting  epoch based on EEG : ['FC6']\n",
      "    Rejecting  epoch based on EEG : ['FC6']\n",
      "    Rejecting  epoch based on EEG : ['FC6']\n",
      "    Rejecting  epoch based on EEG : ['FC6']\n",
      "    Rejecting  epoch based on EEG : ['C4']\n",
      "    Rejecting  epoch based on EEG : ['C4']\n",
      "    Rejecting  epoch based on EEG : ['C4']\n",
      "    Rejecting  epoch based on EEG : ['C4']\n",
      "    Rejecting  epoch based on EEG : ['FT9']\n",
      "    Rejecting  epoch based on EEG : ['F3', 'FT9', 'FC5', 'C3', 'T7', 'CP5']\n",
      "    Rejecting  epoch based on EEG : ['F3', 'FT9', 'FC5', 'C3', 'T7', 'CP5']\n",
      "    Rejecting  epoch based on EEG : ['FT9']\n",
      "    Rejecting  epoch based on EEG : ['FT9']\n",
      "    Rejecting  epoch based on EEG : ['FT9']\n",
      "    Rejecting  epoch based on EEG : ['FT9']\n",
      "    Rejecting  epoch based on EEG : ['FT9', 'FC6', 'F4']\n",
      "    Rejecting  epoch based on EEG : ['FC6', 'F4']\n",
      "    Rejecting  epoch based on EEG : ['CP1', 'Cz']\n",
      "    Rejecting  epoch based on EEG : ['FT9']\n",
      "    Rejecting  epoch based on EEG : ['F3', 'FC5']\n",
      "    Rejecting  epoch based on EEG : ['F3', 'FC5']\n",
      "    Rejecting  epoch based on EEG : ['Fz', 'CP1', 'Pz', 'P3', 'CP2', 'Cz']\n",
      "    Rejecting  epoch based on EEG : ['FT9', 'F4', 'F8']\n",
      "    Rejecting  epoch based on EEG : ['FT9', 'F4', 'F8']\n",
      "    Rejecting  epoch based on EEG : ['F3', 'F7', 'FT9', 'FC5', 'FC1', 'C3', 'T7', 'CP5', 'CP1', 'FT10', 'F4', 'F8']\n",
      "    Rejecting  epoch based on EEG : ['F7', 'FT9', 'T7', 'P8', 'CP6', 'C4', 'T8', 'FT10', 'FC6', 'FC2', 'F4', 'F8']\n",
      "    Rejecting  epoch based on EEG : ['P8', 'CP6', 'C4', 'T8', 'FT10', 'FC6', 'FC2', 'F4', 'F8']\n",
      "    Rejecting  epoch based on EEG : ['P8', 'CP6', 'C4', 'T8', 'FT10', 'FC6', 'FC2', 'F4', 'F8']\n",
      "    Rejecting  epoch based on EEG : ['F3', 'F7', 'FT9', 'FC5', 'FC1', 'C3', 'T7', 'CP5']\n",
      "    Rejecting  epoch based on EEG : ['F3', 'F7', 'FT9', 'FC5', 'FC1', 'C3', 'T7', 'CP5']\n",
      "    Rejecting  epoch based on EEG : ['F3', 'F7', 'FC5', 'FC1', 'C3', 'T7', 'C4', 'F8']\n",
      "    Rejecting  epoch based on EEG : ['F3', 'F7', 'FC5', 'FC1', 'C3', 'T7', 'C4', 'F8']\n",
      "    Rejecting  epoch based on EEG : ['FT9']\n",
      "    Rejecting  epoch based on EEG : ['FT9']\n",
      "    Rejecting  epoch based on EEG : ['CP6', 'C4', 'T8', 'FT10', 'FC6', 'FC2', 'F4', 'F8']\n",
      "    Rejecting  epoch based on EEG : ['FT9', 'CP6', 'C4', 'T8', 'FT10', 'FC6', 'FC2', 'F4', 'F8']\n",
      "    Rejecting  epoch based on EEG : ['FT9', 'CP6', 'C4', 'T8', 'FT10', 'FC6', 'FC2', 'F4', 'F8']\n",
      "    Rejecting  epoch based on EEG : ['CP6', 'C4', 'T8', 'FT10', 'FC6', 'FC2', 'F4', 'F8']\n",
      "    Rejecting  epoch based on EEG : ['CP6', 'C4', 'T8', 'FT10', 'FC6', 'FC2', 'F4', 'F8']\n",
      "    Rejecting  epoch based on EEG : ['FT9', 'FC6']\n",
      "    Rejecting  epoch based on EEG : ['FT9', 'FC6']\n",
      "    Rejecting  epoch based on EEG : ['C4']\n",
      "    Rejecting  epoch based on EEG : ['C4']\n",
      "    Rejecting  epoch based on EEG : ['P8', 'CP6', 'C4', 'T8', 'FT10', 'FC6', 'F4']\n",
      "    Rejecting  epoch based on EEG : ['P8', 'CP6', 'C4', 'T8', 'FT10', 'FC6', 'F4']\n",
      "    Rejecting  epoch based on EEG : ['FT9']\n",
      "    Rejecting  epoch based on EEG : ['FT9']\n",
      "    Rejecting  epoch based on EEG : ['CP6', 'T8', 'FT10', 'FC6']\n",
      "    Rejecting  epoch based on EEG : ['CP6', 'T8', 'FT10', 'FC6']\n",
      "50 bad epochs dropped\n"
     ]
    },
    {
     "name": "stderr",
     "output_type": "stream",
     "text": [
      "[Parallel(n_jobs=1)]: Done  17 tasks      | elapsed:    2.8s\n",
      "[Parallel(n_jobs=1)]: Done  17 tasks      | elapsed:    0.4s\n",
      "[Parallel(n_jobs=1)]: Done  17 tasks      | elapsed:    2.6s\n",
      "[Parallel(n_jobs=1)]: Done  17 tasks      | elapsed:    0.4s\n"
     ]
    },
    {
     "name": "stdout",
     "output_type": "stream",
     "text": [
      "Opening raw data file /Users/chaohan/Library/CloudStorage/OneDrive-UniversityofToronto/Projects/Yas accent/data_preprocessed/3_ica/Yas_148_corr_prep_ica.fif...\n",
      "    Range : 6808 ... 896247 =     27.232 ...  3584.988 secs\n",
      "Ready.\n"
     ]
    },
    {
     "name": "stderr",
     "output_type": "stream",
     "text": [
      "/var/folders/j8/8nyf6njj5nzfjcv6s23y3nn40000gn/T/ipykernel_37645/644758328.py:15: RuntimeWarning: This filename (/Users/chaohan/Library/CloudStorage/OneDrive-UniversityofToronto/Projects/Yas accent/data_preprocessed/3_ica/Yas_148_corr_prep_ica.fif) does not conform to MNE naming conventions. All raw files should end with raw.fif, raw_sss.fif, raw_tsss.fif, _meg.fif, _eeg.fif, _ieeg.fif, raw.fif.gz, raw_sss.fif.gz, raw_tsss.fif.gz, _meg.fif.gz, _eeg.fif.gz or _ieeg.fif.gz\n",
      "  raw = mne.io.read_raw_fif(input_dir + file, preload = True)\n"
     ]
    },
    {
     "name": "stdout",
     "output_type": "stream",
     "text": [
      "Reading 0 ... 889439  =      0.000 ...  3557.756 secs...\n",
      "EEG channel type selected for re-referencing\n",
      "Applying a custom ('EEG',) reference.\n",
      "Not setting metadata\n",
      "1738 matching events found\n",
      "No baseline correction applied\n",
      "0 projection items activated\n",
      "Using data from preloaded Raw for 1738 events and 751 original time points ...\n",
      "    Rejecting  epoch based on EEG : ['Fz', 'F3', 'F7', 'FT9', 'FC5', 'FC1', 'C3', 'T7', 'CP5', 'CP1', 'F4']\n",
      "    Rejecting  epoch based on EEG : ['Fz', 'F3', 'F7', 'FT9', 'FC5', 'FC1', 'C3', 'T7', 'CP5', 'CP1', 'F4']\n",
      "    Rejecting  epoch based on EEG : ['F4']\n",
      "    Rejecting  epoch based on EEG : ['F4']\n",
      "    Rejecting  epoch based on EEG : ['Fz', 'F3', 'F7', 'FT9', 'FC5', 'FC1', 'C3', 'T7', 'CP5', 'CP1', 'P3', 'P7', 'Cz', 'C4', 'FT10', 'FC2', 'F4', 'F8']\n",
      "    Rejecting  epoch based on EEG : ['Fz', 'F3', 'F7', 'FT9', 'FC5', 'FC1', 'C3', 'T7', 'CP5', 'CP1', 'P3', 'P7', 'Cz', 'C4', 'FT10', 'FC2', 'F4', 'F8']\n",
      "    Rejecting  epoch based on EEG : ['Fz', 'F3', 'F7', 'FT9', 'FC5', 'FC1', 'C3', 'T7', 'CP5', 'CP1', 'P3', 'P7', 'Cz', 'C4', 'T8', 'FT10', 'FC6', 'FC2', 'F4', 'F8']\n",
      "    Rejecting  epoch based on EEG : ['Fz', 'F3', 'F7', 'FT9', 'FC5', 'FC1', 'C3', 'T7', 'CP5', 'CP1', 'P3', 'P7', 'CP6', 'Cz', 'C4', 'T8', 'FT10', 'FC6', 'FC2', 'F4', 'F8']\n",
      "    Rejecting  epoch based on EEG : ['Fz', 'F3', 'F7', 'FT9', 'FC5', 'FC1', 'C3', 'T7', 'CP5', 'CP1', 'P3', 'P7', 'Cz', 'C4', 'T8', 'FT10', 'FC6', 'FC2', 'F4', 'F8']\n",
      "    Rejecting  epoch based on EEG : ['F4']\n",
      "    Rejecting  epoch based on EEG : ['Fz', 'F3', 'F4']\n",
      "    Rejecting  epoch based on EEG : ['F3', 'F7', 'FT9', 'FC5', 'FC1', 'C3', 'T7', 'CP5', 'F4', 'F8']\n",
      "    Rejecting  epoch based on EEG : ['F3', 'F7', 'FT9', 'FC5', 'FC1', 'C3', 'T7', 'CP5', 'FT10', 'F4', 'F8']\n",
      "    Rejecting  epoch based on EEG : ['F3', 'F7', 'FT9', 'FC5', 'FC1', 'C3', 'T7', 'CP5', 'FT10', 'F4', 'F8']\n",
      "    Rejecting  epoch based on EEG : ['F3', 'FT9', 'FC5', 'C3', 'CP5', 'F4']\n",
      "    Rejecting  epoch based on EEG : ['F3', 'F7', 'FT9', 'FC5', 'FC1', 'C3', 'T7', 'CP5', 'F4']\n",
      "    Rejecting  epoch based on EEG : ['Fz', 'F3', 'F4', 'F8']\n",
      "    Rejecting  epoch based on EEG : ['Fz', 'F3', 'F4', 'F8']\n",
      "    Rejecting  epoch based on EEG : ['Fz', 'F3', 'F4']\n",
      "    Rejecting  epoch based on EEG : ['Fz', 'F3', 'F4']\n",
      "    Rejecting  epoch based on EEG : ['Fz', 'F3', 'F4']\n",
      "    Rejecting  epoch based on EEG : ['Fz', 'F4']\n",
      "    Rejecting  epoch based on EEG : ['Fz', 'F4']\n",
      "23 bad epochs dropped\n"
     ]
    },
    {
     "name": "stderr",
     "output_type": "stream",
     "text": [
      "[Parallel(n_jobs=1)]: Done  17 tasks      | elapsed:    2.9s\n",
      "[Parallel(n_jobs=1)]: Done  17 tasks      | elapsed:    0.4s\n",
      "[Parallel(n_jobs=1)]: Done  17 tasks      | elapsed:    2.6s\n",
      "[Parallel(n_jobs=1)]: Done  17 tasks      | elapsed:    0.5s\n"
     ]
    },
    {
     "name": "stdout",
     "output_type": "stream",
     "text": [
      "Opening raw data file /Users/chaohan/Library/CloudStorage/OneDrive-UniversityofToronto/Projects/Yas accent/data_preprocessed/3_ica/Yas_106_corr_prep_ica.fif...\n",
      "    Range : 12574 ... 867667 =     50.296 ...  3470.668 secs\n",
      "Ready.\n",
      "Reading 0 ... 855093  =      0.000 ...  3420.372 secs...\n"
     ]
    },
    {
     "name": "stderr",
     "output_type": "stream",
     "text": [
      "/var/folders/j8/8nyf6njj5nzfjcv6s23y3nn40000gn/T/ipykernel_37645/644758328.py:15: RuntimeWarning: This filename (/Users/chaohan/Library/CloudStorage/OneDrive-UniversityofToronto/Projects/Yas accent/data_preprocessed/3_ica/Yas_106_corr_prep_ica.fif) does not conform to MNE naming conventions. All raw files should end with raw.fif, raw_sss.fif, raw_tsss.fif, _meg.fif, _eeg.fif, _ieeg.fif, raw.fif.gz, raw_sss.fif.gz, raw_tsss.fif.gz, _meg.fif.gz, _eeg.fif.gz or _ieeg.fif.gz\n",
      "  raw = mne.io.read_raw_fif(input_dir + file, preload = True)\n"
     ]
    },
    {
     "name": "stdout",
     "output_type": "stream",
     "text": [
      "EEG channel type selected for re-referencing\n",
      "Applying a custom ('EEG',) reference.\n",
      "Not setting metadata\n",
      "1687 matching events found\n",
      "No baseline correction applied\n",
      "0 projection items activated\n",
      "Using data from preloaded Raw for 1687 events and 751 original time points ...\n",
      "    Rejecting  epoch based on EEG : ['FC5']\n",
      "    Rejecting  epoch based on EEG : ['FC5']\n",
      "    Rejecting  epoch based on EEG : ['F7', 'FT9', 'P4', 'P8', 'CP6', 'CP2', 'C4', 'T8', 'FT10', 'FC6', 'FC2', 'F4', 'F8']\n",
      "    Rejecting  epoch based on EEG : ['F7', 'FT9', 'P4', 'P8', 'CP6', 'CP2', 'C4', 'T8', 'FT10', 'FC6', 'FC2', 'F4', 'F8']\n",
      "    Rejecting  epoch based on EEG : ['FC5']\n",
      "    Rejecting  epoch based on EEG : ['FC5', 'T7', 'P4', 'P8', 'CP6', 'CP2', 'C4', 'T8', 'FT10', 'FC6', 'FC2', 'F4', 'F8']\n",
      "    Rejecting  epoch based on EEG : ['FC5']\n",
      "    Rejecting  epoch based on EEG : ['FC5']\n",
      "    Rejecting  epoch based on EEG : ['F3', 'F7', 'FT9', 'FC5', 'C3', 'T7', 'CP5', 'P4', 'P8', 'CP6', 'CP2', 'C4', 'T8', 'FT10', 'FC6', 'FC2', 'F4', 'F8']\n",
      "    Rejecting  epoch based on EEG : ['F3', 'F7', 'FT9', 'FC5', 'C3', 'T7', 'CP5', 'P4', 'P8', 'CP6', 'CP2', 'C4', 'T8', 'FT10', 'FC6', 'FC2', 'F4', 'F8']\n",
      "    Rejecting  epoch based on EEG : ['FC5']\n",
      "    Rejecting  epoch based on EEG : ['FC5']\n",
      "    Rejecting  epoch based on EEG : ['O1', 'Oz']\n",
      "    Rejecting  epoch based on EEG : ['O1', 'Oz']\n",
      "    Rejecting  epoch based on EEG : ['O1', 'Oz']\n",
      "    Rejecting  epoch based on EEG : ['F7', 'FT9', 'P4', 'P8', 'CP6', 'CP2', 'C4', 'T8', 'FT10', 'FC6', 'FC2', 'F4', 'F8']\n",
      "    Rejecting  epoch based on EEG : ['F7', 'FT9', 'P4', 'P8', 'CP6', 'CP2', 'C4', 'T8', 'FT10', 'FC6', 'FC2', 'F4', 'F8']\n",
      "    Rejecting  epoch based on EEG : ['FC5']\n",
      "    Rejecting  epoch based on EEG : ['FC5']\n",
      "    Rejecting  epoch based on EEG : ['CP6', 'C4', 'T8', 'FC6']\n",
      "    Rejecting  epoch based on EEG : ['CP6', 'C4', 'T8', 'FC6']\n",
      "    Rejecting  epoch based on EEG : ['F3', 'F7', 'FT9', 'FC5', 'T7', 'P4', 'P8', 'CP6', 'CP2', 'C4', 'T8', 'FT10', 'FC6', 'FC2', 'F4', 'F8']\n",
      "    Rejecting  epoch based on EEG : ['C4', 'FC6']\n",
      "    Rejecting  epoch based on EEG : ['C4', 'FC6']\n",
      "    Rejecting  epoch based on EEG : ['F3', 'FT9', 'FC5', 'C3', 'T7', 'CP5', 'CP6', 'C4', 'FT10', 'FC6', 'F8']\n",
      "    Rejecting  epoch based on EEG : ['F3', 'FT9', 'FC5', 'C3', 'T7', 'CP5', 'CP6', 'C4', 'FT10', 'FC6', 'F8']\n",
      "    Rejecting  epoch based on EEG : ['FT9', 'FC5', 'C3', 'T7', 'CP5']\n",
      "    Rejecting  epoch based on EEG : ['F4']\n",
      "    Rejecting  epoch based on EEG : ['F4']\n",
      "    Rejecting  epoch based on EEG : ['FC5']\n",
      "    Rejecting  epoch based on EEG : ['FC5']\n",
      "    Rejecting  epoch based on EEG : ['FT9', 'FC5', 'C3', 'T7', 'CP5', 'C4', 'F4']\n",
      "    Rejecting  epoch based on EEG : ['FT9', 'FC5', 'C3', 'T7', 'CP5', 'C4', 'F4']\n",
      "    Rejecting  epoch based on EEG : ['FC5', 'T7', 'CP5']\n",
      "    Rejecting  epoch based on EEG : ['FC5', 'T7', 'CP5']\n",
      "    Rejecting  epoch based on EEG : ['FT9', 'FC5', 'CP5', 'FC6']\n",
      "    Rejecting  epoch based on EEG : ['FT9', 'FC5', 'CP5', 'FC6']\n",
      "    Rejecting  epoch based on EEG : ['F4']\n",
      "    Rejecting  epoch based on EEG : ['F4', 'F8']\n",
      "    Rejecting  epoch based on EEG : ['F4', 'F8']\n",
      "    Rejecting  epoch based on EEG : ['CP6', 'C4', 'FC6']\n",
      "    Rejecting  epoch based on EEG : ['CP6', 'C4', 'FC6']\n",
      "    Rejecting  epoch based on EEG : ['Fz', 'F3', 'F7', 'FT9', 'FC5', 'FC1', 'C3', 'T7', 'CP5', 'CP1', 'Pz', 'P3', 'P7', 'O1', 'Oz', 'O2', 'P4', 'TP10', 'CP6', 'CP2', 'Cz', 'C4', 'T8', 'FT10', 'FC6', 'FC2', 'F4', 'F8', 'TP9']\n",
      "    Rejecting  epoch based on EEG : ['Fz', 'F3', 'F7', 'FT9', 'FC5', 'FC1', 'C3', 'T7', 'CP5', 'CP1', 'Pz', 'P3', 'P7', 'O1', 'Oz', 'O2', 'P4', 'TP10', 'CP6', 'CP2', 'Cz', 'C4', 'T8', 'FT10', 'FC6', 'FC2', 'F4', 'F8', 'TP9']\n",
      "    Rejecting  epoch based on EEG : ['FT9', 'FC5', 'C3', 'T7', 'CP5', 'CP1', 'Pz', 'P3', 'P7', 'P4', 'CP6']\n",
      "    Rejecting  epoch based on EEG : ['O2']\n",
      "    Rejecting  epoch based on EEG : ['T7', 'O2']\n",
      "    Rejecting  epoch based on EEG : ['T7']\n",
      "    Rejecting  epoch based on EEG : ['T7']\n",
      "    Rejecting  epoch based on EEG : ['T7']\n",
      "    Rejecting  epoch based on EEG : ['FC5']\n",
      "    Rejecting  epoch based on EEG : ['CP6', 'C4', 'T8', 'FT10', 'FC6', 'FC2', 'F4', 'F8']\n",
      "    Rejecting  epoch based on EEG : ['P7']\n",
      "    Rejecting  epoch based on EEG : ['P7']\n",
      "    Rejecting  epoch based on EEG : ['FC5', 'T7']\n",
      "    Rejecting  epoch based on EEG : ['FT9', 'FC5', 'C3', 'T7', 'CP5', 'P4', 'P8', 'CP6', 'CP2', 'C4', 'T8', 'FT10', 'FC6', 'FC2', 'F4', 'F8']\n",
      "    Rejecting  epoch based on EEG : ['FC5', 'T7', 'CP5']\n",
      "    Rejecting  epoch based on EEG : ['CP6', 'C4', 'T8', 'FT10', 'FC6', 'F4', 'F8']\n",
      "    Rejecting  epoch based on EEG : ['Oz', 'O2', 'P4', 'P8', 'CP6', 'C4', 'T8', 'FT10', 'FC6', 'FC2', 'F4', 'F8']\n",
      "    Rejecting  epoch based on EEG : ['Oz', 'O2', 'P4', 'P8', 'CP6', 'C4', 'T8', 'FT10', 'FC6', 'FC2', 'F4', 'F8']\n",
      "    Rejecting  epoch based on EEG : ['FC5']\n",
      "    Rejecting  epoch based on EEG : ['CP6']\n",
      "    Rejecting  epoch based on EEG : ['CP6']\n",
      "    Rejecting  epoch based on EEG : ['FC5', 'CP6', 'C4', 'T8', 'FT10', 'FC6']\n",
      "    Rejecting  epoch based on EEG : ['FT9', 'FC5', 'C3', 'T7', 'CP5', 'CP6', 'C4', 'T8', 'FT10', 'FC6', 'FC2', 'F4', 'F8']\n",
      "    Rejecting  epoch based on EEG : ['FT9', 'FC5', 'C3', 'T7', 'CP5', 'CP6', 'C4', 'T8', 'FT10', 'FC6', 'FC2', 'F4', 'F8']\n",
      "    Rejecting  epoch based on EEG : ['FC5', 'C3', 'T7', 'CP5', 'FC6']\n",
      "    Rejecting  epoch based on EEG : ['FC5', 'C3', 'CP5']\n",
      "    Rejecting  epoch based on EEG : ['F7', 'FT9', 'T7', 'P4', 'P8', 'CP6', 'CP2', 'Cz', 'C4', 'T8', 'FT10', 'FC6', 'FC2', 'F4', 'F8']\n",
      "    Rejecting  epoch based on EEG : ['F7', 'FT9', 'FC5', 'T7', 'P4', 'P8', 'CP6', 'CP2', 'Cz', 'C4', 'T8', 'FT10', 'FC6', 'FC2', 'F4', 'F8']\n",
      "    Rejecting  epoch based on EEG : ['F7', 'FT9', 'FC5', 'T7', 'P4', 'P8', 'CP6', 'CP2', 'Cz', 'C4', 'T8', 'FT10', 'FC6', 'FC2', 'F4', 'F8']\n",
      "71 bad epochs dropped\n"
     ]
    },
    {
     "name": "stderr",
     "output_type": "stream",
     "text": [
      "[Parallel(n_jobs=1)]: Done  17 tasks      | elapsed:    2.6s\n",
      "[Parallel(n_jobs=1)]: Done  17 tasks      | elapsed:    0.4s\n",
      "[Parallel(n_jobs=1)]: Done  17 tasks      | elapsed:    2.6s\n",
      "[Parallel(n_jobs=1)]: Done  17 tasks      | elapsed:    0.5s\n"
     ]
    },
    {
     "name": "stdout",
     "output_type": "stream",
     "text": [
      "Opening raw data file /Users/chaohan/Library/CloudStorage/OneDrive-UniversityofToronto/Projects/Yas accent/data_preprocessed/3_ica/Yas_251_corr_prep_ica.fif...\n",
      "    Range : 0 ... 869999 =      0.000 ...  3479.996 secs\n",
      "Ready.\n"
     ]
    },
    {
     "name": "stderr",
     "output_type": "stream",
     "text": [
      "/var/folders/j8/8nyf6njj5nzfjcv6s23y3nn40000gn/T/ipykernel_37645/644758328.py:15: RuntimeWarning: This filename (/Users/chaohan/Library/CloudStorage/OneDrive-UniversityofToronto/Projects/Yas accent/data_preprocessed/3_ica/Yas_251_corr_prep_ica.fif) does not conform to MNE naming conventions. All raw files should end with raw.fif, raw_sss.fif, raw_tsss.fif, _meg.fif, _eeg.fif, _ieeg.fif, raw.fif.gz, raw_sss.fif.gz, raw_tsss.fif.gz, _meg.fif.gz, _eeg.fif.gz or _ieeg.fif.gz\n",
      "  raw = mne.io.read_raw_fif(input_dir + file, preload = True)\n"
     ]
    },
    {
     "name": "stdout",
     "output_type": "stream",
     "text": [
      "Reading 0 ... 869999  =      0.000 ...  3479.996 secs...\n",
      "EEG channel type selected for re-referencing\n",
      "Applying a custom ('EEG',) reference.\n",
      "Not setting metadata\n",
      "1691 matching events found\n",
      "No baseline correction applied\n",
      "0 projection items activated\n",
      "Using data from preloaded Raw for 1691 events and 751 original time points ...\n",
      "    Rejecting  epoch based on EEG : ['C3', 'T7', 'CP5']\n",
      "    Rejecting  epoch based on EEG : ['C3', 'T7', 'CP5']\n",
      "    Rejecting  epoch based on EEG : ['C3', 'T7', 'CP6', 'C4']\n",
      "    Rejecting  epoch based on EEG : ['C3', 'T7', 'CP6', 'C4']\n",
      "    Rejecting  epoch based on EEG : ['F3', 'F7', 'FC1', 'C3', 'T7', 'CP5', 'P3', 'F8']\n",
      "    Rejecting  epoch based on EEG : ['C3', 'T7', 'CP5', 'P3', 'CP6', 'C4']\n",
      "    Rejecting  epoch based on EEG : ['C3', 'T7', 'CP5', 'P3', 'CP6', 'C4']\n",
      "    Rejecting  epoch based on EEG : ['F3', 'F7', 'FC1', 'C3', 'T7', 'CP5', 'P3', 'P7', 'C4', 'FT10', 'F8']\n",
      "    Rejecting  epoch based on EEG : ['F3', 'F7', 'FC1', 'C3', 'T7', 'CP5', 'P3', 'P7', 'C4', 'FT10', 'F8']\n",
      "    Rejecting  epoch based on EEG : ['T7', 'CP6']\n",
      "    Rejecting  epoch based on EEG : ['C3', 'T7', 'CP5', 'CP6', 'C4', 'FT10']\n",
      "    Rejecting  epoch based on EEG : ['C3', 'T7', 'CP5', 'CP6', 'C4', 'FT10']\n",
      "    Rejecting  epoch based on EEG : ['C3', 'T7', 'CP5']\n",
      "    Rejecting  epoch based on EEG : ['F3', 'F7', 'C3', 'T7', 'CP5', 'P3', 'CP6', 'C4', 'FT10', 'F8']\n",
      "    Rejecting  epoch based on EEG : ['F3', 'F7', 'C3', 'T7', 'CP5', 'P3', 'CP6', 'C4', 'FT10', 'F8']\n",
      "    Rejecting  epoch based on EEG : ['C3', 'CP5', 'CP6']\n",
      "    Rejecting  epoch based on EEG : ['CP5']\n",
      "    Rejecting  epoch based on EEG : ['CP6']\n",
      "    Rejecting  epoch based on EEG : ['CP6']\n",
      "    Rejecting  epoch based on EEG : ['C3', 'T7', 'CP5']\n",
      "    Rejecting  epoch based on EEG : ['C3', 'T7', 'CP5', 'CP6', 'C4']\n",
      "    Rejecting  epoch based on EEG : ['C3', 'T7', 'CP5', 'CP6', 'C4']\n",
      "    Rejecting  epoch based on EEG : ['CP6', 'C4']\n",
      "    Rejecting  epoch based on EEG : ['CP6', 'C4']\n",
      "    Rejecting  epoch based on EEG : ['F3', 'F7', 'C3', 'T7', 'CP5', 'P3', 'P7', 'CP6', 'C4', 'FT10', 'FC6', 'F8']\n",
      "    Rejecting  epoch based on EEG : ['C3', 'T7', 'CP5', 'P7', 'CP6']\n",
      "    Rejecting  epoch based on EEG : ['CP6', 'C4']\n",
      "    Rejecting  epoch based on EEG : ['F3', 'F7', 'P4', 'P8', 'CP6', 'C4', 'FC6', 'F8']\n",
      "    Rejecting  epoch based on EEG : ['F3', 'F7', 'P4', 'P8', 'CP6', 'C4', 'FC6', 'F8']\n",
      "    Rejecting  epoch based on EEG : ['C3', 'CP5', 'P7']\n",
      "    Rejecting  epoch based on EEG : ['C3', 'CP5', 'P7']\n",
      "    Rejecting  epoch based on EEG : ['F3', 'F7', 'C3', 'CP5', 'F8']\n",
      "    Rejecting  epoch based on EEG : ['CP6']\n",
      "    Rejecting  epoch based on EEG : ['P4', 'P8', 'CP6', 'CP2', 'C4', 'FT10', 'FC2']\n",
      "    Rejecting  epoch based on EEG : ['P4', 'P8', 'CP6', 'CP2', 'C4', 'FT10', 'FC2']\n",
      "    Rejecting  epoch based on EEG : ['P4', 'P8', 'CP6', 'C4']\n",
      "    Rejecting  epoch based on EEG : ['C3', 'CP5']\n",
      "    Rejecting  epoch based on EEG : ['C3', 'CP5']\n",
      "    Rejecting  epoch based on EEG : ['F7', 'P8', 'CP6']\n",
      "    Rejecting  epoch based on EEG : ['F7', 'P8', 'CP6']\n",
      "    Rejecting  epoch based on EEG : ['F7', 'CP6', 'FC6', 'F8']\n",
      "    Rejecting  epoch based on EEG : ['P8']\n",
      "    Rejecting  epoch based on EEG : ['T7']\n",
      "    Rejecting  epoch based on EEG : ['T7']\n",
      "    Rejecting  epoch based on EEG : ['T7']\n",
      "    Rejecting  epoch based on EEG : ['T7']\n",
      "    Rejecting  epoch based on EEG : ['Fz', 'F3', 'F7', 'FC5', 'P8', 'CP6', 'C4', 'FC6', 'F8']\n",
      "    Rejecting  epoch based on EEG : ['F3', 'C3', 'T7', 'CP5', 'P3', 'P7']\n",
      "    Rejecting  epoch based on EEG : ['F3', 'C3', 'T7', 'CP5', 'P3', 'P7']\n",
      "    Rejecting  epoch based on EEG : ['C3']\n",
      "    Rejecting  epoch based on EEG : ['F7', 'FC6', 'F8']\n",
      "    Rejecting  epoch based on EEG : ['Fz', 'F3', 'F7', 'FC5', 'FC1', 'C3', 'T7', 'CP5', 'CP1', 'Pz', 'P7', 'P4', 'P8', 'CP6', 'CP2', 'Cz', 'C4', 'FC6', 'FC2', 'F4', 'F8']\n",
      "    Rejecting  epoch based on EEG : ['Fz', 'F3', 'F7', 'FC5', 'FC1', 'C3', 'T7', 'CP5', 'P7', 'P4', 'P8', 'CP6', 'CP2', 'C4', 'FC6', 'FC2', 'F4', 'F8']\n",
      "    Rejecting  epoch based on EEG : ['Fz', 'F3', 'F7', 'FC5', 'FC1', 'P4', 'P8', 'CP6', 'CP2', 'C4', 'FC6', 'FC2', 'F8']\n",
      "    Rejecting  epoch based on EEG : ['F3', 'FC1', 'C3', 'T7', 'CP5', 'CP1', 'P3', 'P7']\n",
      "    Rejecting  epoch based on EEG : ['F3', 'FC1', 'C3', 'T7', 'CP5', 'CP1', 'P3', 'P7']\n",
      "    Rejecting  epoch based on EEG : ['CP5']\n",
      "    Rejecting  epoch based on EEG : ['F3', 'F7', 'FC1', 'C3', 'T7', 'CP5', 'CP1', 'F8']\n",
      "    Rejecting  epoch based on EEG : ['F3', 'F7', 'FC1', 'C3', 'T7', 'CP5', 'CP1', 'F8']\n",
      "    Rejecting  epoch based on EEG : ['T7', 'CP5', 'P7']\n",
      "    Rejecting  epoch based on EEG : ['CP6']\n",
      "    Rejecting  epoch based on EEG : ['CP5', 'CP6']\n",
      "    Rejecting  epoch based on EEG : ['C3', 'T7', 'CP5', 'CP6']\n",
      "    Rejecting  epoch based on EEG : ['C3', 'T7', 'CP5']\n",
      "    Rejecting  epoch based on EEG : ['Fz', 'F3', 'F7', 'FC5', 'T7', 'CP5', 'P7', 'P8', 'CP6', 'F4', 'F8']\n",
      "    Rejecting  epoch based on EEG : ['Fz', 'F3', 'F7', 'FC5', 'T7', 'CP5', 'P7', 'P8', 'CP6', 'F4', 'F8']\n",
      "    Rejecting  epoch based on EEG : ['F3', 'F7', 'FC1', 'C3', 'T7', 'CP5']\n",
      "    Rejecting  epoch based on EEG : ['F3', 'F7', 'FC1', 'C3', 'T7', 'CP5']\n",
      "    Rejecting  epoch based on EEG : ['C3', 'CP5']\n",
      "    Rejecting  epoch based on EEG : ['C3']\n",
      "    Rejecting  epoch based on EEG : ['C3']\n",
      "    Rejecting  epoch based on EEG : ['T7', 'CP5', 'P3', 'P7', 'O1', 'Oz', 'O2', 'P4', 'P8', 'CP6', 'CP2', 'C4', 'FT10', 'FC6', 'FC2', 'F8']\n",
      "    Rejecting  epoch based on EEG : ['T7', 'CP5', 'P3', 'P7', 'O1', 'Oz', 'O2', 'P4', 'P8', 'CP6', 'CP2', 'C4', 'FT10', 'FC6', 'FC2', 'F8']\n",
      "    Rejecting  epoch based on EEG : ['F7', 'C3', 'CP5', 'P7', 'C4', 'F4']\n",
      "    Rejecting  epoch based on EEG : ['F7', 'CP5', 'P8', 'CP6', 'FC6', 'F8']\n",
      "    Rejecting  epoch based on EEG : ['F7', 'CP5', 'P8', 'CP6', 'FC6', 'F8']\n",
      "    Rejecting  epoch based on EEG : ['F3', 'F7', 'FC5', 'CP6', 'C4', 'FC6', 'F8']\n",
      "    Rejecting  epoch based on EEG : ['CP6', 'C4']\n",
      "    Rejecting  epoch based on EEG : ['F3', 'F7', 'CP6', 'C4', 'FC6', 'F8']\n",
      "    Rejecting  epoch based on EEG : ['F3', 'F7', 'CP6', 'FC6', 'F8']\n",
      "    Rejecting  epoch based on EEG : ['Fz', 'F3', 'F7', 'FC5', 'FC1', 'C3', 'T7', 'CP5', 'CP1', 'Pz', 'P3', 'P7', 'P4', 'P8', 'TP10', 'CP6', 'CP2', 'Cz', 'C4', 'FC6', 'FC2', 'F4', 'F8', 'TP9']\n",
      "    Rejecting  epoch based on EEG : ['Fz', 'F3', 'F7', 'FC5', 'FC1', 'C3', 'T7', 'CP5', 'CP1', 'Pz', 'P3', 'P7', 'P4', 'P8', 'TP10', 'CP6', 'CP2', 'Cz', 'C4', 'FC6', 'FC2', 'F4', 'F8', 'TP9']\n",
      "    Rejecting  epoch based on EEG : ['F7', 'C3', 'T7', 'CP5', 'F8']\n",
      "    Rejecting  epoch based on EEG : ['F7', 'C3', 'T7', 'CP5', 'F8']\n",
      "    Rejecting  epoch based on EEG : ['T7', 'P8', 'CP6']\n",
      "    Rejecting  epoch based on EEG : ['T7', 'P8', 'CP6']\n",
      "    Rejecting  epoch based on EEG : ['T7']\n",
      "    Rejecting  epoch based on EEG : ['T7']\n",
      "88 bad epochs dropped\n"
     ]
    },
    {
     "name": "stderr",
     "output_type": "stream",
     "text": [
      "[Parallel(n_jobs=1)]: Done  17 tasks      | elapsed:    3.1s\n",
      "[Parallel(n_jobs=1)]: Done  17 tasks      | elapsed:    0.6s\n",
      "[Parallel(n_jobs=1)]: Done  17 tasks      | elapsed:    2.7s\n",
      "[Parallel(n_jobs=1)]: Done  17 tasks      | elapsed:    0.5s\n"
     ]
    },
    {
     "name": "stdout",
     "output_type": "stream",
     "text": [
      "Opening raw data file /Users/chaohan/Library/CloudStorage/OneDrive-UniversityofToronto/Projects/Yas accent/data_preprocessed/3_ica/Yas_203_corr_prep_ica.fif...\n"
     ]
    },
    {
     "name": "stderr",
     "output_type": "stream",
     "text": [
      "/var/folders/j8/8nyf6njj5nzfjcv6s23y3nn40000gn/T/ipykernel_37645/644758328.py:15: RuntimeWarning: This filename (/Users/chaohan/Library/CloudStorage/OneDrive-UniversityofToronto/Projects/Yas accent/data_preprocessed/3_ica/Yas_203_corr_prep_ica.fif) does not conform to MNE naming conventions. All raw files should end with raw.fif, raw_sss.fif, raw_tsss.fif, _meg.fif, _eeg.fif, _ieeg.fif, raw.fif.gz, raw_sss.fif.gz, raw_tsss.fif.gz, _meg.fif.gz, _eeg.fif.gz or _ieeg.fif.gz\n",
      "  raw = mne.io.read_raw_fif(input_dir + file, preload = True)\n"
     ]
    },
    {
     "name": "stdout",
     "output_type": "stream",
     "text": [
      "    Range : 1190 ... 842011 =      4.760 ...  3368.044 secs\n",
      "Ready.\n",
      "Reading 0 ... 840821  =      0.000 ...  3363.284 secs...\n",
      "EEG channel type selected for re-referencing\n",
      "Applying a custom ('EEG',) reference.\n",
      "Not setting metadata\n",
      "1656 matching events found\n",
      "No baseline correction applied\n",
      "0 projection items activated\n",
      "Using data from preloaded Raw for 1656 events and 751 original time points ...\n",
      "    Rejecting  epoch based on EEG : ['Pz']\n",
      "1 bad epochs dropped\n"
     ]
    },
    {
     "name": "stderr",
     "output_type": "stream",
     "text": [
      "[Parallel(n_jobs=1)]: Done  17 tasks      | elapsed:    2.8s\n",
      "[Parallel(n_jobs=1)]: Done  17 tasks      | elapsed:    0.5s\n",
      "[Parallel(n_jobs=1)]: Done  17 tasks      | elapsed:    2.9s\n",
      "[Parallel(n_jobs=1)]: Done  17 tasks      | elapsed:    0.5s\n"
     ]
    },
    {
     "name": "stdout",
     "output_type": "stream",
     "text": [
      "Opening raw data file /Users/chaohan/Library/CloudStorage/OneDrive-UniversityofToronto/Projects/Yas accent/data_preprocessed/3_ica/Yas_184_corr_prep_ica.fif...\n",
      "    Range : 0 ... 898919 =      0.000 ...  3595.676 secs\n",
      "Ready.\n"
     ]
    },
    {
     "name": "stderr",
     "output_type": "stream",
     "text": [
      "/var/folders/j8/8nyf6njj5nzfjcv6s23y3nn40000gn/T/ipykernel_37645/644758328.py:15: RuntimeWarning: This filename (/Users/chaohan/Library/CloudStorage/OneDrive-UniversityofToronto/Projects/Yas accent/data_preprocessed/3_ica/Yas_184_corr_prep_ica.fif) does not conform to MNE naming conventions. All raw files should end with raw.fif, raw_sss.fif, raw_tsss.fif, _meg.fif, _eeg.fif, _ieeg.fif, raw.fif.gz, raw_sss.fif.gz, raw_tsss.fif.gz, _meg.fif.gz, _eeg.fif.gz or _ieeg.fif.gz\n",
      "  raw = mne.io.read_raw_fif(input_dir + file, preload = True)\n"
     ]
    },
    {
     "name": "stdout",
     "output_type": "stream",
     "text": [
      "Reading 0 ... 898919  =      0.000 ...  3595.676 secs...\n",
      "EEG channel type selected for re-referencing\n",
      "Applying a custom ('EEG',) reference.\n",
      "Not setting metadata\n",
      "1657 matching events found\n",
      "No baseline correction applied\n",
      "0 projection items activated\n",
      "Using data from preloaded Raw for 1657 events and 751 original time points ...\n",
      "    Rejecting  epoch based on EEG : ['P8', 'FT10']\n",
      "    Rejecting  epoch based on EEG : ['P8', 'FT10']\n",
      "    Rejecting  epoch based on EEG : ['FC6']\n",
      "    Rejecting  epoch based on EEG : ['FC6']\n",
      "    Rejecting  epoch based on EEG : ['FC6']\n",
      "    Rejecting  epoch based on EEG : ['FC6']\n",
      "    Rejecting  epoch based on EEG : ['FC6']\n",
      "    Rejecting  epoch based on EEG : ['C4', 'FC6', 'FC2', 'F4']\n",
      "    Rejecting  epoch based on EEG : ['Fz', 'F3', 'F7', 'FT9', 'FC5', 'FC1', 'C3', 'T7', 'CP5', 'P4', 'CP6', 'CP2', 'Cz', 'C4', 'T8', 'FT10', 'FC6', 'FC2', 'F4', 'F8']\n",
      "    Rejecting  epoch based on EEG : ['Fz', 'F3', 'F7', 'FT9', 'FC5', 'FC1', 'C3', 'T7', 'CP5', 'P4', 'CP6', 'CP2', 'Cz', 'C4', 'T8', 'FT10', 'FC6', 'FC2', 'F4', 'F8']\n",
      "    Rejecting  epoch based on EEG : ['CP6', 'C4', 'FC6', 'FC2', 'F4']\n",
      "    Rejecting  epoch based on EEG : ['C4', 'F4']\n",
      "    Rejecting  epoch based on EEG : ['C4', 'F4']\n",
      "    Rejecting  epoch based on EEG : ['CP6', 'C4', 'FC6', 'FC2', 'F4', 'F8']\n",
      "    Rejecting  epoch based on EEG : ['CP6', 'C4', 'FC6', 'FC2', 'F4', 'F8']\n",
      "    Rejecting  epoch based on EEG : ['C4', 'F4']\n",
      "    Rejecting  epoch based on EEG : ['CP6', 'C4', 'FC2', 'F4', 'F8']\n",
      "    Rejecting  epoch based on EEG : ['FC5', 'C3', 'CP5', 'CP6', 'C4', 'F8']\n",
      "    Rejecting  epoch based on EEG : ['FC5', 'C3', 'CP5', 'CP6', 'C4', 'F8']\n",
      "    Rejecting  epoch based on EEG : ['F4']\n",
      "    Rejecting  epoch based on EEG : ['F4']\n",
      "    Rejecting  epoch based on EEG : ['CP6', 'C4', 'FC6', 'FC2', 'F4']\n",
      "    Rejecting  epoch based on EEG : ['CP6', 'C4', 'FC6', 'FC2', 'F4']\n",
      "    Rejecting  epoch based on EEG : ['F4']\n",
      "    Rejecting  epoch based on EEG : ['CP5']\n",
      "    Rejecting  epoch based on EEG : ['CP5']\n",
      "    Rejecting  epoch based on EEG : ['CP6', 'C4', 'FT10', 'FC6', 'FC2', 'F4', 'F8']\n",
      "    Rejecting  epoch based on EEG : ['CP6', 'C4', 'FT10', 'FC6', 'FC2', 'F4', 'F8']\n",
      "    Rejecting  epoch based on EEG : ['F4']\n",
      "    Rejecting  epoch based on EEG : ['F4']\n",
      "    Rejecting  epoch based on EEG : ['F4']\n",
      "    Rejecting  epoch based on EEG : ['CP5', 'CP6', 'C4', 'FC6']\n",
      "    Rejecting  epoch based on EEG : ['C3', 'CP5']\n",
      "    Rejecting  epoch based on EEG : ['C3', 'CP5', 'FC6']\n",
      "    Rejecting  epoch based on EEG : ['FC6']\n",
      "    Rejecting  epoch based on EEG : ['CP6', 'C4', 'FC6', 'F4']\n",
      "    Rejecting  epoch based on EEG : ['CP6', 'C4', 'FC6', 'F4']\n",
      "    Rejecting  epoch based on EEG : ['FC6', 'F4']\n",
      "    Rejecting  epoch based on EEG : ['FC6', 'F4']\n",
      "    Rejecting  epoch based on EEG : ['CP6']\n",
      "    Rejecting  epoch based on EEG : ['CP5', 'CP6', 'C4', 'FC6', 'FC2', 'F4', 'F8']\n",
      "    Rejecting  epoch based on EEG : ['Fz', 'F3', 'FC5', 'FC1', 'C3', 'CP5', 'P4', 'CP6', 'CP2', 'C4', 'FT10', 'FC6', 'FC2', 'F4', 'F8']\n",
      "    Rejecting  epoch based on EEG : ['Fz', 'F3', 'FC5', 'FC1', 'C3', 'CP5', 'P4', 'CP6', 'CP2', 'C4', 'FT10', 'FC6', 'FC2', 'F4', 'F8']\n",
      "43 bad epochs dropped\n"
     ]
    },
    {
     "name": "stderr",
     "output_type": "stream",
     "text": [
      "[Parallel(n_jobs=1)]: Done  17 tasks      | elapsed:    3.0s\n",
      "[Parallel(n_jobs=1)]: Done  17 tasks      | elapsed:    0.5s\n",
      "[Parallel(n_jobs=1)]: Done  17 tasks      | elapsed:    2.7s\n",
      "[Parallel(n_jobs=1)]: Done  17 tasks      | elapsed:    0.5s\n"
     ]
    },
    {
     "name": "stdout",
     "output_type": "stream",
     "text": [
      "Opening raw data file /Users/chaohan/Library/CloudStorage/OneDrive-UniversityofToronto/Projects/Yas accent/data_preprocessed/3_ica/Yas_132_corr_prep_ica.fif...\n",
      "    Range : 10599 ... 860090 =     42.396 ...  3440.360 secs\n",
      "Ready.\n",
      "Reading 0 ... 849491  =      0.000 ...  3397.964 secs...\n"
     ]
    },
    {
     "name": "stderr",
     "output_type": "stream",
     "text": [
      "/var/folders/j8/8nyf6njj5nzfjcv6s23y3nn40000gn/T/ipykernel_37645/644758328.py:15: RuntimeWarning: This filename (/Users/chaohan/Library/CloudStorage/OneDrive-UniversityofToronto/Projects/Yas accent/data_preprocessed/3_ica/Yas_132_corr_prep_ica.fif) does not conform to MNE naming conventions. All raw files should end with raw.fif, raw_sss.fif, raw_tsss.fif, _meg.fif, _eeg.fif, _ieeg.fif, raw.fif.gz, raw_sss.fif.gz, raw_tsss.fif.gz, _meg.fif.gz, _eeg.fif.gz or _ieeg.fif.gz\n",
      "  raw = mne.io.read_raw_fif(input_dir + file, preload = True)\n"
     ]
    },
    {
     "name": "stdout",
     "output_type": "stream",
     "text": [
      "EEG channel type selected for re-referencing\n",
      "Applying a custom ('EEG',) reference.\n",
      "Not setting metadata\n",
      "1618 matching events found\n",
      "No baseline correction applied\n",
      "0 projection items activated\n",
      "Using data from preloaded Raw for 1618 events and 751 original time points ...\n",
      "    Rejecting  epoch based on EEG : ['FC5']\n",
      "    Rejecting  epoch based on EEG : ['FC5']\n",
      "2 bad epochs dropped\n"
     ]
    },
    {
     "name": "stderr",
     "output_type": "stream",
     "text": [
      "[Parallel(n_jobs=1)]: Done  17 tasks      | elapsed:    2.9s\n",
      "[Parallel(n_jobs=1)]: Done  17 tasks      | elapsed:    0.5s\n",
      "[Parallel(n_jobs=1)]: Done  17 tasks      | elapsed:    2.7s\n",
      "[Parallel(n_jobs=1)]: Done  17 tasks      | elapsed:    0.5s\n"
     ]
    },
    {
     "name": "stdout",
     "output_type": "stream",
     "text": [
      "Opening raw data file /Users/chaohan/Library/CloudStorage/OneDrive-UniversityofToronto/Projects/Yas accent/data_preprocessed/3_ica/Yas_265_corr_prep_ica.fif...\n",
      "    Range : 0 ... 838511 =      0.000 ...  3354.044 secs\n",
      "Ready.\n",
      "Reading 0 ... 838511  =      0.000 ...  3354.044 secs...\n"
     ]
    },
    {
     "name": "stderr",
     "output_type": "stream",
     "text": [
      "/var/folders/j8/8nyf6njj5nzfjcv6s23y3nn40000gn/T/ipykernel_37645/644758328.py:15: RuntimeWarning: This filename (/Users/chaohan/Library/CloudStorage/OneDrive-UniversityofToronto/Projects/Yas accent/data_preprocessed/3_ica/Yas_265_corr_prep_ica.fif) does not conform to MNE naming conventions. All raw files should end with raw.fif, raw_sss.fif, raw_tsss.fif, _meg.fif, _eeg.fif, _ieeg.fif, raw.fif.gz, raw_sss.fif.gz, raw_tsss.fif.gz, _meg.fif.gz, _eeg.fif.gz or _ieeg.fif.gz\n",
      "  raw = mne.io.read_raw_fif(input_dir + file, preload = True)\n"
     ]
    },
    {
     "name": "stdout",
     "output_type": "stream",
     "text": [
      "EEG channel type selected for re-referencing\n",
      "Applying a custom ('EEG',) reference.\n",
      "Not setting metadata\n",
      "1657 matching events found\n",
      "No baseline correction applied\n",
      "0 projection items activated\n",
      "Using data from preloaded Raw for 1657 events and 751 original time points ...\n",
      "    Rejecting  epoch based on EEG : ['P8']\n",
      "    Rejecting  epoch based on EEG : ['P8']\n",
      "    Rejecting  epoch based on EEG : ['CP6', 'C4', 'FT10']\n",
      "    Rejecting  epoch based on EEG : ['CP6', 'C4', 'FT10']\n",
      "    Rejecting  epoch based on EEG : ['CP6', 'C4']\n",
      "    Rejecting  epoch based on EEG : ['C4']\n",
      "    Rejecting  epoch based on EEG : ['P7', 'P8']\n",
      "    Rejecting  epoch based on EEG : ['FT9', 'T7']\n",
      "    Rejecting  epoch based on EEG : ['FT9', 'T7']\n",
      "    Rejecting  epoch based on EEG : ['CP6', 'C4', 'FT10']\n",
      "    Rejecting  epoch based on EEG : ['CP6', 'C4', 'FT10']\n",
      "    Rejecting  epoch based on EEG : ['C4']\n",
      "    Rejecting  epoch based on EEG : ['C4']\n",
      "    Rejecting  epoch based on EEG : ['O1', 'C4']\n",
      "    Rejecting  epoch based on EEG : ['O1', 'CP6', 'C4']\n",
      "    Rejecting  epoch based on EEG : ['CP6', 'C4', 'FT10']\n",
      "    Rejecting  epoch based on EEG : ['O1', 'C4']\n",
      "    Rejecting  epoch based on EEG : ['O1']\n",
      "    Rejecting  epoch based on EEG : ['C4']\n",
      "    Rejecting  epoch based on EEG : ['C4']\n",
      "    Rejecting  epoch based on EEG : ['CP6', 'C4', 'FT10']\n",
      "    Rejecting  epoch based on EEG : ['CP6', 'C4', 'FT10']\n",
      "    Rejecting  epoch based on EEG : ['C4']\n",
      "    Rejecting  epoch based on EEG : ['FT9', 'T7']\n",
      "    Rejecting  epoch based on EEG : ['O1']\n",
      "    Rejecting  epoch based on EEG : ['CP6', 'C4']\n",
      "    Rejecting  epoch based on EEG : ['CP6', 'C4']\n",
      "    Rejecting  epoch based on EEG : ['O1']\n",
      "    Rejecting  epoch based on EEG : ['O1']\n",
      "    Rejecting  epoch based on EEG : ['C4']\n",
      "    Rejecting  epoch based on EEG : ['C4']\n",
      "    Rejecting  epoch based on EEG : ['CP6', 'C4']\n",
      "    Rejecting  epoch based on EEG : ['CP6', 'C4']\n",
      "    Rejecting  epoch based on EEG : ['CP6', 'C4', 'FT10', 'F8']\n",
      "    Rejecting  epoch based on EEG : ['CP6', 'C4', 'FT10']\n",
      "    Rejecting  epoch based on EEG : ['T7', 'CP5', 'P7', 'O1', 'P8']\n",
      "    Rejecting  epoch based on EEG : ['T7', 'CP5', 'P7', 'O1', 'Oz', 'P8']\n",
      "    Rejecting  epoch based on EEG : ['CP5', 'P7', 'O1', 'Oz', 'P8']\n",
      "    Rejecting  epoch based on EEG : ['P7', 'O1']\n",
      "    Rejecting  epoch based on EEG : ['P7', 'O1', 'Oz', 'P8']\n",
      "    Rejecting  epoch based on EEG : ['Fz', 'F3', 'F7', 'T7', 'CP5', 'P3', 'P7', 'O1', 'Oz', 'O2', 'P8', 'FC6', 'FC2', 'F4', 'F8']\n",
      "    Rejecting  epoch based on EEG : ['Fz', 'F3', 'F7', 'T7', 'CP5', 'P3', 'P7', 'O1', 'Oz', 'O2', 'P8', 'FC6', 'FC2', 'F4', 'F8']\n",
      "    Rejecting  epoch based on EEG : ['P7']\n",
      "    Rejecting  epoch based on EEG : ['O1']\n",
      "    Rejecting  epoch based on EEG : ['O1']\n",
      "    Rejecting  epoch based on EEG : ['C4']\n",
      "    Rejecting  epoch based on EEG : ['C4']\n",
      "    Rejecting  epoch based on EEG : ['P8']\n",
      "    Rejecting  epoch based on EEG : ['CP6', 'C4', 'FT10', 'F8']\n",
      "    Rejecting  epoch based on EEG : ['CP6', 'C4', 'FT10', 'F8']\n",
      "    Rejecting  epoch based on EEG : ['C4']\n",
      "    Rejecting  epoch based on EEG : ['Fz', 'F3', 'F7', 'FT9', 'FC5', 'FC1', 'C3', 'T7', 'CP5', 'CP1', 'Pz', 'P3', 'P7', 'O1', 'Oz', 'O2', 'P8', 'TP10', 'CP6', 'Cz', 'C4', 'FC6', 'FC2', 'F4', 'F8', 'TP9']\n",
      "    Rejecting  epoch based on EEG : ['FT9']\n",
      "    Rejecting  epoch based on EEG : ['FT9']\n",
      "    Rejecting  epoch based on EEG : ['C4']\n",
      "    Rejecting  epoch based on EEG : ['P7']\n",
      "    Rejecting  epoch based on EEG : ['P7']\n",
      "    Rejecting  epoch based on EEG : ['O1']\n",
      "    Rejecting  epoch based on EEG : ['P7']\n",
      "    Rejecting  epoch based on EEG : ['P7']\n",
      "    Rejecting  epoch based on EEG : ['FT9', 'T7', 'C4']\n",
      "    Rejecting  epoch based on EEG : ['C4']\n",
      "    Rejecting  epoch based on EEG : ['FT9', 'T7']\n",
      "    Rejecting  epoch based on EEG : ['FT9', 'T7']\n",
      "    Rejecting  epoch based on EEG : ['P7']\n",
      "    Rejecting  epoch based on EEG : ['P7']\n",
      "    Rejecting  epoch based on EEG : ['FT9', 'T7']\n",
      "    Rejecting  epoch based on EEG : ['C4', 'F8']\n",
      "    Rejecting  epoch based on EEG : ['C4', 'F8']\n",
      "    Rejecting  epoch based on EEG : ['C4']\n",
      "    Rejecting  epoch based on EEG : ['CP6', 'C4', 'FT10']\n",
      "    Rejecting  epoch based on EEG : ['O1']\n",
      "    Rejecting  epoch based on EEG : ['O1']\n",
      "    Rejecting  epoch based on EEG : ['C4']\n",
      "    Rejecting  epoch based on EEG : ['C4']\n",
      "    Rejecting  epoch based on EEG : ['P7']\n",
      "    Rejecting  epoch based on EEG : ['P7']\n",
      "    Rejecting  epoch based on EEG : ['P7', 'C4']\n",
      "    Rejecting  epoch based on EEG : ['P7', 'C4']\n",
      "    Rejecting  epoch based on EEG : ['P7', 'O1']\n",
      "    Rejecting  epoch based on EEG : ['O1', 'P8']\n",
      "    Rejecting  epoch based on EEG : ['P7', 'P8', 'CP6']\n",
      "    Rejecting  epoch based on EEG : ['P7', 'P8', 'CP6']\n",
      "    Rejecting  epoch based on EEG : ['P7', 'P8']\n",
      "    Rejecting  epoch based on EEG : ['P8', 'C4']\n",
      "    Rejecting  epoch based on EEG : ['CP5', 'P7', 'P8']\n",
      "    Rejecting  epoch based on EEG : ['CP5', 'P7', 'P8']\n",
      "    Rejecting  epoch based on EEG : ['C4']\n",
      "    Rejecting  epoch based on EEG : ['P7', 'C4']\n",
      "    Rejecting  epoch based on EEG : ['P7']\n",
      "    Rejecting  epoch based on EEG : ['P7']\n",
      "    Rejecting  epoch based on EEG : ['P7']\n",
      "    Rejecting  epoch based on EEG : ['P7', 'C4', 'F8']\n",
      "    Rejecting  epoch based on EEG : ['P7', 'O1', 'Oz']\n",
      "    Rejecting  epoch based on EEG : ['P7', 'O1', 'Oz']\n",
      "    Rejecting  epoch based on EEG : ['C4', 'FT10']\n",
      "    Rejecting  epoch based on EEG : ['C4']\n",
      "    Rejecting  epoch based on EEG : ['FT9', 'T7', 'P7', 'O1']\n",
      "    Rejecting  epoch based on EEG : ['FT9', 'FC1', 'T7']\n",
      "    Rejecting  epoch based on EEG : ['FT9', 'T7']\n",
      "    Rejecting  epoch based on EEG : ['P7']\n",
      "    Rejecting  epoch based on EEG : ['Fz', 'F3', 'F7', 'FC5', 'T7', 'CP5', 'P3', 'P7', 'O1', 'Oz', 'P8', 'CP6', 'FT10', 'FC6', 'F4', 'F8']\n",
      "    Rejecting  epoch based on EEG : ['Fz', 'F3', 'F7', 'FC5', 'FC1', 'C3', 'T7', 'CP5', 'P3', 'P7', 'O1', 'Oz', 'O2', 'P8', 'CP6', 'C4', 'FT10', 'FC6', 'FC2', 'F4', 'F8']\n",
      "    Rejecting  epoch based on EEG : ['Fz', 'FT9', 'T7', 'P7', 'O1', 'P8', 'CP6', 'C4', 'FT10', 'FC2', 'F4', 'F8']\n",
      "    Rejecting  epoch based on EEG : ['FT9', 'T7', 'P7', 'O1', 'P8', 'CP6', 'C4', 'FT10', 'F8']\n",
      "    Rejecting  epoch based on EEG : ['C4']\n",
      "    Rejecting  epoch based on EEG : ['C4']\n",
      "    Rejecting  epoch based on EEG : ['O1']\n",
      "    Rejecting  epoch based on EEG : ['O1']\n",
      "    Rejecting  epoch based on EEG : ['C4']\n",
      "    Rejecting  epoch based on EEG : ['C4']\n",
      "    Rejecting  epoch based on EEG : ['P7', 'P8']\n",
      "    Rejecting  epoch based on EEG : ['P7', 'CP6', 'C4']\n",
      "    Rejecting  epoch based on EEG : ['CP6', 'C4']\n",
      "    Rejecting  epoch based on EEG : ['O1']\n",
      "    Rejecting  epoch based on EEG : ['FT9', 'FC1', 'T7', 'P7', 'O1', 'Oz', 'F8']\n",
      "    Rejecting  epoch based on EEG : ['FT9', 'FC1', 'C3', 'T7', 'P7', 'O1', 'Oz', 'CP6', 'C4', 'FC2', 'F4', 'F8']\n",
      "    Rejecting  epoch based on EEG : ['FT9', 'T7', 'P7', 'CP6', 'C4', 'F8']\n",
      "    Rejecting  epoch based on EEG : ['C4']\n",
      "    Rejecting  epoch based on EEG : ['C4']\n",
      "120 bad epochs dropped\n"
     ]
    },
    {
     "name": "stderr",
     "output_type": "stream",
     "text": [
      "[Parallel(n_jobs=1)]: Done  17 tasks      | elapsed:    2.9s\n",
      "[Parallel(n_jobs=1)]: Done  17 tasks      | elapsed:    0.5s\n",
      "[Parallel(n_jobs=1)]: Done  17 tasks      | elapsed:    2.2s\n",
      "[Parallel(n_jobs=1)]: Done  17 tasks      | elapsed:    0.4s\n"
     ]
    }
   ],
   "source": [
    "# initialize a list for subjects with too many bad trials\n",
    "too_many_bad_trial_participants = []\n",
    "\n",
    "# get file names\n",
    "all_input = os.listdir(input_dir)\n",
    "all_output = os.listdir(output_dir)\n",
    "\n",
    "\n",
    "#### re-reference, and epoch ####\n",
    "for file in all_input:\n",
    "    \n",
    "    if file.endswith(\"ica.fif\") and (file.split('.')[0] + '_tfr.hdf5' not in all_output):\n",
    "        \n",
    "        # read in data\n",
    "        raw = mne.io.read_raw_fif(input_dir + file, preload = True)\n",
    "        \n",
    "        # average-mastoids re-reference\n",
    "        raw.set_eeg_reference(ref_channels = ['TP9', 'TP10'])\n",
    "        \n",
    "        #### this is for source calculation ####\n",
    "        # filter the data, optional\n",
    "        # raw = raw.filter(l_freq=None, h_freq=30) \n",
    "\n",
    "        # sphere = mne.make_sphere_model('auto', 'auto', raw.info)\n",
    "        # src = mne.setup_volume_source_space(sphere=sphere, exclude=30., pos=15.)\n",
    "        # forward = mne.make_forward_solution(raw.info, trans=None, src=src, bem=sphere)\n",
    "        # raw = raw.set_eeg_reference('REST', forward=forward)\n",
    "        ########################################\n",
    "\n",
    "        # pick EEG channels\n",
    "        # picks = mne.pick_types(raw.info, eeg = True)\n",
    "        \n",
    "        # get event info for segmentation\n",
    "        events_from_annot, event_dict = mne.events_from_annotations(raw, verbose='WARNING')\n",
    "        \n",
    "        # segmentation for ERP\n",
    "        epochs = mne.Epochs(\n",
    "            raw,\n",
    "            events = events_from_annot, event_id = event_dict,\n",
    "            tmin = epoch_t_start, tmax = epoch_t_end,\n",
    "            # apply baseline correction\n",
    "            baseline = epoch_baseline,\n",
    "            # remove epochs that meet the rejection criteria\n",
    "            reject = reject_criteria,\n",
    "            preload = True,\n",
    "        )\n",
    "\n",
    "\n",
    "        # for each event, remove 0 trial events, record info, and check if a subject is bad\n",
    "        for k, v in event_dict.items():\n",
    "\n",
    "            # good trial count\n",
    "            trial_count = len(epochs[k])\n",
    "\n",
    "            # remove 0 trial event\n",
    "            if trial_count==0:\n",
    "                del epochs.event_id[k]\n",
    "\n",
    "            # good trial rate\n",
    "            goodTrial_rate = round( trial_count/sum(events_from_annot[:,2]==v), 2 )\n",
    "            \n",
    "            # record epoch summary\n",
    "            with open(output_dir + 'epoch_summary.txt', 'a+') as f:\n",
    "                _ =f.write(file.split('_')[1] + '\\t' + k + '\\t' + str(trial_count) + '\\t' + str(goodTrial_rate) + '\\n')\n",
    "                \n",
    "            # mark a participant bad if any condition has fewer than 1/2 trials\n",
    "            if ( goodTrial_rate < 0.5 ):\n",
    "                # mark the subject file as bad\n",
    "                if file.split('_')[1] not in too_many_bad_trial_participants:\n",
    "                    too_many_bad_trial_participants.append(file.split('_')[1])\n",
    "\n",
    "\n",
    "        # ERSP\n",
    "\n",
    "        # initialize tfrs list\n",
    "        tfrs = []\n",
    "        \n",
    "        for condition in condition_list:\n",
    "            # compute ERSP\n",
    "            power = epochs[condition].compute_tfr(\n",
    "                method=tfr_method,\n",
    "                freqs=freqs,\n",
    "                n_cycles=n_cycles,\n",
    "                # return_itc=True,\n",
    "                decim=3,\n",
    "                # average=True,\n",
    "            )\n",
    "            \n",
    "            # # normalization\n",
    "            # # power.apply_baseline(mode=\"logratio\", baseline=tfr_baseline)\n",
    "            # power.apply_baseline(mode=\"ratio\", baseline=tfr_baseline)\n",
    "            \n",
    "            # average\n",
    "            power = power.average(method = 'mean', dim = 'epochs')\n",
    "            \n",
    "            # add comment\n",
    "            power.comment = condition\n",
    "\n",
    "            tfrs.append(power)\n",
    "            \n",
    "        # save single subject file\n",
    "        mne.time_frequency.write_tfrs(fname=output_dir + file.split('.')[0] + '_tfr.hdf5', \n",
    "                                      tfr=tfrs)\n",
    "\n",
    "\n",
    "# export the record of bad subjects for ERP\n",
    "with open(output_dir + 'too_many_bad_trial_participants.txt', 'w') as file:\n",
    "    # Write each item in the list to the file\n",
    "    for item in too_many_bad_trial_participants:\n",
    "        file.write(item + '\\n')\n",
    "\n",
    "# release memory\n",
    "del power, tfrs"
   ]
  },
  {
   "cell_type": "code",
   "execution_count": null,
   "id": "5d77bc57-37c6-4a82-ada6-489589b4ac58",
   "metadata": {},
   "outputs": [],
   "source": []
  }
 ],
 "metadata": {
  "kernelspec": {
   "display_name": "Python 3 (ipykernel)",
   "language": "python",
   "name": "python3"
  },
  "language_info": {
   "codemirror_mode": {
    "name": "ipython",
    "version": 3
   },
   "file_extension": ".py",
   "mimetype": "text/x-python",
   "name": "python",
   "nbconvert_exporter": "python",
   "pygments_lexer": "ipython3",
   "version": "3.12.7"
  }
 },
 "nbformat": 4,
 "nbformat_minor": 5
}
